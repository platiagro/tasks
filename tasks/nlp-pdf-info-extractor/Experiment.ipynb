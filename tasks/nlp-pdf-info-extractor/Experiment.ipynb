{
 "cells": [
  {
   "cell_type": "markdown",
   "metadata": {},
   "source": [
    "# Extração de texto em Relatórios Fundação ABC - Experimento\n",
    "\n",
    "Preencha aqui com detalhes sobre a tarefa.<br>\n",
    "### **Em caso de dúvidas, consulte os [tutoriais da PlatIAgro](https://platiagro.github.io/tutorials/).**"
   ]
  },
  {
   "cell_type": "markdown",
   "metadata": {},
   "source": [
    "## Declaração de parâmetros e hiperparâmetros\n",
    "\n",
    "Declare parâmetros com o botão <img src=\"data:image/png;base64,iVBORw0KGgoAAAANSUhEUgAAABQAAAAUCAYAAACNiR0NAAABhWlDQ1BJQ0MgcHJvZmlsZQAAKJF9kT1Iw0AcxV9TtaIVBzuIOASpThb8QhylikWwUNoKrTqYXPohNGlIUlwcBdeCgx+LVQcXZ10dXAVB8APEydFJ0UVK/F9SaBHjwXE/3t173L0DhFqJqWbbGKBqlpGMRcVMdkUMvKID3QhiCOMSM/V4aiENz/F1Dx9f7yI8y/vcn6NHyZkM8InEs0w3LOJ14ulNS+e8TxxiRUkhPiceNeiCxI9cl11+41xwWOCZISOdnCMOEYuFFpZbmBUNlXiKOKyoGuULGZcVzluc1VKFNe7JXxjMacsprtMcRAyLiCMBETIq2EAJFiK0aqSYSNJ+1MM/4PgT5JLJtQFGjnmUoUJy/OB/8LtbMz854SYFo0D7i21/DAOBXaBete3vY9uunwD+Z+BKa/rLNWDmk/RqUwsfAb3bwMV1U5P3gMsdoP9JlwzJkfw0hXweeD+jb8oCfbdA16rbW2Mfpw9AmrpaugEODoGRAmWveby7s7W3f880+vsBocZyukMJsmwAAAAGYktHRAD/AP8A/6C9p5MAAAAJcEhZcwAADdcAAA3XAUIom3gAAAAHdElNRQfkBgsMIwnXL7c0AAACDUlEQVQ4y92UP4gTQRTGf29zJxhJZ2NxbMBKziYWlmJ/ile44Nlkd+dIYWFzItiNgoIEtFaTzF5Ac/inE/urtLWxsMqmUOwCEpt1Zmw2xxKi53XitPO9H9978+aDf/3IUQvSNG0450Yi0jXG7C/eB0cFeu9viciGiDyNoqh2KFBrHSilWstgnU7nFLBTgl+ur6/7PwK11kGe5z3n3Hul1MaiuCgKDZwALHA7z/Oe1jpYCtRaB+PxuA8kQM1aW68Kt7e3zwBp6a5b1ibj8bhfhQYVZwMRiQHrvW9nWfaqCrTWPgRWvPdvsiy7IyLXgEJE4slk8nw+T5nDgDbwE9gyxryuwpRSF5xz+0BhrT07HA4/AyRJchUYASvAbhiGaRVWLIMBYq3tAojIszkMoNRulbXtPM8HwV/sXSQi54HvQRDcO0wfhGGYArvAKjAq2wAgiqJj3vsHpbtur9f7Vi2utLx60LLW2hljEuBJOYu9OI6vAzQajRvAaeBLURSPlsBelA+VhWGYaq3dwaZvbm6+m06noYicE5ErrVbrK3AXqHvvd4bD4Ye5No7jSERGwKr3Pms2m0pr7Rb30DWbTQWYcnFvAieBT7PZbFB1V6vVfpQaU4UtDQetdTCZTC557/eA48BlY8zbRZ1SqrW2tvaxCvtt2iRJ0i9/xb4x5uJRwmNlaaaJ3AfqIvKY/+78Av++6uiSZhYMAAAAAElFTkSuQmCC\" /> na barra de ferramentas.<br>\n",
    "A variável `dataset` possui o caminho para leitura do arquivos importados na tarefa de \"Upload de dados\".<br>\n",
    "Você também pode importar arquivos com o botão <img src=\"data:image/png;base64,iVBORw0KGgoAAAANSUhEUgAAABQAAAAUCAYAAACNiR0NAAABhWlDQ1BJQ0MgcHJvZmlsZQAAKJF9kT1Iw0AcxV9TtaIVBzuIOASpThb8QhylikWwUNoKrTqYXPohNGlIUlwcBdeCgx+LVQcXZ10dXAVB8APEydFJ0UVK/F9SaBHjwXE/3t173L0DhFqJqWbbGKBqlpGMRcVMdkUMvKID3QhiCOMSM/V4aiENz/F1Dx9f7yI8y/vcn6NHyZkM8InEs0w3LOJ14ulNS+e8TxxiRUkhPiceNeiCxI9cl11+41xwWOCZISOdnCMOEYuFFpZbmBUNlXiKOKyoGuULGZcVzluc1VKFNe7JXxjMacsprtMcRAyLiCMBETIq2EAJFiK0aqSYSNJ+1MM/4PgT5JLJtQFGjnmUoUJy/OB/8LtbMz854SYFo0D7i21/DAOBXaBete3vY9uunwD+Z+BKa/rLNWDmk/RqUwsfAb3bwMV1U5P3gMsdoP9JlwzJkfw0hXweeD+jb8oCfbdA16rbW2Mfpw9AmrpaugEODoGRAmWveby7s7W3f880+vsBocZyukMJsmwAAAAGYktHRAD/AP8A/6C9p5MAAAAJcEhZcwAADdcAAA3XAUIom3gAAAAHdElNRQfkBgsOBy6ASTeXAAAC/0lEQVQ4y5WUT2gcdRTHP29m99B23Uiq6dZisgoWCxVJW0oL9dqLfyhCvGWY2YUBI95MsXgwFISirQcLhS5hfgk5CF3wJIhFI7aHNsL2VFZFik1jS1qkiZKdTTKZ3/MyDWuz0fQLc/m99/vMvDfv+4RMlUrlkKqeAAaBAWAP8DSgwJ/AXRG5rao/WWsvTU5O3qKLBMD3fSMiPluXFZEPoyj67PGAMzw83PeEMABHVT/oGpiamnoAmCcEWhH5tFsgF4bh9oWFhfeKxeJ5a+0JVT0oImWgBPQCKfAQuAvcBq67rltX1b+6ApMkKRcKhe9V9QLwbavV+qRer692Sx4ZGSnEcXw0TdP3gSrQswGYz+d/S5IkVtXTwOlCoZAGQXAfmAdagAvsAErtdnuXiDy6+023l7qNRsMODg5+CawBzwB9wFPA7mx8ns/KL2Tl3xCRz5eWlkabzebahrHxPG+v4zgnc7ncufHx8Z+Hhoa29fT0lNM03Q30ikiqqg+ttX/EcTy3WTvWgdVqtddaOw/kgXvADHBHROZVNRaRvKruUNU+EdkPfGWM+WJTYOaSt1T1LPDS/4zLWWPMaLVaPWytrYvIaBRFl/4F9H2/JCKvGmMu+76/X0QOqGoZKDmOs1NV28AicMsYc97zvFdc1/0hG6kEeNsY83UnsCwivwM3VfU7YEZE7lhr74tIK8tbnJiYWPY8b6/ruleAXR0ftQy8boyZXi85CIIICDYpc2ZgYODY3NzcHmvt1eyvP64lETkeRdE1yZyixWLx5U2c8q4x5mIQBE1g33/0d3FlZeXFR06ZttZesNZejuO4q1NE5CPgWVV9E3ij47wB1IDlJEn+ljAM86urq7+KyAtZTgqsO0VV247jnOnv7/9xbGzMViqVMVX9uANYj6LonfVtU6vVkjRNj6jqGeCXzGrPAQeA10TkuKpOz87ONrayhnIA2Qo7BZwKw3B7kiRloKSqO13Xja21C47jPNgysFO1Wi0GmtmzQap6DWgD24A1Vb3SGf8Hfstmz1CuXEIAAAAASUVORK5CYII=\" /> na barra de ferramentas."
   ]
  },
  {
   "cell_type": "code",
   "execution_count": 1,
   "metadata": {
    "tags": [
     "parameters"
    ]
   },
   "outputs": [],
   "source": [
    "dataset = \"/tmp/data/fabc_reports.zip\" #@param {type:\"string\"}\n",
    "\n",
    "doc_id = True #@param {type:\"boolean\",label:\"Id documento - Deployment\",descrition:\"Retorna coluna com os ids dos documentos em Deployment\"}\n",
    "report_name = True #@param {type:\"boolean\",label:\"Nome relatório - Deployment\",descrition:\"Retorna coluna com o nome dos relatórios em Deployment\"}\n",
    "section_name = True #@param {type:\"boolean\",label:\"Nome da seção relatórios - Deployment\",descrition:\"Retorna coluna com o nome das seções dos relatórios em Deployment\"}\n",
    "text = True #@param {type:\"boolean\",label:\"Texto - Deployment\", descrition:\"Retorna coluna de texto em Deployment\"}"
   ]
  },
  {
   "cell_type": "code",
   "execution_count": 2,
   "metadata": {},
   "outputs": [],
   "source": [
    "columns = {\"doc_id\":doc_id,\"report_name\":report_name,\"section_name\":section_name,\"text\":text}"
   ]
  },
  {
   "cell_type": "markdown",
   "metadata": {},
   "source": [
    "## Leitura do conjunto de dados\n",
    "\n",
    "O exemplo abaixo faz a leitura de dados tabulares (ex: .csv).<br>\n",
    "Modifique o código de acordo com o tipo de dado que desejar ler."
   ]
  },
  {
   "cell_type": "code",
   "execution_count": 5,
   "metadata": {},
   "outputs": [
    {
     "name": "stdout",
     "output_type": "stream",
     "text": [
      "Archive:  /tmp/data/fabc_reports.zip\n",
      "  inflating: /tmp/data/fabc_reports/fabc_reports/HB17FE01 - Seletividade dos herbicidas Gamit 360 CS, Stone, Pacto e Dual Gold aplicados na pre-emergencia.pdf  \n",
      "  inflating: /tmp/data/fabc_reports/fabc_reports/HA17FE02 - Seletividade dos herbicidas Gamit 360 CS, Stone, Pacto e Dual Gold aplicados na pre-emergencia.pdf  \n",
      "  inflating: /tmp/data/fabc_reports/fabc_reports/HB19PR_SO04 (UPL) - Seletividade dos herbicidas imazethapyr diclosulam sulfentrazone saflufenacil e s-metolachlor aplicados na pre-emergencia de cultivares de soja.pdf  \n",
      "  inflating: /tmp/data/fabc_reports/fabc_reports/HB19PR_MI13.pdf  \n",
      "  inflating: /tmp/data/fabc_reports/fabc_reports/HB19PR_MI12.pdf  \n",
      "  inflating: /tmp/data/fabc_reports/fabc_reports/HB19PR_MI12.txt  \n",
      "  inflating: /tmp/data/fabc_reports/fabc_reports/HT18CE05 - Seletividade de herbicidas inibidores da ACCase inibidores da ALS e mimetizadores de auxina aplicados na pos-emergencia das diferentes cultivares de cevada em condicao de solo argiloso.pdf  \n",
      "  inflating: /tmp/data/fabc_reports/fabc_reports/HB19PR_FE16 - Seletividade e eficacia das formulacoes de fomesafen Flex e Cardeal associadas a graminicidas para manejo de plantas daninhas na pos-emergencia da cultura do feijao.pdf  \n",
      "  inflating: /tmp/data/fabc_reports/fabc_reports/HB19PR_SO24 - Eficacia de herbicidas residuais para manejo de Ambrosia artemisiifolia na pre-emergencia da soja tolerante a glyphosate.pdf  \n",
      "  inflating: /tmp/data/fabc_reports/fabc_reports/HB19PR_SO06_SO07_SO08_SP_SO09 - Eficacia do herbicida imazethapyr associado a um inibidor da PROTOX para manejo de plantas daninhas na pre-emergencia da soja tolerante a glyphosate.pdf  \n",
      "  inflating: /tmp/data/fabc_reports/fabc_reports/HB19GO_FE07 - Eficacia de doses do fertilizante foliar Omega na dessecacao pre-colheita do feijao var. Imperador Vermelho conduzido na regiao do Cerrado.pdf  \n",
      "  inflating: /tmp/data/fabc_reports/fabc_reports/HB18ML01 - Seletividade dos herbicidas Tembotrione Mesotrione Nicosulfuron e Glyphosate aplicados em pos-emergencia em hibridos de milho na safra 20182019.pdf  \n",
      "  inflating: /tmp/data/fabc_reports/fabc_reports/HB17ML01 - Seletividade dos herbicidas Tembotrione, Mesotrione, Nicosulfuron, Glyphosate e Glufosinato aplicados em pós-emergência em híbridos de milho na safra 20172018.pdf  \n",
      "  inflating: /tmp/data/fabc_reports/fabc_reports/HB19PR_FE14 - Eficacia e seletividade dos herbicidas Poquer, Basagran, Amplo e Gladium isolados ou associados a Flex para manejo de plantas daninhas na pos-emergencia do feijao.pdf  \n",
      "  inflating: /tmp/data/fabc_reports/fabc_reports/HB19PR_SO13 - Eficacia e seletividade de diferentes formulacoes de graminicidas inibidores da ACCase no manejo de Digitaria ciliaris e Urochloa plantaginea na pos-emergencia.pdf  \n",
      "  inflating: /tmp/data/fabc_reports/fabc_reports/HDF17SO04 - Seletividade de herbicidas residuais e da associacao de imazethapyr com inibidores da PROTOX aplicados na pre-emergencia de cultivares de soja.pdf  \n",
      "  inflating: /tmp/data/fabc_reports/fabc_reports/HP18SO14 - Seletividade dos herbicidas imazethapyr diclosulam sulfentrazone saflufenacil s-metolachlor e flumioxazin aplicados na pre-emergencia de cultivares de soja em condicao de solo c.pdf  \n",
      "  inflating: /tmp/data/fabc_reports/fabc_reports/HB19PR_FE12 - Seletividade e eficacia das formulacoes de fomesafen Flex e Cardeal associadas a graminicidas para manejo de plantas daninhas na pos-emergencia da cultura do feijao.pdf  \n",
      "  inflating: /tmp/data/fabc_reports/fabc_reports/HB19PR_SO18_SO26 - Eficacia de herbicidas inibidores da PROTOX para controle de caruru (Amaranthus hybridus) resistente a glyphosate na pre-emergencia da soja.pdf  \n",
      "  inflating: /tmp/data/fabc_reports/fabc_reports/HB19PR_CE13 - Seletividade de herbicidas inibidores da ACCase inibidores da ALS e inibidores da PROTOX aplicados na pos-emergencia do cultivar de cevada Imperatriz.pdf  \n",
      "  inflating: /tmp/data/fabc_reports/fabc_reports/HB19PR_SO30 - Estadio de desenvolvimento das plantas de caruru (Amaranthus hybridus) resistente a glyphosate para manejo com inibidores da PROTOX na pos-emergencia da soja.pdf  \n",
      "  inflating: /tmp/data/fabc_reports/fabc_reports/HB19PR_MI13.txt  \n",
      "  inflating: /tmp/data/fabc_reports/fabc_reports/HB19PR_FE02 - Comparacao das formulacoes de glufosinato Finale, Fascinate e Trunfo e eficacia do fertilizante foliar Omega na dessecacao pre-colheita do feijao, var. IPR Campos Gerais.pdf  \n",
      "  inflating: /tmp/data/fabc_reports/fabc_reports/HB19PR_MI26 - Seletividade de diferentes formulacoes de nicosulfuron Sanson EVO Nicosulfuron Nortox e Kyron em associacao com Primoleo e diferentes inseticidas.pdf  \n",
      "  inflating: /tmp/data/fabc_reports/fabc_reports/HB19PR_MI30 - Performance de doses do herbicida Finale isolado ou associado a Primoleo em aplicacao unica para manejo de plantas daninhas no milho tolerante a glufosinato e glyphosate.pdf  \n",
      "  inflating: /tmp/data/fabc_reports/fabc_reports/HB19PR_MI29 - Eficacia do herbicida Sanson EVO associado a herbicidas parceiros para manejo de plantas daninhas em aplicacao unica na pos-emergencia do milho.pdf  \n",
      "  inflating: /tmp/data/fabc_reports/fabc_reports/HB19GO_SO12 - Eficacia de doses do fertilizante foliar Omega na dessecacao pre-colheita da soja cv. NS 6906 IPRO conduzido na região do Cerrado.pdf  \n",
      "  inflating: /tmp/data/fabc_reports/fabc_reports/HB19PR_MI27_MI28 - Estrategias de manejo com doses de Calaris associado a tembotrione, nicosulfuron ou glyphosate para controle de plantas daninhas na pos-emergencia do milho.pdf  \n",
      "  inflating: /tmp/data/fabc_reports/fabc_reports/HP17SO01 - Seletividade de herbicidas residuais e da associacao de imazethapyr com inibidores da PROTOX aplicados na pre-emergencia de cultivares de soja.pdf  \n",
      "  inflating: /tmp/data/fabc_reports/fabc_reports/HB19GO_SO10 - Performance de herbicidas residuais aplicados na pre-emergencia da soja para manejo de plantas daninhas na condicao do cerrado.pdf  \n",
      "  inflating: /tmp/data/fabc_reports/fabc_reports/HDF18SO08 - Seletividade dos herbicidas imazethapyr diclosulam sulfentrazone saflufenacil e s-metolachlor aplicados na pre-emergencia de cultivares de soja em condicao de solo argiloso no c.pdf  \n",
      "  inflating: /tmp/data/fabc_reports/fabc_reports/HB19PR_SO11 - Eficacia de doses do fertilizante  foliar Omega na dessecacao pre-colheita da soja cv. M5917 IPRO conduzido na regiao fria dos Campos Gerais.pdf  \n",
      "  inflating: /tmp/data/fabc_reports/fabc_reports/HB19PR_TR04_TR05 - Atualizacao no posicionamento de Moddus em cultivares de trigo para producao de grao ou de silagem e de cevada.pdf  \n",
      "  inflating: /tmp/data/fabc_reports/fabc_reports/HA17SO06 (laudo) - Seletividade dos herbicidas BAS 85800H e BAS 80400H aplicados em diferentes modalidades na pre-emergencia da soja.pdf  \n",
      "  inflating: /tmp/data/fabc_reports/fabc_reports/HB19PR_SO17 - Eficacia de herbicidas residuais para controle de caruru (Amaranthus hybridus) resistente a glyphosate na pre-emergencia da soja.pdf  \n",
      "  inflating: /tmp/data/fabc_reports/fabc_reports/HA17SO12 - Seletividade de herbicidas residuais e da associacao de imazethapyr com inibidores da PROTOX aplicados na pre-emergencia de cultivares de soja convencional em condicao de solo com 69,1% de.pdf  \n",
      "  inflating: /tmp/data/fabc_reports/fabc_reports/HB18SO16 - Seletividade dos herbicidas imazethapyr diclosulam sulfentrazone saflufenacil s-metolachlor e flumioxazin aplicados na pre-emergencia de cultivares de soja em condicao de solo com t.pdf  \n"
     ]
    }
   ],
   "source": [
    "folder = dataset.split('.')[0]\n",
    "\n",
    "!mkdir -p {folder}\n",
    "!unzip -o {dataset} -d {folder}"
   ]
  },
  {
   "cell_type": "code",
   "execution_count": null,
   "metadata": {},
   "outputs": [],
   "source": [
    "# import pandas as pd\n",
    "\n",
    "# df = pd.read_csv(folder + '/dataset.csv')\n",
    "# df"
   ]
  },
  {
   "cell_type": "markdown",
   "metadata": {},
   "source": [
    "## Conteúdo da tarefa"
   ]
  },
  {
   "cell_type": "code",
   "execution_count": 6,
   "metadata": {},
   "outputs": [],
   "source": [
    "import os\n",
    "from aux_functions import get_reports_as_dataframe\n",
    "\n",
    "data_dir = \"/tmp/data\"\n",
    "reports_dir = os.path.join(data_dir, folder.split(\"/\")[-1])\n",
    "df = get_reports_as_dataframe(reports_dir=reports_dir)"
   ]
  },
  {
   "cell_type": "code",
   "execution_count": 7,
   "metadata": {},
   "outputs": [
    {
     "data": {
      "text/html": [
       "<div>\n",
       "<style scoped>\n",
       "    .dataframe tbody tr th:only-of-type {\n",
       "        vertical-align: middle;\n",
       "    }\n",
       "\n",
       "    .dataframe tbody tr th {\n",
       "        vertical-align: top;\n",
       "    }\n",
       "\n",
       "    .dataframe thead th {\n",
       "        text-align: right;\n",
       "    }\n",
       "</style>\n",
       "<table border=\"1\" class=\"dataframe\">\n",
       "  <thead>\n",
       "    <tr style=\"text-align: right;\">\n",
       "      <th></th>\n",
       "      <th>doc_id</th>\n",
       "      <th>report_name</th>\n",
       "      <th>section_name</th>\n",
       "      <th>text</th>\n",
       "    </tr>\n",
       "  </thead>\n",
       "  <tbody>\n",
       "    <tr>\n",
       "      <th>0</th>\n",
       "      <td>0</td>\n",
       "      <td>HB19PR_SO06_SO07_SO08_SP_SO09 - Eficacia do he...</td>\n",
       "      <td>_raiz</td>\n",
       "      <td>Setor de Herbologia HERBICIDAS RESIDUAIS NA CU...</td>\n",
       "    </tr>\n",
       "    <tr>\n",
       "      <th>1</th>\n",
       "      <td>1</td>\n",
       "      <td>HB19PR_SO06_SO07_SO08_SP_SO09 - Eficacia do he...</td>\n",
       "      <td>Capítulo 1</td>\n",
       "      <td>1. IDENTIFICAÇÃO DO PROJETO</td>\n",
       "    </tr>\n",
       "    <tr>\n",
       "      <th>2</th>\n",
       "      <td>2</td>\n",
       "      <td>HB19PR_SO06_SO07_SO08_SP_SO09 - Eficacia do he...</td>\n",
       "      <td>Seção 1.1</td>\n",
       "      <td>1.1 Código do projeto: HB19PR_SO06, HB19PR_SO0...</td>\n",
       "    </tr>\n",
       "    <tr>\n",
       "      <th>3</th>\n",
       "      <td>3</td>\n",
       "      <td>HB19PR_SO06_SO07_SO08_SP_SO09 - Eficacia do he...</td>\n",
       "      <td>Seção 1.2</td>\n",
       "      <td>1.2 Projeto original: Fabc</td>\n",
       "    </tr>\n",
       "    <tr>\n",
       "      <th>4</th>\n",
       "      <td>4</td>\n",
       "      <td>HB19PR_SO06_SO07_SO08_SP_SO09 - Eficacia do he...</td>\n",
       "      <td>Seção 1.3</td>\n",
       "      <td>1.3 Palavras-Chave: plante/aplique, sulfentraz...</td>\n",
       "    </tr>\n",
       "  </tbody>\n",
       "</table>\n",
       "</div>"
      ],
      "text/plain": [
       "  doc_id                                        report_name section_name  \\\n",
       "0      0  HB19PR_SO06_SO07_SO08_SP_SO09 - Eficacia do he...        _raiz   \n",
       "1      1  HB19PR_SO06_SO07_SO08_SP_SO09 - Eficacia do he...   Capítulo 1   \n",
       "2      2  HB19PR_SO06_SO07_SO08_SP_SO09 - Eficacia do he...    Seção 1.1   \n",
       "3      3  HB19PR_SO06_SO07_SO08_SP_SO09 - Eficacia do he...    Seção 1.2   \n",
       "4      4  HB19PR_SO06_SO07_SO08_SP_SO09 - Eficacia do he...    Seção 1.3   \n",
       "\n",
       "                                                text  \n",
       "0  Setor de Herbologia HERBICIDAS RESIDUAIS NA CU...  \n",
       "1                        1. IDENTIFICAÇÃO DO PROJETO  \n",
       "2  1.1 Código do projeto: HB19PR_SO06, HB19PR_SO0...  \n",
       "3                         1.2 Projeto original: Fabc  \n",
       "4  1.3 Palavras-Chave: plante/aplique, sulfentraz...  "
      ]
     },
     "execution_count": 7,
     "metadata": {},
     "output_type": "execute_result"
    }
   ],
   "source": [
    "df.head()"
   ]
  },
  {
   "cell_type": "markdown",
   "metadata": {},
   "source": [
    "## Salva resultados da tarefa\n",
    "\n",
    "A plataforma guarda o conteúdo de `/tmp/data/` para as tarefas subsequentes.<br>\n",
    "Use essa pasta para salvar modelos, metadados e outros resultados."
   ]
  },
  {
   "cell_type": "code",
   "execution_count": 10,
   "metadata": {},
   "outputs": [
    {
     "data": {
      "text/plain": [
       "['/tmp/data/fabc_reports.joblib']"
      ]
     },
     "execution_count": 10,
     "metadata": {},
     "output_type": "execute_result"
    }
   ],
   "source": [
    "from joblib import dump\n",
    "\n",
    "artifacts = {\n",
    "    \"df\": df,\n",
    "    \"columns\":columns,\n",
    "    \"reports_dir\":reports_dir\n",
    "}\n",
    "\n",
    "dump(artifacts, \"/tmp/data/fabc_reports.joblib\")"
   ]
  }
 ],
 "metadata": {
  "celltoolbar": "Tags",
  "experiment_id": "d23cea64-7d2a-4a68-aaa2-c7645d6a1853",
  "kernelspec": {
   "display_name": "Python 3",
   "language": "python",
   "name": "python3"
  },
  "language_info": {
   "codemirror_mode": {
    "name": "ipython",
    "version": 3
   },
   "file_extension": ".py",
   "mimetype": "text/x-python",
   "name": "python",
   "nbconvert_exporter": "python",
   "pygments_lexer": "ipython3",
   "version": "3.7.10"
  },
  "operator_id": "e9322c35-2856-4b26-9941-3fead1d7d846",
  "task_id": "a522c114-1234-4c91-9e6c-5af6aecb417b"
 },
 "nbformat": 4,
 "nbformat_minor": 4
}
