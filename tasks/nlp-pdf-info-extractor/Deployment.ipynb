{
 "cells": [
  {
   "cell_type": "markdown",
   "metadata": {},
   "source": [
    "# Extração de texto em relatórios da Fundação ABC - Implantação\n",
    "\n",
    "Preencha aqui com detalhes sobre a tarefa.<br>\n",
    "### **Em caso de dúvidas, consulte os [tutoriais da PlatIAgro](https://platiagro.github.io/tutorials/).**"
   ]
  },
  {
   "cell_type": "markdown",
   "metadata": {},
   "source": [
    "## Declaração de Classe para Predições em Tempo Real\n",
    "\n",
    "A tarefa de implantação cria um serviço REST para predições em tempo-real.<br>\n",
    "Para isso você deve criar uma classe `Model` que implementa o método `predict`."
   ]
  },
  {
   "cell_type": "code",
   "execution_count": 1,
   "metadata": {},
   "outputs": [
    {
     "name": "stdout",
     "output_type": "stream",
     "text": [
      "Overwriting Model.py\n"
     ]
    }
   ],
   "source": [
    "%%writefile Model.py\n",
    "import joblib\n",
    "import pandas as pd\n",
    "from aux_functions import get_reports_as_dataframe,filter_post_content\n",
    "\n",
    "class Model:\n",
    "    def __init__(self):\n",
    "        self.loaded = False\n",
    "        \n",
    "        \n",
    "    def load(self):\n",
    "        artifacts = joblib.load(\"/tmp/data/fabc_reports.joblib\")\n",
    "        self.df = artifacts[\"df\"]\n",
    "        self.columns = artifacts[\"columns\"]\n",
    "        self.reports_dir = artifacts[\"reports_dir\"]\n",
    "        self.keep_only_conclusions = artifacts[\"keep_only_conclusions\"]\n",
    "        self.min_context_length_in_tokens = artifacts[\"min_context_length_in_tokens\"]\n",
    "        self.loaded = True\n",
    " \n",
    "    def predict(self, X, feature_names, meta=None):\n",
    "        \n",
    "        if not self.loaded:\n",
    "            self.load()\n",
    "            \n",
    "        df = get_reports_as_dataframe(reports_dir=self.reports_dir,columns_dict = self.columns)\n",
    "        df = filter_post_content(df = df,\n",
    "                         keep_only_conclusions = self.keep_only_conclusions,\n",
    "                         min_context_length_in_tokens = self.min_context_length_in_tokens)\n",
    "\n",
    "        return df.to_numpy()"
   ]
  }
 ],
 "metadata": {
  "celltoolbar": "Tags",
  "experiment_id": "d23cea64-7d2a-4a68-aaa2-c7645d6a1853",
  "kernelspec": {
   "display_name": "Python 3",
   "language": "python",
   "name": "python3"
  },
  "language_info": {
   "codemirror_mode": {
    "name": "ipython",
    "version": 3
   },
   "file_extension": ".py",
   "mimetype": "text/x-python",
   "name": "python",
   "nbconvert_exporter": "python",
   "pygments_lexer": "ipython3",
   "version": "3.7.10"
  },
  "operator_id": "e9322c35-2856-4b26-9941-3fead1d7d846",
  "task_id": "a522c114-1234-4c91-9e6c-5af6aecb417b"
 },
 "nbformat": 4,
 "nbformat_minor": 4
}
