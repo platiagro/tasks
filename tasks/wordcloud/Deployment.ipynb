{
 "cells": [
  {
   "cell_type": "markdown",
   "metadata": {},
   "source": [
    "# WordCloud - Implantação\n",
    "\n",
    "O WordCloud é uma representação visual de um texto, onde palavras-chave são apresentadas com as suas devidas importâncias nesse texto. O Componente utiliza a biblioteca [wordcloud](https://pypi.org/project/wordcloud/)."
   ]
  },
  {
   "cell_type": "markdown",
   "metadata": {},
   "source": [
    "## Declaração de Classe para Predições em Tempo Real\n",
    "\n",
    "A tarefa de implantação cria um serviço REST para predições em tempo-real.<br>\n",
    "Para isso você deve criar uma classe `Model` que implementa o método `predict`."
   ]
  },
  {
   "cell_type": "code",
   "execution_count": null,
   "metadata": {},
   "outputs": [],
   "source": [
    "%%writefile Model.py\n",
    "from wordcloud import WordCloud\n",
    "import pandas as pd\n",
    "import numpy as np\n",
    "import joblib\n",
    "import io\n",
    "from io import StringIO\n",
    "\n",
    "class Model:\n",
    "    def __init__(self):\n",
    "        self.loaded = False\n",
    "\n",
    "    def load(self):\n",
    "        artifacts = joblib.load(\"/tmp/data/wordcloud.joblib\")\n",
    "        self.wordcloud_parameters = artifacts[\"wordcloud_parameters\"]\n",
    "\n",
    "        background_color = self.wordcloud_parameters[\"background_color\"]\n",
    "        max_words = self.wordcloud_parameters[\"max_words\"]\n",
    "        stopwords = self.wordcloud_parameters[\"stopwords\"]\n",
    "        max_font_size = self.wordcloud_parameters[\"max_font_size\"]\n",
    "        width = self.wordcloud_parameters[\"width\"]\n",
    "        height = self.wordcloud_parameters[\"height\"]\n",
    "\n",
    "        self.wc = WordCloud(background_color = background_color,\n",
    "            max_words = max_words,\n",
    "            stopwords = stopwords,\n",
    "            max_font_size = max_font_size,\n",
    "            width = width,\n",
    "            height = height)\n",
    "\n",
    "        self.loaded = True\n",
    "        print(\"Loaded model\")\n",
    "\n",
    "    def predict(self, X, feature_names, meta=None):\n",
    "        if not self.loaded:\n",
    "            self.load()\n",
    "        \n",
    "        input_data = X\n",
    "        images = []\n",
    "        \n",
    "        if isinstance(X, bytes):\n",
    "            string = str(X, 'utf-8')\n",
    "            data = StringIO(string)\n",
    "            try:\n",
    "                input_data = pd.read_csv(data)\n",
    "            except OSError:\n",
    "                input_data = string\n",
    "\n",
    "        else:\n",
    "            input_data = pd.DataFrame(input_data)\n",
    "            if feature_names:\n",
    "                input_data = pd.DataFrame(X, columns=feature_names)\n",
    "            \n",
    "        if type(input_data) == str:\n",
    "            self.wc.generate(input_data)\n",
    "            images.append(self.wc.to_image())\n",
    "        \n",
    "        elif type(input_data) == pd.DataFrame:\n",
    "            for text in input_data[\"text\"]:\n",
    "                self.wc.generate(text)\n",
    "                images.append(self.wc.to_image())\n",
    "\n",
    "        result = []\n",
    "        for img in images:\n",
    "            buff = io.BytesIO()\n",
    "            img.save(buff, format=\"JPEG\")\n",
    "            result.append(buff.getvalue().decode(\"latin1\"))\n",
    "             \n",
    "        return result"
   ]
  }
 ],
 "metadata": {
  "celltoolbar": "Tags",
  "experiment_id": "c026bbfb-e90f-4d3a-890a-3f6a93d14196",
  "kernelspec": {
   "display_name": "Python 3",
   "language": "python",
   "name": "python3"
  },
  "language_info": {
   "codemirror_mode": {
    "name": "ipython",
    "version": 3
   },
   "file_extension": ".py",
   "mimetype": "text/x-python",
   "name": "python",
   "nbconvert_exporter": "python",
   "pygments_lexer": "ipython3",
   "version": "3.8.8"
  },
  "operator_id": "f8a69def-6cbb-4bd7-8fd3-7a3106943f2d",
  "task_id": "dfe43381-f990-4c96-81eb-cdc4850b3844"
 },
 "nbformat": 4,
 "nbformat_minor": 4
}
