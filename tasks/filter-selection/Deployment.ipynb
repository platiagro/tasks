{
 "cells": [
  {
   "cell_type": "markdown",
   "source": [
    "# Seleção de filtro - Implantação\n",
    "\n",
    "Este componente realiza a remoção de atributos específicos do dataset.\n",
    "\n",
    "Este notebook apresenta:\n",
    "- como carregar modelos e outros resultados do treinamento.\n",
    "- como utilizar um modelo para fornecer predições em tempo real."
   ],
   "metadata": {}
  },
  {
   "cell_type": "markdown",
   "source": [
    "## Declaração de Classe para Predições em Tempo Real\n",
    "\n",
    "A tarefa de implantação cria um serviço REST para predições em tempo real.<br>\n",
    "Para isso você deve criar uma classe `Model` que implementa o método `predict`."
   ],
   "metadata": {}
  },
  {
   "cell_type": "code",
   "execution_count": null,
   "source": [
    "%%writefile Model.py\n",
    "import joblib\n",
    "import numpy as np\n",
    "import pandas as pd\n",
    "\n",
    "\n",
    "class Model(object):\n",
    "    def __init__(self):\n",
    "        self.loaded = False\n",
    "    \n",
    "    def load(self):\n",
    "        # Following links explain why to use load() method insted of __init__()\n",
    "\n",
    "        # Issue associated with sheldon on __init__\n",
    "        # https://github.com/SeldonIO/seldon-core/issues/2616\n",
    "\n",
    "        # Solution for the case\n",
    "        # https://docs.seldon.io/projects/seldon-core/en/latest/python/python_component.html#gunicorn-and-load\n",
    "\n",
    "        # Carrega artefatos: estimador, etc\n",
    "        artifacts = joblib.load(\"/tmp/data/filter-selection.joblib\")\n",
    "        self.features = artifacts[\"columns\"]\n",
    "        self.features_filtered = artifacts[\"features_filtered\"]\n",
    "\n",
    "    def class_names(self):\n",
    "        return self.features_filtered.tolist()\n",
    "\n",
    "    def predict(self, X, feature_names, meta=None):\n",
    "        # First time load model\n",
    "        if not self.loaded:\n",
    "            self.load()\n",
    "\n",
    "        if feature_names:\n",
    "            # Antes de utilizar o conjunto de dados X no modelo, reordena suas features de acordo com a ordem utilizada no treinamento\n",
    "            df = pd.DataFrame(X, columns=feature_names)\n",
    "            X = df[self.features]\n",
    "\n",
    "        X = X[self.features_filtered]\n",
    "\n",
    "        return X.to_numpy()"
   ],
   "outputs": [],
   "metadata": {}
  }
 ],
 "metadata": {
  "celltoolbar": "Tags",
  "kernelspec": {
   "display_name": "Python 3",
   "language": "python",
   "name": "python3"
  },
  "language_info": {
   "codemirror_mode": {
    "name": "ipython",
    "version": 3
   },
   "file_extension": ".py",
   "mimetype": "text/x-python",
   "name": "python",
   "nbconvert_exporter": "python",
   "pygments_lexer": "ipython3",
   "version": "3.8.2"
  }
 },
 "nbformat": 4,
 "nbformat_minor": 4
}