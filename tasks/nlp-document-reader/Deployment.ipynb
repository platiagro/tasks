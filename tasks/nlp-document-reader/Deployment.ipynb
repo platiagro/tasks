{
 "cells": [
  {
   "cell_type": "markdown",
   "metadata": {},
   "source": [
    "# Document Reader - Implantação\n",
    "\n",
    "Preencha aqui com detalhes sobre a tarefa.<br>\n",
    "### **Em caso de dúvidas, consulte os [tutoriais da PlatIAgro](https://platiagro.github.io/tutorials/).**"
   ]
  },
  {
   "cell_type": "markdown",
   "metadata": {},
   "source": [
    "## Declaração de Classe para Predições em Tempo Real\n",
    "\n",
    "A tarefa de implantação cria um serviço REST para predições em tempo-real.<br>\n",
    "Para isso você deve criar uma classe `Model` que implementa o método `predict`."
   ]
  },
  {
   "cell_type": "code",
   "execution_count": 15,
   "metadata": {},
   "outputs": [
    {
     "name": "stdout",
     "output_type": "stream",
     "text": [
      "Writing Model.py\n"
     ]
    }
   ],
   "source": [
    "%%writefile Model.py\n",
    "import joblib\n",
    "import pandas as pd\n",
    "import numpy as np\n",
    "\n",
    "\n",
    "class Model:\n",
    "    \n",
    "    def __init__(self):\n",
    "        \n",
    "        artifacts = joblib.load(\"/tmp/data/document_reader.joblib\")\n",
    "        self.model = artifacts[\"model\"]\n",
    "    \n",
    "\n",
    "    def predict(self, X, feature_names, meta=None):\n",
    "        feature_names_pipeline = ['doc_id', 'retriever_score', 'context', 'question']\n",
    "        feature_names_qa = ['context', 'question']\n",
    "        \n",
    "        if feature_names != feature_names_pipeline and feature_names != feature_names_qa:\n",
    "            raise ValueError(f'feature_names deve ser {feature_names_pipeline} ou {feature_names_qa}')\n",
    "        \n",
    "        df_input = pd.DataFrame(X,columns=feature_names)\n",
    "        question = df_input['question'].iloc[0]\n",
    "        topn_contexts = list(df_input['context'])\n",
    "        df_pred = self.model.forward(question=question,topn_contexts=topn_contexts)\n",
    "        \n",
    "        if feature_names == feature_names_pipeline:\n",
    "            df_input = df_input[['doc_id', 'retriever_score']] \n",
    "            df_input['index'] = df_input.index\n",
    "            df_result = pd.merge(df_input, df_pred, on='index', how='outer')\n",
    "            del df_result['index']\n",
    "        else:\n",
    "            df_result = df_pred\n",
    "        return df_result.to_numpy()"
   ]
  },
  {
   "cell_type": "code",
   "execution_count": 13,
   "metadata": {},
   "outputs": [],
   "source": [
    "# import numpy as np\n",
    "# with open('result.npy', 'rb') as f:\n",
    "#     X = np.load(f,allow_pickle=True)\n",
    "\n",
    "# X = X[:10]\n",
    "# #X.shape"
   ]
  },
  {
   "cell_type": "code",
   "execution_count": 22,
   "metadata": {},
   "outputs": [],
   "source": [
    "# import pandas as pd\n",
    "# df = pd.read_csv(\"df_squad_bert_chuncked.csv\")\n",
    "# n_lines = 10\n",
    "# question = df['question'][0]\n",
    "# contexts = df['context'][:n_lines]\n",
    "# questions = [question]*n_lines\n",
    "\n",
    "# df_small = pd.DataFrame({'context':contexts,'question':questions})\n",
    "# X = df_small.to_numpy()"
   ]
  },
  {
   "cell_type": "code",
   "execution_count": 1,
   "metadata": {},
   "outputs": [],
   "source": [
    "# from Model import Model\n",
    "# import pandas as pd\n",
    "# model = Model()\n",
    "# result = model.predict(X,['doc_id', 'retriever_score', 'context', 'question'])\n",
    "# result = model.predict(X,['context', 'question'])\n",
    "# result"
   ]
  }
 ],
 "metadata": {
  "celltoolbar": "Tags",
  "experiment_id": "ef8ec4df-3841-4f9e-bae5-e31f972d804f",
  "kernelspec": {
   "display_name": "Python 3",
   "language": "python",
   "name": "python3"
  },
  "language_info": {
   "codemirror_mode": {
    "name": "ipython",
    "version": 3
   },
   "file_extension": ".py",
   "mimetype": "text/x-python",
   "name": "python",
   "nbconvert_exporter": "python",
   "pygments_lexer": "ipython3",
   "version": "3.7.10"
  },
  "operator_id": "fa0f75a4-290c-4e0c-81b3-d2be4f9eb711",
  "task_id": "f0b85b86-193d-4b0a-9e61-440acd2202f9"
 },
 "nbformat": 4,
 "nbformat_minor": 4
}
