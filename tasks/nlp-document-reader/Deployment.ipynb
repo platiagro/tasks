{
 "cells": [
  {
   "cell_type": "markdown",
   "metadata": {},
   "source": [
    "# Document Reader - Implantação\n",
    "\n",
    "Preencha aqui com detalhes sobre a tarefa.<br>\n",
    "### **Em caso de dúvidas, consulte os [tutoriais da PlatIAgro](https://platiagro.github.io/tutorials/).**"
   ]
  },
  {
   "cell_type": "markdown",
   "metadata": {},
   "source": [
    "## Declaração de Classe para Predições em Tempo Real\n",
    "\n",
    "A tarefa de implantação cria um serviço REST para predições em tempo-real.<br>\n",
    "Para isso você deve criar uma classe `Model` que implementa o método `predict`."
   ]
  },
  {
   "cell_type": "code",
   "execution_count": 2,
   "metadata": {},
   "outputs": [
    {
     "name": "stdout",
     "output_type": "stream",
     "text": [
      "Overwriting Model.py\n"
     ]
    }
   ],
   "source": [
    "%%writefile Model.py\n",
    "import joblib\n",
    "import pandas as pd\n",
    "import numpy as np\n",
    "\n",
    "\n",
    "class Model:\n",
    "    \n",
    "    def __init__(self):\n",
    "        \n",
    "        artifacts = joblib.load(\"/tmp/data/document_reader.joblib\")\n",
    "        self.model = artifacts[\"model\"]\n",
    "        self.question = artifacts[\"question\"]\n",
    "        self.ntops_overall = artifacts[\"ntops_overall\"]\n",
    "        self.reader_score_weight = artifacts[\"reader_score_weight\"]\n",
    "        self.retriever_reader_pipeline = artifacts[\"retriever_reader_pipeline\"]\n",
    "        self.column_doc_id = artifacts[\"column_doc_id\"]\n",
    "        self.column_context = artifacts[\"column_context\"]\n",
    "        self.column_retriever_score = artifacts[\"column_retriever_score\"]\n",
    "        self.column_reader_score = artifacts[\"column_reader_score\"]\n",
    "\n",
    "    def predict(self, X, feature_names, meta=None):\n",
    "        \n",
    "        df_input = pd.DataFrame(X,columns=feature_names)\n",
    "        contexts_dict = {row[self.column_doc_id]:row[self.column_context] for i,row in df_input.iterrows()}\n",
    "        df_result = reader_caller.forward(question = self.question,\n",
    "                                          topn_contexts = list(contexts_dict.values()),\n",
    "                                          top_ids = list(contexts_dict.keys()))\n",
    "\n",
    "        df_result = build_result_dataframe(df_input = df_input,\n",
    "                                           df_result = df_result,\n",
    "                                           ntops_overall = self.ntops_overall,\n",
    "                                           reader_score_weight = self.reader_score_weight,\n",
    "                                           retriever_reader_pipeline = self.retriever_reader_pipeline,\n",
    "                                           remove_no_answer_found = self.remove_no_answer_found,\n",
    "                                           column_doc_id = self.column_doc_id,\n",
    "                                           column_retriever_score = self.column_retriever_score,\n",
    "                                           column_reader_score = self.column_reader_score)\n",
    "        \n",
    "        \n",
    "        \n",
    "        return df_result.to_numpy()"
   ]
  },
  {
   "cell_type": "code",
   "execution_count": 13,
   "metadata": {},
   "outputs": [],
   "source": [
    "# import numpy as np\n",
    "# with open('result.npy', 'rb') as f:\n",
    "#     X = np.load(f,allow_pickle=True)\n",
    "\n",
    "# X = X[:10]\n",
    "# #X.shape"
   ]
  },
  {
   "cell_type": "code",
   "execution_count": 3,
   "metadata": {},
   "outputs": [],
   "source": [
    "# import pandas as pd\n",
    "# df = pd.read_csv(\"df_squad_bert_chuncked.csv\")\n",
    "# n_lines = 10\n",
    "# question = df['question'][0]\n",
    "# contexts = df['context'][:n_lines]\n",
    "# questions = [question]*n_lines\n",
    "\n",
    "# df_small = pd.DataFrame({'context':contexts,'question':questions})\n",
    "# X = df_small.to_numpy()"
   ]
  },
  {
   "cell_type": "code",
   "execution_count": 14,
   "metadata": {},
   "outputs": [],
   "source": [
    "# from Model import Model\n",
    "# import pandas as pd\n",
    "# model = Model()\n",
    "# result = model.predict(X,['doc_id', 'retriever_score', 'context', 'question'])\n",
    "# #result = model.predict(X,['context', 'question'])\n",
    "# result\n"
   ]
  }
 ],
 "metadata": {
  "celltoolbar": "Tags",
  "experiment_id": "ef8ec4df-3841-4f9e-bae5-e31f972d804f",
  "kernelspec": {
   "display_name": "Python 3",
   "language": "python",
   "name": "python3"
  },
  "language_info": {
   "codemirror_mode": {
    "name": "ipython",
    "version": 3
   },
   "file_extension": ".py",
   "mimetype": "text/x-python",
   "name": "python",
   "nbconvert_exporter": "python",
   "pygments_lexer": "ipython3",
   "version": "3.7.10"
  },
  "operator_id": "fa0f75a4-290c-4e0c-81b3-d2be4f9eb711",
  "task_id": "f0b85b86-193d-4b0a-9e61-440acd2202f9"
 },
 "nbformat": 4,
 "nbformat_minor": 4
}
