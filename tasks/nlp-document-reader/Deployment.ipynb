{
 "cells": [
  {
   "cell_type": "markdown",
   "metadata": {},
   "source": [
    "# Document Reader - Implantação\n",
    "\n",
    "Preencha aqui com detalhes sobre a tarefa.<br>\n",
    "### **Em caso de dúvidas, consulte os [tutoriais da PlatIAgro](https://platiagro.github.io/tutorials/).**"
   ]
  },
  {
   "cell_type": "markdown",
   "metadata": {},
   "source": [
    "## Declaração de Classe para Predições em Tempo Real\n",
    "\n",
    "A tarefa de implantação cria um serviço REST para predições em tempo-real.<br>\n",
    "Para isso você deve criar uma classe `Model` que implementa o método `predict`."
   ]
  },
  {
   "cell_type": "code",
   "execution_count": 1,
   "metadata": {},
   "outputs": [
    {
     "name": "stdout",
     "output_type": "stream",
     "text": [
      "Overwriting Model.py\n"
     ]
    }
   ],
   "source": [
    "%%writefile Model.py\n",
    "import joblib\n",
    "import pandas as pd\n",
    "import numpy as np\n",
    "from aux_functions import build_result_dataframe\n",
    "\n",
    "class Model:\n",
    "    \n",
    "    def __init__(self):\n",
    "        self.loaded = False\n",
    "        \n",
    "    def load(self):\n",
    "        artifacts = joblib.load(\"/tmp/data/document_reader.joblib\")\n",
    "        self.model = artifacts[\"model\"]\n",
    "        self.columns = artifacts[\"columns\"]\n",
    "        self.question = artifacts[\"question\"]\n",
    "        self.ntops_overall = artifacts[\"ntops_overall\"]\n",
    "        self.reader_score_weight = artifacts[\"reader_score_weight\"]\n",
    "        self.retriever_reader_pipeline = artifacts[\"retriever_reader_pipeline\"]\n",
    "        self.remove_no_answer_found = artifacts[\"remove_no_answer_found\"]\n",
    "        self.column_doc_id = artifacts[\"column_doc_id\"]\n",
    "        self.column_context = artifacts[\"column_context\"]\n",
    "        self.column_retriever_score = artifacts[\"column_retriever_score\"]\n",
    "        self.column_reader_score = artifacts[\"column_reader_score\"]\n",
    "        self.loaded = True\n",
    "\n",
    "    def predict(self, X, feature_names, meta=None):\n",
    "        \n",
    "        if not self.loaded:\n",
    "            self.load()\n",
    "            \n",
    "        if not feature_names:\n",
    "            feature_names = self.columns\n",
    "            \n",
    "        \n",
    "        df_input = pd.DataFrame(X,columns=feature_names)\n",
    "        contexts_dict = {row[self.column_doc_id]:row[self.column_context] for i,row in df_input.iterrows()}\n",
    "        df_result = self.model.forward(question = question,\n",
    "                                          topn_contexts = list(contexts_dict.values()),\n",
    "                                          top_ids = list(contexts_dict.keys()))\n",
    "\n",
    "        df_result = build_result_dataframe(df_input = df_input,\n",
    "                                           df_result = df_result,\n",
    "                                           ntops_overall = self.ntops_overall,\n",
    "                                           reader_score_weight = self.reader_score_weight,\n",
    "                                           retriever_reader_pipeline = self.retriever_reader_pipeline,\n",
    "                                           remove_no_answer_found = self.remove_no_answer_found,\n",
    "                                           column_doc_id = self.column_doc_id,\n",
    "                                           column_retriever_score = self.column_retriever_score,\n",
    "                                           column_reader_score = self.column_reader_score)\n",
    "        \n",
    "        \n",
    "        \n",
    "        return df_result.to_numpy()"
   ]
  },
  {
   "cell_type": "code",
   "execution_count": 2,
   "metadata": {},
   "outputs": [],
   "source": [
    "# import pandas as pd\n",
    "# df = pd.read_csv(\"/tmp/data/fabc-step4-4.csv\")\n",
    "# X = df.to_numpy()"
   ]
  },
  {
   "cell_type": "code",
   "execution_count": 3,
   "metadata": {},
   "outputs": [
    {
     "data": {
      "text/plain": [
       "array([[0,\n",
       "        'HB19PR_SO06_SO07_SO08_SP_SO09 - Eficacia do herbicida imazethapyr associado a um inibidor da PROTOX para manejo de plantas daninhas na pre-emergencia da soja tolerante a glyphosate.pdf',\n",
       "        '_raiz',\n",
       "        'Setor de Herbologia HERBICIDAS RESIDUAIS NA CULTURA DA SOJA Eficácia do herbicida imazethapyr associado a um inibidor da PROTOX para manejo de plantas daninhas na pré-emergência da soja tolerante a glyphosate Autor: Luís Henrique Penckowski Eliana Fernandes Borsato Evandro H. G. Maschietto AVISO LEGAL Este documento está protegido por direitos autorais e pode conter informações confidenciais e/ou privilegiadas. É expressamente proibido copiar, modificar, distribuir, remover, adicionar ou divulgar o seu conteúdo, ou parte deste, em qualquer meio, sem o consentimento expresso e por escrito da FUNDAÇÃO ABC. Qualquer utilização das informações/dados de forma diversa do contido no presente documento afeta a precisão dos resultados e não reflete as conclusões da FUNDAÇÃO ABC, não podendo, de forma alguma, ser a ela atribuída. Tal violação da integridade documental configura adulteração, sujeita às penalidades legais. Luís Henrique Penckowski Coordenador de Pesquisa Engº Agrº M.e, CREA PR 47856/D CREA SP - 5070387802 e-mail: luishenrique@fundacaoabc.org Eliana Fernandes Borsato Pesquisadora Engº Agrº M.a, CREA PR 88829/D CREA SP 5070572625 e-mail: eliana@fundacaoabc.org Evandro H. G. Maschietto Pesquisador Engº Agrº M.e, CREA PR 90164/D CREA SP 5070387640 e-mail: evandro.mascheitto@fundacaoabc.org HERBICIDAS RESIDUAIS NA CULTURA DA SOJA Eficácia do herbicida imazethapyr associado a um inibidor da PROTOX para manejo de plantas daninhas na pré-emergência da soja tolerante a glyphosate',\n",
       "        \"['Qual é o nome do pesquisador que desenvolveu a metodologia que o método de tratamento da soja tolerante a glyphosate que permitiu à FUNDAÇÃO ABC utilizar?', 'Qual a porcentagem de insetos resistentes ao agrotóxicos e ao glautina?', 'Que atividade é considerada responsável pelo uso do profilt em uma pesquisa em que se baseia a Prototec?', 'O que é protegido por direitos autorais?', 'Quais são os principais componentes do estudo genético?', 'Qual é a condição do herbicida associado a um inibidor da PROTOX para manejo de plantas daninhas na pré-emergência da soja tolerante a glyphosate Autor: Luís Henrique Penckowski Eliana Fernandes Borsato Evandro H. G. Maschietto AVISO LEGAL Este documento está protegido por direitos autorais e pode conter informações confidenciais e/ou privilegiadas. É expressamente proibido copiar, modificar, distribuir, remover', 'Que tipo de herbicida pode conter informações confidenciais e/ou privilegiadas?', 'Qual é o nome do pesquisador que possui uma patente no BA?', 'Quem é o pesquisador de herbicidas de imazethapyr associado a um inibidor da PROTOX?', 'Que produto é protegido por direitos autorais?']\",\n",
       "        'Setor de Herbologia HERBICIDAS RESIDUAIS NA CULTURA DA SOJA Eficácia do herbicida imazethapyr associado a um inibidor da PROTOX para manejo de plantas daninhas na pré-emergência da soja tolerante a glyphosate Autor: Luís Henrique Penckowski Eliana Fernandes Borsato Evandro H. G. Maschietto AVISO LEGAL Este documento está protegido por direitos autorais e pode conter informações confidenciais e/ou privilegiadas. É expressamente proibido copiar, modificar, distribuir, remover, adicionar ou divulgar o seu conteúdo, ou parte deste, em qualquer meio, sem o consentimento expresso e por escrito da FUNDAÇÃO ABC. Qualquer utilização das informações/dados de forma diversa do contido no presente documento afeta a precisão dos resultados e não reflete as conclusões da FUNDAÇÃO ABC, não podendo, de forma alguma, ser a ela atribuída. Tal violação da integridade documental configura adulteração, sujeita às penalidades legais. Luís Henrique Penckowski Coordenador de Pesquisa Engº Agrº M.e, CREA PR 47856/D CREA SP - 5070387802 e-mail: luishenrique@fundacaoabc.org Eliana Fernandes Borsato Pesquisadora Engº Agrº M.a, CREA PR 88829/D CREA SP 5070572625 e-mail: eliana@fundacaoabc.org Evandro H. G. Maschietto Pesquisador Engº Agrº M.e, CREA PR 90164/D CREA SP 5070387640 e-mail: evandro.mascheitto@fundacaoabc.org HERBICIDAS RESIDUAIS NA CULTURA DA SOJA Eficácia do herbicida imazethapyr associado a um inibidor da PROTOX para manejo de plantas daninhas na pré-emergência da soja tolerante a glyphosate Qual é o nome do pesquisador que desenvolveu a metodologia que o método de tratamento da soja tolerante a glyphosate que permitiu à FUNDAÇÃO ABC utilizar? Qual a porcentagem de insetos resistentes ao agrotóxicos e ao glautina? Que atividade é considerada responsável pelo uso do profilt em uma pesquisa em que se baseia a Prototec? O que é protegido por direitos autorais? Quais são os principais componentes do estudo genético? Qual é a condição do herbicida associado a um inibidor da PROTOX para manejo de plantas daninhas na pré-emergência da soja tolerante a glyphosate Autor: Luís Henrique Penckowski Eliana Fernandes Borsato Evandro H. G. Maschietto AVISO LEGAL Este documento está protegido por direitos autorais e pode conter informações confidenciais e/ou privilegiadas. É expressamente proibido copiar, modificar, distribuir, remover Que tipo de herbicida pode conter informações confidenciais e/ou privilegiadas? Qual é o nome do pesquisador que possui uma patente no BA? Quem é o pesquisador de herbicidas de imazethapyr associado a um inibidor da PROTOX? Que produto é protegido por direitos autorais?',\n",
       "        'Herbology Sector RESIDUAL HERBICIDES IN THE CULTURE OF THE SOY EFFECTIVENESS of the herbicide imazethapyr associated with a PROTOX inhibitor for weed management in the pre-emergence of glyphosate tolerant soybean Author: Luís Henrique Penckowski Eliana Fernandes Borsato Evandro H. G. Maschietto AVISO LEGAL This document is protected by copyright and may contain confidential and/or privileged information.It is expressly prohibited to copy, modify, distribute, remove, add or disclose its contents, or parts thereof, in any medium, without the express and written consent of the ABC FOUNDATION.Any use of the information/data in a manner other than that contained in this document affects the accuracy of the results and does not reflect the conclusions of the ABC FOUNDATION and cannot in any way be attributed to it.Such a violation of documentary integrity constitutes adultery, subject to legal penalties.Luis Henrique Penckowski Research Coordinator Engo Agro M.e, CREA PR 47856/D CREA SP - 5070387802 e-mail: luishenrique@fundacaoabc.org Eliana Fernandes Borsato Researcher Engo Agro M.a, CREA PR 88829/D CREA SP 5070572625 e-mail: eliana@fundacaoabc.org Evandro H. G. Maschietto Researcher Engo Agro M.e, CREA PR 90164/D CREA SP 5070387640 e-mail: evandro.mascheitto@fundacaoabc.org RESIDUAL HERBICIDAS IN SOJA CULTURE EFFECTIVENESS OF THE HERBICIDE IMMATHETApyr Associated with a PROTOX Inhibitor for Weed Plant Management in the Preemergence of Glyphosate Tolerance What is the name of the researcher who developed the methodology that the treatment method of soybean tolerance to GLYPHOSATE allowed to FUNDOWhat is the percentage of insects resistant to pesticides and glautine?What activity is considered responsible for the use of the profile in a research based on Prototec?What is copyrighted?What are the main components of the genetic study?What is the condition of the herbicide associated with a PROTOX inhibitor for weed management in the pre-emergence of glyphosate tolerant soybean Author: Luís Henrique Penckowski Eliana Fernandes Borsato Evandro H. G. Maschietto NOTICE LEGAL This document is protected by copyright and may contain confidential and/or privileged information.It is expressly prohibited to copy, modify, distribute, remove What type of herbicide may contain confidential and/or privileged information?What is the name of the researcher who has a patent in BA?Who is the herbicide researcher of imazethapyr associated with a PROTOX inhibitor?Which product is protected by copyright?',\n",
       "        0.1015510959403607,\n",
       "        'Qual é o melhor herbicida para erva da ninha ?', 'imazethapyr',\n",
       "        0.8854913711547852, 0.7287033161119003],\n",
       "       [4,\n",
       "        'HB19PR_SO06_SO07_SO08_SP_SO09 - Eficacia do herbicida imazethapyr associado a um inibidor da PROTOX para manejo de plantas daninhas na pre-emergencia da soja tolerante a glyphosate.pdf',\n",
       "        'Seção 1.3',\n",
       "        '1.3 Palavras-Chave: plante/aplique, sulfentrazone, flumioxazin, fitotoxicidade',\n",
       "        \"['Quais são as palavras-Chave: plante/aplique, sulfentrazone, flumioxazin, fitotoxicidade', 'Qual é a denominação da substância?', 'Qual é uma palavra-chave para o sulfentrazone?', 'Qual foi a palavra chave da chave?', 'Em que medida o sulfentrazone é aplicado?', 'Qual é a palavra-chave de sulfentrazone?', 'Qual é uma das palavras-Chave do sulfentrazone?', 'Qual é uma das palavras-chave para a formulação de sulfentrazone?', 'O que foi utilizado no tratamento de flumioxazin?', 'Qual é o nome da substância que elege?']\",\n",
       "        '1.3 Palavras-Chave: plante/aplique, sulfentrazone, flumioxazin, fitotoxicidade Quais são as palavras-Chave: plante/aplique, sulfentrazone, flumioxazin, fitotoxicidade Qual é a denominação da substância? Qual é uma palavra-chave para o sulfentrazone? Qual foi a palavra chave da chave? Em que medida o sulfentrazone é aplicado? Qual é a palavra-chave de sulfentrazone? Qual é uma das palavras-Chave do sulfentrazone? Qual é uma das palavras-chave para a formulação de sulfentrazone? O que foi utilizado no tratamento de flumioxazin? Qual é o nome da substância que elege?',\n",
       "        \"1.3 Keywords: plant/apple, sulfentrazone, flumioxazin, phytotoxicity What are the keywords: plant/apple, sulfentrazone, flumioxazin, phytotoxicity What is the name of the substance?What's a key word for sulfentrazone?What was the key word for the key?To what extent is sulfentrazone applied?What's the key word for sulfentrazone?What is one of the key words of sulfentrazone?What is one of the key words for sulfentrazone formulation?What has been used for flumioxazin treatment?What is the name of the substance you choose?\",\n",
       "        0.6566278373573162,\n",
       "        'Qual é o melhor herbicida para erva da ninha ?',\n",
       "        'sulfentrazone, flumioxazin', 0.5425541996955872,\n",
       "        0.565368927227933],\n",
       "       [6,\n",
       "        'HB19PR_SO06_SO07_SO08_SP_SO09 - Eficacia do herbicida imazethapyr associado a um inibidor da PROTOX para manejo de plantas daninhas na pre-emergencia da soja tolerante a glyphosate.pdf',\n",
       "        'Capítulo 2',\n",
       "        '2. INTRODUÇÃO No sistema de cultivo de soja a aplicação de herbicidas com atividade residual no solo pode ser benéfica (Procópio et al., 2006), devido a inibição do primeiro fluxo de emergência das plantas daninhas, a redução do banco de sementes e a prevenção do aparecimento de biótipos resistentes (Constantin et al., 2005). Esse manejo pode flexibilizar a aplicação de herbicidas como glyphosate na pós-emergência da soja, sem que ocorram perdas na produtividade devido a matocompetição. Devido ao aumento na ocorrência de biótipos de plantas daninhas resistentes a herbicidas como glyphosate, inibidores da ALS e/ou inibidores da ACCase, a utilização de mecanismos de ação alternativos, bem como a associação entre diferentes mecanismos de ação, é uma das alternativas utilizadas para atrasar ou manejar essas plantas daninhas resistentes. De acordo com Collares et al., (2008), herbicidas inibidores da ALS (como chlorimuron, cloransulam e imazethapyr) podem ser aplicados associados a inibidores da PROTOX, pois não ocorre interação entre esses herbicidas em relação à peroxidação da membrana celular em folhas de soja. Portanto, os sintomas de fitotoxicidade resultantes da aplicação de um PROTOX não são potencializados quando esse herbicida é associado a um inibidor da ALS.',\n",
       "        \"['Qual é a principal característica de herbicidas?', 'O que pode ser uma alternativa ao manejo da soja?', 'Que tipo de herbicidas podem ser aplicados em sistema de cultivo de soja?', 'Que tipo de herbicidas podem ser aplicados ao solo após a emergência da soja?', 'Qual é a principal razão para a utilização de herbicidas que inibim o primeiro fluxo de emergência das plantas daninhas?', 'Qual é uma das alternativas utilizadas para atrasar ou manejar essas plantas daninhas resistentes?', 'Qual é uma das alternativas utilizadas para atrasar ou manejar essas plantas daninhas resistentes?', 'Qual é a principal razão para a inibição do primeiro fluxo de emergência das plantas daninhas?', 'Qual é a principal razão para o manejo de herbicidas que podem ser considerados benéficos?', 'O que pode afetar a produtividade de plantas daninhas resistentes ao herbicidas?']\",\n",
       "        '2. INTRODUÇÃO No sistema de cultivo de soja a aplicação de herbicidas com atividade residual no solo pode ser benéfica (Procópio et al., 2006), devido a inibição do primeiro fluxo de emergência das plantas daninhas, a redução do banco de sementes e a prevenção do aparecimento de biótipos resistentes (Constantin et al., 2005). Esse manejo pode flexibilizar a aplicação de herbicidas como glyphosate na pós-emergência da soja, sem que ocorram perdas na produtividade devido a matocompetição. Devido ao aumento na ocorrência de biótipos de plantas daninhas resistentes a herbicidas como glyphosate, inibidores da ALS e/ou inibidores da ACCase, a utilização de mecanismos de ação alternativos, bem como a associação entre diferentes mecanismos de ação, é uma das alternativas utilizadas para atrasar ou manejar essas plantas daninhas resistentes. De acordo com Collares et al., (2008), herbicidas inibidores da ALS (como chlorimuron, cloransulam e imazethapyr) podem ser aplicados associados a inibidores da PROTOX, pois não ocorre interação entre esses herbicidas em relação à peroxidação da membrana celular em folhas de soja. Portanto, os sintomas de fitotoxicidade resultantes da aplicação de um PROTOX não são potencializados quando esse herbicida é associado a um inibidor da ALS. Qual é a principal característica de herbicidas? O que pode ser uma alternativa ao manejo da soja? Que tipo de herbicidas podem ser aplicados em sistema de cultivo de soja? Que tipo de herbicidas podem ser aplicados ao solo após a emergência da soja? Qual é a principal razão para a utilização de herbicidas que inibim o primeiro fluxo de emergência das plantas daninhas? Qual é uma das alternativas utilizadas para atrasar ou manejar essas plantas daninhas resistentes? Qual é uma das alternativas utilizadas para atrasar ou manejar essas plantas daninhas resistentes? Qual é a principal razão para a inibição do primeiro fluxo de emergência das plantas daninhas? Qual é a principal razão para o manejo de herbicidas que podem ser considerados benéficos? O que pode afetar a produtividade de plantas daninhas resistentes ao herbicidas?',\n",
       "        'Two.INTRODUCTION In the soybean farming system, the application of herbicides with residual activity in the soil may be beneficial (Procopio et al.2006), due to the inhibition of the first emergency flow of weeds, the reduction of the seed bank and the prevention of the appearance of resistant biotypes (Constantin et al.2005).This management can facilitate the application of herbicides such as glyphosate in the post-emergency soybean, without losses in productivity due to matocompetition.Due to the increase in the occurrence of herbicide-resistant weed biotypes such as glyphosate, ALS inhibitors and/or ACCase inhibitors, the use of alternative mechanisms of action, as well as the association between different mechanisms of action, is one of the alternatives used to delay or manage these resistant weeds.According to Collares et al., (2008), ALS-inhibiting herbicides (such as chlorimuron, chloransulam and imazethapyr) can be applied in combination with PROTOX-inhibitors, as there is no interaction between these herbicides in relation to the peroxidation of the cell membrane in soybean leaves.Therefore, symptoms of phytotoxicity resulting from the application of a PROTOX are not potentiated when this herbicide is associated with an ALS inhibitor.What is the main characteristic of herbicides?What can be an alternative to soybean management?What kind of herbicides can be applied in soybean growing system?What kind of herbicides can be applied to the soil after the emergence of soybeans?What is the main reason for using herbicides that inhibit the first emergency flow of weeds?What is one of the alternatives used to delay or manage these resistant weeds?What is one of the alternatives used to delay or manage these resistant weeds?What is the main reason for inhibiting the first emergency flow of weeds?What is the main reason for the management of herbicides that can be considered beneficial?What can affect the productivity of herbicide-resistant weeds?',\n",
       "        1.0000000000000002,\n",
       "        'Qual é o melhor herbicida para erva da ninha ?', 'glyphosate',\n",
       "        0.37375590205192566, 0.4990047216415405],\n",
       "       [3,\n",
       "        'HB19PR_SO06_SO07_SO08_SP_SO09 - Eficacia do herbicida imazethapyr associado a um inibidor da PROTOX para manejo de plantas daninhas na pre-emergencia da soja tolerante a glyphosate.pdf',\n",
       "        'Seção 1.2', '1.2 Projeto original: Fabc',\n",
       "        \"['O que é uma pergunta que surgiu da Fabc', 'Em que projeto original?', 'Qual foi o projeto original do Fabc?', 'Em que época a Fabc começou a construir um projeto?', 'Qual é o nome do projeto original para Fabc?', 'Qual foi a pergunta do quê?', 'Em que universidade: Fabc', 'Que projeto original: Fabc', 'A que nome o Projeto original: Fabc', 'O que foi feito na Fabc?']\",\n",
       "        '1.2 Projeto original: Fabc O que é uma pergunta que surgiu da Fabc Em que projeto original? Qual foi o projeto original do Fabc? Em que época a Fabc começou a construir um projeto? Qual é o nome do projeto original para Fabc? Qual foi a pergunta do quê? Em que universidade: Fabc Que projeto original: Fabc A que nome o Projeto original: Fabc O que foi feito na Fabc?',\n",
       "        \"1.2 Original Project: Fabc What is a question that came from Fabc In what original project?What was Fabc's original project?What time did Fabc start building a project?What is the name of the original project for Fabc?What was the question of what?In which university: Fabc What original project: Fabc What is the name of the original Project: Fabc What was done at Fabc?\",\n",
       "        0.1646392342006875,\n",
       "        'Qual é o melhor herbicida para erva da ninha ?', 'Fabc',\n",
       "        0.41921813786029816, 0.36830235712837606],\n",
       "       [7,\n",
       "        'HB19PR_SO06_SO07_SO08_SP_SO09 - Eficacia do herbicida imazethapyr associado a um inibidor da PROTOX para manejo de plantas daninhas na pre-emergencia da soja tolerante a glyphosate.pdf',\n",
       "        'Capítulo 3',\n",
       "        '3. OBJETIVOS Avaliar a eficácia das misturas formuladas de imazethapyr+sulfentrazone HDB 194 e Prompt, bem como de imazethapyr (Vezir ou Zaphir) associado a sulfentrazone (Alia, Kicker ou Stone), dos herbicidas Zethamaxx (imazethapyr+flumioxazin), Optill (imazethapyr+saflufenacil), Stone (sulfentrazone+diuron), Spider (diclosulan), e das associações de Imazetapir CCAB com Clorimuron CCAB e de Vezir com Osbar (flumioxazin), aplicados em pré-emergência para manejo de Urochloa plantaginea (papuã), Digitaria ciliaris (milhã), Commelina benghalensis (trapoeraba) e Ipomoea spp. (corda-de-viola) em um sistema com soja RR (tolerante a glyphosate).',\n",
       "        \"['Qual foi a eficácia das misturas formuladas de imazethapyr+sulfentrazone HDB 194 e Prompt?', 'Qual foi o nome da mistura que é utilizada para o manejo de Uvanapir na agricultura de um sistema com soja RR?', 'Qual é o nome do imazethapyr +sulfentrazone?', 'O que a água pode ser utilizada para o manejo de Ipomoea spp.?', 'Qual é o nome do herbicida avaliado?', 'O que é uma mistura de SGT?', 'Qual é o nome da planta plantaginea?', 'Qual é o nome do herbicida utilizado para manejo de Urochloa plantaginea?', 'O que é o mais importante para o manejo de Ipomoea spp.?', 'Qual é o nome do híbrido de imazethapyr+sulfentrazone?']\",\n",
       "        '3. OBJETIVOS Avaliar a eficácia das misturas formuladas de imazethapyr+sulfentrazone HDB 194 e Prompt, bem como de imazethapyr (Vezir ou Zaphir) associado a sulfentrazone (Alia, Kicker ou Stone), dos herbicidas Zethamaxx (imazethapyr+flumioxazin), Optill (imazethapyr+saflufenacil), Stone (sulfentrazone+diuron), Spider (diclosulan), e das associações de Imazetapir CCAB com Clorimuron CCAB e de Vezir com Osbar (flumioxazin), aplicados em pré-emergência para manejo de Urochloa plantaginea (papuã), Digitaria ciliaris (milhã), Commelina benghalensis (trapoeraba) e Ipomoea spp. (corda-de-viola) em um sistema com soja RR (tolerante a glyphosate). Qual foi a eficácia das misturas formuladas de imazethapyr+sulfentrazone HDB 194 e Prompt? Qual foi o nome da mistura que é utilizada para o manejo de Uvanapir na agricultura de um sistema com soja RR? Qual é o nome do imazethapyr +sulfentrazone? O que a água pode ser utilizada para o manejo de Ipomoea spp.? Qual é o nome do herbicida avaliado? O que é uma mistura de SGT? Qual é o nome da planta plantaginea? Qual é o nome do herbicida utilizado para manejo de Urochloa plantaginea? O que é o mais importante para o manejo de Ipomoea spp.? Qual é o nome do híbrido de imazethapyr+sulfentrazone?',\n",
       "        \"Three.OBJECTIVES To evaluate the efficacy of the formulated mixtures of imazethapyr+sulfentrazone HDB 194 and Prompt, as well as of imazethapyr (Vezir or Zaphir) associated with sulfentrazone (Alia, Kicker or Stone), the herbicides Zethamaxx (imazethapyr+flumioxazine), Optill (imazethapyr+saflufenacil), Stone (sulfentrazone+diuron), Spider (diclosulan), and the associations of Imazetapir CCAB with Chlorimuron CCAB and Vezir with Osbar (flumioxazine), applied in pre-emergency for the management of Urochloa plantagena (papuan), Digitaria ciliaris (milhã), Commelina benghalensis (trapoerabi) and Ipomoea spp. (Viola rope) in a system with soy RR (glyphosate-tolerant).What was the efficacy of the formulated mixtures of imazethapyr+sulfentrazone HDB 194 and Prompt?What was the name of the mixture that is used for the management of Uvanapir in the agriculture of a system with soy RR?What is the name of imazethapyr +sulfentrazone?What can water be used for the management of Ipomoea spp.?What is the name of the herbicide evaluated?What is a mixture of SGT?What's the name of the plantagene plant?What is the name of the herbicide used to manage Urochloa plantagena?What is most important for the management of Ipomoea spp.?What is the name of the hybrid of imazethapyr+sulfentrazone?\",\n",
       "        0.4531998966808936,\n",
       "        'Qual é o melhor herbicida para erva da ninha ?', 'Zethamaxx',\n",
       "        0.34651750326156616, 0.3678539819454316]], dtype=object)"
      ]
     },
     "execution_count": 3,
     "metadata": {},
     "output_type": "execute_result"
    }
   ],
   "source": [
    "# from Model import Model\n",
    "# model = Model()\n",
    "# result = model.predict(X,None)\n",
    "# result"
   ]
  }
 ],
 "metadata": {
  "celltoolbar": "Tags",
  "experiment_id": "ef8ec4df-3841-4f9e-bae5-e31f972d804f",
  "kernelspec": {
   "display_name": "Python 3",
   "language": "python",
   "name": "python3"
  },
  "language_info": {
   "codemirror_mode": {
    "name": "ipython",
    "version": 3
   },
   "file_extension": ".py",
   "mimetype": "text/x-python",
   "name": "python",
   "nbconvert_exporter": "python",
   "pygments_lexer": "ipython3",
   "version": "3.7.10"
  },
  "operator_id": "fa0f75a4-290c-4e0c-81b3-d2be4f9eb711",
  "task_id": "f0b85b86-193d-4b0a-9e61-440acd2202f9"
 },
 "nbformat": 4,
 "nbformat_minor": 4
}
