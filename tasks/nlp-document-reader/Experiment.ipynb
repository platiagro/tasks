{
 "cells": [
  {
   "cell_type": "markdown",
   "metadata": {},
   "source": [
    "# Document Reader - Experimento\n",
    "\n",
    "Preencha aqui com detalhes sobre a tarefa.<br>\n",
    "### **Em caso de dúvidas, consulte os [tutoriais da PlatIAgro](https://platiagro.github.io/tutorials/).**"
   ]
  },
  {
   "cell_type": "markdown",
   "metadata": {},
   "source": [
    "## Declaração de parâmetros e hiperparâmetros\n",
    "\n",
    "Declare parâmetros com o botão <img src=\"data:image/png;base64,iVBORw0KGgoAAAANSUhEUgAAABQAAAAUCAYAAACNiR0NAAABhWlDQ1BJQ0MgcHJvZmlsZQAAKJF9kT1Iw0AcxV9TtaIVBzuIOASpThb8QhylikWwUNoKrTqYXPohNGlIUlwcBdeCgx+LVQcXZ10dXAVB8APEydFJ0UVK/F9SaBHjwXE/3t173L0DhFqJqWbbGKBqlpGMRcVMdkUMvKID3QhiCOMSM/V4aiENz/F1Dx9f7yI8y/vcn6NHyZkM8InEs0w3LOJ14ulNS+e8TxxiRUkhPiceNeiCxI9cl11+41xwWOCZISOdnCMOEYuFFpZbmBUNlXiKOKyoGuULGZcVzluc1VKFNe7JXxjMacsprtMcRAyLiCMBETIq2EAJFiK0aqSYSNJ+1MM/4PgT5JLJtQFGjnmUoUJy/OB/8LtbMz854SYFo0D7i21/DAOBXaBete3vY9uunwD+Z+BKa/rLNWDmk/RqUwsfAb3bwMV1U5P3gMsdoP9JlwzJkfw0hXweeD+jb8oCfbdA16rbW2Mfpw9AmrpaugEODoGRAmWveby7s7W3f880+vsBocZyukMJsmwAAAAGYktHRAD/AP8A/6C9p5MAAAAJcEhZcwAADdcAAA3XAUIom3gAAAAHdElNRQfkBgsMIwnXL7c0AAACDUlEQVQ4y92UP4gTQRTGf29zJxhJZ2NxbMBKziYWlmJ/ile44Nlkd+dIYWFzItiNgoIEtFaTzF5Ac/inE/urtLWxsMqmUOwCEpt1Zmw2xxKi53XitPO9H9978+aDf/3IUQvSNG0450Yi0jXG7C/eB0cFeu9viciGiDyNoqh2KFBrHSilWstgnU7nFLBTgl+ur6/7PwK11kGe5z3n3Hul1MaiuCgKDZwALHA7z/Oe1jpYCtRaB+PxuA8kQM1aW68Kt7e3zwBp6a5b1ibj8bhfhQYVZwMRiQHrvW9nWfaqCrTWPgRWvPdvsiy7IyLXgEJE4slk8nw+T5nDgDbwE9gyxryuwpRSF5xz+0BhrT07HA4/AyRJchUYASvAbhiGaRVWLIMBYq3tAojIszkMoNRulbXtPM8HwV/sXSQi54HvQRDcO0wfhGGYArvAKjAq2wAgiqJj3vsHpbtur9f7Vi2utLx60LLW2hljEuBJOYu9OI6vAzQajRvAaeBLURSPlsBelA+VhWGYaq3dwaZvbm6+m06noYicE5ErrVbrK3AXqHvvd4bD4Ye5No7jSERGwKr3Pms2m0pr7Rb30DWbTQWYcnFvAieBT7PZbFB1V6vVfpQaU4UtDQetdTCZTC557/eA48BlY8zbRZ1SqrW2tvaxCvtt2iRJ0i9/xb4x5uJRwmNlaaaJ3AfqIvKY/+78Av++6uiSZhYMAAAAAElFTkSuQmCC\" /> na barra de ferramentas.<br>\n",
    "A variável `dataset` possui o caminho para leitura do arquivos importados na tarefa de \"Upload de dados\".<br>\n",
    "Você também pode importar arquivos com o botão <img src=\"data:image/png;base64,iVBORw0KGgoAAAANSUhEUgAAABQAAAAUCAYAAACNiR0NAAABhWlDQ1BJQ0MgcHJvZmlsZQAAKJF9kT1Iw0AcxV9TtaIVBzuIOASpThb8QhylikWwUNoKrTqYXPohNGlIUlwcBdeCgx+LVQcXZ10dXAVB8APEydFJ0UVK/F9SaBHjwXE/3t173L0DhFqJqWbbGKBqlpGMRcVMdkUMvKID3QhiCOMSM/V4aiENz/F1Dx9f7yI8y/vcn6NHyZkM8InEs0w3LOJ14ulNS+e8TxxiRUkhPiceNeiCxI9cl11+41xwWOCZISOdnCMOEYuFFpZbmBUNlXiKOKyoGuULGZcVzluc1VKFNe7JXxjMacsprtMcRAyLiCMBETIq2EAJFiK0aqSYSNJ+1MM/4PgT5JLJtQFGjnmUoUJy/OB/8LtbMz854SYFo0D7i21/DAOBXaBete3vY9uunwD+Z+BKa/rLNWDmk/RqUwsfAb3bwMV1U5P3gMsdoP9JlwzJkfw0hXweeD+jb8oCfbdA16rbW2Mfpw9AmrpaugEODoGRAmWveby7s7W3f880+vsBocZyukMJsmwAAAAGYktHRAD/AP8A/6C9p5MAAAAJcEhZcwAADdcAAA3XAUIom3gAAAAHdElNRQfkBgsOBy6ASTeXAAAC/0lEQVQ4y5WUT2gcdRTHP29m99B23Uiq6dZisgoWCxVJW0oL9dqLfyhCvGWY2YUBI95MsXgwFISirQcLhS5hfgk5CF3wJIhFI7aHNsL2VFZFik1jS1qkiZKdTTKZ3/MyDWuz0fQLc/m99/vMvDfv+4RMlUrlkKqeAAaBAWAP8DSgwJ/AXRG5rao/WWsvTU5O3qKLBMD3fSMiPluXFZEPoyj67PGAMzw83PeEMABHVT/oGpiamnoAmCcEWhH5tFsgF4bh9oWFhfeKxeJ5a+0JVT0oImWgBPQCKfAQuAvcBq67rltX1b+6ApMkKRcKhe9V9QLwbavV+qRer692Sx4ZGSnEcXw0TdP3gSrQswGYz+d/S5IkVtXTwOlCoZAGQXAfmAdagAvsAErtdnuXiDy6+023l7qNRsMODg5+CawBzwB9wFPA7mx8ns/KL2Tl3xCRz5eWlkabzebahrHxPG+v4zgnc7ncufHx8Z+Hhoa29fT0lNM03Q30ikiqqg+ttX/EcTy3WTvWgdVqtddaOw/kgXvADHBHROZVNRaRvKruUNU+EdkPfGWM+WJTYOaSt1T1LPDS/4zLWWPMaLVaPWytrYvIaBRFl/4F9H2/JCKvGmMu+76/X0QOqGoZKDmOs1NV28AicMsYc97zvFdc1/0hG6kEeNsY83UnsCwivwM3VfU7YEZE7lhr74tIK8tbnJiYWPY8b6/ruleAXR0ftQy8boyZXi85CIIICDYpc2ZgYODY3NzcHmvt1eyvP64lETkeRdE1yZyixWLx5U2c8q4x5mIQBE1g33/0d3FlZeXFR06ZttZesNZejuO4q1NE5CPgWVV9E3ij47wB1IDlJEn+ljAM86urq7+KyAtZTgqsO0VV247jnOnv7/9xbGzMViqVMVX9uANYj6LonfVtU6vVkjRNj6jqGeCXzGrPAQeA10TkuKpOz87ONrayhnIA2Qo7BZwKw3B7kiRloKSqO13Xja21C47jPNgysFO1Wi0GmtmzQap6DWgD24A1Vb3SGf8Hfstmz1CuXEIAAAAASUVORK5CYII=\" /> na barra de ferramentas."
   ]
  },
  {
   "cell_type": "code",
   "execution_count": 1,
   "metadata": {
    "tags": [
     "parameters"
    ]
   },
   "outputs": [],
   "source": [
    "dataset = \"/tmp/data/reports_contexts-2.csv\" #@param {type:\"string\"}\n",
    "\n",
    "question = \"Qual é o melhor herbicida para erva da ninha ?\" #@param {type:\"string\",label:\"Pergunta para a qual os contextos devem ser ranqueados\"}\n",
    "top = 10 #@param {type:\"integer\",label:\"Número de passagens em que o Reader tem maior certeza de ser a reposta correta retornar\"}\n",
    "\n",
    "### Dados para Treinamento\n",
    "\n",
    "# Dataset\n",
    "column_context = \"context\" #@param [\"context\"] {type:\"string\",label:\"Coluna contexto\",description:\"Coluna em que estão contidas os contextos\"}\n",
    "column_question = \"question\" #@param {type:\"string\",label:\"Coluna pergunta\",description:\"Coluna em que estão contidas as perguntas. Apenas considerada se train_from_zero=True\"}\n",
    "column_answer_start = \"answer_start\" #@param {type:\"string\",label:\"Coluna posição inicio da resposta\",description:\"Coluna com a posição de início da resposta na string. Apenas considerada se train_from_zero=True\"}\n",
    "column_answer_end= \"answer_end\" #@param {type:\"string\",label:\"Coluna posição fim da resposta\",description:\"Coluna com a posição de fim da resposta na string. Apenas considerada se train_from_zero=True\"}\n",
    "train_from_zero = False #@param {type:\"boolean\",label:\"Treinamento do algorítimo do zero\",description:\"Caso True utiliza o algorítimo com finne-tunning no squad em português. Caso True retreina do zero\"}\n",
    "train_from_squad = False #@param {type:\"boolean\",label:\"Treinamento do algorítimo pelo Sqaud\",description:\"Caso True utiliza treinará algorítimo com finne-tunning no squad em português. Caso False teinará com o dataset passado\"}\n",
    "\n",
    "#prepare_data\n",
    "dev_size_from_data= 0.2 #@param {type:\"float\",label:\"Porcentagem para avaliação\",description:\"Parcela dos dados utilizadas para avaliação, sendo o restante utilizado para treino. Apenas considerada se train_from_zero=True e train_from_squad=True\"}\n",
    "test_size_from_dev= 0.5 #@param {type:\"float\",label:\"Porcentagem para teste\",description:\"Parcela dos dados utilizadas para avaliação que serã utilizados para teste, sendo o restante utilizado para validação. Apenas considerada se train_from_zero=True\"}\n",
    "batch_dataset_preparation = 30 #@param {type:\"float\",label:\"Batch para preparação dos dados\",description:\"Tamanho do batchque o tokenizador utilizará para preparar o dataset. Apenas considerada se train_from_zero=True\"}\n",
    "\n",
    "#hyperparams\n",
    "model_name= \"neuralmind/bert-large-portuguese-cased\" #@param {type:\"string\",label:\"Modelo\",description:\"Modelo utilizado da base de modelo do hugginfaces\"}\n",
    "train_batch_size= 2 #@param {type:\"integer\",label:\"Batch size para treino\"}\n",
    "eval_batch_size= 2 #@param {type:\"integer\",label:\"Batch size para inferência\"}\n",
    "max_length= 384 #@param {type:\"integer\",label:\"Tamanho da sentença\",description:\"Tamanho máximo da sentença Contexto + Question em tokens\"}\n",
    "doc_stride= 128 #@param {type:\"integer\",label:\"Passo do documento\", description:\"Quando uma sequência é dividia em N, o argumento doc_stride delimita o quanto a sentença seguinte possuirá de tokens da sentença anterior\"}\n",
    "learning_rate= 3.0e-5 #@param {type:\"float\",label:\"Taxa de aprendizado\"}\n",
    "eps= 1.0e-08 #@param {type:\"integer\",float:\"Valor de estabilidade do otimizador Adam\"}\n",
    "seed = 13 #@param {type:\"integer\",label:\"Semente de aleatoriedade\"}\n",
    "\n",
    "#lightning_params\n",
    "num_gpus= 1 #@param {type:\"integer\",label:\"Numero de GPUs\"}\n",
    "profiler= True #@param {type:\"integer\",label:\"Resumo\"}\n",
    "max_epochs= 2 #@param {type:\"integer\",label:\"Máximo de épocas para treinamento\"}\n",
    "accumulate_grad_batches= 16 #@param {type:\"integer\",label:\"Batchs acumulados\",description:\"Batchs acumulados antes de atualizar os pesos\"}\n",
    "check_val_every_n_epoch= 1 #@param {type:\"integer\",label:\"Frequência Validação\",description:\"Frequência da chamada da validação em épocas\"}\n",
    "progress_bar_refresh_rate= 1 #@param {type:\"integer\",label:\"Frequência de autuazaliação da barra de progresso\"}\n",
    "gradient_clip_val= 1.0 #@param {type:\"float\",label:\"Favor de corte dos gradientes\",\"description\":\"O fator evita que os gradientes explodam definindo um limite para os mesmos\"}\n",
    "fast_dev_run= False #@param {type:\"boolean\",label:\"Rodar um batch\",description:\"Utilizado para validar que todas as partes estão funcionando antes de treinar o modelo por inteiro\"}\n",
    "\n",
    "#early_stop_callback\n",
    "monitor= 'avg_train_loss' #@param {type:\"integer\",label:\"Frequência de autuazaliação da barra de progresso\"}\n",
    "min_delta= 0.01 #@param {type:\"integer\",label:\"Variação mínima entre épocas\"}\n",
    "patience= 1 #@param {type:\"integer\",label:\"Epera após atingir variação mínima\"}\n",
    "verbose= False #@param {type:\"boolean\",label:\"Disponibilizar informações early stop\"}\n",
    "mode= 'min' #@param [\"min\",\"max\"] {type:\"integer\",label:\"Modo de parada\",description: \"Modo de funcionamento para critério de parada\"}"
   ]
  },
  {
   "cell_type": "markdown",
   "metadata": {},
   "source": [
    "## Leitura do conjunto de dados\n",
    "\n",
    "O exemplo abaixo faz a leitura de dados tabulares (ex: .csv).<br>\n",
    "Modifique o código de acordo com o tipo de dado que desejar ler."
   ]
  },
  {
   "cell_type": "code",
   "execution_count": 4,
   "metadata": {},
   "outputs": [],
   "source": [
    "import pandas as pd\n",
    "\n",
    "df = pd.read_csv(dataset)"
   ]
  },
  {
   "cell_type": "code",
   "execution_count": 5,
   "metadata": {},
   "outputs": [],
   "source": [
    "if \"context\" not in df.columns:\n",
    "    raise ValueError(\"A coluna context deve estar obrigatoramente contida no dataset\")"
   ]
  },
  {
   "cell_type": "markdown",
   "metadata": {},
   "source": [
    "## Divide dataset em subconjuntos de treino, validação e teste\n",
    "\n",
    "Subconjunto de treino: amostra de dados usada para treinar o modelo.<br>\n",
    "Subconjunto de treino: amostra de dados usada para validar o modelo.<br>\n",
    "Subconjunto de teste: amostra de dados usada para fornecer uma avaliação imparcial do treinamento do modelo no subconjunto de dados de treino."
   ]
  },
  {
   "cell_type": "code",
   "execution_count": 6,
   "metadata": {},
   "outputs": [],
   "source": [
    "from sklearn.model_selection import train_test_split\n",
    "    \n",
    "if (train_from_zero and not train_from_squad):\n",
    "    df_train,df_ = train_test_split(df, train_size=dev_size_from_data)\n",
    "    df_valid, df_test = train_test_split(df_, train_size=test_size_from_dev)\n",
    "    train_output = 'df_squad_train_bert_chuncked.csv'\n",
    "    valid_output = 'df_squad_valid_bert_chuncked.csv'\n",
    "    test_output =  'df_squad_test_bert_chuncked.csv'\n",
    "    df_train.to_csv(os.path.join(train_output),index=False)\n",
    "    df_valid.to_csv(os.path.join(valid_output),index=False)\n",
    "    df_test.to_csv(os.path.join(test_output),index=False)\n",
    "else:\n",
    "    df_test = df"
   ]
  },
  {
   "cell_type": "markdown",
   "metadata": {},
   "source": [
    "## Configurando Argumentos"
   ]
  },
  {
   "cell_type": "code",
   "execution_count": 7,
   "metadata": {},
   "outputs": [],
   "source": [
    "# Mapeando dirpaths\n",
    "import os\n",
    "data_dir  =  root_dir = os.getcwd()\n",
    "logs_dir = os.path.join(root_dir,\"lightning_logs\")\n",
    "# Colocando parâmetros de entrada no fromato esperado\n",
    "hparams = {\n",
    "    \"model_name\":model_name,\n",
    "    \"train_batch_size\":train_batch_size,\n",
    "    \"eval_batch_size\":eval_batch_size,\n",
    "    \"max_length\":max_length,\n",
    "    \"doc_stride\":doc_stride,\n",
    "    \"learning_rate\":learning_rate,\n",
    "    \"eps\":eps,\n",
    "    \"seed\":seed,\n",
    "    \n",
    "}\n",
    "\n",
    "lightning_params = {\n",
    "    \"num_gpus\":num_gpus,\n",
    "    \"profiler\":profiler,\n",
    "    \"max_epochs\":max_epochs,\n",
    "    \"accumulate_grad_batches\":accumulate_grad_batches,\n",
    "    \"check_val_every_n_epoch\":check_val_every_n_epoch,\n",
    "    \"progress_bar_refresh_rate\":progress_bar_refresh_rate,\n",
    "    \"gradient_clip_val\":gradient_clip_val,\n",
    "    \"fast_dev_run\":fast_dev_run,\n",
    "}\n",
    "\n",
    "\n",
    "early_stop_callback_params = {\n",
    "     \"monitor\":monitor,\n",
    "    \"min_delta\":min_delta,\n",
    "    \"patience\":patience,\n",
    "    \"verbose\":verbose,\n",
    "    \"mode\":mode,    \n",
    "}\n",
    "\n",
    "prepare_data_params = {\n",
    "     \"batch_dataset_preparation\":batch_dataset_preparation,\n",
    "     \"test_size_from_dev\":test_size_from_dev,\n",
    "}\n",
    "\n",
    "# Configurações\n",
    "config = {'params':{'hparams':hparams,\n",
    "                    'lightning_params':lightning_params,\n",
    "                    'early_stop_callback_params':early_stop_callback_params,\n",
    "                    'prepare_data_params':prepare_data_params },\n",
    "\n",
    "        'dirpaths':{'data_dirpath':data_dir,\n",
    "                'log_dirpath':logs_dir,\n",
    "                'cwd_dirpath':root_dir},\n",
    "}"
   ]
  },
  {
   "cell_type": "markdown",
   "metadata": {},
   "source": [
    "## Treinamento do Zero / Recuperação dos pesos"
   ]
  },
  {
   "cell_type": "code",
   "execution_count": 8,
   "metadata": {},
   "outputs": [
    {
     "data": {
      "application/vnd.jupyter.widget-view+json": {
       "model_id": "cb6337f7efbe42b89f9efdbeeb83ad34",
       "version_major": 2,
       "version_minor": 0
      },
      "text/plain": [
       "Downloading:   0%|          | 0.00/648 [00:00<?, ?B/s]"
      ]
     },
     "metadata": {},
     "output_type": "display_data"
    },
    {
     "data": {
      "application/vnd.jupyter.widget-view+json": {
       "model_id": "159fbb4e905846b3bf9de2c969e7d96b",
       "version_major": 2,
       "version_minor": 0
      },
      "text/plain": [
       "Downloading:   0%|          | 0.00/210k [00:00<?, ?B/s]"
      ]
     },
     "metadata": {},
     "output_type": "display_data"
    },
    {
     "data": {
      "application/vnd.jupyter.widget-view+json": {
       "model_id": "4eb1cdbe051c4e43a3c70b07b87d12ac",
       "version_major": 2,
       "version_minor": 0
      },
      "text/plain": [
       "Downloading:   0%|          | 0.00/2.00 [00:00<?, ?B/s]"
      ]
     },
     "metadata": {},
     "output_type": "display_data"
    },
    {
     "data": {
      "application/vnd.jupyter.widget-view+json": {
       "model_id": "cc34c4254e2545ff8a40778576921d4d",
       "version_major": 2,
       "version_minor": 0
      },
      "text/plain": [
       "Downloading:   0%|          | 0.00/112 [00:00<?, ?B/s]"
      ]
     },
     "metadata": {},
     "output_type": "display_data"
    },
    {
     "data": {
      "application/vnd.jupyter.widget-view+json": {
       "model_id": "ed142594a8d343b1a0c9d94441cc8131",
       "version_major": 2,
       "version_minor": 0
      },
      "text/plain": [
       "Downloading:   0%|          | 0.00/155 [00:00<?, ?B/s]"
      ]
     },
     "metadata": {},
     "output_type": "display_data"
    },
    {
     "name": "stdout",
     "output_type": "stream",
     "text": [
      "--2021-07-14 15:08:45--  https://storage.googleapis.com/platiagro/Vident/default_document_reader_squad_pt.ckpt\n",
      "Resolving storage.googleapis.com (storage.googleapis.com)... 172.217.173.112, 172.217.28.240, 172.217.29.16, ...\n",
      "Connecting to storage.googleapis.com (storage.googleapis.com)|172.217.173.112|:443... connected.\n",
      "HTTP request sent, awaiting response... 200 OK\n",
      "Length: 4000612094 (3.7G) [application/octet-stream]\n",
      "Saving to: ‘default_document_reader_squad_pt.ckpt’\n",
      "\n",
      "default_document_re 100%[===================>]   3.73G  12.1MB/s    in 5m 4s   \n",
      "\n",
      "2021-07-14 15:13:51 (12.6 MB/s) - ‘default_document_reader_squad_pt.ckpt’ saved [4000612094/4000612094]\n",
      "\n"
     ]
    },
    {
     "name": "stderr",
     "output_type": "stream",
     "text": [
      "Global seed set to 13\n"
     ]
    },
    {
     "data": {
      "application/vnd.jupyter.widget-view+json": {
       "model_id": "1d8736eaa34240c2b67108609ee6301c",
       "version_major": 2,
       "version_minor": 0
      },
      "text/plain": [
       "Downloading:   0%|          | 0.00/1.34G [00:00<?, ?B/s]"
      ]
     },
     "metadata": {},
     "output_type": "display_data"
    },
    {
     "name": "stderr",
     "output_type": "stream",
     "text": [
      "Some weights of the model checkpoint at neuralmind/bert-large-portuguese-cased were not used when initializing BertForQuestionAnswering: ['cls.predictions.bias', 'cls.predictions.transform.dense.weight', 'cls.predictions.transform.dense.bias', 'cls.predictions.transform.LayerNorm.weight', 'cls.predictions.transform.LayerNorm.bias', 'cls.predictions.decoder.weight', 'cls.seq_relationship.weight', 'cls.seq_relationship.bias']\n",
      "- This IS expected if you are initializing BertForQuestionAnswering from the checkpoint of a model trained on another task or with another architecture (e.g. initializing a BertForSequenceClassification model from a BertForPreTraining model).\n",
      "- This IS NOT expected if you are initializing BertForQuestionAnswering from the checkpoint of a model that you expect to be exactly identical (initializing a BertForSequenceClassification model from a BertForSequenceClassification model).\n",
      "Some weights of BertForQuestionAnswering were not initialized from the model checkpoint at neuralmind/bert-large-portuguese-cased and are newly initialized: ['qa_outputs.weight', 'qa_outputs.bias']\n",
      "You should probably TRAIN this model on a down-stream task to be able to use it for predictions and inference.\n"
     ]
    }
   ],
   "source": [
    "import os\n",
    "import pytorch_lightning as pl\n",
    "from caller import Reader_Caller\n",
    "\n",
    "# Criando Caller\n",
    "reader_caller = Reader_Caller(config)\n",
    "\n",
    "#Fazendo Build\n",
    "reader_caller.build()\n",
    "\n",
    "if train_from_zero:\n",
    "        \n",
    "    #Preparando dados\n",
    "    if train_from_squad:\n",
    "        squad_train_path = os.path.join(data_dir,'squad-train-v1.1.json')\n",
    "        squad_dev_path= os.path.join(data_dir,'squad-dev-v1.1.json')\n",
    "        \n",
    "        prepared_datapaths = reader_caller.prepare_data(squad_train_path=squad_train_path,\n",
    "                                                        squad_dev_path=squad_dev_path)\n",
    "    else:\n",
    "        \n",
    "        prepared_datapaths = {\n",
    "                                'prepared_data_train_path':train_output,\n",
    "                                 'prepared_data_valid_path':valid_output,\n",
    "                                 'prepared_data_test_path':test_output\n",
    "                             }\n",
    "    \n",
    "    \n",
    "    # Treinamento\n",
    "    _ = reader_caller.train(train_path=prepared_datapaths['prepared_data_train_path'],\n",
    "                            valid_path=prepared_datapaths['prepared_data_valid_path'],\n",
    "                            test_path=prepared_datapaths['prepared_data_test_path'])\n",
    "    \n",
    "    MODEL_PATH = \"trained_model.ckpt\"\n",
    "    reader_caller.save_checkpoint(MODEL_PATH)\n",
    "    \n",
    "    # Avaliação\n",
    "    reader_caller.evaluate()\n",
    "else:\n",
    "    MODEL_PATH = \"default_document_reader_squad_pt.ckpt\"\n",
    "    if not os.path.exists(MODEL_PATH):\n",
    "        !wget -nc https://storage.googleapis.com/platiagro/Vident/default_document_reader_squad_pt.ckpt\n",
    "    \n",
    "    reader_caller.load_model(checkpoint_path=MODEL_PATH)"
   ]
  },
  {
   "cell_type": "markdown",
   "metadata": {},
   "source": [
    "## Ranqueando contextos para a pergunta"
   ]
  },
  {
   "cell_type": "code",
   "execution_count": 9,
   "metadata": {},
   "outputs": [
    {
     "data": {
      "text/html": [
       "<div>\n",
       "<style scoped>\n",
       "    .dataframe tbody tr th:only-of-type {\n",
       "        vertical-align: middle;\n",
       "    }\n",
       "\n",
       "    .dataframe tbody tr th {\n",
       "        vertical-align: top;\n",
       "    }\n",
       "\n",
       "    .dataframe thead th {\n",
       "        text-align: right;\n",
       "    }\n",
       "</style>\n",
       "<table border=\"1\" class=\"dataframe\">\n",
       "  <thead>\n",
       "    <tr style=\"text-align: right;\">\n",
       "      <th></th>\n",
       "      <th>question</th>\n",
       "      <th>context</th>\n",
       "      <th>answer</th>\n",
       "      <th>answer_prob</th>\n",
       "      <th>index</th>\n",
       "    </tr>\n",
       "  </thead>\n",
       "  <tbody>\n",
       "    <tr>\n",
       "      <th>0</th>\n",
       "      <td>Qual é o melhor herbicida para erva da ninha ?</td>\n",
       "      <td>1.1 Código do projeto: HB17FE01</td>\n",
       "      <td>[CLS]</td>\n",
       "      <td>0.686202</td>\n",
       "      <td>2</td>\n",
       "    </tr>\n",
       "    <tr>\n",
       "      <th>1</th>\n",
       "      <td>Qual é o melhor herbicida para erva da ninha ?</td>\n",
       "      <td>Setor de Herbologia SELETIVIDADE DE HERBICID...</td>\n",
       "      <td>Gamit 360 CS, Stone, Pacto e Dual Gold</td>\n",
       "      <td>0.664748</td>\n",
       "      <td>0</td>\n",
       "    </tr>\n",
       "    <tr>\n",
       "      <th>2</th>\n",
       "      <td>Qual é o melhor herbicida para erva da ninha ?</td>\n",
       "      <td>1.3 Palavras-Chave: clomazone, sulfentrazone,...</td>\n",
       "      <td>clomazone, sulfentrazone, cloransulam, s - met...</td>\n",
       "      <td>0.432619</td>\n",
       "      <td>4</td>\n",
       "    </tr>\n",
       "    <tr>\n",
       "      <th>3</th>\n",
       "      <td>Qual é o melhor herbicida para erva da ninha ?</td>\n",
       "      <td>1.2 Projeto original: Fabc</td>\n",
       "      <td>Fabc</td>\n",
       "      <td>0.419218</td>\n",
       "      <td>3</td>\n",
       "    </tr>\n",
       "    <tr>\n",
       "      <th>4</th>\n",
       "      <td>Qual é o melhor herbicida para erva da ninha ?</td>\n",
       "      <td>3. OBJETIVOS  Avaliar a seletividade dos herb...</td>\n",
       "      <td>Gamit 360 CS</td>\n",
       "      <td>0.335815</td>\n",
       "      <td>7</td>\n",
       "    </tr>\n",
       "    <tr>\n",
       "      <th>5</th>\n",
       "      <td>Qual é o melhor herbicida para erva da ninha ?</td>\n",
       "      <td>1. IDENTIFICAÇÃO DO PROJETO</td>\n",
       "      <td>herbicida</td>\n",
       "      <td>0.334131</td>\n",
       "      <td>1</td>\n",
       "    </tr>\n",
       "    <tr>\n",
       "      <th>6</th>\n",
       "      <td>Qual é o melhor herbicida para erva da ninha ?</td>\n",
       "      <td>4. MATERIAL E MÉTODOS</td>\n",
       "      <td>erva da ninha</td>\n",
       "      <td>0.284854</td>\n",
       "      <td>8</td>\n",
       "    </tr>\n",
       "    <tr>\n",
       "      <th>7</th>\n",
       "      <td>Qual é o melhor herbicida para erva da ninha ?</td>\n",
       "      <td>1.4 Responsável Técnico: Engº Agrº M.e Luís H...</td>\n",
       "      <td>[CLS]</td>\n",
       "      <td>0.231787</td>\n",
       "      <td>5</td>\n",
       "    </tr>\n",
       "    <tr>\n",
       "      <th>8</th>\n",
       "      <td>Qual é o melhor herbicida para erva da ninha ?</td>\n",
       "      <td>4.1 Localização: o projeto de pesquisa foi in...</td>\n",
       "      <td>ambos A moderado</td>\n",
       "      <td>0.178983</td>\n",
       "      <td>9</td>\n",
       "    </tr>\n",
       "    <tr>\n",
       "      <th>9</th>\n",
       "      <td>Qual é o melhor herbicida para erva da ninha ?</td>\n",
       "      <td>2. INTRODUÇÃO   A seletividade dos herbicidas...</td>\n",
       "      <td></td>\n",
       "      <td>0.111050</td>\n",
       "      <td>6</td>\n",
       "    </tr>\n",
       "  </tbody>\n",
       "</table>\n",
       "</div>"
      ],
      "text/plain": [
       "                                         question  \\\n",
       "0  Qual é o melhor herbicida para erva da ninha ?   \n",
       "1  Qual é o melhor herbicida para erva da ninha ?   \n",
       "2  Qual é o melhor herbicida para erva da ninha ?   \n",
       "3  Qual é o melhor herbicida para erva da ninha ?   \n",
       "4  Qual é o melhor herbicida para erva da ninha ?   \n",
       "5  Qual é o melhor herbicida para erva da ninha ?   \n",
       "6  Qual é o melhor herbicida para erva da ninha ?   \n",
       "7  Qual é o melhor herbicida para erva da ninha ?   \n",
       "8  Qual é o melhor herbicida para erva da ninha ?   \n",
       "9  Qual é o melhor herbicida para erva da ninha ?   \n",
       "\n",
       "                                             context  \\\n",
       "0                    1.1 Código do projeto: HB17FE01   \n",
       "1    Setor de Herbologia SELETIVIDADE DE HERBICID...   \n",
       "2   1.3 Palavras-Chave: clomazone, sulfentrazone,...   \n",
       "3                         1.2 Projeto original: Fabc   \n",
       "4   3. OBJETIVOS  Avaliar a seletividade dos herb...   \n",
       "5                       1. IDENTIFICAÇÃO DO PROJETO    \n",
       "6                             4. MATERIAL E MÉTODOS    \n",
       "7   1.4 Responsável Técnico: Engº Agrº M.e Luís H...   \n",
       "8   4.1 Localização: o projeto de pesquisa foi in...   \n",
       "9   2. INTRODUÇÃO   A seletividade dos herbicidas...   \n",
       "\n",
       "                                              answer  answer_prob  index  \n",
       "0                                              [CLS]     0.686202      2  \n",
       "1             Gamit 360 CS, Stone, Pacto e Dual Gold     0.664748      0  \n",
       "2  clomazone, sulfentrazone, cloransulam, s - met...     0.432619      4  \n",
       "3                                               Fabc     0.419218      3  \n",
       "4                                       Gamit 360 CS     0.335815      7  \n",
       "5                                          herbicida     0.334131      1  \n",
       "6                                      erva da ninha     0.284854      8  \n",
       "7                                              [CLS]     0.231787      5  \n",
       "8                                   ambos A moderado     0.178983      9  \n",
       "9                                                        0.111050      6  "
      ]
     },
     "execution_count": 9,
     "metadata": {},
     "output_type": "execute_result"
    }
   ],
   "source": [
    "topn_contexts = df_test['context'].to_numpy()\n",
    "df_result = reader_caller.forward(question=question,topn_contexts=list(topn_contexts))\n",
    "df_result"
   ]
  },
  {
   "cell_type": "code",
   "execution_count": 8,
   "metadata": {},
   "outputs": [],
   "source": [
    "df_result.to_csv(dataset, index=False)"
   ]
  },
  {
   "cell_type": "markdown",
   "metadata": {},
   "source": [
    "## Salva resultados da tarefa\n",
    "\n",
    "A plataforma guarda o conteúdo de `/tmp/data/` para as tarefas subsequentes.<br>\n",
    "Use essa pasta para salvar modelos, metadados e outros resultados."
   ]
  },
  {
   "cell_type": "code",
   "execution_count": 10,
   "metadata": {},
   "outputs": [
    {
     "data": {
      "text/plain": [
       "['/tmp/data/document_reader.joblib']"
      ]
     },
     "execution_count": 10,
     "metadata": {},
     "output_type": "execute_result"
    }
   ],
   "source": [
    "from joblib import dump\n",
    "\n",
    "artifacts = {\n",
    "    \"model\":reader_caller,\n",
    "}\n",
    "\n",
    "dump(artifacts, \"/tmp/data/document_reader.joblib\")"
   ]
  }
 ],
 "metadata": {
  "celltoolbar": "Tags",
  "experiment_id": "ef8ec4df-3841-4f9e-bae5-e31f972d804f",
  "kernelspec": {
   "display_name": "Python 3",
   "language": "python",
   "name": "python3"
  },
  "language_info": {
   "codemirror_mode": {
    "name": "ipython",
    "version": 3
   },
   "file_extension": ".py",
   "mimetype": "text/x-python",
   "name": "python",
   "nbconvert_exporter": "python",
   "pygments_lexer": "ipython3",
   "version": "3.7.10"
  },
  "operator_id": "fa0f75a4-290c-4e0c-81b3-d2be4f9eb711",
  "task_id": "f0b85b86-193d-4b0a-9e61-440acd2202f9"
 },
 "nbformat": 4,
 "nbformat_minor": 4
}