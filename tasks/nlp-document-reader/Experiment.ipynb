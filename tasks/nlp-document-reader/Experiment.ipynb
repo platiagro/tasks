{
 "cells": [
  {
   "cell_type": "markdown",
   "metadata": {},
   "source": [
    "# Document Reader - Experimento\n",
    "\n",
    "Preencha aqui com detalhes sobre a tarefa.<br>\n",
    "### **Em caso de dúvidas, consulte os [tutoriais da PlatIAgro](https://platiagro.github.io/tutorials/).**"
   ]
  },
  {
   "cell_type": "markdown",
   "metadata": {},
   "source": [
    "## Declaração de parâmetros e hiperparâmetros\n",
    "\n",
    "Declare parâmetros com o botão <img src=\"data:image/png;base64,iVBORw0KGgoAAAANSUhEUgAAABQAAAAUCAYAAACNiR0NAAABhWlDQ1BJQ0MgcHJvZmlsZQAAKJF9kT1Iw0AcxV9TtaIVBzuIOASpThb8QhylikWwUNoKrTqYXPohNGlIUlwcBdeCgx+LVQcXZ10dXAVB8APEydFJ0UVK/F9SaBHjwXE/3t173L0DhFqJqWbbGKBqlpGMRcVMdkUMvKID3QhiCOMSM/V4aiENz/F1Dx9f7yI8y/vcn6NHyZkM8InEs0w3LOJ14ulNS+e8TxxiRUkhPiceNeiCxI9cl11+41xwWOCZISOdnCMOEYuFFpZbmBUNlXiKOKyoGuULGZcVzluc1VKFNe7JXxjMacsprtMcRAyLiCMBETIq2EAJFiK0aqSYSNJ+1MM/4PgT5JLJtQFGjnmUoUJy/OB/8LtbMz854SYFo0D7i21/DAOBXaBete3vY9uunwD+Z+BKa/rLNWDmk/RqUwsfAb3bwMV1U5P3gMsdoP9JlwzJkfw0hXweeD+jb8oCfbdA16rbW2Mfpw9AmrpaugEODoGRAmWveby7s7W3f880+vsBocZyukMJsmwAAAAGYktHRAD/AP8A/6C9p5MAAAAJcEhZcwAADdcAAA3XAUIom3gAAAAHdElNRQfkBgsMIwnXL7c0AAACDUlEQVQ4y92UP4gTQRTGf29zJxhJZ2NxbMBKziYWlmJ/ile44Nlkd+dIYWFzItiNgoIEtFaTzF5Ac/inE/urtLWxsMqmUOwCEpt1Zmw2xxKi53XitPO9H9978+aDf/3IUQvSNG0450Yi0jXG7C/eB0cFeu9viciGiDyNoqh2KFBrHSilWstgnU7nFLBTgl+ur6/7PwK11kGe5z3n3Hul1MaiuCgKDZwALHA7z/Oe1jpYCtRaB+PxuA8kQM1aW68Kt7e3zwBp6a5b1ibj8bhfhQYVZwMRiQHrvW9nWfaqCrTWPgRWvPdvsiy7IyLXgEJE4slk8nw+T5nDgDbwE9gyxryuwpRSF5xz+0BhrT07HA4/AyRJchUYASvAbhiGaRVWLIMBYq3tAojIszkMoNRulbXtPM8HwV/sXSQi54HvQRDcO0wfhGGYArvAKjAq2wAgiqJj3vsHpbtur9f7Vi2utLx60LLW2hljEuBJOYu9OI6vAzQajRvAaeBLURSPlsBelA+VhWGYaq3dwaZvbm6+m06noYicE5ErrVbrK3AXqHvvd4bD4Ye5No7jSERGwKr3Pms2m0pr7Rb30DWbTQWYcnFvAieBT7PZbFB1V6vVfpQaU4UtDQetdTCZTC557/eA48BlY8zbRZ1SqrW2tvaxCvtt2iRJ0i9/xb4x5uJRwmNlaaaJ3AfqIvKY/+78Av++6uiSZhYMAAAAAElFTkSuQmCC\" /> na barra de ferramentas.<br>\n",
    "A variável `dataset` possui o caminho para leitura do arquivos importados na tarefa de \"Upload de dados\".<br>\n",
    "Você também pode importar arquivos com o botão <img src=\"data:image/png;base64,iVBORw0KGgoAAAANSUhEUgAAABQAAAAUCAYAAACNiR0NAAABhWlDQ1BJQ0MgcHJvZmlsZQAAKJF9kT1Iw0AcxV9TtaIVBzuIOASpThb8QhylikWwUNoKrTqYXPohNGlIUlwcBdeCgx+LVQcXZ10dXAVB8APEydFJ0UVK/F9SaBHjwXE/3t173L0DhFqJqWbbGKBqlpGMRcVMdkUMvKID3QhiCOMSM/V4aiENz/F1Dx9f7yI8y/vcn6NHyZkM8InEs0w3LOJ14ulNS+e8TxxiRUkhPiceNeiCxI9cl11+41xwWOCZISOdnCMOEYuFFpZbmBUNlXiKOKyoGuULGZcVzluc1VKFNe7JXxjMacsprtMcRAyLiCMBETIq2EAJFiK0aqSYSNJ+1MM/4PgT5JLJtQFGjnmUoUJy/OB/8LtbMz854SYFo0D7i21/DAOBXaBete3vY9uunwD+Z+BKa/rLNWDmk/RqUwsfAb3bwMV1U5P3gMsdoP9JlwzJkfw0hXweeD+jb8oCfbdA16rbW2Mfpw9AmrpaugEODoGRAmWveby7s7W3f880+vsBocZyukMJsmwAAAAGYktHRAD/AP8A/6C9p5MAAAAJcEhZcwAADdcAAA3XAUIom3gAAAAHdElNRQfkBgsOBy6ASTeXAAAC/0lEQVQ4y5WUT2gcdRTHP29m99B23Uiq6dZisgoWCxVJW0oL9dqLfyhCvGWY2YUBI95MsXgwFISirQcLhS5hfgk5CF3wJIhFI7aHNsL2VFZFik1jS1qkiZKdTTKZ3/MyDWuz0fQLc/m99/vMvDfv+4RMlUrlkKqeAAaBAWAP8DSgwJ/AXRG5rao/WWsvTU5O3qKLBMD3fSMiPluXFZEPoyj67PGAMzw83PeEMABHVT/oGpiamnoAmCcEWhH5tFsgF4bh9oWFhfeKxeJ5a+0JVT0oImWgBPQCKfAQuAvcBq67rltX1b+6ApMkKRcKhe9V9QLwbavV+qRer692Sx4ZGSnEcXw0TdP3gSrQswGYz+d/S5IkVtXTwOlCoZAGQXAfmAdagAvsAErtdnuXiDy6+023l7qNRsMODg5+CawBzwB9wFPA7mx8ns/KL2Tl3xCRz5eWlkabzebahrHxPG+v4zgnc7ncufHx8Z+Hhoa29fT0lNM03Q30ikiqqg+ttX/EcTy3WTvWgdVqtddaOw/kgXvADHBHROZVNRaRvKruUNU+EdkPfGWM+WJTYOaSt1T1LPDS/4zLWWPMaLVaPWytrYvIaBRFl/4F9H2/JCKvGmMu+76/X0QOqGoZKDmOs1NV28AicMsYc97zvFdc1/0hG6kEeNsY83UnsCwivwM3VfU7YEZE7lhr74tIK8tbnJiYWPY8b6/ruleAXR0ftQy8boyZXi85CIIICDYpc2ZgYODY3NzcHmvt1eyvP64lETkeRdE1yZyixWLx5U2c8q4x5mIQBE1g33/0d3FlZeXFR06ZttZesNZejuO4q1NE5CPgWVV9E3ij47wB1IDlJEn+ljAM86urq7+KyAtZTgqsO0VV247jnOnv7/9xbGzMViqVMVX9uANYj6LonfVtU6vVkjRNj6jqGeCXzGrPAQeA10TkuKpOz87ONrayhnIA2Qo7BZwKw3B7kiRloKSqO13Xja21C47jPNgysFO1Wi0GmtmzQap6DWgD24A1Vb3SGf8Hfstmz1CuXEIAAAAASUVORK5CYII=\" /> na barra de ferramentas."
   ]
  },
  {
   "cell_type": "code",
   "execution_count": 2,
   "metadata": {
    "tags": [
     "parameters"
    ]
   },
   "outputs": [],
   "source": [
    "dataset = \"/tmp/data/new_dense_retrirver_result.csv\" #@param {type:\"string\"}\n",
    "question = \"Qual é o melhor herbicida para erva da ninha ?\" #@param {type:\"string\",label:\"Pergunta para a qual os contextos devem ser ranqueados\"}\n",
    "top = 10 #@param {type:\"integer\",label:\"Número de passagens em que o Reader tem maior certeza de ser a reposta correta retornar\"}\n",
    "column_retriever_score = \"retriever_score\" #@param {type:\"string\",label:\"Coluna Retriever Score\",description:\"Nome da coluna que conterá o score dos contextos ranqueados após a inferência do modelo. Apenas considerado se retriever_reader_pipeline=True\"}\n",
    "column_reader_score = \"reader_score\" #@param {type:\"string\",label:\"Coluna Reader Score\",description:\"Nome da coluna que conterá o score das respostas encontradas após a inferência do modelo\"}\n",
    "retriever_reader_pipeline = True #@param {type:\"boolean\",label:\"Retriever Reader Pipeline\",description:\"Se True o componente considera a pipeline de Retriever-Reader. Caso contrário considera apenas o Reader isolado\"}\n",
    "reader_score_weight = 0.8 #@param {type:\"float\",label:\"Proporção da resposta do reader\",description:\"Proporção do reader na resposta final. A proporção do retriever será a complementação para chegar a 1.0. Apenas considerado se retriever_reader_pipeline=True\"}\n",
    "remove_no_answer_found = True #@param {type:\"boolean\",label:\"Desconsidera respostas nulas\",description:\"Desconsidera as respostas nulas retornadas pelo reader\"}\n",
    "ntops_overall = 5 #@param {type:\"integer\",label:\"Melhores resultados segundo o Overall Score\"}\n",
    "\n",
    "# Dataset\n",
    "column_context = \"context\" #@param {type:\"string\",label:\"Coluna contexto\",description:\"Coluna em que estão contidas os contextos\"}\n",
    "column_doc_id = \"doc_id\" #@param {type:\"string\",label:\"Coluna com o ID do contexto\",description:\"Nome da coluna que contexto os ids dos contextos a serem ranqueados\"}\n",
    "column_question = \"question\" #@param {type:\"string\",label:\"Coluna pergunta\",description:\"Coluna em que estão contidas as perguntas. Apenas considerada se train_from_zero=True\"}\n",
    "column_answer_start = \"answer_start\" #@param {type:\"string\",label:\"Coluna posição inicio da resposta\",description:\"Coluna com a posição de início da resposta na string. Apenas considerada se train_from_zero=True\"}\n",
    "column_answer_end= \"answer_end\" #@param {type:\"string\",label:\"Coluna posição fim da resposta\",description:\"Coluna com a posição de fim da resposta na string. Apenas considerada se train_from_zero=True\"}\n",
    "train_from_zero = False #@param {type:\"boolean\",label:\"Treinamento do algorítimo do zero\",description:\"Caso True utiliza o algorítimo com finne-tunning no squad em português. Caso True retreina do zero\"}\n",
    "train_from_squad = False #@param {type:\"boolean\",label:\"Treinamento do algorítimo pelo Sqaud\",description:\"Caso True utiliza treinará algorítimo com finne-tunning no squad em português. Caso False teinará com o dataset passado\"}\n",
    "\n",
    "#prepare_data\n",
    "dev_size_from_data= 0.2 #@param {type:\"float\",label:\"Porcentagem para avaliação\",description:\"Parcela dos dados utilizadas para avaliação, sendo o restante utilizado para treino. Apenas considerada se train_from_zero=True e train_from_squad=True\"}\n",
    "test_size_from_dev= 0.5 #@param {type:\"float\",label:\"Porcentagem para teste\",description:\"Parcela dos dados utilizadas para avaliação que serã utilizados para teste, sendo o restante utilizado para validação. Apenas considerada se train_from_zero=True\"}\n",
    "batch_dataset_preparation = 30 #@param {type:\"float\",label:\"Batch para preparação dos dados\",description:\"Tamanho do batchque o tokenizador utilizará para preparar o dataset. Apenas considerada se train_from_zero=True\"}\n",
    "\n",
    "#hyperparams\n",
    "model_name= \"neuralmind/bert-large-portuguese-cased\" #@param {type:\"string\",label:\"Modelo\",description:\"Modelo utilizado da base de modelo do hugginfaces\"}\n",
    "train_batch_size= 2 #@param {type:\"integer\",label:\"Batch size para treino\"}\n",
    "eval_batch_size= 2 #@param {type:\"integer\",label:\"Batch size para inferência\"}\n",
    "max_length= 384 #@param {type:\"integer\",label:\"Tamanho da sentença\",description:\"Tamanho máximo da sentença Contexto + Question em tokens\"}\n",
    "doc_stride= 128 #@param {type:\"integer\",label:\"Passo do documento\", description:\"Quando uma sequência é dividia em N, o argumento doc_stride delimita o quanto a sentença seguinte possuirá de tokens da sentença anterior\"}\n",
    "learning_rate= 3.0e-5 #@param {type:\"float\",label:\"Taxa de aprendizado\"}\n",
    "eps= 1.0e-08 #@param {type:\"integer\",float:\"Valor de estabilidade do otimizador Adam\"}\n",
    "seed = 13 #@param {type:\"integer\",label:\"Semente de aleatoriedade\"}\n",
    "\n",
    "#lightning_params\n",
    "num_gpus= 1 #@param {type:\"integer\",label:\"Numero de GPUs\"}\n",
    "profiler= True #@param {type:\"integer\",label:\"Resumo\"}\n",
    "max_epochs= 2 #@param {type:\"integer\",label:\"Máximo de épocas para treinamento\"}\n",
    "accumulate_grad_batches= 16 #@param {type:\"integer\",label:\"Batchs acumulados\",description:\"Batchs acumulados antes de atualizar os pesos\"}\n",
    "check_val_every_n_epoch= 1 #@param {type:\"integer\",label:\"Frequência Validação\",description:\"Frequência da chamada da validação em épocas\"}\n",
    "progress_bar_refresh_rate= 1 #@param {type:\"integer\",label:\"Frequência de autuazaliação da barra de progresso\"}\n",
    "gradient_clip_val= 1.0 #@param {type:\"float\",label:\"Favor de corte dos gradientes\",\"description\":\"O fator evita que os gradientes explodam definindo um limite para os mesmos\"}\n",
    "fast_dev_run= False #@param {type:\"boolean\",label:\"Rodar um batch\",description:\"Utilizado para validar que todas as partes estão funcionando antes de treinar o modelo por inteiro\"}\n",
    "\n",
    "#early_stop_callback\n",
    "monitor= 'avg_train_loss' #@param {type:\"integer\",label:\"Frequência de autuazaliação da barra de progresso\"}\n",
    "min_delta= 0.01 #@param {type:\"integer\",label:\"Variação mínima entre épocas\"}\n",
    "patience= 1 #@param {type:\"integer\",label:\"Epera após atingir variação mínima\"}\n",
    "verbose= False #@param {type:\"boolean\",label:\"Disponibilizar informações early stop\"}\n",
    "mode= 'min' #@param [\"min\",\"max\"] {type:\"integer\",label:\"Modo de parada\",description: \"Modo de funcionamento para critério de parada\"}"
   ]
  },
  {
   "cell_type": "code",
   "execution_count": 3,
   "metadata": {},
   "outputs": [],
   "source": [
    "if retriever_reader_pipeline and (reader_score_weight<0 or reader_score_weight>1):\n",
    "    raise ValueError(\"reader_score_weight deve ser entre 0 e 1\")"
   ]
  },
  {
   "cell_type": "markdown",
   "metadata": {},
   "source": [
    "## Leitura do conjunto de dados\n",
    "\n",
    "O exemplo abaixo faz a leitura de dados tabulares (ex: .csv).<br>\n",
    "Modifique o código de acordo com o tipo de dado que desejar ler."
   ]
  },
  {
   "cell_type": "code",
   "execution_count": 4,
   "metadata": {},
   "outputs": [],
   "source": [
    "import pandas as pd\n",
    "\n",
    "df = pd.read_csv(dataset)\n",
    "columns = df.columns"
   ]
  },
  {
   "cell_type": "markdown",
   "metadata": {},
   "source": [
    "## Divide dataset em subconjuntos de treino, validação e teste\n",
    "\n",
    "Subconjunto de treino: amostra de dados usada para treinar o modelo.<br>\n",
    "Subconjunto de treino: amostra de dados usada para validar o modelo.<br>\n",
    "Subconjunto de teste: amostra de dados usada para fornecer uma avaliação imparcial do treinamento do modelo no subconjunto de dados de treino."
   ]
  },
  {
   "cell_type": "code",
   "execution_count": 6,
   "metadata": {},
   "outputs": [],
   "source": [
    "from sklearn.model_selection import train_test_split\n",
    "    \n",
    "if (train_from_zero and not train_from_squad):\n",
    "    df_train,df_ = train_test_split(df, train_size=dev_size_from_data)\n",
    "    df_valid, df_test = train_test_split(df_, train_size=test_size_from_dev)\n",
    "    train_output = 'df_squad_train_bert_chuncked.csv'\n",
    "    valid_output = 'df_squad_valid_bert_chuncked.csv'\n",
    "    test_output =  'df_squad_test_bert_chuncked.csv'\n",
    "    df_train.to_csv(os.path.join(train_output),index=False)\n",
    "    df_valid.to_csv(os.path.join(valid_output),index=False)\n",
    "    df_test.to_csv(os.path.join(test_output),index=False)\n",
    "else:\n",
    "    df_test = df"
   ]
  },
  {
   "cell_type": "markdown",
   "metadata": {},
   "source": [
    "## Configurando Argumentos"
   ]
  },
  {
   "cell_type": "code",
   "execution_count": 7,
   "metadata": {},
   "outputs": [],
   "source": [
    "# Mapeando dirpaths\n",
    "import os\n",
    "data_dir  =  root_dir = os.getcwd()\n",
    "logs_dir = os.path.join(root_dir,\"lightning_logs\")\n",
    "# Colocando parâmetros de entrada no fromato esperado\n",
    "hparams = {\n",
    "    \"model_name\":model_name,\n",
    "    \"train_batch_size\":train_batch_size,\n",
    "    \"eval_batch_size\":eval_batch_size,\n",
    "    \"max_length\":max_length,\n",
    "    \"doc_stride\":doc_stride,\n",
    "    \"learning_rate\":learning_rate,\n",
    "    \"eps\":eps,\n",
    "    \"seed\":seed,\n",
    "    \n",
    "}\n",
    "\n",
    "lightning_params = {\n",
    "    \"num_gpus\":num_gpus,\n",
    "    \"profiler\":profiler,\n",
    "    \"max_epochs\":max_epochs,\n",
    "    \"accumulate_grad_batches\":accumulate_grad_batches,\n",
    "    \"check_val_every_n_epoch\":check_val_every_n_epoch,\n",
    "    \"progress_bar_refresh_rate\":progress_bar_refresh_rate,\n",
    "    \"gradient_clip_val\":gradient_clip_val,\n",
    "    \"fast_dev_run\":fast_dev_run,\n",
    "}\n",
    "\n",
    "\n",
    "early_stop_callback_params = {\n",
    "     \"monitor\":monitor,\n",
    "    \"min_delta\":min_delta,\n",
    "    \"patience\":patience,\n",
    "    \"verbose\":verbose,\n",
    "    \"mode\":mode,    \n",
    "}\n",
    "\n",
    "prepare_data_params = {\n",
    "     \"batch_dataset_preparation\":batch_dataset_preparation,\n",
    "     \"test_size_from_dev\":test_size_from_dev,\n",
    "}\n",
    "\n",
    "# Configurações\n",
    "config = {'params':{'hparams':hparams,\n",
    "                    'lightning_params':lightning_params,\n",
    "                    'early_stop_callback_params':early_stop_callback_params,\n",
    "                    'prepare_data_params':prepare_data_params },\n",
    "\n",
    "        'dirpaths':{'data_dirpath':data_dir,\n",
    "                'log_dirpath':logs_dir,\n",
    "                'cwd_dirpath':root_dir},\n",
    "}"
   ]
  },
  {
   "cell_type": "markdown",
   "metadata": {},
   "source": [
    "## Treinamento do Zero / Recuperação dos pesos"
   ]
  },
  {
   "cell_type": "code",
   "execution_count": 8,
   "metadata": {},
   "outputs": [
    {
     "data": {
      "application/vnd.jupyter.widget-view+json": {
       "model_id": "c07eefb7e8ba48c897cb0b34b77dba6a",
       "version_major": 2,
       "version_minor": 0
      },
      "text/plain": [
       "Downloading:   0%|          | 0.00/648 [00:00<?, ?B/s]"
      ]
     },
     "metadata": {},
     "output_type": "display_data"
    },
    {
     "data": {
      "application/vnd.jupyter.widget-view+json": {
       "model_id": "3b623d4c9e6642b0a9d3f29ee61cfaa5",
       "version_major": 2,
       "version_minor": 0
      },
      "text/plain": [
       "Downloading:   0%|          | 0.00/210k [00:00<?, ?B/s]"
      ]
     },
     "metadata": {},
     "output_type": "display_data"
    },
    {
     "data": {
      "application/vnd.jupyter.widget-view+json": {
       "model_id": "7d3604a023984046949ecae7331bd27c",
       "version_major": 2,
       "version_minor": 0
      },
      "text/plain": [
       "Downloading:   0%|          | 0.00/2.00 [00:00<?, ?B/s]"
      ]
     },
     "metadata": {},
     "output_type": "display_data"
    },
    {
     "data": {
      "application/vnd.jupyter.widget-view+json": {
       "model_id": "ab004d549ec9454fb6893fdb5f887268",
       "version_major": 2,
       "version_minor": 0
      },
      "text/plain": [
       "Downloading:   0%|          | 0.00/112 [00:00<?, ?B/s]"
      ]
     },
     "metadata": {},
     "output_type": "display_data"
    },
    {
     "data": {
      "application/vnd.jupyter.widget-view+json": {
       "model_id": "041eac09499f46f59a97eb046d70a13a",
       "version_major": 2,
       "version_minor": 0
      },
      "text/plain": [
       "Downloading:   0%|          | 0.00/155 [00:00<?, ?B/s]"
      ]
     },
     "metadata": {},
     "output_type": "display_data"
    },
    {
     "name": "stderr",
     "output_type": "stream",
     "text": [
      "GPU available: True, used: True\n",
      "TPU available: None, using: 0 TPU cores\n",
      "Global seed set to 13\n"
     ]
    },
    {
     "data": {
      "application/vnd.jupyter.widget-view+json": {
       "model_id": "d0effe149a1a4b0c9fba6059fc9f95fd",
       "version_major": 2,
       "version_minor": 0
      },
      "text/plain": [
       "Downloading:   0%|          | 0.00/1.34G [00:00<?, ?B/s]"
      ]
     },
     "metadata": {},
     "output_type": "display_data"
    },
    {
     "name": "stderr",
     "output_type": "stream",
     "text": [
      "Some weights of the model checkpoint at neuralmind/bert-large-portuguese-cased were not used when initializing BertForQuestionAnswering: ['cls.predictions.bias', 'cls.predictions.transform.dense.weight', 'cls.predictions.transform.dense.bias', 'cls.predictions.transform.LayerNorm.weight', 'cls.predictions.transform.LayerNorm.bias', 'cls.predictions.decoder.weight', 'cls.seq_relationship.weight', 'cls.seq_relationship.bias']\n",
      "- This IS expected if you are initializing BertForQuestionAnswering from the checkpoint of a model trained on another task or with another architecture (e.g. initializing a BertForSequenceClassification model from a BertForPreTraining model).\n",
      "- This IS NOT expected if you are initializing BertForQuestionAnswering from the checkpoint of a model that you expect to be exactly identical (initializing a BertForSequenceClassification model from a BertForSequenceClassification model).\n",
      "Some weights of BertForQuestionAnswering were not initialized from the model checkpoint at neuralmind/bert-large-portuguese-cased and are newly initialized: ['qa_outputs.weight', 'qa_outputs.bias']\n",
      "You should probably TRAIN this model on a down-stream task to be able to use it for predictions and inference.\n"
     ]
    }
   ],
   "source": [
    "import os\n",
    "import pytorch_lightning as pl\n",
    "from caller import Reader_Caller\n",
    "\n",
    "# Criando Caller\n",
    "reader_caller = Reader_Caller(config)\n",
    "\n",
    "#Fazendo Build\n",
    "reader_caller.build()\n",
    "\n",
    "if train_from_zero:\n",
    "        \n",
    "    #Preparando dados\n",
    "    if train_from_squad:\n",
    "        squad_train_path = os.path.join(data_dir,'squad-train-v1.1.json')\n",
    "        squad_dev_path= os.path.join(data_dir,'squad-dev-v1.1.json')\n",
    "        \n",
    "        prepared_datapaths = reader_caller.prepare_data(squad_train_path=squad_train_path,\n",
    "                                                        squad_dev_path=squad_dev_path)\n",
    "    else:\n",
    "        \n",
    "        prepared_datapaths = {\n",
    "                                'prepared_data_train_path':train_output,\n",
    "                                 'prepared_data_valid_path':valid_output,\n",
    "                                 'prepared_data_test_path':test_output\n",
    "                             }\n",
    "    \n",
    "    \n",
    "    # Treinamento\n",
    "    _ = reader_caller.train(train_path=prepared_datapaths['prepared_data_train_path'],\n",
    "                            valid_path=prepared_datapaths['prepared_data_valid_path'],\n",
    "                            test_path=prepared_datapaths['prepared_data_test_path'])\n",
    "    \n",
    "    MODEL_PATH = \"trained_model.ckpt\"\n",
    "    reader_caller.save_checkpoint(MODEL_PATH)\n",
    "    \n",
    "    # Avaliação\n",
    "    reader_caller.evaluate()\n",
    "else:\n",
    "    MODEL_PATH = \"default_document_reader_squad_pt.ckpt\"\n",
    "    if not os.path.exists(MODEL_PATH):\n",
    "        !wget -nc https://storage.googleapis.com/platiagro/Vident/default_document_reader_squad_pt.ckpt\n",
    "    \n",
    "    reader_caller.load_model(checkpoint_path=MODEL_PATH)"
   ]
  },
  {
   "cell_type": "markdown",
   "metadata": {},
   "source": [
    "## Ranqueando contextos para a pergunta"
   ]
  },
  {
   "cell_type": "code",
   "execution_count": 11,
   "metadata": {},
   "outputs": [],
   "source": [
    "from aux_functions import build_result_dataframe\n",
    "contexts_dict = {row[column_doc_id]:row[column_context] for i,row in df_test.iterrows()}\n",
    "df_result = reader_caller.forward(question=question,topn_contexts=list(contexts_dict.values()),top_ids=list(contexts_dict.keys()))\n",
    "df_result = build_result_dataframe(df_input = df_test,\n",
    "                                   df_result = df_result,\n",
    "                                   ntops_overall = ntops_overall,\n",
    "                                   reader_score_weight = reader_score_weight,\n",
    "                                   retriever_reader_pipeline = retriever_reader_pipeline,\n",
    "                                   remove_no_answer_found = remove_no_answer_found,\n",
    "                                   column_doc_id = column_doc_id,\n",
    "                                   column_retriever_score = column_retriever_score,\n",
    "                                   column_reader_score = column_reader_score)"
   ]
  },
  {
   "cell_type": "markdown",
   "metadata": {},
   "source": [
    "## Visualizando os resultados"
   ]
  },
  {
   "cell_type": "code",
   "execution_count": 12,
   "metadata": {},
   "outputs": [
    {
     "data": {
      "image/png": "[encoded data removed]",
      "text/plain": [
       "<Figure size 2592x270 with 1 Axes>"
      ]
     },
     "metadata": {
      "needs_background": "light"
     },
     "output_type": "display_data"
    }
   ],
   "source": [
    "import matplotlib.pyplot as plt\n",
    "from platiagro.plotting import plot_data_table\n",
    "ax = plot_data_table(df_result)\n",
    "plt.show()"
   ]
  },
  {
   "cell_type": "code",
   "execution_count": 10,
   "metadata": {},
   "outputs": [],
   "source": [
    "df_result.to_csv(dataset, index=False)"
   ]
  },
  {
   "cell_type": "markdown",
   "metadata": {},
   "source": [
    "## Salva resultados da tarefa\n",
    "\n",
    "A plataforma guarda o conteúdo de `/tmp/data/` para as tarefas subsequentes.<br>\n",
    "Use essa pasta para salvar modelos, metadados e outros resultados."
   ]
  },
  {
   "cell_type": "code",
   "execution_count": 10,
   "metadata": {},
   "outputs": [
    {
     "data": {
      "text/plain": [
       "['/tmp/data/document_reader.joblib']"
      ]
     },
     "execution_count": 10,
     "metadata": {},
     "output_type": "execute_result"
    }
   ],
   "source": [
    "from joblib import dump\n",
    "\n",
    "artifacts = {\n",
    "    \"model\":reader_caller,\n",
    "    \"columns\":columns,\n",
    "    \"question\":question,\n",
    "    \"ntops_overall\":ntops_overall,\n",
    "    \"reader_score_weight\":reader_score_weight,\n",
    "    \"retriever_reader_pipeline\":retriever_reader_pipeline,\n",
    "    \"remove_no_answer_found\":remove_no_answer_found,\n",
    "    \"column_doc_id\":column_doc_id,\n",
    "    \"column_context\":column_context,\n",
    "    \"column_retriever_score\":column_retriever_score,\n",
    "    \"column_reader_score\":column_reader_score\n",
    "}\n",
    "\n",
    "dump(artifacts, \"/tmp/data/document_reader.joblib\")"
   ]
  },
  {
   "cell_type": "markdown",
   "metadata": {},
   "source": [
    "## Liberando Memória da GPU"
   ]
  },
  {
   "cell_type": "code",
   "execution_count": 11,
   "metadata": {},
   "outputs": [],
   "source": [
    "import torch\n",
    "reader_caller.free_memory()\n",
    "del reader_caller\n",
    "torch.cuda.empty_cache() "
   ]
  }
 ],
 "metadata": {
  "celltoolbar": "Tags",
  "experiment_id": "ef8ec4df-3841-4f9e-bae5-e31f972d804f",
  "kernelspec": {
   "display_name": "Python 3",
   "language": "python",
   "name": "python3"
  },
  "language_info": {
   "codemirror_mode": {
    "name": "ipython",
    "version": 3
   },
   "file_extension": ".py",
   "mimetype": "text/x-python",
   "name": "python",
   "nbconvert_exporter": "python",
   "pygments_lexer": "ipython3",
   "version": "3.7.10"
  },
  "operator_id": "fa0f75a4-290c-4e0c-81b3-d2be4f9eb711",
  "task_id": "f0b85b86-193d-4b0a-9e61-440acd2202f9"
 },
 "nbformat": 4,
 "nbformat_minor": 4
}
