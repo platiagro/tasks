{
 "cells": [
  {
   "cell_type": "markdown",
   "metadata": {},
   "source": [
    "# Sparse Document Retriever - Implantação\n",
    "\n",
    "Preencha aqui com detalhes sobre a tarefa.<br>\n",
    "### **Em caso de dúvidas, consulte os [tutoriais da PlatIAgro](https://platiagro.github.io/tutorials/).**"
   ]
  },
  {
   "cell_type": "markdown",
   "metadata": {},
   "source": [
    "## Declaração de Classe para Predições em Tempo Real\n",
    "\n",
    "A tarefa de implantação cria um serviço REST para predições em tempo-real.<br>\n",
    "Para isso você deve criar uma classe `Model` que implementa o método `predict`."
   ]
  },
  {
   "cell_type": "code",
   "execution_count": 1,
   "metadata": {},
   "outputs": [
    {
     "name": "stdout",
     "output_type": "stream",
     "text": [
      "Overwriting Model.py\n"
     ]
    }
   ],
   "source": [
    "%%writefile Model.py\n",
    "import joblib\n",
    "import pandas as pd\n",
    "import numpy as np\n",
    "import json\n",
    "from aux_functions import build_result_dataframe\n",
    "\n",
    "\n",
    "class Model:\n",
    "    \n",
    "    def __init__(self):\n",
    "        self.loaded = False\n",
    "    \n",
    "    def load(self):\n",
    "        \n",
    "        artifacts = joblib.load(\"/tmp/data/sparse_retriever.joblib\")\n",
    "        self.model = artifacts[\"model\"]\n",
    "        self.top = artifacts[\"top\"]\n",
    "        self.question = artifacts[\"question\"]\n",
    "        self.columns = artifacts[\"columns\"]\n",
    "        self.column_context = artifacts[\"column_context\"]\n",
    "        self.column_doc_id = artifacts[\"column_doc_id\"]\n",
    "        self.column_score = artifacts[\"column_score\"]\n",
    "        self.loaded = True\n",
    "\n",
    "    def predict(self, X, feature_names, meta=None):\n",
    "        \n",
    "        if not self.loaded:\n",
    "            self.load()\n",
    "            \n",
    "        if not feature_names:\n",
    "            feature_names = self.columns\n",
    "            \n",
    "        \n",
    "        df = pd.DataFrame(X,columns = feature_names)\n",
    "        report_contexts = df[self.column_context].to_numpy()\n",
    "        doc_ids = df[self.column_doc_id].to_numpy()\n",
    "        self.model.fit(contexts=report_contexts, doc_ids=doc_ids)\n",
    "        sim_contexts_ids, scores = self.model(questions=self.question, top=self.top)\n",
    "\n",
    "            \n",
    "        df_result = build_result_dataframe(df_input=df,\n",
    "                            sim_contexts_ids=sim_contexts_ids[0],\n",
    "                            scores=scores[0],\n",
    "                            column_doc_id = self.column_doc_id,\n",
    "                            column_score = self.column_score)\n",
    "        \n",
    "        return df_result.to_numpy() "
   ]
  },
  {
   "cell_type": "code",
   "execution_count": 4,
   "metadata": {},
   "outputs": [],
   "source": [
    "#import pandas as pd\n",
    "#df = pd.read_csv(\"/tmp/data/expanded_en-6.csv\")\n",
    "#X = df.to_numpy()"
   ]
  },
  {
   "cell_type": "code",
   "execution_count": 5,
   "metadata": {},
   "outputs": [],
   "source": [
    "# from Model import Model\n",
    "# model = Model()\n",
    "# result = model.predict(X,None)\n",
    "# result"
   ]
  }
 ],
 "metadata": {
  "kernelspec": {
   "display_name": "Python 3",
   "language": "python",
   "name": "python3"
  },
  "language_info": {},
  "orig_nbformat": 3
 },
 "nbformat": 4,
 "nbformat_minor": 4
}
