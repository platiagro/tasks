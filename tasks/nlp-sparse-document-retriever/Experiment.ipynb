{
 "cells": [
  {
   "cell_type": "markdown",
   "metadata": {},
   "source": [
    "# Sparse Document Retriever - Experimento\n",
    "\n",
    "Ranqueia textos de acordo com um outro texto de entrada através das estratégias TF-IDF, BM25 ou Glove Embeddings.<br>\n",
    "### **Em caso de dúvidas, consulte os [tutoriais da PlatIAgro](https://platiagro.github.io/tutorials/).**"
   ]
  },
  {
   "cell_type": "markdown",
   "metadata": {},
   "source": [
    "## Declaração de parâmetros e hiperparâmetros\n",
    "\n",
    "Declare parâmetros com o botão <img src=\"data:image/png;base64,iVBORw0KGgoAAAANSUhEUgAAABQAAAAUCAYAAACNiR0NAAABhWlDQ1BJQ0MgcHJvZmlsZQAAKJF9kT1Iw0AcxV9TtaIVBzuIOASpThb8QhylikWwUNoKrTqYXPohNGlIUlwcBdeCgx+LVQcXZ10dXAVB8APEydFJ0UVK/F9SaBHjwXE/3t173L0DhFqJqWbbGKBqlpGMRcVMdkUMvKID3QhiCOMSM/V4aiENz/F1Dx9f7yI8y/vcn6NHyZkM8InEs0w3LOJ14ulNS+e8TxxiRUkhPiceNeiCxI9cl11+41xwWOCZISOdnCMOEYuFFpZbmBUNlXiKOKyoGuULGZcVzluc1VKFNe7JXxjMacsprtMcRAyLiCMBETIq2EAJFiK0aqSYSNJ+1MM/4PgT5JLJtQFGjnmUoUJy/OB/8LtbMz854SYFo0D7i21/DAOBXaBete3vY9uunwD+Z+BKa/rLNWDmk/RqUwsfAb3bwMV1U5P3gMsdoP9JlwzJkfw0hXweeD+jb8oCfbdA16rbW2Mfpw9AmrpaugEODoGRAmWveby7s7W3f880+vsBocZyukMJsmwAAAAGYktHRAD/AP8A/6C9p5MAAAAJcEhZcwAADdcAAA3XAUIom3gAAAAHdElNRQfkBgsMIwnXL7c0AAACDUlEQVQ4y92UP4gTQRTGf29zJxhJZ2NxbMBKziYWlmJ/ile44Nlkd+dIYWFzItiNgoIEtFaTzF5Ac/inE/urtLWxsMqmUOwCEpt1Zmw2xxKi53XitPO9H9978+aDf/3IUQvSNG0450Yi0jXG7C/eB0cFeu9viciGiDyNoqh2KFBrHSilWstgnU7nFLBTgl+ur6/7PwK11kGe5z3n3Hul1MaiuCgKDZwALHA7z/Oe1jpYCtRaB+PxuA8kQM1aW68Kt7e3zwBp6a5b1ibj8bhfhQYVZwMRiQHrvW9nWfaqCrTWPgRWvPdvsiy7IyLXgEJE4slk8nw+T5nDgDbwE9gyxryuwpRSF5xz+0BhrT07HA4/AyRJchUYASvAbhiGaRVWLIMBYq3tAojIszkMoNRulbXtPM8HwV/sXSQi54HvQRDcO0wfhGGYArvAKjAq2wAgiqJj3vsHpbtur9f7Vi2utLx60LLW2hljEuBJOYu9OI6vAzQajRvAaeBLURSPlsBelA+VhWGYaq3dwaZvbm6+m06noYicE5ErrVbrK3AXqHvvd4bD4Ye5No7jSERGwKr3Pms2m0pr7Rb30DWbTQWYcnFvAieBT7PZbFB1V6vVfpQaU4UtDQetdTCZTC557/eA48BlY8zbRZ1SqrW2tvaxCvtt2iRJ0i9/xb4x5uJRwmNlaaaJ3AfqIvKY/+78Av++6uiSZhYMAAAAAElFTkSuQmCC\" /> na barra de ferramentas.<br>\n",
    "A variável `dataset` possui o caminho para leitura do arquivos importados na tarefa de \"Upload de dados\".<br>\n",
    "Você também pode importar arquivos com o botão <img src=\"data:image/png;base64,iVBORw0KGgoAAAANSUhEUgAAABQAAAAUCAYAAACNiR0NAAABhWlDQ1BJQ0MgcHJvZmlsZQAAKJF9kT1Iw0AcxV9TtaIVBzuIOASpThb8QhylikWwUNoKrTqYXPohNGlIUlwcBdeCgx+LVQcXZ10dXAVB8APEydFJ0UVK/F9SaBHjwXE/3t173L0DhFqJqWbbGKBqlpGMRcVMdkUMvKID3QhiCOMSM/V4aiENz/F1Dx9f7yI8y/vcn6NHyZkM8InEs0w3LOJ14ulNS+e8TxxiRUkhPiceNeiCxI9cl11+41xwWOCZISOdnCMOEYuFFpZbmBUNlXiKOKyoGuULGZcVzluc1VKFNe7JXxjMacsprtMcRAyLiCMBETIq2EAJFiK0aqSYSNJ+1MM/4PgT5JLJtQFGjnmUoUJy/OB/8LtbMz854SYFo0D7i21/DAOBXaBete3vY9uunwD+Z+BKa/rLNWDmk/RqUwsfAb3bwMV1U5P3gMsdoP9JlwzJkfw0hXweeD+jb8oCfbdA16rbW2Mfpw9AmrpaugEODoGRAmWveby7s7W3f880+vsBocZyukMJsmwAAAAGYktHRAD/AP8A/6C9p5MAAAAJcEhZcwAADdcAAA3XAUIom3gAAAAHdElNRQfkBgsOBy6ASTeXAAAC/0lEQVQ4y5WUT2gcdRTHP29m99B23Uiq6dZisgoWCxVJW0oL9dqLfyhCvGWY2YUBI95MsXgwFISirQcLhS5hfgk5CF3wJIhFI7aHNsL2VFZFik1jS1qkiZKdTTKZ3/MyDWuz0fQLc/m99/vMvDfv+4RMlUrlkKqeAAaBAWAP8DSgwJ/AXRG5rao/WWsvTU5O3qKLBMD3fSMiPluXFZEPoyj67PGAMzw83PeEMABHVT/oGpiamnoAmCcEWhH5tFsgF4bh9oWFhfeKxeJ5a+0JVT0oImWgBPQCKfAQuAvcBq67rltX1b+6ApMkKRcKhe9V9QLwbavV+qRer692Sx4ZGSnEcXw0TdP3gSrQswGYz+d/S5IkVtXTwOlCoZAGQXAfmAdagAvsAErtdnuXiDy6+023l7qNRsMODg5+CawBzwB9wFPA7mx8ns/KL2Tl3xCRz5eWlkabzebahrHxPG+v4zgnc7ncufHx8Z+Hhoa29fT0lNM03Q30ikiqqg+ttX/EcTy3WTvWgdVqtddaOw/kgXvADHBHROZVNRaRvKruUNU+EdkPfGWM+WJTYOaSt1T1LPDS/4zLWWPMaLVaPWytrYvIaBRFl/4F9H2/JCKvGmMu+76/X0QOqGoZKDmOs1NV28AicMsYc97zvFdc1/0hG6kEeNsY83UnsCwivwM3VfU7YEZE7lhr74tIK8tbnJiYWPY8b6/ruleAXR0ftQy8boyZXi85CIIICDYpc2ZgYODY3NzcHmvt1eyvP64lETkeRdE1yZyixWLx5U2c8q4x5mIQBE1g33/0d3FlZeXFR06ZttZesNZejuO4q1NE5CPgWVV9E3ij47wB1IDlJEn+ljAM86urq7+KyAtZTgqsO0VV247jnOnv7/9xbGzMViqVMVX9uANYj6LonfVtU6vVkjRNj6jqGeCXzGrPAQeA10TkuKpOz87ONrayhnIA2Qo7BZwKw3B7kiRloKSqO13Xja21C47jPNgysFO1Wi0GmtmzQap6DWgD24A1Vb3SGf8Hfstmz1CuXEIAAAAASUVORK5CYII=\" /> na barra de ferramentas."
   ]
  },
  {
   "cell_type": "code",
   "execution_count": 9,
   "metadata": {
    "tags": [
     "parameters"
    ]
   },
   "outputs": [],
   "source": [
    "# dataset = \"/tmp/data/paracrawl_en_pt_test.csv\" #@param {type:\"string\"}\n",
    "dataset = \"reports_contexts.csv\" \n",
    "column = \"context\" #@param {type:\"string\",label:\"Coluna do dataframe de entrada com os contextos para ranquear\"}\n",
    "question = \"Qual é o melhor herbicida para erva da ninha ?\" #@param {type:\"string\",label:\"Pergunta para a qual os contextos devem ser ranqueados\"}\n",
    "\n",
    "#Hyperparams\n",
    "retriever_type = \"tdidf\" #@param [\"bm25\",\"tfidf\",\"word2vec\"] {type:\"string\",label:\"Tipo de retriever esparço\",description:\"O retriever pode ser BM25 Okapi, TF-IDF e Word2Vec\"}\n",
    "bm25_k1 = 2 #@param {type:\"integer\",label:\"Argumento k1 do BM25\",description:\"O argumento k1 do bm25 representa as características da frequência de saturação dos tokens. Ou seja, ele limita o quando cada token pode afetar o score do documento\"}\n",
    "bm25_b = 0.75 #@param {type:\"integer\",label:\"Argumento b do BM25\",label:\"O argumento b do bm25 é determina o efeito do tamanho de um documento comparado com a média. Quanto maior b maior o efeito}\n",
    "top = 10 #@param {type:\"integer\",label:\"Quantidade de contextos para retornados\"}"
   ]
  },
  {
   "cell_type": "code",
   "execution_count": 10,
   "metadata": {},
   "outputs": [],
   "source": [
    "if bm25_b<0 or bm25_b>1:\n",
    "    raise ValueError(\"O valor de bm25_b deve estar entre 0 e 1\")\n",
    "    \n",
    "if bm25_k1<1:\n",
    "    raise ValueError(\"O valor de bm25_k1 deve ser maior ou igual a 1\")"
   ]
  },
  {
   "cell_type": "markdown",
   "metadata": {},
   "source": [
    "# Acesso ao conjunto de dados¶\n",
    "O conjunto de dados utilizado nesta etapa será o mesmo carregado através da plataforma.\n",
    "O tipo da variável retornada depende do arquivo de origem:\n",
    "\n",
    "* pandas.DataFrame para CSV e compressed CSV: .csv .csv.zip .csv.gz .csv.bz2 .csv.xz\n",
    "* Binary IO stream para outros tipos de arquivo: .jpg .wav .zip .h5 .parquet etc"
   ]
  },
  {
   "cell_type": "code",
   "execution_count": 11,
   "metadata": {},
   "outputs": [],
   "source": [
    "import pandas as pd\n",
    "\n",
    "df = pd.read_csv(dataset)"
   ]
  },
  {
   "cell_type": "markdown",
   "metadata": {},
   "source": [
    "## Funções de apoio"
   ]
  },
  {
   "cell_type": "code",
   "execution_count": 12,
   "metadata": {},
   "outputs": [],
   "source": [
    "def build_result_dataframe(sim_contexts_ids,scores,contexts):\n",
    "    sim_contexts = [contexts[i] for i in sim_contexts_ids[0]]\n",
    "    df = pd.DataFrame({'doc_id':sim_contexts_ids[0],'score':scores[0],'sim_contexts':sim_contexts})\n",
    "    df = df.sort_values(by=['score'], ascending=False).reset_index(drop=True)\n",
    "    return df"
   ]
  },
  {
   "cell_type": "markdown",
   "metadata": {},
   "source": [
    "## Conteúdo da tarefa"
   ]
  },
  {
   "cell_type": "code",
   "execution_count": 13,
   "metadata": {},
   "outputs": [],
   "source": [
    "from model_sparse_retriever import TfidfRetriever, W2VRetriever, BM25Retriever"
   ]
  },
  {
   "cell_type": "code",
   "execution_count": 14,
   "metadata": {},
   "outputs": [],
   "source": [
    "if retriever_type == \"bm25\":\n",
    "    kwargs={'k1':bm25_k1,'b':bm25_b}\n",
    "    retriever = BM25Retriever(**kwargs)\n",
    "elif retriever_type == \"tfidf\":\n",
    "    retriever = TfidfRetriever()\n",
    "elif retriever_type == \"word2vec\":\n",
    "    ! wget https://storage.googleapis.com/platiagro/Vident/glove_s300_portugues.txt\n",
    "    from gensim.models import KeyedVectors\n",
    "    model = KeyedVectors.load_word2vec_format('glove_s300_portugues.txt')\n",
    "    retriever = W2VRetriever(w2v_model=model)\n",
    "\n",
    "report_contexts = df[column].to_numpy()\n",
    "retriever.fit(contexts=report_contexts)\n",
    "sim_contexts_ids, scores = retriever(questions=question, top=top)"
   ]
  },
  {
   "cell_type": "code",
   "execution_count": 15,
   "metadata": {},
   "outputs": [
    {
     "data": {
      "text/html": [
       "<div>\n",
       "<style scoped>\n",
       "    .dataframe tbody tr th:only-of-type {\n",
       "        vertical-align: middle;\n",
       "    }\n",
       "\n",
       "    .dataframe tbody tr th {\n",
       "        vertical-align: top;\n",
       "    }\n",
       "\n",
       "    .dataframe thead th {\n",
       "        text-align: right;\n",
       "    }\n",
       "</style>\n",
       "<table border=\"1\" class=\"dataframe\">\n",
       "  <thead>\n",
       "    <tr style=\"text-align: right;\">\n",
       "      <th></th>\n",
       "      <th>doc_id</th>\n",
       "      <th>score</th>\n",
       "      <th>sim_contexts</th>\n",
       "    </tr>\n",
       "  </thead>\n",
       "  <tbody>\n",
       "    <tr>\n",
       "      <th>0</th>\n",
       "      <td>162</td>\n",
       "      <td>18.098672</td>\n",
       "      <td>1.3 Palavras-chave: triketonas, sulfoniluréia...</td>\n",
       "    </tr>\n",
       "    <tr>\n",
       "      <th>1</th>\n",
       "      <td>115</td>\n",
       "      <td>18.098672</td>\n",
       "      <td>1.3 Palavras-chave: triketonas, sulfoniluréia...</td>\n",
       "    </tr>\n",
       "    <tr>\n",
       "      <th>2</th>\n",
       "      <td>689</td>\n",
       "      <td>18.098672</td>\n",
       "      <td>1.3 Palavras-chave: triketonas, sulfoniluréia...</td>\n",
       "    </tr>\n",
       "    <tr>\n",
       "      <th>3</th>\n",
       "      <td>4</td>\n",
       "      <td>17.896873</td>\n",
       "      <td>1.3 Palavras-Chave: clomazone, sulfentrazone,...</td>\n",
       "    </tr>\n",
       "    <tr>\n",
       "      <th>4</th>\n",
       "      <td>39</td>\n",
       "      <td>17.896873</td>\n",
       "      <td>1.3 Palavras-Chave: clomazone, sulfentrazone,...</td>\n",
       "    </tr>\n",
       "    <tr>\n",
       "      <th>5</th>\n",
       "      <td>309</td>\n",
       "      <td>17.819839</td>\n",
       "      <td>1.3 Palavras-Chave: clodinafop, iodosulfuron,...</td>\n",
       "    </tr>\n",
       "    <tr>\n",
       "      <th>6</th>\n",
       "      <td>840</td>\n",
       "      <td>17.712105</td>\n",
       "      <td>1.3 Palavras-Chave: trinexapac-ethyl, dose, a...</td>\n",
       "    </tr>\n",
       "    <tr>\n",
       "      <th>7</th>\n",
       "      <td>937</td>\n",
       "      <td>17.663035</td>\n",
       "      <td>1.3 Palavras-Chave: plante/aplique, sulfentra...</td>\n",
       "    </tr>\n",
       "    <tr>\n",
       "      <th>8</th>\n",
       "      <td>811</td>\n",
       "      <td>17.603450</td>\n",
       "      <td>1.3 Palavras-Chave: fitotoxicidade, nicosulfu...</td>\n",
       "    </tr>\n",
       "    <tr>\n",
       "      <th>9</th>\n",
       "      <td>1285</td>\n",
       "      <td>17.543288</td>\n",
       "      <td>1.3 Palavras-Chave: nicosulfuron, fitotoxicid...</td>\n",
       "    </tr>\n",
       "  </tbody>\n",
       "</table>\n",
       "</div>"
      ],
      "text/plain": [
       "   doc_id      score                                       sim_contexts\n",
       "0     162  18.098672   1.3 Palavras-chave: triketonas, sulfoniluréia...\n",
       "1     115  18.098672   1.3 Palavras-chave: triketonas, sulfoniluréia...\n",
       "2     689  18.098672   1.3 Palavras-chave: triketonas, sulfoniluréia...\n",
       "3       4  17.896873   1.3 Palavras-Chave: clomazone, sulfentrazone,...\n",
       "4      39  17.896873   1.3 Palavras-Chave: clomazone, sulfentrazone,...\n",
       "5     309  17.819839   1.3 Palavras-Chave: clodinafop, iodosulfuron,...\n",
       "6     840  17.712105   1.3 Palavras-Chave: trinexapac-ethyl, dose, a...\n",
       "7     937  17.663035   1.3 Palavras-Chave: plante/aplique, sulfentra...\n",
       "8     811  17.603450   1.3 Palavras-Chave: fitotoxicidade, nicosulfu...\n",
       "9    1285  17.543288   1.3 Palavras-Chave: nicosulfuron, fitotoxicid..."
      ]
     },
     "execution_count": 15,
     "metadata": {},
     "output_type": "execute_result"
    }
   ],
   "source": [
    "df = build_result_dataframe(sim_contexts_ids,scores,report_contexts)\n",
    "df.head(10)"
   ]
  },
  {
   "cell_type": "markdown",
   "metadata": {},
   "source": [
    "## Salva resultados da tarefa\n",
    "\n",
    "A plataforma guarda o conteúdo de `/tmp/data/` para as tarefas subsequentes.<br>\n",
    "Use essa pasta para salvar modelos, metadados e outros resultados."
   ]
  },
  {
   "cell_type": "code",
   "execution_count": 16,
   "metadata": {},
   "outputs": [
    {
     "data": {
      "text/plain": [
       "['/tmp/data/sparse_retriever.joblib']"
      ]
     },
     "execution_count": 16,
     "metadata": {},
     "output_type": "execute_result"
    }
   ],
   "source": [
    "from joblib import dump\n",
    "\n",
    "artifacts = {\n",
    "    \"model\":retriever,\n",
    "    \"report_contexts\":report_contexts,\n",
    "}\n",
    "\n",
    "dump(artifacts, \"/tmp/data/sparse_retriever.joblib\")"
   ]
  }
 ],
 "metadata": {
  "celltoolbar": "Tags",
  "experiment_id": "e8cb4d06-3165-44d5-8cbc-7b9be0b9ef6d",
  "kernelspec": {
   "display_name": "Python 3",
   "language": "python",
   "name": "python3"
  },
  "language_info": {
   "codemirror_mode": {
    "name": "ipython",
    "version": 3
   },
   "file_extension": ".py",
   "mimetype": "text/x-python",
   "name": "python",
   "nbconvert_exporter": "python",
   "pygments_lexer": "ipython3",
   "version": "3.7.10"
  },
  "operator_id": "a6a2f8f7-c4eb-4dbe-aede-eaf75d45efb1",
  "task_id": "dfbd74fa-8ef1-4f10-b085-b2ff1e9c72f7"
 },
 "nbformat": 4,
 "nbformat_minor": 4
}