{
 "cells": [
  {
   "cell_type": "markdown",
   "source": [
    "# Agrupamento K-Means - Implantação\n",
    "\n",
    "Este componente cria agrupamentos por meio do método K-Means, como implementado no [Scikit-learn](https://scikit-learn.org/stable/modules/generated/sklearn.cluster.KMeans.html). <br>\n",
    "Scikit-learn é uma biblioteca open source de machine learning que suporta apredizado supervisionado e não supervisionado.Também provê várias ferramentas para ajustes de modelos, pré-processamento de dados, seleção e avaliação de modelos, além de outras funcionalidades.\n",
    "\n",
    "Este notebook apresenta:\n",
    "- como carregar modelos e outros resultados do treinamento.\n",
    "- como utilizar um modelo para fornecer predições em tempo real."
   ],
   "metadata": {}
  },
  {
   "cell_type": "markdown",
   "source": [
    "## Declaração de Classe para Predições em Tempo Real\n",
    "\n",
    "A tarefa de implantação cria um serviço REST para predições em tempo real.<br>\n",
    "Para isso você deve criar uma classe `Model` que implementa o método `predict`."
   ],
   "metadata": {}
  },
  {
   "cell_type": "code",
   "execution_count": null,
   "source": [
    "%%writefile Model.py\n",
    "import joblib\n",
    "import numpy as np\n",
    "import pandas as pd\n",
    "\n",
    "\n",
    "class Model(object):\n",
    "    def __init__(self):\n",
    "        self.loaded = False\n",
    "\n",
    "    def load(self):\n",
    "        # Following links explain why to use load() method insted of __init__()\n",
    "\n",
    "        # Issue associated with seldon on __init__\n",
    "        # https://github.com/SeldonIO/seldon-core/issues/2616\n",
    "\n",
    "        # Solution for the case\n",
    "        # https://docs.seldon.io/projects/seldon-core/en/latest/python/python_component.html#gunicorn-and-load\n",
    "        # Carrega artefatos: estimador, etc\n",
    "        artifacts = joblib.load(\"/tmp/data/kmeans-clustering.joblib\")\n",
    "        self.pipeline = artifacts[\"pipeline\"]\n",
    "        self.columns = artifacts[\"columns\"]\n",
    "        self.new_columns = artifacts[\"new_columns\"]\n",
    "        self.columns_to_filter = artifacts[\"columns_to_filter\"]\n",
    "        self.features_after_pipeline = artifacts[\"features_after_pipeline\"]\n",
    "        self.loaded = True\n",
    "\n",
    "\n",
    "    def class_names(self):\n",
    "        column_names = np.concatenate((self.columns_to_filter, self.new_columns))\n",
    "        return column_names.tolist()\n",
    "\n",
    "    def predict(self, X, feature_names, meta=None):\n",
    "        # First time load model\n",
    "        if not self.loaded:\n",
    "            self.load()\n",
    "            \n",
    "        df = pd.DataFrame(X)\n",
    "        \n",
    "        if feature_names:\n",
    "            # Antes de utilizar o conjunto de dados X no modelo, reordena suas features de acordo com a ordem utilizada no treinamento\n",
    "            df = pd.DataFrame(X, columns=feature_names)\n",
    "            df = df[self.columns_to_filter]\n",
    "\n",
    "        # Realiza classificação\n",
    "        y_pred = self.pipeline.predict(df)\n",
    "        y_distances = self.pipeline.transform(df)\n",
    "\n",
    "        # Adicionando resultado clusterização\n",
    "        df['Cluster'] = y_pred\n",
    "        for i in range(0, len(y_distances[0])):\n",
    "            df[f'distance_to_{i}'] = y_distances[:, i]\n",
    "\n",
    "        return df.to_numpy()"
   ],
   "outputs": [],
   "metadata": {}
  }
 ],
 "metadata": {
  "celltoolbar": "Tags",
  "kernelspec": {
   "display_name": "Python 3",
   "language": "python",
   "name": "python3"
  },
  "language_info": {
   "codemirror_mode": {
    "name": "ipython",
    "version": 3
   },
   "file_extension": ".py",
   "mimetype": "text/x-python",
   "name": "python",
   "nbconvert_exporter": "python",
   "pygments_lexer": "ipython3",
   "version": "3.7.4"
  }
 },
 "nbformat": 4,
 "nbformat_minor": 4
}