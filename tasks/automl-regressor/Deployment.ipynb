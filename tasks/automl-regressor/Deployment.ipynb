{
 "cells": [
  {
   "cell_type": "markdown",
   "source": [
    "# Regressor AutoML - Implantação\n",
    "\n",
    "Este é um componente que utiliza a biblioteca [auto-sklearn](https://github.com/automl/auto-sklearn) para obter um ou mais modelos regressores já otimizados. <br>\n",
    "O auto-sklearn é um kit de ferramentas de machine learning automatizado e um substituto para [estimator](https://scikit-learn.org/stable/glossary.html#term-estimators) do [scikit-learn](https://scikit-learn.org/stable/).\n",
    "\n",
    "Este notebook apresenta:\n",
    "- como carregar modelos e outros resultados do treinamento.\n",
    "- como utilizar um modelo para fornecer predições em tempo real."
   ],
   "metadata": {}
  },
  {
   "cell_type": "markdown",
   "source": [
    "## Declaração de Classe para Predições em Tempo Real\n",
    "\n",
    "A tarefa de implantação cria um serviço REST para predições em tempo real.<br>\n",
    "Para isso você deve criar uma classe `Model` que implementa o método `predict`."
   ],
   "metadata": {}
  },
  {
   "cell_type": "code",
   "execution_count": null,
   "source": [
    "%%writefile Model.py\r\n",
    "import joblib\r\n",
    "import numpy as np\r\n",
    "import pandas as pd\r\n",
    "\r\n",
    "from platiagro.pipeline import GuaranteeType\r\n",
    "\r\n",
    "\r\n",
    "class Model(object):\r\n",
    "    def __init__(self):\r\n",
    "        # Carrega artefatos: estimador, etc\r\n",
    "        artifacts = joblib.load(\"/tmp/data/automl-regressor.joblib\")\r\n",
    "        self.pipeline = artifacts[\"pipeline\"]\r\n",
    "        self.features_names_training = artifacts[\"columns\"]\r\n",
    "        self.columns_to_filter = artifacts[\"columns_to_filter\"]\r\n",
    "        self.new_columns = artifacts[\"new_columns\"]\r\n",
    "        self.features_after_pipeline = artifacts[\"features_after_pipeline\"]\r\n",
    "\r\n",
    "    def class_names(self):\r\n",
    "        column_names = self._class_names\r\n",
    "        return column_names.tolist()\r\n",
    "\r\n",
    "    def predict(self, X, feature_names, meta=None):\r\n",
    "        \r\n",
    "        df = pd.DataFrame(X)\r\n",
    "        \r\n",
    "        if feature_names:\r\n",
    "            # Antes de utilizar o conjunto de dados X no modelo, reordena suas features de acordo com a ordem utilizada no treinamento\r\n",
    "            df = pd.DataFrame(X, columns=feature_names)\r\n",
    "            X = df[self.columns_to_filter].to_numpy()\r\n",
    "\r\n",
    "        # Realiza a predição\r\n",
    "        y_pred = self.pipeline.predict(X)\r\n",
    "\r\n",
    "        # adiciona a predição ao conjunto de dados\r\n",
    "        df[self.new_columns] = y_pred\r\n",
    "\r\n",
    "        self._class_names = df.columns\r\n",
    "\r\n",
    "        return df.to_numpy()"
   ],
   "outputs": [],
   "metadata": {}
  }
 ],
 "metadata": {
  "celltoolbar": "Tags",
  "kernelspec": {
   "display_name": "Python 3",
   "language": "python",
   "name": "python3"
  },
  "language_info": {
   "codemirror_mode": {
    "name": "ipython",
    "version": 3
   },
   "file_extension": ".py",
   "mimetype": "text/x-python",
   "name": "python",
   "nbconvert_exporter": "python",
   "pygments_lexer": "ipython3",
   "version": "3.7.4"
  }
 },
 "nbformat": 4,
 "nbformat_minor": 4
}