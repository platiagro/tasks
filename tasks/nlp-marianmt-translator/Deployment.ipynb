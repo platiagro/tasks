{
 "cells": [
  {
   "cell_type": "markdown",
   "metadata": {},
   "source": [
    "#  Tradução de Textos - Implantação\n",
    "## Utilização do modelo [MarianMT](https://huggingface.co/transformers/model_doc/marian.html) para tradução. \n",
    "\n",
    "\n",
    "* Neste exempo a tradução é feito do inglês para o português, mas ela pode ser feita em qualquer uma das línguas suportadas pelo MarianMT. \n",
    "* Para adaptar para traduções em outras línguas é necessário verificacar se há o modelo pré treinado disponível no MarianMT e adaptar o truncamento de strings do [spacy](https://spacy.io/usage/models) para o idioma desejado\n",
    "* A métrica computada é o [sacrebleu](https://https://github.com/mjpost/sacrebleu) \n",
    "\n",
    "### **Em caso de dúvidas, consulte os [tutoriais da PlatIAgro](https://platiagro.github.io/tutorials/).**"
   ]
  },
  {
   "cell_type": "markdown",
   "metadata": {},
   "source": [
    "## Declaração de Classe para Predições em Tempo Real\n",
    "\n",
    "A tarefa de implantação cria um serviço REST para predições em tempo-real.<br>\n",
    "Para isso você deve criar uma classe `Model` que implementa o método `predict`."
   ]
  },
  {
   "cell_type": "code",
   "execution_count": 1,
   "metadata": {},
   "outputs": [
    {
     "name": "stdout",
     "output_type": "stream",
     "text": [
      "Overwriting Model.py\n"
     ]
    }
   ],
   "source": [
    "%%writefile Model.py\n",
    "import joblib\n",
    "import pandas as pd\n",
    "import numpy as np\n",
    "from marianmt_model import MarianMTTranslator\n",
    "\n",
    "\n",
    "class Model:\n",
    "    \n",
    "    def __init__(self):\n",
    "        \n",
    "        artifacts = joblib.load(\"/tmp/data/translate.joblib\")\n",
    "        self.model = artifacts[\"model\"]\n",
    "        self.all_input_columns = artifacts[\"all_input_columns\"]\n",
    "        self.input_column_name = artifacts[\"input_column_name\"]\n",
    "        self.reference_column_name = artifacts[\"reference_column_name\"]\n",
    "        self.output_column_name = artifacts[\"output_column_name\"]\n",
    "      \n",
    "    def predict(self, X, feature_names, meta=None):\n",
    "        \n",
    "        if not feature_names:\n",
    "            feature_names = self.all_input_columns\n",
    "        \n",
    "        df = pd.DataFrame(X,columns=feature_names)\n",
    "        df_result = self.model.get_result_dataframe(df_input = df,\n",
    "                                                input_column_name=self.input_column_name,\n",
    "                                                output_column_name=self.output_column_name,\n",
    "                                                reference_column_name=self.reference_column_name)\n",
    "        return df_result\n",
    "        #return df_result.to_numpy()"
   ]
  },
  {
   "cell_type": "code",
   "execution_count": 4,
   "metadata": {},
   "outputs": [],
   "source": [
    "# import pandas as pd\n",
    "# df = pd.read_csv(\"/tmp/data/fabc-step2-2.csv\")\n",
    "# X = df.to_numpy()"
   ]
  },
  {
   "cell_type": "code",
   "execution_count": 5,
   "metadata": {},
   "outputs": [],
   "source": [
    "# from Model import Model\n",
    "# model = Model()\n",
    "# result = model.predict(X,None)\n",
    "# result"
   ]
  }
 ],
 "metadata": {
  "celltoolbar": "Tags",
  "experiment_id": "ddfb6ed8-0a39-4f48-b1f6-acc1f3c70a97",
  "kernelspec": {
   "display_name": "Python 3",
   "language": "python",
   "name": "python3"
  },
  "language_info": {
   "codemirror_mode": {
    "name": "ipython",
    "version": 3
   },
   "file_extension": ".py",
   "mimetype": "text/x-python",
   "name": "python",
   "nbconvert_exporter": "python",
   "pygments_lexer": "ipython3",
   "version": "3.7.10"
  },
  "operator_id": "fed79198-d26f-4f2b-854c-c840c810d06c",
  "task_id": "e0ecc209-919e-4ce5-8be2-d81bed7aa299"
 },
 "nbformat": 4,
 "nbformat_minor": 4
}
