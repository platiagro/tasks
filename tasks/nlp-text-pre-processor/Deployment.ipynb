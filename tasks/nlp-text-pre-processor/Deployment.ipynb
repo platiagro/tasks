{
 "cells": [
  {
   "cell_type": "markdown",
   "source": [
    "# Text Pre Processor - Implantação\n",
    "\n",
    "Este é um componente que utiliza a biblioteca [nltk](https://www.nltk.org/) e [ftfy](https://pypi.org/project/ftfy/) e [regex](https://docs.python.org/3/library/re.html) para pré processar textos que entrrão em outros componentes.\n",
    "\n",
    "Este notebook apresenta:\n",
    "- como usar o [SDK](https://platiagro.github.io/sdk/) para carregar datasets, salvar modelos e outros artefatos.\n",
    "- como declarar parâmetros e usá-los para criar componentes reutilizáveis.\n",
    "\n",
    "### **Em caso de dúvidas, consulte os [tutoriais da PlatIAgro](https://platiagro.github.io/tutorials/).**"
   ],
   "metadata": {}
  },
  {
   "cell_type": "markdown",
   "source": [
    "## Declaração de Classe para Predições em Tempo Real\n",
    "\n",
    "A tarefa de implantação cria um serviço REST para predições em tempo-real.<br>\n",
    "Para isso você deve criar uma classe `Model` que implementa o método `predict`."
   ],
   "metadata": {}
  },
  {
   "cell_type": "code",
   "execution_count": null,
   "source": [
    "%%writefile Model.py\n",
    "import joblib\n",
    "import pandas as pd\n",
    "import numpy as np\n",
    "from pre_processor import Preprocessor\n",
    "\n",
    "class Model:\n",
    "    \n",
    "    def __init__(self):\n",
    "        self.loaded = False\n",
    "        \n",
    "        \n",
    "    def load(self):\n",
    "\n",
    "        artifacts = joblib.load(\"/tmp/data/preprocessor.joblib\")\n",
    "        self.preprocessing_tasks = artifacts[\"preprocessing_tasks\"]\n",
    "        self.model_parameters = artifacts[\"model_parameters\"]\n",
    "        self.columns = artifacts[\"columns\"]\n",
    "        self.target = artifacts[\"target\"]\n",
    "\n",
    "        self.preprocessor = Preprocessor(self.preprocessing_tasks, self.model_parameters)\n",
    "\n",
    "        self.loaded = True\n",
    "            \n",
    "    def class_names(self):\n",
    "        return ['text']\n",
    "\n",
    "    \n",
    "    def predict(self, X, feature_names, meta=None):\n",
    "\n",
    "        if not self.loaded:\n",
    "            self.load()\n",
    "        \n",
    "        if feature_names:\n",
    "            # Antes de utilizar o conjunto de dados X no modelo, reordena suas features de acordo com a ordem utilizada no treinamento\n",
    "            df = pd.DataFrame(X, columns=self.columns)\n",
    "        \n",
    "        else:\n",
    "            if isinstance(X, str):\n",
    "                df = pd.DataFrame({self.target: [X]})\n",
    "            else:\n",
    "                df = pd.DataFrame({self.target: X})\n",
    "            \n",
    "        texts = self.preprocessor.preprocess(df[self.target].to_numpy())\n",
    "        texts = np.array(texts)\n",
    "\n",
    "        if len(texts.shape) == 1:\n",
    "            texts = np.expand_dims(texts, axis=0) \n",
    "        \n",
    "        return texts"
   ],
   "outputs": [],
   "metadata": {}
  }
 ],
 "metadata": {
  "celltoolbar": "Tags",
  "experiment_id": "c114f6ba-2bc1-43c7-823d-00360c37f88a",
  "kernelspec": {
   "display_name": "Python 3",
   "language": "python",
   "name": "python3"
  },
  "language_info": {
   "codemirror_mode": {
    "name": "ipython",
    "version": 3
   },
   "file_extension": ".py",
   "mimetype": "text/x-python",
   "name": "python",
   "nbconvert_exporter": "python",
   "pygments_lexer": "ipython3",
   "version": "3.8.6"
  },
  "operator_id": "b9f242c9-4d5d-4c5f-b30d-c63425281213",
  "task_id": "abe6f2d9-53fd-456a-8654-697cd35d3109"
 },
 "nbformat": 4,
 "nbformat_minor": 4
}