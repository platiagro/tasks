{
 "cells": [
  {
   "cell_type": "markdown",
   "source": [
    "#  Tradutor de Textos - Implantação\n",
    "## Utilização do modelo [MarianMT](https://huggingface.co/transformers/model_doc/marian.html) para tradução. \n",
    "\n",
    "\n",
    "* Este componente faz tradução multilingual entre uma série de idiomas, tais como Português, Inglês, Espanhol, Alemão, Holandês, Japonês, Chinês e outros. \n",
    "* Para adaptar para traduções em outros idiomas é necessário verificacar se há o modelo pré treinado disponível no MarianMT e adicionar o par de tradução (idioma fonte, idioma alvo) no arquivo ```translator.py``` da seguinte forma:\n",
    "    \n",
    "    ```python\n",
    "    # Par de tradução e respectivo modelo\n",
    "    MODEL_MAP = {\n",
    "        ...\n",
    "        ('português', 'inglês'): 'Helsinki-NLP/opus-mt-ROMANCE-en',\n",
    "        ...\n",
    "    }\n",
    "\n",
    "    ...\n",
    "\n",
    "    # Código dos idiomas inseridos (se não houver)\n",
    "    LANGUAGE_PREFIX = {\n",
    "        ...\n",
    "        'português': 'pt',\n",
    "        'inglês': 'en',\n",
    "        ...\n",
    "    }\n",
    "    ...\n",
    "    ```\n",
    "\n",
    "* As métricas computadas são o BLEU e o ROUGE-L \n",
    "\n",
    "\n",
    "### **Em caso de dúvidas, consulte os [tutoriais da PlatIAgro](https://platiagro.github.io/tutorials/).**"
   ],
   "metadata": {}
  },
  {
   "cell_type": "markdown",
   "source": [
    "## Declaração de Classe para Predições em Tempo Real\n",
    "\n",
    "A tarefa de implantação cria um serviço REST para predições em tempo-real.<br>\n",
    "Para isso você deve criar uma classe `Model` que implementa o método `predict`."
   ],
   "metadata": {}
  },
  {
   "cell_type": "code",
   "execution_count": 1,
   "source": [
    "%%writefile Model.py\n",
    "\n",
    "import joblib\n",
    "import numpy as np\n",
    "import pandas as pd\n",
    "from translator import Translator\n",
    "\n",
    "class Model:\n",
    "    def __init__(self):\n",
    "        self.loaded = False\n",
    "\n",
    "    def load(self):\n",
    "        \n",
    "        # Load artifacts\n",
    "        artifacts = joblib.load(\"/tmp/data/translator.joblib\")\n",
    "        self.model_parameters = artifacts[\"model_parameters\"]\n",
    "        self.inference_parameters = artifacts[\"inference_parameters\"]\n",
    "        \n",
    "        # Initialize translator\n",
    "        self.translator = Translator(**self.model_parameters)\n",
    "        \n",
    "        # Set model loaded\n",
    "        self.loaded = True\n",
    "        print(\"Loaded model\")\n",
    "    \n",
    "    def class_names(self):\n",
    "        column_names = list(self.inference_parameters['columns']) + [self.inference_parameters['output_column_name']]\n",
    "        return column_names\n",
    "\n",
    "    def predict(self, X, feature_names, meta=None):\n",
    "        if not self.loaded:\n",
    "            self.load()\n",
    "            \n",
    "        if feature_names:\n",
    "            # Antes de utilizar o conjunto de dados X no modelo, reordena suas features de acordo com a ordem utilizada no treinamento\n",
    "            df = pd.DataFrame(X, columns=feature_names)\n",
    "            X = df[self.inference_parameters['columns']]\n",
    "        \n",
    "        else:\n",
    "            X = pd.DataFrame(X, columns=self.inference_parameters['columns'])\n",
    "            \n",
    "        # Translate sentences\n",
    "        translated_texts = self.translator(X[self.inference_parameters['text_column_name']])\n",
    "        \n",
    "        # Output dataframe\n",
    "        output_df = X.copy()\n",
    "        output_df[self.inference_parameters['output_column_name']] = translated_texts\n",
    "        \n",
    "        # Output\n",
    "        output = output_df.to_numpy()\n",
    "\n",
    "        return output"
   ],
   "outputs": [
    {
     "output_type": "stream",
     "name": "stdout",
     "text": [
      "Writing Model.py\n"
     ]
    }
   ],
   "metadata": {}
  }
 ],
 "metadata": {
  "celltoolbar": "Tags",
  "experiment_id": "fdc63c26-2481-4516-a62b-24db0595f48e",
  "kernelspec": {
   "display_name": "Python 3",
   "language": "python",
   "name": "python3"
  },
  "language_info": {
   "codemirror_mode": {
    "name": "ipython",
    "version": 3
   },
   "file_extension": ".py",
   "mimetype": "text/x-python",
   "name": "python",
   "nbconvert_exporter": "python",
   "pygments_lexer": "ipython3",
   "version": "3.8.8"
  },
  "operator_id": "cb31d736-13ea-411f-942c-90ca311c1579",
  "task_id": "bb7161bc-adb3-4941-bd46-6443c428ac17"
 },
 "nbformat": 4,
 "nbformat_minor": 4
}