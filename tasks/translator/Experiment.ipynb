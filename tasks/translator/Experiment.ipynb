{
 "cells": [
  {
   "cell_type": "markdown",
   "source": [
    "#  Tradutor de Textos - Experimento\n",
    "## Utilização do modelo [MarianMT](https://huggingface.co/transformers/model_doc/marian.html) para tradução. \n",
    "\n",
    "\n",
    "* Este componente faz tradução multilingual entre uma série de idiomas, tais como Português, Inglês, Espanhol, Alemão, Holandês, Japonês, Chinês e outros. \n",
    "* Para adaptar para traduções em outros idiomas é necessário verificacar se há o modelo pré treinado disponível no MarianMT e adicionar o par de tradução (idioma fonte, idioma alvo) no arquivo ```translator.py``` da seguinte forma:\n",
    "    \n",
    "    ```python\n",
    "    # Par de tradução e respectivo modelo\n",
    "    MODEL_MAP = {\n",
    "        ...\n",
    "        ('português', 'inglês'): 'Helsinki-NLP/opus-mt-ROMANCE-en',\n",
    "        ...\n",
    "    }\n",
    "\n",
    "    ...\n",
    "\n",
    "    # Código dos idiomas inseridos (se não houver)\n",
    "    LANGUAGE_PREFIX = {\n",
    "        ...\n",
    "        'português': 'pt',\n",
    "        'inglês': 'en',\n",
    "        ...\n",
    "    }\n",
    "    ...\n",
    "    ```\n",
    "\n",
    "* As métricas computadas são o BLEU e o ROUGE-L \n",
    "\n",
    "\n",
    "### **Em caso de dúvidas, consulte os [tutoriais da PlatIAgro](https://platiagro.github.io/tutorials/).**"
   ],
   "metadata": {}
  },
  {
   "cell_type": "markdown",
   "source": [
    "## Declaração de parâmetros e hiperparâmetros\n",
    "\n",
    "Declare parâmetros com o botão <img src=\"data:image/png;base64,iVBORw0KGgoAAAANSUhEUgAAABQAAAAUCAYAAACNiR0NAAABhWlDQ1BJQ0MgcHJvZmlsZQAAKJF9kT1Iw0AcxV9TtaIVBzuIOASpThb8QhylikWwUNoKrTqYXPohNGlIUlwcBdeCgx+LVQcXZ10dXAVB8APEydFJ0UVK/F9SaBHjwXE/3t173L0DhFqJqWbbGKBqlpGMRcVMdkUMvKID3QhiCOMSM/V4aiENz/F1Dx9f7yI8y/vcn6NHyZkM8InEs0w3LOJ14ulNS+e8TxxiRUkhPiceNeiCxI9cl11+41xwWOCZISOdnCMOEYuFFpZbmBUNlXiKOKyoGuULGZcVzluc1VKFNe7JXxjMacsprtMcRAyLiCMBETIq2EAJFiK0aqSYSNJ+1MM/4PgT5JLJtQFGjnmUoUJy/OB/8LtbMz854SYFo0D7i21/DAOBXaBete3vY9uunwD+Z+BKa/rLNWDmk/RqUwsfAb3bwMV1U5P3gMsdoP9JlwzJkfw0hXweeD+jb8oCfbdA16rbW2Mfpw9AmrpaugEODoGRAmWveby7s7W3f880+vsBocZyukMJsmwAAAAGYktHRAD/AP8A/6C9p5MAAAAJcEhZcwAADdcAAA3XAUIom3gAAAAHdElNRQfkBgsMIwnXL7c0AAACDUlEQVQ4y92UP4gTQRTGf29zJxhJZ2NxbMBKziYWlmJ/ile44Nlkd+dIYWFzItiNgoIEtFaTzF5Ac/inE/urtLWxsMqmUOwCEpt1Zmw2xxKi53XitPO9H9978+aDf/3IUQvSNG0450Yi0jXG7C/eB0cFeu9viciGiDyNoqh2KFBrHSilWstgnU7nFLBTgl+ur6/7PwK11kGe5z3n3Hul1MaiuCgKDZwALHA7z/Oe1jpYCtRaB+PxuA8kQM1aW68Kt7e3zwBp6a5b1ibj8bhfhQYVZwMRiQHrvW9nWfaqCrTWPgRWvPdvsiy7IyLXgEJE4slk8nw+T5nDgDbwE9gyxryuwpRSF5xz+0BhrT07HA4/AyRJchUYASvAbhiGaRVWLIMBYq3tAojIszkMoNRulbXtPM8HwV/sXSQi54HvQRDcO0wfhGGYArvAKjAq2wAgiqJj3vsHpbtur9f7Vi2utLx60LLW2hljEuBJOYu9OI6vAzQajRvAaeBLURSPlsBelA+VhWGYaq3dwaZvbm6+m06noYicE5ErrVbrK3AXqHvvd4bD4Ye5No7jSERGwKr3Pms2m0pr7Rb30DWbTQWYcnFvAieBT7PZbFB1V6vVfpQaU4UtDQetdTCZTC557/eA48BlY8zbRZ1SqrW2tvaxCvtt2iRJ0i9/xb4x5uJRwmNlaaaJ3AfqIvKY/+78Av++6uiSZhYMAAAAAElFTkSuQmCC\" /> na barra de ferramentas.<br>\n",
    "A variável `dataset` possui o caminho para leitura do arquivos importados na tarefa de \"Upload de dados\".<br>\n",
    "Você também pode importar arquivos com o botão <img src=\"data:image/png;base64,iVBORw0KGgoAAAANSUhEUgAAABQAAAAUCAYAAACNiR0NAAABhWlDQ1BJQ0MgcHJvZmlsZQAAKJF9kT1Iw0AcxV9TtaIVBzuIOASpThb8QhylikWwUNoKrTqYXPohNGlIUlwcBdeCgx+LVQcXZ10dXAVB8APEydFJ0UVK/F9SaBHjwXE/3t173L0DhFqJqWbbGKBqlpGMRcVMdkUMvKID3QhiCOMSM/V4aiENz/F1Dx9f7yI8y/vcn6NHyZkM8InEs0w3LOJ14ulNS+e8TxxiRUkhPiceNeiCxI9cl11+41xwWOCZISOdnCMOEYuFFpZbmBUNlXiKOKyoGuULGZcVzluc1VKFNe7JXxjMacsprtMcRAyLiCMBETIq2EAJFiK0aqSYSNJ+1MM/4PgT5JLJtQFGjnmUoUJy/OB/8LtbMz854SYFo0D7i21/DAOBXaBete3vY9uunwD+Z+BKa/rLNWDmk/RqUwsfAb3bwMV1U5P3gMsdoP9JlwzJkfw0hXweeD+jb8oCfbdA16rbW2Mfpw9AmrpaugEODoGRAmWveby7s7W3f880+vsBocZyukMJsmwAAAAGYktHRAD/AP8A/6C9p5MAAAAJcEhZcwAADdcAAA3XAUIom3gAAAAHdElNRQfkBgsOBy6ASTeXAAAC/0lEQVQ4y5WUT2gcdRTHP29m99B23Uiq6dZisgoWCxVJW0oL9dqLfyhCvGWY2YUBI95MsXgwFISirQcLhS5hfgk5CF3wJIhFI7aHNsL2VFZFik1jS1qkiZKdTTKZ3/MyDWuz0fQLc/m99/vMvDfv+4RMlUrlkKqeAAaBAWAP8DSgwJ/AXRG5rao/WWsvTU5O3qKLBMD3fSMiPluXFZEPoyj67PGAMzw83PeEMABHVT/oGpiamnoAmCcEWhH5tFsgF4bh9oWFhfeKxeJ5a+0JVT0oImWgBPQCKfAQuAvcBq67rltX1b+6ApMkKRcKhe9V9QLwbavV+qRer692Sx4ZGSnEcXw0TdP3gSrQswGYz+d/S5IkVtXTwOlCoZAGQXAfmAdagAvsAErtdnuXiDy6+023l7qNRsMODg5+CawBzwB9wFPA7mx8ns/KL2Tl3xCRz5eWlkabzebahrHxPG+v4zgnc7ncufHx8Z+Hhoa29fT0lNM03Q30ikiqqg+ttX/EcTy3WTvWgdVqtddaOw/kgXvADHBHROZVNRaRvKruUNU+EdkPfGWM+WJTYOaSt1T1LPDS/4zLWWPMaLVaPWytrYvIaBRFl/4F9H2/JCKvGmMu+76/X0QOqGoZKDmOs1NV28AicMsYc97zvFdc1/0hG6kEeNsY83UnsCwivwM3VfU7YEZE7lhr74tIK8tbnJiYWPY8b6/ruleAXR0ftQy8boyZXi85CIIICDYpc2ZgYODY3NzcHmvt1eyvP64lETkeRdE1yZyixWLx5U2c8q4x5mIQBE1g33/0d3FlZeXFR06ZttZesNZejuO4q1NE5CPgWVV9E3ij47wB1IDlJEn+ljAM86urq7+KyAtZTgqsO0VV247jnOnv7/9xbGzMViqVMVX9uANYj6LonfVtU6vVkjRNj6jqGeCXzGrPAQeA10TkuKpOz87ONrayhnIA2Qo7BZwKw3B7kiRloKSqO13Xja21C47jPNgysFO1Wi0GmtmzQap6DWgD24A1Vb3SGf8Hfstmz1CuXEIAAAAASUVORK5CYII=\" /> na barra de ferramentas."
   ],
   "metadata": {}
  },
  {
   "cell_type": "code",
   "execution_count": 44,
   "source": [
    "dataset = \"/tmp/data/texts-20.csv\" #@param {type:\"string\"}\n",
    "text_column_name = \"text\" #@param {type:\"string\", label:\"Coluna para aplicar o Tradutor\", description:\"Esta coluna será utilizada para traduzir os textos. Deve ser uma coluna existente do dataset.\"}\n",
    "output_column_name = \"text_translated\" #@param {type:\"string\", label:\"Coluna para salvar os textos traduzidos\", description:\"Esta coluna será utilizada para salvar as traduções dos textos. Deve ser uma coluna inexistente do dataset.\"}\n",
    "expected_column_name = \"\" #@param {type:\"string\", label:\"Coluna para avaliar os textos traduzidos\", description:\"Esta coluna será utilizada para avaliar as traduções dos textos. É uma coluna opcional.\"}\n",
    "source_language = \"português\" #@param [\"africâner\",\"alemão\", \"árabe\", \"catalão\", \"chinês\", \"dinamarquês\", \"espanhol\", \"francês\", \"frísio\", \"holandês\", \"híndi\", \"inglês\", \"islandês\", \"italiano\", \"japonês\", \"latim\", \"norueguês\", \"português\", \"romeno\", \"sueco\", \"zulu\"] {type:\"string\",multiple:false,label:\"Idioma Fonte\",description:\"Idioma dos dados de entrada.\"}\n",
    "target_language = \"inglês\" #@param [\"africâner\",\"alemão\", \"árabe\", \"catalão\", \"chinês\", \"dinamarquês\", \"espanhol\", \"francês\", \"frísio\", \"holandês\", \"híndi\", \"inglês\", \"islandês\", \"italiano\", \"japonês\", \"latim\", \"norueguês\", \"português\", \"romeno\", \"sueco\", \"zulu\"] {type:\"string\",multiple:false,label:\"Idioma Alvo\",description:\"Idioma dos dados de saída.\"}\n",
    "device = \"cuda\" #@param [\"cuda\",\"cpu\"] {type:\"string\",multiple:false,label:\"Dispositivo\",description:\"Tipo de dispositivo para efetuar as traduções.\"}\n",
    "batch_size = 4 #@param {type:\"number\",label:\"Batch Size\",description:\"Tamanho dos lotes de dados para tradução.\"}"
   ],
   "outputs": [],
   "metadata": {
    "tags": [
     "parameters"
    ]
   }
  },
  {
   "cell_type": "markdown",
   "source": [
    "## Leitura do conjunto de dados\n",
    "\n",
    "O exemplo abaixo faz a leitura de dados tabulares (ex: .csv).<br>\n",
    "Modifique o código de acordo com o tipo de dado que desejar ler."
   ],
   "metadata": {}
  },
  {
   "cell_type": "code",
   "execution_count": 45,
   "source": [
    "import pandas as pd\n",
    "\n",
    "df = pd.read_csv(dataset)\n",
    "df"
   ],
   "outputs": [
    {
     "output_type": "execute_result",
     "data": {
      "text/plain": [
       "   index                                               text  \\\n",
       "0      1  A bola é um objeto utilizado para lazer de uma...   \n",
       "1      2  Golfe é um esporte no qual os jogadores usam d...   \n",
       "2      3  Jogo por tacadas[1] (stroke play[2]), também c...   \n",
       "\n",
       "                                       expected_text  \n",
       "0  A ball is an object used for a person's leisur...  \n",
       "1  Golf is a sport in which players use different...  \n",
       "2  Stroke play[1] (stroke play[2]), also known as...  "
      ],
      "text/html": [
       "<div>\n",
       "<style scoped>\n",
       "    .dataframe tbody tr th:only-of-type {\n",
       "        vertical-align: middle;\n",
       "    }\n",
       "\n",
       "    .dataframe tbody tr th {\n",
       "        vertical-align: top;\n",
       "    }\n",
       "\n",
       "    .dataframe thead th {\n",
       "        text-align: right;\n",
       "    }\n",
       "</style>\n",
       "<table border=\"1\" class=\"dataframe\">\n",
       "  <thead>\n",
       "    <tr style=\"text-align: right;\">\n",
       "      <th></th>\n",
       "      <th>index</th>\n",
       "      <th>text</th>\n",
       "      <th>expected_text</th>\n",
       "    </tr>\n",
       "  </thead>\n",
       "  <tbody>\n",
       "    <tr>\n",
       "      <th>0</th>\n",
       "      <td>1</td>\n",
       "      <td>A bola é um objeto utilizado para lazer de uma...</td>\n",
       "      <td>A ball is an object used for a person's leisur...</td>\n",
       "    </tr>\n",
       "    <tr>\n",
       "      <th>1</th>\n",
       "      <td>2</td>\n",
       "      <td>Golfe é um esporte no qual os jogadores usam d...</td>\n",
       "      <td>Golf is a sport in which players use different...</td>\n",
       "    </tr>\n",
       "    <tr>\n",
       "      <th>2</th>\n",
       "      <td>3</td>\n",
       "      <td>Jogo por tacadas[1] (stroke play[2]), também c...</td>\n",
       "      <td>Stroke play[1] (stroke play[2]), also known as...</td>\n",
       "    </tr>\n",
       "  </tbody>\n",
       "</table>\n",
       "</div>"
      ]
     },
     "metadata": {},
     "execution_count": 45
    }
   ],
   "metadata": {}
  },
  {
   "cell_type": "markdown",
   "source": [
    "## Conteúdo da tarefa"
   ],
   "metadata": {}
  },
  {
   "cell_type": "code",
   "execution_count": 46,
   "source": [
    "# Assert parameters\n",
    "\n",
    "assert text_column_name in df.columns, f\"Coluna '{text_column_name}' deve ser uma coluna do dataset.\"\n",
    "assert output_column_name not in df.columns, f\"Coluna '{output_column_name}' não pode estar contida nas colunas do dataset.\"\n",
    "assert expected_column_name == \"\" or expected_column_name in df.columns, f\"Coluna '{expected_column_name}' deve ser uma coluna do dataset ou deixar ou campo em branco.\"\n",
    "assert device in ['cuda', 'cpu'], f\"Dispositivo '{device}' deve ser ou 'cuda' ou 'cpu'.\"\n",
    "assert source_language != target_language, f\"Os idiomas de fonte e alvo devem ser diferentes.\"\n",
    "assert batch_size > 0, f\"O Batch Size deve ser maior do que 0.\""
   ],
   "outputs": [],
   "metadata": {}
  },
  {
   "cell_type": "code",
   "execution_count": 47,
   "source": [
    "import torch\n",
    "\n",
    "# Model parameters\n",
    "model_parameters = {\n",
    "    'device':torch.device(device) if torch.cuda.is_available() else torch.device('cpu'),\n",
    "    'source_language':source_language,\n",
    "    'target_language':target_language,\n",
    "}\n",
    "\n",
    "# Inference parameters\n",
    "inference_parameters = {\n",
    "    'text_column_name':text_column_name,\n",
    "    'output_column_name':output_column_name,\n",
    "    'expected_column_name':expected_column_name,\n",
    "    'columns':list(df.columns),\n",
    "    'batch_size': batch_size\n",
    "}"
   ],
   "outputs": [],
   "metadata": {}
  },
  {
   "cell_type": "code",
   "execution_count": 48,
   "source": [
    "from translator import Translator\n",
    "\n",
    "# Initialize translator\n",
    "translator = Translator(**model_parameters)\n",
    "\n",
    "# Make inference\n",
    "translated_sentences = translator(\n",
    "    batch_sentence=df[inference_parameters['text_column_name']].values, \n",
    "    batch_size=inference_parameters['batch_size']\n",
    ")\n",
    "\n",
    "del translator"
   ],
   "outputs": [],
   "metadata": {}
  },
  {
   "cell_type": "code",
   "execution_count": 49,
   "source": [
    "# Save to dataframe\n",
    "df[inference_parameters['output_column_name']] = translated_sentences"
   ],
   "outputs": [],
   "metadata": {}
  },
  {
   "cell_type": "code",
   "execution_count": 62,
   "source": [
    "from platiagro.metrics_nlp import wrapper\n",
    "from platiagro.plotting import plot_data_table\n",
    "# Evaluate translation (Optional)\n",
    "\n",
    "# Iff is not empty\n",
    "if inference_parameters['expected_column_name'] != \"\":\n",
    "    \n",
    "    # Initializate calculator\n",
    "    calculator = wrapper.MetricsCalculator(metrics=['bleu', 'rouge'])\n",
    "    \n",
    "    # Perform calculations\n",
    "    scores = calculator.calculate_from_texts(\n",
    "        df[inference_parameters['output_column_name']].values, \n",
    "        df[inference_parameters['expected_column_name']].values\n",
    "    )\n",
    "    \n",
    "    # Plot metrics\n",
    "    plot_data_table(pd.DataFrame(scores, index = ['Média']))"
   ],
   "outputs": [
    {
     "output_type": "display_data",
     "data": {
      "text/plain": [
       "<Figure size 432x90 with 1 Axes>"
      ],
      "image/png": "[encoded data removed]"
     },
     "metadata": {
      "needs_background": "light"
     }
    }
   ],
   "metadata": {}
  },
  {
   "cell_type": "code",
   "execution_count": 10,
   "source": [
    "# Save data\n",
    "df.to_csv(dataset, index=False)"
   ],
   "outputs": [],
   "metadata": {}
  },
  {
   "cell_type": "markdown",
   "source": [
    "## Salva resultados da tarefa\n",
    "\n",
    "A plataforma guarda o conteúdo de `/tmp/data/` para as tarefas subsequentes.<br>\n",
    "Use essa pasta para salvar modelos, metadados e outros resultados."
   ],
   "metadata": {}
  },
  {
   "cell_type": "code",
   "execution_count": 7,
   "source": [
    "from joblib import dump\n",
    "\n",
    "artifacts = {\n",
    "    \"model_parameters\": model_parameters,\n",
    "    \"inference_parameters\": inference_parameters\n",
    "}\n",
    "\n",
    "dump(artifacts, \"/tmp/data/translator.joblib\")"
   ],
   "outputs": [
    {
     "output_type": "execute_result",
     "data": {
      "text/plain": [
       "['/tmp/data/translator.joblib']"
      ]
     },
     "metadata": {},
     "execution_count": 7
    }
   ],
   "metadata": {}
  },
  {
   "cell_type": "code",
   "execution_count": 5,
   "source": [
    "# from translator import LANGUAGE_GRAPH\n",
    "# import networkx as nx\n",
    "\n",
    "# nx.draw(LANGUAGE_GRAPH, with_labels = True)"
   ],
   "outputs": [
    {
     "output_type": "display_data",
     "data": {
      "text/plain": [
       "<Figure size 432x288 with 1 Axes>"
      ],
      "image/png": "[encoded data removed]"
     },
     "metadata": {}
    }
   ],
   "metadata": {}
  }
 ],
 "metadata": {
  "celltoolbar": "Tags",
  "experiment_id": "fdc63c26-2481-4516-a62b-24db0595f48e",
  "kernelspec": {
   "display_name": "Python 3",
   "language": "python",
   "name": "python3"
  },
  "language_info": {
   "codemirror_mode": {
    "name": "ipython",
    "version": 3
   },
   "file_extension": ".py",
   "mimetype": "text/x-python",
   "name": "python",
   "nbconvert_exporter": "python",
   "pygments_lexer": "ipython3",
   "version": "3.8.8"
  },
  "operator_id": "cb31d736-13ea-411f-942c-90ca311c1579",
  "task_id": "bb7161bc-adb3-4941-bd46-6443c428ac17"
 },
 "nbformat": 4,
 "nbformat_minor": 4
}