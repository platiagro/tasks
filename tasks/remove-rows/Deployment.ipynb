{
 "cells": [
  {
   "cell_type": "markdown",
   "source": [
    "# Remoção condicional de linhas de um dataset - Implantação\n",
    "\n",
    "A partir de uma condição, remove as linhas que satisfazem uma condição fornecida.<br>\n",
    "### **Em caso de dúvidas, consulte os [tutoriais da PlatIAgro](https://platiagro.github.io/tutorials/).**"
   ],
   "metadata": {}
  },
  {
   "cell_type": "markdown",
   "source": [
    "## Declaração de Classe para Predições em Tempo Real\n",
    "\n",
    "A tarefa de implantação cria um serviço REST para predições em tempo-real.<br>\n",
    "Para isso você deve criar uma classe `Model` que implementa o método `predict`."
   ],
   "metadata": {}
  },
  {
   "cell_type": "code",
   "execution_count": null,
   "source": [
    "%%writefile Model.py\n",
    "import joblib\n",
    "import pandas as pd\n",
    "import logging\n",
    "\n",
    "class Model:\n",
    "    def __init__(self):\n",
    "        self.loaded = False\n",
    "\n",
    "    def load(self):\n",
    "        # Carrega artefatos: estimador, etc\n",
    "        artifacts = joblib.load(\"/tmp/data/remove-rows.joblib\")\n",
    "        self.columns = artifacts[\"columns\"]\n",
    "        self.filter_query = artifacts[\"filter_query\"]\n",
    "        self.colum_types = artifacts[\"colum_types\"]\n",
    "\n",
    "        self.loaded = True\n",
    "\n",
    "    def class_names(self):\n",
    "        return self.columns\n",
    "\n",
    "    def predict(self, X, feature_names, meta=None):\n",
    "\n",
    "        if not self.loaded:\n",
    "            self.load()\n",
    "\n",
    "        # Transforma X em um dataframe\n",
    "        df = pd.DataFrame(data=X, columns=feature_names)\n",
    "\n",
    "        # Reordena colunas para seguirem o padrão do dataset original\n",
    "        df = df[self.columns]\n",
    "\n",
    "        # Transformando tipos numéricos recebidos como não-numéricos\n",
    "        for colum, colum_type in zip(self.columns, self.colum_types):\n",
    "            \n",
    "            # Verificando se tipo é numérico\n",
    "            if pd.api.types.is_numeric_dtype(colum_type):\n",
    "                df[colum] = pd.to_numeric(df[colum])\n",
    "\n",
    "        # Aplica a query de filtro\n",
    "        df = df.query(self.filter_query)\n",
    "\n",
    "        # logging.error(df)\n",
    "        # assert False\n",
    "\n",
    "        return df.to_numpy()"
   ],
   "outputs": [],
   "metadata": {}
  }
 ],
 "metadata": {
  "celltoolbar": "Tags",
  "kernelspec": {
   "display_name": "Python 3",
   "language": "python",
   "name": "python3"
  },
  "language_info": {
   "codemirror_mode": {
    "name": "ipython",
    "version": 3
   },
   "file_extension": ".py",
   "mimetype": "text/x-python",
   "name": "python",
   "nbconvert_exporter": "python",
   "pygments_lexer": "ipython3",
   "version": "3.7.4"
  }
 },
 "nbformat": 4,
 "nbformat_minor": 4
}