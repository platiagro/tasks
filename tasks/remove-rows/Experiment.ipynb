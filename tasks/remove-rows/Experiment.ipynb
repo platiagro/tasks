{
 "cells": [
  {
   "cell_type": "markdown",
   "id": "f4f694c9",
   "metadata": {
    "deletable": false,
    "editable": false,
    "papermill": {
     "duration": 0.015035,
     "end_time": "2022-07-21T16:57:00.112193",
     "exception": false,
     "start_time": "2022-07-21T16:57:00.097158",
     "status": "completed"
    },
    "tags": []
   },
   "source": [
    "# Remoção condicional de linhas de um dataset - Experimento\n",
    "\n",
    "A partir de uma condição, remove as linhas que satisfazem uma condição fornecida.<br>\n",
    "### **Em caso de dúvidas, consulte os [tutoriais da PlatIAgro](https://platiagro.github.io/tutorials/).**"
   ]
  },
  {
   "cell_type": "markdown",
   "id": "19615834",
   "metadata": {
    "deletable": false,
    "editable": false,
    "papermill": {
     "duration": 0.014169,
     "end_time": "2022-07-21T16:57:00.139490",
     "exception": false,
     "start_time": "2022-07-21T16:57:00.125321",
     "status": "completed"
    },
    "tags": []
   },
   "source": [
    "## Declaração de parâmetros e hiperparâmetros\n",
    "\n",
    "Declare parâmetros com o botão <img src=\"data:image/png;base64,iVBORw0KGgoAAAANSUhEUgAAABQAAAAUCAYAAACNiR0NAAABhWlDQ1BJQ0MgcHJvZmlsZQAAKJF9kT1Iw0AcxV9TtaIVBzuIOASpThb8QhylikWwUNoKrTqYXPohNGlIUlwcBdeCgx+LVQcXZ10dXAVB8APEydFJ0UVK/F9SaBHjwXE/3t173L0DhFqJqWbbGKBqlpGMRcVMdkUMvKID3QhiCOMSM/V4aiENz/F1Dx9f7yI8y/vcn6NHyZkM8InEs0w3LOJ14ulNS+e8TxxiRUkhPiceNeiCxI9cl11+41xwWOCZISOdnCMOEYuFFpZbmBUNlXiKOKyoGuULGZcVzluc1VKFNe7JXxjMacsprtMcRAyLiCMBETIq2EAJFiK0aqSYSNJ+1MM/4PgT5JLJtQFGjnmUoUJy/OB/8LtbMz854SYFo0D7i21/DAOBXaBete3vY9uunwD+Z+BKa/rLNWDmk/RqUwsfAb3bwMV1U5P3gMsdoP9JlwzJkfw0hXweeD+jb8oCfbdA16rbW2Mfpw9AmrpaugEODoGRAmWveby7s7W3f880+vsBocZyukMJsmwAAAAGYktHRAD/AP8A/6C9p5MAAAAJcEhZcwAADdcAAA3XAUIom3gAAAAHdElNRQfkBgsMIwnXL7c0AAACDUlEQVQ4y92UP4gTQRTGf29zJxhJZ2NxbMBKziYWlmJ/ile44Nlkd+dIYWFzItiNgoIEtFaTzF5Ac/inE/urtLWxsMqmUOwCEpt1Zmw2xxKi53XitPO9H9978+aDf/3IUQvSNG0450Yi0jXG7C/eB0cFeu9viciGiDyNoqh2KFBrHSilWstgnU7nFLBTgl+ur6/7PwK11kGe5z3n3Hul1MaiuCgKDZwALHA7z/Oe1jpYCtRaB+PxuA8kQM1aW68Kt7e3zwBp6a5b1ibj8bhfhQYVZwMRiQHrvW9nWfaqCrTWPgRWvPdvsiy7IyLXgEJE4slk8nw+T5nDgDbwE9gyxryuwpRSF5xz+0BhrT07HA4/AyRJchUYASvAbhiGaRVWLIMBYq3tAojIszkMoNRulbXtPM8HwV/sXSQi54HvQRDcO0wfhGGYArvAKjAq2wAgiqJj3vsHpbtur9f7Vi2utLx60LLW2hljEuBJOYu9OI6vAzQajRvAaeBLURSPlsBelA+VhWGYaq3dwaZvbm6+m06noYicE5ErrVbrK3AXqHvvd4bD4Ye5No7jSERGwKr3Pms2m0pr7Rb30DWbTQWYcnFvAieBT7PZbFB1V6vVfpQaU4UtDQetdTCZTC557/eA48BlY8zbRZ1SqrW2tvaxCvtt2iRJ0i9/xb4x5uJRwmNlaaaJ3AfqIvKY/+78Av++6uiSZhYMAAAAAElFTkSuQmCC\" /> na barra de ferramentas.<br>\n",
    "A variável `dataset` possui o caminho para leitura do arquivos importados na tarefa de \"Upload de dados\".<br>\n",
    "Você também pode importar arquivos com o botão <img src=\"data:image/png;base64,iVBORw0KGgoAAAANSUhEUgAAABQAAAAUCAYAAACNiR0NAAABhWlDQ1BJQ0MgcHJvZmlsZQAAKJF9kT1Iw0AcxV9TtaIVBzuIOASpThb8QhylikWwUNoKrTqYXPohNGlIUlwcBdeCgx+LVQcXZ10dXAVB8APEydFJ0UVK/F9SaBHjwXE/3t173L0DhFqJqWbbGKBqlpGMRcVMdkUMvKID3QhiCOMSM/V4aiENz/F1Dx9f7yI8y/vcn6NHyZkM8InEs0w3LOJ14ulNS+e8TxxiRUkhPiceNeiCxI9cl11+41xwWOCZISOdnCMOEYuFFpZbmBUNlXiKOKyoGuULGZcVzluc1VKFNe7JXxjMacsprtMcRAyLiCMBETIq2EAJFiK0aqSYSNJ+1MM/4PgT5JLJtQFGjnmUoUJy/OB/8LtbMz854SYFo0D7i21/DAOBXaBete3vY9uunwD+Z+BKa/rLNWDmk/RqUwsfAb3bwMV1U5P3gMsdoP9JlwzJkfw0hXweeD+jb8oCfbdA16rbW2Mfpw9AmrpaugEODoGRAmWveby7s7W3f880+vsBocZyukMJsmwAAAAGYktHRAD/AP8A/6C9p5MAAAAJcEhZcwAADdcAAA3XAUIom3gAAAAHdElNRQfkBgsOBy6ASTeXAAAC/0lEQVQ4y5WUT2gcdRTHP29m99B23Uiq6dZisgoWCxVJW0oL9dqLfyhCvGWY2YUBI95MsXgwFISirQcLhS5hfgk5CF3wJIhFI7aHNsL2VFZFik1jS1qkiZKdTTKZ3/MyDWuz0fQLc/m99/vMvDfv+4RMlUrlkKqeAAaBAWAP8DSgwJ/AXRG5rao/WWsvTU5O3qKLBMD3fSMiPluXFZEPoyj67PGAMzw83PeEMABHVT/oGpiamnoAmCcEWhH5tFsgF4bh9oWFhfeKxeJ5a+0JVT0oImWgBPQCKfAQuAvcBq67rltX1b+6ApMkKRcKhe9V9QLwbavV+qRer692Sx4ZGSnEcXw0TdP3gSrQswGYz+d/S5IkVtXTwOlCoZAGQXAfmAdagAvsAErtdnuXiDy6+023l7qNRsMODg5+CawBzwB9wFPA7mx8ns/KL2Tl3xCRz5eWlkabzebahrHxPG+v4zgnc7ncufHx8Z+Hhoa29fT0lNM03Q30ikiqqg+ttX/EcTy3WTvWgdVqtddaOw/kgXvADHBHROZVNRaRvKruUNU+EdkPfGWM+WJTYOaSt1T1LPDS/4zLWWPMaLVaPWytrYvIaBRFl/4F9H2/JCKvGmMu+76/X0QOqGoZKDmOs1NV28AicMsYc97zvFdc1/0hG6kEeNsY83UnsCwivwM3VfU7YEZE7lhr74tIK8tbnJiYWPY8b6/ruleAXR0ftQy8boyZXi85CIIICDYpc2ZgYODY3NzcHmvt1eyvP64lETkeRdE1yZyixWLx5U2c8q4x5mIQBE1g33/0d3FlZeXFR06ZttZesNZejuO4q1NE5CPgWVV9E3ij47wB1IDlJEn+ljAM86urq7+KyAtZTgqsO0VV247jnOnv7/9xbGzMViqVMVX9uANYj6LonfVtU6vVkjRNj6jqGeCXzGrPAQeA10TkuKpOz87ONrayhnIA2Qo7BZwKw3B7kiRloKSqO13Xja21C47jPNgysFO1Wi0GmtmzQap6DWgD24A1Vb3SGf8Hfstmz1CuXEIAAAAASUVORK5CYII=\" /> na barra de ferramentas."
   ]
  },
  {
   "cell_type": "code",
   "execution_count": 1,
   "id": "961f08e4",
   "metadata": {
    "deletable": false,
    "editable": false,
    "execution": {
     "iopub.execute_input": "2022-07-21T16:57:00.229266Z",
     "iopub.status.busy": "2022-07-21T16:57:00.228580Z",
     "iopub.status.idle": "2022-07-21T16:57:00.232572Z",
     "shell.execute_reply": "2022-07-21T16:57:00.233416Z"
    },
    "papermill": {
     "duration": 0.034238,
     "end_time": "2022-07-21T16:57:00.233841",
     "exception": false,
     "start_time": "2022-07-21T16:57:00.199603",
     "status": "completed"
    },
    "tags": [
     "parameters"
    ]
   },
   "outputs": [],
   "source": [
    "# parameters\n",
    "dataset = \"/tmp/data/iris.csv\" #@param {type:\"string\"}\n",
    "target = \"\" #@param {type:\"feature\", label:\"Nome do atributo\", description: \"Você utilizará este atributo (coluna da tabela) para aplicar a condição de seleção de dados.\"}\n",
    "\n",
    "# marginal visualization method\n",
    "condition = \"Maior que\" #@param [\"Maior que\", \"Maior ou igual a\", \"Igual a\", \"Menor ou igual a\", \"Menor que\"] {type:\"string\", label:\"Condição\", description:\"A condição aplicada no atributo escolhido para excluir as linhas da tabela de dados.\"}\n",
    "value = \"\" #@param {type:\"number\", label:\"Valor\", description:\"O valor para utilizar na condição selecionada\"}"
   ]
  },
  {
   "cell_type": "code",
   "execution_count": 2,
   "id": "024ecd8d",
   "metadata": {
    "deletable": false,
    "editable": false,
    "execution": {
     "iopub.execute_input": "2022-07-21T16:57:00.321574Z",
     "iopub.status.busy": "2022-07-21T16:57:00.320867Z",
     "iopub.status.idle": "2022-07-21T16:57:00.324118Z",
     "shell.execute_reply": "2022-07-21T16:57:00.324857Z"
    },
    "papermill": {
     "duration": 0.022117,
     "end_time": "2022-07-21T16:57:00.325085",
     "exception": false,
     "start_time": "2022-07-21T16:57:00.302968",
     "status": "completed"
    },
    "tags": [
     "injected-parameters"
    ]
   },
   "outputs": [],
   "source": [
    "# Parameters\n",
    "target = \"Age\"\n",
    "value = 70\n",
    "dataset = \"/tmp/data/test.csv\"\n",
    "condition = \"Maior que\"\n"
   ]
  },
  {
   "cell_type": "markdown",
   "id": "f2ca6741",
   "metadata": {
    "deletable": false,
    "editable": false,
    "papermill": {
     "duration": 0.067502,
     "end_time": "2022-07-21T16:57:00.404942",
     "exception": false,
     "start_time": "2022-07-21T16:57:00.337440",
     "status": "completed"
    },
    "tags": []
   },
   "source": [
    "## Leitura do conjunto de dados\n",
    "\n",
    "O exemplo abaixo faz a leitura de dados tabulares (ex: .csv).<br>\n",
    "Modifique o código de acordo com o tipo de dado que desejar ler."
   ]
  },
  {
   "cell_type": "code",
   "execution_count": 3,
   "id": "8d083331",
   "metadata": {
    "deletable": false,
    "editable": false,
    "execution": {
     "iopub.execute_input": "2022-07-21T16:57:00.444381Z",
     "iopub.status.busy": "2022-07-21T16:57:00.443354Z",
     "iopub.status.idle": "2022-07-21T16:57:01.300310Z",
     "shell.execute_reply": "2022-07-21T16:57:01.299781Z"
    },
    "papermill": {
     "duration": 0.878678,
     "end_time": "2022-07-21T16:57:01.300455",
     "exception": false,
     "start_time": "2022-07-21T16:57:00.421777",
     "status": "completed"
    },
    "tags": []
   },
   "outputs": [
    {
     "data": {
      "text/html": [
       "<div>\n",
       "<style scoped>\n",
       "    .dataframe tbody tr th:only-of-type {\n",
       "        vertical-align: middle;\n",
       "    }\n",
       "\n",
       "    .dataframe tbody tr th {\n",
       "        vertical-align: top;\n",
       "    }\n",
       "\n",
       "    .dataframe thead th {\n",
       "        text-align: right;\n",
       "    }\n",
       "</style>\n",
       "<table border=\"1\" class=\"dataframe\">\n",
       "  <thead>\n",
       "    <tr style=\"text-align: right;\">\n",
       "      <th></th>\n",
       "      <th>PassengerId</th>\n",
       "      <th>Pclass</th>\n",
       "      <th>Name</th>\n",
       "      <th>Sex</th>\n",
       "      <th>Age</th>\n",
       "      <th>SibSp</th>\n",
       "      <th>Parch</th>\n",
       "      <th>Ticket</th>\n",
       "      <th>Fare</th>\n",
       "      <th>Cabin</th>\n",
       "      <th>Embarked</th>\n",
       "    </tr>\n",
       "  </thead>\n",
       "  <tbody>\n",
       "    <tr>\n",
       "      <th>0</th>\n",
       "      <td>892</td>\n",
       "      <td>3</td>\n",
       "      <td>Kelly, Mr. James</td>\n",
       "      <td>male</td>\n",
       "      <td>34.5</td>\n",
       "      <td>0</td>\n",
       "      <td>0</td>\n",
       "      <td>330911</td>\n",
       "      <td>7.8292</td>\n",
       "      <td>NaN</td>\n",
       "      <td>Q</td>\n",
       "    </tr>\n",
       "    <tr>\n",
       "      <th>1</th>\n",
       "      <td>893</td>\n",
       "      <td>3</td>\n",
       "      <td>Wilkes, Mrs. James (Ellen Needs)</td>\n",
       "      <td>female</td>\n",
       "      <td>47.0</td>\n",
       "      <td>1</td>\n",
       "      <td>0</td>\n",
       "      <td>363272</td>\n",
       "      <td>7.0000</td>\n",
       "      <td>NaN</td>\n",
       "      <td>S</td>\n",
       "    </tr>\n",
       "    <tr>\n",
       "      <th>2</th>\n",
       "      <td>894</td>\n",
       "      <td>2</td>\n",
       "      <td>Myles, Mr. Thomas Francis</td>\n",
       "      <td>male</td>\n",
       "      <td>62.0</td>\n",
       "      <td>0</td>\n",
       "      <td>0</td>\n",
       "      <td>240276</td>\n",
       "      <td>9.6875</td>\n",
       "      <td>NaN</td>\n",
       "      <td>Q</td>\n",
       "    </tr>\n",
       "    <tr>\n",
       "      <th>3</th>\n",
       "      <td>895</td>\n",
       "      <td>3</td>\n",
       "      <td>Wirz, Mr. Albert</td>\n",
       "      <td>male</td>\n",
       "      <td>27.0</td>\n",
       "      <td>0</td>\n",
       "      <td>0</td>\n",
       "      <td>315154</td>\n",
       "      <td>8.6625</td>\n",
       "      <td>NaN</td>\n",
       "      <td>S</td>\n",
       "    </tr>\n",
       "    <tr>\n",
       "      <th>4</th>\n",
       "      <td>896</td>\n",
       "      <td>3</td>\n",
       "      <td>Hirvonen, Mrs. Alexander (Helga E Lindqvist)</td>\n",
       "      <td>female</td>\n",
       "      <td>22.0</td>\n",
       "      <td>1</td>\n",
       "      <td>1</td>\n",
       "      <td>3101298</td>\n",
       "      <td>12.2875</td>\n",
       "      <td>NaN</td>\n",
       "      <td>S</td>\n",
       "    </tr>\n",
       "    <tr>\n",
       "      <th>...</th>\n",
       "      <td>...</td>\n",
       "      <td>...</td>\n",
       "      <td>...</td>\n",
       "      <td>...</td>\n",
       "      <td>...</td>\n",
       "      <td>...</td>\n",
       "      <td>...</td>\n",
       "      <td>...</td>\n",
       "      <td>...</td>\n",
       "      <td>...</td>\n",
       "      <td>...</td>\n",
       "    </tr>\n",
       "    <tr>\n",
       "      <th>413</th>\n",
       "      <td>1305</td>\n",
       "      <td>3</td>\n",
       "      <td>Spector, Mr. Woolf</td>\n",
       "      <td>male</td>\n",
       "      <td>NaN</td>\n",
       "      <td>0</td>\n",
       "      <td>0</td>\n",
       "      <td>A.5. 3236</td>\n",
       "      <td>8.0500</td>\n",
       "      <td>NaN</td>\n",
       "      <td>S</td>\n",
       "    </tr>\n",
       "    <tr>\n",
       "      <th>414</th>\n",
       "      <td>1306</td>\n",
       "      <td>1</td>\n",
       "      <td>Oliva y Ocana, Dona. Fermina</td>\n",
       "      <td>female</td>\n",
       "      <td>39.0</td>\n",
       "      <td>0</td>\n",
       "      <td>0</td>\n",
       "      <td>PC 17758</td>\n",
       "      <td>108.9000</td>\n",
       "      <td>C105</td>\n",
       "      <td>C</td>\n",
       "    </tr>\n",
       "    <tr>\n",
       "      <th>415</th>\n",
       "      <td>1307</td>\n",
       "      <td>3</td>\n",
       "      <td>Saether, Mr. Simon Sivertsen</td>\n",
       "      <td>male</td>\n",
       "      <td>38.5</td>\n",
       "      <td>0</td>\n",
       "      <td>0</td>\n",
       "      <td>SOTON/O.Q. 3101262</td>\n",
       "      <td>7.2500</td>\n",
       "      <td>NaN</td>\n",
       "      <td>S</td>\n",
       "    </tr>\n",
       "    <tr>\n",
       "      <th>416</th>\n",
       "      <td>1308</td>\n",
       "      <td>3</td>\n",
       "      <td>Ware, Mr. Frederick</td>\n",
       "      <td>male</td>\n",
       "      <td>NaN</td>\n",
       "      <td>0</td>\n",
       "      <td>0</td>\n",
       "      <td>359309</td>\n",
       "      <td>8.0500</td>\n",
       "      <td>NaN</td>\n",
       "      <td>S</td>\n",
       "    </tr>\n",
       "    <tr>\n",
       "      <th>417</th>\n",
       "      <td>1309</td>\n",
       "      <td>3</td>\n",
       "      <td>Peter, Master. Michael J</td>\n",
       "      <td>male</td>\n",
       "      <td>NaN</td>\n",
       "      <td>1</td>\n",
       "      <td>1</td>\n",
       "      <td>2668</td>\n",
       "      <td>22.3583</td>\n",
       "      <td>NaN</td>\n",
       "      <td>C</td>\n",
       "    </tr>\n",
       "  </tbody>\n",
       "</table>\n",
       "<p>418 rows × 11 columns</p>\n",
       "</div>"
      ],
      "text/plain": [
       "     PassengerId  Pclass                                          Name  \\\n",
       "0            892       3                              Kelly, Mr. James   \n",
       "1            893       3              Wilkes, Mrs. James (Ellen Needs)   \n",
       "2            894       2                     Myles, Mr. Thomas Francis   \n",
       "3            895       3                              Wirz, Mr. Albert   \n",
       "4            896       3  Hirvonen, Mrs. Alexander (Helga E Lindqvist)   \n",
       "..           ...     ...                                           ...   \n",
       "413         1305       3                            Spector, Mr. Woolf   \n",
       "414         1306       1                  Oliva y Ocana, Dona. Fermina   \n",
       "415         1307       3                  Saether, Mr. Simon Sivertsen   \n",
       "416         1308       3                           Ware, Mr. Frederick   \n",
       "417         1309       3                      Peter, Master. Michael J   \n",
       "\n",
       "        Sex   Age  SibSp  Parch              Ticket      Fare Cabin Embarked  \n",
       "0      male  34.5      0      0              330911    7.8292   NaN        Q  \n",
       "1    female  47.0      1      0              363272    7.0000   NaN        S  \n",
       "2      male  62.0      0      0              240276    9.6875   NaN        Q  \n",
       "3      male  27.0      0      0              315154    8.6625   NaN        S  \n",
       "4    female  22.0      1      1             3101298   12.2875   NaN        S  \n",
       "..      ...   ...    ...    ...                 ...       ...   ...      ...  \n",
       "413    male   NaN      0      0           A.5. 3236    8.0500   NaN        S  \n",
       "414  female  39.0      0      0            PC 17758  108.9000  C105        C  \n",
       "415    male  38.5      0      0  SOTON/O.Q. 3101262    7.2500   NaN        S  \n",
       "416    male   NaN      0      0              359309    8.0500   NaN        S  \n",
       "417    male   NaN      1      1                2668   22.3583   NaN        C  \n",
       "\n",
       "[418 rows x 11 columns]"
      ]
     },
     "execution_count": 3,
     "metadata": {},
     "output_type": "execute_result"
    }
   ],
   "source": [
    "import pandas as pd\n",
    "\n",
    "df = pd.read_csv(dataset)\n",
    "df"
   ]
  },
  {
   "cell_type": "code",
   "execution_count": 4,
   "id": "20f9a6d3",
   "metadata": {
    "deletable": false,
    "editable": false,
    "execution": {
     "iopub.execute_input": "2022-07-21T16:57:01.325636Z",
     "iopub.status.busy": "2022-07-21T16:57:01.324984Z",
     "iopub.status.idle": "2022-07-21T16:57:01.327809Z",
     "shell.execute_reply": "2022-07-21T16:57:01.327174Z"
    },
    "papermill": {
     "duration": 0.016828,
     "end_time": "2022-07-21T16:57:01.327943",
     "exception": false,
     "start_time": "2022-07-21T16:57:01.311115",
     "status": "completed"
    },
    "tags": []
   },
   "outputs": [],
   "source": [
    "linhas_antes = df.shape[0]"
   ]
  },
  {
   "cell_type": "markdown",
   "id": "e9dedd66",
   "metadata": {
    "deletable": false,
    "editable": false,
    "papermill": {
     "duration": 0.064262,
     "end_time": "2022-07-21T16:57:01.403097",
     "exception": false,
     "start_time": "2022-07-21T16:57:01.338835",
     "status": "completed"
    },
    "tags": []
   },
   "source": [
    "## Conteúdo da tarefa"
   ]
  },
  {
   "cell_type": "code",
   "execution_count": 5,
   "id": "29d35df1",
   "metadata": {
    "deletable": false,
    "editable": false,
    "execution": {
     "iopub.execute_input": "2022-07-21T16:57:01.432161Z",
     "iopub.status.busy": "2022-07-21T16:57:01.431431Z",
     "iopub.status.idle": "2022-07-21T16:57:01.497754Z",
     "shell.execute_reply": "2022-07-21T16:57:01.497191Z"
    },
    "papermill": {
     "duration": 0.084157,
     "end_time": "2022-07-21T16:57:01.497899",
     "exception": false,
     "start_time": "2022-07-21T16:57:01.413742",
     "status": "completed"
    },
    "tags": []
   },
   "outputs": [],
   "source": [
    "# Garantindo que o valor é um float\n",
    "value = float(value)\n",
    "\n",
    "# Mapa de condições para operadores\n",
    "condition_to_operator_map = {\n",
    "    'Maior que': '>',\n",
    "    'Maior ou igual a': '>=',\n",
    "    'Igual a': '==',\n",
    "    'Menor ou igual a': '<=',\n",
    "    'Menor que': '<'\n",
    "}\n",
    "\n",
    "# Obtendo o operador de condição\n",
    "operator = condition_to_operator_map[condition]\n",
    "\n",
    "# Definindo a query\n",
    "filter_query = f'{target} {operator} {value}'\n",
    "\n",
    "# Aplicando a query condicional\n",
    "df = df.query(filter_query)"
   ]
  },
  {
   "cell_type": "code",
   "execution_count": 6,
   "id": "a7002469",
   "metadata": {
    "deletable": false,
    "editable": false,
    "execution": {
     "iopub.execute_input": "2022-07-21T16:57:01.523279Z",
     "iopub.status.busy": "2022-07-21T16:57:01.522704Z",
     "iopub.status.idle": "2022-07-21T16:57:01.525890Z",
     "shell.execute_reply": "2022-07-21T16:57:01.525318Z"
    },
    "papermill": {
     "duration": 0.017783,
     "end_time": "2022-07-21T16:57:01.526017",
     "exception": false,
     "start_time": "2022-07-21T16:57:01.508234",
     "status": "completed"
    },
    "tags": []
   },
   "outputs": [],
   "source": [
    "linhas_depois = df.shape[0]"
   ]
  },
  {
   "cell_type": "code",
   "execution_count": 7,
   "id": "44050a5d",
   "metadata": {
    "deletable": false,
    "editable": false,
    "execution": {
     "iopub.execute_input": "2022-07-21T16:57:01.607644Z",
     "iopub.status.busy": "2022-07-21T16:57:01.606967Z",
     "iopub.status.idle": "2022-07-21T16:57:01.610043Z",
     "shell.execute_reply": "2022-07-21T16:57:01.609357Z"
    },
    "papermill": {
     "duration": 0.072258,
     "end_time": "2022-07-21T16:57:01.610174",
     "exception": false,
     "start_time": "2022-07-21T16:57:01.537916",
     "status": "completed"
    },
    "tags": []
   },
   "outputs": [],
   "source": [
    "linhas_remov = linhas_antes - linhas_depois"
   ]
  },
  {
   "cell_type": "code",
   "execution_count": 8,
   "id": "7ccfea77",
   "metadata": {
    "deletable": false,
    "editable": false,
    "execution": {
     "iopub.execute_input": "2022-07-21T16:57:01.637461Z",
     "iopub.status.busy": "2022-07-21T16:57:01.636890Z",
     "iopub.status.idle": "2022-07-21T16:57:07.007344Z",
     "shell.execute_reply": "2022-07-21T16:57:07.006571Z"
    },
    "papermill": {
     "duration": 5.386288,
     "end_time": "2022-07-21T16:57:07.007509",
     "exception": false,
     "start_time": "2022-07-21T16:57:01.621221",
     "status": "completed"
    },
    "tags": []
   },
   "outputs": [
    {
     "data": {
      "image/png": "[encoded data removed]",
      "text/plain": [
       "<Figure size 648x90 with 1 Axes>"
      ]
     },
     "metadata": {
      "needs_background": "light"
     },
     "output_type": "display_data"
    }
   ],
   "source": [
    "import matplotlib.pyplot as plt\n",
    "from platiagro.plotting import plot_data_table\n",
    "\n",
    "infos = pd.DataFrame(data = [[linhas_antes, linhas_depois, linhas_remov]],\n",
    "                     columns = ['Antes', 'Depois', 'Total Removidas'], \n",
    "                     index = ['Numero de Linhas'])\n",
    "\n",
    "\n",
    "ax = plot_data_table(infos)\n",
    "plt.title(\"Dados da Remoção de Linhas\")\n",
    "plt.show()"
   ]
  },
  {
   "cell_type": "markdown",
   "id": "7f87f68b",
   "metadata": {
    "deletable": false,
    "editable": false,
    "papermill": {
     "duration": 0.012005,
     "end_time": "2022-07-21T16:57:07.033595",
     "exception": false,
     "start_time": "2022-07-21T16:57:07.021590",
     "status": "completed"
    },
    "tags": []
   },
   "source": [
    "## Salva resultados da tarefa\n",
    "\n",
    "A plataforma guarda o conteúdo de `/tmp/data/` para as tarefas subsequentes.<br>\n",
    "Use essa pasta para salvar modelos, metadados e outros resultados."
   ]
  },
  {
   "cell_type": "code",
   "execution_count": 9,
   "id": "2d93641e",
   "metadata": {
    "deletable": false,
    "editable": false,
    "execution": {
     "iopub.execute_input": "2022-07-21T16:57:07.115256Z",
     "iopub.status.busy": "2022-07-21T16:57:07.114639Z",
     "iopub.status.idle": "2022-07-21T16:57:07.120065Z",
     "shell.execute_reply": "2022-07-21T16:57:07.120585Z"
    },
    "papermill": {
     "duration": 0.021489,
     "end_time": "2022-07-21T16:57:07.120736",
     "exception": false,
     "start_time": "2022-07-21T16:57:07.099247",
     "status": "completed"
    },
    "tags": []
   },
   "outputs": [],
   "source": [
    "# save dataset changes\n",
    "df.to_csv(dataset, index=False)"
   ]
  },
  {
   "cell_type": "code",
   "execution_count": 10,
   "id": "5175708a",
   "metadata": {
    "deletable": false,
    "editable": false,
    "execution": {
     "iopub.execute_input": "2022-07-21T16:57:07.203681Z",
     "iopub.status.busy": "2022-07-21T16:57:07.202672Z",
     "iopub.status.idle": "2022-07-21T16:57:07.208531Z",
     "shell.execute_reply": "2022-07-21T16:57:07.208026Z"
    },
    "papermill": {
     "duration": 0.076444,
     "end_time": "2022-07-21T16:57:07.208660",
     "exception": false,
     "start_time": "2022-07-21T16:57:07.132216",
     "status": "completed"
    },
    "tags": []
   },
   "outputs": [
    {
     "data": {
      "text/plain": [
       "['/tmp/data/remove-rows.joblib']"
      ]
     },
     "execution_count": 10,
     "metadata": {},
     "output_type": "execute_result"
    }
   ],
   "source": [
    "from joblib import dump\n",
    "\n",
    "artifacts = {\n",
    "    \"filter_query\": filter_query,\n",
    "    \"columns\": list(df.columns),\n",
    "    \"colum_types\": list(df.dtypes)\n",
    "}\n",
    "\n",
    "dump(artifacts, \"/tmp/data/remove-rows.joblib\")"
   ]
  }
 ],
 "metadata": {
  "celltoolbar": "Tags",
  "experiment_id": "aa0e6b7e-36cf-42c5-b587-1b56a9b1f656",
  "kernelspec": {
   "display_name": "Python 3",
   "language": "python",
   "name": "python3"
  },
  "language_info": {
   "codemirror_mode": {
    "name": "ipython",
    "version": 3
   },
   "file_extension": ".py",
   "mimetype": "text/x-python",
   "name": "python",
   "nbconvert_exporter": "python",
   "pygments_lexer": "ipython3",
   "version": "3.8.8"
  },
  "operator_id": "a3398ac6-30fc-41cf-86b7-d3e3ecaa0921",
  "papermill": {
   "default_parameters": {},
   "duration": 11.466824,
   "end_time": "2022-07-21T16:57:08.698308",
   "environment_variables": {},
   "exception": null,
   "input_path": "Experiment.ipynb",
   "output_path": "/tmp/Experiment.ipynb",
   "parameters": {
    "condition": "Maior que",
    "dataset": "/tmp/data/test.csv",
    "target": "Age",
    "value": 70
   },
   "start_time": "2022-07-21T16:56:57.231484",
   "version": "2.3.3"
  },
  "task_id": "f1622f7d-4def-471f-b8ab-c54cb08fd1ef"
 },
 "nbformat": 4,
 "nbformat_minor": 5
}
