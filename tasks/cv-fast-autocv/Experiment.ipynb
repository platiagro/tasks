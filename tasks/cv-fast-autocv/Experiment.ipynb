{
 "cells": [
  {
   "cell_type": "markdown",
   "metadata": {},
   "source": [
    "# Fast AutoCV - Experimento\n",
    "\n",
    "Este componente utiliza o três arquiteturas presentes na biblioteca [PyTorch](https://pytorch.org/) para a tarefa de classificação de imagens. São elas: ResNet-18, ResNet-50 e VGG16.    \n",
    "Cada uma das arquiteturas é treinada aplicando-se no conjunto de treino e validação um dos 3 conjuntos de polices genéricas definidas pelo artigo [Fast AutoAugment](https://arxiv.org/pdf/1905.00397.pdf), sujo código está disponibilizado no [GitHub](https://github.com/kakaobrain/fast-autoaugment).\n",
    "\n",
    "Ao final, o modelo de maior acurácia no conjunto de validação para o dataset utilizado será salvo para futura utilização.\n",
    "#### **Em caso de dúvidas, consulte os [tutoriais da PlatIAgro](https://platiagro.github.io/tutorials/).**"
   ]
  },
  {
   "cell_type": "markdown",
   "metadata": {},
   "source": [
    "## Declaração de parâmetros e hiperparâmetros\n",
    "\n",
    "Declare parâmetros com o botão <img src=\"data:image/png;base64,iVBORw0KGgoAAAANSUhEUgAAABQAAAAUCAYAAACNiR0NAAABhWlDQ1BJQ0MgcHJvZmlsZQAAKJF9kT1Iw0AcxV9TtaIVBzuIOASpThb8QhylikWwUNoKrTqYXPohNGlIUlwcBdeCgx+LVQcXZ10dXAVB8APEydFJ0UVK/F9SaBHjwXE/3t173L0DhFqJqWbbGKBqlpGMRcVMdkUMvKID3QhiCOMSM/V4aiENz/F1Dx9f7yI8y/vcn6NHyZkM8InEs0w3LOJ14ulNS+e8TxxiRUkhPiceNeiCxI9cl11+41xwWOCZISOdnCMOEYuFFpZbmBUNlXiKOKyoGuULGZcVzluc1VKFNe7JXxjMacsprtMcRAyLiCMBETIq2EAJFiK0aqSYSNJ+1MM/4PgT5JLJtQFGjnmUoUJy/OB/8LtbMz854SYFo0D7i21/DAOBXaBete3vY9uunwD+Z+BKa/rLNWDmk/RqUwsfAb3bwMV1U5P3gMsdoP9JlwzJkfw0hXweeD+jb8oCfbdA16rbW2Mfpw9AmrpaugEODoGRAmWveby7s7W3f880+vsBocZyukMJsmwAAAAGYktHRAD/AP8A/6C9p5MAAAAJcEhZcwAADdcAAA3XAUIom3gAAAAHdElNRQfkBgsMIwnXL7c0AAACDUlEQVQ4y92UP4gTQRTGf29zJxhJZ2NxbMBKziYWlmJ/ile44Nlkd+dIYWFzItiNgoIEtFaTzF5Ac/inE/urtLWxsMqmUOwCEpt1Zmw2xxKi53XitPO9H9978+aDf/3IUQvSNG0450Yi0jXG7C/eB0cFeu9viciGiDyNoqh2KFBrHSilWstgnU7nFLBTgl+ur6/7PwK11kGe5z3n3Hul1MaiuCgKDZwALHA7z/Oe1jpYCtRaB+PxuA8kQM1aW68Kt7e3zwBp6a5b1ibj8bhfhQYVZwMRiQHrvW9nWfaqCrTWPgRWvPdvsiy7IyLXgEJE4slk8nw+T5nDgDbwE9gyxryuwpRSF5xz+0BhrT07HA4/AyRJchUYASvAbhiGaRVWLIMBYq3tAojIszkMoNRulbXtPM8HwV/sXSQi54HvQRDcO0wfhGGYArvAKjAq2wAgiqJj3vsHpbtur9f7Vi2utLx60LLW2hljEuBJOYu9OI6vAzQajRvAaeBLURSPlsBelA+VhWGYaq3dwaZvbm6+m06noYicE5ErrVbrK3AXqHvvd4bD4Ye5No7jSERGwKr3Pms2m0pr7Rb30DWbTQWYcnFvAieBT7PZbFB1V6vVfpQaU4UtDQetdTCZTC557/eA48BlY8zbRZ1SqrW2tvaxCvtt2iRJ0i9/xb4x5uJRwmNlaaaJ3AfqIvKY/+78Av++6uiSZhYMAAAAAElFTkSuQmCC\" /> na barra de ferramentas.<br>\n",
    "O parâmetro `dataset` identifica os conjuntos de dados. Você pode importar arquivos de dataset com o botão <img src=\"data:image/png;base64,iVBORw0KGgoAAAANSUhEUgAAABQAAAAUCAYAAACNiR0NAAABhWlDQ1BJQ0MgcHJvZmlsZQAAKJF9kT1Iw0AcxV9TtaIVBzuIOASpThb8QhylikWwUNoKrTqYXPohNGlIUlwcBdeCgx+LVQcXZ10dXAVB8APEydFJ0UVK/F9SaBHjwXE/3t173L0DhFqJqWbbGKBqlpGMRcVMdkUMvKID3QhiCOMSM/V4aiENz/F1Dx9f7yI8y/vcn6NHyZkM8InEs0w3LOJ14ulNS+e8TxxiRUkhPiceNeiCxI9cl11+41xwWOCZISOdnCMOEYuFFpZbmBUNlXiKOKyoGuULGZcVzluc1VKFNe7JXxjMacsprtMcRAyLiCMBETIq2EAJFiK0aqSYSNJ+1MM/4PgT5JLJtQFGjnmUoUJy/OB/8LtbMz854SYFo0D7i21/DAOBXaBete3vY9uunwD+Z+BKa/rLNWDmk/RqUwsfAb3bwMV1U5P3gMsdoP9JlwzJkfw0hXweeD+jb8oCfbdA16rbW2Mfpw9AmrpaugEODoGRAmWveby7s7W3f880+vsBocZyukMJsmwAAAAGYktHRAD/AP8A/6C9p5MAAAAJcEhZcwAADdcAAA3XAUIom3gAAAAHdElNRQfkBgsOBy6ASTeXAAAC/0lEQVQ4y5WUT2gcdRTHP29m99B23Uiq6dZisgoWCxVJW0oL9dqLfyhCvGWY2YUBI95MsXgwFISirQcLhS5hfgk5CF3wJIhFI7aHNsL2VFZFik1jS1qkiZKdTTKZ3/MyDWuz0fQLc/m99/vMvDfv+4RMlUrlkKqeAAaBAWAP8DSgwJ/AXRG5rao/WWsvTU5O3qKLBMD3fSMiPluXFZEPoyj67PGAMzw83PeEMABHVT/oGpiamnoAmCcEWhH5tFsgF4bh9oWFhfeKxeJ5a+0JVT0oImWgBPQCKfAQuAvcBq67rltX1b+6ApMkKRcKhe9V9QLwbavV+qRer692Sx4ZGSnEcXw0TdP3gSrQswGYz+d/S5IkVtXTwOlCoZAGQXAfmAdagAvsAErtdnuXiDy6+023l7qNRsMODg5+CawBzwB9wFPA7mx8ns/KL2Tl3xCRz5eWlkabzebahrHxPG+v4zgnc7ncufHx8Z+Hhoa29fT0lNM03Q30ikiqqg+ttX/EcTy3WTvWgdVqtddaOw/kgXvADHBHROZVNRaRvKruUNU+EdkPfGWM+WJTYOaSt1T1LPDS/4zLWWPMaLVaPWytrYvIaBRFl/4F9H2/JCKvGmMu+76/X0QOqGoZKDmOs1NV28AicMsYc97zvFdc1/0hG6kEeNsY83UnsCwivwM3VfU7YEZE7lhr74tIK8tbnJiYWPY8b6/ruleAXR0ftQy8boyZXi85CIIICDYpc2ZgYODY3NzcHmvt1eyvP64lETkeRdE1yZyixWLx5U2c8q4x5mIQBE1g33/0d3FlZeXFR06ZttZesNZejuO4q1NE5CPgWVV9E3ij47wB1IDlJEn+ljAM86urq7+KyAtZTgqsO0VV247jnOnv7/9xbGzMViqVMVX9uANYj6LonfVtU6vVkjRNj6jqGeCXzGrPAQeA10TkuKpOz87ONrayhnIA2Qo7BZwKw3B7kiRloKSqO13Xja21C47jPNgysFO1Wi0GmtmzQap6DWgD24A1Vb3SGf8Hfstmz1CuXEIAAAAASUVORK5CYII=\" /> na barra de ferramentas."
   ]
  },
  {
   "cell_type": "markdown",
   "metadata": {},
   "source": [
    "Para esse componente, a base de dados deve estar no seguinte formado:\n",
    "- Arquivo CSV chamado dataset.csv contendo as colunas \"image_path\", \"target\" e \"subset\", onde:\n",
    "    - image_path: caminho para o arquivo de imagem.\n",
    "    - target: resposta esperada da predição, caso exista.\n",
    "    - subset: conjunto ao qual a amostra faz parte, pode ser \"train\", \"test\", e \"val\". \n",
    "- Imagens coloridas (3 canais) no formato 224x224 pixels. Caso não estejam nesse formato, o código faz as alterações necesssárias\n",
    "- Cada classe tem sua pasta com suas respectivas imagens, além dos conjuntos de treino, validação e teste terem suas pastas separadas. Um exemplo da árvore de diretórios pode ser observado abaixo:\n",
    "\n",
    "```bash\n",
    "dataset\n",
    "|________dataset.csv\n",
    "|________train\n",
    "|        |_____class_name1\n",
    "|        |     |____image0.jpg\n",
    "|        |     |____image1.jpg\n",
    "|        |     ...\n",
    "|        |\n",
    "|        |_____class_name2\n",
    "|              |____image3.jpg\n",
    "|              |____image4.jpg\n",
    "|               ...\n",
    "|\n",
    "|________val\n",
    "|        |_____class_name1\n",
    "|        |     |____image5.jpg\n",
    "|        |     |____image6.jpg\n",
    "|        |     ...\n",
    "|        |\n",
    "|        |_____class_name2\n",
    "|              |____image7.jpg\n",
    "|              |____image8.jpg\n",
    "|               ...\n",
    "|\n",
    "|________test\n",
    "|        |_____class_name1\n",
    "|        |     |____image9.jpg\n",
    "|        |     |____image10.jpg\n",
    "|        |     ...\n",
    "|        |\n",
    "|        |_____class_name2\n",
    "|              |____image11.jpg\n",
    "|              |____image12.jpg\n",
    "|              ...\n",
    "```"
   ]
  },
  {
   "cell_type": "code",
   "execution_count": 1,
   "metadata": {
    "tags": [
     "parameters"
    ]
   },
   "outputs": [],
   "source": [
    "dataset = \"/tmp/data/hymenoptera.zip\" #@param {type:\"string\"}\n",
    "\n",
    "arch_list = [\"resnet18\", \"resnet50\", \"vgg16\"] #@param [\"resnet18\", \"resnet50\", \"vgg16\"]{type:\"string\", multiple: true, label:\"Arquiteturas disponíveis para escolha.\", description: \"Inserir o nome das arquiteturas que deseja utilizar na busca em forma de lista.\"}\n",
    "aug_polices = [\"fa_reduced_cifar10\", \"fa_resnet50_rimagenet\", \"fa_reduced_svhn\"] #@param [\"fa_reduced_cifar10\", \"fa_resnet50_rimagenet\", \"fa_reduced_svhn\"]{type: \"string\", multiple: true, label: \"Conjuntos de polices disponíveis.\", description: \"Inserir o nome dos conjuntos de polices que deseja utilizar na busca em forma de lista.\"}\n",
    "# Quantas predições queremos.\n",
    "# Deve ser menor ou igual ao número de classes\n",
    "top_predictions = 1 #@param {type:\"integer\", label: \"Quantidade de predições desejadas\", description: \"Define quantas predições se quer ter de resposta para uma predição realizada pela rede. Valor máximo é igual ao número total de classes.\"}\n",
    "\n",
    "# variáveis utilizadas na etapa de treinamento do modelo\n",
    "batch = 8 #@param {type:\"integer\", label: \"Tamanho do batch\", description: \"Número de amostras utilizadas em cada batch\"}\n",
    "epochs = 1 #@param {type:\"integer\", label: \"Número de épocas\", description: \"Quantidade de épocas que cada arquitetura será treinada.\"}\n",
    "lr = 0.001 #@param {type:\"float\", label: \"Learning rate\", description: \"Valor do learning rate utilizado no treinamento\"}\n",
    "gamma = 0.1 #@param {type:\"float\", label: \"Gamma\", description: \"Valor de gamma utilizado na descida do gradiente\"}\n",
    "step_size = 7 #@param {type:\"integer\", label: \"Tamanho do passo\", description: \"Tamanho do passo utilizado na descida do gradiente\"}\n",
    "momentum = 0.1 #@param {type:\"float\", label: \"Momentum\", description: \"Valor do momentum utilizado na descida do gradiente\"}"
   ]
  },
  {
   "cell_type": "code",
   "execution_count": 2,
   "metadata": {},
   "outputs": [],
   "source": [
    "# Variáveis globais. Evite modificá-las.\n",
    "ARCH_LIST = ['resnet18', 'resnet50', 'vgg16']\n",
    "POLICES_LIST = ['fa_reduced_cifar10', 'fa_resnet50_rimagenet', 'fa_reduced_svhn']\n",
    "CSV_FILENAME = \"/tmp/data/best_models_acc.csv\"\n",
    "checkpoint_path = \"/tmp/data/models-output/\" # Caminho para salvar os checkpoints dos modelos treinados\n",
    "output_graphs = \"/tmp/data/eval-images/\" # Caminha para salvar as imagens dos gráficos de loss e acurácia relativos aos treinamentos"
   ]
  },
  {
   "cell_type": "code",
   "execution_count": null,
   "metadata": {},
   "outputs": [],
   "source": [
    "# MLFlow is used for tracking of metrics, dependencies and artifacts\n",
    "\n",
    "import mlflow\n",
    "\n",
    "mlflow.start_run()"
   ]
  },
  {
   "cell_type": "markdown",
   "metadata": {},
   "source": [
    "## Extração de dados do arquivo .zip\n"
   ]
  },
  {
   "cell_type": "code",
   "execution_count": 3,
   "metadata": {},
   "outputs": [],
   "source": [
    "import os\n",
    "import zipfile\n",
    "\n",
    "root_folder_name = dataset.split(\"/\")[-1].split(\".\")[0]\n",
    "root_folder = os.path.join(\"/tmp/data\", root_folder_name)\n",
    "with zipfile.ZipFile(dataset, 'r') as zip_ref:\n",
    "   zip_ref.extractall(root_folder)\n",
    "\n",
    "os.makedirs(checkpoint_path, exist_ok=True)\n",
    "os.makedirs(output_graphs, exist_ok=True)\n",
    "dataset_id = root_folder_name # Nome base para salvar os modelos"
   ]
  },
  {
   "cell_type": "markdown",
   "metadata": {},
   "source": [
    "## Classificação de Images"
   ]
  },
  {
   "cell_type": "code",
   "execution_count": 4,
   "metadata": {},
   "outputs": [],
   "source": [
    "# Funções auxiliares para imprimir as informações \n",
    "# dos modelos treinados e selecionar o melhor modelo\n",
    "\n",
    "def save_to_csv(csv_path, arch, police, val_acc):\n",
    "    \"\"\"Save a csv file with best models infos\"\"\"\n",
    "    data = {\n",
    "        \"dataset\": [dataset_id],\n",
    "        \"architecture_id\": [arch],\n",
    "        \"police_id\": [police],\n",
    "        \"val_acc\": [val_acc]}\n",
    "    dataframe = pd.DataFrame(data)\n",
    "    output_path = os.path.join(csv_path, CSV_FILENAME)\n",
    "    if os.path.isfile(output_path):\n",
    "        dataframe.to_csv(output_path, mode=\"a\", header=False, index=False)\n",
    "    else:\n",
    "        dataframe.to_csv(output_path, index=False)\n",
    "\n",
    "def best_models_stats(csv):\n",
    "    \"\"\"Print best model and all trained models\"\"\"\n",
    "    dataframe = pd.read_csv(csv)\n",
    "    dataframe.sort_values(by=[\"val_acc\"], inplace=True, ascending=False)\n",
    "    dataframe.reset_index(drop=True, inplace=True)\n",
    "    best_cases = dataframe.loc[dataframe['dataset'] == dataset_id].head()\n",
    "    print(\"### TOP 5 BEST MODELS ON {0} DATASET ###\\n\".format(dataset_id))\n",
    "    print(best_cases, \"\\n\")\n",
    "    print(\"### ALL MODELS TRAINED ON {0} DATASET ### \\n\".format(dataset_id))\n",
    "    print(dataframe.loc[dataframe['dataset'] == dataset_id], \"\\n\")\n",
    "    \n",
    "    best_model = best_cases.iloc[0]\n",
    "    return best_model"
   ]
  },
  {
   "cell_type": "code",
   "execution_count": 5,
   "metadata": {},
   "outputs": [
    {
     "name": "stdout",
     "output_type": "stream",
     "text": [
      "cpu <class 'torch.device'>\n"
     ]
    }
   ],
   "source": [
    "import os\n",
    "import sys\n",
    "import pandas as pd\n",
    "import torch\n",
    "import torch.nn as nn\n",
    "import torch.optim as optim\n",
    "from torch import cuda\n",
    "from torch.optim import lr_scheduler\n",
    "\n",
    "from data import LoadData\n",
    "from finetuning import FineTuning\n",
    "from visualizations import ImageVisualization\n",
    "from checkpoint import Checkpoint\n",
    "from models import Model, ModelInfos\n",
    "\n",
    "device = torch.device(\"cuda:0\" if torch.cuda.is_available() else \"cpu\")\n",
    "print(device, type(device))\n",
    "\n",
    "multi_gpu = False\n",
    "if cuda.is_available():\n",
    "    gpu_count = cuda.device_count()\n",
    "    print(gpu_count, ' gpus detected.')\n",
    "    if gpu_count > 1:\n",
    "        multi_gpu = True\n",
    "l_data = LoadData(root_folder)\n",
    "checkpoint = Checkpoint(dataset_id, multi_gpu, checkpoint_path)\n",
    "criterion = nn.CrossEntropyLoss()\n",
    "\n",
    "n_classes = len(os.listdir(os.path.join(root_folder, \"train\")))\n",
    "model_ft = FineTuning(arch_list, n_classes)"
   ]
  },
  {
   "cell_type": "markdown",
   "metadata": {},
   "source": [
    "### 1. Treinamento dos modelos"
   ]
  },
  {
   "cell_type": "code",
   "execution_count": 6,
   "metadata": {},
   "outputs": [
    {
     "name": "stderr",
     "output_type": "stream",
     "text": [
      "Downloading: \"https://download.pytorch.org/models/resnet50-19c8e357.pth\" to /home/jovyan/.cache/torch/hub/checkpoints/resnet50-19c8e357.pth\n"
     ]
    },
    {
     "data": {
      "application/vnd.jupyter.widget-view+json": {
       "model_id": "77aadd228aa44606a08cc72aba3d6c1f",
       "version_major": 2,
       "version_minor": 0
      },
      "text/plain": [
       "HBox(children=(FloatProgress(value=0.0, max=102502400.0), HTML(value='')))"
      ]
     },
     "metadata": {},
     "output_type": "display_data"
    },
    {
     "name": "stdout",
     "output_type": "stream",
     "text": [
      "\n"
     ]
    },
    {
     "name": "stderr",
     "output_type": "stream",
     "text": [
      "Downloading: \"https://download.pytorch.org/models/vgg16-397923af.pth\" to /home/jovyan/.cache/torch/hub/checkpoints/vgg16-397923af.pth\n"
     ]
    },
    {
     "data": {
      "application/vnd.jupyter.widget-view+json": {
       "model_id": "19798b69fde7491e8ea908e7a2d58991",
       "version_major": 2,
       "version_minor": 0
      },
      "text/plain": [
       "HBox(children=(FloatProgress(value=0.0, max=553433881.0), HTML(value='')))"
      ]
     },
     "metadata": {},
     "output_type": "display_data"
    },
    {
     "name": "stdout",
     "output_type": "stream",
     "text": [
      "\n",
      "\n",
      "######\n",
      "Model architecture: resnet18\n",
      "Police: fa_reduced_cifar10\n",
      "Start to training a model.\n",
      "Epoch 1/1\n",
      "\n"
     ]
    },
    {
     "name": "stderr",
     "output_type": "stream",
     "text": [
      "/home/jovyan/tasks/Fast AutoCV/networks.py:20: UserWarning: Implicit dimension choice for log_softmax has been deprecated. Change the call to include dim=X as an argument.\n",
      "  out = self.softmax(out)\n"
     ]
    },
    {
     "name": "stdout",
     "output_type": "stream",
     "text": [
      "train Loss: 0.7334 Acc: 0.4877\n",
      "val Loss: 0.6690 Acc: 0.6471\n",
      "Training completed in 4m 8s\n",
      "Best val Acc: 0.6471\n"
     ]
    },
    {
     "data": {
      "image/png": "[encoded data removed]",
      "text/plain": [
       "<Figure size 1296x432 with 2 Axes>"
      ]
     },
     "metadata": {
      "needs_background": "light"
     },
     "output_type": "display_data"
    }
   ],
   "source": [
    "for police in aug_polices:\n",
    "    assert (police in POLICES_LIST), 'police not found'\n",
    "    dataloaders, dataset_sizes, class_names = l_data.load_data_train(police)\n",
    "    visual = ImageVisualization(device, dataloaders, output_graphs)\n",
    "    for arch in arch_list:\n",
    "        assert (arch in ARCH_LIST), 'archictecture not supported'\n",
    "        model_train = Model(arch, device, checkpoint)\n",
    "        model_name = \"{0}_{1}_{2}\".format(dataset_id, arch, police)\n",
    "        model_path = os.path.join(checkpoint_path, model_name)\n",
    "\n",
    "        if not os.path.exists(model_path):\n",
    "            model_conv = model_ft.fine_tuning(arch)\n",
    "            optimizer_conv = optim.SGD(\n",
    "                model_conv.parameters(),\n",
    "                lr=lr, momentum=momentum)\n",
    "            exp_lr_scheduler = lr_scheduler.StepLR(\n",
    "                optimizer_conv, step_size=step_size, gamma=gamma)\n",
    "            model_conv, best_model_val_acc = model_train.train_model(\n",
    "                model_conv, police, dataloaders, dataset_sizes, criterion,\n",
    "                optimizer_conv, exp_lr_scheduler, num_epochs=epochs)\n",
    "            save_to_csv(checkpoint_path, arch, police, best_model_val_acc)\n",
    "            visual.visualize_results(model_conv.history, dataset_id + '_' + arch + '_' + police)\n",
    "\n",
    "        elif os.path.exists(model_path):\n",
    "            model_checkpoint = checkpoint.load_checkpoint(\n",
    "                arch,\n",
    "                checkpoint_path + dataset_id + '_' + arch + '_' + police)\n",
    "            exp_lr_scheduler = lr_scheduler.StepLR(\n",
    "                model_checkpoint.optimizer, step_size=step_size,\n",
    "                gamma=gamma)\n",
    "            model_checkpoint, best_model_val_acc = model_train.train_model(\n",
    "                model_checkpoint, police, dataloaders,dataset_sizes, criterion,\n",
    "                model_checkpoint.optimizer, exp_lr_scheduler, num_epochs=epochs)\n",
    "            save_to_csv(checkpoint_path, arch, police, best_model_val_acc)"
   ]
  },
  {
   "cell_type": "code",
   "execution_count": 7,
   "metadata": {},
   "outputs": [
    {
     "name": "stdout",
     "output_type": "stream",
     "text": [
      "### TOP 5 BEST MODELS ON hymenoptera-5 DATASET ###\n",
      "\n",
      "         dataset architecture_id           police_id   val_acc\n",
      "0  hymenoptera-5        resnet18  fa_reduced_cifar10  0.647059 \n",
      "\n",
      "### ALL MODELS TRAINED ON hymenoptera-5 DATASET ### \n",
      "\n",
      "         dataset architecture_id           police_id   val_acc\n",
      "0  hymenoptera-5        resnet18  fa_reduced_cifar10  0.647059 \n",
      "\n"
     ]
    }
   ],
   "source": [
    "best_model = best_models_stats(os.path.join(checkpoint_path, CSV_FILENAME))\n",
    "best_model_name = \"{0}_{1}_{2}\".format(best_model['dataset'], best_model['architecture_id'], best_model['police_id'])\n",
    "best_model_path = os.path.join(checkpoint_path, best_model_name)"
   ]
  },
  {
   "cell_type": "markdown",
   "metadata": {},
   "source": [
    "### 2. Teste do melhor modelo"
   ]
  },
  {
   "cell_type": "code",
   "execution_count": 8,
   "metadata": {},
   "outputs": [
    {
     "name": "stdout",
     "output_type": "stream",
     "text": [
      "\n",
      "['ants', 'bees'] {'test': 15}\n",
      "11,308,354 total parameters.\n",
      "131,842 total gradient parameters.\n"
     ]
    },
    {
     "name": "stderr",
     "output_type": "stream",
     "text": [
      "/home/jovyan/tasks/Fast AutoCV/networks.py:20: UserWarning: Implicit dimension choice for log_softmax has been deprecated. Change the call to include dim=X as an argument.\n",
      "  out = self.softmax(out)\n"
     ]
    },
    {
     "name": "stdout",
     "output_type": "stream",
     "text": [
      "Acurácia por classe:\n",
      "Class: ants -> Acc: 0.0\n",
      "Class: bees -> Acc: 0.875\n"
     ]
    }
   ],
   "source": [
    "model_path = best_model_path\n",
    "dataloaders, dataset_sizes, class_names = l_data.load_data_test()\n",
    "\n",
    "# Run inference for test set\n",
    "model = Model(best_model['architecture_id'], device)\n",
    "acc_per_class, confusion_mtx, report = model.predict_batch(\n",
    "    multi_gpu,\n",
    "    model_path,\n",
    "    dataloaders,\n",
    "    dataset_sizes,\n",
    "    class_names)\n",
    "\n",
    "print(\"Acurácia por classe:\")\n",
    "for i, name in enumerate(class_names):\n",
    "    print(\"Class: {0} -> Acc: {1}\".format(class_names[i], acc_per_class[i]))"
   ]
  },
  {
   "cell_type": "code",
   "execution_count": 9,
   "metadata": {},
   "outputs": [
    {
     "data": {
      "image/png": "[encoded data removed]",
      "text/plain": [
       "<Figure size 432x288 with 2 Axes>"
      ]
     },
     "metadata": {
      "needs_background": "light"
     },
     "output_type": "display_data"
    }
   ],
   "source": [
    "import seaborn as sns\n",
    "import matplotlib.pyplot as plt\n",
    "\n",
    "ticklabels = class_names\n",
    "ax = plt.axes()\n",
    "sns.heatmap((confusion_mtx/sum(confusion_mtx)), annot=True,\n",
    "            xticklabels=ticklabels, yticklabels=ticklabels,\n",
    "            fmt='.02%',\n",
    "            cmap=sns.light_palette(\"seagreen\", as_cmap=True),\n",
    "            linewidths=0.2, ax = ax)\n",
    "\n",
    "ax.set_title('Matriz de Confusão')\n",
    "plt.xlabel('Classe Predita', fontsize = 15)\n",
    "plt.ylabel('Classe Real', fontsize = 15)\n",
    "plt.show()"
   ]
  },
  {
   "cell_type": "code",
   "execution_count": 10,
   "metadata": {},
   "outputs": [
    {
     "data": {
      "text/html": [
       "<div>\n",
       "<style scoped>\n",
       "    .dataframe tbody tr th:only-of-type {\n",
       "        vertical-align: middle;\n",
       "    }\n",
       "\n",
       "    .dataframe tbody tr th {\n",
       "        vertical-align: top;\n",
       "    }\n",
       "\n",
       "    .dataframe thead th {\n",
       "        text-align: right;\n",
       "    }\n",
       "</style>\n",
       "<table border=\"1\" class=\"dataframe\">\n",
       "  <thead>\n",
       "    <tr style=\"text-align: right;\">\n",
       "      <th></th>\n",
       "      <th>precision</th>\n",
       "      <th>recall</th>\n",
       "      <th>f1-score</th>\n",
       "      <th>support</th>\n",
       "    </tr>\n",
       "  </thead>\n",
       "  <tbody>\n",
       "    <tr>\n",
       "      <th>ants</th>\n",
       "      <td>0.000000</td>\n",
       "      <td>0.000000</td>\n",
       "      <td>0.000000</td>\n",
       "      <td>7.000000</td>\n",
       "    </tr>\n",
       "    <tr>\n",
       "      <th>bees</th>\n",
       "      <td>0.500000</td>\n",
       "      <td>0.875000</td>\n",
       "      <td>0.636364</td>\n",
       "      <td>8.000000</td>\n",
       "    </tr>\n",
       "    <tr>\n",
       "      <th>accuracy</th>\n",
       "      <td>0.466667</td>\n",
       "      <td>0.466667</td>\n",
       "      <td>0.466667</td>\n",
       "      <td>0.466667</td>\n",
       "    </tr>\n",
       "    <tr>\n",
       "      <th>macro avg</th>\n",
       "      <td>0.250000</td>\n",
       "      <td>0.437500</td>\n",
       "      <td>0.318182</td>\n",
       "      <td>15.000000</td>\n",
       "    </tr>\n",
       "    <tr>\n",
       "      <th>weighted avg</th>\n",
       "      <td>0.266667</td>\n",
       "      <td>0.466667</td>\n",
       "      <td>0.339394</td>\n",
       "      <td>15.000000</td>\n",
       "    </tr>\n",
       "  </tbody>\n",
       "</table>\n",
       "</div>"
      ],
      "text/plain": [
       "              precision    recall  f1-score    support\n",
       "ants           0.000000  0.000000  0.000000   7.000000\n",
       "bees           0.500000  0.875000  0.636364   8.000000\n",
       "accuracy       0.466667  0.466667  0.466667   0.466667\n",
       "macro avg      0.250000  0.437500  0.318182  15.000000\n",
       "weighted avg   0.266667  0.466667  0.339394  15.000000"
      ]
     },
     "execution_count": 10,
     "metadata": {},
     "output_type": "execute_result"
    }
   ],
   "source": [
    "report_df = pd.DataFrame(report).transpose()\n",
    "report_df"
   ]
  },
  {
   "cell_type": "markdown",
   "metadata": {},
   "source": [
    "## Salva métricas\n",
    "Utiliza a função `log_metric` do [SDK do MLflow](https://www.mlflow.org/docs/latest/tracking.html#performance-tracking-with-metrics) para salvar métricas. Por exemplo: `accuracy`, `precision`, `r2_score`, `custom_score` etc.<br>"
   ]
  },
  {
   "cell_type": "code",
   "execution_count": 11,
   "metadata": {},
   "outputs": [],
   "source": [
    "# from platiagro import save_metrics\n",
    "import pandas as pd\n",
    "\n",
    "data = {'class': [class_names[0], class_names[1]],\n",
    "        'accuracy': [acc_per_class[0], acc_per_class[1]]\n",
    "       }\n",
    "df_acc = pd.DataFrame(data)\n",
    "df_acc\n",
    "\n",
    "\n",
    "mlflow.log_metric(\"classification_report\", report_df)\n",
    "mlflow.log_metric(\"accuracy_per_class\", df_acc)\n"
   ]
  },
  {
   "cell_type": "markdown",
   "metadata": {},
   "source": [
    "## Salva modelo e outros resultados do treinamento\n",
    "\n",
    "Escreve todos artefatos na pasta `/tmp/data/`. A plataforma guarda os artefatos desta pasta para usos futuros como implantação e comparação de resultados."
   ]
  },
  {
   "cell_type": "code",
   "execution_count": 12,
   "metadata": {},
   "outputs": [
    {
     "data": {
      "text/plain": [
       "['/tmp/data/model.joblib']"
      ]
     },
     "execution_count": 12,
     "metadata": {},
     "output_type": "execute_result"
    }
   ],
   "source": [
    "from joblib import dump\n",
    "\n",
    "artifacts = {\n",
    "    \"model_arch\": best_model['architecture_id'],\n",
    "    \"dataset\": best_model['dataset'], \n",
    "    \"model_police\": best_model['police_id'],\n",
    "    \"model_name\": best_model_name,\n",
    "    \"model_path\": best_model_path,\n",
    "    \"class_names\": class_names\n",
    "}\n",
    "dump(artifacts, '/tmp/data/model.joblib')"
   ]
  }
 ],
 "metadata": {
  "celltoolbar": "Tags",
  "experiment_id": "d2e42cfe-abc9-4ab3-aecd-566b98ff5059",
  "kernelspec": {
   "display_name": "Python 3",
   "language": "python",
   "name": "python3"
  },
  "language_info": {
   "codemirror_mode": {
    "name": "ipython",
    "version": 3
   },
   "file_extension": ".py",
   "mimetype": "text/x-python",
   "name": "python",
   "nbconvert_exporter": "python",
   "pygments_lexer": "ipython3",
   "version": "3.7.10"
  },
  "operator_id": "df95f75a-d675-4aea-8e35-9ff7a964977e",
  "task_id": "ee9520cf-aeb8-487c-b6d4-6f9283e99ebd"
 },
 "nbformat": 4,
 "nbformat_minor": 4
}
