{
 "cells": [
  {
   "cell_type": "markdown",
   "metadata": {},
   "source": [
    "# Classificador AutoML - Implantação\n",
    "\n",
    "O Classificador [Automated Machine Learning (AutoML)](https://en.wikipedia.org/wiki/Automated_machine_learning) automatiza todas as tarefas presentes na aplicação de um modelo de Machine Learning, e foi inicialmente proposto como uma solução de [Inteligência Artificial](https://en.wikipedia.org/wiki/Artificial_intelligence), para problemas reais de Machine Learning.\n",
    "\n",
    "<img src=\"https://cdn.pixabay.com/photo/2017/10/24/00/39/bot-icon-2883144_1280.png\" alt=\"autoML\" width=\"200\"/>\n",
    "\n",
    "Na aplicação de um algoritmo de Machine Learning, vários passos são necessários, como preparação dos dados, engenharia de características, seleção de modelos, otimização de hiperparâmetros, seleção de métricas de avaliação, entre outros. O AutoML automatiza todos esses processos, apresentando resultados significativos que muitas vezes são até melhores que os apresentados por humanos na aplicação de algoritmos de Machine Learning.\n",
    "\n",
    "Este é um componente que utiliza a biblioteca [auto-sklearn](https://github.com/automl/auto-sklearn) para obter um ou mais modelos classificadores já otimizados. <br>\n",
    "O auto-sklearn é um kit de ferramentas de machine learning automatizado e um substituto para [estimator](https://scikit-learn.org/stable/glossary.html#term-estimators) do [scikit-learn](https://scikit-learn.org/stable/).\n",
    "\n",
    "Este notebook apresenta:\n",
    "- como carregar modelos e outros resultados do treinamento.\n",
    "- como utilizar um modelo para fornecer predições em tempo real."
   ]
  },
  {
   "cell_type": "markdown",
   "metadata": {},
   "source": [
    "## Declaração de Classe para Predições em Tempo Real\n",
    "\n",
    "A tarefa de implantação cria um serviço REST para predições em tempo real.<br>\n",
    "Para isso você deve criar uma classe `Model` que implementa o método `predict`."
   ]
  },
  {
   "cell_type": "code",
   "execution_count": null,
   "metadata": {},
   "outputs": [],
   "source": [
    "%%writefile Model.py\n",
    "import joblib\n",
    "import numpy as np\n",
    "import pandas as pd\n",
    "\n",
    "from platiagro.pipeline import GuaranteeType\n",
    "\n",
    "\n",
    "class Model(object):\n",
    "    def __init__(self):\n",
    "        # Carrega artefatos: estimador, etc\n",
    "        artifacts = joblib.load(\"/tmp/data/automl-classifier.joblib\")\n",
    "        self.pipeline = artifacts[\"pipeline\"]\n",
    "        self.features_names_training = artifacts[\"columns\"]\n",
    "        self.columns_to_filter = artifacts[\"columns_to_filter\"]\n",
    "        self.label_encoder = artifacts[\"label_encoder\"]\n",
    "        self.method = artifacts[\"method\"]\n",
    "        self.new_columns = artifacts[\"new_columns\"]\n",
    "        self.features_after_pipeline = artifacts[\"features_after_pipeline\"]\n",
    "\n",
    "    def class_names(self):\n",
    "        column_names = np.concatenate((self.columns_to_filter, self.new_columns))\n",
    "        return column_names.tolist()\n",
    "\n",
    "    def predict(self, X, feature_names, meta=None):\n",
    "        \n",
    "        df = pd.DataFrame(X)\n",
    "        \n",
    "        if feature_names:\n",
    "            # Antes de utilizar o conjunto de dados X no modelo, reordena suas features de acordo com a ordem utilizada no treinamento\n",
    "            df = pd.DataFrame(X, columns=feature_names)[self.columns_to_filter]\n",
    "            X = df.to_numpy()\n",
    "\n",
    "        # adiciona a predição ao conjunto de dados\n",
    "        y_prob = self.pipeline.predict_proba(X)\n",
    "        y_pred = self.pipeline.predict(X)\n",
    "        y_pred = self.label_encoder.inverse_transform(y_pred)\n",
    "        \n",
    "        df.loc[:, self.new_columns[:-1]] = y_prob\n",
    "        df.loc[:, self.new_columns[-1]] = y_pred\n",
    "\n",
    "        return df.to_numpy()"
   ]
  }
 ],
 "metadata": {
  "celltoolbar": "Tags",
  "experiment_id": "be87a242-5a01-4858-b133-34990cebfb59",
  "kernelspec": {
   "display_name": "Python 3",
   "language": "python",
   "name": "python3"
  },
  "language_info": {
   "codemirror_mode": {
    "name": "ipython",
    "version": 3
   },
   "file_extension": ".py",
   "mimetype": "text/x-python",
   "name": "python",
   "nbconvert_exporter": "python",
   "pygments_lexer": "ipython3",
   "version": "3.7.10"
  },
  "operator_id": "da6afe9f-0bba-49c1-9131-9684a20d151e",
  "task_id": "f0141c49-6532-4a2e-8443-dea78e17d8b2"
 },
 "nbformat": 4,
 "nbformat_minor": 4
}
