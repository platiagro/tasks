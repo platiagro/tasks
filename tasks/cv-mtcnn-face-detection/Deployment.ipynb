{
 "cells": [
  {
   "cell_type": "markdown",
   "source": [
    "#   MTCNN Face Detection - Implantação\n",
    "\n",
    "*   Este componente utiliza a biblioteca [facenet-pytorch](https://github.com/timesler/facenet-pytorch), a qual disponibiliza o algorítimo [MTCNN](https://arxiv.org/abs/1604.02878). \n",
    "\n",
    "* O MTCNN possui a performance estado da arte nos benchmarks [FDDB](http://vis-www.cs.umass.edu/fddb/) e [WIDER FACE](http://shuoyang1213.me/WIDERFACE/)\n",
    "\n",
    "*   Melhores explicações são encontradas neste [artigo do kaggle](https://www.kaggle.com/timesler/guide-to-mtcnn-in-facenet-pytorch)\n",
    "\n",
    "\n",
    "### **Em caso de dúvidas, consulte os [tutoriais da PlatIAgro](https://platiagro.github.io/tutorials/).**"
   ],
   "metadata": {}
  },
  {
   "cell_type": "markdown",
   "source": [
    "## Declaração de Classe para Predições em Tempo Real\n",
    "\n",
    "A tarefa de implantação cria um serviço REST para predições em tempo-real.<br>\n",
    "Para isso você deve criar uma classe `Model` que implementa o método `predict`."
   ],
   "metadata": {}
  },
  {
   "cell_type": "code",
   "execution_count": 1,
   "source": [
    "!pip install facenet-pytorch --quiet"
   ],
   "outputs": [
    {
     "output_type": "stream",
     "name": "stdout",
     "text": [
      "\u001b[33mWARNING: The directory '/home/jovyan/.cache/pip' or its parent directory is not owned or is not writable by the current user. The cache has been disabled. Check the permissions and owner of that directory. If executing pip with sudo, you should use sudo's -H flag.\u001b[0m\n",
      "\u001b[33mWARNING: Running pip as the 'root' user can result in broken permissions and conflicting behaviour with the system package manager. It is recommended to use a virtual environment instead: https://pip.pypa.io/warnings/venv\u001b[0m\n"
     ]
    }
   ],
   "metadata": {}
  },
  {
   "cell_type": "code",
   "execution_count": 10,
   "source": [
    "%%writefile Model.py\r\n",
    "from typing import List, Iterable, Dict, Union\r\n",
    "\r\n",
    "import logging\r\n",
    "import joblib\r\n",
    "import nltk\r\n",
    "import pandas as pd\r\n",
    "import numpy as np\r\n",
    "import base64\r\n",
    "import cv2\r\n",
    "from mtcnn import MTCNN_Model\r\n",
    "\r\n",
    "        \r\n",
    "class Model(object):\r\n",
    "    \r\n",
    "    def __init__(self):\r\n",
    "        artifacts = joblib.load(\"/tmp/data/mtcnn.joblib\")\r\n",
    "        self.model_parameters = artifacts[\"model_parameters\"]\r\n",
    "        self.inference_parameters = artifacts[\"inference_parameters\"]\r\n",
    "        \r\n",
    "        # Initializate model\r\n",
    "        self.model = MTCNN_Model(self.model_parameters, self.inference_parameters)\r\n",
    "        \r\n",
    "    def class_names(self) -> List:\r\n",
    "        \r\n",
    "        return ['x_min', 'y_min', 'x_max', 'y_max', 'probability']\r\n",
    "        \r\n",
    "    def format_result(self, bboxes: Union[np.ndarray, List], probs: Union[np.ndarray, List]) -> np.ndarray:\r\n",
    "        \r\n",
    "        res = []\r\n",
    "        \r\n",
    "        for bbox_id, prob in enumerate(probs):\r\n",
    "            \r\n",
    "            # Check if has found a bbox for the image\r\n",
    "            if prob is None:\r\n",
    "                bbox = [None, None, None, None, None]\r\n",
    "            \r\n",
    "            # Extend to an array the 4coords and prob\r\n",
    "            else:\r\n",
    "                bbox = list(map(float, bboxes[bbox_id]))\r\n",
    "                bbox.extend([float(probs[bbox_id])])\r\n",
    "                \r\n",
    "            res.append(bbox)\r\n",
    "        \r\n",
    "        return np.array(res)\r\n",
    "    \r\n",
    "    def predict(self, X: np.ndarray, feature_names: Iterable[str], meta: Dict = None) -> Union[np.ndarray, List, str, bytes]:\r\n",
    "        \r\n",
    "        # Check if data is a bytes\r\n",
    "        if isinstance(X, bytes):\r\n",
    "            im_bytes = X # Get image bytes\r\n",
    "        \r\n",
    "        # If not, should be a list or ndarray\r\n",
    "        else:\r\n",
    "            # Garantee is a ndarray\r\n",
    "            X = np.array(X)\r\n",
    "            \r\n",
    "            # Seek for extra dimension\r\n",
    "            if len(X.shape) == 2:\r\n",
    "                im_bytes = X[0,0] # Get image bytes\r\n",
    "            \r\n",
    "            else:\r\n",
    "                im_bytes = X[0] # Get image bytes\r\n",
    "        \r\n",
    "        # Preprocess img bytes to img_arr\r\n",
    "        im_arr = np.frombuffer(im_bytes, dtype=np.uint8)\r\n",
    "        img = cv2.imdecode(im_arr, flags=cv2.IMREAD_COLOR)\r\n",
    "        img = cv2.cvtColor(img, cv2.COLOR_BGR2RGB)\r\n",
    "        \r\n",
    "        img_arr = np.array(img)\r\n",
    "        \r\n",
    "        # Predict results\r\n",
    "        bboxes, probs = self.model.predict(img_arr)\r\n",
    "        \r\n",
    "        # Remove batch dimension\r\n",
    "        bboxes, probs = np.squeeze(bboxes, 0), np.squeeze(probs, 0)\r\n",
    "        \r\n",
    "        # Compile results\r\n",
    "        results = self.format_result(bboxes, probs)\r\n",
    "        \r\n",
    "        ### DEBUG ###\r\n",
    "        # logging.error('--- DBG ---')\r\n",
    "        # logging.error('result: %s', results)\r\n",
    "        # logging.error('type: %s', type(results))\r\n",
    "        # logging.error('--- DBG ---')\r\n",
    "        #############\r\n",
    "\r\n",
    "        return results"
   ],
   "outputs": [
    {
     "output_type": "stream",
     "name": "stdout",
     "text": [
      "Overwriting Model.py\n"
     ]
    }
   ],
   "metadata": {}
  }
 ],
 "metadata": {
  "celltoolbar": "Tags",
  "experiment_id": "afdb93d5-745d-4b2a-9cd4-6f6cafbcd70a",
  "kernelspec": {
   "display_name": "Python 3",
   "language": "python",
   "name": "python3"
  },
  "language_info": {
   "codemirror_mode": {
    "name": "ipython",
    "version": 3
   },
   "file_extension": ".py",
   "mimetype": "text/x-python",
   "name": "python",
   "nbconvert_exporter": "python",
   "pygments_lexer": "ipython3",
   "version": "3.7.10"
  },
  "operator_id": "be6e00b0-f731-4b51-a1b4-3d927829a32d",
  "task_id": "e52d6cd0-977e-4441-91a6-f213457953d5"
 },
 "nbformat": 4,
 "nbformat_minor": 4
}