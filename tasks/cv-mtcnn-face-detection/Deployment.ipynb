{
 "cells": [
  {
   "cell_type": "markdown",
   "source": [
    "#   MTCNN Face Detection - Implantação\n",
    "\n",
    "*   Este componente utiliza a biblioteca [facenet-pytorch](https://github.com/timesler/facenet-pytorch), a qual disponibiliza o algorítimo [MTCNN](https://arxiv.org/abs/1604.02878). \n",
    "\n",
    "* O MTCNN possui a performance estado da arte nos benchmarks [FDDB](http://vis-www.cs.umass.edu/fddb/) e [WIDER FACE](http://shuoyang1213.me/WIDERFACE/)\n",
    "\n",
    "*   Melhores explicações são encontradas neste [artigo do kaggle](https://www.kaggle.com/timesler/guide-to-mtcnn-in-facenet-pytorch)\n",
    "\n",
    "\n",
    "### **Em caso de dúvidas, consulte os [tutoriais da PlatIAgro](https://platiagro.github.io/tutorials/).**"
   ],
   "metadata": {}
  },
  {
   "cell_type": "markdown",
   "source": [
    "## Declaração de Classe para Predições em Tempo Real\n",
    "\n",
    "A tarefa de implantação cria um serviço REST para predições em tempo-real.<br>\n",
    "Para isso você deve criar uma classe `Model` que implementa o método `predict`."
   ],
   "metadata": {}
  },
  {
   "cell_type": "code",
   "execution_count": 1,
   "source": [
    "!pip install facenet-pytorch --quiet"
   ],
   "outputs": [
    {
     "output_type": "stream",
     "name": "stdout",
     "text": [
      "\u001b[33mWARNING: The directory '/home/jovyan/.cache/pip' or its parent directory is not owned or is not writable by the current user. The cache has been disabled. Check the permissions and owner of that directory. If executing pip with sudo, you should use sudo's -H flag.\u001b[0m\n",
      "\u001b[33mWARNING: Running pip as the 'root' user can result in broken permissions and conflicting behaviour with the system package manager. It is recommended to use a virtual environment instead: https://pip.pypa.io/warnings/venv\u001b[0m\n"
     ]
    }
   ],
   "metadata": {}
  },
  {
   "cell_type": "code",
   "execution_count": 10,
   "source": [
    "%%writefile Model.py\n",
    "from typing import List, Iterable, Dict, Union\n",
    "\n",
    "import joblib\n",
    "import pandas as pd\n",
    "import numpy as np\n",
    "import cv2\n",
    "from mtcnn import MTCNN_Model\n",
    "\n",
    "class Model(object):\n",
    "    \n",
    "    def __init__(self):\n",
    "        self.loaded = False\n",
    "\n",
    "    def load(self):\n",
    "        \n",
    "        # Following links explain why to use load() method insted of __init__()\n",
    "\n",
    "        # Issue associated with sheldon on __init__\n",
    "        # https://github.com/SeldonIO/seldon-core/issues/2616\n",
    "\n",
    "        # Solution for the case\n",
    "        # https://docs.seldon.io/projects/seldon-core/en/latest/python/python_component.html#gunicorn-and-load\n",
    "\n",
    "        artifacts = joblib.load(\"/tmp/data/mtcnn.joblib\")\n",
    "        self.model_parameters = artifacts[\"model_parameters\"]\n",
    "        self.inference_parameters = artifacts[\"inference_parameters\"]\n",
    "        \n",
    "        # Initializate model\n",
    "        self.model = MTCNN_Model(self.model_parameters, self.inference_parameters)\n",
    "\n",
    "        # Health check validation\n",
    "        random_img = np.random.randint(0, 255, size=(100, 100, 3), dtype=np.uint8)\n",
    "        _, _ = self.model.predict(random_img)\n",
    "\n",
    "        self.loaded = True\n",
    "        \n",
    "    def class_names(self) -> List:\n",
    "        \n",
    "        return ['x_min', 'y_min', 'x_max', 'y_max', 'probability']\n",
    "        \n",
    "    def format_result(self, bboxes: Union[np.ndarray, List], probs: Union[np.ndarray, List]) -> np.ndarray:\n",
    "        \n",
    "        results = []\n",
    "        \n",
    "        for bbox_id, prob in enumerate(probs):\n",
    "            \n",
    "            # Check if has found a bbox for the image\n",
    "            if prob is None:\n",
    "                res = np.full((5), None)\n",
    "            \n",
    "            # Extend to an array the 4coords and prob\n",
    "            else:\n",
    "                bbox = np.array(bboxes[bbox_id])\n",
    "                prob = np.array([prob])\n",
    "\n",
    "                res = np.concatenate((bbox, prob), axis=0)\n",
    "                \n",
    "            results.append(res)\n",
    "        \n",
    "        return np.array(results).astype(float)\n",
    "    \n",
    "    def predict(self, X: np.ndarray, feature_names: Iterable[str], meta: Dict = None) -> Union[np.ndarray, List, str, bytes]:\n",
    "\n",
    "        # First time load model\n",
    "        if not self.loaded:\n",
    "            self.load()\n",
    "\n",
    "        # Check if data is a bytes\n",
    "        if isinstance(X, bytes):\n",
    "            im_bytes = X # Get image bytes\n",
    "        \n",
    "        # If not, should be a list or ndarray\n",
    "        else:\n",
    "            # Garantee is a ndarray\n",
    "            X = np.array(X)\n",
    "            \n",
    "            # Seek for extra dimension\n",
    "            if len(X.shape) == 2:\n",
    "                im_bytes = X[0,0] # Get image bytes\n",
    "            \n",
    "            else:\n",
    "                im_bytes = X[0] # Get image bytes\n",
    "\n",
    "        # Preprocess img bytes to img_arr\n",
    "        im_arr = np.frombuffer(im_bytes, dtype=np.uint8)\n",
    "        img = cv2.imdecode(im_arr, flags=cv2.IMREAD_COLOR)\n",
    "        img = cv2.cvtColor(img, cv2.COLOR_BGR2RGB)\n",
    "        \n",
    "        # Predict results\n",
    "        bboxes, probs = self.model.predict(img)\n",
    "\n",
    "        # Remove batch dimension\n",
    "        bboxes, probs = np.squeeze(bboxes, 0), np.squeeze(probs, 0)\n",
    "        \n",
    "        # Compile results\n",
    "        results = self.format_result(bboxes, probs)\n",
    "        \n",
    "        return results"
   ],
   "outputs": [
    {
     "output_type": "stream",
     "name": "stdout",
     "text": [
      "Overwriting Model.py\n"
     ]
    }
   ],
   "metadata": {}
  }
 ],
 "metadata": {
  "celltoolbar": "Tags",
  "experiment_id": "afdb93d5-745d-4b2a-9cd4-6f6cafbcd70a",
  "kernelspec": {
   "display_name": "Python 3",
   "language": "python",
   "name": "python3"
  },
  "language_info": {
   "codemirror_mode": {
    "name": "ipython",
    "version": 3
   },
   "file_extension": ".py",
   "mimetype": "text/x-python",
   "name": "python",
   "nbconvert_exporter": "python",
   "pygments_lexer": "ipython3",
   "version": "3.7.10"
  },
  "operator_id": "be6e00b0-f731-4b51-a1b4-3d927829a32d",
  "task_id": "e52d6cd0-977e-4441-91a6-f213457953d5"
 },
 "nbformat": 4,
 "nbformat_minor": 4
}