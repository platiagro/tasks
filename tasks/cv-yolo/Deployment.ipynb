{
 "cells": [
  {
   "cell_type": "markdown",
   "source": [
    "# You Only Look Once (YOLO)\n",
    "\n",
    "Este componente utiliza o modelo YOLO para classificação usando [Yolov4](https://pypi.org/project/yolov4/). <br>\n",
    "Está é uma biblioteca que encapsula o modelo yolov4 com algumas variações, podendo utilizar o modelo completo, como também,a versão reduzida.\n",
    "\n",
    "Este notebook apresenta:\n",
    "- como usar o [SDK](https://platiagro.github.io/sdk/) para carregar datasets, salvar modelos e outros artefatos.\n",
    "- como declarar parâmetros e usá-los para criar componentes reutilizáveis."
   ],
   "metadata": {}
  },
  {
   "cell_type": "code",
   "execution_count": 53,
   "source": [
    "# Download weights\r\n",
    "import gdown\r\n",
    "gdown.download('https://drive.google.com/uc?id=1L-SO373Udc9tPz5yLkgti5IAXFboVhUt', 'yolov4-full.weights', quiet=False)\r\n",
    "gdown.download('https://drive.google.com/u/0/uc?id=1GJwGiR7rizY_19c_czuLN8p31BwkhWY5', 'yolov4-tiny.weights', quiet=False)"
   ],
   "outputs": [
    {
     "output_type": "stream",
     "name": "stderr",
     "text": [
      "Downloading...\n",
      "From: https://drive.google.com/uc?id=1L-SO373Udc9tPz5yLkgti5IAXFboVhUt\n",
      "To: /home/jovyan/tasks/YOLO (Lucas)/yolov4-full.weights\n",
      "258MB [00:19, 12.9MB/s] \n",
      "Downloading...\n",
      "From: https://drive.google.com/u/0/uc?id=1GJwGiR7rizY_19c_czuLN8p31BwkhWY5\n",
      "To: /home/jovyan/tasks/YOLO (Lucas)/yolov4-tiny.weights\n",
      "24.3MB [00:02, 9.84MB/s]\n"
     ]
    },
    {
     "output_type": "execute_result",
     "data": {
      "text/plain": [
       "'yolov4-tiny.weights'"
      ]
     },
     "metadata": {},
     "execution_count": 53
    }
   ],
   "metadata": {}
  },
  {
   "cell_type": "code",
   "execution_count": 1,
   "source": [
    "%%writefile Model.py\r\n",
    "from typing import List, Iterable, Dict, Union\r\n",
    "\r\n",
    "import base64\r\n",
    "import numpy as np\r\n",
    "import pandas as pd\r\n",
    "import cv2\r\n",
    "import tensorflow as tf\r\n",
    "from yolov4.tf import YOLOv4\r\n",
    "from yolo_utils import decode_yolo_bbox\r\n",
    "import joblib\r\n",
    "\r\n",
    "class Model:\r\n",
    "    \r\n",
    "    def __init__(self):\r\n",
    "        \r\n",
    "        # Carrega artefatos: estimador, etc\r\n",
    "        artifacts = joblib.load(\"/tmp/data/yolo.joblib\")\r\n",
    "        self.names = artifacts[\"names\"]\r\n",
    "        self.inference_parameters = artifacts[\"inference_parameters\"]\r\n",
    "        \r\n",
    "        # Load Model\r\n",
    "        is_tiny = self.inference_parameters['yolo_weight_type'] == 'tiny'\r\n",
    "        self.yolo = YOLOv4(tiny=is_tiny)\r\n",
    "        self.yolo.classes = \"coco.names\"\r\n",
    "        self.yolo.make_model()\r\n",
    "        \r\n",
    "        # Load weigths\r\n",
    "        if self.inference_parameters['yolo_weight_type'] == 'tiny':\r\n",
    "            self.yolo.load_weights(\"yolov4-tiny.weights\", weights_type=\"yolo\")\r\n",
    "        else:\r\n",
    "            self.yolo.load_weights(\"yolov4-full.weights\", weights_type=\"yolo\")\r\n",
    "        \r\n",
    "    \r\n",
    "    def class_names(self):\r\n",
    "        \r\n",
    "        return ['x_min', 'y_min', 'x_max', 'y_max', 'class', 'probability']\r\n",
    "    \r\n",
    "    \r\n",
    "    def predict(self, X: np.ndarray, feature_names: Iterable[str], meta: Dict = None) -> Union[np.ndarray, List, str, bytes]:\r\n",
    "            \r\n",
    "        # Check if data is a bytes\r\n",
    "        if isinstance(X, bytes):\r\n",
    "            im_bytes = X # Get image bytes\r\n",
    "        \r\n",
    "        # If not, should be a list or ndarray\r\n",
    "        else:\r\n",
    "            # Garantee is a ndarray\r\n",
    "            X = np.array(X)\r\n",
    "            \r\n",
    "            # Seek for extra dimension\r\n",
    "            if len(X.shape) == 2:\r\n",
    "                im_bytes = X[0,0] # Get image bytes\r\n",
    "            \r\n",
    "            else:\r\n",
    "                im_bytes = X[0] # Get image bytes\r\n",
    "        \r\n",
    "        # Preprocess img bytes to img_arr\r\n",
    "        im_arr = np.frombuffer(im_bytes, dtype=np.uint8)\r\n",
    "        img = cv2.imdecode(im_arr, flags=cv2.IMREAD_COLOR)\r\n",
    "        img = cv2.cvtColor(img, cv2.COLOR_BGR2RGB)\r\n",
    "        \r\n",
    "        frame = np.array(img).astype(np.uint8)\r\n",
    "        \r\n",
    "        # How to interpret YOLO bbox: https://stackoverflow.com/questions/52455429/what-does-the-coordinate-output-of-yolo-algorithm-represent\r\n",
    "        predictions = self.yolo.predict(frame, \r\n",
    "                              score_threshold=self.inference_parameters['score_threshold'], \r\n",
    "                              iou_threshold=self.inference_parameters['iou_threshold'])\r\n",
    "        \r\n",
    "        # Compile results\r\n",
    "        results = []\r\n",
    "        \r\n",
    "        for i, prediction in enumerate(predictions):\r\n",
    "            \r\n",
    "            result = []\r\n",
    "            \r\n",
    "            # Decode yolo bbox\r\n",
    "            encoded_bbox = prediction[:4]\r\n",
    "            decoded_bbox = decode_yolo_bbox(frame, encoded_bbox)\r\n",
    "            result += list(decoded_bbox)\r\n",
    "            \r\n",
    "            # Get class name\r\n",
    "            result.append(self.names[int(prediction[4])])\r\n",
    "            \r\n",
    "            # Get probability\r\n",
    "            result.append(prediction[5])\r\n",
    "            \r\n",
    "            # Compile result\r\n",
    "            results.append(result)\r\n",
    "            \r\n",
    "        return np.array(results)"
   ],
   "outputs": [
    {
     "output_type": "stream",
     "name": "stdout",
     "text": [
      "Overwriting Model.py\n"
     ]
    }
   ],
   "metadata": {}
  }
 ],
 "metadata": {
  "experiment_id": "dd6fdf41-c74b-4db5-932d-d08e06bfb8b2",
  "kernelspec": {
   "display_name": "Python 3",
   "language": "python",
   "name": "python3"
  },
  "language_info": {
   "codemirror_mode": {
    "name": "ipython",
    "version": 3
   },
   "file_extension": ".py",
   "mimetype": "text/x-python",
   "name": "python",
   "nbconvert_exporter": "python",
   "pygments_lexer": "ipython3",
   "version": "3.7.10"
  },
  "operator_id": "d9bcd061-37df-4640-a12d-18525a4273f2",
  "task_id": "a1d552d0-1b13-4898-8863-cfe6f9d3007a"
 },
 "nbformat": 4,
 "nbformat_minor": 4
}