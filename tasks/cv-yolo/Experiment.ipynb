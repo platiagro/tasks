{
 "cells": [
  {
   "cell_type": "markdown",
   "source": [
    "# You Only Look Once (YOLO)\n",
    "\n",
    "Este componente utiliza o modelo YOLO para classificação usando [Yolov4](https://pypi.org/project/yolov4/). <br>\n",
    "Está é uma biblioteca que encapsula o modelo yolov4 com algumas variações, podendo utilizar o modelo completo, como também,a versão reduzida."
   ],
   "metadata": {}
  },
  {
   "cell_type": "markdown",
   "source": [
    "## Declaração de parâmetros e hiperparâmetros\n",
    "\n",
    "Declare parâmetros com o botão <img src=\"data:image/png;base64,iVBORw0KGgoAAAANSUhEUgAAABQAAAAUCAYAAACNiR0NAAABhWlDQ1BJQ0MgcHJvZmlsZQAAKJF9kT1Iw0AcxV9TtaIVBzuIOASpThb8QhylikWwUNoKrTqYXPohNGlIUlwcBdeCgx+LVQcXZ10dXAVB8APEydFJ0UVK/F9SaBHjwXE/3t173L0DhFqJqWbbGKBqlpGMRcVMdkUMvKID3QhiCOMSM/V4aiENz/F1Dx9f7yI8y/vcn6NHyZkM8InEs0w3LOJ14ulNS+e8TxxiRUkhPiceNeiCxI9cl11+41xwWOCZISOdnCMOEYuFFpZbmBUNlXiKOKyoGuULGZcVzluc1VKFNe7JXxjMacsprtMcRAyLiCMBETIq2EAJFiK0aqSYSNJ+1MM/4PgT5JLJtQFGjnmUoUJy/OB/8LtbMz854SYFo0D7i21/DAOBXaBete3vY9uunwD+Z+BKa/rLNWDmk/RqUwsfAb3bwMV1U5P3gMsdoP9JlwzJkfw0hXweeD+jb8oCfbdA16rbW2Mfpw9AmrpaugEODoGRAmWveby7s7W3f880+vsBocZyukMJsmwAAAAGYktHRAD/AP8A/6C9p5MAAAAJcEhZcwAADdcAAA3XAUIom3gAAAAHdElNRQfkBgsMIwnXL7c0AAACDUlEQVQ4y92UP4gTQRTGf29zJxhJZ2NxbMBKziYWlmJ/ile44Nlkd+dIYWFzItiNgoIEtFaTzF5Ac/inE/urtLWxsMqmUOwCEpt1Zmw2xxKi53XitPO9H9978+aDf/3IUQvSNG0450Yi0jXG7C/eB0cFeu9viciGiDyNoqh2KFBrHSilWstgnU7nFLBTgl+ur6/7PwK11kGe5z3n3Hul1MaiuCgKDZwALHA7z/Oe1jpYCtRaB+PxuA8kQM1aW68Kt7e3zwBp6a5b1ibj8bhfhQYVZwMRiQHrvW9nWfaqCrTWPgRWvPdvsiy7IyLXgEJE4slk8nw+T5nDgDbwE9gyxryuwpRSF5xz+0BhrT07HA4/AyRJchUYASvAbhiGaRVWLIMBYq3tAojIszkMoNRulbXtPM8HwV/sXSQi54HvQRDcO0wfhGGYArvAKjAq2wAgiqJj3vsHpbtur9f7Vi2utLx60LLW2hljEuBJOYu9OI6vAzQajRvAaeBLURSPlsBelA+VhWGYaq3dwaZvbm6+m06noYicE5ErrVbrK3AXqHvvd4bD4Ye5No7jSERGwKr3Pms2m0pr7Rb30DWbTQWYcnFvAieBT7PZbFB1V6vVfpQaU4UtDQetdTCZTC557/eA48BlY8zbRZ1SqrW2tvaxCvtt2iRJ0i9/xb4x5uJRwmNlaaaJ3AfqIvKY/+78Av++6uiSZhYMAAAAAElFTkSuQmCC\" /> na barra de ferramentas.<br>\n",
    "A variável `dataset` possui o caminho para leitura do arquivos importados na tarefa de \"Upload de dados\".<br>\n",
    "Você também pode importar arquivos com o botão <img src=\"data:image/png;base64,iVBORw0KGgoAAAANSUhEUgAAABQAAAAUCAYAAACNiR0NAAABhWlDQ1BJQ0MgcHJvZmlsZQAAKJF9kT1Iw0AcxV9TtaIVBzuIOASpThb8QhylikWwUNoKrTqYXPohNGlIUlwcBdeCgx+LVQcXZ10dXAVB8APEydFJ0UVK/F9SaBHjwXE/3t173L0DhFqJqWbbGKBqlpGMRcVMdkUMvKID3QhiCOMSM/V4aiENz/F1Dx9f7yI8y/vcn6NHyZkM8InEs0w3LOJ14ulNS+e8TxxiRUkhPiceNeiCxI9cl11+41xwWOCZISOdnCMOEYuFFpZbmBUNlXiKOKyoGuULGZcVzluc1VKFNe7JXxjMacsprtMcRAyLiCMBETIq2EAJFiK0aqSYSNJ+1MM/4PgT5JLJtQFGjnmUoUJy/OB/8LtbMz854SYFo0D7i21/DAOBXaBete3vY9uunwD+Z+BKa/rLNWDmk/RqUwsfAb3bwMV1U5P3gMsdoP9JlwzJkfw0hXweeD+jb8oCfbdA16rbW2Mfpw9AmrpaugEODoGRAmWveby7s7W3f880+vsBocZyukMJsmwAAAAGYktHRAD/AP8A/6C9p5MAAAAJcEhZcwAADdcAAA3XAUIom3gAAAAHdElNRQfkBgsOBy6ASTeXAAAC/0lEQVQ4y5WUT2gcdRTHP29m99B23Uiq6dZisgoWCxVJW0oL9dqLfyhCvGWY2YUBI95MsXgwFISirQcLhS5hfgk5CF3wJIhFI7aHNsL2VFZFik1jS1qkiZKdTTKZ3/MyDWuz0fQLc/m99/vMvDfv+4RMlUrlkKqeAAaBAWAP8DSgwJ/AXRG5rao/WWsvTU5O3qKLBMD3fSMiPluXFZEPoyj67PGAMzw83PeEMABHVT/oGpiamnoAmCcEWhH5tFsgF4bh9oWFhfeKxeJ5a+0JVT0oImWgBPQCKfAQuAvcBq67rltX1b+6ApMkKRcKhe9V9QLwbavV+qRer692Sx4ZGSnEcXw0TdP3gSrQswGYz+d/S5IkVtXTwOlCoZAGQXAfmAdagAvsAErtdnuXiDy6+023l7qNRsMODg5+CawBzwB9wFPA7mx8ns/KL2Tl3xCRz5eWlkabzebahrHxPG+v4zgnc7ncufHx8Z+Hhoa29fT0lNM03Q30ikiqqg+ttX/EcTy3WTvWgdVqtddaOw/kgXvADHBHROZVNRaRvKruUNU+EdkPfGWM+WJTYOaSt1T1LPDS/4zLWWPMaLVaPWytrYvIaBRFl/4F9H2/JCKvGmMu+76/X0QOqGoZKDmOs1NV28AicMsYc97zvFdc1/0hG6kEeNsY83UnsCwivwM3VfU7YEZE7lhr74tIK8tbnJiYWPY8b6/ruleAXR0ftQy8boyZXi85CIIICDYpc2ZgYODY3NzcHmvt1eyvP64lETkeRdE1yZyixWLx5U2c8q4x5mIQBE1g33/0d3FlZeXFR06ZttZesNZejuO4q1NE5CPgWVV9E3ij47wB1IDlJEn+ljAM86urq7+KyAtZTgqsO0VV247jnOnv7/9xbGzMViqVMVX9uANYj6LonfVtU6vVkjRNj6jqGeCXzGrPAQeA10TkuKpOz87ONrayhnIA2Qo7BZwKw3B7kiRloKSqO13Xja21C47jPNgysFO1Wi0GmtmzQap6DWgD24A1Vb3SGf8Hfstmz1CuXEIAAAAASUVORK5CYII=\" /> na barra de ferramentas."
   ],
   "metadata": {}
  },
  {
   "cell_type": "markdown",
   "source": [
    "Para esse componente, a base de dados deve estar no seguinte formado:\n",
    "- Arquivo CSV chamado dataset.csv contendo as colunas \"image_path\", \"target\" e \"subset\", entre outras, caso necessário. Onde:\n",
    "    - image_path: caminho para o arquivo de imagem.\n",
    "    - target: resposta esperada da predição, caso exista.\n",
    "    - subset: conjunto ao qual a amostra faz parte, pode ser \"train\", \"test\", e \"val\". \n",
    "- Imagens coloridas (3 canais)\n",
    "- Cada conjunto de treino, validação e teste possuem sua pasta com suas respectivas imagens. Um exemplo da árvore de diretórios pode ser observado abaixo:\n",
    "\n",
    "```bash\n",
    "dataset\n",
    "|________dataset.csv\n",
    "|________train\n",
    "|        |__________image0.jpg\n",
    "|        |__________image1.jpg\n",
    "|        |__________image2.jpg\n",
    "|        |__________image3.jpg\n",
    "|               ...\n",
    "|\n",
    "|________val\n",
    "|        |__________image4.jpg\n",
    "|        |__________image5.jpg\n",
    "|        |__________image6.jpg\n",
    "|        |__________image7.jpg\n",
    "|               ...\n",
    "|\n",
    "|________test\n",
    "|        |__________image8.jpg\n",
    "|        |__________image9.jpg\n",
    "|        |__________image10.jpg\n",
    "|        |__________image11.jpg\n",
    "|              ...\n",
    "```"
   ],
   "metadata": {}
  },
  {
   "cell_type": "code",
   "execution_count": 28,
   "source": [
    "dataset = \"/tmp/data/yolo_original.zip\" #@param {type:\"string\"}\n",
    "image_path = \"image_path\" #@param {type:\"string\", label:\"Caminho das imagens\", description:\"Coluna da tabela com o caminho para as imagens.\"}\n",
    "language = \"português\" #@param [\"português\",\"inglês\",\"espanhol\"] {type:\"string\",multiple:false,label:\"Idioma\",description:\"Linguagem a ser utilizada como descrição dos objetos identificados.\"}\n",
    "score_threshold = 0.25 #@param {type:\"number\",label:\"Score Threshold\", description:\"Limiar que seleciona apenas as predições que possuam probabilidade superior à este valor.\"}\n",
    "iou_threshold = 0.30 #@param {type:\"number\", label:\"IOU Threshold\", description:\"Dado os bbox produzidos a paritr do Score Threshold, este limiar que seleciona apenas as predições em uma união de bbox que possua probabilidade superior à este valor.\"}\n",
    "yolo_weight_type = \"full\" #@param [\"tiny\",\"full\"] {type:\"string\",multiple:false,label:\"Pesos Pré-treinados\",description:\"Versão de pesos do YOLOv4 pré-treinado. Tiny é um modelo mais leve, full é o modelo completo.\"}"
   ],
   "outputs": [],
   "metadata": {
    "tags": [
     "parameters"
    ]
   }
  },
  {
   "cell_type": "markdown",
   "source": [
    "## Extração dos dados do arquivo .zip"
   ],
   "metadata": {}
  },
  {
   "cell_type": "code",
   "execution_count": 29,
   "source": [
    "# Model inference parameters\n",
    "inference_parameters = {\n",
    "    'score_threshold':score_threshold,\n",
    "    'iou_threshold':iou_threshold,\n",
    "    'language':language,\n",
    "    'yolo_weight_type': yolo_weight_type\n",
    "}"
   ],
   "outputs": [],
   "metadata": {}
  },
  {
   "cell_type": "code",
   "execution_count": 30,
   "source": [
    "# Construct dataset folder name for unzipped files\n",
    "folder = '.'.join(dataset.split('.')[:-1])\n",
    "\n",
    "# Creating empty folder\n",
    "!mkdir -p {folder}\n",
    "\n",
    "# Extracting files\n",
    "!unzip -o {dataset} -d {folder}"
   ],
   "outputs": [
    {
     "output_type": "stream",
     "name": "stdout",
     "text": [
      "Archive:  /tmp/data/yolo_original.zip\n",
      "  inflating: /tmp/data/yolo_original/test/sunflower.png  \n",
      " extracting: /tmp/data/yolo_original/dataset.csv  \n",
      "  inflating: /tmp/data/yolo_original/df_squad_test_bert_chuncked.csv  \n"
     ]
    }
   ],
   "metadata": {}
  },
  {
   "cell_type": "code",
   "execution_count": 31,
   "source": [
    "import pandas as pd\n",
    "\n",
    "# Read images path dataset\n",
    "df = pd.read_csv(folder + '/dataset.csv')\n",
    "df[image_path] = folder + df[image_path]\n",
    "\n",
    "# Get all images paths for predicting\n",
    "X = df[image_path].values"
   ],
   "outputs": [],
   "metadata": {}
  },
  {
   "cell_type": "markdown",
   "source": [
    "## Classificação das imagens"
   ],
   "metadata": {}
  },
  {
   "cell_type": "code",
   "execution_count": 32,
   "source": [
    "import numpy as np\n",
    "import cv2\n",
    "import tensorflow as tf\n",
    "from PIL import Image"
   ],
   "outputs": [],
   "metadata": {}
  },
  {
   "cell_type": "code",
   "execution_count": 33,
   "source": [
    "# Download YOLO weights\n",
    "import gdown\n",
    "\n",
    "if yolo_weight_type == 'tiny':\n",
    "    gdown.download('https://drive.google.com/u/0/uc?id=1GJwGiR7rizY_19c_czuLN8p31BwkhWY5', 'yolov4-tiny.weights', quiet=False)\n",
    "\n",
    "elif yolo_weight_type == 'full': \n",
    "    gdown.download('https://drive.google.com/uc?id=1L-SO373Udc9tPz5yLkgti5IAXFboVhUt', 'yolov4-full.weights', quiet=False)\n",
    "    \n",
    "else:\n",
    "    print(f'[ERROR] Not implemented with \\'{yolo_weight_type}\\', using \\'full\\' as default.')\n",
    "    gdown.download('https://drive.google.com/uc?id=1L-SO373Udc9tPz5yLkgti5IAXFboVhUt', 'yolov4-full.weights', quiet=False)"
   ],
   "outputs": [
    {
     "output_type": "stream",
     "name": "stderr",
     "text": [
      "Downloading...\n",
      "From: https://drive.google.com/uc?id=1L-SO373Udc9tPz5yLkgti5IAXFboVhUt\n",
      "To: /home/jovyan/tasks/YOLO (Lucas)/yolov4-full.weights\n",
      "258MB [00:20, 12.8MB/s] \n"
     ]
    }
   ],
   "metadata": {}
  },
  {
   "cell_type": "code",
   "execution_count": 34,
   "source": [
    "# Read and format classes list\n",
    "names_list = None\n",
    "names = {}\n",
    "\n",
    "if language == 'português':\n",
    "    file = open('cocopt.names', 'r')\n",
    "    names_list = file.read().split('\\n')\n",
    "    \n",
    "elif language == 'inglês':\n",
    "    file = open('coco.names', 'r')\n",
    "    names_list = file.read().split('\\n')\n",
    "\n",
    "elif language == 'espanhol':\n",
    "    file = open('cocoes.names', 'r')\n",
    "    names_list = file.read().split('\\n')\n",
    "    \n",
    "else: # Default fallback\n",
    "    print(f'[ERROR] Not implemented with \\'{language}\\', using \\'inglês\\' as default.')\n",
    "    file = open('coco.names', 'r')\n",
    "    names_list = file.read().split('\\n')\n",
    "    \n",
    "for i, name in enumerate(names_list):\n",
    "    names[i] = name"
   ],
   "outputs": [],
   "metadata": {}
  },
  {
   "cell_type": "code",
   "execution_count": null,
   "source": [
    "from yolov4.tf import YOLOv4\n",
    "\n",
    "# Load the model\n",
    "is_tiny = yolo_weight_type == 'tiny'\n",
    "yolo = YOLOv4(tiny=is_tiny)\n",
    "\n",
    "# Configure classes\n",
    "yolo.classes = \"coco.names\"\n",
    "\n",
    "# Load weights\n",
    "yolo.make_model()\n",
    "\n",
    "if yolo_weight_type == 'tiny':\n",
    "    yolo.load_weights(\"yolov4-tiny.weights\", weights_type=\"yolo\")\n",
    "else:\n",
    "    yolo.load_weights(\"yolov4-full.weights\", weights_type=\"yolo\")"
   ],
   "outputs": [],
   "metadata": {}
  },
  {
   "cell_type": "code",
   "execution_count": null,
   "source": [
    "# Classify images\n",
    "from yolo_utils import decode_yolo_bbox\n",
    "\n",
    "results = {}\n",
    "yolo_raw = {}\n",
    "\n",
    "result_id = 0\n",
    "for img in X:\n",
    "    \n",
    "    ext = img.split('.')[-1].lower()\n",
    "    \n",
    "    if ext in ['jpg', 'jpeg', 'png']:\n",
    "    \n",
    "        frame = cv2.imread(img, cv2.IMREAD_COLOR)\n",
    "        \n",
    "        # prediction (x, y, w, h, class, prob)\n",
    "        predictions = yolo.predict(frame, \n",
    "                                   score_threshold=inference_parameters['score_threshold'], \n",
    "                                   iou_threshold=inference_parameters['iou_threshold'])\n",
    "        \n",
    "        yolo_raw[img] = predictions\n",
    "\n",
    "        for prediction in predictions:\n",
    "            \n",
    "            # How to interpret YOLO bbox: https://stackoverflow.com/questions/52455429/what-does-the-coordinate-output-of-yolo-algorithm-represent\n",
    "            encoded_bbox = prediction[:4]\n",
    "\n",
    "            decoded_bbox = decode_yolo_bbox(frame, encoded_bbox)\n",
    "            prob = prediction[-1]\n",
    "            name = names[int(prediction[4])]\n",
    "            \n",
    "            # Check if prediction is null\n",
    "            if prob < 1e-6:\n",
    "                results[result_id] = {'image': img, 'coords(x_min,y_min,x_max,y_max)': None, 'probability': None, 'class': None}\n",
    "            else:\n",
    "                results[result_id] = {'image': img, 'coords(x_min,y_min,x_max,y_max)': decoded_bbox, 'probability': prob, 'class': name}\n",
    "\n",
    "            result_id += 1"
   ],
   "outputs": [],
   "metadata": {}
  },
  {
   "cell_type": "code",
   "execution_count": null,
   "source": [
    "import matplotlib.pyplot as plt\n",
    "from platiagro.plotting import plot_data_table\n",
    "\n",
    "# Compile results in DF\n",
    "res_df = pd.DataFrame(results).T\n",
    "\n",
    "ax = plot_data_table(res_df)\n",
    "plt.show()"
   ],
   "outputs": [],
   "metadata": {}
  },
  {
   "cell_type": "markdown",
   "source": [
    "## Mostrando alguns resultados obtidos"
   ],
   "metadata": {}
  },
  {
   "cell_type": "code",
   "execution_count": null,
   "source": [
    "# Drawing sample results\n",
    "\n",
    "from draws import draw_bboxes\n",
    "\n",
    "# Select a sample of uniques to show results\n",
    "uniques = np.random.choice(X,  min(len(X), 5), replace=False)\n",
    "\n",
    "for unique in uniques:\n",
    "    \n",
    "    frame = np.array(Image.open(unique).convert('RGB'))\n",
    "    \n",
    "    unique_df = res_df[res_df['image'] == unique]\n",
    "    bboxes = unique_df['coords(x_min,y_min,x_max,y_max)'].values\n",
    "    probs = unique_df['probability'].values\n",
    "    labels = unique_df['class'].values\n",
    "\n",
    "    if bboxes[0] is None: continue\n",
    "    \n",
    "    img = draw_bboxes(frame, bboxes, probs, labels)\n",
    "    img = Image.fromarray(img)\n",
    "    img.show()"
   ],
   "outputs": [],
   "metadata": {}
  },
  {
   "cell_type": "markdown",
   "source": [
    "## Salva resultados da tarefa \n",
    "\n",
    "A plataforma guarda o conteúdo de `/tmp/data/` para as tarefas subsequentes."
   ],
   "metadata": {}
  },
  {
   "cell_type": "code",
   "execution_count": 16,
   "source": [
    "from joblib import dump\n",
    "\n",
    "artifacts = {\n",
    "    \"names\": names,\n",
    "    \"inference_parameters\": inference_parameters\n",
    "}\n",
    "\n",
    "dump(artifacts, \"/tmp/data/yolo.joblib\")"
   ],
   "outputs": [
    {
     "output_type": "execute_result",
     "data": {
      "text/plain": [
       "['/tmp/data/yolo.joblib']"
      ]
     },
     "metadata": {},
     "execution_count": 16
    }
   ],
   "metadata": {}
  }
 ],
 "metadata": {
  "celltoolbar": "Tags",
  "experiment_id": "dd6fdf41-c74b-4db5-932d-d08e06bfb8b2",
  "kernelspec": {
   "display_name": "Python 3",
   "language": "python",
   "name": "python3"
  },
  "language_info": {
   "codemirror_mode": {
    "name": "ipython",
    "version": 3
   },
   "file_extension": ".py",
   "mimetype": "text/x-python",
   "name": "python",
   "nbconvert_exporter": "python",
   "pygments_lexer": "ipython3",
   "version": "3.7.10"
  },
  "operator_id": "d9bcd061-37df-4640-a12d-18525a4273f2",
  "task_id": "a1d552d0-1b13-4898-8863-cfe6f9d3007a"
 },
 "nbformat": 4,
 "nbformat_minor": 4
}