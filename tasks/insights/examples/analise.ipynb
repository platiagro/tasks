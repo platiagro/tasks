{
 "cells": [
  {
   "cell_type": "markdown",
   "metadata": {},
   "source": [
    "# Leitura do banco de dados"
   ]
  },
  {
   "cell_type": "code",
   "execution_count": 1,
   "metadata": {},
   "outputs": [
    {
     "data": {
      "text/html": [
       "<div>\n",
       "<style scoped>\n",
       "    .dataframe tbody tr th:only-of-type {\n",
       "        vertical-align: middle;\n",
       "    }\n",
       "\n",
       "    .dataframe tbody tr th {\n",
       "        vertical-align: top;\n",
       "    }\n",
       "\n",
       "    .dataframe thead th {\n",
       "        text-align: right;\n",
       "    }\n",
       "</style>\n",
       "<table border=\"1\" class=\"dataframe\">\n",
       "  <thead>\n",
       "    <tr style=\"text-align: right;\">\n",
       "      <th></th>\n",
       "      <th>Tempo de Dispensa (dias)</th>\n",
       "      <th>Tempo de Entrega</th>\n",
       "      <th>Area de atuacao [Funcionario]</th>\n",
       "      <th>Descricao do afastamento</th>\n",
       "    </tr>\n",
       "  </thead>\n",
       "  <tbody>\n",
       "    <tr>\n",
       "      <th>0</th>\n",
       "      <td>3.1</td>\n",
       "      <td>1.0</td>\n",
       "      <td>Estagiário</td>\n",
       "      <td>Sintomas, sinais e achados anormais</td>\n",
       "    </tr>\n",
       "    <tr>\n",
       "      <th>1</th>\n",
       "      <td>3.6</td>\n",
       "      <td>6.0</td>\n",
       "      <td>Mecânico Manutenção III</td>\n",
       "      <td>Infecções virais de pele e de mucosas</td>\n",
       "    </tr>\n",
       "    <tr>\n",
       "      <th>2</th>\n",
       "      <td>10.1</td>\n",
       "      <td>4.0</td>\n",
       "      <td>Inspetor Qualidade III</td>\n",
       "      <td>Fatores que influenciam estado de saúde</td>\n",
       "    </tr>\n",
       "    <tr>\n",
       "      <th>3</th>\n",
       "      <td>13.0</td>\n",
       "      <td>11.0</td>\n",
       "      <td>Inspetor Qualidade III</td>\n",
       "      <td>Infecções virais de pele e de mucosas</td>\n",
       "    </tr>\n",
       "    <tr>\n",
       "      <th>4</th>\n",
       "      <td>4.3</td>\n",
       "      <td>0.0</td>\n",
       "      <td>Inspetor Qualidade III</td>\n",
       "      <td>Sintomas, sinais e achados anormais</td>\n",
       "    </tr>\n",
       "  </tbody>\n",
       "</table>\n",
       "</div>"
      ],
      "text/plain": [
       "   Tempo de Dispensa (dias)  Tempo de Entrega Area de atuacao [Funcionario]  \\\n",
       "0                       3.1               1.0                    Estagiário   \n",
       "1                       3.6               6.0       Mecânico Manutenção III   \n",
       "2                      10.1               4.0        Inspetor Qualidade III   \n",
       "3                      13.0              11.0        Inspetor Qualidade III   \n",
       "4                       4.3               0.0        Inspetor Qualidade III   \n",
       "\n",
       "                  Descricao do afastamento  \n",
       "0      Sintomas, sinais e achados anormais  \n",
       "1    Infecções virais de pele e de mucosas  \n",
       "2  Fatores que influenciam estado de saúde  \n",
       "3    Infecções virais de pele e de mucosas  \n",
       "4      Sintomas, sinais e achados anormais  "
      ]
     },
     "execution_count": 1,
     "metadata": {},
     "output_type": "execute_result"
    }
   ],
   "source": [
    "import pandas as pd\n",
    "\n",
    "# parameters\n",
    "dataset = \"amostra.xlsx\" #@param {type:\"string\"}\n",
    "group_col = \"\" #@param {type:\"string\",label:\"coluna para o agrupamento\"}\n",
    "target = \"\" # pode ter ou não\n",
    "\n",
    "\n",
    "def decimal_converter(value):\n",
    "    try:\n",
    "        return float(value.replace(',', '.'))\n",
    "    except ValueError:\n",
    "        return value\n",
    "    \n",
    "numerical_cols = [\n",
    "    'Tempo de Dispensa (dias)', \n",
    "    'Tempo de Entrega',\n",
    "]\n",
    "\n",
    "features = [\n",
    "    'Area de atuacao [Funcionario]',\n",
    "    'Descricao do afastamento',\n",
    "]\n",
    "\n",
    "converter_dict = {col: decimal_converter for col in numerical_cols}\n",
    "\n",
    "df = pd.read_excel(dataset, index_col=None, header=0, converters=converter_dict)\n",
    "df_num = df[numerical_cols]\n",
    "\n",
    "df = df_num.join(df[features]).dropna(how='any')\n",
    "\n",
    "target = 'Area de atuacao [Funcionario]'\n",
    "\n",
    "# df = pd.read_csv('Iris.csv')\n",
    "# target = 'variety'\n",
    "\n",
    "\n",
    "df.head()\n",
    "\n"
   ]
  },
  {
   "cell_type": "markdown",
   "metadata": {},
   "source": [
    "# Análise de Outliers"
   ]
  },
  {
   "cell_type": "code",
   "execution_count": 2,
   "metadata": {},
   "outputs": [
    {
     "name": "stdout",
     "output_type": "stream",
     "text": [
      "Utilizando o método DBscan foram detectados 57 outliers neste dataset, correspondendo a uma proporção de 6.71% do conjunto de amostras.\n",
      "Utilizando o método Isolation Forest foram detectados 43 outliers neste dataset, correspondendo a uma proporção de 5.06% do conjunto de amostras.\n",
      "\n"
     ]
    },
    {
     "data": {
      "application/vnd.plotly.v1+json": {
       "config": {
        "plotlyServerURL": "https://plot.ly"
       },
       "data": [
        {
         "hovertemplate": "color=1<br>Tempo de Dispensa (dias)=%{x}<br>Tempo de Entrega=%{y}<br>Area de atuacao [Funcionario]=%{z}<extra></extra>",
         "legendgroup": "1",
         "marker": {
          "color": "#636efa",
          "size": 3,
          "symbol": "circle"
         },
         "mode": "markers",
         "name": "1",
         "scene": "scene",
         "showlegend": true,
         "type": "scatter3d",
         "x": [
          3.1,
          3.6,
          10.1,
          4.3,
          3.6,
          1.2,
          0.6,
          1.2,
          0.3,
          1,
          1,
          2.1,
          12.8,
          6.7,
          1.3,
          14.8,
          4.3,
          1.2,
          1.2,
          13.8,
          1.4,
          2.9,
          2.9,
          5.8,
          1.3,
          15.9,
          10.7,
          15.5,
          0.7,
          6.4,
          1,
          4,
          6.7,
          6.7,
          1.3,
          6.7,
          0.8,
          1.2,
          1.2,
          10.7,
          4,
          4,
          1.2,
          2.4,
          4.8,
          0.5,
          4.3,
          7.2,
          0.5,
          7.2,
          4.2,
          2.1,
          1.3,
          5.4,
          1.4,
          13,
          11.6,
          0.9,
          0.6,
          0.5,
          1.4,
          14.5,
          0.2,
          0.9,
          3.1,
          1,
          1.2,
          2.2,
          1.4,
          1.4,
          15.9,
          0,
          2.9,
          0.3,
          0.3,
          0.7,
          1,
          13.8,
          1,
          1,
          12.8,
          1.2,
          2.4,
          3.6,
          0.5,
          5.4,
          5.4,
          1.2,
          2.4,
          1.3,
          5.4,
          4,
          3.3,
          3.3,
          2.9,
          4.3,
          1.2,
          6,
          1.2,
          4.8,
          3.6,
          0.9,
          0.5,
          1.2,
          1.2,
          0.8,
          6.4,
          3.6,
          1.4,
          1.3,
          15.9,
          1.3,
          4.3,
          4.3,
          0.9,
          1.3,
          2.1,
          0.4,
          16.1,
          3.6,
          2.9,
          1.4,
          7.2,
          2.9,
          4.3,
          5.8,
          0.4,
          0.4,
          0.9,
          1.4,
          2.1,
          5.3,
          3.1,
          4.3,
          15.9,
          1.4,
          1.3,
          1.3,
          3.1,
          5.3,
          5.4,
          4,
          15.5,
          5.2,
          3.1,
          3.1,
          3.3,
          1.3,
          1.3,
          3.1,
          1,
          9.5,
          0.3,
          0.8,
          1.1,
          4.3,
          5.8,
          0,
          8.4,
          2.7,
          6.3,
          0,
          1.2,
          11.6,
          4.3,
          1,
          0.9,
          2.9,
          8.7,
          1.4,
          3.3,
          9.5,
          1,
          4.2,
          2.4,
          7.2,
          0.5,
          3.1,
          4.8,
          6.4,
          4,
          2.7,
          1.3,
          0.2,
          0.3,
          0.2,
          0.4,
          4.2,
          7.3,
          3.6,
          7.2,
          0.9,
          5.8,
          4.3,
          2.9,
          5.2,
          4,
          14.3,
          5.4,
          8.7,
          0.4,
          1.4,
          1.4,
          0.7,
          0.5,
          0.4,
          0.7,
          0.5,
          2.1,
          3.1,
          2.1,
          2.9,
          3.1,
          6.3,
          4.3,
          2.9,
          14.5,
          0.7,
          4.2,
          4.2,
          8.4,
          3.6,
          1.4,
          1,
          13.8,
          3.1,
          1,
          5.4,
          1.3,
          4.2,
          4.3,
          2.1,
          13.1,
          11.6,
          1.4,
          4.3,
          1.4,
          4.3,
          5.8,
          1.4,
          1.3,
          1,
          2.1,
          1.3,
          1.3,
          7.2,
          8.4,
          4,
          1,
          5.3,
          3.1,
          3.1,
          6.4,
          5.2,
          4.8,
          6,
          1.2,
          14.3,
          5.4,
          1.3,
          5.4,
          1.3,
          3.1,
          1.3,
          1,
          1.2,
          1,
          4.8,
          7.2,
          0,
          14.3,
          0.9,
          0.5,
          4.3,
          1.4,
          5.8,
          4.3,
          0.9,
          6.3,
          2.1,
          3.1,
          4.2,
          3.6,
          2.4,
          6,
          1,
          16.1,
          4,
          5.4,
          4,
          1.3,
          2.7,
          5.2,
          4.3,
          3.1,
          1.3,
          1.3,
          2.4,
          4.8,
          10.7,
          0.5,
          0.7,
          1.2,
          1.3,
          9.5,
          1,
          1,
          10.4,
          1,
          3.6,
          4.8,
          1.3,
          8.7,
          0.5,
          1.3,
          1.3,
          1.3,
          4,
          4,
          1.3,
          1.3,
          1.3,
          1,
          3.1,
          12.5,
          1.3,
          1.3,
          8,
          2.7,
          3.3,
          3.1,
          3.1,
          3.3,
          2.1,
          1.4,
          1.4,
          3.1,
          4,
          2.7,
          5.4,
          5.4,
          2.9,
          1.4,
          4.3,
          0.8,
          1.3,
          1,
          2.4,
          2.4,
          1,
          5.2,
          1.3,
          2.7,
          2.7,
          2.7,
          1.3,
          0.9,
          1.2,
          3.3,
          0,
          5.3,
          3.1,
          1,
          1,
          1,
          1.3,
          1.3,
          6.7,
          0.7,
          4,
          1.3,
          2.4,
          1.2,
          1.2,
          4.8,
          4.8,
          0.5,
          9.5,
          0,
          2.4,
          2.4,
          4.2,
          4.3,
          6,
          4.3,
          2.4,
          3.6,
          1,
          4.3,
          2.9,
          2.9,
          0,
          5.8,
          0.8,
          1.4,
          2.9,
          5.8,
          1.3,
          1,
          1,
          4.8,
          0.5,
          10.1,
          0,
          5.8,
          0.9,
          2.9,
          14.5,
          8.7,
          1.1,
          0.9,
          1.3,
          1.3,
          4,
          4,
          1.3,
          6.7,
          3.6,
          2.4,
          6,
          2.4,
          3.6,
          7.2,
          0,
          0.5,
          0.9,
          1.3,
          0.3,
          15.5,
          7.2,
          8,
          4.8,
          1.2,
          1.2,
          1.2,
          1.2,
          6,
          1.2,
          2.4,
          3.6,
          2.4,
          4.8,
          0.9,
          0.6,
          1.3,
          7.4,
          6.7,
          5.3,
          1.2,
          1.2,
          1.3,
          4,
          4,
          1.3,
          10.7,
          6.7,
          4,
          1.2,
          4.8,
          3.6,
          5.3,
          1.3,
          4,
          1.3,
          5.8,
          1.4,
          5.3,
          6.3,
          6.3,
          1,
          1,
          4.8,
          0.9,
          1.2,
          13.9,
          5.3,
          11.5,
          6.7,
          4,
          6.7,
          2.9,
          0.5,
          1,
          4,
          4.8,
          0.7,
          4.8,
          0.8,
          5.8,
          1.4,
          1.4,
          0,
          0.9,
          1.2,
          4.3,
          1,
          1,
          1.2,
          2.1,
          1,
          13.8,
          4.3,
          7.4,
          1.4,
          8.7,
          4.8,
          1.3,
          1.2,
          4.8,
          4,
          6.7,
          0.7,
          1.3,
          1.3,
          15.9,
          1.4,
          12.1,
          6.7,
          1.3,
          1.3,
          1.3,
          6.7,
          0.5,
          10.1,
          7.2,
          15.9,
          14.5,
          0.9,
          1,
          1.2,
          1.2,
          0.9,
          10.7,
          16.1,
          1.2,
          2.4,
          2.1,
          5.3,
          2.4,
          2.4,
          0.7,
          0.7,
          1.4,
          4.3,
          2.9,
          0.7,
          3.6,
          1.4,
          1,
          4,
          5.4,
          2.7,
          2.7,
          4.3,
          1.4,
          4.8,
          0.6,
          6,
          0.7,
          8.4,
          1,
          1,
          2.4,
          1.2,
          15.5,
          0.8,
          4.3,
          3.1,
          4.3,
          1,
          4.3,
          4.3,
          1.2,
          6,
          6,
          1.2,
          3.6,
          7.2,
          1.2,
          1.2,
          4,
          9.4,
          0,
          1.2,
          4.8,
          3.1,
          3.1,
          4.2,
          1.2,
          14.3,
          3.1,
          5.3,
          3.6,
          8.4,
          0.8,
          3.1,
          1.2,
          1.2,
          3.6,
          1,
          1,
          13.8,
          2.1,
          4.2,
          3.3,
          1,
          0.5,
          0.5,
          8,
          2.1,
          6.4,
          3.3,
          3.1,
          3.3,
          6.7,
          1.3,
          0.5,
          5.8,
          13,
          6,
          0.7,
          2.1,
          5.2,
          1.2,
          1.4,
          9.4,
          1,
          2.7,
          2.2,
          1,
          1.2,
          1,
          6.4,
          1,
          4.3,
          14.8,
          1.2,
          2.4,
          0.3,
          6,
          1,
          3.1,
          3.1,
          2.1,
          5.3,
          1.2,
          2.7,
          5.4,
          4,
          2.9,
          3.6,
          1.2,
          0.7,
          15.5,
          3.6,
          3.6,
          1.2,
          1.2,
          0.9,
          1.3,
          6.7,
          2.7,
          1.2,
          3.6,
          0.9,
          0,
          1.3,
          1,
          1,
          1.2,
          1.2,
          2.4,
          1,
          2.1,
          1,
          4,
          1.3,
          1.3,
          6.7,
          1.3,
          1.3,
          1.3,
          0.5,
          0.5,
          4,
          2.7,
          8,
          1.3,
          1.3,
          1.3,
          1.3,
          1.3,
          1.3,
          6.7,
          1.3,
          1.3,
          1.3,
          2.7,
          1.3,
          4,
          3.6,
          1.2,
          3.6,
          1.2,
          1.3,
          4,
          1.3,
          3.3,
          4.3,
          2.1,
          1,
          1,
          0.5,
          2.4,
          3.6,
          1,
          15.9,
          0.7,
          0.3,
          1.2,
          7.2,
          0.5,
          3.6,
          1.2,
          9.5,
          3.6,
          0.9,
          3.6,
          3.6,
          1.2,
          0.6,
          2.7,
          1,
          2.4,
          1.2,
          2.4,
          0,
          4.3,
          0,
          4,
          1.2,
          1.2,
          4,
          5.4,
          1.3,
          1.3,
          9.4,
          1,
          1,
          6.4,
          5.3,
          1,
          5.4,
          2.7,
          1.3,
          1.3,
          0.6,
          1.3,
          7.2,
          1.2,
          0.4,
          6.7,
          1.2,
          2.4,
          4.8,
          1.3,
          6.7,
          1.4,
          8.7,
          0.9,
          6,
          3.6,
          1.2,
          6,
          4,
          8,
          1.3,
          1.3,
          6,
          3.1,
          1,
          1,
          3.1,
          1,
          3.6,
          10.7,
          3.3,
          3.1,
          4.3,
          2.1,
          2.7,
          2.7
         ],
         "y": [
          1,
          6,
          4,
          0,
          1,
          3,
          4,
          1,
          2,
          2,
          3,
          5,
          1,
          2,
          2,
          2,
          2,
          6,
          3,
          5,
          4,
          0,
          0,
          2,
          2,
          1,
          4,
          8,
          9,
          6,
          4,
          12,
          8,
          1,
          1,
          0,
          2,
          2,
          1,
          2,
          5,
          1,
          3,
          0,
          8,
          1,
          0,
          -1,
          0,
          10,
          8,
          7,
          3,
          4,
          1,
          0,
          0,
          1,
          1,
          1,
          0,
          6,
          2,
          1,
          1,
          2,
          3,
          4,
          1,
          3,
          1,
          7,
          0,
          1,
          4,
          3,
          3,
          4,
          4,
          2,
          1,
          4,
          3,
          0,
          1,
          1,
          1,
          3,
          3,
          4,
          2,
          2,
          3,
          2,
          4,
          1,
          2,
          -1,
          2,
          1,
          1,
          0,
          2,
          3,
          5,
          2,
          1,
          2,
          4,
          9,
          1,
          4,
          3,
          1,
          4,
          2,
          4,
          7,
          5,
          3,
          1,
          3,
          1,
          0,
          0,
          10,
          3,
          1,
          1,
          1,
          9,
          1,
          2,
          4,
          2,
          4,
          5,
          2,
          2,
          1,
          6,
          3,
          4,
          2,
          3,
          3,
          7,
          4,
          4,
          5,
          2,
          0,
          1,
          3,
          2,
          1,
          1,
          6,
          4,
          2,
          1,
          6,
          3,
          3,
          4,
          3,
          1,
          0,
          6,
          11,
          0,
          -1,
          6,
          3,
          0,
          5,
          1,
          8,
          2,
          1,
          5,
          2,
          1,
          5,
          1,
          1,
          1,
          2,
          3,
          0,
          4,
          1,
          2,
          1,
          8,
          4,
          3,
          7,
          3,
          4,
          5,
          4,
          1,
          11,
          4,
          4,
          3,
          3,
          2,
          1,
          0,
          0,
          4,
          5,
          1,
          2,
          8,
          1,
          3,
          2,
          1,
          -1,
          2,
          8,
          4,
          2,
          4,
          2,
          1,
          1,
          2,
          0,
          1,
          0,
          2,
          0,
          4,
          1,
          2,
          -2,
          2,
          6,
          4,
          13,
          1,
          1,
          2,
          4,
          2,
          5,
          3,
          2,
          4,
          10,
          1,
          7,
          4,
          1,
          3,
          3,
          1,
          6,
          1,
          4,
          3,
          4,
          5,
          0,
          3,
          4,
          2,
          1,
          1,
          0,
          0,
          3,
          -1,
          1,
          1,
          4,
          2,
          5,
          6,
          4,
          4,
          2,
          1,
          2,
          0,
          -1,
          1,
          0,
          2,
          2,
          1,
          3,
          7,
          4,
          2,
          2,
          2,
          3,
          0,
          2,
          0,
          7,
          4,
          5,
          3,
          3,
          1,
          2,
          6,
          1,
          5,
          3,
          5,
          1,
          5,
          4,
          2,
          2,
          5,
          3,
          6,
          2,
          5,
          5,
          1,
          1,
          5,
          2,
          9,
          5,
          2,
          1,
          2,
          9,
          1,
          5,
          4,
          0,
          2,
          6,
          1,
          1,
          1,
          2,
          1,
          2,
          1,
          5,
          3,
          -1,
          4,
          1,
          4,
          3,
          3,
          5,
          1,
          11,
          1,
          1,
          3,
          2,
          4,
          2,
          5,
          2,
          5,
          3,
          4,
          0,
          2,
          2,
          1,
          1,
          2,
          1,
          1,
          2,
          3,
          3,
          7,
          9,
          6,
          1,
          1,
          8,
          12,
          10,
          0,
          13,
          1,
          4,
          3,
          5,
          4,
          3,
          0,
          1,
          4,
          -1,
          6,
          0,
          0,
          7,
          4,
          1,
          1,
          6,
          2,
          1,
          3,
          9,
          2,
          7,
          -1,
          2,
          1,
          2,
          6,
          4,
          0,
          2,
          2,
          5,
          6,
          1,
          2,
          2,
          1,
          1,
          4,
          1,
          3,
          3,
          0,
          4,
          0,
          0,
          4,
          1,
          2,
          2,
          2,
          2,
          4,
          3,
          3,
          0,
          1,
          5,
          2,
          3,
          0,
          1,
          2,
          4,
          10,
          3,
          4,
          3,
          1,
          8,
          2,
          2,
          1,
          0,
          3,
          1,
          2,
          12,
          3,
          6,
          0,
          5,
          -1,
          2,
          5,
          1,
          6,
          3,
          0,
          1,
          -1,
          0,
          1,
          5,
          3,
          2,
          2,
          1,
          1,
          6,
          5,
          2,
          1,
          3,
          2,
          1,
          4,
          4,
          2,
          2,
          2,
          3,
          8,
          6,
          2,
          5,
          7,
          5,
          1,
          7,
          1,
          -1,
          2,
          6,
          1,
          1,
          3,
          0,
          2,
          1,
          0,
          1,
          3,
          2,
          2,
          2,
          1,
          2,
          2,
          1,
          4,
          2,
          1,
          2,
          2,
          3,
          3,
          1,
          6,
          5,
          2,
          5,
          7,
          1,
          5,
          12,
          3,
          0,
          0,
          8,
          1,
          1,
          4,
          2,
          0,
          1,
          6,
          4,
          6,
          3,
          4,
          5,
          0,
          3,
          5,
          6,
          2,
          2,
          1,
          3,
          4,
          1,
          2,
          1,
          1,
          4,
          -1,
          4,
          1,
          1,
          5,
          12,
          1,
          0,
          3,
          4,
          0,
          2,
          1,
          3,
          -1,
          4,
          1,
          1,
          2,
          1,
          12,
          1,
          2,
          5,
          3,
          1,
          6,
          2,
          2,
          6,
          2,
          -1,
          9,
          5,
          1,
          1,
          3,
          1,
          2,
          1,
          3,
          4,
          1,
          6,
          4,
          6,
          4,
          0,
          3,
          4,
          3,
          3,
          4,
          3,
          1,
          3,
          2,
          -1,
          0,
          2,
          2,
          4,
          3,
          3,
          4,
          1,
          0,
          4,
          2,
          3,
          3,
          5,
          0,
          2,
          -1,
          2,
          0,
          12,
          4,
          2,
          0,
          -1,
          0,
          3,
          3,
          4,
          2,
          1,
          4,
          1,
          2,
          9,
          10,
          1,
          3,
          1,
          1,
          5,
          2,
          2,
          1,
          2,
          6,
          8,
          4,
          5,
          10,
          5,
          6,
          7,
          3,
          2,
          14,
          0,
          1,
          4,
          2,
          5,
          8,
          5,
          3,
          3,
          2,
          2,
          3,
          2,
          1,
          10,
          5,
          3,
          6,
          12,
          5,
          2,
          6,
          1,
          1,
          5,
          3,
          4,
          7,
          8,
          -1,
          0,
          0,
          0,
          1,
          4,
          5,
          0,
          1,
          3,
          1,
          1,
          1,
          1,
          2,
          5,
          4,
          2,
          5,
          1,
          4,
          4,
          3,
          2,
          7,
          1,
          2,
          7,
          1,
          3,
          13,
          3,
          14,
          6,
          3,
          2,
          2,
          7,
          1,
          9,
          7,
          2,
          1,
          1,
          5,
          2,
          9,
          2,
          0,
          1,
          2,
          2,
          3,
          2,
          1,
          1,
          5,
          3,
          9,
          7,
          1,
          1,
          4,
          1,
          2,
          4,
          2,
          1
         ],
         "z": [
          "Estagiário",
          "Mecânico Manutenção III",
          "Inspetor Qualidade III",
          "Inspetor Qualidade III",
          "Conferente Expedição I",
          "Conferente Expedição I",
          "Eletricista Manutenção II",
          "Conferente Expedição I",
          "Conferente Expedição I",
          "Operador Empilhadeira",
          "Operador Empilhadeira",
          "Operador Empilhadeira",
          "Operador Empilhadeira",
          "Operador Manufatura III",
          "Operador Manufatura III",
          "Operador Manufatura III",
          "Operador Manufatura III",
          "Operador Manufatura III",
          "Operador Manufatura III",
          "Operador Manufatura I",
          "Mecânico Manutenção II",
          "Técnico Processos",
          "Técnico Processos",
          "Técnico Processos",
          "Operador Manufatura III",
          "Mecânico Manutenção III",
          "Técnico Processos",
          "Técnico Processos",
          "Ferramenteiro II",
          "Ferramenteiro II",
          "Ferramenteiro II",
          "Preparador Matéria Prima",
          "Preparador Matéria Prima",
          "Preparador Matéria Prima",
          "Operador Empilhadeira",
          "Operador Empilhadeira",
          "Operador Empilhadeira",
          "Preparador/Trocador De Fe",
          "Preparador/Trocador De Fe",
          "Preparador/Trocador De Fe",
          "Preparador Matéria Prima",
          "Preparador Matéria Prima",
          "Conferente Expedição I",
          "Conferente Expedição I",
          "Conferente Expedição I",
          "Conferente Expedição I",
          "Técnico Processos",
          "Operador Manufatura III",
          "Operador Manufatura III",
          "Conferente Almoxarifado",
          "Preparador Matéria Prima",
          "Conferente Expedição I",
          "Apontador Produção I",
          "Apontador Produção I",
          "Operador Expedição",
          "Operador Expedição",
          "Operador Expedição",
          "Operador Expedição",
          "Operador Expedição",
          "Operador Expedição",
          "Inspetor Qualidade I",
          "Inspetor Qualidade I",
          "Inspetor Qualidade I",
          "Inspetor Qualidade I",
          "Operador Manufatura I",
          "Operador Manufatura I",
          "Operador Manufatura I",
          "Operador Manufatura I",
          "Operador Expedição",
          "Operador Expedição",
          "Operador Expedição",
          "Analista Contábil Pl",
          "Analista Contábil Pl",
          "Analista Contábil Pl",
          "Analista Contábil Pl",
          "Analista Contábil Pl",
          "Preparador/Trocador De Fe",
          "Operador Manufatura II",
          "Operador Manufatura II",
          "Apontador Produção I",
          "Apontador Produção I",
          "Apontador Produção I",
          "Apontador Produção I",
          "Apontador Produção I",
          "Apontador Produção I",
          "Conferente Expedição I",
          "Conferente Expedição I",
          "Operador Manufatura I",
          "Operador Manufatura I",
          "Apontador Produção I",
          "Apontador Produção I",
          "Apontador Produção I",
          "Operador Manufatura III",
          "Operador Manufatura III",
          "Mecânico Manutenção II",
          "Mecânico Manutenção II",
          "Operador Expedição",
          "Operador Expedição",
          "Operador Expedição",
          "Operador Expedição",
          "Operador Expedição",
          "Operador Expedição",
          "Operador Expedição",
          "Operador/Abastecedor Empi",
          "Facilitador",
          "Facilitador",
          "Ferramenteiro I",
          "Operador Manufatura III",
          "Preparador Matéria Prima",
          "Facilitador",
          "Técnico Mecânico",
          "Técnico Eletrônico",
          "Ferramenteiro II",
          "Ferramenteiro II",
          "Ferramenteiro II",
          "Mecânico Manutenção III",
          "Operador Manufatura II",
          "Operador Empilhadeira",
          "Operador/Abastecedor Empi",
          "Operador Manufatura III",
          "Eletricista Manutenção II",
          "Eletricista Manutenção II",
          "Eletricista Manutenção II",
          "Eletricista Manutenção II",
          "Eletricista Manutenção II",
          "Eletricista Manutenção II",
          "Eletricista Manutenção II",
          "Eletricista Manutenção II",
          "Eletricista Manutenção II",
          "Eletricista Manutenção II",
          "Preparador Matéria Prima",
          "Mecânico Manutenção III",
          "Mecânico Manutenção III",
          "Mecânico Manutenção III",
          "Operador Manufatura III",
          "Técnico Mecânico",
          "Operador Manufatura III",
          "Operador Manufatura III",
          "Operador Manufatura I",
          "Operador Manufatura I",
          "Conferente Expedição I",
          "Conferente Expedição I",
          "Operador Manufatura II",
          "Operador Manufatura I",
          "Preparador/Trocador De Fe",
          "Preparador/Trocador De Fe",
          "Preparador/Trocador De Fe",
          "Mecânico Manutenção II",
          "Mecânico Manutenção II",
          "Mecânico Manutenção II",
          "Operador Manufatura II",
          "Operador Manufatura I",
          "Operador Manufatura I",
          "Operador Manufatura I",
          "Operador Manufatura I",
          "Ferramenteiro II",
          "Ferramenteiro II",
          "Técnico Processos",
          "Técnico Processos",
          "Operador Manufatura III",
          "Operador Manufatura III",
          "Operador Manufatura III",
          "Mecânico Manutenção II",
          "Operador Empilhadeira",
          "Operador Empilhadeira",
          "Operador Empilhadeira",
          "Operador Empilhadeira",
          "Conferente Expedição I",
          "Conferente Expedição I",
          "Conferente Expedição I",
          "Operador Manufatura I",
          "Operador Manufatura I",
          "Preparador/Trocador De Fe",
          "Mecânico Manutenção II",
          "Preparador/Trocador De Fe",
          "Preparador/Trocador De Fe",
          "Preparador/Trocador De Fe",
          "Operador Manufatura III",
          "Mecânico Manutenção II",
          "Operador Manufatura I",
          "Operador Empilhadeira",
          "Operador Empilhadeira",
          "Operador Empilhadeira",
          "Eletricista Manutenção II",
          "Eletricista Manutenção II",
          "Eletricista Manutenção II",
          "Eletricista Manutenção II",
          "Apontador Produção I",
          "Apontador Produção I",
          "Operador Manufatura I",
          "Operador Manufatura I",
          "Operador Manufatura I",
          "Analista Processos Jr",
          "Analista Processos Jr",
          "Analista Processos Jr",
          "Eletricista Manutenção II",
          "Operador Empilhadeira",
          "Operador Manufatura I",
          "Eletricista Manutenção II",
          "Assistente Distribuição",
          "Assistente Distribuição",
          "Operador Empilhadeira",
          "Operador Empilhadeira",
          "Operador Empilhadeira",
          "Operador Empilhadeira",
          "Operador Empilhadeira",
          "Operador Empilhadeira",
          "Operador Empilhadeira",
          "Preparador Matéria Prima",
          "Preparador Matéria Prima",
          "Preparador Matéria Prima",
          "Operador Manufatura II",
          "Inspetor Qualidade I",
          "Inspetor Qualidade I",
          "Mecânico Manutenção I",
          "Mecânico Manutenção I",
          "Mecânico Manutenção I",
          "Mecânico Manutenção I",
          "Operador Manufatura II",
          "Operador Manufatura II",
          "Operador Manufatura III",
          "Operador Manufatura III",
          "Controlador Produção",
          "Operador Manufatura II",
          "Operador Manufatura II",
          "Operador Manufatura II",
          "Operador Manufatura II",
          "Operador Manufatura II",
          "Operador Manufatura II",
          "Apontador Produção I",
          "Apontador Produção I",
          "Apontador Produção I",
          "Inspetor Qualidade I",
          "Apontador Produção I",
          "Apontador Produção I",
          "Apontador Produção I",
          "Apontador Produção I",
          "Apontador Produção I",
          "Apontador Produção I",
          "Apontador Produção I",
          "Apontador Produção I",
          "Operador Manufatura I",
          "Operador Manufatura I",
          "Preparador/Trocador De Fe",
          "Preparador/Trocador De Fe",
          "Operador Manufatura I",
          "Operador Manufatura I",
          "Operador Manufatura I",
          "Operador Manufatura I",
          "Operador Manufatura I",
          "Operador Manufatura I",
          "Operador Manufatura I",
          "Operador Manufatura I",
          "Operador Manufatura I",
          "Apontador Produção I",
          "Apontador Produção I",
          "Apontador Produção I",
          "Apontador Produção I",
          "Conferente Expedição I",
          "Conferente Expedição I",
          "Conferente Expedição I",
          "Conferente Expedição I",
          "Operador Empilhadeira",
          "Operador Manufatura I",
          "Operador Manufatura I",
          "Operador Manufatura I",
          "Operador Manufatura I",
          "Operador Manufatura I",
          "Operador Manufatura I",
          "Operador Manufatura I",
          "Operador Manufatura I",
          "Operador Manufatura I",
          "Operador Manufatura I",
          "Ferramenteiro I",
          "Ferramenteiro I",
          "Ferramenteiro I",
          "Ferramenteiro I",
          "Ferramenteiro I",
          "Operador Manufatura I",
          "Operador Manufatura I",
          "Operador Manufatura I",
          "Operador Manufatura I",
          "Apontador Produção II",
          "Apontador Produção II",
          "Apontador Produção II",
          "Operador Manufatura I",
          "Operador Manufatura I",
          "Operador Manufatura I",
          "Operador Manufatura I",
          "Operador Manufatura I",
          "Operador Manufatura I",
          "Operador Manufatura I",
          "Operador Manufatura I",
          "Operador Manufatura I",
          "Operador Manufatura I",
          "Preparador Matéria Prima",
          "Operador Manufatura I",
          "Operador Manufatura I",
          "Operador Manufatura I",
          "Operador Manufatura I",
          "Ferramenteiro III",
          "Mecânico Manutenção I",
          "Mecânico Manutenção I",
          "Operador Manufatura I",
          "Operador Empilhadeira",
          "Operador Carro Elétrico",
          "Operador Carro Elétrico",
          "Operador Carro Elétrico",
          "Operador Carro Elétrico",
          "Operador Manufatura II",
          "Operador Manufatura II",
          "Operador Manufatura I",
          "Apontador Produção II",
          "Apontador Produção II",
          "Operador Manufatura I",
          "Operador Manufatura I",
          "Operador Manufatura I",
          "Operador Manufatura I",
          "Operador Manufatura I",
          "Operador Manufatura I",
          "Preparador Matéria Prima",
          "Preparador Matéria Prima",
          "Operador Manufatura I",
          "Operador Manufatura I",
          "Operador Manufatura I",
          "Operador Manufatura II",
          "Operador Manufatura II",
          "Operador Manufatura II",
          "Operador Manufatura II",
          "Preparador Matéria Prima",
          "Preparador Matéria Prima",
          "Preparador Matéria Prima",
          "Preparador Matéria Prima",
          "Preparador Matéria Prima",
          "Operador Manufatura I",
          "Operador Manufatura I",
          "Operador Manufatura II",
          "Operador Manufatura II",
          "Operador Manufatura II",
          "Operador Manufatura II",
          "Operador Manufatura II",
          "Operador Empilhadeira",
          "Operador Empilhadeira",
          "Operador Empilhadeira",
          "Operador Empilhadeira",
          "Operador Manufatura I",
          "Eletricista Manutenção II",
          "Operador Manufatura I",
          "Operador Manufatura I",
          "Operador Manufatura II",
          "Operador Manufatura II",
          "Operador Manufatura I",
          "Operador Manufatura II",
          "Operador Manufatura II",
          "Operador Manufatura II",
          "Operador Manufatura II",
          "Operador Manufatura II",
          "Preparador/Trocador De Fe",
          "Preparador/Trocador De Fe",
          "Preparador/Trocador De Fe",
          "Preparador/Trocador De Fe",
          "Operador Empilhadeira",
          "Operador Empilhadeira",
          "Operador Empilhadeira",
          "Operador Empilhadeira",
          "Operador Manufatura I",
          "Operador Manufatura I",
          "Operador Manufatura I",
          "Operador Manufatura I",
          "Conferente Expedição I",
          "Operador Manufatura I",
          "Operador Expedição",
          "Operador Expedição",
          "Operador Expedição",
          "Operador Expedição",
          "Operador Expedição",
          "Operador Expedição",
          "Operador Manufatura I",
          "Operador Manufatura I",
          "Operador Manufatura I",
          "Operador Manufatura I",
          "Operador Empilhadeira",
          "Operador Empilhadeira",
          "Operador Manufatura I",
          "Preparador Matéria Prima",
          "Preparador Matéria Prima",
          "Preparador Matéria Prima",
          "Preparador Matéria Prima",
          "Assistente Distribuição",
          "Assistente Distribuição",
          "Assistente Distribuição",
          "Assistente Distribuição",
          "Assistente Distribuição",
          "Assistente Distribuição",
          "Conferente Expedição I",
          "Conferente Expedição I",
          "Conferente Expedição I",
          "Conferente Expedição I",
          "Conferente Expedição I",
          "Conferente Expedição I",
          "Operador Manufatura I",
          "Operador Manufatura I",
          "Operador Manufatura I",
          "Operador Manufatura I",
          "Operador Manufatura I",
          "Operador Manufatura I",
          "Operador Manufatura I",
          "Operador Manufatura I",
          "Operador Manufatura I",
          "Operador Manufatura I",
          "Operador Manufatura I",
          "Operador Empilhadeira",
          "Conferente Expedição I",
          "Conferente Expedição I",
          "Conferente Expedição I",
          "Conferente Expedição I",
          "Operador Empilhadeira",
          "Conferente Expedição I",
          "Conferente Expedição I",
          "Conferente Expedição I",
          "Conferente Expedição I",
          "Conferente Expedição I",
          "Conferente Expedição I",
          "Conferente Expedição I",
          "Conferente Expedição I",
          "Conferente Expedição I",
          "Operador Multifuncional",
          "Operador Multifuncional",
          "Operador Manufatura I",
          "Operador Manufatura I",
          "Preparador/Trocador De Fe",
          "Operador Multifuncional",
          "Operador Multifuncional",
          "Operador Multifuncional",
          "Operador Multifuncional",
          "Operador Multifuncional",
          "Operador Multifuncional",
          "Operador Multifuncional",
          "Operador Multifuncional",
          "Operador Multifuncional",
          "Operador Multifuncional",
          "Operador Multifuncional",
          "Operador Multifuncional",
          "Operador Multifuncional",
          "Operador Multifuncional",
          "Operador Manufatura II",
          "Conferente Expedição I",
          "Operador Expedição",
          "Conferente Almoxarifado",
          "Conferente Almoxarifado",
          "Operador Manufatura I",
          "Operador Manufatura II",
          "Operador Manufatura II",
          "Operador Empilhadeira",
          "Apontador Produção II",
          "Apontador Produção II",
          "Apontador Produção II",
          "Facilitador",
          "Operador Manufatura I",
          "Operador Manufatura I",
          "Operador Manufatura I",
          "Assistente Distribuição",
          "Assistente Distribuição",
          "Assistente Distribuição",
          "Assistente Distribuição",
          "Assistente Distribuição",
          "Operador Manufatura I",
          "Operador Empilhadeira",
          "Operador Empilhadeira",
          "Operador Empilhadeira",
          "Operador Empilhadeira",
          "Preparador/Trocador De Fe",
          "Preparador/Trocador De Fe",
          "Operador Manufatura II",
          "Operador Manufatura I",
          "Operador Manufatura I",
          "Operador Manufatura I",
          "Operador Carro Elétrico",
          "Operador Carro Elétrico",
          "Operador Carro Elétrico",
          "Ferramenteiro III",
          "Assistente Distribuição",
          "Operador Manufatura I",
          "Operador Manufatura I",
          "Conferente Expedição I",
          "Conferente Expedição I",
          "Conferente Expedição I",
          "Conferente Expedição I",
          "Conferente Expedição I",
          "Conferente Expedição I",
          "Conferente Expedição I",
          "Conferente Expedição I",
          "Conferente Expedição I",
          "Operador Manufatura I",
          "Operador Manufatura I",
          "Operador Manufatura I",
          "Operador Manufatura I",
          "Operador Manufatura I",
          "Operador Manufatura I",
          "Operador Manufatura I",
          "Operador Manufatura I",
          "Operador Manufatura I",
          "Operador Manufatura I",
          "Ferramenteiro II",
          "Ferramenteiro II",
          "Operador Carregamento",
          "Operador Manufatura I",
          "Operador Manufatura I",
          "Operador Manufatura I",
          "Operador Expedição",
          "Operador Expedição",
          "Operador Expedição",
          "Operador Manufatura II",
          "Conferente Expedição I",
          "Operador Manufatura I",
          "Assistente Distribuição",
          "Operador Manufatura I",
          "Operador Manufatura I",
          "Operador Manufatura I",
          "Operador Manufatura I",
          "Operador Manufatura I",
          "Operador Manufatura I",
          "Operador Manufatura I",
          "Operador Manufatura I",
          "Operador Manufatura I",
          "Operador Manufatura I",
          "Operador Manufatura I",
          "Operador Manufatura I",
          "Operador Empilhadeira",
          "Operador Empilhadeira",
          "Operador Manufatura I",
          "Conferente Expedição I",
          "Assistente Distribuição",
          "Operador Carregamento",
          "Operador Manufatura I",
          "Operador Manufatura II",
          "Assistente Distribuição",
          "Assistente Distribuição",
          "Operador Carregamento",
          "Operador Carregamento",
          "Operador Carregamento",
          "Operador Carregamento",
          "Mecânico Manutenção I",
          "Mecânico Manutenção I",
          "Mecânico Manutenção I",
          "Mecânico Manutenção I",
          "Operador Manufatura I",
          "Operador Empilhadeira",
          "Operador Manufatura II",
          "Operador Manufatura I",
          "Operador Manufatura I",
          "Operador Manufatura I",
          "Operador Manufatura I",
          "Operador Manufatura I",
          "Operador Manufatura I",
          "Preparador Matéria Prima",
          "Operador Manufatura I",
          "Operador Empilhadeira",
          "Operador Manufatura I",
          "Operador Manufatura I",
          "Operador Manufatura I",
          "Operador Manufatura I",
          "Operador Manufatura I",
          "Operador Manufatura I",
          "Operador Manufatura I",
          "Operador Manufatura I",
          "Operador Manufatura I",
          "Operador Manufatura I",
          "Operador Manufatura I",
          "Operador Manufatura I",
          "Operador Manufatura I",
          "Operador Manufatura I",
          "Operador Manufatura I",
          "Conferente Expedição I",
          "Conferente Expedição I",
          "Conferente Expedição I",
          "Conferente Expedição I",
          "Conferente Expedição I",
          "Operador Manufatura I",
          "Operador Manufatura I",
          "Operador Manufatura I",
          "Operador Manufatura I",
          "Operador Manufatura I",
          "Operador Manufatura I",
          "Operador Manufatura I",
          "Operador Manufatura I",
          "Operador Manufatura I",
          "Operador Manufatura I",
          "Preparador Matéria Prima",
          "Preparador Matéria Prima",
          "Operador Manufatura I",
          "Operador Manufatura I",
          "Operador Multifuncional",
          "Operador Multifuncional",
          "Operador Multifuncional",
          "Operador Manufatura I",
          "Conferente Expedição I",
          "Conferente Expedição I",
          "Operador Manufatura I",
          "Operador Carregamento",
          "Operador Multifuncional",
          "Operador Multifuncional",
          "Operador Multifuncional",
          "Operador Multifuncional",
          "Operador Multifuncional",
          "Operador Multifuncional",
          "Operador Multifuncional",
          "Operador Manufatura I",
          "Operador Manufatura I",
          "Eletricista Manutenção I",
          "Eletricista Manutenção I",
          "Operador Manufatura I",
          "Operador Manufatura I",
          "Operador Manufatura I",
          "Operador Manufatura I",
          "Operador Manufatura I",
          "Operador Manufatura I",
          "Operador Manufatura I",
          "Operador Manufatura I",
          "Operador Manufatura I",
          "Operador Manufatura I",
          "Operador Manufatura II",
          "Operador Manufatura II",
          "Operador Manufatura I",
          "Operador Manufatura I",
          "Operador Manufatura I",
          "Operador Manufatura I",
          "Operador Manufatura I",
          "Operador Manufatura I",
          "Operador Manufatura I",
          "Operador Expedição",
          "Conferente Expedição I",
          "Conferente Expedição I",
          "Conferente Expedição I",
          "Conferente Expedição I",
          "Operador Manufatura I",
          "Operador Manufatura I",
          "Conferente Expedição I",
          "Conferente Expedição I",
          "Operador Manufatura I",
          "Operador Manufatura I",
          "Operador Manufatura I",
          "Operador Manufatura I",
          "Operador Manufatura I",
          "Operador Manufatura I",
          "Operador Manufatura I",
          "Operador Manufatura I",
          "Operador Manufatura I",
          "Operador Manufatura I",
          "Operador Manufatura I",
          "Operador Expedição",
          "Operador Expedição",
          "Operador Expedição",
          "Operador Expedição",
          "Operador Expedição",
          "Operador Empilhadeira",
          "Operador Manufatura I",
          "Operador Manufatura I",
          "Operador Manufatura I",
          "Operador Manufatura I",
          "Operador Manufatura I",
          "Operador Manufatura I",
          "Operador Manufatura I",
          "Operador Manufatura I",
          "Operador Manufatura I",
          "Operador Manufatura I",
          "Operador Expedição",
          "Conferente Expedição I",
          "Operador Expedição",
          "Operador Expedição",
          "Operador Expedição",
          "Operador Expedição",
          "Operador Expedição",
          "Operador Manufatura I",
          "Operador Manufatura I",
          "Preparador Matéria Prima",
          "Preparador Matéria Prima",
          "Preparador Matéria Prima",
          "Preparador Matéria Prima",
          "Operador Manufatura I",
          "Operador Manufatura I",
          "Operador Manufatura I",
          "Ferramenteiro I",
          "Ferramenteiro I",
          "Inspetor Qualidade I",
          "Inspetor Qualidade I",
          "Inspetor Qualidade I",
          "Conferente Expedição I",
          "Operador Manufatura I",
          "Operador Manufatura I",
          "Operador Manufatura I",
          "Operador Manufatura I",
          "Operador Manufatura I",
          "Operador Manufatura I",
          "Operador Manufatura I",
          "Operador Manufatura I",
          "Operador Manufatura I",
          "Operador Expedição",
          "Operador Expedição",
          "Conferente Expedição I",
          "Operador Expedição",
          "Operador Expedição",
          "Operador Expedição",
          "Operador Expedição",
          "Operador Expedição",
          "Operador Manufatura I",
          "Operador Manufatura I",
          "Operador Manufatura I",
          "Operador Manufatura I",
          "Operador Manufatura I",
          "Operador Manufatura I",
          "Operador Manufatura I",
          "Operador Manufatura I",
          "Operador Expedição",
          "Operador Expedição",
          "Operador Manufatura I",
          "Operador Manufatura I",
          "Operador Expedição",
          "Operador Expedição",
          "Operador Manufatura I",
          "Operador Manufatura I",
          "Operador Manufatura I",
          "Operador Manufatura I",
          "Operador Manufatura I",
          "Operador Manufatura I",
          "Operador Manufatura I",
          "Operador Manufatura I",
          "Operador Manufatura I",
          "Operador Manufatura I",
          "Operador Manufatura I",
          "Operador Manufatura I",
          "Operador Expedição",
          "Operador Expedição",
          "Operador Manufatura I",
          "Operador Manufatura I",
          "Operador Manufatura I",
          "Operador Manufatura I",
          "Operador Manufatura I",
          "Operador Manufatura I",
          "Operador Expedição",
          "Operador Manufatura I",
          "Operador Manufatura I",
          "Operador Manufatura I",
          "Operador Manufatura I",
          "Operador Manufatura I",
          "Operador Manufatura I",
          "Operador Manufatura I",
          "Operador Manufatura I",
          "Operador Manufatura I",
          "Operador Manufatura I",
          "Operador Manufatura I",
          "Operador Manufatura I",
          "Operador Manufatura I",
          "Operador Manufatura I",
          "Operador Manufatura I",
          "Operador Manufatura I",
          "Operador Manufatura I",
          "Operador Manufatura I",
          "Operador Manufatura I",
          "Operador Manufatura I",
          "Operador Manufatura I",
          "Operador Expedição",
          "Operador Expedição",
          "Operador Manufatura I",
          "Operador Manufatura I",
          "Operador Expedição",
          "Operador Expedição",
          "Operador Manufatura I",
          "Operador Manufatura I",
          "Operador Manufatura I",
          "Operador Manufatura I",
          "Operador Manufatura I",
          "Operador Manufatura I",
          "Operador Manufatura I",
          "Operador Manufatura I",
          "Operador Manufatura I",
          "Operador Manufatura I",
          "Operador Manufatura I",
          "Operador Manufatura I",
          "Operador Manufatura I",
          "Operador Manufatura I",
          "Operador Manufatura I",
          "Operador Manufatura I",
          "Operador Manufatura I",
          "Operador Manufatura I",
          "Operador Expedição",
          "Operador Manufatura I",
          "Operador Manufatura I",
          "Operador Manufatura I",
          "Operador Manufatura I",
          "Operador Manufatura I",
          "Operador Manufatura I"
         ]
        },
        {
         "hovertemplate": "color=-1<br>Tempo de Dispensa (dias)=%{x}<br>Tempo de Entrega=%{y}<br>Area de atuacao [Funcionario]=%{z}<extra></extra>",
         "legendgroup": "-1",
         "marker": {
          "color": "#EF553B",
          "size": 3,
          "symbol": "circle"
         },
         "mode": "markers",
         "name": "-1",
         "scene": "scene",
         "showlegend": true,
         "type": "scatter3d",
         "x": [
          13,
          0,
          50.1,
          1.3,
          6.7,
          6.7,
          0,
          10.7,
          1.2,
          5.8,
          0.6,
          0,
          13.4,
          4,
          0,
          2.1,
          4.2,
          13,
          52,
          11.9,
          4,
          165.9,
          0.2,
          4.3,
          87.2,
          62,
          1.2,
          7.2,
          4,
          1.2,
          5.2,
          89.3,
          4.8,
          0.7,
          79.8,
          1.3,
          1.2,
          1,
          13.8,
          47.8,
          1,
          40.4,
          6.7,
          71,
          0,
          4,
          4.8,
          61.8,
          9.4,
          0,
          95.2,
          6.7,
          33.4,
          10.7,
          11.9,
          6.7,
          5.4
         ],
         "y": [
          11,
          -14,
          49,
          21,
          18,
          -6,
          15,
          12,
          20,
          14,
          15,
          -8,
          19,
          25,
          20,
          15,
          23,
          14,
          58,
          16,
          16,
          194,
          24,
          15,
          107,
          63,
          20,
          11,
          17,
          18,
          12,
          103,
          13,
          20,
          86,
          20,
          20,
          16,
          18,
          62,
          16,
          50,
          11,
          69,
          -13,
          18,
          14,
          85,
          -3,
          -12,
          97,
          -5,
          39,
          9,
          16,
          12,
          17
         ],
         "z": [
          "Inspetor Qualidade III",
          "Mecânico Manutenção III",
          "Técnico Processos",
          "Preparador Matéria Prima",
          "Preparador Matéria Prima",
          "Preparador Matéria Prima",
          "Operador Empilhadeira",
          "Operador Empilhadeira",
          "Preparador/Trocador De Fe",
          "Conferente Almoxarifado",
          "Conferente Expedição I",
          "Inspetor Qualidade I",
          "Operador Empilhadeira",
          "Operador Empilhadeira",
          "Operador Empilhadeira",
          "Operador Manufatura III",
          "Operador Manufatura III",
          "Técnico Mecânico",
          "Operador Manufatura II",
          "Operador Manufatura II",
          "Operador Manufatura III",
          "Operador Manufatura I",
          "Operador Empilhadeira",
          "Mecânico Manutenção I",
          "Operador Manufatura II",
          "Operador Manufatura III",
          "Inspetor Qualidade I",
          "Ferramenteiro I",
          "Operador Manufatura I",
          "Operador Manufatura I",
          "Operador Manufatura II",
          "Operador Manufatura I",
          "Preparador Matéria Prima",
          "Operador Empilhadeira",
          "Assistente Distribuição",
          "Conferente Expedição I",
          "Operador Multifuncional",
          "Operador Manufatura I",
          "Operador Manufatura I",
          "Operador Manufatura I",
          "Operador Manufatura II",
          "Operador Manufatura I",
          "Operador Manufatura I",
          "Operador Manufatura I",
          "Operador Carregamento",
          "Operador Manufatura I",
          "Preparador Matéria Prima",
          "Operador Manufatura I",
          "Operador Manufatura I",
          "Operador Manufatura I",
          "Preparador Matéria Prima",
          "Inspetor Qualidade I",
          "Operador Manufatura I",
          "Operador Manufatura I",
          "Operador Manufatura I",
          "Operador Manufatura I",
          "Operador Manufatura I"
         ]
        }
       ],
       "layout": {
        "coloraxis": {
         "colorbar": {
          "ticks": "outside",
          "x": 0,
          "y": 1,
          "yanchor": "top"
         }
        },
        "height": 800,
        "legend": {
         "title": {
          "text": "color"
         },
         "tracegroupgap": 0
        },
        "margin": {
         "t": 60
        },
        "scene": {
         "aspectratio": {
          "x": 0.85,
          "y": 0.85,
          "z": 1.3
         },
         "domain": {
          "x": [
           0,
           1
          ],
          "y": [
           0,
           1
          ]
         },
         "xaxis": {
          "title": {
           "text": "Tempo de Dispensa (dias)"
          }
         },
         "yaxis": {
          "title": {
           "text": "Tempo de Entrega"
          }
         },
         "zaxis": {
          "title": {
           "text": "Area de atuacao [Funcionario]"
          }
         }
        },
        "showlegend": false,
        "template": {
         "data": {
          "bar": [
           {
            "error_x": {
             "color": "#2a3f5f"
            },
            "error_y": {
             "color": "#2a3f5f"
            },
            "marker": {
             "line": {
              "color": "#E5ECF6",
              "width": 0.5
             },
             "pattern": {
              "fillmode": "overlay",
              "size": 10,
              "solidity": 0.2
             }
            },
            "type": "bar"
           }
          ],
          "barpolar": [
           {
            "marker": {
             "line": {
              "color": "#E5ECF6",
              "width": 0.5
             },
             "pattern": {
              "fillmode": "overlay",
              "size": 10,
              "solidity": 0.2
             }
            },
            "type": "barpolar"
           }
          ],
          "carpet": [
           {
            "aaxis": {
             "endlinecolor": "#2a3f5f",
             "gridcolor": "white",
             "linecolor": "white",
             "minorgridcolor": "white",
             "startlinecolor": "#2a3f5f"
            },
            "baxis": {
             "endlinecolor": "#2a3f5f",
             "gridcolor": "white",
             "linecolor": "white",
             "minorgridcolor": "white",
             "startlinecolor": "#2a3f5f"
            },
            "type": "carpet"
           }
          ],
          "choropleth": [
           {
            "colorbar": {
             "outlinewidth": 0,
             "ticks": ""
            },
            "type": "choropleth"
           }
          ],
          "contour": [
           {
            "colorbar": {
             "outlinewidth": 0,
             "ticks": ""
            },
            "colorscale": [
             [
              0,
              "#0d0887"
             ],
             [
              0.1111111111111111,
              "#46039f"
             ],
             [
              0.2222222222222222,
              "#7201a8"
             ],
             [
              0.3333333333333333,
              "#9c179e"
             ],
             [
              0.4444444444444444,
              "#bd3786"
             ],
             [
              0.5555555555555556,
              "#d8576b"
             ],
             [
              0.6666666666666666,
              "#ed7953"
             ],
             [
              0.7777777777777778,
              "#fb9f3a"
             ],
             [
              0.8888888888888888,
              "#fdca26"
             ],
             [
              1,
              "#f0f921"
             ]
            ],
            "type": "contour"
           }
          ],
          "contourcarpet": [
           {
            "colorbar": {
             "outlinewidth": 0,
             "ticks": ""
            },
            "type": "contourcarpet"
           }
          ],
          "heatmap": [
           {
            "colorbar": {
             "outlinewidth": 0,
             "ticks": ""
            },
            "colorscale": [
             [
              0,
              "#0d0887"
             ],
             [
              0.1111111111111111,
              "#46039f"
             ],
             [
              0.2222222222222222,
              "#7201a8"
             ],
             [
              0.3333333333333333,
              "#9c179e"
             ],
             [
              0.4444444444444444,
              "#bd3786"
             ],
             [
              0.5555555555555556,
              "#d8576b"
             ],
             [
              0.6666666666666666,
              "#ed7953"
             ],
             [
              0.7777777777777778,
              "#fb9f3a"
             ],
             [
              0.8888888888888888,
              "#fdca26"
             ],
             [
              1,
              "#f0f921"
             ]
            ],
            "type": "heatmap"
           }
          ],
          "heatmapgl": [
           {
            "colorbar": {
             "outlinewidth": 0,
             "ticks": ""
            },
            "colorscale": [
             [
              0,
              "#0d0887"
             ],
             [
              0.1111111111111111,
              "#46039f"
             ],
             [
              0.2222222222222222,
              "#7201a8"
             ],
             [
              0.3333333333333333,
              "#9c179e"
             ],
             [
              0.4444444444444444,
              "#bd3786"
             ],
             [
              0.5555555555555556,
              "#d8576b"
             ],
             [
              0.6666666666666666,
              "#ed7953"
             ],
             [
              0.7777777777777778,
              "#fb9f3a"
             ],
             [
              0.8888888888888888,
              "#fdca26"
             ],
             [
              1,
              "#f0f921"
             ]
            ],
            "type": "heatmapgl"
           }
          ],
          "histogram": [
           {
            "marker": {
             "pattern": {
              "fillmode": "overlay",
              "size": 10,
              "solidity": 0.2
             }
            },
            "type": "histogram"
           }
          ],
          "histogram2d": [
           {
            "colorbar": {
             "outlinewidth": 0,
             "ticks": ""
            },
            "colorscale": [
             [
              0,
              "#0d0887"
             ],
             [
              0.1111111111111111,
              "#46039f"
             ],
             [
              0.2222222222222222,
              "#7201a8"
             ],
             [
              0.3333333333333333,
              "#9c179e"
             ],
             [
              0.4444444444444444,
              "#bd3786"
             ],
             [
              0.5555555555555556,
              "#d8576b"
             ],
             [
              0.6666666666666666,
              "#ed7953"
             ],
             [
              0.7777777777777778,
              "#fb9f3a"
             ],
             [
              0.8888888888888888,
              "#fdca26"
             ],
             [
              1,
              "#f0f921"
             ]
            ],
            "type": "histogram2d"
           }
          ],
          "histogram2dcontour": [
           {
            "colorbar": {
             "outlinewidth": 0,
             "ticks": ""
            },
            "colorscale": [
             [
              0,
              "#0d0887"
             ],
             [
              0.1111111111111111,
              "#46039f"
             ],
             [
              0.2222222222222222,
              "#7201a8"
             ],
             [
              0.3333333333333333,
              "#9c179e"
             ],
             [
              0.4444444444444444,
              "#bd3786"
             ],
             [
              0.5555555555555556,
              "#d8576b"
             ],
             [
              0.6666666666666666,
              "#ed7953"
             ],
             [
              0.7777777777777778,
              "#fb9f3a"
             ],
             [
              0.8888888888888888,
              "#fdca26"
             ],
             [
              1,
              "#f0f921"
             ]
            ],
            "type": "histogram2dcontour"
           }
          ],
          "mesh3d": [
           {
            "colorbar": {
             "outlinewidth": 0,
             "ticks": ""
            },
            "type": "mesh3d"
           }
          ],
          "parcoords": [
           {
            "line": {
             "colorbar": {
              "outlinewidth": 0,
              "ticks": ""
             }
            },
            "type": "parcoords"
           }
          ],
          "pie": [
           {
            "automargin": true,
            "type": "pie"
           }
          ],
          "scatter": [
           {
            "marker": {
             "colorbar": {
              "outlinewidth": 0,
              "ticks": ""
             }
            },
            "type": "scatter"
           }
          ],
          "scatter3d": [
           {
            "line": {
             "colorbar": {
              "outlinewidth": 0,
              "ticks": ""
             }
            },
            "marker": {
             "colorbar": {
              "outlinewidth": 0,
              "ticks": ""
             }
            },
            "type": "scatter3d"
           }
          ],
          "scattercarpet": [
           {
            "marker": {
             "colorbar": {
              "outlinewidth": 0,
              "ticks": ""
             }
            },
            "type": "scattercarpet"
           }
          ],
          "scattergeo": [
           {
            "marker": {
             "colorbar": {
              "outlinewidth": 0,
              "ticks": ""
             }
            },
            "type": "scattergeo"
           }
          ],
          "scattergl": [
           {
            "marker": {
             "colorbar": {
              "outlinewidth": 0,
              "ticks": ""
             }
            },
            "type": "scattergl"
           }
          ],
          "scattermapbox": [
           {
            "marker": {
             "colorbar": {
              "outlinewidth": 0,
              "ticks": ""
             }
            },
            "type": "scattermapbox"
           }
          ],
          "scatterpolar": [
           {
            "marker": {
             "colorbar": {
              "outlinewidth": 0,
              "ticks": ""
             }
            },
            "type": "scatterpolar"
           }
          ],
          "scatterpolargl": [
           {
            "marker": {
             "colorbar": {
              "outlinewidth": 0,
              "ticks": ""
             }
            },
            "type": "scatterpolargl"
           }
          ],
          "scatterternary": [
           {
            "marker": {
             "colorbar": {
              "outlinewidth": 0,
              "ticks": ""
             }
            },
            "type": "scatterternary"
           }
          ],
          "surface": [
           {
            "colorbar": {
             "outlinewidth": 0,
             "ticks": ""
            },
            "colorscale": [
             [
              0,
              "#0d0887"
             ],
             [
              0.1111111111111111,
              "#46039f"
             ],
             [
              0.2222222222222222,
              "#7201a8"
             ],
             [
              0.3333333333333333,
              "#9c179e"
             ],
             [
              0.4444444444444444,
              "#bd3786"
             ],
             [
              0.5555555555555556,
              "#d8576b"
             ],
             [
              0.6666666666666666,
              "#ed7953"
             ],
             [
              0.7777777777777778,
              "#fb9f3a"
             ],
             [
              0.8888888888888888,
              "#fdca26"
             ],
             [
              1,
              "#f0f921"
             ]
            ],
            "type": "surface"
           }
          ],
          "table": [
           {
            "cells": {
             "fill": {
              "color": "#EBF0F8"
             },
             "line": {
              "color": "white"
             }
            },
            "header": {
             "fill": {
              "color": "#C8D4E3"
             },
             "line": {
              "color": "white"
             }
            },
            "type": "table"
           }
          ]
         },
         "layout": {
          "annotationdefaults": {
           "arrowcolor": "#2a3f5f",
           "arrowhead": 0,
           "arrowwidth": 1
          },
          "autotypenumbers": "strict",
          "coloraxis": {
           "colorbar": {
            "outlinewidth": 0,
            "ticks": ""
           }
          },
          "colorscale": {
           "diverging": [
            [
             0,
             "#8e0152"
            ],
            [
             0.1,
             "#c51b7d"
            ],
            [
             0.2,
             "#de77ae"
            ],
            [
             0.3,
             "#f1b6da"
            ],
            [
             0.4,
             "#fde0ef"
            ],
            [
             0.5,
             "#f7f7f7"
            ],
            [
             0.6,
             "#e6f5d0"
            ],
            [
             0.7,
             "#b8e186"
            ],
            [
             0.8,
             "#7fbc41"
            ],
            [
             0.9,
             "#4d9221"
            ],
            [
             1,
             "#276419"
            ]
           ],
           "sequential": [
            [
             0,
             "#0d0887"
            ],
            [
             0.1111111111111111,
             "#46039f"
            ],
            [
             0.2222222222222222,
             "#7201a8"
            ],
            [
             0.3333333333333333,
             "#9c179e"
            ],
            [
             0.4444444444444444,
             "#bd3786"
            ],
            [
             0.5555555555555556,
             "#d8576b"
            ],
            [
             0.6666666666666666,
             "#ed7953"
            ],
            [
             0.7777777777777778,
             "#fb9f3a"
            ],
            [
             0.8888888888888888,
             "#fdca26"
            ],
            [
             1,
             "#f0f921"
            ]
           ],
           "sequentialminus": [
            [
             0,
             "#0d0887"
            ],
            [
             0.1111111111111111,
             "#46039f"
            ],
            [
             0.2222222222222222,
             "#7201a8"
            ],
            [
             0.3333333333333333,
             "#9c179e"
            ],
            [
             0.4444444444444444,
             "#bd3786"
            ],
            [
             0.5555555555555556,
             "#d8576b"
            ],
            [
             0.6666666666666666,
             "#ed7953"
            ],
            [
             0.7777777777777778,
             "#fb9f3a"
            ],
            [
             0.8888888888888888,
             "#fdca26"
            ],
            [
             1,
             "#f0f921"
            ]
           ]
          },
          "colorway": [
           "#636efa",
           "#EF553B",
           "#00cc96",
           "#ab63fa",
           "#FFA15A",
           "#19d3f3",
           "#FF6692",
           "#B6E880",
           "#FF97FF",
           "#FECB52"
          ],
          "font": {
           "color": "#2a3f5f"
          },
          "geo": {
           "bgcolor": "white",
           "lakecolor": "white",
           "landcolor": "#E5ECF6",
           "showlakes": true,
           "showland": true,
           "subunitcolor": "white"
          },
          "hoverlabel": {
           "align": "left"
          },
          "hovermode": "closest",
          "mapbox": {
           "style": "light"
          },
          "paper_bgcolor": "white",
          "plot_bgcolor": "#E5ECF6",
          "polar": {
           "angularaxis": {
            "gridcolor": "white",
            "linecolor": "white",
            "ticks": ""
           },
           "bgcolor": "#E5ECF6",
           "radialaxis": {
            "gridcolor": "white",
            "linecolor": "white",
            "ticks": ""
           }
          },
          "scene": {
           "xaxis": {
            "backgroundcolor": "#E5ECF6",
            "gridcolor": "white",
            "gridwidth": 2,
            "linecolor": "white",
            "showbackground": true,
            "ticks": "",
            "zerolinecolor": "white"
           },
           "yaxis": {
            "backgroundcolor": "#E5ECF6",
            "gridcolor": "white",
            "gridwidth": 2,
            "linecolor": "white",
            "showbackground": true,
            "ticks": "",
            "zerolinecolor": "white"
           },
           "zaxis": {
            "backgroundcolor": "#E5ECF6",
            "gridcolor": "white",
            "gridwidth": 2,
            "linecolor": "white",
            "showbackground": true,
            "ticks": "",
            "zerolinecolor": "white"
           }
          },
          "shapedefaults": {
           "line": {
            "color": "#2a3f5f"
           }
          },
          "ternary": {
           "aaxis": {
            "gridcolor": "white",
            "linecolor": "white",
            "ticks": ""
           },
           "baxis": {
            "gridcolor": "white",
            "linecolor": "white",
            "ticks": ""
           },
           "bgcolor": "#E5ECF6",
           "caxis": {
            "gridcolor": "white",
            "linecolor": "white",
            "ticks": ""
           }
          },
          "title": {
           "x": 0.05
          },
          "xaxis": {
           "automargin": true,
           "gridcolor": "white",
           "linecolor": "white",
           "ticks": "",
           "title": {
            "standoff": 15
           },
           "zerolinecolor": "white",
           "zerolinewidth": 2
          },
          "yaxis": {
           "automargin": true,
           "gridcolor": "white",
           "linecolor": "white",
           "ticks": "",
           "title": {
            "standoff": 15
           },
           "zerolinecolor": "white",
           "zerolinewidth": 2
          }
         }
        },
        "title": {
         "text": "DBscan",
         "x": 0.5
        },
        "width": 1000
       }
      }
     },
     "metadata": {},
     "output_type": "display_data"
    },
    {
     "data": {
      "application/vnd.plotly.v1+json": {
       "config": {
        "plotlyServerURL": "https://plot.ly"
       },
       "data": [
        {
         "hovertemplate": "color=1<br>Tempo de Dispensa (dias)=%{x}<br>Tempo de Entrega=%{y}<br>Area de atuacao [Funcionario]=%{z}<extra></extra>",
         "legendgroup": "1",
         "marker": {
          "color": "#636efa",
          "size": 3,
          "symbol": "circle"
         },
         "mode": "markers",
         "name": "1",
         "scene": "scene",
         "showlegend": true,
         "type": "scatter3d",
         "x": [
          3.1,
          3.6,
          10.1,
          4.3,
          3.6,
          1.2,
          0.6,
          1.2,
          0.3,
          1,
          1,
          2.1,
          12.8,
          6.7,
          1.3,
          14.8,
          4.3,
          1.2,
          1.2,
          13.8,
          1.4,
          2.9,
          2.9,
          5.8,
          1.3,
          15.9,
          10.7,
          0.7,
          6.4,
          1,
          4,
          6.7,
          6.7,
          1.3,
          6.7,
          0,
          10.7,
          0.8,
          1.2,
          1.2,
          10.7,
          4,
          4,
          1.2,
          2.4,
          4.8,
          0.5,
          4.3,
          7.2,
          0.5,
          7.2,
          5.8,
          4.2,
          2.1,
          0.6,
          1.3,
          5.4,
          1.4,
          13,
          11.6,
          0.9,
          0.6,
          0.5,
          1.4,
          14.5,
          0.2,
          0.9,
          3.1,
          1,
          1.2,
          2.2,
          1.4,
          1.4,
          15.9,
          0,
          2.9,
          0.3,
          0.3,
          0.7,
          1,
          13.8,
          1,
          1,
          12.8,
          1.2,
          2.4,
          3.6,
          0.5,
          5.4,
          5.4,
          1.2,
          2.4,
          1.3,
          5.4,
          4,
          3.3,
          3.3,
          2.1,
          2.9,
          4.3,
          1.2,
          6,
          1.2,
          4.8,
          3.6,
          0.9,
          0.5,
          1.2,
          1.2,
          0.8,
          6.4,
          3.6,
          1.4,
          1.3,
          15.9,
          1.3,
          4.3,
          4.3,
          0.9,
          1.3,
          2.1,
          0.4,
          3.6,
          2.9,
          1.4,
          7.2,
          2.9,
          4.3,
          5.8,
          0.4,
          0.4,
          0.9,
          1.4,
          2.1,
          5.3,
          3.1,
          4.3,
          15.9,
          1.4,
          1.3,
          1.3,
          3.1,
          5.3,
          5.4,
          4,
          15.5,
          5.2,
          4,
          3.1,
          3.1,
          3.3,
          1.3,
          1.3,
          3.1,
          1,
          9.5,
          0.3,
          0.8,
          1.1,
          4.3,
          5.8,
          0,
          8.4,
          2.7,
          6.3,
          0,
          1.2,
          11.6,
          4.3,
          1,
          0.9,
          2.9,
          8.7,
          1.4,
          3.3,
          9.5,
          1,
          4.2,
          2.4,
          7.2,
          0.5,
          3.1,
          4.8,
          6.4,
          4,
          2.7,
          1.3,
          0.2,
          0.3,
          0.2,
          0.4,
          4.2,
          7.3,
          3.6,
          7.2,
          0.9,
          5.8,
          4.3,
          2.9,
          5.2,
          4,
          14.3,
          5.4,
          8.7,
          0.4,
          1.4,
          1.4,
          0.7,
          0.5,
          0.4,
          0.7,
          0.5,
          2.1,
          3.1,
          2.1,
          2.9,
          3.1,
          6.3,
          4.3,
          2.9,
          4.3,
          0.7,
          4.2,
          4.2,
          8.4,
          3.6,
          1.4,
          1,
          13.8,
          3.1,
          1,
          5.4,
          1.3,
          4.2,
          4.3,
          2.1,
          13.1,
          11.6,
          1.4,
          4.3,
          1.4,
          4.3,
          5.8,
          1.4,
          1.3,
          1,
          2.1,
          1.3,
          1.3,
          7.2,
          8.4,
          4,
          1,
          5.3,
          3.1,
          3.1,
          6.4,
          5.2,
          4.8,
          6,
          1.2,
          14.3,
          5.4,
          1.3,
          5.4,
          1.3,
          3.1,
          1.3,
          1,
          1.2,
          1,
          4.8,
          7.2,
          0,
          14.3,
          0.9,
          0.5,
          4.3,
          1.4,
          7.2,
          5.8,
          4.3,
          0.9,
          6.3,
          2.1,
          3.1,
          4.2,
          3.6,
          2.4,
          6,
          1,
          4,
          16.1,
          4,
          5.4,
          4,
          1.3,
          2.7,
          1.2,
          5.2,
          4.3,
          3.1,
          1.3,
          1.3,
          2.4,
          4.8,
          10.7,
          0.5,
          0.7,
          1.2,
          5.2,
          1.3,
          9.5,
          1,
          1,
          10.4,
          1,
          3.6,
          4.8,
          1.3,
          8.7,
          0.5,
          1.3,
          1.3,
          1.3,
          4,
          4,
          1.3,
          1.3,
          1.3,
          1,
          3.1,
          12.5,
          1.3,
          1.3,
          8,
          2.7,
          3.3,
          3.1,
          3.1,
          3.3,
          2.1,
          1.4,
          1.4,
          3.1,
          4,
          2.7,
          5.4,
          5.4,
          2.9,
          1.4,
          4.3,
          0.8,
          1.3,
          1,
          2.4,
          2.4,
          1,
          5.2,
          1.3,
          2.7,
          2.7,
          2.7,
          1.3,
          0.9,
          1.2,
          3.3,
          0,
          5.3,
          3.1,
          1,
          1,
          1,
          1.3,
          1.3,
          6.7,
          0.7,
          4,
          1.3,
          2.4,
          1.2,
          1.2,
          4.8,
          4.8,
          0.5,
          9.5,
          0,
          2.4,
          2.4,
          4.2,
          4.3,
          6,
          4.3,
          2.4,
          4.8,
          3.6,
          1,
          4.3,
          2.9,
          2.9,
          0,
          5.8,
          0.8,
          1.4,
          2.9,
          5.8,
          1.3,
          1,
          1,
          4.8,
          0.5,
          10.1,
          0,
          5.8,
          0.9,
          2.9,
          14.5,
          8.7,
          1.1,
          0.9,
          1.3,
          1.3,
          4,
          4,
          1.3,
          6.7,
          3.6,
          2.4,
          6,
          2.4,
          3.6,
          7.2,
          0,
          0.5,
          0.9,
          1.3,
          0.3,
          7.2,
          8,
          4.8,
          1.2,
          1.2,
          1.2,
          1.2,
          6,
          1.2,
          2.4,
          3.6,
          2.4,
          4.8,
          0.9,
          0.6,
          1.3,
          7.4,
          6.7,
          5.3,
          1.2,
          1.2,
          1.3,
          4,
          4,
          1.3,
          10.7,
          6.7,
          4,
          1.2,
          4.8,
          3.6,
          1,
          5.3,
          1.3,
          4,
          1.3,
          5.8,
          1.4,
          5.3,
          6.3,
          6.3,
          1,
          1,
          4.8,
          0.9,
          1,
          1.2,
          13.9,
          5.3,
          6.7,
          11.5,
          6.7,
          4,
          6.7,
          2.9,
          0.5,
          1,
          4,
          4.8,
          0.7,
          4.8,
          0.8,
          5.8,
          1.4,
          1.4,
          0,
          0.9,
          1.2,
          4.3,
          1,
          1,
          1.2,
          2.1,
          1,
          13.8,
          4.3,
          7.4,
          1.4,
          8.7,
          4.8,
          1.3,
          1.2,
          4.8,
          4,
          6.7,
          0.7,
          1.3,
          1.3,
          15.9,
          1.4,
          12.1,
          6.7,
          1.3,
          1.3,
          1.3,
          6.7,
          0.5,
          10.1,
          7.2,
          15.9,
          14.5,
          0.9,
          1,
          1.2,
          1.2,
          0.9,
          10.7,
          16.1,
          1.2,
          2.4,
          2.1,
          5.3,
          2.4,
          2.4,
          0.7,
          0.7,
          1.4,
          4.3,
          2.9,
          0.7,
          3.6,
          1.4,
          1,
          4,
          5.4,
          2.7,
          2.7,
          4.3,
          1.4,
          4.8,
          4.8,
          0.6,
          6,
          0.7,
          8.4,
          1,
          1,
          2.4,
          1.2,
          0.8,
          4.3,
          3.1,
          4.3,
          1,
          4.3,
          4.3,
          1.2,
          6,
          6,
          1.2,
          3.6,
          7.2,
          1.2,
          1.2,
          4,
          9.4,
          0,
          1.2,
          4.8,
          3.1,
          3.1,
          4.2,
          1.2,
          14.3,
          3.1,
          5.3,
          3.6,
          8.4,
          0.8,
          3.1,
          1.2,
          1.2,
          3.6,
          1,
          1,
          13.8,
          2.1,
          4.2,
          3.3,
          1,
          0.5,
          0.5,
          8,
          2.1,
          6.4,
          3.3,
          3.1,
          3.3,
          6.7,
          1.3,
          9.4,
          0.5,
          5.8,
          13,
          6,
          0.7,
          2.1,
          5.2,
          1.2,
          1.4,
          9.4,
          1,
          2.7,
          2.2,
          1,
          1.2,
          1,
          6.4,
          1,
          4.3,
          14.8,
          1.2,
          2.4,
          0.3,
          6,
          1,
          3.1,
          3.1,
          2.1,
          5.3,
          1.2,
          2.7,
          5.4,
          4,
          2.9,
          3.6,
          1.2,
          0.7,
          15.5,
          3.6,
          3.6,
          1.2,
          1.2,
          0.9,
          1.3,
          6.7,
          2.7,
          1.2,
          3.6,
          0.9,
          0,
          1.3,
          1,
          1,
          1.2,
          1.2,
          2.4,
          1,
          2.1,
          1,
          4,
          1.3,
          1.3,
          6.7,
          1.3,
          1.3,
          1.3,
          0.5,
          0.5,
          4,
          2.7,
          8,
          6.7,
          1.3,
          1.3,
          1.3,
          1.3,
          1.3,
          1.3,
          6.7,
          1.3,
          1.3,
          1.3,
          2.7,
          1.3,
          4,
          3.6,
          1.2,
          3.6,
          1.2,
          1.3,
          4,
          1.3,
          3.3,
          4.3,
          2.1,
          1,
          1,
          0.5,
          2.4,
          3.6,
          1,
          0.7,
          0.3,
          1.2,
          7.2,
          0.5,
          3.6,
          1.2,
          9.5,
          3.6,
          0.9,
          3.6,
          3.6,
          1.2,
          0.6,
          2.7,
          1,
          2.4,
          10.7,
          1.2,
          2.4,
          0,
          4.3,
          0,
          4,
          1.2,
          1.2,
          4,
          5.4,
          1.3,
          1.3,
          9.4,
          1,
          1,
          6.4,
          5.3,
          1,
          5.4,
          2.7,
          1.3,
          6.7,
          1.3,
          0.6,
          1.3,
          7.2,
          1.2,
          0.4,
          6.7,
          1.2,
          2.4,
          4.8,
          1.3,
          6.7,
          1.4,
          8.7,
          0.9,
          6,
          3.6,
          1.2,
          6,
          4,
          8,
          1.3,
          1.3,
          6,
          3.1,
          1,
          1,
          3.1,
          1,
          3.6,
          10.7,
          3.3,
          3.1,
          4.3,
          2.1,
          2.7,
          2.7
         ],
         "y": [
          1,
          6,
          4,
          0,
          1,
          3,
          4,
          1,
          2,
          2,
          3,
          5,
          1,
          2,
          2,
          2,
          2,
          6,
          3,
          5,
          4,
          0,
          0,
          2,
          2,
          1,
          4,
          9,
          6,
          4,
          12,
          8,
          1,
          1,
          0,
          15,
          12,
          2,
          2,
          1,
          2,
          5,
          1,
          3,
          0,
          8,
          1,
          0,
          -1,
          0,
          10,
          14,
          8,
          7,
          15,
          3,
          4,
          1,
          0,
          0,
          1,
          1,
          1,
          0,
          6,
          2,
          1,
          1,
          2,
          3,
          4,
          1,
          3,
          1,
          7,
          0,
          1,
          4,
          3,
          3,
          4,
          4,
          2,
          1,
          4,
          3,
          0,
          1,
          1,
          1,
          3,
          3,
          4,
          2,
          2,
          3,
          2,
          15,
          4,
          1,
          2,
          -1,
          2,
          1,
          1,
          0,
          2,
          3,
          5,
          2,
          1,
          2,
          4,
          9,
          1,
          4,
          3,
          1,
          4,
          2,
          4,
          7,
          3,
          1,
          3,
          1,
          0,
          0,
          10,
          3,
          1,
          1,
          1,
          9,
          1,
          2,
          4,
          2,
          4,
          5,
          2,
          2,
          1,
          6,
          3,
          4,
          2,
          16,
          3,
          3,
          7,
          4,
          4,
          5,
          2,
          0,
          1,
          3,
          2,
          1,
          1,
          6,
          4,
          2,
          1,
          6,
          3,
          3,
          4,
          3,
          1,
          0,
          6,
          11,
          0,
          -1,
          6,
          3,
          0,
          5,
          1,
          8,
          2,
          1,
          5,
          2,
          1,
          5,
          1,
          1,
          1,
          2,
          3,
          0,
          4,
          1,
          2,
          1,
          8,
          4,
          3,
          7,
          3,
          4,
          5,
          4,
          1,
          11,
          4,
          4,
          3,
          3,
          2,
          1,
          0,
          0,
          4,
          5,
          1,
          2,
          15,
          1,
          3,
          2,
          1,
          -1,
          2,
          8,
          4,
          2,
          4,
          2,
          1,
          1,
          2,
          0,
          1,
          0,
          2,
          0,
          4,
          1,
          2,
          -2,
          2,
          6,
          4,
          13,
          1,
          1,
          2,
          4,
          2,
          5,
          3,
          2,
          4,
          10,
          1,
          7,
          4,
          1,
          3,
          3,
          1,
          6,
          1,
          4,
          3,
          4,
          5,
          0,
          3,
          4,
          2,
          1,
          1,
          0,
          0,
          11,
          3,
          -1,
          1,
          1,
          4,
          2,
          5,
          6,
          4,
          4,
          2,
          17,
          1,
          2,
          0,
          -1,
          1,
          0,
          18,
          2,
          2,
          1,
          3,
          7,
          4,
          2,
          2,
          2,
          3,
          0,
          12,
          2,
          0,
          7,
          4,
          5,
          3,
          3,
          1,
          2,
          6,
          1,
          5,
          3,
          5,
          1,
          5,
          4,
          2,
          2,
          5,
          3,
          6,
          2,
          5,
          5,
          1,
          1,
          5,
          2,
          9,
          5,
          2,
          1,
          2,
          9,
          1,
          5,
          4,
          0,
          2,
          6,
          1,
          1,
          1,
          2,
          1,
          2,
          1,
          5,
          3,
          -1,
          4,
          1,
          4,
          3,
          3,
          5,
          1,
          11,
          1,
          1,
          3,
          2,
          4,
          2,
          5,
          2,
          5,
          3,
          4,
          0,
          2,
          2,
          1,
          1,
          2,
          1,
          1,
          2,
          3,
          3,
          7,
          9,
          13,
          6,
          1,
          1,
          8,
          12,
          10,
          0,
          13,
          1,
          4,
          3,
          5,
          4,
          3,
          0,
          1,
          4,
          -1,
          6,
          0,
          0,
          7,
          4,
          1,
          1,
          6,
          2,
          1,
          3,
          9,
          2,
          7,
          -1,
          2,
          1,
          2,
          6,
          4,
          0,
          2,
          2,
          5,
          1,
          2,
          2,
          1,
          1,
          4,
          1,
          3,
          3,
          0,
          4,
          0,
          0,
          4,
          1,
          2,
          2,
          2,
          2,
          4,
          3,
          3,
          0,
          1,
          5,
          2,
          3,
          0,
          1,
          2,
          4,
          16,
          10,
          3,
          4,
          3,
          1,
          8,
          2,
          2,
          1,
          0,
          3,
          1,
          2,
          16,
          12,
          3,
          6,
          11,
          0,
          5,
          -1,
          2,
          5,
          1,
          6,
          3,
          0,
          1,
          -1,
          0,
          1,
          5,
          3,
          2,
          2,
          1,
          1,
          6,
          5,
          2,
          1,
          3,
          2,
          1,
          4,
          4,
          2,
          2,
          2,
          3,
          8,
          6,
          2,
          5,
          7,
          5,
          1,
          7,
          1,
          -1,
          2,
          6,
          1,
          1,
          3,
          0,
          2,
          1,
          0,
          1,
          3,
          2,
          2,
          2,
          1,
          2,
          2,
          1,
          4,
          2,
          1,
          2,
          2,
          3,
          3,
          1,
          6,
          5,
          2,
          5,
          7,
          1,
          5,
          12,
          3,
          0,
          0,
          14,
          8,
          1,
          1,
          4,
          2,
          0,
          1,
          6,
          4,
          3,
          4,
          5,
          0,
          3,
          5,
          6,
          2,
          2,
          1,
          3,
          4,
          1,
          2,
          1,
          1,
          4,
          -1,
          4,
          1,
          1,
          5,
          12,
          1,
          0,
          3,
          4,
          0,
          2,
          1,
          3,
          -1,
          4,
          1,
          1,
          2,
          1,
          12,
          1,
          2,
          5,
          3,
          1,
          6,
          2,
          2,
          6,
          2,
          -1,
          9,
          5,
          -3,
          1,
          1,
          3,
          1,
          2,
          1,
          3,
          4,
          1,
          6,
          4,
          6,
          4,
          0,
          3,
          4,
          3,
          3,
          4,
          3,
          1,
          3,
          2,
          -1,
          0,
          2,
          2,
          4,
          3,
          3,
          4,
          1,
          0,
          4,
          2,
          3,
          3,
          5,
          0,
          2,
          -1,
          2,
          0,
          12,
          4,
          2,
          0,
          -1,
          0,
          3,
          3,
          4,
          2,
          1,
          4,
          1,
          2,
          9,
          10,
          1,
          3,
          1,
          1,
          5,
          2,
          2,
          1,
          2,
          6,
          8,
          4,
          -5,
          5,
          10,
          5,
          6,
          7,
          3,
          2,
          14,
          0,
          1,
          4,
          2,
          5,
          8,
          5,
          3,
          3,
          2,
          2,
          3,
          2,
          1,
          10,
          5,
          3,
          6,
          12,
          5,
          2,
          1,
          1,
          5,
          3,
          4,
          7,
          8,
          -1,
          0,
          0,
          0,
          1,
          4,
          5,
          0,
          1,
          3,
          9,
          1,
          1,
          1,
          1,
          2,
          5,
          4,
          2,
          5,
          1,
          4,
          4,
          3,
          2,
          7,
          1,
          2,
          7,
          1,
          3,
          13,
          12,
          3,
          14,
          6,
          3,
          2,
          2,
          7,
          1,
          9,
          7,
          2,
          1,
          1,
          5,
          2,
          9,
          2,
          0,
          1,
          2,
          2,
          3,
          2,
          1,
          1,
          5,
          3,
          9,
          7,
          1,
          1,
          4,
          1,
          2,
          4,
          2,
          1
         ],
         "z": [
          "Estagiário",
          "Mecânico Manutenção III",
          "Inspetor Qualidade III",
          "Inspetor Qualidade III",
          "Conferente Expedição I",
          "Conferente Expedição I",
          "Eletricista Manutenção II",
          "Conferente Expedição I",
          "Conferente Expedição I",
          "Operador Empilhadeira",
          "Operador Empilhadeira",
          "Operador Empilhadeira",
          "Operador Empilhadeira",
          "Operador Manufatura III",
          "Operador Manufatura III",
          "Operador Manufatura III",
          "Operador Manufatura III",
          "Operador Manufatura III",
          "Operador Manufatura III",
          "Operador Manufatura I",
          "Mecânico Manutenção II",
          "Técnico Processos",
          "Técnico Processos",
          "Técnico Processos",
          "Operador Manufatura III",
          "Mecânico Manutenção III",
          "Técnico Processos",
          "Ferramenteiro II",
          "Ferramenteiro II",
          "Ferramenteiro II",
          "Preparador Matéria Prima",
          "Preparador Matéria Prima",
          "Preparador Matéria Prima",
          "Operador Empilhadeira",
          "Operador Empilhadeira",
          "Operador Empilhadeira",
          "Operador Empilhadeira",
          "Operador Empilhadeira",
          "Preparador/Trocador De Fe",
          "Preparador/Trocador De Fe",
          "Preparador/Trocador De Fe",
          "Preparador Matéria Prima",
          "Preparador Matéria Prima",
          "Conferente Expedição I",
          "Conferente Expedição I",
          "Conferente Expedição I",
          "Conferente Expedição I",
          "Técnico Processos",
          "Operador Manufatura III",
          "Operador Manufatura III",
          "Conferente Almoxarifado",
          "Conferente Almoxarifado",
          "Preparador Matéria Prima",
          "Conferente Expedição I",
          "Conferente Expedição I",
          "Apontador Produção I",
          "Apontador Produção I",
          "Operador Expedição",
          "Operador Expedição",
          "Operador Expedição",
          "Operador Expedição",
          "Operador Expedição",
          "Operador Expedição",
          "Inspetor Qualidade I",
          "Inspetor Qualidade I",
          "Inspetor Qualidade I",
          "Inspetor Qualidade I",
          "Operador Manufatura I",
          "Operador Manufatura I",
          "Operador Manufatura I",
          "Operador Manufatura I",
          "Operador Expedição",
          "Operador Expedição",
          "Operador Expedição",
          "Analista Contábil Pl",
          "Analista Contábil Pl",
          "Analista Contábil Pl",
          "Analista Contábil Pl",
          "Analista Contábil Pl",
          "Preparador/Trocador De Fe",
          "Operador Manufatura II",
          "Operador Manufatura II",
          "Apontador Produção I",
          "Apontador Produção I",
          "Apontador Produção I",
          "Apontador Produção I",
          "Apontador Produção I",
          "Apontador Produção I",
          "Conferente Expedição I",
          "Conferente Expedição I",
          "Operador Manufatura I",
          "Operador Manufatura I",
          "Apontador Produção I",
          "Apontador Produção I",
          "Apontador Produção I",
          "Operador Manufatura III",
          "Operador Manufatura III",
          "Operador Manufatura III",
          "Mecânico Manutenção II",
          "Mecânico Manutenção II",
          "Operador Expedição",
          "Operador Expedição",
          "Operador Expedição",
          "Operador Expedição",
          "Operador Expedição",
          "Operador Expedição",
          "Operador Expedição",
          "Operador/Abastecedor Empi",
          "Facilitador",
          "Facilitador",
          "Ferramenteiro I",
          "Operador Manufatura III",
          "Preparador Matéria Prima",
          "Facilitador",
          "Técnico Mecânico",
          "Técnico Eletrônico",
          "Ferramenteiro II",
          "Ferramenteiro II",
          "Ferramenteiro II",
          "Mecânico Manutenção III",
          "Operador Manufatura II",
          "Operador Empilhadeira",
          "Operador Manufatura III",
          "Eletricista Manutenção II",
          "Eletricista Manutenção II",
          "Eletricista Manutenção II",
          "Eletricista Manutenção II",
          "Eletricista Manutenção II",
          "Eletricista Manutenção II",
          "Eletricista Manutenção II",
          "Eletricista Manutenção II",
          "Eletricista Manutenção II",
          "Eletricista Manutenção II",
          "Preparador Matéria Prima",
          "Mecânico Manutenção III",
          "Mecânico Manutenção III",
          "Mecânico Manutenção III",
          "Operador Manufatura III",
          "Técnico Mecânico",
          "Operador Manufatura III",
          "Operador Manufatura III",
          "Operador Manufatura I",
          "Operador Manufatura I",
          "Conferente Expedição I",
          "Conferente Expedição I",
          "Operador Manufatura II",
          "Operador Manufatura I",
          "Operador Manufatura III",
          "Preparador/Trocador De Fe",
          "Preparador/Trocador De Fe",
          "Preparador/Trocador De Fe",
          "Mecânico Manutenção II",
          "Mecânico Manutenção II",
          "Mecânico Manutenção II",
          "Operador Manufatura II",
          "Operador Manufatura I",
          "Operador Manufatura I",
          "Operador Manufatura I",
          "Operador Manufatura I",
          "Ferramenteiro II",
          "Ferramenteiro II",
          "Técnico Processos",
          "Técnico Processos",
          "Operador Manufatura III",
          "Operador Manufatura III",
          "Operador Manufatura III",
          "Mecânico Manutenção II",
          "Operador Empilhadeira",
          "Operador Empilhadeira",
          "Operador Empilhadeira",
          "Operador Empilhadeira",
          "Conferente Expedição I",
          "Conferente Expedição I",
          "Conferente Expedição I",
          "Operador Manufatura I",
          "Operador Manufatura I",
          "Preparador/Trocador De Fe",
          "Mecânico Manutenção II",
          "Preparador/Trocador De Fe",
          "Preparador/Trocador De Fe",
          "Preparador/Trocador De Fe",
          "Operador Manufatura III",
          "Mecânico Manutenção II",
          "Operador Manufatura I",
          "Operador Empilhadeira",
          "Operador Empilhadeira",
          "Operador Empilhadeira",
          "Eletricista Manutenção II",
          "Eletricista Manutenção II",
          "Eletricista Manutenção II",
          "Eletricista Manutenção II",
          "Apontador Produção I",
          "Apontador Produção I",
          "Operador Manufatura I",
          "Operador Manufatura I",
          "Operador Manufatura I",
          "Analista Processos Jr",
          "Analista Processos Jr",
          "Analista Processos Jr",
          "Eletricista Manutenção II",
          "Operador Empilhadeira",
          "Operador Manufatura I",
          "Eletricista Manutenção II",
          "Assistente Distribuição",
          "Assistente Distribuição",
          "Operador Empilhadeira",
          "Operador Empilhadeira",
          "Operador Empilhadeira",
          "Operador Empilhadeira",
          "Operador Empilhadeira",
          "Operador Empilhadeira",
          "Operador Empilhadeira",
          "Preparador Matéria Prima",
          "Preparador Matéria Prima",
          "Preparador Matéria Prima",
          "Operador Manufatura II",
          "Inspetor Qualidade I",
          "Inspetor Qualidade I",
          "Mecânico Manutenção I",
          "Mecânico Manutenção I",
          "Mecânico Manutenção I",
          "Mecânico Manutenção I",
          "Operador Manufatura II",
          "Operador Manufatura II",
          "Operador Manufatura III",
          "Operador Manufatura III",
          "Controlador Produção",
          "Operador Manufatura II",
          "Operador Manufatura II",
          "Operador Manufatura II",
          "Operador Manufatura II",
          "Operador Manufatura II",
          "Operador Manufatura II",
          "Apontador Produção I",
          "Apontador Produção I",
          "Apontador Produção I",
          "Inspetor Qualidade I",
          "Apontador Produção I",
          "Apontador Produção I",
          "Apontador Produção I",
          "Apontador Produção I",
          "Apontador Produção I",
          "Apontador Produção I",
          "Apontador Produção I",
          "Apontador Produção I",
          "Operador Manufatura I",
          "Operador Manufatura I",
          "Preparador/Trocador De Fe",
          "Preparador/Trocador De Fe",
          "Operador Manufatura I",
          "Operador Manufatura I",
          "Operador Manufatura I",
          "Operador Manufatura I",
          "Operador Manufatura I",
          "Operador Manufatura I",
          "Operador Manufatura I",
          "Operador Manufatura I",
          "Operador Manufatura I",
          "Apontador Produção I",
          "Apontador Produção I",
          "Apontador Produção I",
          "Apontador Produção I",
          "Conferente Expedição I",
          "Conferente Expedição I",
          "Conferente Expedição I",
          "Conferente Expedição I",
          "Operador Empilhadeira",
          "Operador Manufatura I",
          "Operador Manufatura I",
          "Operador Manufatura I",
          "Operador Manufatura I",
          "Operador Manufatura I",
          "Operador Manufatura I",
          "Operador Manufatura I",
          "Operador Manufatura I",
          "Operador Manufatura I",
          "Operador Manufatura I",
          "Ferramenteiro I",
          "Ferramenteiro I",
          "Ferramenteiro I",
          "Ferramenteiro I",
          "Ferramenteiro I",
          "Ferramenteiro I",
          "Operador Manufatura I",
          "Operador Manufatura I",
          "Operador Manufatura I",
          "Operador Manufatura I",
          "Apontador Produção II",
          "Apontador Produção II",
          "Apontador Produção II",
          "Operador Manufatura I",
          "Operador Manufatura I",
          "Operador Manufatura I",
          "Operador Manufatura I",
          "Operador Manufatura I",
          "Operador Manufatura I",
          "Operador Manufatura I",
          "Operador Manufatura I",
          "Operador Manufatura I",
          "Operador Manufatura I",
          "Operador Manufatura I",
          "Operador Manufatura I",
          "Preparador Matéria Prima",
          "Operador Manufatura I",
          "Operador Manufatura I",
          "Operador Manufatura I",
          "Operador Manufatura I",
          "Ferramenteiro III",
          "Mecânico Manutenção I",
          "Mecânico Manutenção I",
          "Operador Manufatura II",
          "Operador Manufatura I",
          "Operador Empilhadeira",
          "Operador Carro Elétrico",
          "Operador Carro Elétrico",
          "Operador Carro Elétrico",
          "Operador Carro Elétrico",
          "Operador Manufatura II",
          "Operador Manufatura II",
          "Operador Manufatura I",
          "Apontador Produção II",
          "Apontador Produção II",
          "Operador Manufatura I",
          "Operador Manufatura I",
          "Operador Manufatura I",
          "Operador Manufatura I",
          "Operador Manufatura I",
          "Operador Manufatura I",
          "Preparador Matéria Prima",
          "Preparador Matéria Prima",
          "Operador Manufatura I",
          "Operador Manufatura I",
          "Operador Manufatura I",
          "Operador Manufatura II",
          "Operador Manufatura II",
          "Operador Manufatura II",
          "Operador Manufatura II",
          "Preparador Matéria Prima",
          "Preparador Matéria Prima",
          "Preparador Matéria Prima",
          "Preparador Matéria Prima",
          "Preparador Matéria Prima",
          "Operador Manufatura I",
          "Operador Manufatura I",
          "Operador Manufatura II",
          "Operador Manufatura II",
          "Operador Manufatura II",
          "Operador Manufatura II",
          "Operador Manufatura II",
          "Operador Empilhadeira",
          "Operador Empilhadeira",
          "Operador Empilhadeira",
          "Operador Empilhadeira",
          "Operador Manufatura I",
          "Eletricista Manutenção II",
          "Operador Manufatura I",
          "Operador Manufatura I",
          "Operador Manufatura II",
          "Operador Manufatura II",
          "Operador Manufatura I",
          "Operador Manufatura II",
          "Operador Manufatura II",
          "Operador Manufatura II",
          "Operador Manufatura II",
          "Operador Manufatura II",
          "Preparador/Trocador De Fe",
          "Preparador/Trocador De Fe",
          "Preparador/Trocador De Fe",
          "Preparador/Trocador De Fe",
          "Operador Empilhadeira",
          "Operador Empilhadeira",
          "Operador Empilhadeira",
          "Operador Empilhadeira",
          "Operador Manufatura I",
          "Operador Manufatura I",
          "Operador Manufatura I",
          "Operador Manufatura I",
          "Conferente Expedição I",
          "Operador Manufatura I",
          "Operador Expedição",
          "Operador Expedição",
          "Operador Expedição",
          "Operador Expedição",
          "Operador Expedição",
          "Operador Expedição",
          "Operador Manufatura I",
          "Operador Manufatura I",
          "Operador Manufatura I",
          "Operador Manufatura I",
          "Operador Empilhadeira",
          "Operador Empilhadeira",
          "Operador Manufatura I",
          "Preparador Matéria Prima",
          "Preparador Matéria Prima",
          "Preparador Matéria Prima",
          "Preparador Matéria Prima",
          "Preparador Matéria Prima",
          "Assistente Distribuição",
          "Assistente Distribuição",
          "Assistente Distribuição",
          "Assistente Distribuição",
          "Assistente Distribuição",
          "Assistente Distribuição",
          "Conferente Expedição I",
          "Conferente Expedição I",
          "Conferente Expedição I",
          "Conferente Expedição I",
          "Conferente Expedição I",
          "Conferente Expedição I",
          "Operador Manufatura I",
          "Operador Manufatura I",
          "Operador Manufatura I",
          "Operador Manufatura I",
          "Operador Manufatura I",
          "Operador Manufatura I",
          "Operador Manufatura I",
          "Operador Manufatura I",
          "Operador Manufatura I",
          "Operador Manufatura I",
          "Operador Manufatura I",
          "Operador Empilhadeira",
          "Conferente Expedição I",
          "Conferente Expedição I",
          "Conferente Expedição I",
          "Conferente Expedição I",
          "Operador Empilhadeira",
          "Conferente Expedição I",
          "Conferente Expedição I",
          "Conferente Expedição I",
          "Conferente Expedição I",
          "Conferente Expedição I",
          "Conferente Expedição I",
          "Conferente Expedição I",
          "Conferente Expedição I",
          "Conferente Expedição I",
          "Operador Multifuncional",
          "Operador Multifuncional",
          "Operador Manufatura I",
          "Preparador/Trocador De Fe",
          "Operador Multifuncional",
          "Operador Multifuncional",
          "Operador Multifuncional",
          "Operador Multifuncional",
          "Operador Multifuncional",
          "Operador Multifuncional",
          "Operador Multifuncional",
          "Operador Multifuncional",
          "Operador Multifuncional",
          "Operador Multifuncional",
          "Operador Multifuncional",
          "Operador Multifuncional",
          "Operador Multifuncional",
          "Operador Multifuncional",
          "Operador Manufatura II",
          "Conferente Expedição I",
          "Operador Expedição",
          "Conferente Almoxarifado",
          "Conferente Almoxarifado",
          "Operador Manufatura I",
          "Operador Manufatura II",
          "Operador Manufatura II",
          "Operador Empilhadeira",
          "Apontador Produção II",
          "Apontador Produção II",
          "Apontador Produção II",
          "Facilitador",
          "Operador Manufatura I",
          "Operador Manufatura I",
          "Operador Manufatura I",
          "Operador Manufatura I",
          "Assistente Distribuição",
          "Assistente Distribuição",
          "Assistente Distribuição",
          "Assistente Distribuição",
          "Assistente Distribuição",
          "Operador Manufatura I",
          "Operador Empilhadeira",
          "Operador Empilhadeira",
          "Operador Empilhadeira",
          "Operador Empilhadeira",
          "Preparador/Trocador De Fe",
          "Preparador/Trocador De Fe",
          "Operador Manufatura II",
          "Operador Manufatura II",
          "Operador Manufatura I",
          "Operador Manufatura I",
          "Operador Manufatura I",
          "Operador Manufatura I",
          "Operador Carro Elétrico",
          "Operador Carro Elétrico",
          "Operador Carro Elétrico",
          "Ferramenteiro III",
          "Assistente Distribuição",
          "Operador Manufatura I",
          "Operador Manufatura I",
          "Conferente Expedição I",
          "Conferente Expedição I",
          "Conferente Expedição I",
          "Conferente Expedição I",
          "Conferente Expedição I",
          "Conferente Expedição I",
          "Conferente Expedição I",
          "Conferente Expedição I",
          "Conferente Expedição I",
          "Operador Manufatura I",
          "Operador Manufatura I",
          "Operador Manufatura I",
          "Operador Manufatura I",
          "Operador Manufatura I",
          "Operador Manufatura I",
          "Operador Manufatura I",
          "Operador Manufatura I",
          "Operador Manufatura I",
          "Operador Manufatura I",
          "Ferramenteiro II",
          "Ferramenteiro II",
          "Operador Carregamento",
          "Operador Manufatura I",
          "Operador Manufatura I",
          "Operador Manufatura I",
          "Operador Expedição",
          "Operador Expedição",
          "Operador Expedição",
          "Operador Manufatura II",
          "Conferente Expedição I",
          "Operador Manufatura I",
          "Assistente Distribuição",
          "Operador Manufatura I",
          "Operador Manufatura I",
          "Operador Manufatura I",
          "Operador Manufatura I",
          "Operador Manufatura I",
          "Operador Manufatura I",
          "Operador Manufatura I",
          "Operador Manufatura I",
          "Operador Manufatura I",
          "Operador Manufatura I",
          "Operador Manufatura I",
          "Operador Manufatura I",
          "Operador Empilhadeira",
          "Operador Empilhadeira",
          "Operador Manufatura I",
          "Conferente Expedição I",
          "Assistente Distribuição",
          "Operador Carregamento",
          "Operador Manufatura I",
          "Operador Manufatura II",
          "Assistente Distribuição",
          "Assistente Distribuição",
          "Operador Carregamento",
          "Operador Carregamento",
          "Operador Carregamento",
          "Operador Carregamento",
          "Mecânico Manutenção I",
          "Mecânico Manutenção I",
          "Mecânico Manutenção I",
          "Mecânico Manutenção I",
          "Operador Manufatura I",
          "Operador Empilhadeira",
          "Operador Manufatura II",
          "Operador Manufatura I",
          "Operador Manufatura I",
          "Operador Manufatura I",
          "Operador Manufatura I",
          "Operador Manufatura I",
          "Operador Manufatura I",
          "Preparador Matéria Prima",
          "Preparador Matéria Prima",
          "Operador Manufatura I",
          "Operador Empilhadeira",
          "Operador Manufatura I",
          "Operador Manufatura I",
          "Operador Manufatura I",
          "Operador Manufatura I",
          "Operador Manufatura I",
          "Operador Manufatura I",
          "Operador Manufatura I",
          "Operador Manufatura I",
          "Operador Manufatura I",
          "Operador Manufatura I",
          "Operador Manufatura I",
          "Operador Manufatura I",
          "Operador Manufatura I",
          "Operador Manufatura I",
          "Conferente Expedição I",
          "Conferente Expedição I",
          "Conferente Expedição I",
          "Conferente Expedição I",
          "Conferente Expedição I",
          "Operador Manufatura I",
          "Operador Manufatura I",
          "Operador Manufatura I",
          "Operador Manufatura I",
          "Operador Manufatura I",
          "Operador Manufatura I",
          "Operador Manufatura I",
          "Operador Manufatura I",
          "Operador Manufatura I",
          "Operador Manufatura I",
          "Preparador Matéria Prima",
          "Preparador Matéria Prima",
          "Operador Manufatura I",
          "Operador Manufatura I",
          "Operador Multifuncional",
          "Operador Multifuncional",
          "Operador Multifuncional",
          "Operador Manufatura I",
          "Conferente Expedição I",
          "Conferente Expedição I",
          "Operador Manufatura I",
          "Operador Carregamento",
          "Operador Multifuncional",
          "Operador Multifuncional",
          "Operador Multifuncional",
          "Operador Multifuncional",
          "Operador Multifuncional",
          "Operador Multifuncional",
          "Operador Multifuncional",
          "Operador Manufatura I",
          "Operador Manufatura I",
          "Eletricista Manutenção I",
          "Eletricista Manutenção I",
          "Operador Manufatura I",
          "Operador Manufatura I",
          "Operador Manufatura I",
          "Operador Manufatura I",
          "Operador Manufatura I",
          "Operador Manufatura I",
          "Operador Manufatura I",
          "Operador Manufatura I",
          "Operador Manufatura I",
          "Operador Manufatura I",
          "Operador Manufatura I",
          "Operador Manufatura II",
          "Operador Manufatura II",
          "Operador Manufatura I",
          "Operador Manufatura I",
          "Operador Manufatura I",
          "Operador Manufatura I",
          "Operador Manufatura I",
          "Operador Manufatura I",
          "Operador Manufatura I",
          "Operador Expedição",
          "Conferente Expedição I",
          "Conferente Expedição I",
          "Conferente Expedição I",
          "Conferente Expedição I",
          "Operador Manufatura I",
          "Operador Manufatura I",
          "Conferente Expedição I",
          "Conferente Expedição I",
          "Operador Manufatura I",
          "Operador Manufatura I",
          "Operador Manufatura I",
          "Operador Manufatura I",
          "Operador Manufatura I",
          "Operador Manufatura I",
          "Operador Manufatura I",
          "Operador Manufatura I",
          "Operador Manufatura I",
          "Operador Manufatura I",
          "Operador Manufatura I",
          "Operador Expedição",
          "Operador Expedição",
          "Operador Expedição",
          "Operador Expedição",
          "Operador Expedição",
          "Operador Empilhadeira",
          "Operador Manufatura I",
          "Operador Manufatura I",
          "Operador Manufatura I",
          "Operador Manufatura I",
          "Operador Manufatura I",
          "Operador Manufatura I",
          "Operador Manufatura I",
          "Operador Manufatura I",
          "Operador Manufatura I",
          "Operador Manufatura I",
          "Operador Expedição",
          "Conferente Expedição I",
          "Operador Expedição",
          "Operador Expedição",
          "Operador Expedição",
          "Operador Expedição",
          "Operador Expedição",
          "Operador Manufatura I",
          "Operador Manufatura I",
          "Preparador Matéria Prima",
          "Preparador Matéria Prima",
          "Preparador Matéria Prima",
          "Preparador Matéria Prima",
          "Operador Manufatura I",
          "Operador Manufatura I",
          "Operador Manufatura I",
          "Ferramenteiro I",
          "Ferramenteiro I",
          "Inspetor Qualidade I",
          "Inspetor Qualidade I",
          "Inspetor Qualidade I",
          "Inspetor Qualidade I",
          "Conferente Expedição I",
          "Operador Manufatura I",
          "Operador Manufatura I",
          "Operador Manufatura I",
          "Operador Manufatura I",
          "Operador Manufatura I",
          "Operador Manufatura I",
          "Operador Manufatura I",
          "Operador Manufatura I",
          "Operador Manufatura I",
          "Operador Expedição",
          "Operador Expedição",
          "Conferente Expedição I",
          "Operador Expedição",
          "Operador Expedição",
          "Operador Expedição",
          "Operador Expedição",
          "Operador Expedição",
          "Operador Manufatura I",
          "Operador Manufatura I",
          "Operador Manufatura I",
          "Operador Manufatura I",
          "Operador Manufatura I",
          "Operador Manufatura I",
          "Operador Manufatura I",
          "Operador Manufatura I",
          "Operador Expedição",
          "Operador Expedição",
          "Operador Manufatura I",
          "Operador Expedição",
          "Operador Expedição",
          "Operador Manufatura I",
          "Operador Manufatura I",
          "Operador Manufatura I",
          "Operador Manufatura I",
          "Operador Manufatura I",
          "Operador Manufatura I",
          "Operador Manufatura I",
          "Operador Manufatura I",
          "Operador Manufatura I",
          "Operador Manufatura I",
          "Operador Manufatura I",
          "Operador Manufatura I",
          "Operador Expedição",
          "Operador Expedição",
          "Operador Manufatura I",
          "Operador Manufatura I",
          "Operador Manufatura I",
          "Operador Manufatura I",
          "Operador Manufatura I",
          "Operador Manufatura I",
          "Operador Manufatura I",
          "Operador Expedição",
          "Operador Manufatura I",
          "Operador Manufatura I",
          "Operador Manufatura I",
          "Operador Manufatura I",
          "Operador Manufatura I",
          "Operador Manufatura I",
          "Operador Manufatura I",
          "Operador Manufatura I",
          "Operador Manufatura I",
          "Operador Manufatura I",
          "Operador Manufatura I",
          "Operador Manufatura I",
          "Operador Manufatura I",
          "Operador Manufatura I",
          "Operador Manufatura I",
          "Operador Manufatura I",
          "Operador Manufatura I",
          "Operador Manufatura I",
          "Operador Manufatura I",
          "Operador Manufatura I",
          "Operador Manufatura I",
          "Operador Manufatura I",
          "Operador Expedição",
          "Operador Expedição",
          "Operador Manufatura I",
          "Operador Manufatura I",
          "Operador Expedição",
          "Operador Expedição",
          "Operador Manufatura I",
          "Operador Manufatura I",
          "Operador Manufatura I",
          "Operador Manufatura I",
          "Operador Manufatura I",
          "Operador Manufatura I",
          "Operador Manufatura I",
          "Operador Manufatura I",
          "Operador Manufatura I",
          "Operador Manufatura I",
          "Operador Manufatura I",
          "Operador Manufatura I",
          "Operador Manufatura I",
          "Operador Manufatura I",
          "Operador Manufatura I",
          "Operador Manufatura I",
          "Operador Manufatura I",
          "Operador Manufatura I",
          "Operador Expedição",
          "Operador Manufatura I",
          "Operador Manufatura I",
          "Operador Manufatura I",
          "Operador Manufatura I",
          "Operador Manufatura I",
          "Operador Manufatura I"
         ]
        },
        {
         "hovertemplate": "color=-1<br>Tempo de Dispensa (dias)=%{x}<br>Tempo de Entrega=%{y}<br>Area de atuacao [Funcionario]=%{z}<extra></extra>",
         "legendgroup": "-1",
         "marker": {
          "color": "#EF553B",
          "size": 3,
          "symbol": "circle"
         },
         "mode": "markers",
         "name": "-1",
         "scene": "scene",
         "showlegend": true,
         "type": "scatter3d",
         "x": [
          13,
          0,
          15.5,
          50.1,
          1.3,
          6.7,
          6.7,
          1.2,
          0,
          13.4,
          4,
          0,
          4.2,
          13,
          52,
          16.1,
          11.9,
          165.9,
          0.2,
          14.5,
          87.2,
          62,
          1.2,
          89.3,
          0.7,
          79.8,
          1.3,
          15.5,
          1.2,
          13.8,
          47.8,
          40.4,
          71,
          0,
          4,
          61.8,
          15.5,
          0,
          95.2,
          15.9,
          33.4,
          11.9,
          5.4
         ],
         "y": [
          11,
          -14,
          8,
          49,
          21,
          18,
          -6,
          20,
          -8,
          19,
          25,
          20,
          23,
          14,
          58,
          5,
          16,
          194,
          24,
          8,
          107,
          63,
          20,
          103,
          20,
          86,
          20,
          6,
          20,
          18,
          62,
          50,
          69,
          -13,
          18,
          85,
          6,
          -12,
          97,
          6,
          39,
          16,
          17
         ],
         "z": [
          "Inspetor Qualidade III",
          "Mecânico Manutenção III",
          "Técnico Processos",
          "Técnico Processos",
          "Preparador Matéria Prima",
          "Preparador Matéria Prima",
          "Preparador Matéria Prima",
          "Preparador/Trocador De Fe",
          "Inspetor Qualidade I",
          "Operador Empilhadeira",
          "Operador Empilhadeira",
          "Operador Empilhadeira",
          "Operador Manufatura III",
          "Técnico Mecânico",
          "Operador Manufatura II",
          "Operador/Abastecedor Empi",
          "Operador Manufatura II",
          "Operador Manufatura I",
          "Operador Empilhadeira",
          "Mecânico Manutenção I",
          "Operador Manufatura II",
          "Operador Manufatura III",
          "Inspetor Qualidade I",
          "Operador Manufatura I",
          "Operador Empilhadeira",
          "Assistente Distribuição",
          "Conferente Expedição I",
          "Operador Manufatura I",
          "Operador Multifuncional",
          "Operador Manufatura I",
          "Operador Manufatura I",
          "Operador Manufatura I",
          "Operador Manufatura I",
          "Operador Carregamento",
          "Operador Manufatura I",
          "Operador Manufatura I",
          "Operador Manufatura I",
          "Operador Manufatura I",
          "Preparador Matéria Prima",
          "Operador Manufatura I",
          "Operador Manufatura I",
          "Operador Manufatura I",
          "Operador Manufatura I"
         ]
        }
       ],
       "layout": {
        "coloraxis": {
         "colorbar": {
          "ticks": "outside",
          "x": 0,
          "y": 1,
          "yanchor": "top"
         }
        },
        "height": 800,
        "legend": {
         "title": {
          "text": "color"
         },
         "tracegroupgap": 0
        },
        "margin": {
         "t": 60
        },
        "scene": {
         "aspectratio": {
          "x": 0.85,
          "y": 0.85,
          "z": 1.3
         },
         "domain": {
          "x": [
           0,
           1
          ],
          "y": [
           0,
           1
          ]
         },
         "xaxis": {
          "title": {
           "text": "Tempo de Dispensa (dias)"
          }
         },
         "yaxis": {
          "title": {
           "text": "Tempo de Entrega"
          }
         },
         "zaxis": {
          "title": {
           "text": "Area de atuacao [Funcionario]"
          }
         }
        },
        "showlegend": false,
        "template": {
         "data": {
          "bar": [
           {
            "error_x": {
             "color": "#2a3f5f"
            },
            "error_y": {
             "color": "#2a3f5f"
            },
            "marker": {
             "line": {
              "color": "#E5ECF6",
              "width": 0.5
             },
             "pattern": {
              "fillmode": "overlay",
              "size": 10,
              "solidity": 0.2
             }
            },
            "type": "bar"
           }
          ],
          "barpolar": [
           {
            "marker": {
             "line": {
              "color": "#E5ECF6",
              "width": 0.5
             },
             "pattern": {
              "fillmode": "overlay",
              "size": 10,
              "solidity": 0.2
             }
            },
            "type": "barpolar"
           }
          ],
          "carpet": [
           {
            "aaxis": {
             "endlinecolor": "#2a3f5f",
             "gridcolor": "white",
             "linecolor": "white",
             "minorgridcolor": "white",
             "startlinecolor": "#2a3f5f"
            },
            "baxis": {
             "endlinecolor": "#2a3f5f",
             "gridcolor": "white",
             "linecolor": "white",
             "minorgridcolor": "white",
             "startlinecolor": "#2a3f5f"
            },
            "type": "carpet"
           }
          ],
          "choropleth": [
           {
            "colorbar": {
             "outlinewidth": 0,
             "ticks": ""
            },
            "type": "choropleth"
           }
          ],
          "contour": [
           {
            "colorbar": {
             "outlinewidth": 0,
             "ticks": ""
            },
            "colorscale": [
             [
              0,
              "#0d0887"
             ],
             [
              0.1111111111111111,
              "#46039f"
             ],
             [
              0.2222222222222222,
              "#7201a8"
             ],
             [
              0.3333333333333333,
              "#9c179e"
             ],
             [
              0.4444444444444444,
              "#bd3786"
             ],
             [
              0.5555555555555556,
              "#d8576b"
             ],
             [
              0.6666666666666666,
              "#ed7953"
             ],
             [
              0.7777777777777778,
              "#fb9f3a"
             ],
             [
              0.8888888888888888,
              "#fdca26"
             ],
             [
              1,
              "#f0f921"
             ]
            ],
            "type": "contour"
           }
          ],
          "contourcarpet": [
           {
            "colorbar": {
             "outlinewidth": 0,
             "ticks": ""
            },
            "type": "contourcarpet"
           }
          ],
          "heatmap": [
           {
            "colorbar": {
             "outlinewidth": 0,
             "ticks": ""
            },
            "colorscale": [
             [
              0,
              "#0d0887"
             ],
             [
              0.1111111111111111,
              "#46039f"
             ],
             [
              0.2222222222222222,
              "#7201a8"
             ],
             [
              0.3333333333333333,
              "#9c179e"
             ],
             [
              0.4444444444444444,
              "#bd3786"
             ],
             [
              0.5555555555555556,
              "#d8576b"
             ],
             [
              0.6666666666666666,
              "#ed7953"
             ],
             [
              0.7777777777777778,
              "#fb9f3a"
             ],
             [
              0.8888888888888888,
              "#fdca26"
             ],
             [
              1,
              "#f0f921"
             ]
            ],
            "type": "heatmap"
           }
          ],
          "heatmapgl": [
           {
            "colorbar": {
             "outlinewidth": 0,
             "ticks": ""
            },
            "colorscale": [
             [
              0,
              "#0d0887"
             ],
             [
              0.1111111111111111,
              "#46039f"
             ],
             [
              0.2222222222222222,
              "#7201a8"
             ],
             [
              0.3333333333333333,
              "#9c179e"
             ],
             [
              0.4444444444444444,
              "#bd3786"
             ],
             [
              0.5555555555555556,
              "#d8576b"
             ],
             [
              0.6666666666666666,
              "#ed7953"
             ],
             [
              0.7777777777777778,
              "#fb9f3a"
             ],
             [
              0.8888888888888888,
              "#fdca26"
             ],
             [
              1,
              "#f0f921"
             ]
            ],
            "type": "heatmapgl"
           }
          ],
          "histogram": [
           {
            "marker": {
             "pattern": {
              "fillmode": "overlay",
              "size": 10,
              "solidity": 0.2
             }
            },
            "type": "histogram"
           }
          ],
          "histogram2d": [
           {
            "colorbar": {
             "outlinewidth": 0,
             "ticks": ""
            },
            "colorscale": [
             [
              0,
              "#0d0887"
             ],
             [
              0.1111111111111111,
              "#46039f"
             ],
             [
              0.2222222222222222,
              "#7201a8"
             ],
             [
              0.3333333333333333,
              "#9c179e"
             ],
             [
              0.4444444444444444,
              "#bd3786"
             ],
             [
              0.5555555555555556,
              "#d8576b"
             ],
             [
              0.6666666666666666,
              "#ed7953"
             ],
             [
              0.7777777777777778,
              "#fb9f3a"
             ],
             [
              0.8888888888888888,
              "#fdca26"
             ],
             [
              1,
              "#f0f921"
             ]
            ],
            "type": "histogram2d"
           }
          ],
          "histogram2dcontour": [
           {
            "colorbar": {
             "outlinewidth": 0,
             "ticks": ""
            },
            "colorscale": [
             [
              0,
              "#0d0887"
             ],
             [
              0.1111111111111111,
              "#46039f"
             ],
             [
              0.2222222222222222,
              "#7201a8"
             ],
             [
              0.3333333333333333,
              "#9c179e"
             ],
             [
              0.4444444444444444,
              "#bd3786"
             ],
             [
              0.5555555555555556,
              "#d8576b"
             ],
             [
              0.6666666666666666,
              "#ed7953"
             ],
             [
              0.7777777777777778,
              "#fb9f3a"
             ],
             [
              0.8888888888888888,
              "#fdca26"
             ],
             [
              1,
              "#f0f921"
             ]
            ],
            "type": "histogram2dcontour"
           }
          ],
          "mesh3d": [
           {
            "colorbar": {
             "outlinewidth": 0,
             "ticks": ""
            },
            "type": "mesh3d"
           }
          ],
          "parcoords": [
           {
            "line": {
             "colorbar": {
              "outlinewidth": 0,
              "ticks": ""
             }
            },
            "type": "parcoords"
           }
          ],
          "pie": [
           {
            "automargin": true,
            "type": "pie"
           }
          ],
          "scatter": [
           {
            "marker": {
             "colorbar": {
              "outlinewidth": 0,
              "ticks": ""
             }
            },
            "type": "scatter"
           }
          ],
          "scatter3d": [
           {
            "line": {
             "colorbar": {
              "outlinewidth": 0,
              "ticks": ""
             }
            },
            "marker": {
             "colorbar": {
              "outlinewidth": 0,
              "ticks": ""
             }
            },
            "type": "scatter3d"
           }
          ],
          "scattercarpet": [
           {
            "marker": {
             "colorbar": {
              "outlinewidth": 0,
              "ticks": ""
             }
            },
            "type": "scattercarpet"
           }
          ],
          "scattergeo": [
           {
            "marker": {
             "colorbar": {
              "outlinewidth": 0,
              "ticks": ""
             }
            },
            "type": "scattergeo"
           }
          ],
          "scattergl": [
           {
            "marker": {
             "colorbar": {
              "outlinewidth": 0,
              "ticks": ""
             }
            },
            "type": "scattergl"
           }
          ],
          "scattermapbox": [
           {
            "marker": {
             "colorbar": {
              "outlinewidth": 0,
              "ticks": ""
             }
            },
            "type": "scattermapbox"
           }
          ],
          "scatterpolar": [
           {
            "marker": {
             "colorbar": {
              "outlinewidth": 0,
              "ticks": ""
             }
            },
            "type": "scatterpolar"
           }
          ],
          "scatterpolargl": [
           {
            "marker": {
             "colorbar": {
              "outlinewidth": 0,
              "ticks": ""
             }
            },
            "type": "scatterpolargl"
           }
          ],
          "scatterternary": [
           {
            "marker": {
             "colorbar": {
              "outlinewidth": 0,
              "ticks": ""
             }
            },
            "type": "scatterternary"
           }
          ],
          "surface": [
           {
            "colorbar": {
             "outlinewidth": 0,
             "ticks": ""
            },
            "colorscale": [
             [
              0,
              "#0d0887"
             ],
             [
              0.1111111111111111,
              "#46039f"
             ],
             [
              0.2222222222222222,
              "#7201a8"
             ],
             [
              0.3333333333333333,
              "#9c179e"
             ],
             [
              0.4444444444444444,
              "#bd3786"
             ],
             [
              0.5555555555555556,
              "#d8576b"
             ],
             [
              0.6666666666666666,
              "#ed7953"
             ],
             [
              0.7777777777777778,
              "#fb9f3a"
             ],
             [
              0.8888888888888888,
              "#fdca26"
             ],
             [
              1,
              "#f0f921"
             ]
            ],
            "type": "surface"
           }
          ],
          "table": [
           {
            "cells": {
             "fill": {
              "color": "#EBF0F8"
             },
             "line": {
              "color": "white"
             }
            },
            "header": {
             "fill": {
              "color": "#C8D4E3"
             },
             "line": {
              "color": "white"
             }
            },
            "type": "table"
           }
          ]
         },
         "layout": {
          "annotationdefaults": {
           "arrowcolor": "#2a3f5f",
           "arrowhead": 0,
           "arrowwidth": 1
          },
          "autotypenumbers": "strict",
          "coloraxis": {
           "colorbar": {
            "outlinewidth": 0,
            "ticks": ""
           }
          },
          "colorscale": {
           "diverging": [
            [
             0,
             "#8e0152"
            ],
            [
             0.1,
             "#c51b7d"
            ],
            [
             0.2,
             "#de77ae"
            ],
            [
             0.3,
             "#f1b6da"
            ],
            [
             0.4,
             "#fde0ef"
            ],
            [
             0.5,
             "#f7f7f7"
            ],
            [
             0.6,
             "#e6f5d0"
            ],
            [
             0.7,
             "#b8e186"
            ],
            [
             0.8,
             "#7fbc41"
            ],
            [
             0.9,
             "#4d9221"
            ],
            [
             1,
             "#276419"
            ]
           ],
           "sequential": [
            [
             0,
             "#0d0887"
            ],
            [
             0.1111111111111111,
             "#46039f"
            ],
            [
             0.2222222222222222,
             "#7201a8"
            ],
            [
             0.3333333333333333,
             "#9c179e"
            ],
            [
             0.4444444444444444,
             "#bd3786"
            ],
            [
             0.5555555555555556,
             "#d8576b"
            ],
            [
             0.6666666666666666,
             "#ed7953"
            ],
            [
             0.7777777777777778,
             "#fb9f3a"
            ],
            [
             0.8888888888888888,
             "#fdca26"
            ],
            [
             1,
             "#f0f921"
            ]
           ],
           "sequentialminus": [
            [
             0,
             "#0d0887"
            ],
            [
             0.1111111111111111,
             "#46039f"
            ],
            [
             0.2222222222222222,
             "#7201a8"
            ],
            [
             0.3333333333333333,
             "#9c179e"
            ],
            [
             0.4444444444444444,
             "#bd3786"
            ],
            [
             0.5555555555555556,
             "#d8576b"
            ],
            [
             0.6666666666666666,
             "#ed7953"
            ],
            [
             0.7777777777777778,
             "#fb9f3a"
            ],
            [
             0.8888888888888888,
             "#fdca26"
            ],
            [
             1,
             "#f0f921"
            ]
           ]
          },
          "colorway": [
           "#636efa",
           "#EF553B",
           "#00cc96",
           "#ab63fa",
           "#FFA15A",
           "#19d3f3",
           "#FF6692",
           "#B6E880",
           "#FF97FF",
           "#FECB52"
          ],
          "font": {
           "color": "#2a3f5f"
          },
          "geo": {
           "bgcolor": "white",
           "lakecolor": "white",
           "landcolor": "#E5ECF6",
           "showlakes": true,
           "showland": true,
           "subunitcolor": "white"
          },
          "hoverlabel": {
           "align": "left"
          },
          "hovermode": "closest",
          "mapbox": {
           "style": "light"
          },
          "paper_bgcolor": "white",
          "plot_bgcolor": "#E5ECF6",
          "polar": {
           "angularaxis": {
            "gridcolor": "white",
            "linecolor": "white",
            "ticks": ""
           },
           "bgcolor": "#E5ECF6",
           "radialaxis": {
            "gridcolor": "white",
            "linecolor": "white",
            "ticks": ""
           }
          },
          "scene": {
           "xaxis": {
            "backgroundcolor": "#E5ECF6",
            "gridcolor": "white",
            "gridwidth": 2,
            "linecolor": "white",
            "showbackground": true,
            "ticks": "",
            "zerolinecolor": "white"
           },
           "yaxis": {
            "backgroundcolor": "#E5ECF6",
            "gridcolor": "white",
            "gridwidth": 2,
            "linecolor": "white",
            "showbackground": true,
            "ticks": "",
            "zerolinecolor": "white"
           },
           "zaxis": {
            "backgroundcolor": "#E5ECF6",
            "gridcolor": "white",
            "gridwidth": 2,
            "linecolor": "white",
            "showbackground": true,
            "ticks": "",
            "zerolinecolor": "white"
           }
          },
          "shapedefaults": {
           "line": {
            "color": "#2a3f5f"
           }
          },
          "ternary": {
           "aaxis": {
            "gridcolor": "white",
            "linecolor": "white",
            "ticks": ""
           },
           "baxis": {
            "gridcolor": "white",
            "linecolor": "white",
            "ticks": ""
           },
           "bgcolor": "#E5ECF6",
           "caxis": {
            "gridcolor": "white",
            "linecolor": "white",
            "ticks": ""
           }
          },
          "title": {
           "x": 0.05
          },
          "xaxis": {
           "automargin": true,
           "gridcolor": "white",
           "linecolor": "white",
           "ticks": "",
           "title": {
            "standoff": 15
           },
           "zerolinecolor": "white",
           "zerolinewidth": 2
          },
          "yaxis": {
           "automargin": true,
           "gridcolor": "white",
           "linecolor": "white",
           "ticks": "",
           "title": {
            "standoff": 15
           },
           "zerolinecolor": "white",
           "zerolinewidth": 2
          }
         }
        },
        "title": {
         "text": "Isolation Forest",
         "x": 0.5
        },
        "width": 1000
       }
      }
     },
     "metadata": {},
     "output_type": "display_data"
    }
   ],
   "source": [
    "from insights.analysis.outliers_analysis_no_schema import outlier_analysis\n",
    "\n",
    "text, figures, filtered_df, title, numerical_describer, categorical_describer, outliers_df = outlier_analysis(df)\n",
    "\n",
    "print(text)\n",
    "for figure in figures:\n",
    "    figure.show()"
   ]
  },
  {
   "cell_type": "code",
   "execution_count": 3,
   "metadata": {},
   "outputs": [
    {
     "name": "stdout",
     "output_type": "stream",
     "text": [
      "Análise dos outliers\n",
      "\tMétodo: DBscan\n",
      "\tFeatures numéricas\n"
     ]
    },
    {
     "data": {
      "text/html": [
       "<div>\n",
       "<style scoped>\n",
       "    .dataframe tbody tr th:only-of-type {\n",
       "        vertical-align: middle;\n",
       "    }\n",
       "\n",
       "    .dataframe tbody tr th {\n",
       "        vertical-align: top;\n",
       "    }\n",
       "\n",
       "    .dataframe thead th {\n",
       "        text-align: right;\n",
       "    }\n",
       "</style>\n",
       "<table border=\"1\" class=\"dataframe\">\n",
       "  <thead>\n",
       "    <tr style=\"text-align: right;\">\n",
       "      <th></th>\n",
       "      <th>Tempo de Dispensa (dias)</th>\n",
       "      <th>Tempo de Entrega</th>\n",
       "    </tr>\n",
       "  </thead>\n",
       "  <tbody>\n",
       "    <tr>\n",
       "      <th>count</th>\n",
       "      <td>57.000000</td>\n",
       "      <td>57.000000</td>\n",
       "    </tr>\n",
       "    <tr>\n",
       "      <th>mean</th>\n",
       "      <td>20.138596</td>\n",
       "      <td>28.280702</td>\n",
       "    </tr>\n",
       "    <tr>\n",
       "      <th>std</th>\n",
       "      <td>32.788084</td>\n",
       "      <td>35.796426</td>\n",
       "    </tr>\n",
       "    <tr>\n",
       "      <th>min</th>\n",
       "      <td>0.000000</td>\n",
       "      <td>-14.000000</td>\n",
       "    </tr>\n",
       "    <tr>\n",
       "      <th>25%</th>\n",
       "      <td>1.200000</td>\n",
       "      <td>13.000000</td>\n",
       "    </tr>\n",
       "    <tr>\n",
       "      <th>50%</th>\n",
       "      <td>5.800000</td>\n",
       "      <td>17.000000</td>\n",
       "    </tr>\n",
       "    <tr>\n",
       "      <th>75%</th>\n",
       "      <td>13.400000</td>\n",
       "      <td>24.000000</td>\n",
       "    </tr>\n",
       "    <tr>\n",
       "      <th>max</th>\n",
       "      <td>165.900000</td>\n",
       "      <td>194.000000</td>\n",
       "    </tr>\n",
       "  </tbody>\n",
       "</table>\n",
       "</div>"
      ],
      "text/plain": [
       "       Tempo de Dispensa (dias)  Tempo de Entrega\n",
       "count                 57.000000         57.000000\n",
       "mean                  20.138596         28.280702\n",
       "std                   32.788084         35.796426\n",
       "min                    0.000000        -14.000000\n",
       "25%                    1.200000         13.000000\n",
       "50%                    5.800000         17.000000\n",
       "75%                   13.400000         24.000000\n",
       "max                  165.900000        194.000000"
      ]
     },
     "metadata": {},
     "output_type": "display_data"
    },
    {
     "name": "stdout",
     "output_type": "stream",
     "text": [
      "\tFeatures Categóricas\n"
     ]
    },
    {
     "data": {
      "text/html": [
       "<div>\n",
       "<style scoped>\n",
       "    .dataframe tbody tr th:only-of-type {\n",
       "        vertical-align: middle;\n",
       "    }\n",
       "\n",
       "    .dataframe tbody tr th {\n",
       "        vertical-align: top;\n",
       "    }\n",
       "\n",
       "    .dataframe thead th {\n",
       "        text-align: right;\n",
       "    }\n",
       "</style>\n",
       "<table border=\"1\" class=\"dataframe\">\n",
       "  <thead>\n",
       "    <tr style=\"text-align: right;\">\n",
       "      <th></th>\n",
       "      <th>Descricao do afastamento</th>\n",
       "      <th>Area de atuacao [Funcionario]</th>\n",
       "    </tr>\n",
       "  </thead>\n",
       "  <tbody>\n",
       "    <tr>\n",
       "      <th>count</th>\n",
       "      <td>57</td>\n",
       "      <td>57</td>\n",
       "    </tr>\n",
       "    <tr>\n",
       "      <th>unique</th>\n",
       "      <td>13</td>\n",
       "      <td>18</td>\n",
       "    </tr>\n",
       "    <tr>\n",
       "      <th>top</th>\n",
       "      <td>Infecções virais de pele e de mucosas</td>\n",
       "      <td>Operador Manufatura I</td>\n",
       "    </tr>\n",
       "    <tr>\n",
       "      <th>freq</th>\n",
       "      <td>11</td>\n",
       "      <td>19</td>\n",
       "    </tr>\n",
       "  </tbody>\n",
       "</table>\n",
       "</div>"
      ],
      "text/plain": [
       "                     Descricao do afastamento Area de atuacao [Funcionario]\n",
       "count                                      57                            57\n",
       "unique                                     13                            18\n",
       "top     Infecções virais de pele e de mucosas         Operador Manufatura I\n",
       "freq                                       11                            19"
      ]
     },
     "metadata": {},
     "output_type": "display_data"
    },
    {
     "name": "stdout",
     "output_type": "stream",
     "text": [
      "\tMétodo: Isolation Forest\n",
      "\tFeatures numéricas\n"
     ]
    },
    {
     "data": {
      "text/html": [
       "<div>\n",
       "<style scoped>\n",
       "    .dataframe tbody tr th:only-of-type {\n",
       "        vertical-align: middle;\n",
       "    }\n",
       "\n",
       "    .dataframe tbody tr th {\n",
       "        vertical-align: top;\n",
       "    }\n",
       "\n",
       "    .dataframe thead th {\n",
       "        text-align: right;\n",
       "    }\n",
       "</style>\n",
       "<table border=\"1\" class=\"dataframe\">\n",
       "  <thead>\n",
       "    <tr style=\"text-align: right;\">\n",
       "      <th></th>\n",
       "      <th>Tempo de Dispensa (dias)</th>\n",
       "      <th>Tempo de Entrega</th>\n",
       "    </tr>\n",
       "  </thead>\n",
       "  <tbody>\n",
       "    <tr>\n",
       "      <th>count</th>\n",
       "      <td>43.000000</td>\n",
       "      <td>43.000000</td>\n",
       "    </tr>\n",
       "    <tr>\n",
       "      <th>mean</th>\n",
       "      <td>26.604651</td>\n",
       "      <td>32.744186</td>\n",
       "    </tr>\n",
       "    <tr>\n",
       "      <th>std</th>\n",
       "      <td>35.743251</td>\n",
       "      <td>40.199558</td>\n",
       "    </tr>\n",
       "    <tr>\n",
       "      <th>min</th>\n",
       "      <td>0.000000</td>\n",
       "      <td>-14.000000</td>\n",
       "    </tr>\n",
       "    <tr>\n",
       "      <th>25%</th>\n",
       "      <td>1.300000</td>\n",
       "      <td>9.500000</td>\n",
       "    </tr>\n",
       "    <tr>\n",
       "      <th>50%</th>\n",
       "      <td>13.000000</td>\n",
       "      <td>20.000000</td>\n",
       "    </tr>\n",
       "    <tr>\n",
       "      <th>75%</th>\n",
       "      <td>44.100000</td>\n",
       "      <td>49.500000</td>\n",
       "    </tr>\n",
       "    <tr>\n",
       "      <th>max</th>\n",
       "      <td>165.900000</td>\n",
       "      <td>194.000000</td>\n",
       "    </tr>\n",
       "  </tbody>\n",
       "</table>\n",
       "</div>"
      ],
      "text/plain": [
       "       Tempo de Dispensa (dias)  Tempo de Entrega\n",
       "count                 43.000000         43.000000\n",
       "mean                  26.604651         32.744186\n",
       "std                   35.743251         40.199558\n",
       "min                    0.000000        -14.000000\n",
       "25%                    1.300000          9.500000\n",
       "50%                   13.000000         20.000000\n",
       "75%                   44.100000         49.500000\n",
       "max                  165.900000        194.000000"
      ]
     },
     "metadata": {},
     "output_type": "display_data"
    },
    {
     "name": "stdout",
     "output_type": "stream",
     "text": [
      "\tFeatures Categóricas\n"
     ]
    },
    {
     "data": {
      "text/html": [
       "<div>\n",
       "<style scoped>\n",
       "    .dataframe tbody tr th:only-of-type {\n",
       "        vertical-align: middle;\n",
       "    }\n",
       "\n",
       "    .dataframe tbody tr th {\n",
       "        vertical-align: top;\n",
       "    }\n",
       "\n",
       "    .dataframe thead th {\n",
       "        text-align: right;\n",
       "    }\n",
       "</style>\n",
       "<table border=\"1\" class=\"dataframe\">\n",
       "  <thead>\n",
       "    <tr style=\"text-align: right;\">\n",
       "      <th></th>\n",
       "      <th>Descricao do afastamento</th>\n",
       "      <th>Area de atuacao [Funcionario]</th>\n",
       "    </tr>\n",
       "  </thead>\n",
       "  <tbody>\n",
       "    <tr>\n",
       "      <th>count</th>\n",
       "      <td>43</td>\n",
       "      <td>43</td>\n",
       "    </tr>\n",
       "    <tr>\n",
       "      <th>unique</th>\n",
       "      <td>11</td>\n",
       "      <td>17</td>\n",
       "    </tr>\n",
       "    <tr>\n",
       "      <th>top</th>\n",
       "      <td>Doenças do sistema osteomuscular</td>\n",
       "      <td>Operador Manufatura I</td>\n",
       "    </tr>\n",
       "    <tr>\n",
       "      <th>freq</th>\n",
       "      <td>9</td>\n",
       "      <td>15</td>\n",
       "    </tr>\n",
       "  </tbody>\n",
       "</table>\n",
       "</div>"
      ],
      "text/plain": [
       "                Descricao do afastamento Area de atuacao [Funcionario]\n",
       "count                                 43                            43\n",
       "unique                                11                            17\n",
       "top     Doenças do sistema osteomuscular         Operador Manufatura I\n",
       "freq                                   9                            15"
      ]
     },
     "metadata": {},
     "output_type": "display_data"
    }
   ],
   "source": [
    "from IPython.display import display\n",
    "print(f'Análise dos outliers')\n",
    "for t, n_des, c_des in zip(title, numerical_describer, categorical_describer):\n",
    "    print(f'\\tMétodo: {t}')\n",
    "    print('\\tFeatures numéricas')\n",
    "    display(n_des)\n",
    "    print('\\tFeatures Categóricas')\n",
    "    display(c_des)"
   ]
  },
  {
   "cell_type": "markdown",
   "metadata": {},
   "source": [
    "# Insights de Outliers"
   ]
  },
  {
   "cell_type": "code",
   "execution_count": 9,
   "metadata": {},
   "outputs": [
    {
     "name": "stdout",
     "output_type": "stream",
     "text": [
      "É possível observar nas tabelas abaixo alguns dados notáveis extraídos dos grupos da base de dados. Estas tabelas de diferenças máximas e mínimas visam demonstrar as diferenças de distribuição entre a população e os grupos. A linha Contagem mostra a contagem daquela classe dentro do grupo, A linha Proporção mostra a proporção da classe em relação a população do grupo, A linha Diferença da População mostra a diferença de proporção daquela população no grupo em relação a população geral. \n"
     ]
    },
    {
     "data": {
      "text/html": [
       "<div>\n",
       "<style scoped>\n",
       "    .dataframe tbody tr th:only-of-type {\n",
       "        vertical-align: middle;\n",
       "    }\n",
       "\n",
       "    .dataframe tbody tr th {\n",
       "        vertical-align: top;\n",
       "    }\n",
       "\n",
       "    .dataframe thead th {\n",
       "        text-align: right;\n",
       "    }\n",
       "</style>\n",
       "<table border=\"1\" class=\"dataframe\">\n",
       "  <thead>\n",
       "    <tr style=\"text-align: right;\">\n",
       "      <th></th>\n",
       "      <th>Area de atuacao [Funcionario]</th>\n",
       "      <th>Descricao do afastamento</th>\n",
       "    </tr>\n",
       "  </thead>\n",
       "  <tbody>\n",
       "    <tr>\n",
       "      <th>maior ocorrencia</th>\n",
       "      <td>Operador Manufatura I</td>\n",
       "      <td>Doenças do sistema osteomuscular</td>\n",
       "    </tr>\n",
       "    <tr>\n",
       "      <th>contagem</th>\n",
       "      <td>15</td>\n",
       "      <td>9</td>\n",
       "    </tr>\n",
       "    <tr>\n",
       "      <th>proporção</th>\n",
       "      <td>0.348837</td>\n",
       "      <td>0.209302</td>\n",
       "    </tr>\n",
       "    <tr>\n",
       "      <th>diferença da população</th>\n",
       "      <td>-0.033966</td>\n",
       "      <td>0.093872</td>\n",
       "    </tr>\n",
       "    <tr>\n",
       "      <th>grupo</th>\n",
       "      <td>0</td>\n",
       "      <td>0</td>\n",
       "    </tr>\n",
       "  </tbody>\n",
       "</table>\n",
       "</div>"
      ],
      "text/plain": [
       "                       Area de atuacao [Funcionario]  \\\n",
       "maior ocorrencia               Operador Manufatura I   \n",
       "contagem                                          15   \n",
       "proporção                                   0.348837   \n",
       "diferença da população                     -0.033966   \n",
       "grupo                                              0   \n",
       "\n",
       "                                Descricao do afastamento  \n",
       "maior ocorrencia        Doenças do sistema osteomuscular  \n",
       "contagem                                               9  \n",
       "proporção                                       0.209302  \n",
       "diferença da população                          0.093872  \n",
       "grupo                                                  0  "
      ]
     },
     "metadata": {},
     "output_type": "display_data"
    }
   ],
   "source": [
    "from insights.outliers.insights import outlier_insights\n",
    "from insights.analysis.cluster_analysis_no_schema import cluster_analysis, numerical_insights, categorical_insights\n",
    "\n",
    "numerical_group, categorical_group = outlier_insights(outliers_df, df, features)\n",
    "\n",
    "text, tables = categorical_insights(categorical_group)\n",
    "print(text)\n",
    "display(tables[0])"
   ]
  },
  {
   "cell_type": "code",
   "execution_count": 10,
   "metadata": {},
   "outputs": [
    {
     "name": "stdout",
     "output_type": "stream",
     "text": [
      "Insights obtidos das variáveis numéricas estão disponíveis nas tabelas a seguir, onde são apresentadas as diferenças das médias e variâncias entre a população geral e cada um dos grupos. A idéia é facilitar a observação de tendências distintas em cada um dos grupos, em relação a população geral. A tabela abaixo é relacionada com a diferença de médias entre os grupos e a população geral.\n"
     ]
    },
    {
     "data": {
      "text/html": [
       "<div>\n",
       "<style scoped>\n",
       "    .dataframe tbody tr th:only-of-type {\n",
       "        vertical-align: middle;\n",
       "    }\n",
       "\n",
       "    .dataframe tbody tr th {\n",
       "        vertical-align: top;\n",
       "    }\n",
       "\n",
       "    .dataframe thead th {\n",
       "        text-align: right;\n",
       "    }\n",
       "</style>\n",
       "<table border=\"1\" class=\"dataframe\">\n",
       "  <thead>\n",
       "    <tr style=\"text-align: right;\">\n",
       "      <th>cluster_group</th>\n",
       "      <th>0</th>\n",
       "    </tr>\n",
       "  </thead>\n",
       "  <tbody>\n",
       "    <tr>\n",
       "      <th>Tempo de Dispensa (dias)</th>\n",
       "      <td>21.945758</td>\n",
       "    </tr>\n",
       "    <tr>\n",
       "      <th>Tempo de Entrega</th>\n",
       "      <td>28.091654</td>\n",
       "    </tr>\n",
       "  </tbody>\n",
       "</table>\n",
       "</div>"
      ],
      "text/plain": [
       "cluster_group                     0\n",
       "Tempo de Dispensa (dias)  21.945758\n",
       "Tempo de Entrega          28.091654"
      ]
     },
     "metadata": {},
     "output_type": "display_data"
    },
    {
     "name": "stdout",
     "output_type": "stream",
     "text": [
      "Abaixo podemos observar a tabela de variância entre os grupos e a população geral. Esta tabela de variância é importante de um ponto de vista de análise da variação das features dentro de cada um dos grupos. A ideia é que a variância dentro de um grupo específico seja menor em relação a população em geral.\n"
     ]
    },
    {
     "data": {
      "text/html": [
       "<div>\n",
       "<style scoped>\n",
       "    .dataframe tbody tr th:only-of-type {\n",
       "        vertical-align: middle;\n",
       "    }\n",
       "\n",
       "    .dataframe tbody tr th {\n",
       "        vertical-align: top;\n",
       "    }\n",
       "\n",
       "    .dataframe thead th {\n",
       "        text-align: right;\n",
       "    }\n",
       "</style>\n",
       "<table border=\"1\" class=\"dataframe\">\n",
       "  <thead>\n",
       "    <tr style=\"text-align: right;\">\n",
       "      <th>cluster_group</th>\n",
       "      <th>0</th>\n",
       "    </tr>\n",
       "  </thead>\n",
       "  <tbody>\n",
       "    <tr>\n",
       "      <th>Tempo de Dispensa (dias)</th>\n",
       "      <td>25.787145</td>\n",
       "    </tr>\n",
       "    <tr>\n",
       "      <th>Tempo de Entrega</th>\n",
       "      <td>28.750768</td>\n",
       "    </tr>\n",
       "  </tbody>\n",
       "</table>\n",
       "</div>"
      ],
      "text/plain": [
       "cluster_group                     0\n",
       "Tempo de Dispensa (dias)  25.787145\n",
       "Tempo de Entrega          28.750768"
      ]
     },
     "metadata": {},
     "output_type": "display_data"
    },
    {
     "name": "stdout",
     "output_type": "stream",
     "text": [
      "Figuras também são aliadas importantes na visualização de dados. Nas figuras abaixo estão presentes duas figuras que representam a variação de média e variância de cada grupo em relação a população geral. Dados variando para a cor azul significam que a variação é negativa, enquanto dados variando para cores vermelhas significam que a variação é positiva.\n",
      "\n"
     ]
    },
    {
     "data": {
      "application/vnd.plotly.v1+json": {
       "config": {
        "plotlyServerURL": "https://plot.ly"
       },
       "data": [
        {
         "coloraxis": "coloraxis",
         "hovertemplate": "cluster_group: %{x}<br>y: %{y}<br>color: %{z}<extra></extra>",
         "name": "0",
         "type": "heatmap",
         "x": [
          "0"
         ],
         "xaxis": "x",
         "y": [
          "Tempo de Dispensa (dias)",
          "Tempo de Entrega"
         ],
         "yaxis": "y",
         "z": [
          [
           21.94575834771414
          ],
          [
           28.091653655463336
          ]
         ]
        }
       ],
       "layout": {
        "coloraxis": {
         "colorscale": [
          [
           0,
           "#0d0887"
          ],
          [
           0.1111111111111111,
           "#46039f"
          ],
          [
           0.2222222222222222,
           "#7201a8"
          ],
          [
           0.3333333333333333,
           "#9c179e"
          ],
          [
           0.4444444444444444,
           "#bd3786"
          ],
          [
           0.5555555555555556,
           "#d8576b"
          ],
          [
           0.6666666666666666,
           "#ed7953"
          ],
          [
           0.7777777777777778,
           "#fb9f3a"
          ],
          [
           0.8888888888888888,
           "#fdca26"
          ],
          [
           1,
           "#f0f921"
          ]
         ]
        },
        "template": {
         "data": {
          "bar": [
           {
            "error_x": {
             "color": "#2a3f5f"
            },
            "error_y": {
             "color": "#2a3f5f"
            },
            "marker": {
             "line": {
              "color": "#E5ECF6",
              "width": 0.5
             },
             "pattern": {
              "fillmode": "overlay",
              "size": 10,
              "solidity": 0.2
             }
            },
            "type": "bar"
           }
          ],
          "barpolar": [
           {
            "marker": {
             "line": {
              "color": "#E5ECF6",
              "width": 0.5
             },
             "pattern": {
              "fillmode": "overlay",
              "size": 10,
              "solidity": 0.2
             }
            },
            "type": "barpolar"
           }
          ],
          "carpet": [
           {
            "aaxis": {
             "endlinecolor": "#2a3f5f",
             "gridcolor": "white",
             "linecolor": "white",
             "minorgridcolor": "white",
             "startlinecolor": "#2a3f5f"
            },
            "baxis": {
             "endlinecolor": "#2a3f5f",
             "gridcolor": "white",
             "linecolor": "white",
             "minorgridcolor": "white",
             "startlinecolor": "#2a3f5f"
            },
            "type": "carpet"
           }
          ],
          "choropleth": [
           {
            "colorbar": {
             "outlinewidth": 0,
             "ticks": ""
            },
            "type": "choropleth"
           }
          ],
          "contour": [
           {
            "colorbar": {
             "outlinewidth": 0,
             "ticks": ""
            },
            "colorscale": [
             [
              0,
              "#0d0887"
             ],
             [
              0.1111111111111111,
              "#46039f"
             ],
             [
              0.2222222222222222,
              "#7201a8"
             ],
             [
              0.3333333333333333,
              "#9c179e"
             ],
             [
              0.4444444444444444,
              "#bd3786"
             ],
             [
              0.5555555555555556,
              "#d8576b"
             ],
             [
              0.6666666666666666,
              "#ed7953"
             ],
             [
              0.7777777777777778,
              "#fb9f3a"
             ],
             [
              0.8888888888888888,
              "#fdca26"
             ],
             [
              1,
              "#f0f921"
             ]
            ],
            "type": "contour"
           }
          ],
          "contourcarpet": [
           {
            "colorbar": {
             "outlinewidth": 0,
             "ticks": ""
            },
            "type": "contourcarpet"
           }
          ],
          "heatmap": [
           {
            "colorbar": {
             "outlinewidth": 0,
             "ticks": ""
            },
            "colorscale": [
             [
              0,
              "#0d0887"
             ],
             [
              0.1111111111111111,
              "#46039f"
             ],
             [
              0.2222222222222222,
              "#7201a8"
             ],
             [
              0.3333333333333333,
              "#9c179e"
             ],
             [
              0.4444444444444444,
              "#bd3786"
             ],
             [
              0.5555555555555556,
              "#d8576b"
             ],
             [
              0.6666666666666666,
              "#ed7953"
             ],
             [
              0.7777777777777778,
              "#fb9f3a"
             ],
             [
              0.8888888888888888,
              "#fdca26"
             ],
             [
              1,
              "#f0f921"
             ]
            ],
            "type": "heatmap"
           }
          ],
          "heatmapgl": [
           {
            "colorbar": {
             "outlinewidth": 0,
             "ticks": ""
            },
            "colorscale": [
             [
              0,
              "#0d0887"
             ],
             [
              0.1111111111111111,
              "#46039f"
             ],
             [
              0.2222222222222222,
              "#7201a8"
             ],
             [
              0.3333333333333333,
              "#9c179e"
             ],
             [
              0.4444444444444444,
              "#bd3786"
             ],
             [
              0.5555555555555556,
              "#d8576b"
             ],
             [
              0.6666666666666666,
              "#ed7953"
             ],
             [
              0.7777777777777778,
              "#fb9f3a"
             ],
             [
              0.8888888888888888,
              "#fdca26"
             ],
             [
              1,
              "#f0f921"
             ]
            ],
            "type": "heatmapgl"
           }
          ],
          "histogram": [
           {
            "marker": {
             "pattern": {
              "fillmode": "overlay",
              "size": 10,
              "solidity": 0.2
             }
            },
            "type": "histogram"
           }
          ],
          "histogram2d": [
           {
            "colorbar": {
             "outlinewidth": 0,
             "ticks": ""
            },
            "colorscale": [
             [
              0,
              "#0d0887"
             ],
             [
              0.1111111111111111,
              "#46039f"
             ],
             [
              0.2222222222222222,
              "#7201a8"
             ],
             [
              0.3333333333333333,
              "#9c179e"
             ],
             [
              0.4444444444444444,
              "#bd3786"
             ],
             [
              0.5555555555555556,
              "#d8576b"
             ],
             [
              0.6666666666666666,
              "#ed7953"
             ],
             [
              0.7777777777777778,
              "#fb9f3a"
             ],
             [
              0.8888888888888888,
              "#fdca26"
             ],
             [
              1,
              "#f0f921"
             ]
            ],
            "type": "histogram2d"
           }
          ],
          "histogram2dcontour": [
           {
            "colorbar": {
             "outlinewidth": 0,
             "ticks": ""
            },
            "colorscale": [
             [
              0,
              "#0d0887"
             ],
             [
              0.1111111111111111,
              "#46039f"
             ],
             [
              0.2222222222222222,
              "#7201a8"
             ],
             [
              0.3333333333333333,
              "#9c179e"
             ],
             [
              0.4444444444444444,
              "#bd3786"
             ],
             [
              0.5555555555555556,
              "#d8576b"
             ],
             [
              0.6666666666666666,
              "#ed7953"
             ],
             [
              0.7777777777777778,
              "#fb9f3a"
             ],
             [
              0.8888888888888888,
              "#fdca26"
             ],
             [
              1,
              "#f0f921"
             ]
            ],
            "type": "histogram2dcontour"
           }
          ],
          "mesh3d": [
           {
            "colorbar": {
             "outlinewidth": 0,
             "ticks": ""
            },
            "type": "mesh3d"
           }
          ],
          "parcoords": [
           {
            "line": {
             "colorbar": {
              "outlinewidth": 0,
              "ticks": ""
             }
            },
            "type": "parcoords"
           }
          ],
          "pie": [
           {
            "automargin": true,
            "type": "pie"
           }
          ],
          "scatter": [
           {
            "marker": {
             "colorbar": {
              "outlinewidth": 0,
              "ticks": ""
             }
            },
            "type": "scatter"
           }
          ],
          "scatter3d": [
           {
            "line": {
             "colorbar": {
              "outlinewidth": 0,
              "ticks": ""
             }
            },
            "marker": {
             "colorbar": {
              "outlinewidth": 0,
              "ticks": ""
             }
            },
            "type": "scatter3d"
           }
          ],
          "scattercarpet": [
           {
            "marker": {
             "colorbar": {
              "outlinewidth": 0,
              "ticks": ""
             }
            },
            "type": "scattercarpet"
           }
          ],
          "scattergeo": [
           {
            "marker": {
             "colorbar": {
              "outlinewidth": 0,
              "ticks": ""
             }
            },
            "type": "scattergeo"
           }
          ],
          "scattergl": [
           {
            "marker": {
             "colorbar": {
              "outlinewidth": 0,
              "ticks": ""
             }
            },
            "type": "scattergl"
           }
          ],
          "scattermapbox": [
           {
            "marker": {
             "colorbar": {
              "outlinewidth": 0,
              "ticks": ""
             }
            },
            "type": "scattermapbox"
           }
          ],
          "scatterpolar": [
           {
            "marker": {
             "colorbar": {
              "outlinewidth": 0,
              "ticks": ""
             }
            },
            "type": "scatterpolar"
           }
          ],
          "scatterpolargl": [
           {
            "marker": {
             "colorbar": {
              "outlinewidth": 0,
              "ticks": ""
             }
            },
            "type": "scatterpolargl"
           }
          ],
          "scatterternary": [
           {
            "marker": {
             "colorbar": {
              "outlinewidth": 0,
              "ticks": ""
             }
            },
            "type": "scatterternary"
           }
          ],
          "surface": [
           {
            "colorbar": {
             "outlinewidth": 0,
             "ticks": ""
            },
            "colorscale": [
             [
              0,
              "#0d0887"
             ],
             [
              0.1111111111111111,
              "#46039f"
             ],
             [
              0.2222222222222222,
              "#7201a8"
             ],
             [
              0.3333333333333333,
              "#9c179e"
             ],
             [
              0.4444444444444444,
              "#bd3786"
             ],
             [
              0.5555555555555556,
              "#d8576b"
             ],
             [
              0.6666666666666666,
              "#ed7953"
             ],
             [
              0.7777777777777778,
              "#fb9f3a"
             ],
             [
              0.8888888888888888,
              "#fdca26"
             ],
             [
              1,
              "#f0f921"
             ]
            ],
            "type": "surface"
           }
          ],
          "table": [
           {
            "cells": {
             "fill": {
              "color": "#EBF0F8"
             },
             "line": {
              "color": "white"
             }
            },
            "header": {
             "fill": {
              "color": "#C8D4E3"
             },
             "line": {
              "color": "white"
             }
            },
            "type": "table"
           }
          ]
         },
         "layout": {
          "annotationdefaults": {
           "arrowcolor": "#2a3f5f",
           "arrowhead": 0,
           "arrowwidth": 1
          },
          "autotypenumbers": "strict",
          "coloraxis": {
           "colorbar": {
            "outlinewidth": 0,
            "ticks": ""
           }
          },
          "colorscale": {
           "diverging": [
            [
             0,
             "#8e0152"
            ],
            [
             0.1,
             "#c51b7d"
            ],
            [
             0.2,
             "#de77ae"
            ],
            [
             0.3,
             "#f1b6da"
            ],
            [
             0.4,
             "#fde0ef"
            ],
            [
             0.5,
             "#f7f7f7"
            ],
            [
             0.6,
             "#e6f5d0"
            ],
            [
             0.7,
             "#b8e186"
            ],
            [
             0.8,
             "#7fbc41"
            ],
            [
             0.9,
             "#4d9221"
            ],
            [
             1,
             "#276419"
            ]
           ],
           "sequential": [
            [
             0,
             "#0d0887"
            ],
            [
             0.1111111111111111,
             "#46039f"
            ],
            [
             0.2222222222222222,
             "#7201a8"
            ],
            [
             0.3333333333333333,
             "#9c179e"
            ],
            [
             0.4444444444444444,
             "#bd3786"
            ],
            [
             0.5555555555555556,
             "#d8576b"
            ],
            [
             0.6666666666666666,
             "#ed7953"
            ],
            [
             0.7777777777777778,
             "#fb9f3a"
            ],
            [
             0.8888888888888888,
             "#fdca26"
            ],
            [
             1,
             "#f0f921"
            ]
           ],
           "sequentialminus": [
            [
             0,
             "#0d0887"
            ],
            [
             0.1111111111111111,
             "#46039f"
            ],
            [
             0.2222222222222222,
             "#7201a8"
            ],
            [
             0.3333333333333333,
             "#9c179e"
            ],
            [
             0.4444444444444444,
             "#bd3786"
            ],
            [
             0.5555555555555556,
             "#d8576b"
            ],
            [
             0.6666666666666666,
             "#ed7953"
            ],
            [
             0.7777777777777778,
             "#fb9f3a"
            ],
            [
             0.8888888888888888,
             "#fdca26"
            ],
            [
             1,
             "#f0f921"
            ]
           ]
          },
          "colorway": [
           "#636efa",
           "#EF553B",
           "#00cc96",
           "#ab63fa",
           "#FFA15A",
           "#19d3f3",
           "#FF6692",
           "#B6E880",
           "#FF97FF",
           "#FECB52"
          ],
          "font": {
           "color": "#2a3f5f"
          },
          "geo": {
           "bgcolor": "white",
           "lakecolor": "white",
           "landcolor": "#E5ECF6",
           "showlakes": true,
           "showland": true,
           "subunitcolor": "white"
          },
          "hoverlabel": {
           "align": "left"
          },
          "hovermode": "closest",
          "mapbox": {
           "style": "light"
          },
          "paper_bgcolor": "white",
          "plot_bgcolor": "#E5ECF6",
          "polar": {
           "angularaxis": {
            "gridcolor": "white",
            "linecolor": "white",
            "ticks": ""
           },
           "bgcolor": "#E5ECF6",
           "radialaxis": {
            "gridcolor": "white",
            "linecolor": "white",
            "ticks": ""
           }
          },
          "scene": {
           "xaxis": {
            "backgroundcolor": "#E5ECF6",
            "gridcolor": "white",
            "gridwidth": 2,
            "linecolor": "white",
            "showbackground": true,
            "ticks": "",
            "zerolinecolor": "white"
           },
           "yaxis": {
            "backgroundcolor": "#E5ECF6",
            "gridcolor": "white",
            "gridwidth": 2,
            "linecolor": "white",
            "showbackground": true,
            "ticks": "",
            "zerolinecolor": "white"
           },
           "zaxis": {
            "backgroundcolor": "#E5ECF6",
            "gridcolor": "white",
            "gridwidth": 2,
            "linecolor": "white",
            "showbackground": true,
            "ticks": "",
            "zerolinecolor": "white"
           }
          },
          "shapedefaults": {
           "line": {
            "color": "#2a3f5f"
           }
          },
          "ternary": {
           "aaxis": {
            "gridcolor": "white",
            "linecolor": "white",
            "ticks": ""
           },
           "baxis": {
            "gridcolor": "white",
            "linecolor": "white",
            "ticks": ""
           },
           "bgcolor": "#E5ECF6",
           "caxis": {
            "gridcolor": "white",
            "linecolor": "white",
            "ticks": ""
           }
          },
          "title": {
           "x": 0.05
          },
          "xaxis": {
           "automargin": true,
           "gridcolor": "white",
           "linecolor": "white",
           "ticks": "",
           "title": {
            "standoff": 15
           },
           "zerolinecolor": "white",
           "zerolinewidth": 2
          },
          "yaxis": {
           "automargin": true,
           "gridcolor": "white",
           "linecolor": "white",
           "ticks": "",
           "title": {
            "standoff": 15
           },
           "zerolinecolor": "white",
           "zerolinewidth": 2
          }
         }
        },
        "title": {
         "text": "Insights - Variáveis Numéricas - Médias"
        },
        "xaxis": {
         "anchor": "y",
         "constrain": "domain",
         "domain": [
          0,
          1
         ],
         "scaleanchor": "y",
         "title": {
          "text": "cluster_group"
         }
        },
        "yaxis": {
         "anchor": "x",
         "autorange": "reversed",
         "constrain": "domain",
         "domain": [
          0,
          1
         ]
        }
       }
      }
     },
     "metadata": {},
     "output_type": "display_data"
    },
    {
     "data": {
      "application/vnd.plotly.v1+json": {
       "config": {
        "plotlyServerURL": "https://plot.ly"
       },
       "data": [
        {
         "coloraxis": "coloraxis",
         "hovertemplate": "cluster_group: %{x}<br>y: %{y}<br>color: %{z}<extra></extra>",
         "name": "0",
         "type": "heatmap",
         "x": [
          "0"
         ],
         "xaxis": "x",
         "y": [
          "Tempo de Dispensa (dias)",
          "Tempo de Entrega"
         ],
         "yaxis": "y",
         "z": [
          [
           25.787144817653886
          ],
          [
           28.750767670484375
          ]
         ]
        }
       ],
       "layout": {
        "coloraxis": {
         "colorscale": [
          [
           0,
           "#0d0887"
          ],
          [
           0.1111111111111111,
           "#46039f"
          ],
          [
           0.2222222222222222,
           "#7201a8"
          ],
          [
           0.3333333333333333,
           "#9c179e"
          ],
          [
           0.4444444444444444,
           "#bd3786"
          ],
          [
           0.5555555555555556,
           "#d8576b"
          ],
          [
           0.6666666666666666,
           "#ed7953"
          ],
          [
           0.7777777777777778,
           "#fb9f3a"
          ],
          [
           0.8888888888888888,
           "#fdca26"
          ],
          [
           1,
           "#f0f921"
          ]
         ]
        },
        "template": {
         "data": {
          "bar": [
           {
            "error_x": {
             "color": "#2a3f5f"
            },
            "error_y": {
             "color": "#2a3f5f"
            },
            "marker": {
             "line": {
              "color": "#E5ECF6",
              "width": 0.5
             },
             "pattern": {
              "fillmode": "overlay",
              "size": 10,
              "solidity": 0.2
             }
            },
            "type": "bar"
           }
          ],
          "barpolar": [
           {
            "marker": {
             "line": {
              "color": "#E5ECF6",
              "width": 0.5
             },
             "pattern": {
              "fillmode": "overlay",
              "size": 10,
              "solidity": 0.2
             }
            },
            "type": "barpolar"
           }
          ],
          "carpet": [
           {
            "aaxis": {
             "endlinecolor": "#2a3f5f",
             "gridcolor": "white",
             "linecolor": "white",
             "minorgridcolor": "white",
             "startlinecolor": "#2a3f5f"
            },
            "baxis": {
             "endlinecolor": "#2a3f5f",
             "gridcolor": "white",
             "linecolor": "white",
             "minorgridcolor": "white",
             "startlinecolor": "#2a3f5f"
            },
            "type": "carpet"
           }
          ],
          "choropleth": [
           {
            "colorbar": {
             "outlinewidth": 0,
             "ticks": ""
            },
            "type": "choropleth"
           }
          ],
          "contour": [
           {
            "colorbar": {
             "outlinewidth": 0,
             "ticks": ""
            },
            "colorscale": [
             [
              0,
              "#0d0887"
             ],
             [
              0.1111111111111111,
              "#46039f"
             ],
             [
              0.2222222222222222,
              "#7201a8"
             ],
             [
              0.3333333333333333,
              "#9c179e"
             ],
             [
              0.4444444444444444,
              "#bd3786"
             ],
             [
              0.5555555555555556,
              "#d8576b"
             ],
             [
              0.6666666666666666,
              "#ed7953"
             ],
             [
              0.7777777777777778,
              "#fb9f3a"
             ],
             [
              0.8888888888888888,
              "#fdca26"
             ],
             [
              1,
              "#f0f921"
             ]
            ],
            "type": "contour"
           }
          ],
          "contourcarpet": [
           {
            "colorbar": {
             "outlinewidth": 0,
             "ticks": ""
            },
            "type": "contourcarpet"
           }
          ],
          "heatmap": [
           {
            "colorbar": {
             "outlinewidth": 0,
             "ticks": ""
            },
            "colorscale": [
             [
              0,
              "#0d0887"
             ],
             [
              0.1111111111111111,
              "#46039f"
             ],
             [
              0.2222222222222222,
              "#7201a8"
             ],
             [
              0.3333333333333333,
              "#9c179e"
             ],
             [
              0.4444444444444444,
              "#bd3786"
             ],
             [
              0.5555555555555556,
              "#d8576b"
             ],
             [
              0.6666666666666666,
              "#ed7953"
             ],
             [
              0.7777777777777778,
              "#fb9f3a"
             ],
             [
              0.8888888888888888,
              "#fdca26"
             ],
             [
              1,
              "#f0f921"
             ]
            ],
            "type": "heatmap"
           }
          ],
          "heatmapgl": [
           {
            "colorbar": {
             "outlinewidth": 0,
             "ticks": ""
            },
            "colorscale": [
             [
              0,
              "#0d0887"
             ],
             [
              0.1111111111111111,
              "#46039f"
             ],
             [
              0.2222222222222222,
              "#7201a8"
             ],
             [
              0.3333333333333333,
              "#9c179e"
             ],
             [
              0.4444444444444444,
              "#bd3786"
             ],
             [
              0.5555555555555556,
              "#d8576b"
             ],
             [
              0.6666666666666666,
              "#ed7953"
             ],
             [
              0.7777777777777778,
              "#fb9f3a"
             ],
             [
              0.8888888888888888,
              "#fdca26"
             ],
             [
              1,
              "#f0f921"
             ]
            ],
            "type": "heatmapgl"
           }
          ],
          "histogram": [
           {
            "marker": {
             "pattern": {
              "fillmode": "overlay",
              "size": 10,
              "solidity": 0.2
             }
            },
            "type": "histogram"
           }
          ],
          "histogram2d": [
           {
            "colorbar": {
             "outlinewidth": 0,
             "ticks": ""
            },
            "colorscale": [
             [
              0,
              "#0d0887"
             ],
             [
              0.1111111111111111,
              "#46039f"
             ],
             [
              0.2222222222222222,
              "#7201a8"
             ],
             [
              0.3333333333333333,
              "#9c179e"
             ],
             [
              0.4444444444444444,
              "#bd3786"
             ],
             [
              0.5555555555555556,
              "#d8576b"
             ],
             [
              0.6666666666666666,
              "#ed7953"
             ],
             [
              0.7777777777777778,
              "#fb9f3a"
             ],
             [
              0.8888888888888888,
              "#fdca26"
             ],
             [
              1,
              "#f0f921"
             ]
            ],
            "type": "histogram2d"
           }
          ],
          "histogram2dcontour": [
           {
            "colorbar": {
             "outlinewidth": 0,
             "ticks": ""
            },
            "colorscale": [
             [
              0,
              "#0d0887"
             ],
             [
              0.1111111111111111,
              "#46039f"
             ],
             [
              0.2222222222222222,
              "#7201a8"
             ],
             [
              0.3333333333333333,
              "#9c179e"
             ],
             [
              0.4444444444444444,
              "#bd3786"
             ],
             [
              0.5555555555555556,
              "#d8576b"
             ],
             [
              0.6666666666666666,
              "#ed7953"
             ],
             [
              0.7777777777777778,
              "#fb9f3a"
             ],
             [
              0.8888888888888888,
              "#fdca26"
             ],
             [
              1,
              "#f0f921"
             ]
            ],
            "type": "histogram2dcontour"
           }
          ],
          "mesh3d": [
           {
            "colorbar": {
             "outlinewidth": 0,
             "ticks": ""
            },
            "type": "mesh3d"
           }
          ],
          "parcoords": [
           {
            "line": {
             "colorbar": {
              "outlinewidth": 0,
              "ticks": ""
             }
            },
            "type": "parcoords"
           }
          ],
          "pie": [
           {
            "automargin": true,
            "type": "pie"
           }
          ],
          "scatter": [
           {
            "marker": {
             "colorbar": {
              "outlinewidth": 0,
              "ticks": ""
             }
            },
            "type": "scatter"
           }
          ],
          "scatter3d": [
           {
            "line": {
             "colorbar": {
              "outlinewidth": 0,
              "ticks": ""
             }
            },
            "marker": {
             "colorbar": {
              "outlinewidth": 0,
              "ticks": ""
             }
            },
            "type": "scatter3d"
           }
          ],
          "scattercarpet": [
           {
            "marker": {
             "colorbar": {
              "outlinewidth": 0,
              "ticks": ""
             }
            },
            "type": "scattercarpet"
           }
          ],
          "scattergeo": [
           {
            "marker": {
             "colorbar": {
              "outlinewidth": 0,
              "ticks": ""
             }
            },
            "type": "scattergeo"
           }
          ],
          "scattergl": [
           {
            "marker": {
             "colorbar": {
              "outlinewidth": 0,
              "ticks": ""
             }
            },
            "type": "scattergl"
           }
          ],
          "scattermapbox": [
           {
            "marker": {
             "colorbar": {
              "outlinewidth": 0,
              "ticks": ""
             }
            },
            "type": "scattermapbox"
           }
          ],
          "scatterpolar": [
           {
            "marker": {
             "colorbar": {
              "outlinewidth": 0,
              "ticks": ""
             }
            },
            "type": "scatterpolar"
           }
          ],
          "scatterpolargl": [
           {
            "marker": {
             "colorbar": {
              "outlinewidth": 0,
              "ticks": ""
             }
            },
            "type": "scatterpolargl"
           }
          ],
          "scatterternary": [
           {
            "marker": {
             "colorbar": {
              "outlinewidth": 0,
              "ticks": ""
             }
            },
            "type": "scatterternary"
           }
          ],
          "surface": [
           {
            "colorbar": {
             "outlinewidth": 0,
             "ticks": ""
            },
            "colorscale": [
             [
              0,
              "#0d0887"
             ],
             [
              0.1111111111111111,
              "#46039f"
             ],
             [
              0.2222222222222222,
              "#7201a8"
             ],
             [
              0.3333333333333333,
              "#9c179e"
             ],
             [
              0.4444444444444444,
              "#bd3786"
             ],
             [
              0.5555555555555556,
              "#d8576b"
             ],
             [
              0.6666666666666666,
              "#ed7953"
             ],
             [
              0.7777777777777778,
              "#fb9f3a"
             ],
             [
              0.8888888888888888,
              "#fdca26"
             ],
             [
              1,
              "#f0f921"
             ]
            ],
            "type": "surface"
           }
          ],
          "table": [
           {
            "cells": {
             "fill": {
              "color": "#EBF0F8"
             },
             "line": {
              "color": "white"
             }
            },
            "header": {
             "fill": {
              "color": "#C8D4E3"
             },
             "line": {
              "color": "white"
             }
            },
            "type": "table"
           }
          ]
         },
         "layout": {
          "annotationdefaults": {
           "arrowcolor": "#2a3f5f",
           "arrowhead": 0,
           "arrowwidth": 1
          },
          "autotypenumbers": "strict",
          "coloraxis": {
           "colorbar": {
            "outlinewidth": 0,
            "ticks": ""
           }
          },
          "colorscale": {
           "diverging": [
            [
             0,
             "#8e0152"
            ],
            [
             0.1,
             "#c51b7d"
            ],
            [
             0.2,
             "#de77ae"
            ],
            [
             0.3,
             "#f1b6da"
            ],
            [
             0.4,
             "#fde0ef"
            ],
            [
             0.5,
             "#f7f7f7"
            ],
            [
             0.6,
             "#e6f5d0"
            ],
            [
             0.7,
             "#b8e186"
            ],
            [
             0.8,
             "#7fbc41"
            ],
            [
             0.9,
             "#4d9221"
            ],
            [
             1,
             "#276419"
            ]
           ],
           "sequential": [
            [
             0,
             "#0d0887"
            ],
            [
             0.1111111111111111,
             "#46039f"
            ],
            [
             0.2222222222222222,
             "#7201a8"
            ],
            [
             0.3333333333333333,
             "#9c179e"
            ],
            [
             0.4444444444444444,
             "#bd3786"
            ],
            [
             0.5555555555555556,
             "#d8576b"
            ],
            [
             0.6666666666666666,
             "#ed7953"
            ],
            [
             0.7777777777777778,
             "#fb9f3a"
            ],
            [
             0.8888888888888888,
             "#fdca26"
            ],
            [
             1,
             "#f0f921"
            ]
           ],
           "sequentialminus": [
            [
             0,
             "#0d0887"
            ],
            [
             0.1111111111111111,
             "#46039f"
            ],
            [
             0.2222222222222222,
             "#7201a8"
            ],
            [
             0.3333333333333333,
             "#9c179e"
            ],
            [
             0.4444444444444444,
             "#bd3786"
            ],
            [
             0.5555555555555556,
             "#d8576b"
            ],
            [
             0.6666666666666666,
             "#ed7953"
            ],
            [
             0.7777777777777778,
             "#fb9f3a"
            ],
            [
             0.8888888888888888,
             "#fdca26"
            ],
            [
             1,
             "#f0f921"
            ]
           ]
          },
          "colorway": [
           "#636efa",
           "#EF553B",
           "#00cc96",
           "#ab63fa",
           "#FFA15A",
           "#19d3f3",
           "#FF6692",
           "#B6E880",
           "#FF97FF",
           "#FECB52"
          ],
          "font": {
           "color": "#2a3f5f"
          },
          "geo": {
           "bgcolor": "white",
           "lakecolor": "white",
           "landcolor": "#E5ECF6",
           "showlakes": true,
           "showland": true,
           "subunitcolor": "white"
          },
          "hoverlabel": {
           "align": "left"
          },
          "hovermode": "closest",
          "mapbox": {
           "style": "light"
          },
          "paper_bgcolor": "white",
          "plot_bgcolor": "#E5ECF6",
          "polar": {
           "angularaxis": {
            "gridcolor": "white",
            "linecolor": "white",
            "ticks": ""
           },
           "bgcolor": "#E5ECF6",
           "radialaxis": {
            "gridcolor": "white",
            "linecolor": "white",
            "ticks": ""
           }
          },
          "scene": {
           "xaxis": {
            "backgroundcolor": "#E5ECF6",
            "gridcolor": "white",
            "gridwidth": 2,
            "linecolor": "white",
            "showbackground": true,
            "ticks": "",
            "zerolinecolor": "white"
           },
           "yaxis": {
            "backgroundcolor": "#E5ECF6",
            "gridcolor": "white",
            "gridwidth": 2,
            "linecolor": "white",
            "showbackground": true,
            "ticks": "",
            "zerolinecolor": "white"
           },
           "zaxis": {
            "backgroundcolor": "#E5ECF6",
            "gridcolor": "white",
            "gridwidth": 2,
            "linecolor": "white",
            "showbackground": true,
            "ticks": "",
            "zerolinecolor": "white"
           }
          },
          "shapedefaults": {
           "line": {
            "color": "#2a3f5f"
           }
          },
          "ternary": {
           "aaxis": {
            "gridcolor": "white",
            "linecolor": "white",
            "ticks": ""
           },
           "baxis": {
            "gridcolor": "white",
            "linecolor": "white",
            "ticks": ""
           },
           "bgcolor": "#E5ECF6",
           "caxis": {
            "gridcolor": "white",
            "linecolor": "white",
            "ticks": ""
           }
          },
          "title": {
           "x": 0.05
          },
          "xaxis": {
           "automargin": true,
           "gridcolor": "white",
           "linecolor": "white",
           "ticks": "",
           "title": {
            "standoff": 15
           },
           "zerolinecolor": "white",
           "zerolinewidth": 2
          },
          "yaxis": {
           "automargin": true,
           "gridcolor": "white",
           "linecolor": "white",
           "ticks": "",
           "title": {
            "standoff": 15
           },
           "zerolinecolor": "white",
           "zerolinewidth": 2
          }
         }
        },
        "title": {
         "text": "Insights - Variáveis Numéricas - Variâncias"
        },
        "xaxis": {
         "anchor": "y",
         "constrain": "domain",
         "domain": [
          0,
          1
         ],
         "scaleanchor": "y",
         "title": {
          "text": "cluster_group"
         }
        },
        "yaxis": {
         "anchor": "x",
         "autorange": "reversed",
         "constrain": "domain",
         "domain": [
          0,
          1
         ]
        }
       }
      }
     },
     "metadata": {},
     "output_type": "display_data"
    },
    {
     "name": "stdout",
     "output_type": "stream",
     "text": [
      "A maior diferença populacional positiva foi detectada na feature Tempo de Entrega e no grupo 0, com valor de 28.09. A maior variação negativa foi na feature Tempo de Dispensa (dias) e no grupo 0, com o valor registrado de 21.95\n",
      "\n"
     ]
    }
   ],
   "source": [
    "texts, figures, tables = numerical_insights(numerical_group)\n",
    "\n",
    "print(texts[0])\n",
    "display(tables[0])\n",
    "print(texts[1])\n",
    "display(tables[1])\n",
    "print(texts[2])\n",
    "for figure in figures:\n",
    "    figure.show()\n",
    "print(texts[3])"
   ]
  },
  {
   "cell_type": "markdown",
   "metadata": {},
   "source": [
    "# Análise de Cluster"
   ]
  },
  {
   "cell_type": "code",
   "execution_count": 6,
   "metadata": {},
   "outputs": [
    {
     "name": "stdout",
     "output_type": "stream",
     "text": [
      "A melhor separação de grupos ocorreu nas features: ['Tempo de Dispensa (dias)', 'Tempo de Entrega'] com uma quantidade de 10 grupos. A análise multidimensional em 2 dimensões fornece insights de quais features são mais importantes e que distinguem grupos entre si. Esta análise é realizada realizando a permutação das features do dataset.\n"
     ]
    },
    {
     "data": {
      "text/html": [
       "<div>\n",
       "<style scoped>\n",
       "    .dataframe tbody tr th:only-of-type {\n",
       "        vertical-align: middle;\n",
       "    }\n",
       "\n",
       "    .dataframe tbody tr th {\n",
       "        vertical-align: top;\n",
       "    }\n",
       "\n",
       "    .dataframe thead th {\n",
       "        text-align: right;\n",
       "    }\n",
       "</style>\n",
       "<table border=\"1\" class=\"dataframe\">\n",
       "  <thead>\n",
       "    <tr style=\"text-align: right;\">\n",
       "      <th></th>\n",
       "      <th>0</th>\n",
       "      <th>1</th>\n",
       "      <th>2</th>\n",
       "      <th>3</th>\n",
       "      <th>4</th>\n",
       "      <th>5</th>\n",
       "      <th>6</th>\n",
       "      <th>7</th>\n",
       "      <th>8</th>\n",
       "      <th>9</th>\n",
       "    </tr>\n",
       "  </thead>\n",
       "  <tbody>\n",
       "    <tr>\n",
       "      <th>Operador Manufatura I</th>\n",
       "      <td>0.164516</td>\n",
       "      <td>0.041935</td>\n",
       "      <td>0.032258</td>\n",
       "      <td>0.070968</td>\n",
       "      <td>0.041935</td>\n",
       "      <td>0.187097</td>\n",
       "      <td>0.048387</td>\n",
       "      <td>0.219355</td>\n",
       "      <td>0.116129</td>\n",
       "      <td>0.077419</td>\n",
       "    </tr>\n",
       "    <tr>\n",
       "      <th>Controlador Produção</th>\n",
       "      <td>0.000000</td>\n",
       "      <td>0.000000</td>\n",
       "      <td>0.000000</td>\n",
       "      <td>0.000000</td>\n",
       "      <td>0.000000</td>\n",
       "      <td>0.000000</td>\n",
       "      <td>0.000000</td>\n",
       "      <td>1.000000</td>\n",
       "      <td>0.000000</td>\n",
       "      <td>0.000000</td>\n",
       "    </tr>\n",
       "    <tr>\n",
       "      <th>Facilitador</th>\n",
       "      <td>0.000000</td>\n",
       "      <td>0.000000</td>\n",
       "      <td>0.000000</td>\n",
       "      <td>0.250000</td>\n",
       "      <td>0.000000</td>\n",
       "      <td>0.250000</td>\n",
       "      <td>0.000000</td>\n",
       "      <td>0.500000</td>\n",
       "      <td>0.000000</td>\n",
       "      <td>0.000000</td>\n",
       "    </tr>\n",
       "    <tr>\n",
       "      <th>Conferente Almoxarifado</th>\n",
       "      <td>0.000000</td>\n",
       "      <td>0.250000</td>\n",
       "      <td>0.250000</td>\n",
       "      <td>0.000000</td>\n",
       "      <td>0.000000</td>\n",
       "      <td>0.500000</td>\n",
       "      <td>0.000000</td>\n",
       "      <td>0.000000</td>\n",
       "      <td>0.000000</td>\n",
       "      <td>0.000000</td>\n",
       "    </tr>\n",
       "    <tr>\n",
       "      <th>Técnico Mecânico</th>\n",
       "      <td>0.000000</td>\n",
       "      <td>0.000000</td>\n",
       "      <td>0.000000</td>\n",
       "      <td>0.000000</td>\n",
       "      <td>0.500000</td>\n",
       "      <td>0.500000</td>\n",
       "      <td>0.000000</td>\n",
       "      <td>0.000000</td>\n",
       "      <td>0.000000</td>\n",
       "      <td>0.000000</td>\n",
       "    </tr>\n",
       "    <tr>\n",
       "      <th>Mecânico Manutenção III</th>\n",
       "      <td>0.166667</td>\n",
       "      <td>0.000000</td>\n",
       "      <td>0.000000</td>\n",
       "      <td>0.000000</td>\n",
       "      <td>0.166667</td>\n",
       "      <td>0.000000</td>\n",
       "      <td>0.000000</td>\n",
       "      <td>0.166667</td>\n",
       "      <td>0.166667</td>\n",
       "      <td>0.333333</td>\n",
       "    </tr>\n",
       "    <tr>\n",
       "      <th>Analista Contábil Pl</th>\n",
       "      <td>0.200000</td>\n",
       "      <td>0.000000</td>\n",
       "      <td>0.000000</td>\n",
       "      <td>0.200000</td>\n",
       "      <td>0.000000</td>\n",
       "      <td>0.400000</td>\n",
       "      <td>0.000000</td>\n",
       "      <td>0.200000</td>\n",
       "      <td>0.000000</td>\n",
       "      <td>0.000000</td>\n",
       "    </tr>\n",
       "    <tr>\n",
       "      <th>Operador Empilhadeira</th>\n",
       "      <td>0.102041</td>\n",
       "      <td>0.020408</td>\n",
       "      <td>0.061224</td>\n",
       "      <td>0.040816</td>\n",
       "      <td>0.020408</td>\n",
       "      <td>0.265306</td>\n",
       "      <td>0.040816</td>\n",
       "      <td>0.244898</td>\n",
       "      <td>0.102041</td>\n",
       "      <td>0.102041</td>\n",
       "    </tr>\n",
       "    <tr>\n",
       "      <th>Analista Processos Jr</th>\n",
       "      <td>0.333333</td>\n",
       "      <td>0.000000</td>\n",
       "      <td>0.000000</td>\n",
       "      <td>0.333333</td>\n",
       "      <td>0.000000</td>\n",
       "      <td>0.000000</td>\n",
       "      <td>0.000000</td>\n",
       "      <td>0.000000</td>\n",
       "      <td>0.333333</td>\n",
       "      <td>0.000000</td>\n",
       "    </tr>\n",
       "    <tr>\n",
       "      <th>Operador Manufatura III</th>\n",
       "      <td>0.208333</td>\n",
       "      <td>0.000000</td>\n",
       "      <td>0.083333</td>\n",
       "      <td>0.125000</td>\n",
       "      <td>0.083333</td>\n",
       "      <td>0.083333</td>\n",
       "      <td>0.041667</td>\n",
       "      <td>0.166667</td>\n",
       "      <td>0.125000</td>\n",
       "      <td>0.083333</td>\n",
       "    </tr>\n",
       "    <tr>\n",
       "      <th>Preparador/Trocador De Fe</th>\n",
       "      <td>0.100000</td>\n",
       "      <td>0.050000</td>\n",
       "      <td>0.050000</td>\n",
       "      <td>0.100000</td>\n",
       "      <td>0.000000</td>\n",
       "      <td>0.150000</td>\n",
       "      <td>0.050000</td>\n",
       "      <td>0.250000</td>\n",
       "      <td>0.100000</td>\n",
       "      <td>0.150000</td>\n",
       "    </tr>\n",
       "    <tr>\n",
       "      <th>Estagiário</th>\n",
       "      <td>1.000000</td>\n",
       "      <td>0.000000</td>\n",
       "      <td>0.000000</td>\n",
       "      <td>0.000000</td>\n",
       "      <td>0.000000</td>\n",
       "      <td>0.000000</td>\n",
       "      <td>0.000000</td>\n",
       "      <td>0.000000</td>\n",
       "      <td>0.000000</td>\n",
       "      <td>0.000000</td>\n",
       "    </tr>\n",
       "    <tr>\n",
       "      <th>Técnico Processos</th>\n",
       "      <td>0.428571</td>\n",
       "      <td>0.000000</td>\n",
       "      <td>0.000000</td>\n",
       "      <td>0.142857</td>\n",
       "      <td>0.000000</td>\n",
       "      <td>0.000000</td>\n",
       "      <td>0.285714</td>\n",
       "      <td>0.000000</td>\n",
       "      <td>0.142857</td>\n",
       "      <td>0.000000</td>\n",
       "    </tr>\n",
       "    <tr>\n",
       "      <th>Inspetor Qualidade I</th>\n",
       "      <td>0.090909</td>\n",
       "      <td>0.090909</td>\n",
       "      <td>0.000000</td>\n",
       "      <td>0.090909</td>\n",
       "      <td>0.181818</td>\n",
       "      <td>0.000000</td>\n",
       "      <td>0.000000</td>\n",
       "      <td>0.272727</td>\n",
       "      <td>0.090909</td>\n",
       "      <td>0.181818</td>\n",
       "    </tr>\n",
       "    <tr>\n",
       "      <th>Operador/Abastecedor Empi</th>\n",
       "      <td>0.000000</td>\n",
       "      <td>0.000000</td>\n",
       "      <td>0.000000</td>\n",
       "      <td>0.000000</td>\n",
       "      <td>0.000000</td>\n",
       "      <td>1.000000</td>\n",
       "      <td>0.000000</td>\n",
       "      <td>0.000000</td>\n",
       "      <td>0.000000</td>\n",
       "      <td>0.000000</td>\n",
       "    </tr>\n",
       "    <tr>\n",
       "      <th>Operador Expedição</th>\n",
       "      <td>0.105263</td>\n",
       "      <td>0.017544</td>\n",
       "      <td>0.017544</td>\n",
       "      <td>0.017544</td>\n",
       "      <td>0.052632</td>\n",
       "      <td>0.192982</td>\n",
       "      <td>0.035088</td>\n",
       "      <td>0.368421</td>\n",
       "      <td>0.105263</td>\n",
       "      <td>0.087719</td>\n",
       "    </tr>\n",
       "    <tr>\n",
       "      <th>Operador Multifuncional</th>\n",
       "      <td>0.230769</td>\n",
       "      <td>0.000000</td>\n",
       "      <td>0.038462</td>\n",
       "      <td>0.000000</td>\n",
       "      <td>0.038462</td>\n",
       "      <td>0.230769</td>\n",
       "      <td>0.038462</td>\n",
       "      <td>0.307692</td>\n",
       "      <td>0.076923</td>\n",
       "      <td>0.038462</td>\n",
       "    </tr>\n",
       "    <tr>\n",
       "      <th>Operador Manufatura II</th>\n",
       "      <td>0.255814</td>\n",
       "      <td>0.023256</td>\n",
       "      <td>0.069767</td>\n",
       "      <td>0.093023</td>\n",
       "      <td>0.069767</td>\n",
       "      <td>0.116279</td>\n",
       "      <td>0.000000</td>\n",
       "      <td>0.139535</td>\n",
       "      <td>0.093023</td>\n",
       "      <td>0.139535</td>\n",
       "    </tr>\n",
       "    <tr>\n",
       "      <th>Ferramenteiro II</th>\n",
       "      <td>0.200000</td>\n",
       "      <td>0.100000</td>\n",
       "      <td>0.000000</td>\n",
       "      <td>0.100000</td>\n",
       "      <td>0.000000</td>\n",
       "      <td>0.300000</td>\n",
       "      <td>0.100000</td>\n",
       "      <td>0.000000</td>\n",
       "      <td>0.100000</td>\n",
       "      <td>0.100000</td>\n",
       "    </tr>\n",
       "    <tr>\n",
       "      <th>Eletricista Manutenção I</th>\n",
       "      <td>0.000000</td>\n",
       "      <td>0.000000</td>\n",
       "      <td>0.000000</td>\n",
       "      <td>0.000000</td>\n",
       "      <td>0.000000</td>\n",
       "      <td>0.000000</td>\n",
       "      <td>0.000000</td>\n",
       "      <td>0.500000</td>\n",
       "      <td>0.500000</td>\n",
       "      <td>0.000000</td>\n",
       "    </tr>\n",
       "    <tr>\n",
       "      <th>Eletricista Manutenção II</th>\n",
       "      <td>0.166667</td>\n",
       "      <td>0.055556</td>\n",
       "      <td>0.000000</td>\n",
       "      <td>0.000000</td>\n",
       "      <td>0.000000</td>\n",
       "      <td>0.222222</td>\n",
       "      <td>0.000000</td>\n",
       "      <td>0.388889</td>\n",
       "      <td>0.111111</td>\n",
       "      <td>0.055556</td>\n",
       "    </tr>\n",
       "    <tr>\n",
       "      <th>Assistente Distribuição</th>\n",
       "      <td>0.055556</td>\n",
       "      <td>0.000000</td>\n",
       "      <td>0.111111</td>\n",
       "      <td>0.222222</td>\n",
       "      <td>0.000000</td>\n",
       "      <td>0.222222</td>\n",
       "      <td>0.111111</td>\n",
       "      <td>0.055556</td>\n",
       "      <td>0.166667</td>\n",
       "      <td>0.055556</td>\n",
       "    </tr>\n",
       "    <tr>\n",
       "      <th>Apontador Produção II</th>\n",
       "      <td>0.125000</td>\n",
       "      <td>0.125000</td>\n",
       "      <td>0.000000</td>\n",
       "      <td>0.000000</td>\n",
       "      <td>0.000000</td>\n",
       "      <td>0.125000</td>\n",
       "      <td>0.125000</td>\n",
       "      <td>0.125000</td>\n",
       "      <td>0.125000</td>\n",
       "      <td>0.250000</td>\n",
       "    </tr>\n",
       "    <tr>\n",
       "      <th>Conferente Expedição I</th>\n",
       "      <td>0.144928</td>\n",
       "      <td>0.057971</td>\n",
       "      <td>0.028986</td>\n",
       "      <td>0.057971</td>\n",
       "      <td>0.000000</td>\n",
       "      <td>0.246377</td>\n",
       "      <td>0.000000</td>\n",
       "      <td>0.202899</td>\n",
       "      <td>0.173913</td>\n",
       "      <td>0.086957</td>\n",
       "    </tr>\n",
       "    <tr>\n",
       "      <th>Operador Carregamento</th>\n",
       "      <td>0.142857</td>\n",
       "      <td>0.000000</td>\n",
       "      <td>0.000000</td>\n",
       "      <td>0.000000</td>\n",
       "      <td>0.142857</td>\n",
       "      <td>0.142857</td>\n",
       "      <td>0.000000</td>\n",
       "      <td>0.428571</td>\n",
       "      <td>0.142857</td>\n",
       "      <td>0.000000</td>\n",
       "    </tr>\n",
       "    <tr>\n",
       "      <th>Preparador Matéria Prima</th>\n",
       "      <td>0.156250</td>\n",
       "      <td>0.062500</td>\n",
       "      <td>0.093750</td>\n",
       "      <td>0.156250</td>\n",
       "      <td>0.031250</td>\n",
       "      <td>0.125000</td>\n",
       "      <td>0.000000</td>\n",
       "      <td>0.218750</td>\n",
       "      <td>0.062500</td>\n",
       "      <td>0.093750</td>\n",
       "    </tr>\n",
       "    <tr>\n",
       "      <th>Apontador Produção I</th>\n",
       "      <td>0.285714</td>\n",
       "      <td>0.035714</td>\n",
       "      <td>0.000000</td>\n",
       "      <td>0.000000</td>\n",
       "      <td>0.071429</td>\n",
       "      <td>0.214286</td>\n",
       "      <td>0.035714</td>\n",
       "      <td>0.214286</td>\n",
       "      <td>0.107143</td>\n",
       "      <td>0.035714</td>\n",
       "    </tr>\n",
       "    <tr>\n",
       "      <th>Técnico Eletrônico</th>\n",
       "      <td>0.000000</td>\n",
       "      <td>0.000000</td>\n",
       "      <td>0.000000</td>\n",
       "      <td>0.000000</td>\n",
       "      <td>0.000000</td>\n",
       "      <td>1.000000</td>\n",
       "      <td>0.000000</td>\n",
       "      <td>0.000000</td>\n",
       "      <td>0.000000</td>\n",
       "      <td>0.000000</td>\n",
       "    </tr>\n",
       "    <tr>\n",
       "      <th>Operador Carro Elétrico</th>\n",
       "      <td>0.142857</td>\n",
       "      <td>0.142857</td>\n",
       "      <td>0.000000</td>\n",
       "      <td>0.142857</td>\n",
       "      <td>0.000000</td>\n",
       "      <td>0.285714</td>\n",
       "      <td>0.142857</td>\n",
       "      <td>0.000000</td>\n",
       "      <td>0.142857</td>\n",
       "      <td>0.000000</td>\n",
       "    </tr>\n",
       "    <tr>\n",
       "      <th>Mecânico Manutenção I</th>\n",
       "      <td>0.300000</td>\n",
       "      <td>0.000000</td>\n",
       "      <td>0.100000</td>\n",
       "      <td>0.100000</td>\n",
       "      <td>0.000000</td>\n",
       "      <td>0.300000</td>\n",
       "      <td>0.000000</td>\n",
       "      <td>0.200000</td>\n",
       "      <td>0.000000</td>\n",
       "      <td>0.000000</td>\n",
       "    </tr>\n",
       "    <tr>\n",
       "      <th>Inspetor Qualidade III</th>\n",
       "      <td>0.500000</td>\n",
       "      <td>0.000000</td>\n",
       "      <td>0.000000</td>\n",
       "      <td>0.000000</td>\n",
       "      <td>0.000000</td>\n",
       "      <td>0.000000</td>\n",
       "      <td>0.500000</td>\n",
       "      <td>0.000000</td>\n",
       "      <td>0.000000</td>\n",
       "      <td>0.000000</td>\n",
       "    </tr>\n",
       "    <tr>\n",
       "      <th>Mecânico Manutenção II</th>\n",
       "      <td>0.111111</td>\n",
       "      <td>0.000000</td>\n",
       "      <td>0.000000</td>\n",
       "      <td>0.000000</td>\n",
       "      <td>0.000000</td>\n",
       "      <td>0.444444</td>\n",
       "      <td>0.000000</td>\n",
       "      <td>0.000000</td>\n",
       "      <td>0.111111</td>\n",
       "      <td>0.333333</td>\n",
       "    </tr>\n",
       "    <tr>\n",
       "      <th>Ferramenteiro I</th>\n",
       "      <td>0.222222</td>\n",
       "      <td>0.111111</td>\n",
       "      <td>0.000000</td>\n",
       "      <td>0.000000</td>\n",
       "      <td>0.000000</td>\n",
       "      <td>0.000000</td>\n",
       "      <td>0.000000</td>\n",
       "      <td>0.444444</td>\n",
       "      <td>0.222222</td>\n",
       "      <td>0.000000</td>\n",
       "    </tr>\n",
       "    <tr>\n",
       "      <th>Ferramenteiro III</th>\n",
       "      <td>0.000000</td>\n",
       "      <td>0.000000</td>\n",
       "      <td>0.000000</td>\n",
       "      <td>0.000000</td>\n",
       "      <td>0.000000</td>\n",
       "      <td>0.000000</td>\n",
       "      <td>0.000000</td>\n",
       "      <td>0.500000</td>\n",
       "      <td>0.000000</td>\n",
       "      <td>0.500000</td>\n",
       "    </tr>\n",
       "  </tbody>\n",
       "</table>\n",
       "</div>"
      ],
      "text/plain": [
       "                                  0         1         2         3         4  \\\n",
       "Operador Manufatura I      0.164516  0.041935  0.032258  0.070968  0.041935   \n",
       "Controlador Produção       0.000000  0.000000  0.000000  0.000000  0.000000   \n",
       "Facilitador                0.000000  0.000000  0.000000  0.250000  0.000000   \n",
       "Conferente Almoxarifado    0.000000  0.250000  0.250000  0.000000  0.000000   \n",
       "Técnico Mecânico           0.000000  0.000000  0.000000  0.000000  0.500000   \n",
       "Mecânico Manutenção III    0.166667  0.000000  0.000000  0.000000  0.166667   \n",
       "Analista Contábil Pl       0.200000  0.000000  0.000000  0.200000  0.000000   \n",
       "Operador Empilhadeira      0.102041  0.020408  0.061224  0.040816  0.020408   \n",
       "Analista Processos Jr      0.333333  0.000000  0.000000  0.333333  0.000000   \n",
       "Operador Manufatura III    0.208333  0.000000  0.083333  0.125000  0.083333   \n",
       "Preparador/Trocador De Fe  0.100000  0.050000  0.050000  0.100000  0.000000   \n",
       "Estagiário                 1.000000  0.000000  0.000000  0.000000  0.000000   \n",
       "Técnico Processos          0.428571  0.000000  0.000000  0.142857  0.000000   \n",
       "Inspetor Qualidade I       0.090909  0.090909  0.000000  0.090909  0.181818   \n",
       "Operador/Abastecedor Empi  0.000000  0.000000  0.000000  0.000000  0.000000   \n",
       "Operador Expedição         0.105263  0.017544  0.017544  0.017544  0.052632   \n",
       "Operador Multifuncional    0.230769  0.000000  0.038462  0.000000  0.038462   \n",
       "Operador Manufatura II     0.255814  0.023256  0.069767  0.093023  0.069767   \n",
       "Ferramenteiro II           0.200000  0.100000  0.000000  0.100000  0.000000   \n",
       "Eletricista Manutenção I   0.000000  0.000000  0.000000  0.000000  0.000000   \n",
       "Eletricista Manutenção II  0.166667  0.055556  0.000000  0.000000  0.000000   \n",
       "Assistente Distribuição    0.055556  0.000000  0.111111  0.222222  0.000000   \n",
       "Apontador Produção II      0.125000  0.125000  0.000000  0.000000  0.000000   \n",
       "Conferente Expedição I     0.144928  0.057971  0.028986  0.057971  0.000000   \n",
       "Operador Carregamento      0.142857  0.000000  0.000000  0.000000  0.142857   \n",
       "Preparador Matéria Prima   0.156250  0.062500  0.093750  0.156250  0.031250   \n",
       "Apontador Produção I       0.285714  0.035714  0.000000  0.000000  0.071429   \n",
       "Técnico Eletrônico         0.000000  0.000000  0.000000  0.000000  0.000000   \n",
       "Operador Carro Elétrico    0.142857  0.142857  0.000000  0.142857  0.000000   \n",
       "Mecânico Manutenção I      0.300000  0.000000  0.100000  0.100000  0.000000   \n",
       "Inspetor Qualidade III     0.500000  0.000000  0.000000  0.000000  0.000000   \n",
       "Mecânico Manutenção II     0.111111  0.000000  0.000000  0.000000  0.000000   \n",
       "Ferramenteiro I            0.222222  0.111111  0.000000  0.000000  0.000000   \n",
       "Ferramenteiro III          0.000000  0.000000  0.000000  0.000000  0.000000   \n",
       "\n",
       "                                  5         6         7         8         9  \n",
       "Operador Manufatura I      0.187097  0.048387  0.219355  0.116129  0.077419  \n",
       "Controlador Produção       0.000000  0.000000  1.000000  0.000000  0.000000  \n",
       "Facilitador                0.250000  0.000000  0.500000  0.000000  0.000000  \n",
       "Conferente Almoxarifado    0.500000  0.000000  0.000000  0.000000  0.000000  \n",
       "Técnico Mecânico           0.500000  0.000000  0.000000  0.000000  0.000000  \n",
       "Mecânico Manutenção III    0.000000  0.000000  0.166667  0.166667  0.333333  \n",
       "Analista Contábil Pl       0.400000  0.000000  0.200000  0.000000  0.000000  \n",
       "Operador Empilhadeira      0.265306  0.040816  0.244898  0.102041  0.102041  \n",
       "Analista Processos Jr      0.000000  0.000000  0.000000  0.333333  0.000000  \n",
       "Operador Manufatura III    0.083333  0.041667  0.166667  0.125000  0.083333  \n",
       "Preparador/Trocador De Fe  0.150000  0.050000  0.250000  0.100000  0.150000  \n",
       "Estagiário                 0.000000  0.000000  0.000000  0.000000  0.000000  \n",
       "Técnico Processos          0.000000  0.285714  0.000000  0.142857  0.000000  \n",
       "Inspetor Qualidade I       0.000000  0.000000  0.272727  0.090909  0.181818  \n",
       "Operador/Abastecedor Empi  1.000000  0.000000  0.000000  0.000000  0.000000  \n",
       "Operador Expedição         0.192982  0.035088  0.368421  0.105263  0.087719  \n",
       "Operador Multifuncional    0.230769  0.038462  0.307692  0.076923  0.038462  \n",
       "Operador Manufatura II     0.116279  0.000000  0.139535  0.093023  0.139535  \n",
       "Ferramenteiro II           0.300000  0.100000  0.000000  0.100000  0.100000  \n",
       "Eletricista Manutenção I   0.000000  0.000000  0.500000  0.500000  0.000000  \n",
       "Eletricista Manutenção II  0.222222  0.000000  0.388889  0.111111  0.055556  \n",
       "Assistente Distribuição    0.222222  0.111111  0.055556  0.166667  0.055556  \n",
       "Apontador Produção II      0.125000  0.125000  0.125000  0.125000  0.250000  \n",
       "Conferente Expedição I     0.246377  0.000000  0.202899  0.173913  0.086957  \n",
       "Operador Carregamento      0.142857  0.000000  0.428571  0.142857  0.000000  \n",
       "Preparador Matéria Prima   0.125000  0.000000  0.218750  0.062500  0.093750  \n",
       "Apontador Produção I       0.214286  0.035714  0.214286  0.107143  0.035714  \n",
       "Técnico Eletrônico         1.000000  0.000000  0.000000  0.000000  0.000000  \n",
       "Operador Carro Elétrico    0.285714  0.142857  0.000000  0.142857  0.000000  \n",
       "Mecânico Manutenção I      0.300000  0.000000  0.200000  0.000000  0.000000  \n",
       "Inspetor Qualidade III     0.000000  0.500000  0.000000  0.000000  0.000000  \n",
       "Mecânico Manutenção II     0.444444  0.000000  0.000000  0.111111  0.333333  \n",
       "Ferramenteiro I            0.000000  0.000000  0.444444  0.222222  0.000000  \n",
       "Ferramenteiro III          0.000000  0.000000  0.500000  0.000000  0.500000  "
      ]
     },
     "metadata": {},
     "output_type": "display_data"
    },
    {
     "name": "stdout",
     "output_type": "stream",
     "text": [
      "A melhor separação de grupos ocorreu nas features: ['Tempo de Dispensa (dias)', 'Tempo de Entrega'] com uma quantidade de 8 grupos. A análise multidimensional de clusters é semelhante a análise bi-dimensional ou tri-dimensional, mas sua principal diferença é que utiliza todas as features disponíveis no dataset.\n"
     ]
    },
    {
     "data": {
      "text/html": [
       "<div>\n",
       "<style scoped>\n",
       "    .dataframe tbody tr th:only-of-type {\n",
       "        vertical-align: middle;\n",
       "    }\n",
       "\n",
       "    .dataframe tbody tr th {\n",
       "        vertical-align: top;\n",
       "    }\n",
       "\n",
       "    .dataframe thead th {\n",
       "        text-align: right;\n",
       "    }\n",
       "</style>\n",
       "<table border=\"1\" class=\"dataframe\">\n",
       "  <thead>\n",
       "    <tr style=\"text-align: right;\">\n",
       "      <th></th>\n",
       "      <th>0</th>\n",
       "      <th>1</th>\n",
       "      <th>2</th>\n",
       "      <th>3</th>\n",
       "      <th>4</th>\n",
       "      <th>5</th>\n",
       "      <th>6</th>\n",
       "      <th>7</th>\n",
       "    </tr>\n",
       "  </thead>\n",
       "  <tbody>\n",
       "    <tr>\n",
       "      <th>Operador Manufatura I</th>\n",
       "      <td>0.100000</td>\n",
       "      <td>0.225806</td>\n",
       "      <td>0.077419</td>\n",
       "      <td>0.041935</td>\n",
       "      <td>0.054839</td>\n",
       "      <td>0.193548</td>\n",
       "      <td>0.232258</td>\n",
       "      <td>0.074194</td>\n",
       "    </tr>\n",
       "    <tr>\n",
       "      <th>Controlador Produção</th>\n",
       "      <td>0.000000</td>\n",
       "      <td>0.000000</td>\n",
       "      <td>0.000000</td>\n",
       "      <td>0.000000</td>\n",
       "      <td>0.000000</td>\n",
       "      <td>0.000000</td>\n",
       "      <td>1.000000</td>\n",
       "      <td>0.000000</td>\n",
       "    </tr>\n",
       "    <tr>\n",
       "      <th>Facilitador</th>\n",
       "      <td>0.000000</td>\n",
       "      <td>0.250000</td>\n",
       "      <td>0.000000</td>\n",
       "      <td>0.000000</td>\n",
       "      <td>0.000000</td>\n",
       "      <td>0.000000</td>\n",
       "      <td>0.500000</td>\n",
       "      <td>0.250000</td>\n",
       "    </tr>\n",
       "    <tr>\n",
       "      <th>Conferente Almoxarifado</th>\n",
       "      <td>0.000000</td>\n",
       "      <td>0.500000</td>\n",
       "      <td>0.250000</td>\n",
       "      <td>0.250000</td>\n",
       "      <td>0.000000</td>\n",
       "      <td>0.000000</td>\n",
       "      <td>0.000000</td>\n",
       "      <td>0.000000</td>\n",
       "    </tr>\n",
       "    <tr>\n",
       "      <th>Técnico Mecânico</th>\n",
       "      <td>0.000000</td>\n",
       "      <td>0.500000</td>\n",
       "      <td>0.000000</td>\n",
       "      <td>0.000000</td>\n",
       "      <td>0.500000</td>\n",
       "      <td>0.000000</td>\n",
       "      <td>0.000000</td>\n",
       "      <td>0.000000</td>\n",
       "    </tr>\n",
       "    <tr>\n",
       "      <th>Mecânico Manutenção III</th>\n",
       "      <td>0.000000</td>\n",
       "      <td>0.000000</td>\n",
       "      <td>0.333333</td>\n",
       "      <td>0.000000</td>\n",
       "      <td>0.166667</td>\n",
       "      <td>0.333333</td>\n",
       "      <td>0.166667</td>\n",
       "      <td>0.000000</td>\n",
       "    </tr>\n",
       "    <tr>\n",
       "      <th>Analista Contábil Pl</th>\n",
       "      <td>0.000000</td>\n",
       "      <td>0.400000</td>\n",
       "      <td>0.000000</td>\n",
       "      <td>0.000000</td>\n",
       "      <td>0.000000</td>\n",
       "      <td>0.200000</td>\n",
       "      <td>0.200000</td>\n",
       "      <td>0.200000</td>\n",
       "    </tr>\n",
       "    <tr>\n",
       "      <th>Operador Empilhadeira</th>\n",
       "      <td>0.122449</td>\n",
       "      <td>0.265306</td>\n",
       "      <td>0.061224</td>\n",
       "      <td>0.081633</td>\n",
       "      <td>0.040816</td>\n",
       "      <td>0.142857</td>\n",
       "      <td>0.244898</td>\n",
       "      <td>0.040816</td>\n",
       "    </tr>\n",
       "    <tr>\n",
       "      <th>Analista Processos Jr</th>\n",
       "      <td>0.333333</td>\n",
       "      <td>0.000000</td>\n",
       "      <td>0.000000</td>\n",
       "      <td>0.000000</td>\n",
       "      <td>0.000000</td>\n",
       "      <td>0.333333</td>\n",
       "      <td>0.000000</td>\n",
       "      <td>0.333333</td>\n",
       "    </tr>\n",
       "    <tr>\n",
       "      <th>Operador Manufatura III</th>\n",
       "      <td>0.166667</td>\n",
       "      <td>0.083333</td>\n",
       "      <td>0.000000</td>\n",
       "      <td>0.083333</td>\n",
       "      <td>0.083333</td>\n",
       "      <td>0.291667</td>\n",
       "      <td>0.166667</td>\n",
       "      <td>0.125000</td>\n",
       "    </tr>\n",
       "    <tr>\n",
       "      <th>Preparador/Trocador De Fe</th>\n",
       "      <td>0.050000</td>\n",
       "      <td>0.250000</td>\n",
       "      <td>0.050000</td>\n",
       "      <td>0.050000</td>\n",
       "      <td>0.050000</td>\n",
       "      <td>0.150000</td>\n",
       "      <td>0.300000</td>\n",
       "      <td>0.100000</td>\n",
       "    </tr>\n",
       "    <tr>\n",
       "      <th>Estagiário</th>\n",
       "      <td>0.000000</td>\n",
       "      <td>0.000000</td>\n",
       "      <td>0.000000</td>\n",
       "      <td>0.000000</td>\n",
       "      <td>0.000000</td>\n",
       "      <td>1.000000</td>\n",
       "      <td>0.000000</td>\n",
       "      <td>0.000000</td>\n",
       "    </tr>\n",
       "    <tr>\n",
       "      <th>Técnico Processos</th>\n",
       "      <td>0.285714</td>\n",
       "      <td>0.000000</td>\n",
       "      <td>0.000000</td>\n",
       "      <td>0.000000</td>\n",
       "      <td>0.142857</td>\n",
       "      <td>0.428571</td>\n",
       "      <td>0.000000</td>\n",
       "      <td>0.142857</td>\n",
       "    </tr>\n",
       "    <tr>\n",
       "      <th>Inspetor Qualidade I</th>\n",
       "      <td>0.181818</td>\n",
       "      <td>0.090909</td>\n",
       "      <td>0.181818</td>\n",
       "      <td>0.000000</td>\n",
       "      <td>0.181818</td>\n",
       "      <td>0.000000</td>\n",
       "      <td>0.272727</td>\n",
       "      <td>0.090909</td>\n",
       "    </tr>\n",
       "    <tr>\n",
       "      <th>Operador/Abastecedor Empi</th>\n",
       "      <td>0.000000</td>\n",
       "      <td>1.000000</td>\n",
       "      <td>0.000000</td>\n",
       "      <td>0.000000</td>\n",
       "      <td>0.000000</td>\n",
       "      <td>0.000000</td>\n",
       "      <td>0.000000</td>\n",
       "      <td>0.000000</td>\n",
       "    </tr>\n",
       "    <tr>\n",
       "      <th>Operador Expedição</th>\n",
       "      <td>0.052632</td>\n",
       "      <td>0.210526</td>\n",
       "      <td>0.070175</td>\n",
       "      <td>0.017544</td>\n",
       "      <td>0.087719</td>\n",
       "      <td>0.157895</td>\n",
       "      <td>0.385965</td>\n",
       "      <td>0.017544</td>\n",
       "    </tr>\n",
       "    <tr>\n",
       "      <th>Operador Multifuncional</th>\n",
       "      <td>0.076923</td>\n",
       "      <td>0.269231</td>\n",
       "      <td>0.000000</td>\n",
       "      <td>0.038462</td>\n",
       "      <td>0.038462</td>\n",
       "      <td>0.192308</td>\n",
       "      <td>0.384615</td>\n",
       "      <td>0.000000</td>\n",
       "    </tr>\n",
       "    <tr>\n",
       "      <th>Operador Manufatura II</th>\n",
       "      <td>0.023256</td>\n",
       "      <td>0.162791</td>\n",
       "      <td>0.069767</td>\n",
       "      <td>0.069767</td>\n",
       "      <td>0.069767</td>\n",
       "      <td>0.348837</td>\n",
       "      <td>0.162791</td>\n",
       "      <td>0.093023</td>\n",
       "    </tr>\n",
       "    <tr>\n",
       "      <th>Ferramenteiro II</th>\n",
       "      <td>0.200000</td>\n",
       "      <td>0.300000</td>\n",
       "      <td>0.100000</td>\n",
       "      <td>0.000000</td>\n",
       "      <td>0.000000</td>\n",
       "      <td>0.300000</td>\n",
       "      <td>0.000000</td>\n",
       "      <td>0.100000</td>\n",
       "    </tr>\n",
       "    <tr>\n",
       "      <th>Eletricista Manutenção I</th>\n",
       "      <td>0.500000</td>\n",
       "      <td>0.000000</td>\n",
       "      <td>0.000000</td>\n",
       "      <td>0.000000</td>\n",
       "      <td>0.000000</td>\n",
       "      <td>0.000000</td>\n",
       "      <td>0.500000</td>\n",
       "      <td>0.000000</td>\n",
       "    </tr>\n",
       "    <tr>\n",
       "      <th>Eletricista Manutenção II</th>\n",
       "      <td>0.111111</td>\n",
       "      <td>0.222222</td>\n",
       "      <td>0.055556</td>\n",
       "      <td>0.055556</td>\n",
       "      <td>0.000000</td>\n",
       "      <td>0.166667</td>\n",
       "      <td>0.388889</td>\n",
       "      <td>0.000000</td>\n",
       "    </tr>\n",
       "    <tr>\n",
       "      <th>Assistente Distribuição</th>\n",
       "      <td>0.166667</td>\n",
       "      <td>0.222222</td>\n",
       "      <td>0.055556</td>\n",
       "      <td>0.111111</td>\n",
       "      <td>0.055556</td>\n",
       "      <td>0.111111</td>\n",
       "      <td>0.055556</td>\n",
       "      <td>0.222222</td>\n",
       "    </tr>\n",
       "    <tr>\n",
       "      <th>Apontador Produção II</th>\n",
       "      <td>0.125000</td>\n",
       "      <td>0.125000</td>\n",
       "      <td>0.375000</td>\n",
       "      <td>0.000000</td>\n",
       "      <td>0.125000</td>\n",
       "      <td>0.125000</td>\n",
       "      <td>0.125000</td>\n",
       "      <td>0.000000</td>\n",
       "    </tr>\n",
       "    <tr>\n",
       "      <th>Conferente Expedição I</th>\n",
       "      <td>0.130435</td>\n",
       "      <td>0.275362</td>\n",
       "      <td>0.086957</td>\n",
       "      <td>0.028986</td>\n",
       "      <td>0.000000</td>\n",
       "      <td>0.173913</td>\n",
       "      <td>0.246377</td>\n",
       "      <td>0.057971</td>\n",
       "    </tr>\n",
       "    <tr>\n",
       "      <th>Operador Carregamento</th>\n",
       "      <td>0.000000</td>\n",
       "      <td>0.142857</td>\n",
       "      <td>0.000000</td>\n",
       "      <td>0.000000</td>\n",
       "      <td>0.142857</td>\n",
       "      <td>0.142857</td>\n",
       "      <td>0.571429</td>\n",
       "      <td>0.000000</td>\n",
       "    </tr>\n",
       "    <tr>\n",
       "      <th>Preparador Matéria Prima</th>\n",
       "      <td>0.062500</td>\n",
       "      <td>0.156250</td>\n",
       "      <td>0.156250</td>\n",
       "      <td>0.093750</td>\n",
       "      <td>0.031250</td>\n",
       "      <td>0.156250</td>\n",
       "      <td>0.218750</td>\n",
       "      <td>0.125000</td>\n",
       "    </tr>\n",
       "    <tr>\n",
       "      <th>Apontador Produção I</th>\n",
       "      <td>0.071429</td>\n",
       "      <td>0.214286</td>\n",
       "      <td>0.071429</td>\n",
       "      <td>0.000000</td>\n",
       "      <td>0.107143</td>\n",
       "      <td>0.321429</td>\n",
       "      <td>0.214286</td>\n",
       "      <td>0.000000</td>\n",
       "    </tr>\n",
       "    <tr>\n",
       "      <th>Técnico Eletrônico</th>\n",
       "      <td>0.000000</td>\n",
       "      <td>1.000000</td>\n",
       "      <td>0.000000</td>\n",
       "      <td>0.000000</td>\n",
       "      <td>0.000000</td>\n",
       "      <td>0.000000</td>\n",
       "      <td>0.000000</td>\n",
       "      <td>0.000000</td>\n",
       "    </tr>\n",
       "    <tr>\n",
       "      <th>Operador Carro Elétrico</th>\n",
       "      <td>0.142857</td>\n",
       "      <td>0.285714</td>\n",
       "      <td>0.142857</td>\n",
       "      <td>0.000000</td>\n",
       "      <td>0.142857</td>\n",
       "      <td>0.142857</td>\n",
       "      <td>0.000000</td>\n",
       "      <td>0.142857</td>\n",
       "    </tr>\n",
       "    <tr>\n",
       "      <th>Mecânico Manutenção I</th>\n",
       "      <td>0.000000</td>\n",
       "      <td>0.300000</td>\n",
       "      <td>0.000000</td>\n",
       "      <td>0.100000</td>\n",
       "      <td>0.000000</td>\n",
       "      <td>0.300000</td>\n",
       "      <td>0.200000</td>\n",
       "      <td>0.100000</td>\n",
       "    </tr>\n",
       "    <tr>\n",
       "      <th>Inspetor Qualidade III</th>\n",
       "      <td>0.000000</td>\n",
       "      <td>0.000000</td>\n",
       "      <td>0.000000</td>\n",
       "      <td>0.000000</td>\n",
       "      <td>0.500000</td>\n",
       "      <td>0.500000</td>\n",
       "      <td>0.000000</td>\n",
       "      <td>0.000000</td>\n",
       "    </tr>\n",
       "    <tr>\n",
       "      <th>Mecânico Manutenção II</th>\n",
       "      <td>0.000000</td>\n",
       "      <td>0.666667</td>\n",
       "      <td>0.000000</td>\n",
       "      <td>0.000000</td>\n",
       "      <td>0.000000</td>\n",
       "      <td>0.333333</td>\n",
       "      <td>0.000000</td>\n",
       "      <td>0.000000</td>\n",
       "    </tr>\n",
       "    <tr>\n",
       "      <th>Ferramenteiro I</th>\n",
       "      <td>0.222222</td>\n",
       "      <td>0.000000</td>\n",
       "      <td>0.000000</td>\n",
       "      <td>0.111111</td>\n",
       "      <td>0.000000</td>\n",
       "      <td>0.222222</td>\n",
       "      <td>0.444444</td>\n",
       "      <td>0.000000</td>\n",
       "    </tr>\n",
       "    <tr>\n",
       "      <th>Ferramenteiro III</th>\n",
       "      <td>0.000000</td>\n",
       "      <td>0.500000</td>\n",
       "      <td>0.000000</td>\n",
       "      <td>0.000000</td>\n",
       "      <td>0.000000</td>\n",
       "      <td>0.000000</td>\n",
       "      <td>0.500000</td>\n",
       "      <td>0.000000</td>\n",
       "    </tr>\n",
       "  </tbody>\n",
       "</table>\n",
       "</div>"
      ],
      "text/plain": [
       "                                  0         1         2         3         4  \\\n",
       "Operador Manufatura I      0.100000  0.225806  0.077419  0.041935  0.054839   \n",
       "Controlador Produção       0.000000  0.000000  0.000000  0.000000  0.000000   \n",
       "Facilitador                0.000000  0.250000  0.000000  0.000000  0.000000   \n",
       "Conferente Almoxarifado    0.000000  0.500000  0.250000  0.250000  0.000000   \n",
       "Técnico Mecânico           0.000000  0.500000  0.000000  0.000000  0.500000   \n",
       "Mecânico Manutenção III    0.000000  0.000000  0.333333  0.000000  0.166667   \n",
       "Analista Contábil Pl       0.000000  0.400000  0.000000  0.000000  0.000000   \n",
       "Operador Empilhadeira      0.122449  0.265306  0.061224  0.081633  0.040816   \n",
       "Analista Processos Jr      0.333333  0.000000  0.000000  0.000000  0.000000   \n",
       "Operador Manufatura III    0.166667  0.083333  0.000000  0.083333  0.083333   \n",
       "Preparador/Trocador De Fe  0.050000  0.250000  0.050000  0.050000  0.050000   \n",
       "Estagiário                 0.000000  0.000000  0.000000  0.000000  0.000000   \n",
       "Técnico Processos          0.285714  0.000000  0.000000  0.000000  0.142857   \n",
       "Inspetor Qualidade I       0.181818  0.090909  0.181818  0.000000  0.181818   \n",
       "Operador/Abastecedor Empi  0.000000  1.000000  0.000000  0.000000  0.000000   \n",
       "Operador Expedição         0.052632  0.210526  0.070175  0.017544  0.087719   \n",
       "Operador Multifuncional    0.076923  0.269231  0.000000  0.038462  0.038462   \n",
       "Operador Manufatura II     0.023256  0.162791  0.069767  0.069767  0.069767   \n",
       "Ferramenteiro II           0.200000  0.300000  0.100000  0.000000  0.000000   \n",
       "Eletricista Manutenção I   0.500000  0.000000  0.000000  0.000000  0.000000   \n",
       "Eletricista Manutenção II  0.111111  0.222222  0.055556  0.055556  0.000000   \n",
       "Assistente Distribuição    0.166667  0.222222  0.055556  0.111111  0.055556   \n",
       "Apontador Produção II      0.125000  0.125000  0.375000  0.000000  0.125000   \n",
       "Conferente Expedição I     0.130435  0.275362  0.086957  0.028986  0.000000   \n",
       "Operador Carregamento      0.000000  0.142857  0.000000  0.000000  0.142857   \n",
       "Preparador Matéria Prima   0.062500  0.156250  0.156250  0.093750  0.031250   \n",
       "Apontador Produção I       0.071429  0.214286  0.071429  0.000000  0.107143   \n",
       "Técnico Eletrônico         0.000000  1.000000  0.000000  0.000000  0.000000   \n",
       "Operador Carro Elétrico    0.142857  0.285714  0.142857  0.000000  0.142857   \n",
       "Mecânico Manutenção I      0.000000  0.300000  0.000000  0.100000  0.000000   \n",
       "Inspetor Qualidade III     0.000000  0.000000  0.000000  0.000000  0.500000   \n",
       "Mecânico Manutenção II     0.000000  0.666667  0.000000  0.000000  0.000000   \n",
       "Ferramenteiro I            0.222222  0.000000  0.000000  0.111111  0.000000   \n",
       "Ferramenteiro III          0.000000  0.500000  0.000000  0.000000  0.000000   \n",
       "\n",
       "                                  5         6         7  \n",
       "Operador Manufatura I      0.193548  0.232258  0.074194  \n",
       "Controlador Produção       0.000000  1.000000  0.000000  \n",
       "Facilitador                0.000000  0.500000  0.250000  \n",
       "Conferente Almoxarifado    0.000000  0.000000  0.000000  \n",
       "Técnico Mecânico           0.000000  0.000000  0.000000  \n",
       "Mecânico Manutenção III    0.333333  0.166667  0.000000  \n",
       "Analista Contábil Pl       0.200000  0.200000  0.200000  \n",
       "Operador Empilhadeira      0.142857  0.244898  0.040816  \n",
       "Analista Processos Jr      0.333333  0.000000  0.333333  \n",
       "Operador Manufatura III    0.291667  0.166667  0.125000  \n",
       "Preparador/Trocador De Fe  0.150000  0.300000  0.100000  \n",
       "Estagiário                 1.000000  0.000000  0.000000  \n",
       "Técnico Processos          0.428571  0.000000  0.142857  \n",
       "Inspetor Qualidade I       0.000000  0.272727  0.090909  \n",
       "Operador/Abastecedor Empi  0.000000  0.000000  0.000000  \n",
       "Operador Expedição         0.157895  0.385965  0.017544  \n",
       "Operador Multifuncional    0.192308  0.384615  0.000000  \n",
       "Operador Manufatura II     0.348837  0.162791  0.093023  \n",
       "Ferramenteiro II           0.300000  0.000000  0.100000  \n",
       "Eletricista Manutenção I   0.000000  0.500000  0.000000  \n",
       "Eletricista Manutenção II  0.166667  0.388889  0.000000  \n",
       "Assistente Distribuição    0.111111  0.055556  0.222222  \n",
       "Apontador Produção II      0.125000  0.125000  0.000000  \n",
       "Conferente Expedição I     0.173913  0.246377  0.057971  \n",
       "Operador Carregamento      0.142857  0.571429  0.000000  \n",
       "Preparador Matéria Prima   0.156250  0.218750  0.125000  \n",
       "Apontador Produção I       0.321429  0.214286  0.000000  \n",
       "Técnico Eletrônico         0.000000  0.000000  0.000000  \n",
       "Operador Carro Elétrico    0.142857  0.000000  0.142857  \n",
       "Mecânico Manutenção I      0.300000  0.200000  0.100000  \n",
       "Inspetor Qualidade III     0.500000  0.000000  0.000000  \n",
       "Mecânico Manutenção II     0.333333  0.000000  0.000000  \n",
       "Ferramenteiro I            0.222222  0.444444  0.000000  \n",
       "Ferramenteiro III          0.000000  0.500000  0.000000  "
      ]
     },
     "metadata": {},
     "output_type": "display_data"
    },
    {
     "name": "stdout",
     "output_type": "stream",
     "text": [
      "Na tabela abaixo podemos observar a comparação de todos os métodos de clustering testados. O método com o maior score será considerado o melhor método, sendo este utilizado nas próximas análises.\n"
     ]
    },
    {
     "data": {
      "text/html": [
       "<div>\n",
       "<style scoped>\n",
       "    .dataframe tbody tr th:only-of-type {\n",
       "        vertical-align: middle;\n",
       "    }\n",
       "\n",
       "    .dataframe tbody tr th {\n",
       "        vertical-align: top;\n",
       "    }\n",
       "\n",
       "    .dataframe thead th {\n",
       "        text-align: right;\n",
       "    }\n",
       "</style>\n",
       "<table border=\"1\" class=\"dataframe\">\n",
       "  <thead>\n",
       "    <tr style=\"text-align: right;\">\n",
       "      <th></th>\n",
       "      <th>Feature Permutation 2 dim.</th>\n",
       "      <th>Multidimensional</th>\n",
       "    </tr>\n",
       "  </thead>\n",
       "  <tbody>\n",
       "    <tr>\n",
       "      <th>Tempo de Dispensa (dias) - Tempo de Entrega</th>\n",
       "      <td>0.422384</td>\n",
       "      <td>0.41016</td>\n",
       "    </tr>\n",
       "  </tbody>\n",
       "</table>\n",
       "</div>"
      ],
      "text/plain": [
       "                                             Feature Permutation 2 dim.  \\\n",
       "Tempo de Dispensa (dias) - Tempo de Entrega                    0.422384   \n",
       "\n",
       "                                             Multidimensional  \n",
       "Tempo de Dispensa (dias) - Tempo de Entrega           0.41016  "
      ]
     },
     "metadata": {},
     "output_type": "display_data"
    }
   ],
   "source": [
    "from insights.analysis.cluster_analysis_no_schema import cluster_analysis, numerical_insights, categorical_insights\n",
    "\n",
    "texts, tables, numerical_group, categorical_group = cluster_analysis(filtered_df, target_variable = target, dimensions=2, categorical=False)\n",
    "\n",
    "for text, table in zip(texts, tables):\n",
    "    print(text)\n",
    "    display(table)\n",
    "    \n"
   ]
  },
  {
   "cell_type": "code",
   "execution_count": 7,
   "metadata": {},
   "outputs": [
    {
     "name": "stdout",
     "output_type": "stream",
     "text": [
      "Insights obtidos das variáveis numéricas estão disponíveis nas tabelas a seguir, onde são apresentadas as diferenças das médias e variâncias entre a população geral e cada um dos grupos. A idéia é facilitar a observação de tendências distintas em cada um dos grupos, em relação a população geral. A tabela abaixo é relacionada com a diferença de médias entre os grupos e a população geral.\n"
     ]
    },
    {
     "data": {
      "text/html": [
       "<div>\n",
       "<style scoped>\n",
       "    .dataframe tbody tr th:only-of-type {\n",
       "        vertical-align: middle;\n",
       "    }\n",
       "\n",
       "    .dataframe tbody tr th {\n",
       "        vertical-align: top;\n",
       "    }\n",
       "\n",
       "    .dataframe thead th {\n",
       "        text-align: right;\n",
       "    }\n",
       "</style>\n",
       "<table border=\"1\" class=\"dataframe\">\n",
       "  <thead>\n",
       "    <tr style=\"text-align: right;\">\n",
       "      <th>cluster_group</th>\n",
       "      <th>0</th>\n",
       "      <th>1</th>\n",
       "      <th>2</th>\n",
       "      <th>3</th>\n",
       "      <th>4</th>\n",
       "      <th>5</th>\n",
       "      <th>6</th>\n",
       "      <th>7</th>\n",
       "    </tr>\n",
       "  </thead>\n",
       "  <tbody>\n",
       "    <tr>\n",
       "      <th>Tempo de Dispensa (dias)</th>\n",
       "      <td>3.561911</td>\n",
       "      <td>-2.049200</td>\n",
       "      <td>2.096911</td>\n",
       "      <td>-0.218645</td>\n",
       "      <td>9.894133</td>\n",
       "      <td>0.486911</td>\n",
       "      <td>-2.370381</td>\n",
       "      <td>-1.726271</td>\n",
       "    </tr>\n",
       "    <tr>\n",
       "      <th>Tempo de Entrega</th>\n",
       "      <td>-1.692308</td>\n",
       "      <td>0.657265</td>\n",
       "      <td>2.479487</td>\n",
       "      <td>9.846154</td>\n",
       "      <td>-0.776068</td>\n",
       "      <td>-1.947596</td>\n",
       "      <td>-1.971554</td>\n",
       "      <td>4.282517</td>\n",
       "    </tr>\n",
       "  </tbody>\n",
       "</table>\n",
       "</div>"
      ],
      "text/plain": [
       "cluster_group                    0         1         2         3         4  \\\n",
       "Tempo de Dispensa (dias)  3.561911 -2.049200  2.096911 -0.218645  9.894133   \n",
       "Tempo de Entrega         -1.692308  0.657265  2.479487  9.846154 -0.776068   \n",
       "\n",
       "cluster_group                    5         6         7  \n",
       "Tempo de Dispensa (dias)  0.486911 -2.370381 -1.726271  \n",
       "Tempo de Entrega         -1.947596 -1.971554  4.282517  "
      ]
     },
     "metadata": {},
     "output_type": "display_data"
    },
    {
     "name": "stdout",
     "output_type": "stream",
     "text": [
      "Abaixo podemos observar a tabela de variância entre os grupos e a população geral. Esta tabela de variância é importante de um ponto de vista de análise da variação das features dentro de cada um dos grupos. A ideia é que a variância dentro de um grupo específico seja menor em relação a população em geral.\n"
     ]
    },
    {
     "data": {
      "text/html": [
       "<div>\n",
       "<style scoped>\n",
       "    .dataframe tbody tr th:only-of-type {\n",
       "        vertical-align: middle;\n",
       "    }\n",
       "\n",
       "    .dataframe tbody tr th {\n",
       "        vertical-align: top;\n",
       "    }\n",
       "\n",
       "    .dataframe thead th {\n",
       "        text-align: right;\n",
       "    }\n",
       "</style>\n",
       "<table border=\"1\" class=\"dataframe\">\n",
       "  <thead>\n",
       "    <tr style=\"text-align: right;\">\n",
       "      <th>cluster_group</th>\n",
       "      <th>0</th>\n",
       "      <th>1</th>\n",
       "      <th>2</th>\n",
       "      <th>3</th>\n",
       "      <th>4</th>\n",
       "      <th>5</th>\n",
       "      <th>6</th>\n",
       "      <th>7</th>\n",
       "    </tr>\n",
       "  </thead>\n",
       "  <tbody>\n",
       "    <tr>\n",
       "      <th>Tempo de Dispensa (dias)</th>\n",
       "      <td>-2.056766</td>\n",
       "      <td>-2.487770</td>\n",
       "      <td>-1.620821</td>\n",
       "      <td>-0.854538</td>\n",
       "      <td>-1.350507</td>\n",
       "      <td>-2.483985</td>\n",
       "      <td>-2.732893</td>\n",
       "      <td>-2.179224</td>\n",
       "    </tr>\n",
       "    <tr>\n",
       "      <th>Tempo de Entrega</th>\n",
       "      <td>-1.540954</td>\n",
       "      <td>-2.316206</td>\n",
       "      <td>-1.588825</td>\n",
       "      <td>-1.041796</td>\n",
       "      <td>-1.126830</td>\n",
       "      <td>-2.055699</td>\n",
       "      <td>-2.282962</td>\n",
       "      <td>-1.782301</td>\n",
       "    </tr>\n",
       "  </tbody>\n",
       "</table>\n",
       "</div>"
      ],
      "text/plain": [
       "cluster_group                    0         1         2         3         4  \\\n",
       "Tempo de Dispensa (dias) -2.056766 -2.487770 -1.620821 -0.854538 -1.350507   \n",
       "Tempo de Entrega         -1.540954 -2.316206 -1.588825 -1.041796 -1.126830   \n",
       "\n",
       "cluster_group                    5         6         7  \n",
       "Tempo de Dispensa (dias) -2.483985 -2.732893 -2.179224  \n",
       "Tempo de Entrega         -2.055699 -2.282962 -1.782301  "
      ]
     },
     "metadata": {},
     "output_type": "display_data"
    },
    {
     "name": "stdout",
     "output_type": "stream",
     "text": [
      "Figuras também são aliadas importantes na visualização de dados. Nas figuras abaixo estão presentes duas figuras que representam a variação de média e variância de cada grupo em relação a população geral. Dados variando para a cor azul significam que a variação é negativa, enquanto dados variando para cores vermelhas significam que a variação é positiva.\n",
      "\n"
     ]
    },
    {
     "data": {
      "application/vnd.plotly.v1+json": {
       "config": {
        "plotlyServerURL": "https://plot.ly"
       },
       "data": [
        {
         "coloraxis": "coloraxis",
         "hovertemplate": "cluster_group: %{x}<br>y: %{y}<br>color: %{z}<extra></extra>",
         "name": "0",
         "type": "heatmap",
         "x": [
          "0",
          "1",
          "2",
          "3",
          "4",
          "5",
          "6",
          "7"
         ],
         "xaxis": "x",
         "y": [
          "Tempo de Dispensa (dias)",
          "Tempo de Entrega"
         ],
         "yaxis": "y",
         "z": [
          [
           3.5619106699751857,
           -2.049200441135925,
           2.096910669975186,
           -0.21864488558036976,
           9.894132892197408,
           0.48691066997518595,
           -2.370380996691481,
           -1.7262711482066322
          ],
          [
           -1.6923076923076923,
           0.6572649572649572,
           2.47948717948718,
           9.846153846153847,
           -0.776068376068376,
           -1.9475961538461537,
           -1.971554487179487,
           4.282517482517482
          ]
         ]
        }
       ],
       "layout": {
        "coloraxis": {
         "colorscale": [
          [
           0,
           "#0d0887"
          ],
          [
           0.1111111111111111,
           "#46039f"
          ],
          [
           0.2222222222222222,
           "#7201a8"
          ],
          [
           0.3333333333333333,
           "#9c179e"
          ],
          [
           0.4444444444444444,
           "#bd3786"
          ],
          [
           0.5555555555555556,
           "#d8576b"
          ],
          [
           0.6666666666666666,
           "#ed7953"
          ],
          [
           0.7777777777777778,
           "#fb9f3a"
          ],
          [
           0.8888888888888888,
           "#fdca26"
          ],
          [
           1,
           "#f0f921"
          ]
         ]
        },
        "template": {
         "data": {
          "bar": [
           {
            "error_x": {
             "color": "#2a3f5f"
            },
            "error_y": {
             "color": "#2a3f5f"
            },
            "marker": {
             "line": {
              "color": "#E5ECF6",
              "width": 0.5
             },
             "pattern": {
              "fillmode": "overlay",
              "size": 10,
              "solidity": 0.2
             }
            },
            "type": "bar"
           }
          ],
          "barpolar": [
           {
            "marker": {
             "line": {
              "color": "#E5ECF6",
              "width": 0.5
             },
             "pattern": {
              "fillmode": "overlay",
              "size": 10,
              "solidity": 0.2
             }
            },
            "type": "barpolar"
           }
          ],
          "carpet": [
           {
            "aaxis": {
             "endlinecolor": "#2a3f5f",
             "gridcolor": "white",
             "linecolor": "white",
             "minorgridcolor": "white",
             "startlinecolor": "#2a3f5f"
            },
            "baxis": {
             "endlinecolor": "#2a3f5f",
             "gridcolor": "white",
             "linecolor": "white",
             "minorgridcolor": "white",
             "startlinecolor": "#2a3f5f"
            },
            "type": "carpet"
           }
          ],
          "choropleth": [
           {
            "colorbar": {
             "outlinewidth": 0,
             "ticks": ""
            },
            "type": "choropleth"
           }
          ],
          "contour": [
           {
            "colorbar": {
             "outlinewidth": 0,
             "ticks": ""
            },
            "colorscale": [
             [
              0,
              "#0d0887"
             ],
             [
              0.1111111111111111,
              "#46039f"
             ],
             [
              0.2222222222222222,
              "#7201a8"
             ],
             [
              0.3333333333333333,
              "#9c179e"
             ],
             [
              0.4444444444444444,
              "#bd3786"
             ],
             [
              0.5555555555555556,
              "#d8576b"
             ],
             [
              0.6666666666666666,
              "#ed7953"
             ],
             [
              0.7777777777777778,
              "#fb9f3a"
             ],
             [
              0.8888888888888888,
              "#fdca26"
             ],
             [
              1,
              "#f0f921"
             ]
            ],
            "type": "contour"
           }
          ],
          "contourcarpet": [
           {
            "colorbar": {
             "outlinewidth": 0,
             "ticks": ""
            },
            "type": "contourcarpet"
           }
          ],
          "heatmap": [
           {
            "colorbar": {
             "outlinewidth": 0,
             "ticks": ""
            },
            "colorscale": [
             [
              0,
              "#0d0887"
             ],
             [
              0.1111111111111111,
              "#46039f"
             ],
             [
              0.2222222222222222,
              "#7201a8"
             ],
             [
              0.3333333333333333,
              "#9c179e"
             ],
             [
              0.4444444444444444,
              "#bd3786"
             ],
             [
              0.5555555555555556,
              "#d8576b"
             ],
             [
              0.6666666666666666,
              "#ed7953"
             ],
             [
              0.7777777777777778,
              "#fb9f3a"
             ],
             [
              0.8888888888888888,
              "#fdca26"
             ],
             [
              1,
              "#f0f921"
             ]
            ],
            "type": "heatmap"
           }
          ],
          "heatmapgl": [
           {
            "colorbar": {
             "outlinewidth": 0,
             "ticks": ""
            },
            "colorscale": [
             [
              0,
              "#0d0887"
             ],
             [
              0.1111111111111111,
              "#46039f"
             ],
             [
              0.2222222222222222,
              "#7201a8"
             ],
             [
              0.3333333333333333,
              "#9c179e"
             ],
             [
              0.4444444444444444,
              "#bd3786"
             ],
             [
              0.5555555555555556,
              "#d8576b"
             ],
             [
              0.6666666666666666,
              "#ed7953"
             ],
             [
              0.7777777777777778,
              "#fb9f3a"
             ],
             [
              0.8888888888888888,
              "#fdca26"
             ],
             [
              1,
              "#f0f921"
             ]
            ],
            "type": "heatmapgl"
           }
          ],
          "histogram": [
           {
            "marker": {
             "pattern": {
              "fillmode": "overlay",
              "size": 10,
              "solidity": 0.2
             }
            },
            "type": "histogram"
           }
          ],
          "histogram2d": [
           {
            "colorbar": {
             "outlinewidth": 0,
             "ticks": ""
            },
            "colorscale": [
             [
              0,
              "#0d0887"
             ],
             [
              0.1111111111111111,
              "#46039f"
             ],
             [
              0.2222222222222222,
              "#7201a8"
             ],
             [
              0.3333333333333333,
              "#9c179e"
             ],
             [
              0.4444444444444444,
              "#bd3786"
             ],
             [
              0.5555555555555556,
              "#d8576b"
             ],
             [
              0.6666666666666666,
              "#ed7953"
             ],
             [
              0.7777777777777778,
              "#fb9f3a"
             ],
             [
              0.8888888888888888,
              "#fdca26"
             ],
             [
              1,
              "#f0f921"
             ]
            ],
            "type": "histogram2d"
           }
          ],
          "histogram2dcontour": [
           {
            "colorbar": {
             "outlinewidth": 0,
             "ticks": ""
            },
            "colorscale": [
             [
              0,
              "#0d0887"
             ],
             [
              0.1111111111111111,
              "#46039f"
             ],
             [
              0.2222222222222222,
              "#7201a8"
             ],
             [
              0.3333333333333333,
              "#9c179e"
             ],
             [
              0.4444444444444444,
              "#bd3786"
             ],
             [
              0.5555555555555556,
              "#d8576b"
             ],
             [
              0.6666666666666666,
              "#ed7953"
             ],
             [
              0.7777777777777778,
              "#fb9f3a"
             ],
             [
              0.8888888888888888,
              "#fdca26"
             ],
             [
              1,
              "#f0f921"
             ]
            ],
            "type": "histogram2dcontour"
           }
          ],
          "mesh3d": [
           {
            "colorbar": {
             "outlinewidth": 0,
             "ticks": ""
            },
            "type": "mesh3d"
           }
          ],
          "parcoords": [
           {
            "line": {
             "colorbar": {
              "outlinewidth": 0,
              "ticks": ""
             }
            },
            "type": "parcoords"
           }
          ],
          "pie": [
           {
            "automargin": true,
            "type": "pie"
           }
          ],
          "scatter": [
           {
            "marker": {
             "colorbar": {
              "outlinewidth": 0,
              "ticks": ""
             }
            },
            "type": "scatter"
           }
          ],
          "scatter3d": [
           {
            "line": {
             "colorbar": {
              "outlinewidth": 0,
              "ticks": ""
             }
            },
            "marker": {
             "colorbar": {
              "outlinewidth": 0,
              "ticks": ""
             }
            },
            "type": "scatter3d"
           }
          ],
          "scattercarpet": [
           {
            "marker": {
             "colorbar": {
              "outlinewidth": 0,
              "ticks": ""
             }
            },
            "type": "scattercarpet"
           }
          ],
          "scattergeo": [
           {
            "marker": {
             "colorbar": {
              "outlinewidth": 0,
              "ticks": ""
             }
            },
            "type": "scattergeo"
           }
          ],
          "scattergl": [
           {
            "marker": {
             "colorbar": {
              "outlinewidth": 0,
              "ticks": ""
             }
            },
            "type": "scattergl"
           }
          ],
          "scattermapbox": [
           {
            "marker": {
             "colorbar": {
              "outlinewidth": 0,
              "ticks": ""
             }
            },
            "type": "scattermapbox"
           }
          ],
          "scatterpolar": [
           {
            "marker": {
             "colorbar": {
              "outlinewidth": 0,
              "ticks": ""
             }
            },
            "type": "scatterpolar"
           }
          ],
          "scatterpolargl": [
           {
            "marker": {
             "colorbar": {
              "outlinewidth": 0,
              "ticks": ""
             }
            },
            "type": "scatterpolargl"
           }
          ],
          "scatterternary": [
           {
            "marker": {
             "colorbar": {
              "outlinewidth": 0,
              "ticks": ""
             }
            },
            "type": "scatterternary"
           }
          ],
          "surface": [
           {
            "colorbar": {
             "outlinewidth": 0,
             "ticks": ""
            },
            "colorscale": [
             [
              0,
              "#0d0887"
             ],
             [
              0.1111111111111111,
              "#46039f"
             ],
             [
              0.2222222222222222,
              "#7201a8"
             ],
             [
              0.3333333333333333,
              "#9c179e"
             ],
             [
              0.4444444444444444,
              "#bd3786"
             ],
             [
              0.5555555555555556,
              "#d8576b"
             ],
             [
              0.6666666666666666,
              "#ed7953"
             ],
             [
              0.7777777777777778,
              "#fb9f3a"
             ],
             [
              0.8888888888888888,
              "#fdca26"
             ],
             [
              1,
              "#f0f921"
             ]
            ],
            "type": "surface"
           }
          ],
          "table": [
           {
            "cells": {
             "fill": {
              "color": "#EBF0F8"
             },
             "line": {
              "color": "white"
             }
            },
            "header": {
             "fill": {
              "color": "#C8D4E3"
             },
             "line": {
              "color": "white"
             }
            },
            "type": "table"
           }
          ]
         },
         "layout": {
          "annotationdefaults": {
           "arrowcolor": "#2a3f5f",
           "arrowhead": 0,
           "arrowwidth": 1
          },
          "autotypenumbers": "strict",
          "coloraxis": {
           "colorbar": {
            "outlinewidth": 0,
            "ticks": ""
           }
          },
          "colorscale": {
           "diverging": [
            [
             0,
             "#8e0152"
            ],
            [
             0.1,
             "#c51b7d"
            ],
            [
             0.2,
             "#de77ae"
            ],
            [
             0.3,
             "#f1b6da"
            ],
            [
             0.4,
             "#fde0ef"
            ],
            [
             0.5,
             "#f7f7f7"
            ],
            [
             0.6,
             "#e6f5d0"
            ],
            [
             0.7,
             "#b8e186"
            ],
            [
             0.8,
             "#7fbc41"
            ],
            [
             0.9,
             "#4d9221"
            ],
            [
             1,
             "#276419"
            ]
           ],
           "sequential": [
            [
             0,
             "#0d0887"
            ],
            [
             0.1111111111111111,
             "#46039f"
            ],
            [
             0.2222222222222222,
             "#7201a8"
            ],
            [
             0.3333333333333333,
             "#9c179e"
            ],
            [
             0.4444444444444444,
             "#bd3786"
            ],
            [
             0.5555555555555556,
             "#d8576b"
            ],
            [
             0.6666666666666666,
             "#ed7953"
            ],
            [
             0.7777777777777778,
             "#fb9f3a"
            ],
            [
             0.8888888888888888,
             "#fdca26"
            ],
            [
             1,
             "#f0f921"
            ]
           ],
           "sequentialminus": [
            [
             0,
             "#0d0887"
            ],
            [
             0.1111111111111111,
             "#46039f"
            ],
            [
             0.2222222222222222,
             "#7201a8"
            ],
            [
             0.3333333333333333,
             "#9c179e"
            ],
            [
             0.4444444444444444,
             "#bd3786"
            ],
            [
             0.5555555555555556,
             "#d8576b"
            ],
            [
             0.6666666666666666,
             "#ed7953"
            ],
            [
             0.7777777777777778,
             "#fb9f3a"
            ],
            [
             0.8888888888888888,
             "#fdca26"
            ],
            [
             1,
             "#f0f921"
            ]
           ]
          },
          "colorway": [
           "#636efa",
           "#EF553B",
           "#00cc96",
           "#ab63fa",
           "#FFA15A",
           "#19d3f3",
           "#FF6692",
           "#B6E880",
           "#FF97FF",
           "#FECB52"
          ],
          "font": {
           "color": "#2a3f5f"
          },
          "geo": {
           "bgcolor": "white",
           "lakecolor": "white",
           "landcolor": "#E5ECF6",
           "showlakes": true,
           "showland": true,
           "subunitcolor": "white"
          },
          "hoverlabel": {
           "align": "left"
          },
          "hovermode": "closest",
          "mapbox": {
           "style": "light"
          },
          "paper_bgcolor": "white",
          "plot_bgcolor": "#E5ECF6",
          "polar": {
           "angularaxis": {
            "gridcolor": "white",
            "linecolor": "white",
            "ticks": ""
           },
           "bgcolor": "#E5ECF6",
           "radialaxis": {
            "gridcolor": "white",
            "linecolor": "white",
            "ticks": ""
           }
          },
          "scene": {
           "xaxis": {
            "backgroundcolor": "#E5ECF6",
            "gridcolor": "white",
            "gridwidth": 2,
            "linecolor": "white",
            "showbackground": true,
            "ticks": "",
            "zerolinecolor": "white"
           },
           "yaxis": {
            "backgroundcolor": "#E5ECF6",
            "gridcolor": "white",
            "gridwidth": 2,
            "linecolor": "white",
            "showbackground": true,
            "ticks": "",
            "zerolinecolor": "white"
           },
           "zaxis": {
            "backgroundcolor": "#E5ECF6",
            "gridcolor": "white",
            "gridwidth": 2,
            "linecolor": "white",
            "showbackground": true,
            "ticks": "",
            "zerolinecolor": "white"
           }
          },
          "shapedefaults": {
           "line": {
            "color": "#2a3f5f"
           }
          },
          "ternary": {
           "aaxis": {
            "gridcolor": "white",
            "linecolor": "white",
            "ticks": ""
           },
           "baxis": {
            "gridcolor": "white",
            "linecolor": "white",
            "ticks": ""
           },
           "bgcolor": "#E5ECF6",
           "caxis": {
            "gridcolor": "white",
            "linecolor": "white",
            "ticks": ""
           }
          },
          "title": {
           "x": 0.05
          },
          "xaxis": {
           "automargin": true,
           "gridcolor": "white",
           "linecolor": "white",
           "ticks": "",
           "title": {
            "standoff": 15
           },
           "zerolinecolor": "white",
           "zerolinewidth": 2
          },
          "yaxis": {
           "automargin": true,
           "gridcolor": "white",
           "linecolor": "white",
           "ticks": "",
           "title": {
            "standoff": 15
           },
           "zerolinecolor": "white",
           "zerolinewidth": 2
          }
         }
        },
        "title": {
         "text": "Insights - Variáveis Numéricas - Médias"
        },
        "xaxis": {
         "anchor": "y",
         "constrain": "domain",
         "domain": [
          0,
          1
         ],
         "scaleanchor": "y",
         "title": {
          "text": "cluster_group"
         }
        },
        "yaxis": {
         "anchor": "x",
         "autorange": "reversed",
         "constrain": "domain",
         "domain": [
          0,
          1
         ]
        }
       }
      }
     },
     "metadata": {},
     "output_type": "display_data"
    },
    {
     "data": {
      "application/vnd.plotly.v1+json": {
       "config": {
        "plotlyServerURL": "https://plot.ly"
       },
       "data": [
        {
         "coloraxis": "coloraxis",
         "hovertemplate": "cluster_group: %{x}<br>y: %{y}<br>color: %{z}<extra></extra>",
         "name": "0",
         "type": "heatmap",
         "x": [
          "0",
          "1",
          "2",
          "3",
          "4",
          "5",
          "6",
          "7"
         ],
         "xaxis": "x",
         "y": [
          "Tempo de Dispensa (dias)",
          "Tempo de Entrega"
         ],
         "yaxis": "y",
         "z": [
          [
           -2.0567657475340515,
           -2.487770396366873,
           -1.620821189769669,
           -0.8545383821965258,
           -1.3505067111408726,
           -2.4839847923352725,
           -2.732892676628995,
           -2.179223586572814
          ],
          [
           -1.5409542520477728,
           -2.3162061577139017,
           -1.588824599476948,
           -1.0417960025275934,
           -1.1268295057548119,
           -2.055698646568736,
           -2.282961735489481,
           -1.7823012853234665
          ]
         ]
        }
       ],
       "layout": {
        "coloraxis": {
         "colorscale": [
          [
           0,
           "#0d0887"
          ],
          [
           0.1111111111111111,
           "#46039f"
          ],
          [
           0.2222222222222222,
           "#7201a8"
          ],
          [
           0.3333333333333333,
           "#9c179e"
          ],
          [
           0.4444444444444444,
           "#bd3786"
          ],
          [
           0.5555555555555556,
           "#d8576b"
          ],
          [
           0.6666666666666666,
           "#ed7953"
          ],
          [
           0.7777777777777778,
           "#fb9f3a"
          ],
          [
           0.8888888888888888,
           "#fdca26"
          ],
          [
           1,
           "#f0f921"
          ]
         ]
        },
        "template": {
         "data": {
          "bar": [
           {
            "error_x": {
             "color": "#2a3f5f"
            },
            "error_y": {
             "color": "#2a3f5f"
            },
            "marker": {
             "line": {
              "color": "#E5ECF6",
              "width": 0.5
             },
             "pattern": {
              "fillmode": "overlay",
              "size": 10,
              "solidity": 0.2
             }
            },
            "type": "bar"
           }
          ],
          "barpolar": [
           {
            "marker": {
             "line": {
              "color": "#E5ECF6",
              "width": 0.5
             },
             "pattern": {
              "fillmode": "overlay",
              "size": 10,
              "solidity": 0.2
             }
            },
            "type": "barpolar"
           }
          ],
          "carpet": [
           {
            "aaxis": {
             "endlinecolor": "#2a3f5f",
             "gridcolor": "white",
             "linecolor": "white",
             "minorgridcolor": "white",
             "startlinecolor": "#2a3f5f"
            },
            "baxis": {
             "endlinecolor": "#2a3f5f",
             "gridcolor": "white",
             "linecolor": "white",
             "minorgridcolor": "white",
             "startlinecolor": "#2a3f5f"
            },
            "type": "carpet"
           }
          ],
          "choropleth": [
           {
            "colorbar": {
             "outlinewidth": 0,
             "ticks": ""
            },
            "type": "choropleth"
           }
          ],
          "contour": [
           {
            "colorbar": {
             "outlinewidth": 0,
             "ticks": ""
            },
            "colorscale": [
             [
              0,
              "#0d0887"
             ],
             [
              0.1111111111111111,
              "#46039f"
             ],
             [
              0.2222222222222222,
              "#7201a8"
             ],
             [
              0.3333333333333333,
              "#9c179e"
             ],
             [
              0.4444444444444444,
              "#bd3786"
             ],
             [
              0.5555555555555556,
              "#d8576b"
             ],
             [
              0.6666666666666666,
              "#ed7953"
             ],
             [
              0.7777777777777778,
              "#fb9f3a"
             ],
             [
              0.8888888888888888,
              "#fdca26"
             ],
             [
              1,
              "#f0f921"
             ]
            ],
            "type": "contour"
           }
          ],
          "contourcarpet": [
           {
            "colorbar": {
             "outlinewidth": 0,
             "ticks": ""
            },
            "type": "contourcarpet"
           }
          ],
          "heatmap": [
           {
            "colorbar": {
             "outlinewidth": 0,
             "ticks": ""
            },
            "colorscale": [
             [
              0,
              "#0d0887"
             ],
             [
              0.1111111111111111,
              "#46039f"
             ],
             [
              0.2222222222222222,
              "#7201a8"
             ],
             [
              0.3333333333333333,
              "#9c179e"
             ],
             [
              0.4444444444444444,
              "#bd3786"
             ],
             [
              0.5555555555555556,
              "#d8576b"
             ],
             [
              0.6666666666666666,
              "#ed7953"
             ],
             [
              0.7777777777777778,
              "#fb9f3a"
             ],
             [
              0.8888888888888888,
              "#fdca26"
             ],
             [
              1,
              "#f0f921"
             ]
            ],
            "type": "heatmap"
           }
          ],
          "heatmapgl": [
           {
            "colorbar": {
             "outlinewidth": 0,
             "ticks": ""
            },
            "colorscale": [
             [
              0,
              "#0d0887"
             ],
             [
              0.1111111111111111,
              "#46039f"
             ],
             [
              0.2222222222222222,
              "#7201a8"
             ],
             [
              0.3333333333333333,
              "#9c179e"
             ],
             [
              0.4444444444444444,
              "#bd3786"
             ],
             [
              0.5555555555555556,
              "#d8576b"
             ],
             [
              0.6666666666666666,
              "#ed7953"
             ],
             [
              0.7777777777777778,
              "#fb9f3a"
             ],
             [
              0.8888888888888888,
              "#fdca26"
             ],
             [
              1,
              "#f0f921"
             ]
            ],
            "type": "heatmapgl"
           }
          ],
          "histogram": [
           {
            "marker": {
             "pattern": {
              "fillmode": "overlay",
              "size": 10,
              "solidity": 0.2
             }
            },
            "type": "histogram"
           }
          ],
          "histogram2d": [
           {
            "colorbar": {
             "outlinewidth": 0,
             "ticks": ""
            },
            "colorscale": [
             [
              0,
              "#0d0887"
             ],
             [
              0.1111111111111111,
              "#46039f"
             ],
             [
              0.2222222222222222,
              "#7201a8"
             ],
             [
              0.3333333333333333,
              "#9c179e"
             ],
             [
              0.4444444444444444,
              "#bd3786"
             ],
             [
              0.5555555555555556,
              "#d8576b"
             ],
             [
              0.6666666666666666,
              "#ed7953"
             ],
             [
              0.7777777777777778,
              "#fb9f3a"
             ],
             [
              0.8888888888888888,
              "#fdca26"
             ],
             [
              1,
              "#f0f921"
             ]
            ],
            "type": "histogram2d"
           }
          ],
          "histogram2dcontour": [
           {
            "colorbar": {
             "outlinewidth": 0,
             "ticks": ""
            },
            "colorscale": [
             [
              0,
              "#0d0887"
             ],
             [
              0.1111111111111111,
              "#46039f"
             ],
             [
              0.2222222222222222,
              "#7201a8"
             ],
             [
              0.3333333333333333,
              "#9c179e"
             ],
             [
              0.4444444444444444,
              "#bd3786"
             ],
             [
              0.5555555555555556,
              "#d8576b"
             ],
             [
              0.6666666666666666,
              "#ed7953"
             ],
             [
              0.7777777777777778,
              "#fb9f3a"
             ],
             [
              0.8888888888888888,
              "#fdca26"
             ],
             [
              1,
              "#f0f921"
             ]
            ],
            "type": "histogram2dcontour"
           }
          ],
          "mesh3d": [
           {
            "colorbar": {
             "outlinewidth": 0,
             "ticks": ""
            },
            "type": "mesh3d"
           }
          ],
          "parcoords": [
           {
            "line": {
             "colorbar": {
              "outlinewidth": 0,
              "ticks": ""
             }
            },
            "type": "parcoords"
           }
          ],
          "pie": [
           {
            "automargin": true,
            "type": "pie"
           }
          ],
          "scatter": [
           {
            "marker": {
             "colorbar": {
              "outlinewidth": 0,
              "ticks": ""
             }
            },
            "type": "scatter"
           }
          ],
          "scatter3d": [
           {
            "line": {
             "colorbar": {
              "outlinewidth": 0,
              "ticks": ""
             }
            },
            "marker": {
             "colorbar": {
              "outlinewidth": 0,
              "ticks": ""
             }
            },
            "type": "scatter3d"
           }
          ],
          "scattercarpet": [
           {
            "marker": {
             "colorbar": {
              "outlinewidth": 0,
              "ticks": ""
             }
            },
            "type": "scattercarpet"
           }
          ],
          "scattergeo": [
           {
            "marker": {
             "colorbar": {
              "outlinewidth": 0,
              "ticks": ""
             }
            },
            "type": "scattergeo"
           }
          ],
          "scattergl": [
           {
            "marker": {
             "colorbar": {
              "outlinewidth": 0,
              "ticks": ""
             }
            },
            "type": "scattergl"
           }
          ],
          "scattermapbox": [
           {
            "marker": {
             "colorbar": {
              "outlinewidth": 0,
              "ticks": ""
             }
            },
            "type": "scattermapbox"
           }
          ],
          "scatterpolar": [
           {
            "marker": {
             "colorbar": {
              "outlinewidth": 0,
              "ticks": ""
             }
            },
            "type": "scatterpolar"
           }
          ],
          "scatterpolargl": [
           {
            "marker": {
             "colorbar": {
              "outlinewidth": 0,
              "ticks": ""
             }
            },
            "type": "scatterpolargl"
           }
          ],
          "scatterternary": [
           {
            "marker": {
             "colorbar": {
              "outlinewidth": 0,
              "ticks": ""
             }
            },
            "type": "scatterternary"
           }
          ],
          "surface": [
           {
            "colorbar": {
             "outlinewidth": 0,
             "ticks": ""
            },
            "colorscale": [
             [
              0,
              "#0d0887"
             ],
             [
              0.1111111111111111,
              "#46039f"
             ],
             [
              0.2222222222222222,
              "#7201a8"
             ],
             [
              0.3333333333333333,
              "#9c179e"
             ],
             [
              0.4444444444444444,
              "#bd3786"
             ],
             [
              0.5555555555555556,
              "#d8576b"
             ],
             [
              0.6666666666666666,
              "#ed7953"
             ],
             [
              0.7777777777777778,
              "#fb9f3a"
             ],
             [
              0.8888888888888888,
              "#fdca26"
             ],
             [
              1,
              "#f0f921"
             ]
            ],
            "type": "surface"
           }
          ],
          "table": [
           {
            "cells": {
             "fill": {
              "color": "#EBF0F8"
             },
             "line": {
              "color": "white"
             }
            },
            "header": {
             "fill": {
              "color": "#C8D4E3"
             },
             "line": {
              "color": "white"
             }
            },
            "type": "table"
           }
          ]
         },
         "layout": {
          "annotationdefaults": {
           "arrowcolor": "#2a3f5f",
           "arrowhead": 0,
           "arrowwidth": 1
          },
          "autotypenumbers": "strict",
          "coloraxis": {
           "colorbar": {
            "outlinewidth": 0,
            "ticks": ""
           }
          },
          "colorscale": {
           "diverging": [
            [
             0,
             "#8e0152"
            ],
            [
             0.1,
             "#c51b7d"
            ],
            [
             0.2,
             "#de77ae"
            ],
            [
             0.3,
             "#f1b6da"
            ],
            [
             0.4,
             "#fde0ef"
            ],
            [
             0.5,
             "#f7f7f7"
            ],
            [
             0.6,
             "#e6f5d0"
            ],
            [
             0.7,
             "#b8e186"
            ],
            [
             0.8,
             "#7fbc41"
            ],
            [
             0.9,
             "#4d9221"
            ],
            [
             1,
             "#276419"
            ]
           ],
           "sequential": [
            [
             0,
             "#0d0887"
            ],
            [
             0.1111111111111111,
             "#46039f"
            ],
            [
             0.2222222222222222,
             "#7201a8"
            ],
            [
             0.3333333333333333,
             "#9c179e"
            ],
            [
             0.4444444444444444,
             "#bd3786"
            ],
            [
             0.5555555555555556,
             "#d8576b"
            ],
            [
             0.6666666666666666,
             "#ed7953"
            ],
            [
             0.7777777777777778,
             "#fb9f3a"
            ],
            [
             0.8888888888888888,
             "#fdca26"
            ],
            [
             1,
             "#f0f921"
            ]
           ],
           "sequentialminus": [
            [
             0,
             "#0d0887"
            ],
            [
             0.1111111111111111,
             "#46039f"
            ],
            [
             0.2222222222222222,
             "#7201a8"
            ],
            [
             0.3333333333333333,
             "#9c179e"
            ],
            [
             0.4444444444444444,
             "#bd3786"
            ],
            [
             0.5555555555555556,
             "#d8576b"
            ],
            [
             0.6666666666666666,
             "#ed7953"
            ],
            [
             0.7777777777777778,
             "#fb9f3a"
            ],
            [
             0.8888888888888888,
             "#fdca26"
            ],
            [
             1,
             "#f0f921"
            ]
           ]
          },
          "colorway": [
           "#636efa",
           "#EF553B",
           "#00cc96",
           "#ab63fa",
           "#FFA15A",
           "#19d3f3",
           "#FF6692",
           "#B6E880",
           "#FF97FF",
           "#FECB52"
          ],
          "font": {
           "color": "#2a3f5f"
          },
          "geo": {
           "bgcolor": "white",
           "lakecolor": "white",
           "landcolor": "#E5ECF6",
           "showlakes": true,
           "showland": true,
           "subunitcolor": "white"
          },
          "hoverlabel": {
           "align": "left"
          },
          "hovermode": "closest",
          "mapbox": {
           "style": "light"
          },
          "paper_bgcolor": "white",
          "plot_bgcolor": "#E5ECF6",
          "polar": {
           "angularaxis": {
            "gridcolor": "white",
            "linecolor": "white",
            "ticks": ""
           },
           "bgcolor": "#E5ECF6",
           "radialaxis": {
            "gridcolor": "white",
            "linecolor": "white",
            "ticks": ""
           }
          },
          "scene": {
           "xaxis": {
            "backgroundcolor": "#E5ECF6",
            "gridcolor": "white",
            "gridwidth": 2,
            "linecolor": "white",
            "showbackground": true,
            "ticks": "",
            "zerolinecolor": "white"
           },
           "yaxis": {
            "backgroundcolor": "#E5ECF6",
            "gridcolor": "white",
            "gridwidth": 2,
            "linecolor": "white",
            "showbackground": true,
            "ticks": "",
            "zerolinecolor": "white"
           },
           "zaxis": {
            "backgroundcolor": "#E5ECF6",
            "gridcolor": "white",
            "gridwidth": 2,
            "linecolor": "white",
            "showbackground": true,
            "ticks": "",
            "zerolinecolor": "white"
           }
          },
          "shapedefaults": {
           "line": {
            "color": "#2a3f5f"
           }
          },
          "ternary": {
           "aaxis": {
            "gridcolor": "white",
            "linecolor": "white",
            "ticks": ""
           },
           "baxis": {
            "gridcolor": "white",
            "linecolor": "white",
            "ticks": ""
           },
           "bgcolor": "#E5ECF6",
           "caxis": {
            "gridcolor": "white",
            "linecolor": "white",
            "ticks": ""
           }
          },
          "title": {
           "x": 0.05
          },
          "xaxis": {
           "automargin": true,
           "gridcolor": "white",
           "linecolor": "white",
           "ticks": "",
           "title": {
            "standoff": 15
           },
           "zerolinecolor": "white",
           "zerolinewidth": 2
          },
          "yaxis": {
           "automargin": true,
           "gridcolor": "white",
           "linecolor": "white",
           "ticks": "",
           "title": {
            "standoff": 15
           },
           "zerolinecolor": "white",
           "zerolinewidth": 2
          }
         }
        },
        "title": {
         "text": "Insights - Variáveis Numéricas - Variâncias"
        },
        "xaxis": {
         "anchor": "y",
         "constrain": "domain",
         "domain": [
          0,
          1
         ],
         "scaleanchor": "y",
         "title": {
          "text": "cluster_group"
         }
        },
        "yaxis": {
         "anchor": "x",
         "autorange": "reversed",
         "constrain": "domain",
         "domain": [
          0,
          1
         ]
        }
       }
      }
     },
     "metadata": {},
     "output_type": "display_data"
    },
    {
     "name": "stdout",
     "output_type": "stream",
     "text": [
      "A maior diferença populacional positiva foi detectada na feature Tempo de Dispensa (dias) e no grupo 4, com valor de 9.89. A maior variação negativa foi na feature Tempo de Dispensa (dias) e no grupo 6, com o valor registrado de -2.37\n",
      "\n"
     ]
    }
   ],
   "source": [
    "texts, figures, tables = numerical_insights(numerical_group)\n",
    "\n",
    "print(texts[0])\n",
    "display(tables[0])\n",
    "print(texts[1])\n",
    "display(tables[1])\n",
    "print(texts[2])\n",
    "for figure in figures:\n",
    "    figure.show()\n",
    "print(texts[3])"
   ]
  },
  {
   "cell_type": "code",
   "execution_count": 8,
   "metadata": {},
   "outputs": [
    {
     "name": "stdout",
     "output_type": "stream",
     "text": [
      "É possível observar nas tabelas abaixo alguns dados notáveis extraídos dos grupos da base de dados. Estas tabelas de diferenças máximas e mínimas visam demonstrar as diferenças de distribuição entre a população e os grupos. A linha Contagem mostra a contagem daquela classe dentro do grupo, A linha Proporção mostra a proporção da classe em relação a população do grupo, A linha Diferença da População mostra a diferença de proporção daquela população no grupo em relação a população geral. \n",
      "\t Máximo\n"
     ]
    },
    {
     "data": {
      "text/html": [
       "<div>\n",
       "<style scoped>\n",
       "    .dataframe tbody tr th:only-of-type {\n",
       "        vertical-align: middle;\n",
       "    }\n",
       "\n",
       "    .dataframe tbody tr th {\n",
       "        vertical-align: top;\n",
       "    }\n",
       "\n",
       "    .dataframe thead th {\n",
       "        text-align: right;\n",
       "    }\n",
       "</style>\n",
       "<table border=\"1\" class=\"dataframe\">\n",
       "  <thead>\n",
       "    <tr style=\"text-align: right;\">\n",
       "      <th></th>\n",
       "      <th>Descricao do afastamento</th>\n",
       "      <th>Area de atuacao [Funcionario]</th>\n",
       "    </tr>\n",
       "  </thead>\n",
       "  <tbody>\n",
       "    <tr>\n",
       "      <th>maior ocorrencia</th>\n",
       "      <td>Doenças do sistema osteomuscular</td>\n",
       "      <td>Operador Manufatura I</td>\n",
       "    </tr>\n",
       "    <tr>\n",
       "      <th>contagem</th>\n",
       "      <td>15</td>\n",
       "      <td>23</td>\n",
       "    </tr>\n",
       "    <tr>\n",
       "      <th>proporção</th>\n",
       "      <td>0.333333</td>\n",
       "      <td>0.418182</td>\n",
       "    </tr>\n",
       "    <tr>\n",
       "      <th>diferença da população</th>\n",
       "      <td>0.222911</td>\n",
       "      <td>0.033566</td>\n",
       "    </tr>\n",
       "    <tr>\n",
       "      <th>grupo</th>\n",
       "      <td>4</td>\n",
       "      <td>7</td>\n",
       "    </tr>\n",
       "  </tbody>\n",
       "</table>\n",
       "</div>"
      ],
      "text/plain": [
       "                                Descricao do afastamento  \\\n",
       "maior ocorrencia        Doenças do sistema osteomuscular   \n",
       "contagem                                              15   \n",
       "proporção                                       0.333333   \n",
       "diferença da população                          0.222911   \n",
       "grupo                                                  4   \n",
       "\n",
       "                       Area de atuacao [Funcionario]  \n",
       "maior ocorrencia               Operador Manufatura I  \n",
       "contagem                                          23  \n",
       "proporção                                   0.418182  \n",
       "diferença da população                      0.033566  \n",
       "grupo                                              7  "
      ]
     },
     "metadata": {},
     "output_type": "display_data"
    },
    {
     "name": "stdout",
     "output_type": "stream",
     "text": [
      "\t Mínimo\n"
     ]
    },
    {
     "data": {
      "text/html": [
       "<div>\n",
       "<style scoped>\n",
       "    .dataframe tbody tr th:only-of-type {\n",
       "        vertical-align: middle;\n",
       "    }\n",
       "\n",
       "    .dataframe tbody tr th {\n",
       "        vertical-align: top;\n",
       "    }\n",
       "\n",
       "    .dataframe thead th {\n",
       "        text-align: right;\n",
       "    }\n",
       "</style>\n",
       "<table border=\"1\" class=\"dataframe\">\n",
       "  <thead>\n",
       "    <tr style=\"text-align: right;\">\n",
       "      <th></th>\n",
       "      <th>Descricao do afastamento</th>\n",
       "      <th>Area de atuacao [Funcionario]</th>\n",
       "    </tr>\n",
       "  </thead>\n",
       "  <tbody>\n",
       "    <tr>\n",
       "      <th>maior ocorrencia</th>\n",
       "      <td>Fatores que influenciam estado de saúde</td>\n",
       "      <td>Operador Manufatura I</td>\n",
       "    </tr>\n",
       "    <tr>\n",
       "      <th>contagem</th>\n",
       "      <td>8</td>\n",
       "      <td>13</td>\n",
       "    </tr>\n",
       "    <tr>\n",
       "      <th>proporção</th>\n",
       "      <td>0.222222</td>\n",
       "      <td>0.361111</td>\n",
       "    </tr>\n",
       "    <tr>\n",
       "      <th>diferença da população</th>\n",
       "      <td>-0.042046</td>\n",
       "      <td>-0.023504</td>\n",
       "    </tr>\n",
       "    <tr>\n",
       "      <th>grupo</th>\n",
       "      <td>3</td>\n",
       "      <td>3</td>\n",
       "    </tr>\n",
       "  </tbody>\n",
       "</table>\n",
       "</div>"
      ],
      "text/plain": [
       "                                       Descricao do afastamento  \\\n",
       "maior ocorrencia        Fatores que influenciam estado de saúde   \n",
       "contagem                                                      8   \n",
       "proporção                                              0.222222   \n",
       "diferença da população                                -0.042046   \n",
       "grupo                                                         3   \n",
       "\n",
       "                       Area de atuacao [Funcionario]  \n",
       "maior ocorrencia               Operador Manufatura I  \n",
       "contagem                                          13  \n",
       "proporção                                   0.361111  \n",
       "diferença da população                     -0.023504  \n",
       "grupo                                              3  "
      ]
     },
     "metadata": {},
     "output_type": "display_data"
    }
   ],
   "source": [
    "text, tables = categorical_insights(categorical_group)\n",
    "print(text)\n",
    "print('\\t Máximo')\n",
    "display(tables[0])\n",
    "print('\\t Mínimo')\n",
    "display(tables[1])"
   ]
  }
 ],
 "metadata": {
  "interpreter": {
   "hash": "916dbcbb3f70747c44a77c7bcd40155683ae19c65e1c03b4aa3499c5328201f1"
  },
  "kernelspec": {
   "display_name": "Python 3.8.10 64-bit",
   "language": "python",
   "name": "python3"
  },
  "language_info": {
   "codemirror_mode": {
    "name": "ipython",
    "version": 3
   },
   "file_extension": ".py",
   "mimetype": "text/x-python",
   "name": "python",
   "nbconvert_exporter": "python",
   "pygments_lexer": "ipython3",
   "version": "3.8.10"
  },
  "orig_nbformat": 4
 },
 "nbformat": 4,
 "nbformat_minor": 2
}
