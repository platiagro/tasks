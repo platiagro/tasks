{
 "cells": [
  {
   "cell_type": "markdown",
   "metadata": {},
   "source": [
    "# Question Generator - Implantação\n",
    "\n",
    "Utiliza um transformer T5 pré treinado em português e disponibilizado pelo [huggingfaces](https://platiagro.github.io/tutorials/).<br>\n",
    "\n",
    "### **Em caso de dúvidas, consulte os [tutoriais da PlatIAgro](https://platiagro.github.io/tutorials/).**"
   ]
  },
  {
   "cell_type": "markdown",
   "metadata": {},
   "source": [
    "## Declaração de Classe para Predições em Tempo Real\n",
    "\n",
    "A tarefa de implantação cria um serviço REST para predições em tempo-real.<br>\n",
    "Para isso você deve criar uma classe `Model` que implementa o método `predict`."
   ]
  },
  {
   "cell_type": "code",
   "execution_count": 1,
   "metadata": {},
   "outputs": [
    {
     "name": "stdout",
     "output_type": "stream",
     "text": [
      "Overwriting Model.py\n"
     ]
    }
   ],
   "source": [
    "%%writefile Model.py\n",
    "import joblib\n",
    "import pandas as pd\n",
    "import numpy as np\n",
    "from expander import DocExpander\n",
    "from aux_functions import build_df_result\n",
    "\n",
    "\n",
    "class Model:\n",
    "    \n",
    "    def __init__(self):\n",
    "        \n",
    "        artifacts = joblib.load(\"/tmp/data/qgenerator.joblib\")\n",
    "        self.model = artifacts[\"model\"]\n",
    "        self.expand_context = artifacts[\"expand_context\"]\n",
    "        self.infer_num_gen_sentences = artifacts[\"infer_num_gen_sentences\"]\n",
    "        self.column_context = artifacts[\"column_context\"]\n",
    "        self.column_question = artifacts[\"column_question\"]\n",
    "\n",
    "    def expand(self,df):\n",
    "        if self.expand_context:\n",
    "            exp = DocExpander() \n",
    "            df_final = exp.expand_sql(df,context_column_name=self.column_context,questions_column_name = self.column_question)\n",
    "        \n",
    "        return df_final\n",
    "\n",
    "    def predict(self, X, feature_names, meta=None):\n",
    "        feature_names_pipeline = ['doc_id', 'context']\n",
    "        feature_names_qa = ['context']\n",
    "        \n",
    "        if feature_names != feature_names_pipeline and feature_names != feature_names_qa:\n",
    "            raise ValueError(f'feature_names deve ser {feature_names_pipeline} ou {feature_names_qa}')\n",
    "        \n",
    "        \n",
    "        df_input = pd.DataFrame(X,columns=feature_names)\n",
    "        contexts = df_input['context'].to_numpy()\n",
    "        gen_questions_dict = self.model.forward(contexts=contexts, num_gen_sentences=self.infer_num_gen_sentences)\n",
    "        df_result = build_df_result(gen_questions_dict,column_context=self.column_context,column_question=self.column_question)\n",
    "        df_result = self.expand(df_result)\n",
    "        \n",
    "        if feature_names == feature_names_pipeline:\n",
    "            df_input = df_input[['doc_id']] \n",
    "            df_input['index'] = df_input.index\n",
    "            df_result['index'] = df_result.index\n",
    "            df_result = pd.merge(df_input, df_result, on='index', how='outer')\n",
    "            del df_result['index']\n",
    "            \n",
    "        #return df.to_numpy()\n",
    "        return df_result"
   ]
  },
  {
   "cell_type": "code",
   "execution_count": 2,
   "metadata": {},
   "outputs": [],
   "source": [
    "import pandas as pd\n",
    "df = pd.read_csv(\"squad-test-v1.1.csv\")\n",
    "n_lines = 10\n",
    "contexts = df['context'][:n_lines]\n",
    "indexes = df.index[:n_lines]\n",
    "\n",
    "df_small = pd.DataFrame({'doc_id':indexes,'context':contexts})\n",
    "X = df_small.to_numpy()"
   ]
  },
  {
   "cell_type": "code",
   "execution_count": 3,
   "metadata": {},
   "outputs": [
    {
     "name": "stdout",
     "output_type": "stream",
     "text": [
      "[nltk_data] Downloading package stopwords to /home/jovyan/nltk_data...\n",
      "[nltk_data]   Package stopwords is already up-to-date!\n"
     ]
    },
    {
     "name": "stderr",
     "output_type": "stream",
     "text": [
      "100%|██████████| 2/2 [00:06<00:00,  3.42s/it]\n"
     ]
    },
    {
     "data": {
      "text/html": [
       "<div>\n",
       "<style scoped>\n",
       "    .dataframe tbody tr th:only-of-type {\n",
       "        vertical-align: middle;\n",
       "    }\n",
       "\n",
       "    .dataframe tbody tr th {\n",
       "        vertical-align: top;\n",
       "    }\n",
       "\n",
       "    .dataframe thead th {\n",
       "        text-align: right;\n",
       "    }\n",
       "</style>\n",
       "<table border=\"1\" class=\"dataframe\">\n",
       "  <thead>\n",
       "    <tr style=\"text-align: right;\">\n",
       "      <th></th>\n",
       "      <th>doc_id</th>\n",
       "      <th>context</th>\n",
       "      <th>questions</th>\n",
       "      <th>expanded_context</th>\n",
       "    </tr>\n",
       "  </thead>\n",
       "  <tbody>\n",
       "    <tr>\n",
       "      <th>0</th>\n",
       "      <td>0</td>\n",
       "      <td>Doctor Who é um programa de televisão de ficçã...</td>\n",
       "      <td>[Que tipo de nave é Doctor Who?, O que é uma c...</td>\n",
       "      <td>Doctor Who é um programa de televisão de ficçã...</td>\n",
       "    </tr>\n",
       "    <tr>\n",
       "      <th>1</th>\n",
       "      <td>1</td>\n",
       "      <td>O Newcastle Beer Festival, organizado pela CAM...</td>\n",
       "      <td>[Em que mês acontece o Newcastle Beer Festival...</td>\n",
       "      <td>O Newcastle Beer Festival, organizado pela CAM...</td>\n",
       "    </tr>\n",
       "    <tr>\n",
       "      <th>2</th>\n",
       "      <td>2</td>\n",
       "      <td>Por outro lado, Lutero também aponta que os De...</td>\n",
       "      <td>[Qual é o nome de um termo para o que?, O que ...</td>\n",
       "      <td>Por outro lado, Lutero também aponta que os De...</td>\n",
       "    </tr>\n",
       "    <tr>\n",
       "      <th>3</th>\n",
       "      <td>3</td>\n",
       "      <td>A informática em farmácia é a combinação da ci...</td>\n",
       "      <td>[O que é informática em farmácia?, Quando os i...</td>\n",
       "      <td>A informática em farmácia é a combinação da ci...</td>\n",
       "    </tr>\n",
       "    <tr>\n",
       "      <th>4</th>\n",
       "      <td>4</td>\n",
       "      <td>O Super Bowl 50 apresentou inúmeros registros ...</td>\n",
       "      <td>[Em que ano a NBA venceu o Super Bowl 50?, Qua...</td>\n",
       "      <td>O Super Bowl 50 apresentou inúmeros registros ...</td>\n",
       "    </tr>\n",
       "    <tr>\n",
       "      <th>5</th>\n",
       "      <td>5</td>\n",
       "      <td>O outro terço da água flui através do Pannerde...</td>\n",
       "      <td>[Quando a água flui no Pannerdens Kanaal?, Que...</td>\n",
       "      <td>O outro terço da água flui através do Pannerde...</td>\n",
       "    </tr>\n",
       "    <tr>\n",
       "      <th>6</th>\n",
       "      <td>6</td>\n",
       "      <td>Um problema é considerado intrinsecamente difí...</td>\n",
       "      <td>[O que é considerado intrinsecamente difícil q...</td>\n",
       "      <td>Um problema é considerado intrinsecamente difí...</td>\n",
       "    </tr>\n",
       "    <tr>\n",
       "      <th>7</th>\n",
       "      <td>7</td>\n",
       "      <td>Nos anos seguintes, Hoelun e seus filhos viver...</td>\n",
       "      <td>[Quando o Temujin se tornou adulto?, Qual é o ...</td>\n",
       "      <td>Nos anos seguintes, Hoelun e seus filhos viver...</td>\n",
       "    </tr>\n",
       "    <tr>\n",
       "      <th>8</th>\n",
       "      <td>8</td>\n",
       "      <td>Os anos 70 foram destacados por várias séries ...</td>\n",
       "      <td>[Qual é o nome do filme que apresentou a mulhe...</td>\n",
       "      <td>Os anos 70 foram destacados por várias séries ...</td>\n",
       "    </tr>\n",
       "    <tr>\n",
       "      <th>9</th>\n",
       "      <td>9</td>\n",
       "      <td>As práticas, tecnologias e recursos de constru...</td>\n",
       "      <td>[O que significa a construção residencial?, Qu...</td>\n",
       "      <td>As práticas, tecnologias e recursos de constru...</td>\n",
       "    </tr>\n",
       "  </tbody>\n",
       "</table>\n",
       "</div>"
      ],
      "text/plain": [
       "  doc_id                                            context  \\\n",
       "0      0  Doctor Who é um programa de televisão de ficçã...   \n",
       "1      1  O Newcastle Beer Festival, organizado pela CAM...   \n",
       "2      2  Por outro lado, Lutero também aponta que os De...   \n",
       "3      3  A informática em farmácia é a combinação da ci...   \n",
       "4      4  O Super Bowl 50 apresentou inúmeros registros ...   \n",
       "5      5  O outro terço da água flui através do Pannerde...   \n",
       "6      6  Um problema é considerado intrinsecamente difí...   \n",
       "7      7  Nos anos seguintes, Hoelun e seus filhos viver...   \n",
       "8      8  Os anos 70 foram destacados por várias séries ...   \n",
       "9      9  As práticas, tecnologias e recursos de constru...   \n",
       "\n",
       "                                           questions  \\\n",
       "0  [Que tipo de nave é Doctor Who?, O que é uma c...   \n",
       "1  [Em que mês acontece o Newcastle Beer Festival...   \n",
       "2  [Qual é o nome de um termo para o que?, O que ...   \n",
       "3  [O que é informática em farmácia?, Quando os i...   \n",
       "4  [Em que ano a NBA venceu o Super Bowl 50?, Qua...   \n",
       "5  [Quando a água flui no Pannerdens Kanaal?, Que...   \n",
       "6  [O que é considerado intrinsecamente difícil q...   \n",
       "7  [Quando o Temujin se tornou adulto?, Qual é o ...   \n",
       "8  [Qual é o nome do filme que apresentou a mulhe...   \n",
       "9  [O que significa a construção residencial?, Qu...   \n",
       "\n",
       "                                    expanded_context  \n",
       "0  Doctor Who é um programa de televisão de ficçã...  \n",
       "1  O Newcastle Beer Festival, organizado pela CAM...  \n",
       "2  Por outro lado, Lutero também aponta que os De...  \n",
       "3  A informática em farmácia é a combinação da ci...  \n",
       "4  O Super Bowl 50 apresentou inúmeros registros ...  \n",
       "5  O outro terço da água flui através do Pannerde...  \n",
       "6  Um problema é considerado intrinsecamente difí...  \n",
       "7  Nos anos seguintes, Hoelun e seus filhos viver...  \n",
       "8  Os anos 70 foram destacados por várias séries ...  \n",
       "9  As práticas, tecnologias e recursos de constru...  "
      ]
     },
     "execution_count": 3,
     "metadata": {},
     "output_type": "execute_result"
    }
   ],
   "source": [
    "from Model import Model\n",
    "model = Model()\n",
    "result = model.predict(X,['doc_id','context'])\n",
    "result"
   ]
  },
  {
   "cell_type": "code",
   "execution_count": 4,
   "metadata": {},
   "outputs": [],
   "source": [
    "import torch \n",
    "import gc\n",
    "\n",
    "gc.collect()\n",
    "torch.cuda.empty_cache()"
   ]
  },
  {
   "cell_type": "code",
   "execution_count": 5,
   "metadata": {},
   "outputs": [],
   "source": [
    "del model"
   ]
  }
 ],
 "metadata": {
  "celltoolbar": "Tags",
  "experiment_id": "dd63cfbd-7a97-41ac-bd9b-fd11711ba459",
  "kernelspec": {
   "display_name": "Python 3",
   "language": "python",
   "name": "python3"
  },
  "language_info": {
   "codemirror_mode": {
    "name": "ipython",
    "version": 3
   },
   "file_extension": ".py",
   "mimetype": "text/x-python",
   "name": "python",
   "nbconvert_exporter": "python",
   "pygments_lexer": "ipython3",
   "version": "3.7.10"
  },
  "operator_id": "e4150bc8-88f2-4d98-b68a-6c246270c403",
  "task_id": "ccfeb3fe-3d3a-43cf-bdc4-d0b07017e468"
 },
 "nbformat": 4,
 "nbformat_minor": 4
}
