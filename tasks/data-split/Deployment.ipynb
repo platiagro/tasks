{
 "cells": [
  {
   "cell_type": "markdown",
   "metadata": {},
   "source": [
    "# Data Split - Experimento\n",
    "\n",
    "Este componente separa os dados em \"treino\", \"validação\" e \"teste\" podendo ter seus parâmetro customizados para separações mais eficientes. <br>\n",
    "Essas separações podem ser feitas para deixar os conjuntos balanceados, portanto alterar o parâmetro \"strat\", ou garantir que mesmas observações(ID's iguais) não estejam em conjuntos diferentes, portantro alterar o parâmetro \"split_ids\"."
   ]
  },
  {
   "cell_type": "markdown",
   "metadata": {},
   "source": [
    "## Declaração de Classe para Predições em Tempo Real\n",
    "\n",
    "A tarefa de implantação cria um serviço REST para predições em tempo real.<br>\n",
    "Para isso você deve criar uma classe `Model` que implementa o método `predict`."
   ]
  },
  {
   "cell_type": "code",
   "execution_count": null,
   "metadata": {},
   "outputs": [],
   "source": [
    "%%writefile Model.py\n",
    "import joblib\n",
    "import numpy as np\n",
    "import pandas as pd\n",
    "\n",
    "\n",
    "class Model(object):\n",
    "    def __init__(self):\n",
    "        artifacts = joblib.load(\"/tmp/data/data-split.joblib\")\n",
    "        self.columns = artifacts[\"columns\"]\n",
    "        self.new_column_name = artifacts[\"new_column_name\"]\n",
    "        self.new_columns = artifacts[\"new_columns\"]\n",
    "        self.features_after_pipeline = artifacts[\"features_after_pipeline\"]\n",
    "\n",
    "    def class_names(self):\n",
    "        return self.features_after_pipeline.tolist()\n",
    "\n",
    "    def predict(self, X, feature_names, meta=None):\n",
    "   \n",
    "        df = pd.DataFrame(X)\n",
    "        \n",
    "        if feature_names:\n",
    "            df = pd.DataFrame(X, columns=feature_names)\n",
    "        \n",
    "        return df"
   ]
  }
 ],
 "metadata": {
  "celltoolbar": "Tags",
  "interpreter": {
   "hash": "7c2f812e68009a6707a55e19809c9ff65d50e0c6e2ffea2a8f9d8d053aaa39d8"
  },
  "kernelspec": {
   "display_name": "Python 3.8.8 64-bit ('cpqd': conda)",
   "name": "python3"
  },
  "language_info": {
   "codemirror_mode": {
    "name": "ipython",
    "version": 3
   },
   "file_extension": ".py",
   "mimetype": "text/x-python",
   "name": "python",
   "nbconvert_exporter": "python",
   "pygments_lexer": "ipython3",
   "version": "3.8.8"
  }
 },
 "nbformat": 4,
 "nbformat_minor": 4
}
