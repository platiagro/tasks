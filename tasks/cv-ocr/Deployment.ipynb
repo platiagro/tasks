{
 "cells": [
  {
   "cell_type": "markdown",
   "source": [
    "#  OCR (Optical Character Recognition) - Implantação\n",
    "## Utilização das bibliotecas [opencv](https://opencv.org/) e  [Tesseract OCR](https://tesseract-ocr.github.io/) para o reconhecimento de texto em imagens e da biblioteca [JiWER](https://github.com/jitsi/jiwer) para cálculo de mérticas de perfomance\n",
    "\n",
    "*   Mais detlalhes sobre  o funcionamento dos algorítimos e das línguas nos quais o mesmo podem são utilizados são encontrados na [Tesseract documentation](https://tesseract-ocr.github.io/tessdoc/Data-Files)\n",
    "\n",
    "*   Caso seja passado um arquivo .xlsx com as strings de target pode visualizar a perfonrmance do algorítimo\n",
    "\n",
    "### **Em caso de dúvidas, consulte os [tutoriais da PlatIAgro](https://platiagro.github.io/tutorials/).**"
   ],
   "metadata": {}
  },
  {
   "cell_type": "markdown",
   "source": [
    "## Declaração de Classe para Predições em Tempo Real\n",
    "\n",
    "A tarefa de implantação cria um serviço REST para predições em tempo-real.<br>\n",
    "Para isso você deve criar uma classe `Model` que implementa o método `predict`."
   ],
   "metadata": {}
  },
  {
   "cell_type": "code",
   "execution_count": null,
   "source": [
    "%%writefile Model.py\n",
    "import joblib\n",
    "import nltk\n",
    "import pandas as pd\n",
    "import numpy as np\n",
    "import base64\n",
    "import cv2\n",
    "from ocr import Class_Pytesseract_OCR\n",
    "\n",
    "\n",
    "class Model:\n",
    "    def __init__(self):\n",
    "        self.loaded = False\n",
    "    \n",
    "    def load(self):\n",
    "        # Following links explain why to use load() method insted of __init__()\n",
    "\n",
    "        # Issue associated with seldon on __init__\n",
    "        # https://github.com/SeldonIO/seldon-core/issues/2616\n",
    "\n",
    "        # Solution for the case\n",
    "        # https://docs.seldon.io/projects/seldon-core/en/latest/python/python_component.html#gunicorn-and-load\n",
    "        artifacts = joblib.load(\"/tmp/data/ocr.joblib\")\n",
    "        self.hyperparams = artifacts[\"hyperparams\"]\n",
    "        self.model_parameters = artifacts[\"model_parameters\"]\n",
    "        self.return_formats = artifacts[\"return_formats\"]\n",
    "        self.loaded = True\n",
    "\n",
    "        \n",
    "    def class_names(self):\n",
    "        \n",
    "        return ['bboxcoord1', 'bboxcoord2', 'bboxcoord3', 'bboxcoord4', 'text']\n",
    "    \n",
    "    def format_result(self, boxes, text):\n",
    "        \n",
    "        res = []\n",
    "        \n",
    "        for i in range(len(boxes)):\n",
    "            \n",
    "            bbox = list(map(float, boxes[i]))\n",
    "            bbox.extend([text[i]])\n",
    "            res.append(bbox)\n",
    "        \n",
    "        return res\n",
    "    \n",
    "    def predict(self, X, feature_names, meta=None):\n",
    "        # First time load model\n",
    "        if not self.loaded:\n",
    "            self.load()\n",
    "        \n",
    "        #im_bytes = base64.b64decode(X[0])\n",
    "        im_bytes = base64.b64decode(X[0,0])\n",
    "        im_arr = np.frombuffer(im_bytes, dtype=np.uint8)\n",
    "        img = cv2.imdecode(im_arr, flags=cv2.IMREAD_COLOR)\n",
    "        img = cv2.cvtColor(img, cv2.COLOR_BGR2RGB)\n",
    "        \n",
    "        model = Class_Pytesseract_OCR(self.hyperparams,self.model_parameters)\n",
    "        bboxes_or_image, text = model.predict(img, \"Deployment\", self.return_formats)\n",
    "        \n",
    "        if self.return_formats == \"np_array\":\n",
    "            result = self.format_result(bboxes_or_image, text)\n",
    "        else:\n",
    "            result = [text, bboxes_or_image]\n",
    "        \n",
    "        return result"
   ],
   "outputs": [],
   "metadata": {}
  }
 ],
 "metadata": {
  "celltoolbar": "Tags",
  "experiment_id": "c114f6ba-2bc1-43c7-823d-00360c37f88a",
  "kernelspec": {
   "name": "python3",
   "display_name": "Python 3.8.10 64-bit"
  },
  "language_info": {
   "codemirror_mode": {
    "name": "ipython",
    "version": 3
   },
   "file_extension": ".py",
   "mimetype": "text/x-python",
   "name": "python",
   "nbconvert_exporter": "python",
   "pygments_lexer": "ipython3",
   "version": "3.8.10"
  },
  "operator_id": "b9f242c9-4d5d-4c5f-b30d-c63425281213",
  "task_id": "f8e20efb-def0-4e1c-9927-9bf14214570a",
  "interpreter": {
   "hash": "916dbcbb3f70747c44a77c7bcd40155683ae19c65e1c03b4aa3499c5328201f1"
  }
 },
 "nbformat": 4,
 "nbformat_minor": 4
}