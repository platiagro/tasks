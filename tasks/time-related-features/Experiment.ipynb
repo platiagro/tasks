{
 "cells": [
  {
   "cell_type": "markdown",
   "source": [
    "# Criação de atributos temporais\n",
    "Criação de atributos temporais a partir da agregação por períodos (dia, semana, mês, trimestre ou ano). Para cada atributo categórico no dataset, são gerados novos atributos considerando-se janelas móveis de três, seis e noves períodos consecutivos. \n",
    "### **Em caso de dúvidas, consulte os [tutoriais da PlatIAgro](https://platiagro.github.io/tutorials/).**"
   ],
   "metadata": {}
  },
  {
   "cell_type": "markdown",
   "source": [
    "## Declaração de parâmetros e hiperparâmetros\n",
    "\n",
    "Declare parâmetros com o botão <img src=\"data:image/png;base64,iVBORw0KGgoAAAANSUhEUgAAABQAAAAUCAYAAACNiR0NAAABhWlDQ1BJQ0MgcHJvZmlsZQAAKJF9kT1Iw0AcxV9TtaIVBzuIOASpThb8QhylikWwUNoKrTqYXPohNGlIUlwcBdeCgx+LVQcXZ10dXAVB8APEydFJ0UVK/F9SaBHjwXE/3t173L0DhFqJqWbbGKBqlpGMRcVMdkUMvKID3QhiCOMSM/V4aiENz/F1Dx9f7yI8y/vcn6NHyZkM8InEs0w3LOJ14ulNS+e8TxxiRUkhPiceNeiCxI9cl11+41xwWOCZISOdnCMOEYuFFpZbmBUNlXiKOKyoGuULGZcVzluc1VKFNe7JXxjMacsprtMcRAyLiCMBETIq2EAJFiK0aqSYSNJ+1MM/4PgT5JLJtQFGjnmUoUJy/OB/8LtbMz854SYFo0D7i21/DAOBXaBete3vY9uunwD+Z+BKa/rLNWDmk/RqUwsfAb3bwMV1U5P3gMsdoP9JlwzJkfw0hXweeD+jb8oCfbdA16rbW2Mfpw9AmrpaugEODoGRAmWveby7s7W3f880+vsBocZyukMJsmwAAAAGYktHRAD/AP8A/6C9p5MAAAAJcEhZcwAADdcAAA3XAUIom3gAAAAHdElNRQfkBgsMIwnXL7c0AAACDUlEQVQ4y92UP4gTQRTGf29zJxhJZ2NxbMBKziYWlmJ/ile44Nlkd+dIYWFzItiNgoIEtFaTzF5Ac/inE/urtLWxsMqmUOwCEpt1Zmw2xxKi53XitPO9H9978+aDf/3IUQvSNG0450Yi0jXG7C/eB0cFeu9viciGiDyNoqh2KFBrHSilWstgnU7nFLBTgl+ur6/7PwK11kGe5z3n3Hul1MaiuCgKDZwALHA7z/Oe1jpYCtRaB+PxuA8kQM1aW68Kt7e3zwBp6a5b1ibj8bhfhQYVZwMRiQHrvW9nWfaqCrTWPgRWvPdvsiy7IyLXgEJE4slk8nw+T5nDgDbwE9gyxryuwpRSF5xz+0BhrT07HA4/AyRJchUYASvAbhiGaRVWLIMBYq3tAojIszkMoNRulbXtPM8HwV/sXSQi54HvQRDcO0wfhGGYArvAKjAq2wAgiqJj3vsHpbtur9f7Vi2utLx60LLW2hljEuBJOYu9OI6vAzQajRvAaeBLURSPlsBelA+VhWGYaq3dwaZvbm6+m06noYicE5ErrVbrK3AXqHvvd4bD4Ye5No7jSERGwKr3Pms2m0pr7Rb30DWbTQWYcnFvAieBT7PZbFB1V6vVfpQaU4UtDQetdTCZTC557/eA48BlY8zbRZ1SqrW2tvaxCvtt2iRJ0i9/xb4x5uJRwmNlaaaJ3AfqIvKY/+78Av++6uiSZhYMAAAAAElFTkSuQmCC\" /> na barra de ferramentas.<br>\n",
    "O parâmetro `dataset` identifica os conjuntos de dados. Você pode importar arquivos de dataset com o botão <img src=\"data:image/png;base64,iVBORw0KGgoAAAANSUhEUgAAABQAAAAUCAYAAACNiR0NAAABhWlDQ1BJQ0MgcHJvZmlsZQAAKJF9kT1Iw0AcxV9TtaIVBzuIOASpThb8QhylikWwUNoKrTqYXPohNGlIUlwcBdeCgx+LVQcXZ10dXAVB8APEydFJ0UVK/F9SaBHjwXE/3t173L0DhFqJqWbbGKBqlpGMRcVMdkUMvKID3QhiCOMSM/V4aiENz/F1Dx9f7yI8y/vcn6NHyZkM8InEs0w3LOJ14ulNS+e8TxxiRUkhPiceNeiCxI9cl11+41xwWOCZISOdnCMOEYuFFpZbmBUNlXiKOKyoGuULGZcVzluc1VKFNe7JXxjMacsprtMcRAyLiCMBETIq2EAJFiK0aqSYSNJ+1MM/4PgT5JLJtQFGjnmUoUJy/OB/8LtbMz854SYFo0D7i21/DAOBXaBete3vY9uunwD+Z+BKa/rLNWDmk/RqUwsfAb3bwMV1U5P3gMsdoP9JlwzJkfw0hXweeD+jb8oCfbdA16rbW2Mfpw9AmrpaugEODoGRAmWveby7s7W3f880+vsBocZyukMJsmwAAAAGYktHRAD/AP8A/6C9p5MAAAAJcEhZcwAADdcAAA3XAUIom3gAAAAHdElNRQfkBgsOBy6ASTeXAAAC/0lEQVQ4y5WUT2gcdRTHP29m99B23Uiq6dZisgoWCxVJW0oL9dqLfyhCvGWY2YUBI95MsXgwFISirQcLhS5hfgk5CF3wJIhFI7aHNsL2VFZFik1jS1qkiZKdTTKZ3/MyDWuz0fQLc/m99/vMvDfv+4RMlUrlkKqeAAaBAWAP8DSgwJ/AXRG5rao/WWsvTU5O3qKLBMD3fSMiPluXFZEPoyj67PGAMzw83PeEMABHVT/oGpiamnoAmCcEWhH5tFsgF4bh9oWFhfeKxeJ5a+0JVT0oImWgBPQCKfAQuAvcBq67rltX1b+6ApMkKRcKhe9V9QLwbavV+qRer692Sx4ZGSnEcXw0TdP3gSrQswGYz+d/S5IkVtXTwOlCoZAGQXAfmAdagAvsAErtdnuXiDy6+023l7qNRsMODg5+CawBzwB9wFPA7mx8ns/KL2Tl3xCRz5eWlkabzebahrHxPG+v4zgnc7ncufHx8Z+Hhoa29fT0lNM03Q30ikiqqg+ttX/EcTy3WTvWgdVqtddaOw/kgXvADHBHROZVNRaRvKruUNU+EdkPfGWM+WJTYOaSt1T1LPDS/4zLWWPMaLVaPWytrYvIaBRFl/4F9H2/JCKvGmMu+76/X0QOqGoZKDmOs1NV28AicMsYc97zvFdc1/0hG6kEeNsY83UnsCwivwM3VfU7YEZE7lhr74tIK8tbnJiYWPY8b6/ruleAXR0ftQy8boyZXi85CIIICDYpc2ZgYODY3NzcHmvt1eyvP64lETkeRdE1yZyixWLx5U2c8q4x5mIQBE1g33/0d3FlZeXFR06ZttZesNZejuO4q1NE5CPgWVV9E3ij47wB1IDlJEn+ljAM86urq7+KyAtZTgqsO0VV247jnOnv7/9xbGzMViqVMVX9uANYj6LonfVtU6vVkjRNj6jqGeCXzGrPAQeA10TkuKpOz87ONrayhnIA2Qo7BZwKw3B7kiRloKSqO13Xja21C47jPNgysFO1Wi0GmtmzQap6DWgD24A1Vb3SGf8Hfstmz1CuXEIAAAAASUVORK5CYII=\" /> na barra de ferramentas."
   ],
   "metadata": {}
  },
  {
   "cell_type": "code",
   "execution_count": null,
   "source": [
    "dataset = \"/tmp/data/hotel_bookings.csv\" #@param {type:\"string\"}\n",
    "group_col = \"hotel\" #@param {type:\"feature\",label:\"Atributo de agrupamento\",description:\"Atributo de agrupamento utilizado para a geração de atributos temporais.\"}\n",
    "period = \"mês\" #@param [\"dia\",\"semana\",\"mês\",\"trimestre\",\"ano\"] {type:\"string\",multiple:false,label:\"Período\",description:\"Período considerado para a geração de atributos temporais.\"}\n",
    "date_col = \"reservation_status_date\" #@param {type:\"feature\",label:\"Data de referência\",description:\"Atributo que determina a data de referência para a criação de atributos temporais\"}\n",
    "target_col = \"reservation_status\" #@param {type:\"feature\",label:\"Atributo alvo\",description:\"O atributo alvo não pode ser considerado no processo de criação de novos atributos.\"}"
   ],
   "outputs": [],
   "metadata": {
    "tags": [
     "parameters"
    ]
   }
  },
  {
   "cell_type": "markdown",
   "source": [
    "## Acesso ao conjunto de dados\n",
    "\n",
    "O conjunto de dados utilizado nesta etapa será o mesmo carregado através da plataforma.<br>\n",
    "O tipo da variável retornada depende do arquivo de origem:\n",
    "- [pandas.DataFrame](https://pandas.pydata.org/pandas-docs/stable/reference/api/pandas.DataFrame.html) para CSV e compressed CSV: .csv .csv.zip .csv.gz .csv.bz2 .csv.xz\n",
    "- [Binary IO stream](https://docs.python.org/3/library/io.html#binary-i-o) para outros tipos de arquivo: .jpg .wav .zip .h5 .parquet etc"
   ],
   "metadata": {}
  },
  {
   "cell_type": "code",
   "execution_count": null,
   "source": [
    "import pandas as pd\n",
    "\n",
    "data = pd.read_csv(dataset)"
   ],
   "outputs": [],
   "metadata": {}
  },
  {
   "cell_type": "markdown",
   "source": [
    "## Validação dos dados de entrada"
   ],
   "metadata": {}
  },
  {
   "cell_type": "code",
   "execution_count": null,
   "source": [
    "import platiagro\n",
    "from platiagro import stat_dataset\n",
    "\n",
    "metadata = stat_dataset(name=dataset)\n",
    "\n",
    "numerical_cols = [\n",
    "    metadata['columns'][i] \n",
    "    for i, ft in enumerate(metadata['featuretypes']) \n",
    "    if ft == platiagro.NUMERICAL]\n",
    "numerical_cols = [col for col in numerical_cols if col != target_col]\n",
    "\n",
    "categorical_cols = [\n",
    "    metadata['columns'][i] \n",
    "    for i, ft in enumerate(metadata['featuretypes']) \n",
    "    if ft == platiagro.CATEGORICAL\n",
    "]\n",
    "categorical_cols = [col for col in categorical_cols if col != target_col]\n",
    "\n",
    "datetime_cols = [\n",
    "    metadata['columns'][i] \n",
    "    for i, ft in enumerate(metadata['featuretypes']) \n",
    "    if ft == platiagro.DATETIME\n",
    "]\n",
    "\n",
    "\n",
    "if len(numerical_cols) == 0:\n",
    "    raise ValueError('Dataset deve necessariamente possuir um atributo do tipo numérico')\n",
    "\n",
    "if group_col not in categorical_cols:\n",
    "    raise ValueError('Atributo deve necessariamente ser do tipo categórico')\n",
    "    \n",
    "if date_col not in datetime_cols:\n",
    "    raise ValueError('Atributo deve ser necessariamente do tipo datetime')"
   ],
   "outputs": [],
   "metadata": {}
  },
  {
   "cell_type": "markdown",
   "source": [
    "## Converte para o período selecionado o atributo referente à data \n",
    "A transformação é realizada pela função auxiliar `generate_new_index`. O perído obtido é então transformado em índice para faciliar a execução das próximas etapas."
   ],
   "metadata": {}
  },
  {
   "cell_type": "code",
   "execution_count": null,
   "source": [
    "period_abbr = {\n",
    "    'dia': 'D',\n",
    "    'semana': 'W',\n",
    "    'mês': 'M',\n",
    "    'ano': 'Y',\n",
    "    'trimestre': 'Q'\n",
    "}\n",
    "\n",
    "def generate_new_index(df: pd.DataFrame, date_col: str, period: str = 'mês'):\n",
    "    if period not in period_abbr:\n",
    "        raise KeyError(f'Parâmetro de entrada \\'period\\' precisa ser um dos seguintes: {list(period_abbr.keys())}.')\n",
    "    return pd.DatetimeIndex(df[date_col]).to_period(period_abbr[period])\n",
    "\n",
    "data[date_col] = pd.to_datetime(data[date_col])\n",
    "data.index = generate_new_index(data, date_col, 'mês')"
   ],
   "outputs": [],
   "metadata": {}
  },
  {
   "cell_type": "markdown",
   "source": [
    "## Cálculo do quadrado dos atributos numéricos\n",
    "Valores quadráticos serão usados no cálculo do desvio padrão móvel (`rolling std`)."
   ],
   "metadata": {}
  },
  {
   "cell_type": "code",
   "execution_count": null,
   "source": [
    "# for each target column calculates the square \n",
    "data = pd.concat([data, data[numerical_cols].pow(2).rename(columns=lambda x: 'SQR_' + x )], axis=1)"
   ],
   "outputs": [],
   "metadata": {}
  },
  {
   "cell_type": "markdown",
   "source": [
    "## Agregação e início do processo de criação de atributos temporais\n",
    "Considerando-se os grupos determinados pelo período e atributo de agrupamento, são calculados para cada atributo numérico as seguintes medidas: `min`, `max`, `count` e `sum`."
   ],
   "metadata": {}
  },
  {
   "cell_type": "code",
   "execution_count": null,
   "source": [
    "# aggregates the data by [date_col, group_col]\n",
    "agg_functions = ['min', 'max', 'count', 'sum']\n",
    "agg_df = data.groupby([data.index, group_col]).agg(\n",
    "    {col : agg_functions for col in numerical_cols + ['SQR_' + col for col in numerical_cols]}\n",
    ")\n",
    "\n",
    "# fill missing (date_col, group_col) values\n",
    "agg_df = agg_df.reindex(\n",
    "    pd.MultiIndex.from_product(\n",
    "        [agg_df.index.levels[0], agg_df.index.levels[1]], \n",
    "        names=[date_col, group_col]\n",
    "    )\n",
    ")\n",
    "agg_df = agg_df.reset_index().sort_values([group_col, date_col],ignore_index=True)"
   ],
   "outputs": [],
   "metadata": {}
  },
  {
   "cell_type": "markdown",
   "source": [
    "## Função auxiliares para o cálculo dos atributos temporais\n",
    "* média: `calculate_rolling_mean`\n",
    "* min, max: `calculate_rolling_extrema`\n",
    "* desvio padrão: `calculate_rolling_std`\n"
   ],
   "metadata": {}
  },
  {
   "cell_type": "code",
   "execution_count": null,
   "source": [
    "def calculate_rolling_mean(df: pd.DataFrame, target_cols, k: int = 3):\n",
    "    agg_cols = [(col, f) for col in target_cols for f in ['count', 'sum']]\n",
    "    res_df = df.groupby(group_col)[agg_cols].rolling(k, min_periods=1).sum()\n",
    "    \n",
    "    for col in target_cols:\n",
    "        res_df[f'MEAN_{group_col}_{col}_{k}'] = res_df[(col, 'sum')] / res_df[(col, 'count')]\n",
    "    \n",
    "    res_df = res_df.drop(agg_cols, axis=1)\n",
    "    res_df.columns = res_df.columns.droplevel(1) \n",
    "    return res_df"
   ],
   "outputs": [],
   "metadata": {}
  },
  {
   "cell_type": "code",
   "execution_count": null,
   "source": [
    "def calculate_rolling_extrema(df: pd.DataFrame, target_cols, extrema: str = 'min', k: int = 3):\n",
    "    agg_cols = [(col, extrema) for col in target_cols]\n",
    "    if extrema == 'min':\n",
    "        res_df = df.groupby(group_col)[agg_cols].rolling(k, min_periods=1).min().shift(1)\n",
    "    else:\n",
    "        res_df = df.groupby(group_col)[agg_cols].rolling(k, min_periods=1).max().shift(1)\n",
    "    \n",
    "    res_df.columns = res_df.columns.droplevel(1) \n",
    "    return res_df.rename(columns={col: f'{extrema.upper()}_{group_col}_{col}_{k}' for col in target_cols})  "
   ],
   "outputs": [],
   "metadata": {}
  },
  {
   "cell_type": "code",
   "execution_count": null,
   "source": [
    "import numpy as np\n",
    "\n",
    "def calculate_rolling_std(df: pd.DataFrame, target_cols, k:int = 3):\n",
    "    agg_cols = [(col, f) for col in target_cols + ['SQR_' + col for col in target_cols] for f in ['count', 'sum']]\n",
    "    res_df = df.groupby(group_col)[agg_cols].rolling(k, min_periods=1).sum().shift(1)\n",
    "    \n",
    "    for col in target_cols:\n",
    "        new_name = f'STD_{group_col}_{col}_{k}'\n",
    "        res_df[new_name] = res_df[('SQR_' + col, 'sum')] - (np.power(res_df[(col, 'sum')], 2) / res_df[(col, 'count')])\n",
    "        res_df[new_name] = np.sqrt(res_df[new_name]) / (res_df[(col, 'count')] - 1)\n",
    "        \n",
    "    res_df = res_df.drop(agg_cols, axis=1)\n",
    "    res_df.columns = res_df.columns.droplevel(1) \n",
    "    return res_df"
   ],
   "outputs": [],
   "metadata": {}
  },
  {
   "cell_type": "markdown",
   "source": [
    "## Cálculo dos atributos temporais"
   ],
   "metadata": {}
  },
  {
   "cell_type": "code",
   "execution_count": null,
   "source": [
    "new_features = pd.concat([\n",
    "    pd.concat([calculate_rolling_mean(agg_df, numerical_cols, k) for k in [3, 6, 9]], axis=1),\n",
    "    pd.concat([calculate_rolling_std(agg_df, numerical_cols, k) for k in [3, 6, 9]], axis=1),\n",
    "    pd.concat([calculate_rolling_extrema(agg_df, numerical_cols, 'min', k) for k in [3, 6, 9]], axis=1),\n",
    "    pd.concat([calculate_rolling_extrema(agg_df, numerical_cols, 'max', k) for k in [3, 6, 9]], axis=1)\n",
    "], axis=1)\n",
    "new_features[date_col] = agg_df[date_col].to_list()\n",
    "new_features[group_col] = agg_df[group_col].to_list()"
   ],
   "outputs": [],
   "metadata": {}
  },
  {
   "cell_type": "code",
   "execution_count": null,
   "source": [
    "#remove unnecessary columns\n",
    "data.drop(['SQR_' + col for col in numerical_cols], axis=1, inplace=True)\n",
    "#merge the generated features with the original data \n",
    "data.set_index(pd.Index(data[group_col]), append=True, inplace=True)\n",
    "new_features.set_index([date_col, group_col], inplace=True)\n",
    "data = pd.merge(data, new_features, left_index=True, right_index=True)\n",
    "\n",
    "#reset index and sort values\n",
    "data.set_index(pd.RangeIndex(start=0, stop=data.shape[0], step=1), inplace=True)"
   ],
   "outputs": [],
   "metadata": {}
  },
  {
   "cell_type": "markdown",
   "source": [
    "## Salva alterações no conjunto de dados\n",
    "\n",
    "O conjunto de dados será salvo (e sobrescrito com as respectivas mudanças) localmente, no container da experimentação, utilizando a função `pandas.DataFrame.to_csv`.<br>"
   ],
   "metadata": {}
  },
  {
   "cell_type": "code",
   "execution_count": null,
   "source": [
    "data.to_csv(dataset, index=False)"
   ],
   "outputs": [],
   "metadata": {}
  },
  {
   "cell_type": "code",
   "execution_count": null,
   "source": [
    "from joblib import dump\n",
    "\n",
    "artifacts = {\n",
    "    \"group_col\": group_col,\n",
    "    \"period\": period,\n",
    "    \"date_col\": date_col,\n",
    "    \"target_col\": target_col,\n",
    "}\n",
    "\n",
    "dump(artifacts, \"/tmp/data/model.joblib\")"
   ],
   "outputs": [],
   "metadata": {}
  }
 ],
 "metadata": {
  "celltoolbar": "Tags",
  "experiment_id": "aafb486d-c6c0-4a90-a980-a8bb04e179e7",
  "kernelspec": {
   "display_name": "Python 3",
   "language": "python",
   "name": "python3"
  },
  "language_info": {
   "codemirror_mode": {
    "name": "ipython",
    "version": 3
   },
   "file_extension": ".py",
   "mimetype": "text/x-python",
   "name": "python",
   "nbconvert_exporter": "python",
   "pygments_lexer": "ipython3",
   "version": "3.7.8"
  },
  "operator_id": "defde836-d590-4bc2-8b50-c7175a28c60f",
  "task_id": "d86d0232-3e31-4326-83a6-61517484704e"
 },
 "nbformat": 4,
 "nbformat_minor": 4
}