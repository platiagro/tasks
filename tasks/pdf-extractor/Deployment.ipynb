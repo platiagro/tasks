{
 "cells": [
  {
   "cell_type": "markdown",
   "metadata": {},
   "source": [
    "# Extrator de PDF - Implantação\n",
    "\n",
    "Extração de texto, figuras, e renderização em arquivos PDF. Utiliza a biblioteca [PyMuPDF](https://pymupdf.readthedocs.io/en/latest/intro.html), e consegue extrair partes ou seções selecionadas do texto e de páginas."
   ]
  },
  {
   "cell_type": "markdown",
   "metadata": {},
   "source": [
    "## Declaração de Classe para Predições em Tempo Real\n",
    "\n",
    "A tarefa de implantação cria um serviço REST para predições em tempo-real.<br>\n",
    "Para isso você deve criar uma classe `Model` que implementa o método `predict`."
   ]
  },
  {
   "cell_type": "code",
   "execution_count": 1,
   "metadata": {},
   "outputs": [
    {
     "name": "stdout",
     "output_type": "stream",
     "text": [
      "Overwriting Model.py\n"
     ]
    }
   ],
   "source": [
    "%%writefile Model.py\n",
    "import joblib\n",
    "import nltk\n",
    "import pandas as pd\n",
    "import numpy as np\n",
    "import base64\n",
    "import cv2\n",
    "import logging\n",
    "import io\n",
    "from pdf_extractor import PDFExtractor, read_memory, read_file\n",
    "\n",
    "class Model:\n",
    "    def __init__(self):\n",
    "        self.loaded = False;\n",
    "\n",
    "    def load(self):\n",
    "        artifacts = joblib.load(\"/tmp/data/pdf_extractor.joblib\")\n",
    "        self.extractor_parameters = artifacts[\"extractor_parameters\"]\n",
    "        \n",
    "        if self.extractor_parameters[\"initial_page\"] != None: \n",
    "            self.extractor_parameters[\"initial_page\"] -= 1;\n",
    "\n",
    "        if self.extractor_parameters[\"final_page\"] != None: \n",
    "            self.extractor_parameters[\"final_page\"] -= 1;\n",
    "        \n",
    "        self.loaded = True\n",
    "        print(\"Loaded model\")\n",
    "\n",
    "    def predict(self, X, feature_names, meta=None):\n",
    "        if not self.loaded:\n",
    "            self.load()\n",
    "        \n",
    "        if isinstance(X, bytes):\n",
    "            result = read_memory(X,\n",
    "                                extract = self.extractor_parameters[\"extract\"],\n",
    "                                text_filter_begin = self.extractor_parameters[\"text_filter_begin\"],\n",
    "                                text_filter_end = self.extractor_parameters[\"text_filter_end\"],\n",
    "                                initial_page = self.extractor_parameters[\"initial_page\"],\n",
    "                                final_page = self.extractor_parameters[\"initial_page\"])\n",
    "        else:\n",
    "            return \"\"\n",
    "                                        \n",
    "        if self.extractor_parameters[\"extract\"] == \"text\":\n",
    "            return result\n",
    "    \n",
    "        elif self.extractor_parameters[\"extract\"] == \"figures\":\n",
    "            result_bytes = []\n",
    "            if len(result) > 0:\n",
    "                for img in result:\n",
    "                    buff = io.BytesIO()\n",
    "                    img.save(buff, format=\"JPEG\")\n",
    "                    result_bytes.append(buff.getvalue().decode(\"latin1\"))\n",
    "\n",
    "                return result_bytes;\n",
    "            else:\n",
    "                return result\n",
    "    \n",
    "        elif self.extractor_parameters[\"extract\"] == \"prints\":\n",
    "            result_bytes = []\n",
    "            if len(result) > 0:\n",
    "                for img in result:\n",
    "                    buff = io.BytesIO()\n",
    "                    img.save(buff, format=\"JPEG\")\n",
    "                    result_bytes.append(buff.getvalue().decode(\"latin1\"))\n",
    "\n",
    "                return result_bytes;\n",
    "            else:\n",
    "                return result"
   ]
  }
 ],
 "metadata": {
  "celltoolbar": "Tags",
  "experiment_id": "cf194b3a-3918-4a3f-92f1-2a66c356e8ae",
  "kernelspec": {
   "display_name": "Python 3",
   "language": "python",
   "name": "python3"
  },
  "language_info": {
   "codemirror_mode": {
    "name": "ipython",
    "version": 3
   },
   "file_extension": ".py",
   "mimetype": "text/x-python",
   "name": "python",
   "nbconvert_exporter": "python",
   "pygments_lexer": "ipython3",
   "version": "3.8.8"
  },
  "operator_id": "fc27a1e5-70ec-447f-8b1a-aa55ae753086",
  "task_id": "f5a73c25-bcb3-4d22-812b-6cda6561f03d"
 },
 "nbformat": 4,
 "nbformat_minor": 4
}
