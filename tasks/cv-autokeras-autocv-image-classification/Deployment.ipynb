{
 "cells": [
  {
   "cell_type": "markdown",
   "metadata": {},
   "source": [
    "# AutoKeras AutoCV para Classificação de Imagens - Implantação\n",
    "\n",
    "Este componente utiliza [AutoKeras](https://autokeras.com/) AutoCV para a **tarefa de classificação**.\n",
    "\n",
    "### **Em caso de dúvidas, consulte os [tutoriais da PlatIAgro](https://platiagro.github.io/tutorials/).**"
   ]
  },
  {
   "cell_type": "markdown",
   "metadata": {},
   "source": [
    "## Declaração de Classe para Predições em Tempo Real\n",
    "\n",
    "A tarefa de implantação cria um serviço REST para predições em tempo-real.<br>\n",
    "Para isso você deve criar uma classe `Model` que implementa o método `predict`."
   ]
  },
  {
   "cell_type": "code",
   "execution_count": null,
   "metadata": {},
   "outputs": [],
   "source": [
    "%%writefile Model.py\n",
    "\n",
    "import joblib\n",
    "import numpy as np\n",
    "import cv2\n",
    "import base64\n",
    "import tensorflow as tf\n",
    "\n",
    "class Model:\n",
    "    def __init__(self):\n",
    "        artifacts = joblib.load(\"/tmp/data/model.joblib\")\n",
    "        self.model_path = artifacts[\"model_path\"]\n",
    "        self.class_names = artifacts[\"class_names\"] \n",
    "\n",
    "    def predict(self, X: np.ndarray, feature_names, meta=None):\n",
    "        model = tf.keras.models.load_model(self.model_path)\n",
    "        \n",
    "        im_bytes = base64.b64decode(X[0,0])\n",
    "        im_arr = np.frombuffer(im_bytes, dtype=np.uint8)\n",
    "        image = cv2.imdecode(im_arr, flags=cv2.IMREAD_COLOR)\n",
    "        input_image = tf.expand_dims(image, axis=0)\n",
    "        \n",
    "        prediction = model.predict(x=input_image)\n",
    "        indx = np.argmax(prediction)\n",
    "        predicted_class = self.class_names[indx]\n",
    "        result = {\"predicted_class\": predicted_class,\n",
    "                  \"probability\":, prediction[indx]}\n",
    "\n",
    "        return result"
   ]
  }
 ],
 "metadata": {
  "celltoolbar": "Tags",
  "experiment_id": "c84adb4b-819d-401c-9c47-b89b41cbaaa8",
  "kernelspec": {
   "display_name": "Python 3",
   "language": "python",
   "name": "python3"
  },
  "language_info": {
   "codemirror_mode": {
    "name": "ipython",
    "version": 3
   },
   "file_extension": ".py",
   "mimetype": "text/x-python",
   "name": "python",
   "nbconvert_exporter": "python",
   "pygments_lexer": "ipython3",
   "version": "3.7.10"
  },
  "operator_id": "b262b213-7621-4b53-8c8d-d5415fcd5ed1",
  "task_id": "a65d6016-751c-48fc-9143-9a79f833bd28"
 },
 "nbformat": 4,
 "nbformat_minor": 4
}
