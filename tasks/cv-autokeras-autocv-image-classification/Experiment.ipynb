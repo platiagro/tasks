{
 "cells": [
  {
   "cell_type": "markdown",
   "metadata": {},
   "source": [
    "# AutoKeras AutoCV para Classificação de Imagens - Experimento\n",
    "\n",
    "Este componente utiliza [AutoKeras](https://autokeras.com/) AutoCV para a **tarefa de classificação**.\n",
    "\n",
    "O algoritmo faz a busca por arquiteturas e hyperparâmetros que melhor configuram o modelo\n",
    "para a base de dados fornecida.\n",
    "\n",
    "### **Em caso de dúvidas, consulte os [tutoriais da PlatIAgro](https://platiagro.github.io/tutorials/).**"
   ]
  },
  {
   "cell_type": "markdown",
   "metadata": {},
   "source": [
    "## Declaração de parâmetros e hiperparâmetros\n",
    "\n",
    "Declare parâmetros com o botão <img src=\"data:image/png;base64,iVBORw0KGgoAAAANSUhEUgAAABQAAAAUCAYAAACNiR0NAAABhWlDQ1BJQ0MgcHJvZmlsZQAAKJF9kT1Iw0AcxV9TtaIVBzuIOASpThb8QhylikWwUNoKrTqYXPohNGlIUlwcBdeCgx+LVQcXZ10dXAVB8APEydFJ0UVK/F9SaBHjwXE/3t173L0DhFqJqWbbGKBqlpGMRcVMdkUMvKID3QhiCOMSM/V4aiENz/F1Dx9f7yI8y/vcn6NHyZkM8InEs0w3LOJ14ulNS+e8TxxiRUkhPiceNeiCxI9cl11+41xwWOCZISOdnCMOEYuFFpZbmBUNlXiKOKyoGuULGZcVzluc1VKFNe7JXxjMacsprtMcRAyLiCMBETIq2EAJFiK0aqSYSNJ+1MM/4PgT5JLJtQFGjnmUoUJy/OB/8LtbMz854SYFo0D7i21/DAOBXaBete3vY9uunwD+Z+BKa/rLNWDmk/RqUwsfAb3bwMV1U5P3gMsdoP9JlwzJkfw0hXweeD+jb8oCfbdA16rbW2Mfpw9AmrpaugEODoGRAmWveby7s7W3f880+vsBocZyukMJsmwAAAAGYktHRAD/AP8A/6C9p5MAAAAJcEhZcwAADdcAAA3XAUIom3gAAAAHdElNRQfkBgsMIwnXL7c0AAACDUlEQVQ4y92UP4gTQRTGf29zJxhJZ2NxbMBKziYWlmJ/ile44Nlkd+dIYWFzItiNgoIEtFaTzF5Ac/inE/urtLWxsMqmUOwCEpt1Zmw2xxKi53XitPO9H9978+aDf/3IUQvSNG0450Yi0jXG7C/eB0cFeu9viciGiDyNoqh2KFBrHSilWstgnU7nFLBTgl+ur6/7PwK11kGe5z3n3Hul1MaiuCgKDZwALHA7z/Oe1jpYCtRaB+PxuA8kQM1aW68Kt7e3zwBp6a5b1ibj8bhfhQYVZwMRiQHrvW9nWfaqCrTWPgRWvPdvsiy7IyLXgEJE4slk8nw+T5nDgDbwE9gyxryuwpRSF5xz+0BhrT07HA4/AyRJchUYASvAbhiGaRVWLIMBYq3tAojIszkMoNRulbXtPM8HwV/sXSQi54HvQRDcO0wfhGGYArvAKjAq2wAgiqJj3vsHpbtur9f7Vi2utLx60LLW2hljEuBJOYu9OI6vAzQajRvAaeBLURSPlsBelA+VhWGYaq3dwaZvbm6+m06noYicE5ErrVbrK3AXqHvvd4bD4Ye5No7jSERGwKr3Pms2m0pr7Rb30DWbTQWYcnFvAieBT7PZbFB1V6vVfpQaU4UtDQetdTCZTC557/eA48BlY8zbRZ1SqrW2tvaxCvtt2iRJ0i9/xb4x5uJRwmNlaaaJ3AfqIvKY/+78Av++6uiSZhYMAAAAAElFTkSuQmCC\" /> na barra de ferramentas.<br>\n",
    "A variável `dataset` possui o caminho para leitura do arquivos importados na tarefa de \"Upload de dados\".<br>\n",
    "Você também pode importar arquivos com o botão <img src=\"data:image/png;base64,iVBORw0KGgoAAAANSUhEUgAAABQAAAAUCAYAAACNiR0NAAABhWlDQ1BJQ0MgcHJvZmlsZQAAKJF9kT1Iw0AcxV9TtaIVBzuIOASpThb8QhylikWwUNoKrTqYXPohNGlIUlwcBdeCgx+LVQcXZ10dXAVB8APEydFJ0UVK/F9SaBHjwXE/3t173L0DhFqJqWbbGKBqlpGMRcVMdkUMvKID3QhiCOMSM/V4aiENz/F1Dx9f7yI8y/vcn6NHyZkM8InEs0w3LOJ14ulNS+e8TxxiRUkhPiceNeiCxI9cl11+41xwWOCZISOdnCMOEYuFFpZbmBUNlXiKOKyoGuULGZcVzluc1VKFNe7JXxjMacsprtMcRAyLiCMBETIq2EAJFiK0aqSYSNJ+1MM/4PgT5JLJtQFGjnmUoUJy/OB/8LtbMz854SYFo0D7i21/DAOBXaBete3vY9uunwD+Z+BKa/rLNWDmk/RqUwsfAb3bwMV1U5P3gMsdoP9JlwzJkfw0hXweeD+jb8oCfbdA16rbW2Mfpw9AmrpaugEODoGRAmWveby7s7W3f880+vsBocZyukMJsmwAAAAGYktHRAD/AP8A/6C9p5MAAAAJcEhZcwAADdcAAA3XAUIom3gAAAAHdElNRQfkBgsOBy6ASTeXAAAC/0lEQVQ4y5WUT2gcdRTHP29m99B23Uiq6dZisgoWCxVJW0oL9dqLfyhCvGWY2YUBI95MsXgwFISirQcLhS5hfgk5CF3wJIhFI7aHNsL2VFZFik1jS1qkiZKdTTKZ3/MyDWuz0fQLc/m99/vMvDfv+4RMlUrlkKqeAAaBAWAP8DSgwJ/AXRG5rao/WWsvTU5O3qKLBMD3fSMiPluXFZEPoyj67PGAMzw83PeEMABHVT/oGpiamnoAmCcEWhH5tFsgF4bh9oWFhfeKxeJ5a+0JVT0oImWgBPQCKfAQuAvcBq67rltX1b+6ApMkKRcKhe9V9QLwbavV+qRer692Sx4ZGSnEcXw0TdP3gSrQswGYz+d/S5IkVtXTwOlCoZAGQXAfmAdagAvsAErtdnuXiDy6+023l7qNRsMODg5+CawBzwB9wFPA7mx8ns/KL2Tl3xCRz5eWlkabzebahrHxPG+v4zgnc7ncufHx8Z+Hhoa29fT0lNM03Q30ikiqqg+ttX/EcTy3WTvWgdVqtddaOw/kgXvADHBHROZVNRaRvKruUNU+EdkPfGWM+WJTYOaSt1T1LPDS/4zLWWPMaLVaPWytrYvIaBRFl/4F9H2/JCKvGmMu+76/X0QOqGoZKDmOs1NV28AicMsYc97zvFdc1/0hG6kEeNsY83UnsCwivwM3VfU7YEZE7lhr74tIK8tbnJiYWPY8b6/ruleAXR0ftQy8boyZXi85CIIICDYpc2ZgYODY3NzcHmvt1eyvP64lETkeRdE1yZyixWLx5U2c8q4x5mIQBE1g33/0d3FlZeXFR06ZttZesNZejuO4q1NE5CPgWVV9E3ij47wB1IDlJEn+ljAM86urq7+KyAtZTgqsO0VV247jnOnv7/9xbGzMViqVMVX9uANYj6LonfVtU6vVkjRNj6jqGeCXzGrPAQeA10TkuKpOz87ONrayhnIA2Qo7BZwKw3B7kiRloKSqO13Xja21C47jPNgysFO1Wi0GmtmzQap6DWgD24A1Vb3SGf8Hfstmz1CuXEIAAAAASUVORK5CYII=\" /> na barra de ferramentas."
   ]
  },
  {
   "cell_type": "markdown",
   "metadata": {},
   "source": [
    "Para esse componente, a base de dados deve estar no seguinte formado:\n",
    "- Arquivo CSV chamado dataset.csv contendo as colunas \"image_path\", \"target\" e \"subset\", onde:\n",
    "    - image_path: caminho para o arquivo de imagem.\n",
    "    - target: resposta esperada da predição, caso exista.\n",
    "    - subset: conjunto ao qual a amostra faz parte, pode ser \"train\", \"test\", e \"val\". \n",
    "- Imagens coloridas (3 canais) no formato 256x256 pixels. Caso não estejam nesse formato, o código faz as alterações necesssárias\n",
    "- Cada classe tem sua pasta com suas respectivas imagens, além dos conjuntos de treino, validação e teste terem suas pastas separadas. Um exemplo da árvore de diretórios pode ser observado abaixo:\n",
    "\n",
    "\n",
    "```bash\n",
    "dataset\n",
    "|________dataset.csv\n",
    "|________train\n",
    "|        |_____class_name1\n",
    "|        |     |____image0.jpg\n",
    "|        |     |____image1.jpg\n",
    "|        |     ...\n",
    "|        |\n",
    "|        |_____class_name2\n",
    "|              |____image3.jpg\n",
    "|              |____image4.jpg\n",
    "|               ...\n",
    "|\n",
    "|________val\n",
    "|        |_____class_name1\n",
    "|        |     |____image5.jpg\n",
    "|        |     |____image6.jpg\n",
    "|        |     ...\n",
    "|        |\n",
    "|        |_____class_name2\n",
    "|              |____image7.jpg\n",
    "|              |____image8.jpg\n",
    "|               ...\n",
    "|\n",
    "|________test\n",
    "|        |_____class_name1\n",
    "|        |     |____image9.jpg\n",
    "|        |     |____image10.jpg\n",
    "|        |     ...\n",
    "|        |\n",
    "|        |_____class_name2\n",
    "|              |____image11.jpg\n",
    "|              |____image12.jpg\n",
    "|              ...\n",
    "```"
   ]
  },
  {
   "cell_type": "code",
   "execution_count": 3,
   "metadata": {
    "tags": [
     "parameters"
    ]
   },
   "outputs": [],
   "source": [
    "dataset = \"/tmp/data/beans_disease-5.zip\" #@param {type:\"string\"}\n",
    "num_epochs = 16 #@param {type:\"integer\", label: \"Número de épocas\", description: \"Número de épocas que serão utilizadas para realizar as buscas.\"}\n",
    "trials = 5 #@param {type:\"integer\", label: \"Número de tentativas\", description: \"Número de tentativas para o algoritmo de busca por arquiteturas e hyperparametros.\"}\n",
    "batch_size = 8 #@param {type:\"integer\", label: \"Tamanho de batch\", description: \"Quantidade de amostras em cada batch.\"}\n",
    "target_size = 256 #@param {type:\"integer\", label: \"Tamanho da entrada\", description: \"Representa o tamanho da imagem de entrada das redes, o mesmo valor sera utilizado como altura e largura da imagem.\"}\n",
    "\n",
    "'''\n",
    "[OPCIONAIS]\n",
    "Aumentações são técnicas que comprovadamente ajudam \n",
    "a melhorar o desempenho e generalização dos modelos.\n",
    "Essas técnicas serão utilizadas apenas nos conjuntos de treino e validação. \n",
    "Não utilizadas no conjunto de teste.\n",
    "Possibilidades de aumentações para utilizar no dataset estão listadas abaixo:\n",
    "\n",
    "Mais explicações sobre cada aumentação podem ser encontradas no link:\n",
    "https://www.tensorflow.org/api_docs/python/tf/keras/preprocessing/image/ImageDataGenerator\n",
    "'''\n",
    "\n",
    "brightness_range = None #@param {type:\"float\", label: \"Brightness Range\", description: \"[Opcional; Aumentação] Tupla ou lista de dois float. Faixa para escolher o valor da mudança de brilho. Padrão: None\"}\n",
    "channel_shift_range = 0.0 #@param {type:\"float\", label: \"Channel Shift Range\", description: \"[Opcional; Aumentação] Faixa para mudanças aleatórias dos canais. Padrão: 0.0\"}\n",
    "cval = 0.0 #@param {type:\"float\", label: \"cval\", description: \"[Opcional; Aumentação] Float or Int. Valor usado para pontos fora dos limites quando fill_mode = \"constant\". Padrão: 0.0\"}\n",
    "data_format = \"channels_last\" #@param [\"channels_first\", \"channels_last\"]{type:\"string\", label: \"Data Format\", description: \"[Opcional; Aumentação] Formato dos dados da imagem. Padrão:\"channels_last\".\"}\n",
    "dtype = 'float32' #@param {type:\"string\", label: \"dtype\", description: \"[Opcional; Aumentação] Dtype para usar nos arrays gerados.\"}\n",
    "featurewise_center = False #@param {type:\"bool\", label: \"Featurewise Center\", description: \"[Opcional; Aumentação] Faz a média igual a zero em todo o dataset em termos de features.\"}\n",
    "featurewise_std_normalization = False #@param {type:\"bool\", label: \"Featurewise std Normalization\", description: \"[Opcional; Aumentação] Divide entradas pelo desvio padrão (std) do dataset em termos de features.\"}\n",
    "fill_mode = 'nearest' #@param [\"constant\", \"nearest\", \"reflect\", \"wrap\"]{type:\"string\", label: \"Fill Mode\", description:\"[Opcional; Aumentação] Algoritmo usado para preencher regiões caso necessário. Padrão:nearest\".}\n",
    "horizontal_flip = False #@param {type:\"bool\", label: \"Horizontal Flip\", description:\"[Opcional; Aumentação] Aplica inversão horizontal nas entragas aleatoriamente.\"}\n",
    "preprocessing_function = None #@param {type:\"string\", label: \"Preprocessing Function\", description:\"[Opcional; Aumentação] Funções que serão aplicadas em cada entrada. A função irá rodar após a imagem ser aumentada e redimensionada.\"}\n",
    "rescale = 1./255 #@param {type:\"float\", label: \"Rescale\", description:\"[Opcional; Aumentação] Fator de re-escala. Se None ou 0, nenhuma re-escala será aplicada, caso contrário cada data será multiplicado pelo valor especificado. Padrão: 1./255\"}\n",
    "rotation_range = 0 #@param {type:\"integer\", label: \"Rotation Range\", description:\"[Opcional; Aumentação] Faixa de graus para rotações aletórias. Padrão: 0\"}\n",
    "samplewise_center = False #@param {type:\"bool\", label: \"Samplewise Center\", description:\"[Opcional; Aumentação] Define cada média de amostra para 0. Padrão: False\"}\n",
    "samplewise_std_normalization = False #@param {type:\"bool\", label: \"Samplewise std Normalization\", description:\"[Opcional; Aumentação] Divide cada entrada por seu desvio padrão. Padrão: False\"}\n",
    "shear_range = 0.0 #@param {type:\"float\", label: \"Shear Range\", description:\"[Opcional; Aumentação] Intensidade de corte (Ângulo de corte na direção anti-horária em graus). Padrão: 0.0\"}\n",
    "vertical_flip = False #@param {type:\"bool\", label: \"Vertical Flip\", description:\"[Opcional; Aumentação] Aplica inversão vertical nas entragas aleatoriamente. Padrão: False\"}\n",
    "zca_whitening = False #@param {type:\"bool\", label: \"Zca Whitening\", description:\"[Opcional; Aumentação] Aplica clareamento ZCA. Padrão: False\"}\n",
    "zca_epsilon = 1e-06 #@param {type:\"float\", label: \"Zca Epsilon\", description:\"[Opcional; Aumentação] Valor de epsilon para clareamento ZCA. Padrão: 1e-6.\"}\n",
    "zoom_range = 0.0 #@param {type:\"float\", label: \"Zoom Range\", description:\"[Opcional; Aumentação] Float ou [lower, upper]. Faixa para zoom aleatório. Padrão: 0.0\"}\n",
    "height_shift_range = 0.0 #@param {type:\"float\", label: \"Height Shift Range\", description:\"[Opcional; Aumentação] Float, 1-D array-like ou integer. Padrão: 0.0\"} \n",
    "width_shift_range = 0.0 #@param {type:\"float\", label: \"Width Shift Range\", description:\"[Opcional; Aumentação] Float, 1-D array-like ou integer. Padrão: 0.0\"} "
   ]
  },
  {
   "cell_type": "code",
   "execution_count": null,
   "metadata": {},
   "outputs": [],
   "source": [
    "# MLFlow is used for tracking of metrics, dependencies and artifacts\n",
    "\n",
    "import mlflow\n",
    "\n",
    "mlflow.start_run()\n",
    "mlflow.sklearn.autolog()"
   ]
  },
  {
   "cell_type": "code",
   "execution_count": 4,
   "metadata": {},
   "outputs": [
    {
     "name": "stdout",
     "output_type": "stream",
     "text": [
      "\u001b[33mWARNING: The directory '/home/jovyan/.cache/pip' or its parent directory is not owned or is not writable by the current user. The cache has been disabled. Check the permissions and owner of that directory. If executing pip with sudo, you should use sudo's -H flag.\u001b[0m\n",
      "Collecting autokeras==1.0.12\n",
      "  Downloading autokeras-1.0.12-py3-none-any.whl (164 kB)\n",
      "\u001b[K     |████████████████████████████████| 164 kB 1.8 MB/s eta 0:00:01\n",
      "\u001b[?25hRequirement already satisfied: tensorflow>=2.3.0 in /opt/conda/lib/python3.7/site-packages (from autokeras==1.0.12) (2.4.1)\n",
      "Requirement already satisfied: scikit-learn in /opt/conda/lib/python3.7/site-packages (from autokeras==1.0.12) (0.24.2)\n",
      "Collecting keras-tuner>=1.0.2\n",
      "  Downloading keras-tuner-1.0.2.tar.gz (62 kB)\n",
      "\u001b[K     |████████████████████████████████| 62 kB 9.3 MB/s  eta 0:00:01\n",
      "\u001b[?25hRequirement already satisfied: packaging in /opt/conda/lib/python3.7/site-packages (from autokeras==1.0.12) (20.9)\n",
      "Requirement already satisfied: pandas in /opt/conda/lib/python3.7/site-packages (from autokeras==1.0.12) (1.2.4)\n",
      "Requirement already satisfied: future in /opt/conda/lib/python3.7/site-packages (from keras-tuner>=1.0.2->autokeras==1.0.12) (0.18.2)\n",
      "Requirement already satisfied: numpy in /opt/conda/lib/python3.7/site-packages (from keras-tuner>=1.0.2->autokeras==1.0.12) (1.19.5)\n",
      "Collecting tabulate\n",
      "  Downloading tabulate-0.8.9-py3-none-any.whl (25 kB)\n",
      "Collecting terminaltables\n",
      "  Downloading terminaltables-3.1.0.tar.gz (12 kB)\n",
      "Collecting colorama\n",
      "  Downloading colorama-0.4.4-py2.py3-none-any.whl (16 kB)\n",
      "Requirement already satisfied: tqdm in /opt/conda/lib/python3.7/site-packages (from keras-tuner>=1.0.2->autokeras==1.0.12) (4.41.1)\n",
      "Requirement already satisfied: requests in /opt/conda/lib/python3.7/site-packages (from keras-tuner>=1.0.2->autokeras==1.0.12) (2.25.1)\n",
      "Requirement already satisfied: scipy in /opt/conda/lib/python3.7/site-packages (from keras-tuner>=1.0.2->autokeras==1.0.12) (1.4.1)\n",
      "Requirement already satisfied: keras-preprocessing~=1.1.2 in /opt/conda/lib/python3.7/site-packages (from tensorflow>=2.3.0->autokeras==1.0.12) (1.1.2)\n",
      "Requirement already satisfied: gast==0.3.3 in /opt/conda/lib/python3.7/site-packages (from tensorflow>=2.3.0->autokeras==1.0.12) (0.3.3)\n",
      "Requirement already satisfied: protobuf>=3.9.2 in /opt/conda/lib/python3.7/site-packages (from tensorflow>=2.3.0->autokeras==1.0.12) (3.15.8)\n",
      "Requirement already satisfied: tensorboard~=2.4 in /opt/conda/lib/python3.7/site-packages (from tensorflow>=2.3.0->autokeras==1.0.12) (2.5.0)\n",
      "Requirement already satisfied: astunparse~=1.6.3 in /opt/conda/lib/python3.7/site-packages (from tensorflow>=2.3.0->autokeras==1.0.12) (1.6.3)\n",
      "Requirement already satisfied: h5py~=2.10.0 in /opt/conda/lib/python3.7/site-packages (from tensorflow>=2.3.0->autokeras==1.0.12) (2.10.0)\n",
      "Requirement already satisfied: tensorflow-estimator<2.5.0,>=2.4.0 in /opt/conda/lib/python3.7/site-packages (from tensorflow>=2.3.0->autokeras==1.0.12) (2.4.0)\n",
      "Requirement already satisfied: grpcio~=1.32.0 in /opt/conda/lib/python3.7/site-packages (from tensorflow>=2.3.0->autokeras==1.0.12) (1.32.0)\n",
      "Requirement already satisfied: typing-extensions~=3.7.4 in /opt/conda/lib/python3.7/site-packages (from tensorflow>=2.3.0->autokeras==1.0.12) (3.7.4.3)\n",
      "Requirement already satisfied: six~=1.15.0 in /opt/conda/lib/python3.7/site-packages (from tensorflow>=2.3.0->autokeras==1.0.12) (1.15.0)\n",
      "Requirement already satisfied: termcolor~=1.1.0 in /opt/conda/lib/python3.7/site-packages (from tensorflow>=2.3.0->autokeras==1.0.12) (1.1.0)\n",
      "Requirement already satisfied: wrapt~=1.12.1 in /opt/conda/lib/python3.7/site-packages (from tensorflow>=2.3.0->autokeras==1.0.12) (1.12.1)\n",
      "Requirement already satisfied: wheel~=0.35 in /opt/conda/lib/python3.7/site-packages (from tensorflow>=2.3.0->autokeras==1.0.12) (0.36.2)\n",
      "Requirement already satisfied: absl-py~=0.10 in /opt/conda/lib/python3.7/site-packages (from tensorflow>=2.3.0->autokeras==1.0.12) (0.12.0)\n",
      "Requirement already satisfied: google-pasta~=0.2 in /opt/conda/lib/python3.7/site-packages (from tensorflow>=2.3.0->autokeras==1.0.12) (0.2.0)\n",
      "Requirement already satisfied: opt-einsum~=3.3.0 in /opt/conda/lib/python3.7/site-packages (from tensorflow>=2.3.0->autokeras==1.0.12) (3.3.0)\n",
      "Requirement already satisfied: flatbuffers~=1.12.0 in /opt/conda/lib/python3.7/site-packages (from tensorflow>=2.3.0->autokeras==1.0.12) (1.12)\n",
      "Requirement already satisfied: google-auth-oauthlib<0.5,>=0.4.1 in /opt/conda/lib/python3.7/site-packages (from tensorboard~=2.4->tensorflow>=2.3.0->autokeras==1.0.12) (0.4.4)\n",
      "Requirement already satisfied: google-auth<2,>=1.6.3 in /opt/conda/lib/python3.7/site-packages (from tensorboard~=2.4->tensorflow>=2.3.0->autokeras==1.0.12) (1.30.0)\n",
      "Requirement already satisfied: tensorboard-plugin-wit>=1.6.0 in /opt/conda/lib/python3.7/site-packages (from tensorboard~=2.4->tensorflow>=2.3.0->autokeras==1.0.12) (1.8.0)\n",
      "Requirement already satisfied: tensorboard-data-server<0.7.0,>=0.6.0 in /opt/conda/lib/python3.7/site-packages (from tensorboard~=2.4->tensorflow>=2.3.0->autokeras==1.0.12) (0.6.0)\n",
      "Requirement already satisfied: markdown>=2.6.8 in /opt/conda/lib/python3.7/site-packages (from tensorboard~=2.4->tensorflow>=2.3.0->autokeras==1.0.12) (3.3.4)\n",
      "Requirement already satisfied: setuptools>=41.0.0 in /opt/conda/lib/python3.7/site-packages (from tensorboard~=2.4->tensorflow>=2.3.0->autokeras==1.0.12) (49.6.0.post20210108)\n",
      "Requirement already satisfied: werkzeug>=0.11.15 in /opt/conda/lib/python3.7/site-packages (from tensorboard~=2.4->tensorflow>=2.3.0->autokeras==1.0.12) (1.0.1)\n",
      "Requirement already satisfied: cachetools<5.0,>=2.0.0 in /opt/conda/lib/python3.7/site-packages (from google-auth<2,>=1.6.3->tensorboard~=2.4->tensorflow>=2.3.0->autokeras==1.0.12) (4.2.2)\n",
      "Requirement already satisfied: pyasn1-modules>=0.2.1 in /opt/conda/lib/python3.7/site-packages (from google-auth<2,>=1.6.3->tensorboard~=2.4->tensorflow>=2.3.0->autokeras==1.0.12) (0.2.8)\n",
      "Requirement already satisfied: rsa<5,>=3.1.4 in /opt/conda/lib/python3.7/site-packages (from google-auth<2,>=1.6.3->tensorboard~=2.4->tensorflow>=2.3.0->autokeras==1.0.12) (4.7.2)\n",
      "Requirement already satisfied: requests-oauthlib>=0.7.0 in /opt/conda/lib/python3.7/site-packages (from google-auth-oauthlib<0.5,>=0.4.1->tensorboard~=2.4->tensorflow>=2.3.0->autokeras==1.0.12) (1.3.0)\n",
      "Requirement already satisfied: importlib-metadata in /opt/conda/lib/python3.7/site-packages (from markdown>=2.6.8->tensorboard~=2.4->tensorflow>=2.3.0->autokeras==1.0.12) (4.0.1)\n",
      "Requirement already satisfied: pyasn1<0.5.0,>=0.4.6 in /opt/conda/lib/python3.7/site-packages (from pyasn1-modules>=0.2.1->google-auth<2,>=1.6.3->tensorboard~=2.4->tensorflow>=2.3.0->autokeras==1.0.12) (0.4.8)\n",
      "Requirement already satisfied: urllib3<1.27,>=1.21.1 in /opt/conda/lib/python3.7/site-packages (from requests->keras-tuner>=1.0.2->autokeras==1.0.12) (1.26.4)\n",
      "Requirement already satisfied: chardet<5,>=3.0.2 in /opt/conda/lib/python3.7/site-packages (from requests->keras-tuner>=1.0.2->autokeras==1.0.12) (4.0.0)\n",
      "Requirement already satisfied: certifi>=2017.4.17 in /opt/conda/lib/python3.7/site-packages (from requests->keras-tuner>=1.0.2->autokeras==1.0.12) (2020.12.5)\n",
      "Requirement already satisfied: idna<3,>=2.5 in /opt/conda/lib/python3.7/site-packages (from requests->keras-tuner>=1.0.2->autokeras==1.0.12) (2.10)\n",
      "Requirement already satisfied: oauthlib>=3.0.0 in /opt/conda/lib/python3.7/site-packages (from requests-oauthlib>=0.7.0->google-auth-oauthlib<0.5,>=0.4.1->tensorboard~=2.4->tensorflow>=2.3.0->autokeras==1.0.12) (3.0.1)\n",
      "Requirement already satisfied: zipp>=0.5 in /opt/conda/lib/python3.7/site-packages (from importlib-metadata->markdown>=2.6.8->tensorboard~=2.4->tensorflow>=2.3.0->autokeras==1.0.12) (3.4.1)\n",
      "Requirement already satisfied: pyparsing>=2.0.2 in /opt/conda/lib/python3.7/site-packages (from packaging->autokeras==1.0.12) (2.4.7)\n",
      "Requirement already satisfied: python-dateutil>=2.7.3 in /opt/conda/lib/python3.7/site-packages (from pandas->autokeras==1.0.12) (2.8.1)\n",
      "Requirement already satisfied: pytz>=2017.3 in /opt/conda/lib/python3.7/site-packages (from pandas->autokeras==1.0.12) (2021.1)\n",
      "Requirement already satisfied: threadpoolctl>=2.0.0 in /opt/conda/lib/python3.7/site-packages (from scikit-learn->autokeras==1.0.12) (2.1.0)\n",
      "Requirement already satisfied: joblib>=0.11 in /opt/conda/lib/python3.7/site-packages (from scikit-learn->autokeras==1.0.12) (1.0.1)\n",
      "Building wheels for collected packages: keras-tuner, terminaltables\n",
      "  Building wheel for keras-tuner (setup.py) ... \u001b[?25ldone\n",
      "\u001b[?25h  Created wheel for keras-tuner: filename=keras_tuner-1.0.2-py3-none-any.whl size=78936 sha256=41d1ac7947ecee4eedaaa49564f853920dcebb43e031c19ff14a1b2e27995ba6\n",
      "  Stored in directory: /tmp/pip-ephem-wheel-cache-citxlyac/wheels/78/e2/80/7fe373cad54ad22b06d0d6204cbc29cead9e69bb2680327775\n",
      "  Building wheel for terminaltables (setup.py) ... \u001b[?25ldone\n",
      "\u001b[?25h  Created wheel for terminaltables: filename=terminaltables-3.1.0-py3-none-any.whl size=15355 sha256=d92390897259ce4305b7ed898a9d56ad4564c8ec16d79fd8be54acf7a61ff079\n",
      "  Stored in directory: /tmp/pip-ephem-wheel-cache-citxlyac/wheels/ba/ad/c8/2d98360791161cd3db6daf6b5e730f34021fc9367d5879f497\n",
      "Successfully built keras-tuner terminaltables\n",
      "Installing collected packages: terminaltables, tabulate, colorama, keras-tuner, autokeras\n",
      "Successfully installed autokeras-1.0.12 colorama-0.4.4 keras-tuner-1.0.2 tabulate-0.8.9 terminaltables-3.1.0\n",
      "\u001b[33mWARNING: Running pip as root will break packages and permissions. You should install packages reliably by using venv: https://pip.pypa.io/warnings/venv\u001b[0m\n"
     ]
    }
   ],
   "source": [
    "!pip install autokeras==1.0.12"
   ]
  },
  {
   "cell_type": "code",
   "execution_count": 5,
   "metadata": {},
   "outputs": [],
   "source": [
    "import os\n",
    "import zipfile\n",
    "\n",
    "root_folder_name = dataset.split(\"/\")[-1].split(\".\")[0]\n",
    "root_folder = os.path.join(\"/tmp/data\", root_folder_name)\n",
    "with zipfile.ZipFile(dataset, 'r') as zip_ref:\n",
    "    zip_ref.extractall(root_folder)"
   ]
  },
  {
   "cell_type": "markdown",
   "metadata": {},
   "source": [
    "#### Criação do iterador de dados para a fase de treinamento"
   ]
  },
  {
   "cell_type": "code",
   "execution_count": 6,
   "metadata": {},
   "outputs": [
    {
     "name": "stdout",
     "output_type": "stream",
     "text": [
      "Found 30 files belonging to 3 classes.\n",
      "Found 30 files belonging to 3 classes.\n",
      "['angular_leaf_spot', 'bean_rust', 'healthy']\n"
     ]
    }
   ],
   "source": [
    "import tensorflow as tf\n",
    "\n",
    "train_data = tf.keras.preprocessing.image_dataset_from_directory(\n",
    "    os.path.join(root_folder, 'train'),\n",
    "    labels='inferred', label_mode='int',\n",
    "    batch_size=batch_size)\n",
    "\n",
    "val_data = tf.keras.preprocessing.image_dataset_from_directory(\n",
    "    os.path.join(root_folder, 'val'),\n",
    "    labels='inferred', label_mode='int',\n",
    "    batch_size=batch_size)\n",
    "\n",
    "print(train_data.class_names)"
   ]
  },
  {
   "cell_type": "markdown",
   "metadata": {},
   "source": [
    "#### Instanciação do [autokeras](https://autokeras.com/tutorial/image_classification/) para Classificação de Imagens e busca pela melhor arquitetura e hyperparâmetros"
   ]
  },
  {
   "cell_type": "code",
   "execution_count": 7,
   "metadata": {},
   "outputs": [],
   "source": [
    "import autokeras as ak\n",
    "\n",
    "model = ak.ImageClassifier(\n",
    "    num_classes=len(train_data.class_names),\n",
    "    max_trials=trials,\n",
    "    metrics=\"accuracy\",\n",
    "    objective=\"val_loss\",\n",
    "    overwrite=True)"
   ]
  },
  {
   "cell_type": "code",
   "execution_count": 8,
   "metadata": {},
   "outputs": [
    {
     "name": "stdout",
     "output_type": "stream",
     "text": [
      "Trial 1 Complete [00h 00m 34s]\n",
      "val_loss: 13.142202377319336\n",
      "\n",
      "Best val_loss So Far: 13.142202377319336\n",
      "Total elapsed time: 00h 00m 34s\n",
      "INFO:tensorflow:Oracle triggered exit\n",
      "4/4 [==============================] - 27s 6s/step - loss: 27.3677 - accuracy: 0.2825 - val_loss: 32.3682 - val_accuracy: 0.2667\n",
      "INFO:tensorflow:Assets written to: ./image_classifier/best_model/assets\n"
     ]
    }
   ],
   "source": [
    "'''\n",
    "A busca por arquiteturas é feita utilizando apenas metade \n",
    "do número total de épocas. Após selecionada a melhor arquitetura \n",
    "e hyperparametros, um novo treinamento dessa arquitetura é realizado\n",
    "utilizando o número total de épocas e as técnicas de aumentação de\n",
    "dados escolhidas para obter o modelo com melhor performance.\n",
    "'''\n",
    "\n",
    "model.fit(\n",
    "    train_data,\n",
    "    validation_data=val_data,\n",
    "    epochs=int(num_epochs/2))"
   ]
  },
  {
   "cell_type": "markdown",
   "metadata": {},
   "source": [
    "#### Exportação do melhor modelo e exposição da sua configuração de camadas"
   ]
  },
  {
   "cell_type": "code",
   "execution_count": 9,
   "metadata": {},
   "outputs": [
    {
     "name": "stdout",
     "output_type": "stream",
     "text": [
      "Model: \"model\"\n",
      "_________________________________________________________________\n",
      "Layer (type)                 Output Shape              Param #   \n",
      "=================================================================\n",
      "input_1 (InputLayer)         [(None, 256, 256, 3)]     0         \n",
      "_________________________________________________________________\n",
      "cast_to_float32 (CastToFloat (None, 256, 256, 3)       0         \n",
      "_________________________________________________________________\n",
      "normalization (Normalization (None, 256, 256, 3)       7         \n",
      "_________________________________________________________________\n",
      "conv2d (Conv2D)              (None, 254, 254, 32)      896       \n",
      "_________________________________________________________________\n",
      "conv2d_1 (Conv2D)            (None, 252, 252, 64)      18496     \n",
      "_________________________________________________________________\n",
      "max_pooling2d (MaxPooling2D) (None, 126, 126, 64)      0         \n",
      "_________________________________________________________________\n",
      "dropout (Dropout)            (None, 126, 126, 64)      0         \n",
      "_________________________________________________________________\n",
      "flatten (Flatten)            (None, 1016064)           0         \n",
      "_________________________________________________________________\n",
      "dropout_1 (Dropout)          (None, 1016064)           0         \n",
      "_________________________________________________________________\n",
      "dense (Dense)                (None, 3)                 3048195   \n",
      "_________________________________________________________________\n",
      "classification_head_1 (Softm (None, 3)                 0         \n",
      "=================================================================\n",
      "Total params: 3,067,594\n",
      "Trainable params: 3,067,587\n",
      "Non-trainable params: 7\n",
      "_________________________________________________________________\n"
     ]
    }
   ],
   "source": [
    "model_exported = model.export_model()\n",
    "model_exported.summary()\n",
    "model_path = \"/tmp/data/model_weights.h5\"\n",
    "model_exported.save(model_path)"
   ]
  },
  {
   "cell_type": "markdown",
   "metadata": {},
   "source": [
    "#### Criação dos dataloaders para última fase de treino utilizando aumentação"
   ]
  },
  {
   "cell_type": "code",
   "execution_count": 10,
   "metadata": {},
   "outputs": [
    {
     "name": "stdout",
     "output_type": "stream",
     "text": [
      "Found 30 images belonging to 3 classes.\n",
      "Found 30 images belonging to 3 classes.\n",
      "Found 30 images belonging to 3 classes.\n"
     ]
    }
   ],
   "source": [
    "from tensorflow.keras.preprocessing.image import ImageDataGenerator\n",
    "\n",
    "image_generator = ImageDataGenerator(\n",
    "    brightness_range = brightness_range,\n",
    "    channel_shift_range = channel_shift_range,\n",
    "    cval = cval,\n",
    "    data_format = data_format,\n",
    "    dtype = dtype,\n",
    "    featurewise_center = featurewise_center,\n",
    "    featurewise_std_normalization = featurewise_std_normalization,\n",
    "    fill_mode = fill_mode,\n",
    "    horizontal_flip = horizontal_flip,\n",
    "    preprocessing_function = preprocessing_function,\n",
    "    rescale = rescale,\n",
    "    rotation_range = rotation_range,\n",
    "    samplewise_center = False,\n",
    "    samplewise_std_normalization = samplewise_std_normalization,\n",
    "    shear_range = shear_range,\n",
    "    vertical_flip = vertical_flip,\n",
    "    zca_whitening = zca_whitening,\n",
    "    zca_epsilon = zca_epsilon,\n",
    "    zoom_range = zoom_range,\n",
    "    height_shift_range = height_shift_range,\n",
    "    width_shift_range = width_shift_range\n",
    ")\n",
    "\n",
    "train_generator = image_generator.flow_from_directory(\n",
    "    os.path.join(root_folder, 'train'),\n",
    "    batch_size=batch_size,\n",
    "    target_size=(target_size, target_size))\n",
    "\n",
    "val_generator = image_generator.flow_from_directory(\n",
    "    os.path.join(root_folder, 'val'),\n",
    "    batch_size=batch_size,\n",
    "    target_size=(target_size, target_size))\n",
    "\n",
    "test_datagen = ImageDataGenerator(\n",
    "    rescale=rescale,\n",
    "    dtype=dtype)\n",
    "\n",
    "test_generator = test_datagen.flow_from_directory(\n",
    "    os.path.join(root_folder, 'test'),\n",
    "    batch_size=batch_size,\n",
    "    target_size=(target_size, target_size))"
   ]
  },
  {
   "cell_type": "markdown",
   "metadata": {},
   "source": [
    "#### Treino do melhor modelo encontrado"
   ]
  },
  {
   "cell_type": "code",
   "execution_count": 11,
   "metadata": {},
   "outputs": [
    {
     "name": "stdout",
     "output_type": "stream",
     "text": [
      "Epoch 1/2\n",
      "4/4 [==============================] - 21s 5s/step - loss: 29.2824 - accuracy: 0.2333 - val_loss: 8.2185 - val_accuracy: 0.3333\n",
      "Epoch 2/2\n",
      "4/4 [==============================] - 19s 5s/step - loss: 3.7857 - accuracy: 0.3000 - val_loss: 1.7252 - val_accuracy: 0.3333\n"
     ]
    }
   ],
   "source": [
    "model = tf.keras.models.load_model(model_path)\n",
    "history = model.fit(\n",
    "    train_generator,\n",
    "    validation_data=val_generator,\n",
    "    epochs=num_epochs,\n",
    "    verbose=True)"
   ]
  },
  {
   "cell_type": "code",
   "execution_count": 14,
   "metadata": {},
   "outputs": [
    {
     "data": {
      "image/png": "[encoded data removed]",
      "text/plain": [
       "<Figure size 432x288 with 1 Axes>"
      ]
     },
     "metadata": {
      "needs_background": "light"
     },
     "output_type": "display_data"
    }
   ],
   "source": [
    "import matplotlib.pyplot as plt\n",
    "\n",
    "plt.plot(history.history[\"accuracy\"])\n",
    "plt.plot(history.history[\"val_accuracy\"])\n",
    "plt.title(\"Acurácia do modelo\")\n",
    "plt.ylabel(\"acurácia\")\n",
    "plt.xlabel(\"época\")\n",
    "plt.legend([\"treino\", \"validação\"], loc=\"upper left\")\n",
    "plt.show()"
   ]
  },
  {
   "cell_type": "markdown",
   "metadata": {},
   "source": [
    "#### Avaliação do melhor modelo no conjunto de teste"
   ]
  },
  {
   "cell_type": "code",
   "execution_count": 15,
   "metadata": {},
   "outputs": [
    {
     "name": "stdout",
     "output_type": "stream",
     "text": [
      "4/4 [==============================] - 6s 1s/step - loss: 1.7278 - accuracy: 0.3333\n",
      "Loss: 1.727807641029358 / Acc: 0.3333333432674408\n"
     ]
    }
   ],
   "source": [
    "# evaluate the best model\n",
    "loss, acc = model.evaluate(x=test_generator, verbose=True)\n",
    "print(\"Loss: {0} / Acc: {1}\".format(loss, acc))"
   ]
  },
  {
   "cell_type": "code",
   "execution_count": 16,
   "metadata": {},
   "outputs": [],
   "source": [
    "import numpy as np\n",
    "\n",
    "predictions = model.predict(x=test_generator)\n",
    "preds = []\n",
    "for prediction in predictions:\n",
    "    indx = np.argmax(prediction)\n",
    "    preds.append([indx])"
   ]
  },
  {
   "cell_type": "markdown",
   "metadata": {},
   "source": [
    "#### Geração do relatório de classificação e da matrix de confusão "
   ]
  },
  {
   "cell_type": "code",
   "execution_count": 18,
   "metadata": {},
   "outputs": [
    {
     "name": "stderr",
     "output_type": "stream",
     "text": [
      "/opt/conda/lib/python3.7/site-packages/sklearn/metrics/_classification.py:1248: UndefinedMetricWarning: Precision and F-score are ill-defined and being set to 0.0 in labels with no predicted samples. Use `zero_division` parameter to control this behavior.\n",
      "  _warn_prf(average, modifier, msg_start, len(result))\n",
      "/opt/conda/lib/python3.7/site-packages/sklearn/metrics/_classification.py:1248: UndefinedMetricWarning: Precision and F-score are ill-defined and being set to 0.0 in labels with no predicted samples. Use `zero_division` parameter to control this behavior.\n",
      "  _warn_prf(average, modifier, msg_start, len(result))\n",
      "/opt/conda/lib/python3.7/site-packages/sklearn/metrics/_classification.py:1248: UndefinedMetricWarning: Precision and F-score are ill-defined and being set to 0.0 in labels with no predicted samples. Use `zero_division` parameter to control this behavior.\n",
      "  _warn_prf(average, modifier, msg_start, len(result))\n"
     ]
    },
    {
     "data": {
      "text/html": [
       "<div>\n",
       "<style scoped>\n",
       "    .dataframe tbody tr th:only-of-type {\n",
       "        vertical-align: middle;\n",
       "    }\n",
       "\n",
       "    .dataframe tbody tr th {\n",
       "        vertical-align: top;\n",
       "    }\n",
       "\n",
       "    .dataframe thead th {\n",
       "        text-align: right;\n",
       "    }\n",
       "</style>\n",
       "<table border=\"1\" class=\"dataframe\">\n",
       "  <thead>\n",
       "    <tr style=\"text-align: right;\">\n",
       "      <th></th>\n",
       "      <th>precision</th>\n",
       "      <th>recall</th>\n",
       "      <th>f1-score</th>\n",
       "      <th>support</th>\n",
       "    </tr>\n",
       "  </thead>\n",
       "  <tbody>\n",
       "    <tr>\n",
       "      <th>angular_leaf_spot</th>\n",
       "      <td>0.333333</td>\n",
       "      <td>1.000000</td>\n",
       "      <td>0.500000</td>\n",
       "      <td>10.000000</td>\n",
       "    </tr>\n",
       "    <tr>\n",
       "      <th>bean_rust</th>\n",
       "      <td>0.000000</td>\n",
       "      <td>0.000000</td>\n",
       "      <td>0.000000</td>\n",
       "      <td>10.000000</td>\n",
       "    </tr>\n",
       "    <tr>\n",
       "      <th>healthy</th>\n",
       "      <td>0.000000</td>\n",
       "      <td>0.000000</td>\n",
       "      <td>0.000000</td>\n",
       "      <td>10.000000</td>\n",
       "    </tr>\n",
       "    <tr>\n",
       "      <th>accuracy</th>\n",
       "      <td>0.333333</td>\n",
       "      <td>0.333333</td>\n",
       "      <td>0.333333</td>\n",
       "      <td>0.333333</td>\n",
       "    </tr>\n",
       "    <tr>\n",
       "      <th>macro avg</th>\n",
       "      <td>0.111111</td>\n",
       "      <td>0.333333</td>\n",
       "      <td>0.166667</td>\n",
       "      <td>30.000000</td>\n",
       "    </tr>\n",
       "    <tr>\n",
       "      <th>weighted avg</th>\n",
       "      <td>0.111111</td>\n",
       "      <td>0.333333</td>\n",
       "      <td>0.166667</td>\n",
       "      <td>30.000000</td>\n",
       "    </tr>\n",
       "  </tbody>\n",
       "</table>\n",
       "</div>"
      ],
      "text/plain": [
       "                   precision    recall  f1-score    support\n",
       "angular_leaf_spot   0.333333  1.000000  0.500000  10.000000\n",
       "bean_rust           0.000000  0.000000  0.000000  10.000000\n",
       "healthy             0.000000  0.000000  0.000000  10.000000\n",
       "accuracy            0.333333  0.333333  0.333333   0.333333\n",
       "macro avg           0.111111  0.333333  0.166667  30.000000\n",
       "weighted avg        0.111111  0.333333  0.166667  30.000000"
      ]
     },
     "execution_count": 18,
     "metadata": {},
     "output_type": "execute_result"
    }
   ],
   "source": [
    "from sklearn.metrics import classification_report, confusion_matrix\n",
    "import pandas as pd\n",
    "import seaborn as sns\n",
    "\n",
    "report = classification_report(\n",
    "    test_generator.classes, preds,\n",
    "    target_names=test_generator.class_indices.keys(),\n",
    "    output_dict=True)\n",
    "\n",
    "report_df = pd.DataFrame(report).transpose()\n",
    "report_df"
   ]
  },
  {
   "cell_type": "code",
   "execution_count": 19,
   "metadata": {},
   "outputs": [
    {
     "name": "stderr",
     "output_type": "stream",
     "text": [
      "/opt/conda/lib/python3.7/site-packages/ipykernel_launcher.py:4: RuntimeWarning: invalid value encountered in true_divide\n",
      "  after removing the cwd from sys.path.\n"
     ]
    },
    {
     "data": {
      "image/png": "[encoded data removed]",
      "text/plain": [
       "<Figure size 432x288 with 2 Axes>"
      ]
     },
     "metadata": {
      "needs_background": "light"
     },
     "output_type": "display_data"
    }
   ],
   "source": [
    "confusion_mtx = confusion_matrix(test_generator.classes, preds)\n",
    "ticklabels = test_generator.class_indices.keys()\n",
    "ax = plt.axes()\n",
    "sns.heatmap((confusion_mtx/sum(confusion_mtx)), annot=True,\n",
    "            xticklabels=ticklabels, \n",
    "            yticklabels=ticklabels,\n",
    "            fmt='.02%',\n",
    "            cmap=sns.light_palette(\"seagreen\", as_cmap=True),\n",
    "            linewidths=0.2, ax = ax)\n",
    "\n",
    "ax.set_title('Matriz de Confusão')\n",
    "plt.xlabel('Classe Predita', fontsize = 15)\n",
    "plt.ylabel('Classe Real', fontsize = 15)\n",
    "plt.show()"
   ]
  },
  {
   "cell_type": "markdown",
   "metadata": {},
   "source": [
    "## Salva métricas\n",
    "Utiliza a função `save_metrics` do [SDK da PlatIAgro](https://platiagro.github.io/sdk/) para salvar métricas. Por exemplo: `accuracy`, `precision`, `r2_score`, `custom_score` etc.<br>"
   ]
  },
  {
   "cell_type": "code",
   "execution_count": 20,
   "metadata": {},
   "outputs": [],
   "source": [
    "mlflow.log_metric(\"classification_report\", report_df)"
   ]
  },
  {
   "cell_type": "markdown",
   "metadata": {},
   "source": [
    "## Salva resultados da tarefa\n",
    "\n",
    "A plataforma guarda o conteúdo de `/tmp/data/` para as tarefas subsequentes.<br>\n",
    "Use essa pasta para salvar modelos, metadados e outros resultados."
   ]
  },
  {
   "cell_type": "code",
   "execution_count": 21,
   "metadata": {},
   "outputs": [
    {
     "data": {
      "text/plain": [
       "['/tmp/data/model.joblib']"
      ]
     },
     "execution_count": 21,
     "metadata": {},
     "output_type": "execute_result"
    }
   ],
   "source": [
    "from joblib import dump\n",
    "\n",
    "artifacts = {\n",
    "    \"model_path\": model_path,\n",
    "    \"class_names\": test_generator.classes,\n",
    "}\n",
    "dump(artifacts, \"/tmp/data/model.joblib\")"
   ]
  }
 ],
 "metadata": {
  "celltoolbar": "Tags",
  "experiment_id": "c84adb4b-819d-401c-9c47-b89b41cbaaa8",
  "kernelspec": {
   "display_name": "Python 3",
   "language": "python",
   "name": "python3"
  },
  "language_info": {
   "codemirror_mode": {
    "name": "ipython",
    "version": 3
   },
   "file_extension": ".py",
   "mimetype": "text/x-python",
   "name": "python",
   "nbconvert_exporter": "python",
   "pygments_lexer": "ipython3",
   "version": "3.7.10"
  },
  "operator_id": "b262b213-7621-4b53-8c8d-d5415fcd5ed1",
  "task_id": "a65d6016-751c-48fc-9143-9a79f833bd28"
 },
 "nbformat": 4,
 "nbformat_minor": 4
}
