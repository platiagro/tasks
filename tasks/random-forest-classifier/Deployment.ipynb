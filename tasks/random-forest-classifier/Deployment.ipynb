{
 "cells": [
  {
   "cell_type": "markdown",
   "metadata": {},
   "source": [
    "# Classificador Random Forest - Implantação\n",
    "\n",
    "Baseado no algoritmo [Árvores de Decisão](https://en.wikipedia.org/wiki/Decision_tree), o algoritmo [Random Forest](https://en.wikipedia.org/wiki/Random_forest) opera construindo múltiplas Árvores de Decisão com o intuito de combinar essas Árvores e gerar uma Árvore de Decisão final. \n",
    "\n",
    "<img src=\"https://i.imgur.com/27PbBzH.png\" alt=\"RandomForest\" width=\"600\"/>\n",
    "\n",
    "O algoritmo Random Forest está na classe de [Ensemble Methods](https://en.wikipedia.org/wiki/Ensemble_learning) que visa a combinação de múltiplos algoritmos de Machine Learning para obter melhor performance. O Random Forest pode fazer ótimas predições em conjuntos de dados de larga escala, e geralmente tem resultados melhores que as Árvores de Decisão.\n",
    "\n",
    "Este componente realiza predições usando um modelo Random Forest para classificação usando [Scikit-learn](https://scikit-learn.org/stable/modules/generated/sklearn.ensemble.RandomForestClassifier.html). <br>\n",
    "Scikit-learn é uma biblioteca open source de machine learning que suporta apredizado supervisionado e não supervisionado. Também provê várias ferramentas para montagem de modelo, pré-processamento de dados, seleção e avaliação de modelos, e muitos outros utilitários.\n",
    "\n",
    "Este notebook apresenta:\n",
    "- como carregar modelos e outros resultados do treinamento.\n",
    "- como utilizar um modelo para fornecer predições em tempo real."
   ]
  },
  {
   "cell_type": "markdown",
   "metadata": {},
   "source": [
    "## Declaração de Classe para Predições em Tempo Real\n",
    "\n",
    "A tarefa de implantação cria um serviço REST para predições em tempo real.<br>\n",
    "Para isso você deve criar uma classe `Model` que implementa o método `predict`."
   ]
  },
  {
   "cell_type": "code",
   "execution_count": null,
   "metadata": {},
   "outputs": [],
   "source": [
    "%%writefile Model.py\n",
    "import joblib\n",
    "import numpy as np\n",
    "import pandas as pd\n",
    "\n",
    "\n",
    "class Model(object):\n",
    "    def __init__(self):\n",
    "        # Carrega artefatos: estimador, etc\n",
    "        artifacts = joblib.load(\"/tmp/data/random-forest-classifier.joblib\")\n",
    "        self.pipeline = artifacts[\"pipeline\"]\n",
    "        self.features_names_training = artifacts[\"columns\"]\n",
    "        self.columns_to_filter = artifacts[\"columns_to_filter\"]\n",
    "        self.label_encoder = artifacts[\"label_encoder\"]\n",
    "        self.method = artifacts[\"method\"]\n",
    "        self.new_columns = artifacts[\"new_columns\"]\n",
    "        self.features_after_pipeline = artifacts[\"features_after_pipeline\"]\n",
    "\n",
    "    def class_names(self):\n",
    "        column_names = np.concatenate((self.columns_to_filter, self.new_columns))\n",
    "        return column_names.tolist()\n",
    "\n",
    "    def predict(self, X, feature_names, meta=None):\n",
    "        \n",
    "        df = pd.DataFrame(X)\n",
    "        \n",
    "        if feature_names:\n",
    "            # Antes de utilizar o conjunto de dados X no modelo, reordena suas features de acordo com a ordem utilizada no treinamento\n",
    "            df = pd.DataFrame(X, columns=feature_names)[self.columns_to_filter]\n",
    "            X = df.to_numpy()\n",
    "\n",
    "        # adiciona a predição ao conjunto de dados\n",
    "        y_prob = self.pipeline.predict_proba(X)\n",
    "        y_pred = self.pipeline.predict(X)\n",
    "        y_pred = self.label_encoder.inverse_transform(y_pred)\n",
    "        \n",
    "        df.loc[:, self.new_columns[:-1]] = y_prob\n",
    "        df.loc[:, self.new_columns[-1]] = y_pred\n",
    "\n",
    "        return df.to_numpy()"
   ]
  }
 ],
 "metadata": {
  "celltoolbar": "Tags",
  "experiment_id": "e11073f1-1036-476c-9c85-1d193f3eb795",
  "kernelspec": {
   "display_name": "Python 3",
   "language": "python",
   "name": "python3"
  },
  "language_info": {
   "codemirror_mode": {
    "name": "ipython",
    "version": 3
   },
   "file_extension": ".py",
   "mimetype": "text/x-python",
   "name": "python",
   "nbconvert_exporter": "python",
   "pygments_lexer": "ipython3",
   "version": "3.7.10"
  },
  "operator_id": "e78f533a-a0af-43d0-ad8b-c465c2a0a701",
  "task_id": "f5b550f8-86a2-4f35-bee5-b257d97d1db3"
 },
 "nbformat": 4,
 "nbformat_minor": 4
}
