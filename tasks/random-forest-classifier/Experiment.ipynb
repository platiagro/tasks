{
 "cells": [
  {
   "cell_type": "markdown",
   "metadata": {
    "tags": [
     "parameters"
    ]
   },
   "source": [
    "# Classificador Random Forest - Experimento\n",
    "\n",
    "Baseado no algoritmo [Árvores de Decisão](https://en.wikipedia.org/wiki/Decision_tree), o algoritmo [Random Forest](https://en.wikipedia.org/wiki/Random_forest) opera construindo múltiplas Árvores de Decisão com o intuito de combinar essas Árvores e gerar uma Árvore de Decisão final. \n",
    "\n",
    "<img src=\"https://i.imgur.com/27PbBzH.png\" alt=\"RandomForest\" width=\"600\"/>\n",
    "\n",
    "O algoritmo Random Forest está na classe de [Ensemble Methods](https://en.wikipedia.org/wiki/Ensemble_learning) que visa a combinação de múltiplos algoritmos de Machine Learning para obter melhor performance. O Random Forest pode fazer ótimas predições em conjuntos de dados de larga escala, e geralmente tem resultados melhores que as Árvores de Decisão.\n",
    "\n",
    "Este componente treina um modelo Random Forest para classificação usando [Scikit-learn](https://scikit-learn.org/stable/modules/generated/sklearn.ensemble.RandomForestClassifier.html). <br>\n",
    "Scikit-learn é uma biblioteca open source de machine learning que suporta apredizado supervisionado e não supervisionado. Também provê várias ferramentas para montagem de modelo, pré-processamento de dados, seleção e avaliação de modelos, e muitos outros utilitários.\n",
    "dataset = \"/tmp/data/Iris-2.csv\" #@param {type:\"string\"}"
   ]
  },
  {
   "cell_type": "markdown",
   "metadata": {},
   "source": [
    "## Declaração de parâmetros e hiperparâmetros\n",
    "\n",
    "Declare parâmetros com o botão <img src=\"data:image/png;base64,iVBORw0KGgoAAAANSUhEUgAAABQAAAAUCAYAAACNiR0NAAABhWlDQ1BJQ0MgcHJvZmlsZQAAKJF9kT1Iw0AcxV9TtaIVBzuIOASpThb8QhylikWwUNoKrTqYXPohNGlIUlwcBdeCgx+LVQcXZ10dXAVB8APEydFJ0UVK/F9SaBHjwXE/3t173L0DhFqJqWbbGKBqlpGMRcVMdkUMvKID3QhiCOMSM/V4aiENz/F1Dx9f7yI8y/vcn6NHyZkM8InEs0w3LOJ14ulNS+e8TxxiRUkhPiceNeiCxI9cl11+41xwWOCZISOdnCMOEYuFFpZbmBUNlXiKOKyoGuULGZcVzluc1VKFNe7JXxjMacsprtMcRAyLiCMBETIq2EAJFiK0aqSYSNJ+1MM/4PgT5JLJtQFGjnmUoUJy/OB/8LtbMz854SYFo0D7i21/DAOBXaBete3vY9uunwD+Z+BKa/rLNWDmk/RqUwsfAb3bwMV1U5P3gMsdoP9JlwzJkfw0hXweeD+jb8oCfbdA16rbW2Mfpw9AmrpaugEODoGRAmWveby7s7W3f880+vsBocZyukMJsmwAAAAGYktHRAD/AP8A/6C9p5MAAAAJcEhZcwAADdcAAA3XAUIom3gAAAAHdElNRQfkBgsMIwnXL7c0AAACDUlEQVQ4y92UP4gTQRTGf29zJxhJZ2NxbMBKziYWlmJ/ile44Nlkd+dIYWFzItiNgoIEtFaTzF5Ac/inE/urtLWxsMqmUOwCEpt1Zmw2xxKi53XitPO9H9978+aDf/3IUQvSNG0450Yi0jXG7C/eB0cFeu9viciGiDyNoqh2KFBrHSilWstgnU7nFLBTgl+ur6/7PwK11kGe5z3n3Hul1MaiuCgKDZwALHA7z/Oe1jpYCtRaB+PxuA8kQM1aW68Kt7e3zwBp6a5b1ibj8bhfhQYVZwMRiQHrvW9nWfaqCrTWPgRWvPdvsiy7IyLXgEJE4slk8nw+T5nDgDbwE9gyxryuwpRSF5xz+0BhrT07HA4/AyRJchUYASvAbhiGaRVWLIMBYq3tAojIszkMoNRulbXtPM8HwV/sXSQi54HvQRDcO0wfhGGYArvAKjAq2wAgiqJj3vsHpbtur9f7Vi2utLx60LLW2hljEuBJOYu9OI6vAzQajRvAaeBLURSPlsBelA+VhWGYaq3dwaZvbm6+m06noYicE5ErrVbrK3AXqHvvd4bD4Ye5No7jSERGwKr3Pms2m0pr7Rb30DWbTQWYcnFvAieBT7PZbFB1V6vVfpQaU4UtDQetdTCZTC557/eA48BlY8zbRZ1SqrW2tvaxCvtt2iRJ0i9/xb4x5uJRwmNlaaaJ3AfqIvKY/+78Av++6uiSZhYMAAAAAElFTkSuQmCC\" /> na barra de ferramentas.<br>\n",
    "A variável `dataset` possui o caminho para leitura do arquivos importados na tarefa de \"Upload de dados\".<br>\n",
    "Você também pode importar arquivos com o botão <img src=\"data:image/png;base64,iVBORw0KGgoAAAANSUhEUgAAABQAAAAUCAYAAACNiR0NAAABhWlDQ1BJQ0MgcHJvZmlsZQAAKJF9kT1Iw0AcxV9TtaIVBzuIOASpThb8QhylikWwUNoKrTqYXPohNGlIUlwcBdeCgx+LVQcXZ10dXAVB8APEydFJ0UVK/F9SaBHjwXE/3t173L0DhFqJqWbbGKBqlpGMRcVMdkUMvKID3QhiCOMSM/V4aiENz/F1Dx9f7yI8y/vcn6NHyZkM8InEs0w3LOJ14ulNS+e8TxxiRUkhPiceNeiCxI9cl11+41xwWOCZISOdnCMOEYuFFpZbmBUNlXiKOKyoGuULGZcVzluc1VKFNe7JXxjMacsprtMcRAyLiCMBETIq2EAJFiK0aqSYSNJ+1MM/4PgT5JLJtQFGjnmUoUJy/OB/8LtbMz854SYFo0D7i21/DAOBXaBete3vY9uunwD+Z+BKa/rLNWDmk/RqUwsfAb3bwMV1U5P3gMsdoP9JlwzJkfw0hXweeD+jb8oCfbdA16rbW2Mfpw9AmrpaugEODoGRAmWveby7s7W3f880+vsBocZyukMJsmwAAAAGYktHRAD/AP8A/6C9p5MAAAAJcEhZcwAADdcAAA3XAUIom3gAAAAHdElNRQfkBgsOBy6ASTeXAAAC/0lEQVQ4y5WUT2gcdRTHP29m99B23Uiq6dZisgoWCxVJW0oL9dqLfyhCvGWY2YUBI95MsXgwFISirQcLhS5hfgk5CF3wJIhFI7aHNsL2VFZFik1jS1qkiZKdTTKZ3/MyDWuz0fQLc/m99/vMvDfv+4RMlUrlkKqeAAaBAWAP8DSgwJ/AXRG5rao/WWsvTU5O3qKLBMD3fSMiPluXFZEPoyj67PGAMzw83PeEMABHVT/oGpiamnoAmCcEWhH5tFsgF4bh9oWFhfeKxeJ5a+0JVT0oImWgBPQCKfAQuAvcBq67rltX1b+6ApMkKRcKhe9V9QLwbavV+qRer692Sx4ZGSnEcXw0TdP3gSrQswGYz+d/S5IkVtXTwOlCoZAGQXAfmAdagAvsAErtdnuXiDy6+023l7qNRsMODg5+CawBzwB9wFPA7mx8ns/KL2Tl3xCRz5eWlkabzebahrHxPG+v4zgnc7ncufHx8Z+Hhoa29fT0lNM03Q30ikiqqg+ttX/EcTy3WTvWgdVqtddaOw/kgXvADHBHROZVNRaRvKruUNU+EdkPfGWM+WJTYOaSt1T1LPDS/4zLWWPMaLVaPWytrYvIaBRFl/4F9H2/JCKvGmMu+76/X0QOqGoZKDmOs1NV28AicMsYc97zvFdc1/0hG6kEeNsY83UnsCwivwM3VfU7YEZE7lhr74tIK8tbnJiYWPY8b6/ruleAXR0ftQy8boyZXi85CIIICDYpc2ZgYODY3NzcHmvt1eyvP64lETkeRdE1yZyixWLx5U2c8q4x5mIQBE1g33/0d3FlZeXFR06ZttZesNZejuO4q1NE5CPgWVV9E3ij47wB1IDlJEn+ljAM86urq7+KyAtZTgqsO0VV247jnOnv7/9xbGzMViqVMVX9uANYj6LonfVtU6vVkjRNj6jqGeCXzGrPAQeA10TkuKpOz87ONrayhnIA2Qo7BZwKw3B7kiRloKSqO13Xja21C47jPNgysFO1Wi0GmtmzQap6DWgD24A1Vb3SGf8Hfstmz1CuXEIAAAAASUVORK5CYII=\" /> na barra de ferramentas."
   ]
  },
  {
   "cell_type": "code",
   "execution_count": null,
   "metadata": {
    "tags": [
     "parameters"
    ]
   },
   "outputs": [],
   "source": [
    "# parameters\n",
    "dataset = \"/tmp/data/Iris.csv\" #@param {type:\"string\"}\n",
    "target = \"Species\" #@param {type:\"feature\", label:\"Atributo alvo\", description: \"Seu modelo será treinado para prever os valores do alvo.\"}\n",
    "use_split = \"Sim\" #@param [\"Sim\", \"Não\"] {type:\"feature\",label:\"Usar data-split?\", description: \"Casos tenha usado a componente Data-Split, deseja usar essa divisão como conjunto de treino?\"}\n",
    "\n",
    "# selected features to perform the model\n",
    "filter_type = \"remover\" #@param [\"incluir\",\"remover\"] {type:\"string\",multiple:false,label:\"Modo de seleção das features\",description:\"Se deseja informar quais features deseja incluir no modelo, selecione a opção 'incluir'. Caso deseje informar as features que não devem ser utilizadas, selecione 'remover'. \"}\n",
    "model_features = \"\" #@param {type:\"feature\",multiple:true,label:\"Features para incluir/remover no modelo\",description:\"Seu modelo será feito considerando apenas as features selecionadas. Caso nada seja especificado, todas as features serão utilizadas\"}\n",
    "\n",
    "# features to apply Ordinal Encoder\n",
    "ordinal_features = \"\" #@param {type:\"feature\",multiple:true,label:\"Features para fazer codificação ordinal\", description: \"Seu modelo utilizará a codificação ordinal para as features selecionadas. As demais features categóricas serão codificadas utilizando One-Hot-Encoding.\"}\n",
    "\n",
    "# hyperparameters\n",
    "random_search = \"Sim\" #@param [\"Sim\", \"Não\"] {type:\"string\", label:\"Selecione para mim os melhores parâmetros\", description:\"Será testado uma série de combinações dos parametros abaixo, a melhor combinação será salva na pipeline.\"}\n",
    "best_estimators = \"Sim\" #@param [\"gini\", \"entropy\"] {type:\"string\", label:\"Critério\", description:\"Função para medir a qualidade de uma divisão\"}\n",
    "n_estimators = 10 #@param {type:\"integer\", label:\"Número de estimadores\", description:\"Número de árvores na floresta\"}\n",
    "criterion = \"gini\" #@param [\"gini\", \"entropy\"] {type:\"string\", label:\"Critério\", description:\"Função para medir a qualidade de uma divisão\"}\n",
    "max_depth = None #@param {type:\"integer\", label:\"Profundidade\", description:\"O máximo de profundidade da árvore\"}\n",
    "max_features = \"auto\" #@param [\"auto\", \"sqrt\", \"log2\"] {type:\"string\", label:\"Features\", description:\"O máximo de features a serem considerados ao procurar a melhor divisão\"}\n",
    "class_weight = None #@param [\"balanced\", \"balanced_subsample\"] {type:\"string\", label:\"Peso das Classes\", description:\"Especifica pesos de amostras quando for ajustar classificadores como uma função da classe do target\"}\n",
    "\n",
    "# predict method\n",
    "method = \"predict_proba\" #@param [\"predict_proba\", \"predict\"] {type:\"string\", label:\"Método de Predição\", description:\"Se optar por 'predict_proba', o método de predição será a probabilidade estimada de cada classe, já o 'predict' prediz a qual classe pertence\"} \n",
    "\n",
    "# Plots to ignore\n",
    "plots_ignore = [\"\"] #@param [\"Dados de Teste\", \"Matriz de Confusão\", \"Métricas Comuns\", \"Curva ROC\", \"Tabelas de Dados\", \"SHAP\"] {type:\"string\",multiple:true,label:\"Gráficos a serem ignorados\", description: \"Diversos gráficos são gerados ao executar o treinamento e validação do modelo, selecione quais não devem ser gerados.\"}"
   ]
  },
  {
   "cell_type": "markdown",
   "metadata": {},
   "source": [
    "## Acesso ao conjunto de dados\n",
    "\n",
    "O conjunto de dados utilizado nesta etapa será o mesmo carregado através da plataforma.<br>\n",
    "O tipo da variável retornada depende do arquivo de origem:\n",
    "- [pandas.DataFrame](https://pandas.pydata.org/pandas-docs/stable/reference/api/pandas.DataFrame.html) para CSV e compressed CSV: .csv .csv.zip .csv.gz .csv.bz2 .csv.xz\n",
    "- [Binary IO stream](https://docs.python.org/3/library/io.html#binary-i-o) para outros tipos de arquivo: .jpg .wav .zip .h5 .parquet etc"
   ]
  },
  {
   "cell_type": "code",
   "execution_count": null,
   "metadata": {},
   "outputs": [],
   "source": [
    "import pandas as pd\n",
    "\n",
    "df = pd.read_csv(dataset)"
   ]
  },
  {
   "cell_type": "code",
   "execution_count": null,
   "metadata": {},
   "outputs": [],
   "source": [
    "df"
   ]
  },
  {
   "cell_type": "markdown",
   "metadata": {},
   "source": [
    "## Acesso aos metadados do conjunto de dados\n",
    "\n",
    "Utiliza a função `stat_dataset` do [SDK da PlatIAgro](https://platiagro.github.io/sdk/) para carregar metadados. <br>\n",
    "Por exemplo, arquivos CSV possuem `metadata['featuretypes']` para cada coluna no conjunto de dados (ex: categorical, numerical, or datetime)."
   ]
  },
  {
   "cell_type": "code",
   "execution_count": null,
   "metadata": {},
   "outputs": [],
   "source": [
    "import numpy as np\n",
    "from platiagro import stat_dataset\n",
    "\n",
    "metadata = stat_dataset(name=dataset)\n",
    "featuretypes = metadata[\"featuretypes\"]\n",
    "\n",
    "columns = df.columns.to_numpy()\n",
    "featuretypes = np.array(featuretypes)\n",
    "target_index = np.argwhere(columns == target)\n",
    "featuretypes = np.delete(featuretypes, target_index)"
   ]
  },
  {
   "cell_type": "markdown",
   "metadata": {},
   "source": [
    "## Remoção de linhas com valores faltantes no atributo alvo\n",
    "\n",
    "Caso haja linhas em que o atributo alvo contenha valores faltantes, é feita a remoção dos casos faltantes."
   ]
  },
  {
   "cell_type": "code",
   "execution_count": null,
   "metadata": {},
   "outputs": [],
   "source": [
    "df.dropna(subset=[target], inplace=True)\n",
    "y = df[target].to_numpy()"
   ]
  },
  {
   "cell_type": "code",
   "execution_count": null,
   "metadata": {},
   "outputs": [],
   "source": [
    "df"
   ]
  },
  {
   "cell_type": "markdown",
   "metadata": {},
   "source": [
    "## Filtragem das features \n",
    "\n",
    "Seleciona apenas as features que foram declaradas no parâmetro model_features. Se nenhuma feature for especificada, todo o conjunto de dados será utilizado para a modelagem."
   ]
  },
  {
   "cell_type": "code",
   "execution_count": null,
   "metadata": {},
   "outputs": [],
   "source": [
    "columns_to_filter = columns\n",
    "\n",
    "if len(model_features) >= 1:\n",
    "\n",
    "    if filter_type == \"incluir\":\n",
    "        columns_index = (np.where(np.isin(columns, model_features)))[0]\n",
    "        columns_index.sort()\n",
    "        columns_to_filter = columns[columns_index]\n",
    "        featuretypes = featuretypes[columns_index]\n",
    "    else:\n",
    "        columns_index = (np.where(np.isin(columns, model_features)))[0]\n",
    "        columns_index.sort()\n",
    "        columns_to_filter = np.delete(columns, columns_index)\n",
    "        featuretypes = np.delete(featuretypes, columns_index)\n",
    "\n",
    "# keep the features selected\n",
    "df_model = df[columns_to_filter]\n",
    "\n",
    "columns_to_filter = np.delete(columns_to_filter, target_index)"
   ]
  },
  {
   "cell_type": "markdown",
   "metadata": {},
   "source": [
    "## Divide dataset em subconjuntos de treino e teste\n",
    "\n",
    "Carregando artefatos do componente Data-Split, se esse foi ultilizado antes, e separar treino e teste. <br>\n",
    "Subconjunto de treino: amostra de dados usada para treinar o modelo.<br>\n",
    "Subconjunto de teste: amostra de dados usada para fornecer uma avaliação imparcial do treinamento do modelo no subconjunto de dados de treino."
   ]
  },
  {
   "cell_type": "code",
   "execution_count": null,
   "metadata": {},
   "outputs": [],
   "source": [
    "import joblib\n",
    "import os.path\n",
    "from sklearn.model_selection import KFold \n",
    "from sklearn.model_selection import LeaveOneOut\n",
    "\n",
    "file_path = \"data-split.joblib\"\n",
    "\n",
    "if os.path.exists(file_path):\n",
    "    artifacts = joblib.load(file_path)\n",
    "\n",
    "    if artifacts[\"use_kfolds\"] != None:\n",
    "        cross_val = KFold(n_splits=use_kfolds, shuffle=True, random_state=42)     \n",
    "    elif artifacts[\"use_loo\"] != None:   \n",
    "        cross_val = LeaveOneOut()\n",
    "else:\n",
    "    cross_val = None"
   ]
  },
  {
   "cell_type": "code",
   "execution_count": null,
   "metadata": {},
   "outputs": [],
   "source": [
    "from sklearn.model_selection import train_test_split\n",
    "\n",
    "if use_split == \"Sim\" and \"data-split\" in df_model.columns:\n",
    "    if use_kfolds != None or use_loo != None:\n",
    "        X_test =  df_model[df_model['data-split']==0].drop([target, \"data-split\"], axis=1).to_numpy()\n",
    "        X_train =  df_model[df_model['data-split']==1].drop([target, \"data-split\"], axis=1).to_numpy()\n",
    "        y_test = df_model[df_model['data-split']==0][target].to_numpy()\n",
    "        y_train = df_model[df_model['data-split']==1][target].to_numpy()\n",
    "\n",
    "    else:\n",
    "        X_test =  df_model[df_model['data-split']==2].drop([target, \"data-split\"], axis=1).to_numpy()\n",
    "        X_train =  df_model[df_model['data-split']==1].drop([target, \"data-split\"], axis=1).to_numpy()\n",
    "        y_test = df_model[df_model['data-split']==2][target].to_numpy()\n",
    "        y_train = df_model[df_model['data-split']==1][target].to_numpy()  \n",
    "        \n",
    "    featuretypes = featuretypes[:-1]\n",
    "    columns_to_filter = columns_to_filter[:-1]\n",
    "\n",
    "    X = df_model.drop([target, \"data-split\"], axis=1).to_numpy()\n",
    "\n",
    "else:\n",
    "    if \"data-split\" in df_model.columns:\n",
    "        featuretypes = featuretypes[:-1]\n",
    "        columns_to_filter = columns_to_filter[:-1]\n",
    "        X = df_model.drop([target, \"data-split\"], axis=1)\n",
    "        X_train, X_test, y_train, y_test = train_test_split(X, y, train_size=0.7)    \n",
    "    else:\n",
    "        X = df_model.drop([target], axis=1)\n",
    "        X_train, X_test, y_train, y_test = train_test_split(X, y, train_size=0.7)"
   ]
  },
  {
   "cell_type": "markdown",
   "metadata": {},
   "source": [
    "## Configuração das features"
   ]
  },
  {
   "cell_type": "code",
   "execution_count": null,
   "metadata": {},
   "outputs": [],
   "source": [
    "from platiagro.featuretypes import NUMERICAL\n",
    "\n",
    "# Selects the indexes of numerical and non-numerical features\n",
    "numerical_indexes = np.where(featuretypes == NUMERICAL)[0]\n",
    "non_numerical_indexes = np.where(~(featuretypes == NUMERICAL))[0]\n",
    "\n",
    "# Selects non-numerical features to apply ordinal encoder or one-hot encoder\n",
    "ordinal_features = np.array(ordinal_features)\n",
    "\n",
    "non_numerical_indexes_ordinal = np.where(\n",
    "    ~(featuretypes == NUMERICAL) & np.isin(columns_to_filter, ordinal_features)\n",
    ")[0]\n",
    "\n",
    "non_numerical_indexes_one_hot = np.where(\n",
    "    ~(featuretypes == NUMERICAL) & ~(np.isin(columns_to_filter, ordinal_features))\n",
    ")[0]\n",
    "\n",
    "# After the step handle_missing_values,\n",
    "# numerical features are grouped in the beggining of the array\n",
    "numerical_indexes_after_handle_missing_values = np.arange(len(numerical_indexes))\n",
    "\n",
    "non_numerical_indexes_after_handle_missing_values = np.arange(\n",
    "    len(numerical_indexes), len(featuretypes)\n",
    ")\n",
    "\n",
    "ordinal_indexes_after_handle_missing_values = non_numerical_indexes_after_handle_missing_values[\n",
    "    np.where(np.isin(non_numerical_indexes, non_numerical_indexes_ordinal))[0]\n",
    "]\n",
    "\n",
    "one_hot_indexes_after_handle_missing_values = non_numerical_indexes_after_handle_missing_values[\n",
    "    np.where(np.isin(non_numerical_indexes, non_numerical_indexes_one_hot))[0]\n",
    "]"
   ]
  },
  {
   "cell_type": "markdown",
   "metadata": {},
   "source": [
    "## Codifica labels do atributo alvo\n",
    "\n",
    "As labels do atributo alvo são convertidos em números inteiros ordinais com valor entre 0 e n_classes-1."
   ]
  },
  {
   "cell_type": "code",
   "execution_count": null,
   "metadata": {},
   "outputs": [],
   "source": [
    "from sklearn.preprocessing import LabelEncoder\n",
    "\n",
    "label_encoder = LabelEncoder()\n",
    "y = label_encoder.fit_transform(y)\n",
    "y_train = label_encoder.fit_transform(y_train)\n",
    "y_test = label_encoder.fit_transform(y_test)"
   ]
  },
  {
   "cell_type": "markdown",
   "metadata": {},
   "source": [
    "## Treina um modelo usando sklearn.ensemble.RandomForestClassifier"
   ]
  },
  {
   "cell_type": "code",
   "execution_count": null,
   "metadata": {},
   "outputs": [],
   "source": [
    "from category_encoders.one_hot import OneHotEncoder\n",
    "from category_encoders.ordinal import OrdinalEncoder\n",
    "from sklearn.compose import ColumnTransformer\n",
    "from sklearn.ensemble import RandomForestClassifier\n",
    "from sklearn.impute import SimpleImputer\n",
    "from sklearn.pipeline import Pipeline\n",
    "\n",
    "pipeline = Pipeline(\n",
    "    steps=[\n",
    "        (\n",
    "            \"handle_missing_values\",\n",
    "            ColumnTransformer(\n",
    "                [\n",
    "                    (\"imputer_mean\", SimpleImputer(strategy=\"mean\"), numerical_indexes),\n",
    "                    (\n",
    "                        \"imputer_mode\",\n",
    "                        SimpleImputer(strategy=\"most_frequent\"),\n",
    "                        non_numerical_indexes,\n",
    "                    ),\n",
    "                ],\n",
    "                remainder=\"drop\",\n",
    "            ),\n",
    "        ),\n",
    "        (\n",
    "            \"handle_categorical_features\",\n",
    "            ColumnTransformer(\n",
    "                [\n",
    "                    (\n",
    "                        \"feature_encoder_ordinal\",\n",
    "                        OrdinalEncoder(),\n",
    "                        ordinal_indexes_after_handle_missing_values,\n",
    "                    ),\n",
    "                    (\n",
    "                        \"feature_encoder_onehot\",\n",
    "                        OneHotEncoder(),\n",
    "                        one_hot_indexes_after_handle_missing_values,\n",
    "                    ),\n",
    "                ],\n",
    "                remainder=\"passthrough\",\n",
    "            ),\n",
    "        ),\n",
    "        (\n",
    "            \"estimator\",\n",
    "            RandomForestClassifier(\n",
    "                n_estimators=n_estimators,\n",
    "                criterion=criterion,\n",
    "                max_depth=max_depth,\n",
    "                max_features=max_features,\n",
    "                class_weight=class_weight,\n",
    "            ),\n",
    "        ),\n",
    "    ]\n",
    ")\n",
    "\n",
    "\n",
    "features_after_pipeline = np.concatenate(\n",
    "    (columns_to_filter[numerical_indexes], columns_to_filter[non_numerical_indexes])\n",
    ")"
   ]
  },
  {
   "cell_type": "markdown",
   "metadata": {},
   "source": [
    "## Selecionando os parâmetros\n",
    "\n",
    "Ultilizando RandomizedSearchCV Sklearn para encontrar a melhor combinação de parâmetros para esse modelo."
   ]
  },
  {
   "cell_type": "code",
   "execution_count": null,
   "metadata": {},
   "outputs": [],
   "source": [
    "from sklearn.model_selection import cross_val_predict\n",
    "from sklearn.model_selection import GridSearchCV, RandomizedSearchCV\n",
    "\n",
    "    \n",
    "if random_search == \"Sim\":\n",
    "    \n",
    "    param_grid = { \n",
    "        'estimator__n_estimators': [200, 400, 600, 800, 1000, 1200, 1400, 1600, 1800, 2000],\n",
    "        'estimator__criterion': [\"gini\", \"entropy\"],\n",
    "        'estimator__max_depth': [10, 20, 30, 40, 50, 60, 70, 80, 90, 100, None],\n",
    "        'estimator__max_features': ['auto', 'sqrt', 'log2'],\n",
    "        'estimator__class_weight': [None, \"balanced\", \"balanced_subsample\"],\n",
    "        'estimator__bootstrap': [True, False],\n",
    "    }\n",
    "    \n",
    "    def_search = RandomizedSearchCV(pipeline, param_grid, random_state=42, cv = cross_val)\n",
    "    search = def_search.fit(X_train, y_train)\n",
    "    best_par = search.best_params_\n",
    "\n",
    "    #atualizando parametros\n",
    "    pipeline.set_params(estimator__n_estimators=best_par[\"estimator__n_estimators\"],\n",
    "                        estimator__criterion = best_par[\"estimator__criterion\"],\n",
    "                        estimator__max_depth = best_par[\"estimator__max_depth\"],\n",
    "                        estimator__max_features = best_par[\"estimator__max_features\"],\n",
    "                        estimator__class_weight = best_par[\"estimator__class_weight\"],\n",
    "                        estimator__bootstrap = best_par[\"estimator__bootstrap\"]\n",
    "                       )\n",
    "    pipeline.fit(X_train, y_train)\n",
    "    y_pred = pipeline.predict(X_test)\n",
    "\n",
    "else: \n",
    "    \n",
    "    if cross_val != None:\n",
    "        pipeline.fit(X_train, y_train)\n",
    "        y_pred = cross_val_predict(pipeline, X_test, y_test, cv = cross_val)\n",
    "\n",
    "    else:    \n",
    "        pipeline.fit(X_train, y_train)\n",
    "        y_pred = pipeline.predict(X_test)"
   ]
  },
  {
   "cell_type": "markdown",
   "metadata": {},
   "source": [
    "## Visualização de desempenho\n",
    "\n",
    "A [**Matriz de Confusão**](https://en.wikipedia.org/wiki/Confusion_matrix) (Confusion Matrix) é uma tabela que nos permite a visualização do desempenho de um algoritmo de classificação. <br>\n",
    "É extremamente útil para mensurar [Accuracy](https://en.wikipedia.org/wiki/Accuracy_and_precision#In_binary_classification), [Recall, Precision, and F-measure](https://en.wikipedia.org/wiki/Precision_and_recall)."
   ]
  },
  {
   "cell_type": "code",
   "execution_count": null,
   "metadata": {},
   "outputs": [],
   "source": [
    "from sklearn.metrics import confusion_matrix\n",
    "\n",
    "# uses the model to make predictions on the Test Dataset\n",
    "y_prob = pipeline.predict_proba(X_test)\n",
    "\n",
    "# computes confusion matrix\n",
    "labels = np.unique(y)\n",
    "\n",
    "# aqui verificar os tipos de arquivo esperados para y_pred\n",
    "data = confusion_matrix(y_test, y_pred, labels=labels)\n",
    "\n",
    "# puts matrix in pandas.DataFrame for better format\n",
    "labels_dec = label_encoder.inverse_transform(labels)\n",
    "confusion_matrix = pd.DataFrame(data, columns=labels_dec, index=labels_dec)"
   ]
  },
  {
   "cell_type": "markdown",
   "metadata": {},
   "source": [
    "## Salva métricas\n",
    "\n",
    "Utiliza a função `save_metrics` do [SDK da PlatIAgro](https://platiagro.github.io/sdk/) para salvar métricas. Por exemplo: `accuracy`, `precision`, `r2_score`, `custom_score` etc.<br>"
   ]
  },
  {
   "cell_type": "code",
   "execution_count": null,
   "metadata": {},
   "outputs": [],
   "source": [
    "from platiagro import save_metrics\n",
    "\n",
    "save_metrics(confusion_matrix=confusion_matrix)"
   ]
  },
  {
   "cell_type": "markdown",
   "metadata": {},
   "source": [
    "## Visualiza resultados\n",
    "A avaliação do desempenho do modelo pode ser feita por meio da análise da Curva ROC (ROC). Esse gráfico permite avaliar a performance de um classificador binário para diferentes pontos de cortes. A métrica AUC (Area under curve) também é calculada e indicada na legenda do gráfico. Se a variável resposta tiver mais de duas categorias, o cálculo da curva ROC e AUC é feito utilizando o algoritmo one-vs-rest, ou seja, calcula-se a curva ROC e AUC de cada classe em relação ao restante."
   ]
  },
  {
   "cell_type": "code",
   "execution_count": null,
   "metadata": {},
   "outputs": [],
   "source": [
    "import matplotlib.pyplot as plt"
   ]
  },
  {
   "cell_type": "code",
   "execution_count": null,
   "metadata": {},
   "outputs": [],
   "source": [
    "from platiagro.plotting import plot_classification_data\n",
    "\n",
    "if \"Dados de Teste\" not in plots_ignore:\n",
    "    \n",
    "    plot_classification_data(pipeline, columns_to_filter, X_train, y_train, X_test, y_test, y_pred)\n",
    "    plt.show()"
   ]
  },
  {
   "cell_type": "code",
   "execution_count": null,
   "metadata": {},
   "outputs": [],
   "source": [
    "from platiagro.plotting import plot_matrix\n",
    "\n",
    "if \"Matriz de Confusão\" not in plots_ignore:\n",
    "    \n",
    "    plot_matrix(confusion_matrix)\n",
    "    plt.show()"
   ]
  },
  {
   "cell_type": "code",
   "execution_count": null,
   "metadata": {},
   "outputs": [],
   "source": [
    "from platiagro.plotting import plot_common_metrics\n",
    "\n",
    "if \"Métricas Comuns\" not in plots_ignore:\n",
    "    \n",
    "    plot_common_metrics(y_test, y_pred, labels, labels_dec)\n",
    "    plt.show()"
   ]
  },
  {
   "cell_type": "code",
   "execution_count": null,
   "metadata": {},
   "outputs": [],
   "source": [
    "from platiagro.plotting import plot_roc_curve\n",
    "\n",
    "if \"Curva ROC\" not in plots_ignore:\n",
    "    \n",
    "    plot_roc_curve(y_test, y_prob, labels_dec)\n",
    "    plt.show()"
   ]
  },
  {
   "cell_type": "markdown",
   "metadata": {},
   "source": [
    "Por meio da bibiloteca SHAP retornamos o gráfico abaixo, através do qual é possível visualziar o impacto das features de entrada para cada possível classe na saída."
   ]
  },
  {
   "cell_type": "code",
   "execution_count": null,
   "metadata": {},
   "outputs": [],
   "source": [
    "from platiagro.plotting import plot_shap_classification_summary\n",
    "\n",
    "if \"SHAP\" not in plots_ignore:\n",
    "\n",
    "    plot_shap_classification_summary(pipeline, X_train,y_train,columns_to_filter,label_encoder,non_numerical_indexes)"
   ]
  },
  {
   "cell_type": "markdown",
   "metadata": {},
   "source": [
    "Visualização da tabela contendo os resultados finais"
   ]
  },
  {
   "cell_type": "code",
   "execution_count": null,
   "metadata": {},
   "outputs": [],
   "source": [
    "from platiagro.plotting import plot_data_table\n",
    "\n",
    "if \"Tabelas de Dados\" not in plots_ignore:\n",
    "\n",
    "    df_test = pd.DataFrame(X_test, columns=columns_to_filter)\n",
    "    labels_prob = list(label_encoder.inverse_transform(np.unique(y)))\n",
    "    labels_prob = [str(label) +'_prob' for label in labels_prob]\n",
    "    new_cols = [target] + labels_prob\n",
    "\n",
    "    y_pred_expanded = np.expand_dims(label_encoder.inverse_transform(y_pred), axis=1)\n",
    "    y_arrays = np.concatenate((y_pred_expanded, y_prob), axis=1)\n",
    "    for col, y_array  in zip(new_cols,y_arrays.T):\n",
    "        df_test[col] = y_array\n",
    "\n",
    "    ax = plot_data_table(df_test)\n",
    "    plt.show()"
   ]
  },
  {
   "cell_type": "markdown",
   "metadata": {},
   "source": [
    "## Salva alterações no conjunto de dados\n",
    "\n",
    "O conjunto de dados será salvo (e sobrescrito com as respectivas mudanças) localmente, no container da experimentação, utilizando a função `pandas.DataFrame.to_csv`.<br>"
   ]
  },
  {
   "cell_type": "code",
   "execution_count": null,
   "metadata": {},
   "outputs": [],
   "source": [
    "from re import sub\n",
    "\n",
    "def generate_col_names(labels_dec):\n",
    "    return [\n",
    "        sub(\"[^a-zA-Z0-9\\n\\.]\", \"_\", str(\"RFClassifier_predict_proba\" + \"_\" + str(class_i)))\n",
    "        for i, class_i in enumerate(labels_dec)\n",
    "    ] \n",
    "\n",
    "pipeline.fit(X, y)\n",
    "y_prob = pipeline.predict_proba(X)\n",
    "y_pred = pipeline.predict(X)\n",
    "\n",
    "new_columns = generate_col_names(labels_dec)\n",
    "df.loc[:, new_columns] = y_prob\n",
    "\n",
    "y_pred = label_encoder.inverse_transform(y_pred)\n",
    "df.loc[:, \"RFClassifier_predict_class\"] = y_pred\n",
    "new_columns = new_columns + [\"RFClassifier_predict_class\"]\n",
    "\n",
    "# save dataset changes\n",
    "df.to_csv(dataset, index=False)"
   ]
  },
  {
   "cell_type": "markdown",
   "metadata": {},
   "source": [
    "## Salva resultados da tarefa \n",
    "\n",
    "A plataforma guarda o conteúdo de `/tmp/data/` para as tarefas subsequentes."
   ]
  },
  {
   "cell_type": "code",
   "execution_count": null,
   "metadata": {},
   "outputs": [],
   "source": [
    "from joblib import dump\n",
    "\n",
    "artifacts = {\n",
    "    \"pipeline\": pipeline,\n",
    "    \"label_encoder\": label_encoder,\n",
    "    \"columns\": columns,\n",
    "    \"columns_to_filter\": columns_to_filter,\n",
    "    \"new_columns\": new_columns,\n",
    "    \"method\": method,\n",
    "    \"features_after_pipeline\": features_after_pipeline,\n",
    "}\n",
    "\n",
    "dump(artifacts, \"/tmp/data/random-forest-classifier.joblib\")"
   ]
  }
 ],
 "metadata": {
  "celltoolbar": "Tags",
  "experiment_id": "e11073f1-1036-476c-9c85-1d193f3eb795",
  "kernelspec": {
   "display_name": "Python 3",
   "language": "python",
   "name": "python3"
  },
  "language_info": {
   "codemirror_mode": {
    "name": "ipython",
    "version": 3
   },
   "file_extension": ".py",
   "mimetype": "text/x-python",
   "name": "python",
   "nbconvert_exporter": "python",
   "pygments_lexer": "ipython3",
   "version": "3.8.8"
  },
  "task_id": "c359809c-950a-48d5-b3c2-fa828f460813"
 },
 "nbformat": 4,
 "nbformat_minor": 4
}
