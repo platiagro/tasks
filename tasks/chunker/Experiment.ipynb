{
 "cells": [
  {
   "cell_type": "markdown",
   "source": [
    "#  Chunker de Textos - Experimento\n",
    "\n",
    "* Este componente faz janelamento de textos longos, dividindo um texto em partes menores, cada parte de texto criada (chunk), possui uma quantidade de elementos (palavras ou sentenças) pré-definidas pelo usuário; como também a quantidade de elementos que se sobrepõem entre cada chunk consecutivo. \n",
    "* Exemplo:\n",
    "        \n",
    "    - Texto: \"Hoje o dia amanheceu ensolarado, vou fazer uma caminhada e ouvir os sons da natureza.\"\n",
    "\n",
    "    - Hiperparâmetros: {\n",
    "        \"chunkenizer\": \"word\",\n",
    "        \"chunk_size\": 5,\n",
    "        \"chunk_overlap\": 2\n",
    "    }\n",
    "\n",
    "    - Saída: [\n",
    "        \"Hoje o dia amanheceu ensolarado,\",\n",
    "        \"amanheceu ensolarado, vou fazer uma\",\n",
    "        \"fazer uma caminhada e ouvir\",\n",
    "        \"e ouvir os sons da\",\n",
    "        \"sons da natureza.\"\n",
    "    ]\n",
    "\n",
    "\n",
    "### **Em caso de dúvidas, consulte os [tutoriais da PlatIAgro](https://platiagro.github.io/tutorials/).**"
   ],
   "metadata": {}
  },
  {
   "cell_type": "markdown",
   "source": [
    "## Declaração de parâmetros e hiperparâmetros\n",
    "\n",
    "Declare parâmetros com o botão <img src=\"data:image/png;base64,iVBORw0KGgoAAAANSUhEUgAAABQAAAAUCAYAAACNiR0NAAABhWlDQ1BJQ0MgcHJvZmlsZQAAKJF9kT1Iw0AcxV9TtaIVBzuIOASpThb8QhylikWwUNoKrTqYXPohNGlIUlwcBdeCgx+LVQcXZ10dXAVB8APEydFJ0UVK/F9SaBHjwXE/3t173L0DhFqJqWbbGKBqlpGMRcVMdkUMvKID3QhiCOMSM/V4aiENz/F1Dx9f7yI8y/vcn6NHyZkM8InEs0w3LOJ14ulNS+e8TxxiRUkhPiceNeiCxI9cl11+41xwWOCZISOdnCMOEYuFFpZbmBUNlXiKOKyoGuULGZcVzluc1VKFNe7JXxjMacsprtMcRAyLiCMBETIq2EAJFiK0aqSYSNJ+1MM/4PgT5JLJtQFGjnmUoUJy/OB/8LtbMz854SYFo0D7i21/DAOBXaBete3vY9uunwD+Z+BKa/rLNWDmk/RqUwsfAb3bwMV1U5P3gMsdoP9JlwzJkfw0hXweeD+jb8oCfbdA16rbW2Mfpw9AmrpaugEODoGRAmWveby7s7W3f880+vsBocZyukMJsmwAAAAGYktHRAD/AP8A/6C9p5MAAAAJcEhZcwAADdcAAA3XAUIom3gAAAAHdElNRQfkBgsMIwnXL7c0AAACDUlEQVQ4y92UP4gTQRTGf29zJxhJZ2NxbMBKziYWlmJ/ile44Nlkd+dIYWFzItiNgoIEtFaTzF5Ac/inE/urtLWxsMqmUOwCEpt1Zmw2xxKi53XitPO9H9978+aDf/3IUQvSNG0450Yi0jXG7C/eB0cFeu9viciGiDyNoqh2KFBrHSilWstgnU7nFLBTgl+ur6/7PwK11kGe5z3n3Hul1MaiuCgKDZwALHA7z/Oe1jpYCtRaB+PxuA8kQM1aW68Kt7e3zwBp6a5b1ibj8bhfhQYVZwMRiQHrvW9nWfaqCrTWPgRWvPdvsiy7IyLXgEJE4slk8nw+T5nDgDbwE9gyxryuwpRSF5xz+0BhrT07HA4/AyRJchUYASvAbhiGaRVWLIMBYq3tAojIszkMoNRulbXtPM8HwV/sXSQi54HvQRDcO0wfhGGYArvAKjAq2wAgiqJj3vsHpbtur9f7Vi2utLx60LLW2hljEuBJOYu9OI6vAzQajRvAaeBLURSPlsBelA+VhWGYaq3dwaZvbm6+m06noYicE5ErrVbrK3AXqHvvd4bD4Ye5No7jSERGwKr3Pms2m0pr7Rb30DWbTQWYcnFvAieBT7PZbFB1V6vVfpQaU4UtDQetdTCZTC557/eA48BlY8zbRZ1SqrW2tvaxCvtt2iRJ0i9/xb4x5uJRwmNlaaaJ3AfqIvKY/+78Av++6uiSZhYMAAAAAElFTkSuQmCC\" /> na barra de ferramentas.<br>\n",
    "A variável `dataset` possui o caminho para leitura do arquivos importados na tarefa de \"Upload de dados\".<br>\n",
    "Você também pode importar arquivos com o botão <img src=\"data:image/png;base64,iVBORw0KGgoAAAANSUhEUgAAABQAAAAUCAYAAACNiR0NAAABhWlDQ1BJQ0MgcHJvZmlsZQAAKJF9kT1Iw0AcxV9TtaIVBzuIOASpThb8QhylikWwUNoKrTqYXPohNGlIUlwcBdeCgx+LVQcXZ10dXAVB8APEydFJ0UVK/F9SaBHjwXE/3t173L0DhFqJqWbbGKBqlpGMRcVMdkUMvKID3QhiCOMSM/V4aiENz/F1Dx9f7yI8y/vcn6NHyZkM8InEs0w3LOJ14ulNS+e8TxxiRUkhPiceNeiCxI9cl11+41xwWOCZISOdnCMOEYuFFpZbmBUNlXiKOKyoGuULGZcVzluc1VKFNe7JXxjMacsprtMcRAyLiCMBETIq2EAJFiK0aqSYSNJ+1MM/4PgT5JLJtQFGjnmUoUJy/OB/8LtbMz854SYFo0D7i21/DAOBXaBete3vY9uunwD+Z+BKa/rLNWDmk/RqUwsfAb3bwMV1U5P3gMsdoP9JlwzJkfw0hXweeD+jb8oCfbdA16rbW2Mfpw9AmrpaugEODoGRAmWveby7s7W3f880+vsBocZyukMJsmwAAAAGYktHRAD/AP8A/6C9p5MAAAAJcEhZcwAADdcAAA3XAUIom3gAAAAHdElNRQfkBgsOBy6ASTeXAAAC/0lEQVQ4y5WUT2gcdRTHP29m99B23Uiq6dZisgoWCxVJW0oL9dqLfyhCvGWY2YUBI95MsXgwFISirQcLhS5hfgk5CF3wJIhFI7aHNsL2VFZFik1jS1qkiZKdTTKZ3/MyDWuz0fQLc/m99/vMvDfv+4RMlUrlkKqeAAaBAWAP8DSgwJ/AXRG5rao/WWsvTU5O3qKLBMD3fSMiPluXFZEPoyj67PGAMzw83PeEMABHVT/oGpiamnoAmCcEWhH5tFsgF4bh9oWFhfeKxeJ5a+0JVT0oImWgBPQCKfAQuAvcBq67rltX1b+6ApMkKRcKhe9V9QLwbavV+qRer692Sx4ZGSnEcXw0TdP3gSrQswGYz+d/S5IkVtXTwOlCoZAGQXAfmAdagAvsAErtdnuXiDy6+023l7qNRsMODg5+CawBzwB9wFPA7mx8ns/KL2Tl3xCRz5eWlkabzebahrHxPG+v4zgnc7ncufHx8Z+Hhoa29fT0lNM03Q30ikiqqg+ttX/EcTy3WTvWgdVqtddaOw/kgXvADHBHROZVNRaRvKruUNU+EdkPfGWM+WJTYOaSt1T1LPDS/4zLWWPMaLVaPWytrYvIaBRFl/4F9H2/JCKvGmMu+76/X0QOqGoZKDmOs1NV28AicMsYc97zvFdc1/0hG6kEeNsY83UnsCwivwM3VfU7YEZE7lhr74tIK8tbnJiYWPY8b6/ruleAXR0ftQy8boyZXi85CIIICDYpc2ZgYODY3NzcHmvt1eyvP64lETkeRdE1yZyixWLx5U2c8q4x5mIQBE1g33/0d3FlZeXFR06ZttZesNZejuO4q1NE5CPgWVV9E3ij47wB1IDlJEn+ljAM86urq7+KyAtZTgqsO0VV247jnOnv7/9xbGzMViqVMVX9uANYj6LonfVtU6vVkjRNj6jqGeCXzGrPAQeA10TkuKpOz87ONrayhnIA2Qo7BZwKw3B7kiRloKSqO13Xja21C47jPNgysFO1Wi0GmtmzQap6DWgD24A1Vb3SGf8Hfstmz1CuXEIAAAAASUVORK5CYII=\" /> na barra de ferramentas."
   ],
   "metadata": {}
  },
  {
   "cell_type": "code",
   "execution_count": 23,
   "source": [
    "dataset = \"/tmp/data/texts-32.csv\" #@param {type:\"string\"}\n",
    "text_column_name = \"text\" #@param {type:\"string\", label:\"Coluna para aplicar o Chunker\", description:\"Esta coluna será utilizada para criar os chunks de textos. Deve ser uma coluna existente do dataset.\"}\n",
    "output_column_name = \"text_chunk\" #@param {type:\"string\", label:\"Coluna para salvar os chunks gerados\", description:\"Esta coluna será utilizada para salvar os chunks de textos. Deve ser uma coluna inexistente do dataset.\"}\n",
    "chunkenizer = \"word\" #@param [\"word\",\"sentence\"] {type:\"string\",multiple:false,label:\"Chunkenizer\",description:\"Tipo de chunkenizer para aplicar nos dados. Word separa textos em palavras, Sentence separa em sentenças.\"}\n",
    "chunk_size = 96 #@param {type:\"number\",label:\"Chunk Size\",description:\"Tamanho das janelas criadas pelo Chunker.\"}\n",
    "chunk_overlap = 64 #@param {type:\"number\",label:\"Chunk Overlap\",description:\"Tamanho da sobreposição das janelas criadas pelo Chunker.\"}\n",
    "replicate_data = \"sim\" #@param [\"sim\",\"não\"] {type:\"string\",multiple:false,label:\"Replicar Dados\",description:\"Optando por replicar os dados, para cada chunk criado a partir de um campo de texto de uma linha da tabela, todos os dados dessa linha serão replicados de acordo com a quantidade de chunks produzidos.\"}"
   ],
   "outputs": [],
   "metadata": {
    "tags": [
     "parameters"
    ]
   }
  },
  {
   "cell_type": "markdown",
   "source": [
    "## Leitura do conjunto de dados\n",
    "\n",
    "O exemplo abaixo faz a leitura de dados tabulares (ex: .csv).<br>\n",
    "Modifique o código de acordo com o tipo de dado que desejar ler."
   ],
   "metadata": {}
  },
  {
   "cell_type": "code",
   "execution_count": 24,
   "source": [
    "import pandas as pd\n",
    "\n",
    "df = pd.read_csv(dataset)\n",
    "df"
   ],
   "outputs": [
    {
     "output_type": "execute_result",
     "data": {
      "text/plain": [
       "   index                                               text  \\\n",
       "0      1  A bola é um objeto utilizado para lazer de uma...   \n",
       "1      2  Golfe é um esporte no qual os jogadores usam d...   \n",
       "2      3  Jogo por tacadas[1] (stroke play[2]), também c...   \n",
       "\n",
       "                                       expected_text  \n",
       "0  A ball is an object used for a person's leisur...  \n",
       "1  Golf is a sport in which players use different...  \n",
       "2  Stroke play[1] (stroke play[2]), also known as...  "
      ],
      "text/html": [
       "<div>\n",
       "<style scoped>\n",
       "    .dataframe tbody tr th:only-of-type {\n",
       "        vertical-align: middle;\n",
       "    }\n",
       "\n",
       "    .dataframe tbody tr th {\n",
       "        vertical-align: top;\n",
       "    }\n",
       "\n",
       "    .dataframe thead th {\n",
       "        text-align: right;\n",
       "    }\n",
       "</style>\n",
       "<table border=\"1\" class=\"dataframe\">\n",
       "  <thead>\n",
       "    <tr style=\"text-align: right;\">\n",
       "      <th></th>\n",
       "      <th>index</th>\n",
       "      <th>text</th>\n",
       "      <th>expected_text</th>\n",
       "    </tr>\n",
       "  </thead>\n",
       "  <tbody>\n",
       "    <tr>\n",
       "      <th>0</th>\n",
       "      <td>1</td>\n",
       "      <td>A bola é um objeto utilizado para lazer de uma...</td>\n",
       "      <td>A ball is an object used for a person's leisur...</td>\n",
       "    </tr>\n",
       "    <tr>\n",
       "      <th>1</th>\n",
       "      <td>2</td>\n",
       "      <td>Golfe é um esporte no qual os jogadores usam d...</td>\n",
       "      <td>Golf is a sport in which players use different...</td>\n",
       "    </tr>\n",
       "    <tr>\n",
       "      <th>2</th>\n",
       "      <td>3</td>\n",
       "      <td>Jogo por tacadas[1] (stroke play[2]), também c...</td>\n",
       "      <td>Stroke play[1] (stroke play[2]), also known as...</td>\n",
       "    </tr>\n",
       "  </tbody>\n",
       "</table>\n",
       "</div>"
      ]
     },
     "metadata": {},
     "execution_count": 24
    }
   ],
   "metadata": {}
  },
  {
   "cell_type": "markdown",
   "source": [
    "## Conteúdo da tarefa"
   ],
   "metadata": {}
  },
  {
   "cell_type": "code",
   "execution_count": 25,
   "source": [
    "# Assert parameters\n",
    "\n",
    "assert text_column_name in df.columns, f\"Coluna '{text_column_name}' deve ser uma coluna do dataset.\"\n",
    "assert output_column_name not in df.columns, f\"Coluna '{output_column_name}' não pode estar contida nas colunas do dataset.\"\n",
    "assert chunkenizer in ['word', 'sentence'], f\"Chunkenizer '{chunkenizer}' deve ser ou 'word' ou 'sentence'.\"\n",
    "assert chunk_size > chunk_overlap, f\"'chunk_size' ({chunk_size}) deve ser um número maior que 'chunk_overlap' ({chunk_overlap}).\"\n",
    "assert replicate_data in ['sim', 'não'], f\"Replicar Dados deve ser ou 'sim' ou 'não'.\""
   ],
   "outputs": [],
   "metadata": {}
  },
  {
   "cell_type": "code",
   "execution_count": 26,
   "source": [
    "# Model parameters\n",
    "model_parameters = {\n",
    "    'chunkenizer':chunkenizer,\n",
    "    'chunk_size':chunk_size,\n",
    "    'chunk_overlap':chunk_overlap,\n",
    "}\n",
    "\n",
    "# Inference parameters\n",
    "inference_parameters = {\n",
    "    'text_column_name':text_column_name,\n",
    "    'output_column_name':output_column_name,\n",
    "    'columns':list(df.columns),\n",
    "    'replicate_data': replicate_data\n",
    "}"
   ],
   "outputs": [],
   "metadata": {}
  },
  {
   "cell_type": "code",
   "execution_count": 27,
   "source": [
    "from chunker import Chunker\n",
    "\n",
    "# Initilizate Chunker\n",
    "chunker = Chunker(**model_parameters)"
   ],
   "outputs": [
    {
     "output_type": "stream",
     "name": "stderr",
     "text": [
      "[nltk_data] Downloading package punkt to /home/jovyan/nltk_data...\n",
      "[nltk_data]   Package punkt is already up-to-date!\n"
     ]
    }
   ],
   "metadata": {}
  },
  {
   "cell_type": "code",
   "execution_count": 28,
   "source": [
    "# Get chunks\n",
    "chunks = chunker(df[text_column_name])"
   ],
   "outputs": [],
   "metadata": {}
  },
  {
   "cell_type": "code",
   "execution_count": 29,
   "source": [
    "from utils import generate_dataframe\n",
    "\n",
    "# Build output dataset\n",
    "if inference_parameters['replicate_data'] == 'sim':\n",
    "    # Replicate data\n",
    "    new_df = generate_dataframe(df, chunks, inference_parameters)\n",
    "    \n",
    "else:\n",
    "    new_df = df.copy()\n",
    "    new_df[inference_parameters['output_column_name']] = chunks\n",
    "    \n",
    "new_df.head()"
   ],
   "outputs": [
    {
     "output_type": "execute_result",
     "data": {
      "text/plain": [
       "   index                                               text  \\\n",
       "0      1  A bola é um objeto utilizado para lazer de uma...   \n",
       "1      2  Golfe é um esporte no qual os jogadores usam d...   \n",
       "2      3  Jogo por tacadas[1] (stroke play[2]), também c...   \n",
       "\n",
       "                                       expected_text  \\\n",
       "0  A ball is an object used for a person's leisur...   \n",
       "1  Golf is a sport in which players use different...   \n",
       "2  Stroke play[1] (stroke play[2]), also known as...   \n",
       "\n",
       "                                          text_chunk  \n",
       "0  [A bola é um objeto utilizado para lazer de um...  \n",
       "1  [Golfe é um esporte no qual os jogadores usam ...  \n",
       "2  [Jogo por tacadas[1] (stroke play[2]), também ...  "
      ],
      "text/html": [
       "<div>\n",
       "<style scoped>\n",
       "    .dataframe tbody tr th:only-of-type {\n",
       "        vertical-align: middle;\n",
       "    }\n",
       "\n",
       "    .dataframe tbody tr th {\n",
       "        vertical-align: top;\n",
       "    }\n",
       "\n",
       "    .dataframe thead th {\n",
       "        text-align: right;\n",
       "    }\n",
       "</style>\n",
       "<table border=\"1\" class=\"dataframe\">\n",
       "  <thead>\n",
       "    <tr style=\"text-align: right;\">\n",
       "      <th></th>\n",
       "      <th>index</th>\n",
       "      <th>text</th>\n",
       "      <th>expected_text</th>\n",
       "      <th>text_chunk</th>\n",
       "    </tr>\n",
       "  </thead>\n",
       "  <tbody>\n",
       "    <tr>\n",
       "      <th>0</th>\n",
       "      <td>1</td>\n",
       "      <td>A bola é um objeto utilizado para lazer de uma...</td>\n",
       "      <td>A ball is an object used for a person's leisur...</td>\n",
       "      <td>[A bola é um objeto utilizado para lazer de um...</td>\n",
       "    </tr>\n",
       "    <tr>\n",
       "      <th>1</th>\n",
       "      <td>2</td>\n",
       "      <td>Golfe é um esporte no qual os jogadores usam d...</td>\n",
       "      <td>Golf is a sport in which players use different...</td>\n",
       "      <td>[Golfe é um esporte no qual os jogadores usam ...</td>\n",
       "    </tr>\n",
       "    <tr>\n",
       "      <th>2</th>\n",
       "      <td>3</td>\n",
       "      <td>Jogo por tacadas[1] (stroke play[2]), também c...</td>\n",
       "      <td>Stroke play[1] (stroke play[2]), also known as...</td>\n",
       "      <td>[Jogo por tacadas[1] (stroke play[2]), também ...</td>\n",
       "    </tr>\n",
       "  </tbody>\n",
       "</table>\n",
       "</div>"
      ]
     },
     "metadata": {},
     "execution_count": 29
    }
   ],
   "metadata": {}
  },
  {
   "cell_type": "code",
   "execution_count": 30,
   "source": [
    "# Save data\n",
    "new_df.to_csv(dataset, index=False)"
   ],
   "outputs": [],
   "metadata": {}
  },
  {
   "cell_type": "markdown",
   "source": [
    "## Salva resultados da tarefa\n",
    "\n",
    "A plataforma guarda o conteúdo de `/tmp/data/` para as tarefas subsequentes.<br>\n",
    "Use essa pasta para salvar modelos, metadados e outros resultados."
   ],
   "metadata": {}
  },
  {
   "cell_type": "code",
   "execution_count": 31,
   "source": [
    "from joblib import dump\n",
    "\n",
    "artifacts = {\n",
    "    \"model_parameters\": model_parameters,\n",
    "    \"inference_parameters\": inference_parameters\n",
    "}\n",
    "\n",
    "dump(artifacts, \"/tmp/data/chunker.joblib\")"
   ],
   "outputs": [
    {
     "output_type": "execute_result",
     "data": {
      "text/plain": [
       "['/tmp/data/chunker.joblib']"
      ]
     },
     "metadata": {},
     "execution_count": 31
    }
   ],
   "metadata": {}
  }
 ],
 "metadata": {
  "celltoolbar": "Tags",
  "experiment_id": "afaf5eeb-6e54-4163-a964-7e916627ac6c",
  "kernelspec": {
   "display_name": "Python 3",
   "language": "python",
   "name": "python3"
  },
  "language_info": {
   "codemirror_mode": {
    "name": "ipython",
    "version": 3
   },
   "file_extension": ".py",
   "mimetype": "text/x-python",
   "name": "python",
   "nbconvert_exporter": "python",
   "pygments_lexer": "ipython3",
   "version": "3.8.8"
  },
  "operator_id": "b742b6a9-f6dc-462e-8512-c01cdb668938",
  "task_id": "ebebc4e4-568d-4a42-98b2-afa395ed99b3"
 },
 "nbformat": 4,
 "nbformat_minor": 4
}