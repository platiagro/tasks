{
 "cells": [
  {
   "cell_type": "markdown",
   "metadata": {},
   "source": [
    "# Dense Document Retriever - Implantação\n",
    "\n",
    "Ranqueia textos de acordo com um outro texto de entrada através do ranqueador DPR do hugginfaces.<br>\n",
    "### **Em caso de dúvidas, consulte os [tutoriais da PlatIAgro](https://platiagro.github.io/tutorials/).**"
   ]
  },
  {
   "cell_type": "markdown",
   "metadata": {},
   "source": [
    "## Declaração de Classe para Predições em Tempo Real\n",
    "\n",
    "A tarefa de implantação cria um serviço REST para predições em tempo-real.<br>\n",
    "Para isso você deve criar uma classe `Model` que implementa o método `predict`."
   ]
  },
  {
   "cell_type": "code",
   "execution_count": 1,
   "metadata": {},
   "outputs": [
    {
     "name": "stdout",
     "output_type": "stream",
     "text": [
      "Overwriting Model.py\n"
     ]
    }
   ],
   "source": [
    "%%writefile Model.py\n",
    "import json\n",
    "import joblib\n",
    "import pandas as pd\n",
    "import numpy as np\n",
    "from aux_functions import build_result_dataframe\n",
    "\n",
    "\n",
    "\n",
    "class Model:\n",
    "    \n",
    "    def __init__(self):\n",
    "        \n",
    "        artifacts = joblib.load(\"/tmp/data/sparse_retriever.joblib\")\n",
    "        self.model = artifacts[\"model\"]\n",
    "        self.question = artifacts[\"question\"]\n",
    "        self.report_contexts = artifacts[\"report_contexts\"]\n",
    "        self.top = artifacts[\"top\"]\n",
    "        self.inner_batch_size = artifacts[\"inner_batch_size\"]\n",
    "        self.columns = artifacts[\"columns\"]\n",
    "        self.column_context = artifacts[\"column_context\"]\n",
    "        self.column_score = artifacts[\"column_score\"]\n",
    "        self.column_doc_id = artifacts[\"column_doc_id\"] \n",
    "\n",
    "    def predict(self, X, feature_names, meta=None):\n",
    "        \n",
    "        if not feature_names:\n",
    "            feature_names = self.columns\n",
    "            \n",
    "        df = pd.DataFrame(X,columns = feature_names)\n",
    "        report_contexts = list(df[self.column_context])\n",
    "        \n",
    "        sim_contexts_ids, scores = self.model(questions=self.question,\n",
    "                                     passages = report_contexts,\n",
    "                                     inner_batch_size = self.inner_batch_size,\n",
    "                                     top = self.top)\n",
    "        \n",
    "        \n",
    "        df_result = build_result_dataframe(df_input=df,\n",
    "                            sim_contexts_ids=sim_contexts_ids[0],\n",
    "                            scores=scores[0],\n",
    "                            column_doc_id = self.column_doc_id,\n",
    "                            column_score = self.column_score)\n",
    "        \n",
    "        \n",
    "        return df.to_numpy() "
   ]
  },
  {
   "cell_type": "code",
   "execution_count": 2,
   "metadata": {},
   "outputs": [],
   "source": [
    "import pandas as pd\n",
    "df = pd.read_csv(\"/tmp/data/fabc-step3-4.csv\")\n",
    "X = df.to_numpy()"
   ]
  },
  {
   "cell_type": "code",
   "execution_count": 3,
   "metadata": {},
   "outputs": [
    {
     "data": {
      "text/plain": [
       "array([[0,\n",
       "        'HB19PR_SO06_SO07_SO08_SP_SO09 - Eficacia do herbicida imazethapyr associado a um inibidor da PROTOX para manejo de plantas daninhas na pre-emergencia da soja tolerante a glyphosate.pdf',\n",
       "        '_raiz',\n",
       "        'Setor de Herbologia HERBICIDAS RESIDUAIS NA CULTURA DA SOJA Eficácia do herbicida imazethapyr associado a um inibidor da PROTOX para manejo de plantas daninhas na pré-emergência da soja tolerante a glyphosate Autor: Luís Henrique Penckowski Eliana Fernandes Borsato Evandro H. G. Maschietto AVISO LEGAL Este documento está protegido por direitos autorais e pode conter informações confidenciais e/ou privilegiadas. É expressamente proibido copiar, modificar, distribuir, remover, adicionar ou divulgar o seu conteúdo, ou parte deste, em qualquer meio, sem o consentimento expresso e por escrito da FUNDAÇÃO ABC. Qualquer utilização das informações/dados de forma diversa do contido no presente documento afeta a precisão dos resultados e não reflete as conclusões da FUNDAÇÃO ABC, não podendo, de forma alguma, ser a ela atribuída. Tal violação da integridade documental configura adulteração, sujeita às penalidades legais. Luís Henrique Penckowski Coordenador de Pesquisa Engº Agrº M.e, CREA PR 47856/D CREA SP - 5070387802 e-mail: luishenrique@fundacaoabc.org Eliana Fernandes Borsato Pesquisadora Engº Agrº M.a, CREA PR 88829/D CREA SP 5070572625 e-mail: eliana@fundacaoabc.org Evandro H. G. Maschietto Pesquisador Engº Agrº M.e, CREA PR 90164/D CREA SP 5070387640 e-mail: evandro.mascheitto@fundacaoabc.org HERBICIDAS RESIDUAIS NA CULTURA DA SOJA Eficácia do herbicida imazethapyr associado a um inibidor da PROTOX para manejo de plantas daninhas na pré-emergência da soja tolerante a glyphosate',\n",
       "        \"['Qual é o nome do pesquisador que desenvolveu a metodologia que o método de tratamento da soja tolerante a glyphosate que permitiu à FUNDAÇÃO ABC utilizar?', 'Qual a porcentagem de insetos resistentes ao agrotóxicos e ao glautina?', 'Que atividade é considerada responsável pelo uso do profilt em uma pesquisa em que se baseia a Prototec?', 'O que é protegido por direitos autorais?', 'Quais são os principais componentes do estudo genético?', 'Qual é a condição do herbicida associado a um inibidor da PROTOX para manejo de plantas daninhas na pré-emergência da soja tolerante a glyphosate Autor: Luís Henrique Penckowski Eliana Fernandes Borsato Evandro H. G. Maschietto AVISO LEGAL Este documento está protegido por direitos autorais e pode conter informações confidenciais e/ou privilegiadas. É expressamente proibido copiar, modificar, distribuir, remover', 'Que tipo de herbicida pode conter informações confidenciais e/ou privilegiadas?', 'Qual é o nome do pesquisador que possui uma patente no BA?', 'Quem é o pesquisador de herbicidas de imazethapyr associado a um inibidor da PROTOX?', 'Que produto é protegido por direitos autorais?']\",\n",
       "        'Setor de Herbologia HERBICIDAS RESIDUAIS NA CULTURA DA SOJA Eficácia do herbicida imazethapyr associado a um inibidor da PROTOX para manejo de plantas daninhas na pré-emergência da soja tolerante a glyphosate Autor: Luís Henrique Penckowski Eliana Fernandes Borsato Evandro H. G. Maschietto AVISO LEGAL Este documento está protegido por direitos autorais e pode conter informações confidenciais e/ou privilegiadas. É expressamente proibido copiar, modificar, distribuir, remover, adicionar ou divulgar o seu conteúdo, ou parte deste, em qualquer meio, sem o consentimento expresso e por escrito da FUNDAÇÃO ABC. Qualquer utilização das informações/dados de forma diversa do contido no presente documento afeta a precisão dos resultados e não reflete as conclusões da FUNDAÇÃO ABC, não podendo, de forma alguma, ser a ela atribuída. Tal violação da integridade documental configura adulteração, sujeita às penalidades legais. Luís Henrique Penckowski Coordenador de Pesquisa Engº Agrº M.e, CREA PR 47856/D CREA SP - 5070387802 e-mail: luishenrique@fundacaoabc.org Eliana Fernandes Borsato Pesquisadora Engº Agrº M.a, CREA PR 88829/D CREA SP 5070572625 e-mail: eliana@fundacaoabc.org Evandro H. G. Maschietto Pesquisador Engº Agrº M.e, CREA PR 90164/D CREA SP 5070387640 e-mail: evandro.mascheitto@fundacaoabc.org HERBICIDAS RESIDUAIS NA CULTURA DA SOJA Eficácia do herbicida imazethapyr associado a um inibidor da PROTOX para manejo de plantas daninhas na pré-emergência da soja tolerante a glyphosate Qual é o nome do pesquisador que desenvolveu a metodologia que o método de tratamento da soja tolerante a glyphosate que permitiu à FUNDAÇÃO ABC utilizar? Qual a porcentagem de insetos resistentes ao agrotóxicos e ao glautina? Que atividade é considerada responsável pelo uso do profilt em uma pesquisa em que se baseia a Prototec? O que é protegido por direitos autorais? Quais são os principais componentes do estudo genético? Qual é a condição do herbicida associado a um inibidor da PROTOX para manejo de plantas daninhas na pré-emergência da soja tolerante a glyphosate Autor: Luís Henrique Penckowski Eliana Fernandes Borsato Evandro H. G. Maschietto AVISO LEGAL Este documento está protegido por direitos autorais e pode conter informações confidenciais e/ou privilegiadas. É expressamente proibido copiar, modificar, distribuir, remover Que tipo de herbicida pode conter informações confidenciais e/ou privilegiadas? Qual é o nome do pesquisador que possui uma patente no BA? Quem é o pesquisador de herbicidas de imazethapyr associado a um inibidor da PROTOX? Que produto é protegido por direitos autorais?',\n",
       "        'Herbology Sector RESIDUAL HERBICIDES IN THE CULTURE OF THE SOY EFFECTIVENESS of the herbicide imazethapyr associated with a PROTOX inhibitor for weed management in the pre-emergence of glyphosate tolerant soybean Author: Luís Henrique Penckowski Eliana Fernandes Borsato Evandro H. G. Maschietto AVISO LEGAL This document is protected by copyright and may contain confidential and/or privileged information.It is expressly prohibited to copy, modify, distribute, remove, add or disclose its contents, or parts thereof, in any medium, without the express and written consent of the ABC FOUNDATION.Any use of the information/data in a manner other than that contained in this document affects the accuracy of the results and does not reflect the conclusions of the ABC FOUNDATION and cannot in any way be attributed to it.Such a violation of documentary integrity constitutes adultery, subject to legal penalties.Luis Henrique Penckowski Research Coordinator Engo Agro M.e, CREA PR 47856/D CREA SP - 5070387802 e-mail: luishenrique@fundacaoabc.org Eliana Fernandes Borsato Researcher Engo Agro M.a, CREA PR 88829/D CREA SP 5070572625 e-mail: eliana@fundacaoabc.org Evandro H. G. Maschietto Researcher Engo Agro M.e, CREA PR 90164/D CREA SP 5070387640 e-mail: evandro.mascheitto@fundacaoabc.org RESIDUAL HERBICIDAS IN SOJA CULTURE EFFECTIVENESS OF THE HERBICIDE IMMATHETApyr Associated with a PROTOX Inhibitor for Weed Plant Management in the Preemergence of Glyphosate Tolerance What is the name of the researcher who developed the methodology that the treatment method of soybean tolerance to GLYPHOSATE allowed to FUNDOWhat is the percentage of insects resistant to pesticides and glautine?What activity is considered responsible for the use of the profile in a research based on Prototec?What is copyrighted?What are the main components of the genetic study?What is the condition of the herbicide associated with a PROTOX inhibitor for weed management in the pre-emergence of glyphosate tolerant soybean Author: Luís Henrique Penckowski Eliana Fernandes Borsato Evandro H. G. Maschietto NOTICE LEGAL This document is protected by copyright and may contain confidential and/or privileged information.It is expressly prohibited to copy, modify, distribute, remove What type of herbicide may contain confidential and/or privileged information?What is the name of the researcher who has a patent in BA?Who is the herbicide researcher of imazethapyr associated with a PROTOX inhibitor?Which product is protected by copyright?'],\n",
       "       [1,\n",
       "        'HB19PR_SO06_SO07_SO08_SP_SO09 - Eficacia do herbicida imazethapyr associado a um inibidor da PROTOX para manejo de plantas daninhas na pre-emergencia da soja tolerante a glyphosate.pdf',\n",
       "        'Capítulo 1', '1. IDENTIFICAÇÃO DO PROJETO',\n",
       "        \"['O que é o PROJETO?', 'Quais são as duas perguntas que os PROJETOS fizeram?', 'Qual foi a pergunta que levantou a MEGA?', 'Em que parte da PEU das perguntas de quem era o PROJETO?', 'O que seria uma idéia inequívoco?', 'Qual é a IDENTIFICAÇÃO DO PROJETO?', 'Qual é o nome do projeto que está sendo desenvolvido?', 'O que o projeto de leilador perguntou ao consumidor?', 'Que tipo de procedimento é válido para este PROJETO?', 'Em que ano foi aprovado o PROJETO']\",\n",
       "        '1. IDENTIFICAÇÃO DO PROJETO O que é o PROJETO? Quais são as duas perguntas que os PROJETOS fizeram? Qual foi a pergunta que levantou a MEGA? Em que parte da PEU das perguntas de quem era o PROJETO? O que seria uma idéia inequívoco? Qual é a IDENTIFICAÇÃO DO PROJETO? Qual é o nome do projeto que está sendo desenvolvido? O que o projeto de leilador perguntou ao consumidor? Que tipo de procedimento é válido para este PROJETO? Em que ano foi aprovado o PROJETO',\n",
       "        '1.PROJECT IDENTIFICATION What is the PROJECT?What are the two questions the PROJECTS have asked?What was the question that raised MEGA?In what part of the PEU of the questions whose PROJECT was it?What would be a clear idea?What is the IDENTIFICATION OF THE PROJECT?What is the name of the project being developed?What did the auctioneer project ask the consumer?What type of procedure is valid for this PROJECT?In which year the PROJECT was approved'],\n",
       "       [2,\n",
       "        'HB19PR_SO06_SO07_SO08_SP_SO09 - Eficacia do herbicida imazethapyr associado a um inibidor da PROTOX para manejo de plantas daninhas na pre-emergencia da soja tolerante a glyphosate.pdf',\n",
       "        'Seção 1.1',\n",
       "        '1.1 Código do projeto: HB19PR_SO06, HB19PR_SO07, HB19PR_SO08 e HB19SP_SO09',\n",
       "        \"['O que o código do projeto pede?', 'Qual é o código do projeto do HB19PR_SO06?', 'Qual é o código do projeto?', 'Qual código é o código do projeto?', 'O que é um código do projeto?', 'O que seria um código do HB19PR_SO06?', 'Quais são os nomes do código do HB19PR_SO06?', 'O que foi o código de especificação do HB19PR_SO06?', 'Qual é o código do projeto?', 'Quantos códigos do projeto são: 1.1 Código do projeto: HB19PR_SO06, HB19PR_SO07, HB19PR_SO08 e HB19SP_SO09']\",\n",
       "        '1.1 Código do projeto: HB19PR_SO06, HB19PR_SO07, HB19PR_SO08 e HB19SP_SO09 O que o código do projeto pede? Qual é o código do projeto do HB19PR_SO06? Qual é o código do projeto? Qual código é o código do projeto? O que é um código do projeto? O que seria um código do HB19PR_SO06? Quais são os nomes do código do HB19PR_SO06? O que foi o código de especificação do HB19PR_SO06? Qual é o código do projeto? Quantos códigos do projeto são: 1.1 Código do projeto: HB19PR_SO06, HB19PR_SO07, HB19PR_SO08 e HB19SP_SO09',\n",
       "        \"1.1 Project code: HB19PR_SO06, HB19PR_SO07, HB19PR_SO08 and HB19SP_SO09 What does the project code require?What is the HB19PR_SO06 project code?What's the project code?What code is the project code?What is a project code?What would a HB19PR_SO06 code be?What are the names of the HB19PR_SO06 code?What was the HB19PR_SO06 specification code?What's the project code?How many project codes are: 1.1 Project code: HB19PR_SO06, HB19PR_SO07, HB19PR_SO08 and HB19SP_SO09\"],\n",
       "       [3,\n",
       "        'HB19PR_SO06_SO07_SO08_SP_SO09 - Eficacia do herbicida imazethapyr associado a um inibidor da PROTOX para manejo de plantas daninhas na pre-emergencia da soja tolerante a glyphosate.pdf',\n",
       "        'Seção 1.2', '1.2 Projeto original: Fabc',\n",
       "        \"['O que é uma pergunta que surgiu da Fabc', 'Em que projeto original?', 'Qual foi o projeto original do Fabc?', 'Em que época a Fabc começou a construir um projeto?', 'Qual é o nome do projeto original para Fabc?', 'Qual foi a pergunta do quê?', 'Em que universidade: Fabc', 'Que projeto original: Fabc', 'A que nome o Projeto original: Fabc', 'O que foi feito na Fabc?']\",\n",
       "        '1.2 Projeto original: Fabc O que é uma pergunta que surgiu da Fabc Em que projeto original? Qual foi o projeto original do Fabc? Em que época a Fabc começou a construir um projeto? Qual é o nome do projeto original para Fabc? Qual foi a pergunta do quê? Em que universidade: Fabc Que projeto original: Fabc A que nome o Projeto original: Fabc O que foi feito na Fabc?',\n",
       "        \"1.2 Original Project: Fabc What is a question that came from Fabc In what original project?What was Fabc's original project?What time did Fabc start building a project?What is the name of the original project for Fabc?What was the question of what?In which university: Fabc What original project: Fabc What is the name of the original Project: Fabc What was done at Fabc?\"],\n",
       "       [4,\n",
       "        'HB19PR_SO06_SO07_SO08_SP_SO09 - Eficacia do herbicida imazethapyr associado a um inibidor da PROTOX para manejo de plantas daninhas na pre-emergencia da soja tolerante a glyphosate.pdf',\n",
       "        'Seção 1.3',\n",
       "        '1.3 Palavras-Chave: plante/aplique, sulfentrazone, flumioxazin, fitotoxicidade',\n",
       "        \"['Quais são as palavras-Chave: plante/aplique, sulfentrazone, flumioxazin, fitotoxicidade', 'Qual é a denominação da substância?', 'Qual é uma palavra-chave para o sulfentrazone?', 'Qual foi a palavra chave da chave?', 'Em que medida o sulfentrazone é aplicado?', 'Qual é a palavra-chave de sulfentrazone?', 'Qual é uma das palavras-Chave do sulfentrazone?', 'Qual é uma das palavras-chave para a formulação de sulfentrazone?', 'O que foi utilizado no tratamento de flumioxazin?', 'Qual é o nome da substância que elege?']\",\n",
       "        '1.3 Palavras-Chave: plante/aplique, sulfentrazone, flumioxazin, fitotoxicidade Quais são as palavras-Chave: plante/aplique, sulfentrazone, flumioxazin, fitotoxicidade Qual é a denominação da substância? Qual é uma palavra-chave para o sulfentrazone? Qual foi a palavra chave da chave? Em que medida o sulfentrazone é aplicado? Qual é a palavra-chave de sulfentrazone? Qual é uma das palavras-Chave do sulfentrazone? Qual é uma das palavras-chave para a formulação de sulfentrazone? O que foi utilizado no tratamento de flumioxazin? Qual é o nome da substância que elege?',\n",
       "        \"1.3 Keywords: plant/apple, sulfentrazone, flumioxazin, phytotoxicity What are the keywords: plant/apple, sulfentrazone, flumioxazin, phytotoxicity What is the name of the substance?What's a key word for sulfentrazone?What was the key word for the key?To what extent is sulfentrazone applied?What's the key word for sulfentrazone?What is one of the key words of sulfentrazone?What is one of the key words for sulfentrazone formulation?What has been used for flumioxazin treatment?What is the name of the substance you choose?\"],\n",
       "       [5,\n",
       "        'HB19PR_SO06_SO07_SO08_SP_SO09 - Eficacia do herbicida imazethapyr associado a um inibidor da PROTOX para manejo de plantas daninhas na pre-emergencia da soja tolerante a glyphosate.pdf',\n",
       "        'Seção 1.4',\n",
       "        '1.4 Responsável Técnico: Engº Agrº M.e Luís Henrique Penckowski',\n",
       "        \"['Qual é o nome do profissional responsável por elaborar os projetos de Engo Agro M.e Luís Henrique Penckowski', 'Em que ano o engo Agro M.e Luís Henrique Penckowski são responsáveis pelo engo Agro M.e Luís Henrique Penckowski', 'Quem é o responsável técnico pela Engo Agro M.e Luís Henrique Penckowski', 'Qual é o nome do profissional responsável pelo Engo Agro M.e Luís Henrique Penckowski', 'Qual é o nome do responsável técnico?', 'Qual é o nome do responsável Técnico: Engo Agro M.e Luís Henrique Penckowski', 'Que tipo de respondida foi o nome do técnico de Engo Agro M.e Luís Henrique Penckowski', 'Quantos técnicos são responsáveis pela direção de Engo Agro M.e Luís Henrique Penckowski', 'Qual é o nome da pessoa responsável por elaborar o Agro M.e Luís Henrique Penckowski', 'Em que ano o Engo Agro M.e Luís Henrique Penckowski foram demitidos do Engo M.e']\",\n",
       "        '1.4 Responsável Técnico: Engº Agrº M.e Luís Henrique Penckowski Qual é o nome do profissional responsável por elaborar os projetos de Engo Agro M.e Luís Henrique Penckowski Em que ano o engo Agro M.e Luís Henrique Penckowski são responsáveis pelo engo Agro M.e Luís Henrique Penckowski Quem é o responsável técnico pela Engo Agro M.e Luís Henrique Penckowski Qual é o nome do profissional responsável pelo Engo Agro M.e Luís Henrique Penckowski Qual é o nome do responsável técnico? Qual é o nome do responsável Técnico: Engo Agro M.e Luís Henrique Penckowski Que tipo de respondida foi o nome do técnico de Engo Agro M.e Luís Henrique Penckowski Quantos técnicos são responsáveis pela direção de Engo Agro M.e Luís Henrique Penckowski Qual é o nome da pessoa responsável por elaborar o Agro M.e Luís Henrique Penckowski Em que ano o Engo Agro M.e Luís Henrique Penckowski foram demitidos do Engo M.e',\n",
       "        '1.4 Technical Manager: Engo Agro M.e Luís Henrique Penckowski What is the name of the professional responsible for developing the projects of Engo Agro M.e Luís Henrique Penckowski In which year the engo Agro M.e Luís Henrique Penckowski are responsible for the engo Agro M.e Luís Henrique Penckowski Who is the technical manager for Engo Agro M.e Luís Henrique Penckowski What is the name of the professional responsible for the Engo Agro M.e Luís Henrique Penckowski What is the name of the technical manager?What is the name of the head Technician: Engo Agro M.e Luis Henrique Penckowski What type of answer was the name of the technician of Engo Agro M.e Luis Henrique Penckowski How many technicians are responsible for the direction of Engo Agro M.e Luis Henrique Penckowski What is the name of the person responsible for the elaboration of the Agro M.e Luis Henrique Penckowski In which year the Engo Agro M.e Luis Henrique Penckowski were fired from the Engo M.e.'],\n",
       "       [6,\n",
       "        'HB19PR_SO06_SO07_SO08_SP_SO09 - Eficacia do herbicida imazethapyr associado a um inibidor da PROTOX para manejo de plantas daninhas na pre-emergencia da soja tolerante a glyphosate.pdf',\n",
       "        'Capítulo 2',\n",
       "        '2. INTRODUÇÃO No sistema de cultivo de soja a aplicação de herbicidas com atividade residual no solo pode ser benéfica (Procópio et al., 2006), devido a inibição do primeiro fluxo de emergência das plantas daninhas, a redução do banco de sementes e a prevenção do aparecimento de biótipos resistentes (Constantin et al., 2005). Esse manejo pode flexibilizar a aplicação de herbicidas como glyphosate na pós-emergência da soja, sem que ocorram perdas na produtividade devido a matocompetição. Devido ao aumento na ocorrência de biótipos de plantas daninhas resistentes a herbicidas como glyphosate, inibidores da ALS e/ou inibidores da ACCase, a utilização de mecanismos de ação alternativos, bem como a associação entre diferentes mecanismos de ação, é uma das alternativas utilizadas para atrasar ou manejar essas plantas daninhas resistentes. De acordo com Collares et al., (2008), herbicidas inibidores da ALS (como chlorimuron, cloransulam e imazethapyr) podem ser aplicados associados a inibidores da PROTOX, pois não ocorre interação entre esses herbicidas em relação à peroxidação da membrana celular em folhas de soja. Portanto, os sintomas de fitotoxicidade resultantes da aplicação de um PROTOX não são potencializados quando esse herbicida é associado a um inibidor da ALS.',\n",
       "        \"['Qual é a principal característica de herbicidas?', 'O que pode ser uma alternativa ao manejo da soja?', 'Que tipo de herbicidas podem ser aplicados em sistema de cultivo de soja?', 'Que tipo de herbicidas podem ser aplicados ao solo após a emergência da soja?', 'Qual é a principal razão para a utilização de herbicidas que inibim o primeiro fluxo de emergência das plantas daninhas?', 'Qual é uma das alternativas utilizadas para atrasar ou manejar essas plantas daninhas resistentes?', 'Qual é uma das alternativas utilizadas para atrasar ou manejar essas plantas daninhas resistentes?', 'Qual é a principal razão para a inibição do primeiro fluxo de emergência das plantas daninhas?', 'Qual é a principal razão para o manejo de herbicidas que podem ser considerados benéficos?', 'O que pode afetar a produtividade de plantas daninhas resistentes ao herbicidas?']\",\n",
       "        '2. INTRODUÇÃO No sistema de cultivo de soja a aplicação de herbicidas com atividade residual no solo pode ser benéfica (Procópio et al., 2006), devido a inibição do primeiro fluxo de emergência das plantas daninhas, a redução do banco de sementes e a prevenção do aparecimento de biótipos resistentes (Constantin et al., 2005). Esse manejo pode flexibilizar a aplicação de herbicidas como glyphosate na pós-emergência da soja, sem que ocorram perdas na produtividade devido a matocompetição. Devido ao aumento na ocorrência de biótipos de plantas daninhas resistentes a herbicidas como glyphosate, inibidores da ALS e/ou inibidores da ACCase, a utilização de mecanismos de ação alternativos, bem como a associação entre diferentes mecanismos de ação, é uma das alternativas utilizadas para atrasar ou manejar essas plantas daninhas resistentes. De acordo com Collares et al., (2008), herbicidas inibidores da ALS (como chlorimuron, cloransulam e imazethapyr) podem ser aplicados associados a inibidores da PROTOX, pois não ocorre interação entre esses herbicidas em relação à peroxidação da membrana celular em folhas de soja. Portanto, os sintomas de fitotoxicidade resultantes da aplicação de um PROTOX não são potencializados quando esse herbicida é associado a um inibidor da ALS. Qual é a principal característica de herbicidas? O que pode ser uma alternativa ao manejo da soja? Que tipo de herbicidas podem ser aplicados em sistema de cultivo de soja? Que tipo de herbicidas podem ser aplicados ao solo após a emergência da soja? Qual é a principal razão para a utilização de herbicidas que inibim o primeiro fluxo de emergência das plantas daninhas? Qual é uma das alternativas utilizadas para atrasar ou manejar essas plantas daninhas resistentes? Qual é uma das alternativas utilizadas para atrasar ou manejar essas plantas daninhas resistentes? Qual é a principal razão para a inibição do primeiro fluxo de emergência das plantas daninhas? Qual é a principal razão para o manejo de herbicidas que podem ser considerados benéficos? O que pode afetar a produtividade de plantas daninhas resistentes ao herbicidas?',\n",
       "        'Two.INTRODUCTION In the soybean farming system, the application of herbicides with residual activity in the soil may be beneficial (Procopio et al.2006), due to the inhibition of the first emergency flow of weeds, the reduction of the seed bank and the prevention of the appearance of resistant biotypes (Constantin et al.2005).This management can facilitate the application of herbicides such as glyphosate in the post-emergency soybean, without losses in productivity due to matocompetition.Due to the increase in the occurrence of herbicide-resistant weed biotypes such as glyphosate, ALS inhibitors and/or ACCase inhibitors, the use of alternative mechanisms of action, as well as the association between different mechanisms of action, is one of the alternatives used to delay or manage these resistant weeds.According to Collares et al., (2008), ALS-inhibiting herbicides (such as chlorimuron, chloransulam and imazethapyr) can be applied in combination with PROTOX-inhibitors, as there is no interaction between these herbicides in relation to the peroxidation of the cell membrane in soybean leaves.Therefore, symptoms of phytotoxicity resulting from the application of a PROTOX are not potentiated when this herbicide is associated with an ALS inhibitor.What is the main characteristic of herbicides?What can be an alternative to soybean management?What kind of herbicides can be applied in soybean growing system?What kind of herbicides can be applied to the soil after the emergence of soybeans?What is the main reason for using herbicides that inhibit the first emergency flow of weeds?What is one of the alternatives used to delay or manage these resistant weeds?What is one of the alternatives used to delay or manage these resistant weeds?What is the main reason for inhibiting the first emergency flow of weeds?What is the main reason for the management of herbicides that can be considered beneficial?What can affect the productivity of herbicide-resistant weeds?'],\n",
       "       [7,\n",
       "        'HB19PR_SO06_SO07_SO08_SP_SO09 - Eficacia do herbicida imazethapyr associado a um inibidor da PROTOX para manejo de plantas daninhas na pre-emergencia da soja tolerante a glyphosate.pdf',\n",
       "        'Capítulo 3',\n",
       "        '3. OBJETIVOS Avaliar a eficácia das misturas formuladas de imazethapyr+sulfentrazone HDB 194 e Prompt, bem como de imazethapyr (Vezir ou Zaphir) associado a sulfentrazone (Alia, Kicker ou Stone), dos herbicidas Zethamaxx (imazethapyr+flumioxazin), Optill (imazethapyr+saflufenacil), Stone (sulfentrazone+diuron), Spider (diclosulan), e das associações de Imazetapir CCAB com Clorimuron CCAB e de Vezir com Osbar (flumioxazin), aplicados em pré-emergência para manejo de Urochloa plantaginea (papuã), Digitaria ciliaris (milhã), Commelina benghalensis (trapoeraba) e Ipomoea spp. (corda-de-viola) em um sistema com soja RR (tolerante a glyphosate).',\n",
       "        \"['Qual foi a eficácia das misturas formuladas de imazethapyr+sulfentrazone HDB 194 e Prompt?', 'Qual foi o nome da mistura que é utilizada para o manejo de Uvanapir na agricultura de um sistema com soja RR?', 'Qual é o nome do imazethapyr +sulfentrazone?', 'O que a água pode ser utilizada para o manejo de Ipomoea spp.?', 'Qual é o nome do herbicida avaliado?', 'O que é uma mistura de SGT?', 'Qual é o nome da planta plantaginea?', 'Qual é o nome do herbicida utilizado para manejo de Urochloa plantaginea?', 'O que é o mais importante para o manejo de Ipomoea spp.?', 'Qual é o nome do híbrido de imazethapyr+sulfentrazone?']\",\n",
       "        '3. OBJETIVOS Avaliar a eficácia das misturas formuladas de imazethapyr+sulfentrazone HDB 194 e Prompt, bem como de imazethapyr (Vezir ou Zaphir) associado a sulfentrazone (Alia, Kicker ou Stone), dos herbicidas Zethamaxx (imazethapyr+flumioxazin), Optill (imazethapyr+saflufenacil), Stone (sulfentrazone+diuron), Spider (diclosulan), e das associações de Imazetapir CCAB com Clorimuron CCAB e de Vezir com Osbar (flumioxazin), aplicados em pré-emergência para manejo de Urochloa plantaginea (papuã), Digitaria ciliaris (milhã), Commelina benghalensis (trapoeraba) e Ipomoea spp. (corda-de-viola) em um sistema com soja RR (tolerante a glyphosate). Qual foi a eficácia das misturas formuladas de imazethapyr+sulfentrazone HDB 194 e Prompt? Qual foi o nome da mistura que é utilizada para o manejo de Uvanapir na agricultura de um sistema com soja RR? Qual é o nome do imazethapyr +sulfentrazone? O que a água pode ser utilizada para o manejo de Ipomoea spp.? Qual é o nome do herbicida avaliado? O que é uma mistura de SGT? Qual é o nome da planta plantaginea? Qual é o nome do herbicida utilizado para manejo de Urochloa plantaginea? O que é o mais importante para o manejo de Ipomoea spp.? Qual é o nome do híbrido de imazethapyr+sulfentrazone?',\n",
       "        \"Three.OBJECTIVES To evaluate the efficacy of the formulated mixtures of imazethapyr+sulfentrazone HDB 194 and Prompt, as well as of imazethapyr (Vezir or Zaphir) associated with sulfentrazone (Alia, Kicker or Stone), the herbicides Zethamaxx (imazethapyr+flumioxazine), Optill (imazethapyr+saflufenacil), Stone (sulfentrazone+diuron), Spider (diclosulan), and the associations of Imazetapir CCAB with Chlorimuron CCAB and Vezir with Osbar (flumioxazine), applied in pre-emergency for the management of Urochloa plantagena (papuan), Digitaria ciliaris (milhã), Commelina benghalensis (trapoerabi) and Ipomoea spp. (Viola rope) in a system with soy RR (glyphosate-tolerant).What was the efficacy of the formulated mixtures of imazethapyr+sulfentrazone HDB 194 and Prompt?What was the name of the mixture that is used for the management of Uvanapir in the agriculture of a system with soy RR?What is the name of imazethapyr +sulfentrazone?What can water be used for the management of Ipomoea spp.?What is the name of the herbicide evaluated?What is a mixture of SGT?What's the name of the plantagene plant?What is the name of the herbicide used to manage Urochloa plantagena?What is most important for the management of Ipomoea spp.?What is the name of the hybrid of imazethapyr+sulfentrazone?\"],\n",
       "       [8,\n",
       "        'HB19PR_SO06_SO07_SO08_SP_SO09 - Eficacia do herbicida imazethapyr associado a um inibidor da PROTOX para manejo de plantas daninhas na pre-emergencia da soja tolerante a glyphosate.pdf',\n",
       "        'Capítulo 4', '4. MATERIAL E MÉTODOS',\n",
       "        \"['Qual é o nome do MÉTODO?', 'Qual é o nome do material?', 'Em que pais os MÉTODOS', 'Qual é o nome do que a VARIAL E MÉTODOS podem ter?', 'Qual é a questão do MATERIAL E MÉTODOS', 'Qual é o nome da pergunta que me fez a pergunta sobre o que?', 'Qual é o nome do item 4. MATERIAL E MÉTODOS', 'Que modelo de base para MÉTODOS é uma das dimensões do MÉTODOS', 'Qual é o nome do modelo de MATERIAL E MÉTODOS?', 'Qual é a solução para a MATERIAL E MÉTODOS']\",\n",
       "        '4. MATERIAL E MÉTODOS Qual é o nome do MÉTODO? Qual é o nome do material? Em que pais os MÉTODOS Qual é o nome do que a VARIAL E MÉTODOS podem ter? Qual é a questão do MATERIAL E MÉTODOS Qual é o nome da pergunta que me fez a pergunta sobre o que? Qual é o nome do item 4. MATERIAL E MÉTODOS Que modelo de base para MÉTODOS é uma das dimensões do MÉTODOS Qual é o nome do modelo de MATERIAL E MÉTODOS? Qual é a solução para a MATERIAL E MÉTODOS',\n",
       "        \"4.MATERIAL AND METHODS What is the name of the METHOD?What's the name of the material?In which parents are the METHODS What is the name of what VARIAL AND METHODS can have?What is the question of MATERIAL AND METHODS What is the name of the question that asked me about what?What is the name of item 4.MATERIAL AND METHODS Which basic model for METHODS is one of the dimensions of the METHODS What is the name of the MATERIAL AND METHODS model?What is the solution for MATERIAL AND METHODS\"],\n",
       "       [9,\n",
       "        'HB19PR_SO06_SO07_SO08_SP_SO09 - Eficacia do herbicida imazethapyr associado a um inibidor da PROTOX para manejo de plantas daninhas na pre-emergencia da soja tolerante a glyphosate.pdf',\n",
       "        'Seção 4.1',\n",
       "        '4.1 Localização: o projeto de pesquisa foi instalado na safra de verão 2019/2020 e em quatro Campos Demonstrativos e Experimentais da Fundação ABC, nos municípios de Ponta Grossa, PR (gleba 9 A), Castro, PR (gleba 8 A), Arapoti, PR (gleba 4 E) e Itaberá, SP (gleba 14 D). Para o projeto conduzido em Ponta Grossa, PR, na gleba 9 A, o solo da área experimental é classificado como LATOSSOLO VERMELHO Distrófico típico, textura argilosa, fase campo subtropical, relevo suave ondulado 1 (LVd1); as coordenadas da área experimental são de latitude sul e de longitude oeste, com 890 metros de altitude. Para o projeto conduzido em Castro, PR, na gleba 8 A, as coordenadas da área experimental são 24° 47\\' 21,46\" de latitude sul e 49° 54\\' 11,08\" de longitude oeste, com 1010 metros de altitude. Para o projeto conduzido em Arapoti, PR, na gleba 4 E, o solo da área experimental é classificado como LATOSSOLO VERMELHO Distrófico típico, álico; as coordenadas da área experimental são de latitude sul e de longitude oeste, com 870 metros de altitude. Para o projeto conduzido em Itaberá, SP, na gleba 14 D, o solo da área experimental é classificado como LATOSSOLO vermelho escuro; as coordenadas da área experimental são de latitude sul e de longitude oeste, com 730 metros de altitude. As análises físicas e químicas dos solos onde foram instalados os projetos podem ser observadas na Tabela 1.',\n",
       "        \"['Qual foi o nome do projeto de pesquisa conduzido em Ponta Grossa?', 'Quantos metros de altitude o solo da área experimental é classificado como LATOSSOLO VERMELHO?', 'Qual é a classificação dos solos da área experimental?', 'O que o solo da área experimental é classificado como LATOSSOLO VERMELHO?', 'Qual foi a área experimental do projeto de pesquisa?', 'Quantos metros de altitude o solo da área experimental é classificado como LATOSSOLO VERMELHO?', 'Qual é o nome do solo da área experimental do projeto de pesquisa?', 'Qual é a classificação do solo da área experimental de pesquisa para a safra de verão 2019/2020?', 'Quantos metros de altitude o solo da área experimental é classificado como LATOSSOLO VERMELHO?', 'Qual é a classificação do solo da área experimental?']\",\n",
       "        '4.1 Localização: o projeto de pesquisa foi instalado na safra de verão 2019/2020 e em quatro Campos Demonstrativos e Experimentais da Fundação ABC, nos municípios de Ponta Grossa, PR (gleba 9 A), Castro, PR (gleba 8 A), Arapoti, PR (gleba 4 E) e Itaberá, SP (gleba 14 D). Para o projeto conduzido em Ponta Grossa, PR, na gleba 9 A, o solo da área experimental é classificado como LATOSSOLO VERMELHO Distrófico típico, textura argilosa, fase campo subtropical, relevo suave ondulado 1 (LVd1); as coordenadas da área experimental são de latitude sul e de longitude oeste, com 890 metros de altitude. Para o projeto conduzido em Castro, PR, na gleba 8 A, as coordenadas da área experimental são 24° 47\\' 21,46\" de latitude sul e 49° 54\\' 11,08\" de longitude oeste, com 1010 metros de altitude. Para o projeto conduzido em Arapoti, PR, na gleba 4 E, o solo da área experimental é classificado como LATOSSOLO VERMELHO Distrófico típico, álico; as coordenadas da área experimental são de latitude sul e de longitude oeste, com 870 metros de altitude. Para o projeto conduzido em Itaberá, SP, na gleba 14 D, o solo da área experimental é classificado como LATOSSOLO vermelho escuro; as coordenadas da área experimental são de latitude sul e de longitude oeste, com 730 metros de altitude. As análises físicas e químicas dos solos onde foram instalados os projetos podem ser observadas na Tabela 1. Qual foi o nome do projeto de pesquisa conduzido em Ponta Grossa? Quantos metros de altitude o solo da área experimental é classificado como LATOSSOLO VERMELHO? Qual é a classificação dos solos da área experimental? O que o solo da área experimental é classificado como LATOSSOLO VERMELHO? Qual foi a área experimental do projeto de pesquisa? Quantos metros de altitude o solo da área experimental é classificado como LATOSSOLO VERMELHO? Qual é o nome do solo da área experimental do projeto de pesquisa? Qual é a classificação do solo da área experimental de pesquisa para a safra de verão 2019/2020? Quantos metros de altitude o solo da área experimental é classificado como LATOSSOLO VERMELHO? Qual é a classificação do solo da área experimental?',\n",
       "        \"4.1 Location: the research project was installed in the summer season 2019/2020 and in four fields Demonstrative and Experimental of the ABC Foundation, in the municipalities of Ponta Grossa, PR (gleba 9 A), Castro, PR (gleba 8 A), Arapoti, PR (gleba 4 E) and Itaberá, SP (gleba 14 D).For the project conducted in Ponta Grossa, PR, in gleba 9 A, the soil of the experimental area is classified as LATOSSOLO VERMELHO Typical Distrófico, clayy texture, subtropical field phase, smooth undulating relief 1 (LVd1); the coordinates of the experimental area are of south latitude and western longitude, with 890 meters of altitude.For the project conducted in Castro, PR, on gleb 8 A, the coordinates of the experimental area are 24° 47' 21.46 south latitude and 49° 54' 11.08 west longitude, with 1010 meters of altitude.For the project conducted in Arapoti, PR, in gleba 4 E, the soil of the experimental area is classified as LATOSSOLO VERMELHO Distrófico typical, alico; the coordinates of the experimental area are of south latitude and western longitude, with 870 meters of altitude.For the project conducted in Itaberá, SP, on gleb 14 D, the soil of the experimental area is classified as dark red LATOSSOL; the coordinates of the experimental area are of south latitude and west longitude, with 730 meters of altitude.Physical and chemical analyses of the soils where the projects were installed can be seen in Table 1.What was the name of the research project conducted in Ponta Grossa?How many meters of altitude is the soil of the experimental area classified as LATOSSOLO VERMELHO?What is the classification of soils in the experimental area?What is the soil of the experimental area classified as LATOSOLO VERMELHO?What was the experimental area of the research project?How many meters of altitude is the soil of the experimental area classified as LATOSSOLO VERMELHO?What is the soil name of the experimental area of the research project?What is the classification of the soil of the experimental research area for the 2019/2020 summer harvest?How many meters of altitude is the soil of the experimental area classified as LATOSSOLO VERMELHO?What is the soil classification of the experimental area?\"]],\n",
       "      dtype=object)"
      ]
     },
     "execution_count": 3,
     "metadata": {},
     "output_type": "execute_result"
    }
   ],
   "source": [
    "from Model import Model\n",
    "model = Model()\n",
    "result = model.predict(X,None)\n",
    "result"
   ]
  }
 ],
 "metadata": {
  "celltoolbar": "Tags",
  "experiment_id": "e8cb4d06-3165-44d5-8cbc-7b9be0b9ef6d",
  "kernelspec": {
   "display_name": "Python 3",
   "language": "python",
   "name": "python3"
  },
  "language_info": {
   "codemirror_mode": {
    "name": "ipython",
    "version": 3
   },
   "file_extension": ".py",
   "mimetype": "text/x-python",
   "name": "python",
   "nbconvert_exporter": "python",
   "pygments_lexer": "ipython3",
   "version": "3.7.10"
  },
  "operator_id": "a6a2f8f7-c4eb-4dbe-aede-eaf75d45efb1",
  "task_id": "ed8fef7d-5469-45c3-9361-9edf001e6301"
 },
 "nbformat": 4,
 "nbformat_minor": 4
}
