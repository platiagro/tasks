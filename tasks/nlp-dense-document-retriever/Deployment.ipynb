{
 "cells": [
  {
   "cell_type": "markdown",
   "metadata": {},
   "source": [
    "# Dense Document Retriever - Implantação\n",
    "\n",
    "Ranqueia textos de acordo com um outro texto de entrada através do ranqueador DPR do hugginfaces.<br>\n",
    "### **Em caso de dúvidas, consulte os [tutoriais da PlatIAgro](https://platiagro.github.io/tutorials/).**"
   ]
  },
  {
   "cell_type": "markdown",
   "metadata": {},
   "source": [
    "## Declaração de Classe para Predições em Tempo Real\n",
    "\n",
    "A tarefa de implantação cria um serviço REST para predições em tempo-real.<br>\n",
    "Para isso você deve criar uma classe `Model` que implementa o método `predict`."
   ]
  },
  {
   "cell_type": "code",
   "execution_count": null,
   "metadata": {},
   "outputs": [],
   "source": [
    "%%writefile Model.py\n",
    "import json\n",
    "import joblib\n",
    "import pandas as pd\n",
    "import numpy as np\n",
    "from aux_functions import build_result_dataframe\n",
    "\n",
    "\n",
    "\n",
    "class Model:\n",
    "    \n",
    "    def __init__(self):\n",
    "        self.loaded = False\n",
    "    \n",
    "    def load(self):\n",
    "        artifacts = joblib.load(\"/tmp/data/sparse_retriever.joblib\")\n",
    "        self.model = artifacts[\"model\"]\n",
    "        self.question = artifacts[\"question\"]\n",
    "        self.top = artifacts[\"top\"]\n",
    "        self.inner_batch_size = artifacts[\"inner_batch_size\"]\n",
    "        self.columns = artifacts[\"columns\"]\n",
    "        self.column_context = artifacts[\"column_context\"]\n",
    "        self.column_score = artifacts[\"column_score\"]\n",
    "        self.column_doc_id = artifacts[\"column_doc_id\"]\n",
    "        self.loaded = True\n",
    "\n",
    "    def predict(self, X, feature_names, meta=None):\n",
    "        \n",
    "        if not self.loaded:\n",
    "            self.load()\n",
    "            \n",
    "        if not feature_names:\n",
    "            feature_names = self.columns\n",
    "            \n",
    "            \n",
    "            \n",
    "        question = meta[\"question\"] if meta else self.question\n",
    "        df = pd.DataFrame(X,columns = feature_names)\n",
    "        report_contexts = list(df[self.column_context])\n",
    "        \n",
    "        sim_contexts_ids, scores = self.model(questions=question,\n",
    "                                     passages = report_contexts,\n",
    "                                     inner_batch_size = self.inner_batch_size,\n",
    "                                     top = self.top)\n",
    "        \n",
    "        \n",
    "        df_result = build_result_dataframe(df_input=df,\n",
    "                            sim_contexts_ids=sim_contexts_ids[0],\n",
    "                            scores=scores,\n",
    "                            column_doc_id = self.column_doc_id,\n",
    "                            column_score = self.column_score)\n",
    "        \n",
    "        \n",
    "        return df.to_numpy() "
   ]
  },
  {
   "cell_type": "code",
   "execution_count": 3,
   "metadata": {},
   "outputs": [],
   "source": [
    "# import pandas as pd\n",
    "# df = pd.read_csv(\"/tmp/data/fabc-step3-7.csv\")\n",
    "# X = df.to_numpy()"
   ]
  },
  {
   "cell_type": "code",
   "execution_count": 5,
   "metadata": {},
   "outputs": [],
   "source": [
    "# from Model import Model\n",
    "# model = Model()\n",
    "# result = model.predict(X,None)\n",
    "# result"
   ]
  }
 ],
 "metadata": {
  "celltoolbar": "Tags",
  "experiment_id": "e8cb4d06-3165-44d5-8cbc-7b9be0b9ef6d",
  "kernelspec": {
   "display_name": "Python 3",
   "language": "python",
   "name": "python3"
  },
  "language_info": {
   "codemirror_mode": {
    "name": "ipython",
    "version": 3
   },
   "file_extension": ".py",
   "mimetype": "text/x-python",
   "name": "python",
   "nbconvert_exporter": "python",
   "pygments_lexer": "ipython3",
   "version": "3.7.10"
  },
  "operator_id": "a6a2f8f7-c4eb-4dbe-aede-eaf75d45efb1",
  "task_id": "ed8fef7d-5469-45c3-9361-9edf001e6301"
 },
 "nbformat": 4,
 "nbformat_minor": 4
}
