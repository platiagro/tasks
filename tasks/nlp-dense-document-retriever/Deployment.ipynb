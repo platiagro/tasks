{
 "cells": [
  {
   "cell_type": "markdown",
   "metadata": {},
   "source": [
    "# Dense Document Retriever - Implantação\n",
    "\n",
    "Ranqueia textos de acordo com um outro texto de entrada através do ranqueador DPR do hugginfaces.<br>\n",
    "### **Em caso de dúvidas, consulte os [tutoriais da PlatIAgro](https://platiagro.github.io/tutorials/).**"
   ]
  },
  {
   "cell_type": "markdown",
   "metadata": {},
   "source": [
    "## Declaração de Classe para Predições em Tempo Real\n",
    "\n",
    "A tarefa de implantação cria um serviço REST para predições em tempo-real.<br>\n",
    "Para isso você deve criar uma classe `Model` que implementa o método `predict`."
   ]
  },
  {
   "cell_type": "code",
   "execution_count": 1,
   "metadata": {},
   "outputs": [],
   "source": [
    "from model_dense_retriever import EnglishDPRRetriever"
   ]
  },
  {
   "cell_type": "code",
   "execution_count": 2,
   "metadata": {},
   "outputs": [
    {
     "name": "stdout",
     "output_type": "stream",
     "text": [
      "Overwriting Model.py\n"
     ]
    }
   ],
   "source": [
    "%%writefile Model.py\n",
    "import joblib\n",
    "import pandas as pd\n",
    "import numpy as np\n",
    "import json\n",
    "\n",
    "\n",
    "class Model:\n",
    "    \n",
    "    def __init__(self):\n",
    "        \n",
    "        artifacts = joblib.load(\"/tmp/data/sparse_retriever.joblib\")\n",
    "        self.model = artifacts[\"model\"]\n",
    "        self.report_contexts = artifacts[\"report_contexts\"]\n",
    "        self.inner_batch_size = artifacts[\"inner_batch_size\"]\n",
    "        self.top = artifacts[\"top\"]\n",
    "        \n",
    "        \n",
    "    \n",
    "    def build_result_dataframe(self, sim_contexts_ids,scores):\n",
    "        sim_contexts = [self.report_contexts[i] for i in sim_contexts_ids[0]]\n",
    "        df = pd.DataFrame({'doc_id':sim_contexts_ids[0],'score':scores[0],'context':sim_contexts})\n",
    "        df = df.sort_values(by=['score'], ascending=False).reset_index(drop=True)\n",
    "        return df\n",
    "\n",
    "    def predict(self, X, feature_names, meta=None):\n",
    "\n",
    "        question = X.copy()[0]\n",
    "        sim_contexts_ids,scores = self.model(question,self.report_contexts,self.inner_batch_size,self.top)\n",
    "        df = self.build_result_dataframe(sim_contexts_ids,scores)\n",
    "        df['question'] = [question]*len(scores[0])\n",
    "        return df.to_numpy() "
   ]
  },
  {
   "cell_type": "code",
   "execution_count": 3,
   "metadata": {},
   "outputs": [
    {
     "data": {
      "text/plain": [
       "array([[684, -2.7461817264556885,\n",
       "        ' 7. REFERÊNCIAS   BRIDGES, D.C. Benefits of Triazine Herbicides in Corn and Sorghum Production. In.: LEBARON, H.M.; McFARLAND, J.E. BURNSIDE, O.C. (Ed.). Triazine Herbicides  50 Years Revolutionizing Agriculture. San Diego: Elsevier, 2008. p. 163-174. FRANS, R.; TALBERT, R.; MARX, D.; CROWLEY, H. Experimental design and techniques for measuring and analysing plant responses to weed control practices. In.: CAMPER, N.D. (Ed.). Research methods in weed science. Third ed. USA SOUTHERN WEED SCIENCE SOCIETY, 1986. p. 29-46. FLUFENACET AND ISOXAFLUTOLE. Flufenacet is a synthetic compound of the oxyacetamide family... AgChem Access, 2012. Disponível em: < www.agchemaccess.com/Flufenacet_and_isoxaflutole>. GEIER, P.W.; STAHLMAN, P.W.; FRIHAUF, J.C. KIH-485 and S-metolachlor Efficacy Comparisons in Conventional and No-Tillage Corn. Weed Technology, v. 20, n. 3, p. 622-626, 2006. KING, S.R.; GARCIA, J.O. Annual Broadleaf Control with KIH-485 in Glyphosate-Resistant Furrow-Irrigated Corn. Weed Technology, v. 22, 2008. p. 420424. KUECHLER, T.; DUEFER, B.; RESSELER, H.; SCHULTE, M. Terbuthylazine in maize - a model example of product stewardship and safe use. Brit. Crop Prot. Conf. Proc., Glasgow Scotland UK, 2003. p. 953-958. MENBERE, H.; RITTER, R.L. Italian ryegrass control in wheat. University of Delaware Kent County Agricultural Extension, Delaware, 2007. Disponível em: <kentagextension.blogspot.com/2007/10/italian-ryegrass-control-in-wheat.html>. RITCHIE, S.; HANWAY, J.J. How a corn plant develops. Ames: Iowa State University of Science and Technology, Cooperative Extension Service, 1993. (Special Report n. 48). Disponível em: <www.biologie.uni-hamburg.de/b-online/library/maize/www.ag.iastate.edu/departments/agronomy/corngrows.html.> RODRIGUES, B. N.; ALMEIDA, F. S. Guia de herbicidas. 6. ed. Londrina: edição dos autores, 2011. 697 p. SEAB  Secretaria da Agricultura e do Abastecimento do Paraná. Provence 750 WG. 2010. 11 p. Disponível em: <www.seab.pr.gov.br/arquivos/File/defis/DFI/Bulas/Herbicidas/PROVEN-CE_750_WG.pdf>. SOCIEDADE BRASILEIRA DA CIÊNCIA DAS PLANTAS DANINHAS. Procedimentos para instalação, avaliação e análise de experimentos com herbicidas. Londrina: SBCPD, 1995. 42 p. STEELE, G.L.; PORPIGLIA, P.J.; CHANDLER, J.M. Efficacy of KIH-485 on Texas Panicum (Panicum texanum) and Selected Broadleaf Weeds in Corn. Weed Technology, v. 19, n. 4, p. 866-869, 2005. TANETANI, Y.; KAKU, K.; KAWAI, K.; FUJIOKA, T.; SHIMIZU, T. Action mechanism of a novel herbicide, pyroxasulfone. Pesticide Biochemistry and Physiology, n. 95, 2009. p. 4755.  TSUKAHARA, R. Y.; OLIVEIRA, A. N.. Sistema de Monitoramento Agrometeorológico do Grupo ABC: Análise Climática da Safra 2019/2020. 2019. Disponível em: <http://sma.fundacaoabc.org>. Acesso em: 01 jun. 2020.   ___________________________________  Eng. Agr. M.a Eliana F. Borsato Pesquisadora  Fundação ABC - Setor Herbologia  CREA PR - 88.829/D _________________________________________  Eng. Agr. M.e Luís Henrique Penckowski  Gerente Técnico de Pesquisa  Fundação ABC CREA PR - 47.856/D  ',\n",
       "        'What is the best weed herbicide?'],\n",
       "       [779, -3.4935457706451416,\n",
       "        ' 1.3 Palavras-Chave: fomesafen, lactofen, bentazon, mistura formulada',\n",
       "        'What is the best weed herbicide?'],\n",
       "       [207, -4.353143215179443,\n",
       "        ' 7. REFERÊNCIAS   BARROSO, A.L. de L.; FERREIRA FILHO, W.C.; MENEZES, C.C.E.; DAN, H.A.; DAN, L.G. de M.; MELO FILHO, L.C. Selectivity of nicosulfuron and atrazine on different corn hybrids. Comunicata Scientiae, v. 3, n. 4, p. 255-262, 2012. CRUZ, J.C.; PEREIRA FILHO, I.A.; SIMÃO, E. de P. 478 cultivares de milho estão disponíveis no mercado de sementes do Brasil para a safra 2014/2015. Sete Lagoas: Embrapa Milho e Sorgo, 2014. 35 p. KARAM, D.; OLIVEIRA, M.F. de. Seletividade de Herbicidas na Cultura do Milho. Sete Lagoas: Embrapa Milho e Sorgo, 2007. 8 p. (Circular Técnica, 98). FRANS, R.; TALBERT, R.; MARX, D.; CROWLEY, H. Experimental design and techniques for measuring and analysing plant responses to weed control practices. In.: CAMPER, N.D. (Ed.) Research methods in weed science. Third ed. USA SOUTHERN WEED SCIENCE SOCIETY, 1986. P. 29-46. LOPEZ-OVEJERO, R.F.; FANCELLI, A.L.; DOURADO-NETO, D.; GARCÍA y GARCÍA, A. CHRISTOFFOLETI, P.J. Seletividade de Herbicidas para a Cultura de Milho (Zea mays) Aplicados em Diferentes Estádios Fenológicos da Cultura. Planta Daninha, Viçosa, v. 21, n. 3, p. 413-419, 2003. OLIVEIRA JR., R. S. Mecanismo de ação de herbicidas. In: OLIVEIRA Jr, R.S.; CONSTANTIN, J. (Coord.). Plantas daninhas e seu manejo. Guaíba: Agropecuária, 2001. p. 209-260. TSUKAHARA, R. Y.; OLIVEIRA, A. N.; OLIVEIRA JUNIOR, J. I. de; FISCHER, P.; PRESTES NETO, J.; KOCHINSKI, E. G. Sistema de Monitoramento Agrometeorológico do Grupo ABC: Análise Climática da Safra de Verão 2017/2018. 2018. Disponível em: <http://sma.fundacaoabc.org>. Acesso em: 15 mai. 2018.          ____________________________ Eng. Agr. M.a Eliana F. Borsato Pesquisadora  Fundação ABC - Setor Herbologia  CREA PR - 88.829/D _____________________________ Eng. Agr. M.e Luís Henrique Penckowski Gerente Técnico de Pesquisa  Fundação ABC  CREA PR - 47.856/D  ',\n",
       "        'What is the best weed herbicide?'],\n",
       "       [542, -4.367135047912598,\n",
       "        ' 6. CONCLUSÕES   Nas condições em que o projeto de pesquisa foi desenvolvido pode-se concluir que:   Nas condições presentes para condução desse projeto de pesquisa, de solo com 38,8% de argila e médio teor de matéria orgânica (4,0%), os sintomas visuais de fitotoxicidade observados nos cultivares mais sensíveis foram caracterizados inicialmente por clorose, necrose e/ou paralisação do crescimento. Para os herbicidas Vezir, Spider e Prompt os sintomas de fitotoxicidade foram caracterizados por clorose nas folhas seguidos de redução no porte das plantas e para Heat foi observado necrose nas folhas mais velhas, também seguido de redução no porte das plantas.   * Os herbicidas Vezir (imazethapyr) na dose de 1,0 L.ha-1, Ponteiro BR (sulfentrazone) na dose de 1,0 L.ha-1, Heat (saflufenacil) na dose de 70 g.ha-1, Dual Gold (s-metolachlor) na dose de 1,5 L.ha-1, Prompt (imazethapyr+sulfentrazone) na dose de 0,5 L.ha-1, Zethamaxx (imazethapyr+flumioxazin) na dose de 0,5 L.ha-1, Stone (diuron+sulfentrazone) na dose de 1,4 L.ha-1 e o tratamento de Vezir+Dual Gold na dose de 1,0+1,0 L.ha-1, aplicados em pré-emergência (plante/aplique), foram seletivos para os cultivares de soja Brasmax Zeus IPRO, BS 1543 IPRO,                          FTR 1157 RR, CZ 15B64 IPRO, Brasmax Delta IPRO, FPS 1755 IPRO,                             TMG 7160 IPRO, Ho Jacutinga IPRO e NS 6601 IPRO;  * Para o cultivar Ho Jacutinga IPRO, a aplicação do herbicida Heat resultou em menor estande de plantas, porém sem reflexos na produtividade;    * O herbicida Spider (diclosulam) na dose de 42 g.ha-1, aplicado em pré-emergência (plante/aplique), foi seletivo para os cultivares Brasmax Zeus IPRO, FTR 1157 RR, CZ 15B64 IPRO, Brasmax Delta IPRO, FPS 1755 IPRO, TMG 7160 IPRO,                          Ho Jacutinga IPRO e NS 6601 IPRO.  * Para o cultivar BS 1543 IPRO, a aplicação do herbicida Spider reduziu a produtividade da soja em mais de 5%.           ',\n",
       "        'What is the best weed herbicide?'],\n",
       "       [157, -4.5966572761535645,\n",
       "        ' 7. REFERÊNCIAS   BARROSO, A.L. de L.; FERREIRA FILHO, W.C.; MENEZES, C.C.E.; DAN, H.A.; DAN, L.G. de M.; MELO FILHO, L.C. Selectivity of nicosulfuron and atrazine on different corn hybrids. Comunicata Scientiae, v. 3, n. 4, p. 255-262, 2012. CRUZ, J.C.; PEREIRA FILHO, I.A.; SIMÃO, E. de P. 478 cultivares de milho estão disponíveis no mercado de sementes do Brasil para a safra 2014/2015. Sete Lagoas: Embrapa Milho e Sorgo, 2014. 35 p. KARAM, D.; OLIVEIRA, M.F. de. Seletividade de Herbicidas na Cultura do Milho. Sete Lagoas: Embrapa Milho e Sorgo, 2007. 8 p. (Circular Técnica, 98). FRANS, R.; TALBERT, R.; MARX, D.; CROWLEY, H. Experimental design and techniques for measuring and analysing plant responses to weed control practices. In.: CAMPER, N.D. (Ed.) Research methods in weed science. Third ed. USA SOUTHERN WEED SCIENCE SOCIETY, 1986. P. 29-46. LOPEZ-OVEJERO, R.F.; FANCELLI, A.L.; DOURADO-NETO, D.; GARCÍA y GARCÍA, A. CHRISTOFFOLETI, P.J. Seletividade de Herbicidas para a Cultura de Milho (Zea mays) Aplicados em Diferentes Estádios Fenológicos da Cultura. Planta Daninha, Viçosa, v. 21, n. 3, p. 413-419, 2003. RITCHIE, S.; HANWAY, J.J. How a corn plant develops. Ames: Iowa State University of Science and Technology, Cooperative Extension Service, 1993. (Special Report n. 48). Disponível em: <www.biologie.uni-hamburg.de/b-online/library/maize/www.ag.iastate.edu/departments/agronomy/corngrows.html.> OLIVEIRA JR., R. S. Mecanismo de ação de herbicidas. In: OLIVEIRA Jr, R.S.; CONSTANTIN, J. (Coord.). Plantas daninhas e seu manejo. Guaíba: Agropecuária, 2001. p. 209-260. OLIVEIRA JR., R.S. de; INOUE, M.H. Seletividade de Herbicidas para Cultura e Plantas Daninhas. In.: OLIVEIRA JR., R.S. de; CONSTANTIN, J.; INOUE, M.H. (Ed.). Biologia e Manejo de Plantas Daninhas. Curitiba: OMNIPAX, 2011. p. 243-262. TSUKAHARA, R. Y.; OLIVEIRA, A. N.; OLIVEIRA JUNIOR, J. I. de; FISCHER, P.; PRESTES NETO, J.; KOCHINSKI, E. G. Sistema de Monitoramento Agrometeorológico do Grupo ABC: Análise Climática da Safra 2018/2019. 2019. Disponível em: <http://sma.fundacaoabc.org>. Acesso em: 10 jun. 2019.             ______________________________________  Eng. Agr. M.a Eliana F. Borsato Pesquisadora  Fundação ABC - Setor Herbologia  CREA PR - 88.829/D _______________________________________________  Eng. Agr. M.e Luís Henrique Penckowski  Gerente Técnico de Pesquisa  Fundação ABC CREA PR - 47.856/D  ',\n",
       "        'What is the best weed herbicide?'],\n",
       "       [835, -4.642037391662598,\n",
       "        ' 7. REFERÊNCIAS  BARELA, J.F. Seletividade de herbicidas para a cultura da cana-de-açúcar (Saccharum spp.) afetada pela interação com nematicidas aplicados no plantio. 2005. 82 f. Dissertação (Mestrado em Agronomia)  Escola Superior de Agricultura Luiz de Queiroz, Piracicaba, 2005. BARROSO, A.L. de L.; FERREIRA FILHO, W.C.; MENEZES, C.C.E.; DAN, H.A.; DAN, L.G. de M.; MELO FILHO, L.C. Selectivity of nicosulfuron and atrazine on different corn hybrids. Comunicata Scientiae, v. 3, n. 4, p. 255-262, 2012. FRANS, R.; TALBERT, R.; MARX, D.; CROWLEY, H. Experimental design and techniques for measuring and analysing plant responses to weed control practices. In.: CAMPER, N.D. (Ed.) Research methods in weed science. Third ed. USA SOUTHERN WEED SCIENCE SOCIETY, 1986. P. 29-46. LOPEZ-OVEJERO, R.F.; FANCELLI, A.L.; DOURADO-NETO, D.; GARCÍA y GARCÍA, A. CHRISTOFFOLETI, P.J. Seletividade de Herbicidas para a Cultura de Milho (Zea mays) Aplicados em Diferentes Estádios Fenológicos da Cultura. Planta Daninha, Viçosa, v. 21, n. 3, p. 413-419, 2003. KARAM, D.; OLIVEIRA, M.F. de. Seletividade de Herbicidas na Cultura do Milho. Sete Lagoas: Embrapa Milho e Sorgo, 2007. 8 p. (Circular Técnica, 98). NICOLAI, M.; CARVALHO, S.J.P. de; LÓPEZ-OVEJERO, R.F.; CHRISTOFFOLETI, P.J. Aplicação conjunta de herbicidas e inseticidas na cultura do milho. Bragantia, v. 65, n. 3, p. 413-420, 2006. RITCHIE, S.; HANWAY, J.J. How a corn plant develops. Ames: Iowa State University of Science and Technology, Cooperative Extension Service, 1993. (Special Report n. 48). Disponível em: <www.biologie.uni-hamburg.de/b-online/library/maize/www.ag.iastate.edu/departments/agronomy/corngrows.html.> OLIVEIRA JR., R. S. Mecanismo de ação de herbicidas. In: OLIVEIRA Jr, R.S.; CONSTANTIN, J. (Coord.). Plantas daninhas e seu manejo. Guaíba: Agropecuária, 2001. p. 209-260. OLIVEIRA JR., R.S. de; INOUE, M.H. Seletividade de Herbicidas para Cultura e Plantas Daninhas. In.: OLIVEIRA JR., R.S. de; CONSTANTIN, J.; INOUE, M.H. (Ed.). Biologia e Manejo de Plantas Daninhas. Curitiba: OMNIPAX, 2011. p. 243-262. TSUKAHARA, R. Y.; OLIVEIRA, A. N.. Sistema de Monitoramento Agrometeorológico do Grupo ABC: Análise Climática da Safra 2019/2020. 2020. Disponível em: <http://sma.fundacaoabc.org>. Acesso em: 01 jun. 2020.        _________________________________________  Eng. Agr. M.e Evandro H. G. Maschietto Pesquisador Fundação ABC - Setor Herbologia  CREA PR - 90.164/D __________________________________________  Eng. Agr. M.e Luís Henrique Penckowski  Gerente Técnico de Pesquisa  Fundação ABC CREA PR - 47.856/D   ',\n",
       "        'What is the best weed herbicide?'],\n",
       "       [741, -5.0713629722595215,\n",
       "        ' 7. REFERÊNCIAS   BARROSO, A.L. de L.; FERREIRA FILHO, W.C.; MENEZES, C.C.E.; DAN, H.A.; DAN, L.G. de M.; MELO FILHO, L.C. Selectivity of nicosulfuron and atrazine on different corn hybrids. Comunicata Scientiae, v. 3, n. 4, p. 255-262, 2012. KARAM, D.; OLIVEIRA, M.F. de. Seletividade de Herbicidas na Cultura do Milho. Sete Lagoas: Embrapa Milho e Sorgo, 2007. 8 p. (Circular Técnica, 98). FRANS, R.; TALBERT, R.; MARX, D.; CROWLEY, H. Experimental design and techniques for measuring and analysing plant responses to weed control practices. In.: CAMPER, N.D. (Ed.) Research methods in weed science. Third ed. USA SOUTHERN WEED SCIENCE SOCIETY, 1986. P. 29-46. LOPEZ-OVEJERO, R.F.; FANCELLI, A.L.; DOURADO-NETO, D.; GARCÍA y GARCÍA, A. CHRISTOFFOLETI, P.J. Seletividade de Herbicidas para a Cultura de Milho (Zea mays) Aplicados em Diferentes Estádios Fenológicos da Cultura. Planta Daninha, Viçosa, v. 21, n. 3, p. 413-419, 2003. RITCHIE, S.; HANWAY, J.J. How a corn plant develops. Ames: Iowa State University of Science and Technology, Cooperative Extension Service, 1993. (Special Report n. 48). Disponível em: <www.biologie.uni-hamburg.de/b-online/library/maize/www.ag.iastate.edu/departments/agronomy/corngrows.html.> OLIVEIRA JR., R. S. Mecanismo de ação de herbicidas. In: OLIVEIRA Jr, R.S.; CONSTANTIN, J. (Coord.). Plantas daninhas e seu manejo. Guaíba: Agropecuária, 2001. p. 209-260. OLIVEIRA JR., R.S. de; INOUE, M.H. Seletividade de Herbicidas para Cultura e Plantas Daninhas. In.: OLIVEIRA JR., R.S. de; CONSTANTIN, J.; INOUE, M.H. (Ed.). Biologia e Manejo de Plantas Daninhas. Curitiba: OMNIPAX, 2011. p. 243-262. TSUKAHARA, R. Y.; OLIVEIRA, A. N.. Sistema de Monitoramento Agrometeorológico do Grupo ABC: Análise Climática da Safra 2019/2020. 2019. Disponível em: <http://sma.fundacaoabc.org>. Acesso em: 01 jun. 2020.              _________________________________  Eng. Agr. M.a Eliana F. Borsato Pesquisadora  Fundação ABC - Setor Herbologia  CREA PR - 88.829/D _____________________________________  Eng. Agr. M.e Luís Henrique Penckowski  Gerente Técnico de Pesquisa  Fundação ABC CREA PR - 47.856/D  ',\n",
       "        'What is the best weed herbicide?'],\n",
       "       [869, -5.251038551330566, ' 5.5 ORS Agile  ',\n",
       "        'What is the best weed herbicide?'],\n",
       "       [1333, -5.699102401733398,\n",
       "        ' 7. REFERÊNCIAS   BOLLMAN, J.D.; BOERBOOM, C.M.; BECKER, R.L.; FRITZ, V.A. Efficacy and Tolerance to HPPD-Inhibiting Herbicides in Sweet Corn. Weed Technology. v. 22, n. 4, 2008. BRIDGES, D.C. Benefits of Triazine Herbicides in Corn and Sorghum Production. In.: LEBARON, H.M.; McFARLAND, J.E. BURNSIDE, O.C. (Ed.). Triazine Herbicides  50 Years Revolutionizing Agriculture. San Diego: Elsevier, 2008. p. 163-174. FRANS, R.; TALBERT, R.; MARX, D.; CROWLEY, H. Experimental design and techniques for measuring and analysing plant responses to weed control practices. In.: CAMPER, N.D. (Ed.) Research methods in weed science. Third ed. USA SOUTHERN WEED SCIENCE SOCIETY, 1986. P. 29-46. GROSSMANN, K.; EHRHARDT, T. On the mechanism of action and selectivity of the corn herbicide topramezone: a new inhibitor of 4-hydroxyphenylpyruvate dioxygenase. Pest Management Science, v. 63, n. 3, p. 429-439, 2007. KARAM, D. RIZZARDI, M.A.; CRUZ, M.B. da. Manejo e controle de plantas daninhas em milho e em sorgo. In.: VARGAS, L.; ROMAN, E.S. Manual de manejo e controle de plantas daninhas. Passo Fundo: Embrapa Trigo, 2008. p. 659-680. RITCHIE, S.; HANWAY, J.J. How a corn plant develops. Ames: Iowa State University of Science and Technology, Cooperative Extension Service, 1993. (Special Report n. 48). Disponível em: <www.biologie.uni-hamburg.de/b-online/library/maize/www.ag.iastate.edu/departments/agronomy/corngrows.html.> SOCIEDADE BRASILEIRA DA CIÊNCIA DAS PLANTAS DANINHAS. Procedimentos para instalação, avaliação e análise de experimentos com herbicidas. Londrina: SBCPD, 1995. 42 p. TOCCHETTO, S.; CHRISTOFFOLETI, P.J.; MAROCHI, A.I.; GALLI, A.J.B.; LOPEZ-OVEJERO, R.F. Resistência da planta daninha azevém (Lolium multiflorum Lam) ao herbicida glyphosate na região sul do Brasil. In: CONGRESSO BRASILEIRO DA CIÊNCIA DAS PLANTAS DANINHAS, 24. São Pedro. Anais... São Pedro: Sociedade Brasileira da Ciência das Plantas Daninhas, 2004. CD-ROM. (Arquivo 496). TSUKAHARA, R. Y.; OLIVEIRA, A. N.. Sistema de Monitoramento Agrometeorológico do Grupo ABC: Análise Climática da Safra 2019/2020. 2019. Disponível em: <http://sma.fundacaoabc.org>. Acesso em: 01 jun. 2020. VARGAS, L. Azevém resistente ao glyphosate: características e manejo. Agapomi, Vacaria, 177 ed. 2009.  Disponível em: <www.agapomi.com.br/jornal.php?noticia=90>. VARGAS, L.; PEIXOTO, C. M.; ROMAN, E. S. Manejo de plantas daninhas na cultura do milho. Passo Fundo: Embrapa Trigo, 2006. 20 p. (Documentos Online, 61). Disponível em: <www.cnpt.embrapa.br/biblio/do/p_do61.htm>.         _________________________________  Eng. Agr. M.a Eliana F. Borsato Pesquisadora  Fundação ABC - Setor Herbologia  CREA PR - 88.829/D _____________________________________  Eng. Agr. M.e Luís Henrique Penckowski  Gerente Técnico de Pesquisa  Fundação ABC CREA PR - 47.856/D  ',\n",
       "        'What is the best weed herbicide?'],\n",
       "       [1374, -5.825028419494629,\n",
       "        ' 1.3 Palavras-Chave: mistura formulada, fitotoxicidade, triazina, tricetona ',\n",
       "        'What is the best weed herbicide?']], dtype=object)"
      ]
     },
     "execution_count": 3,
     "metadata": {},
     "output_type": "execute_result"
    }
   ],
   "source": [
    "from Model import Model\n",
    "model = Model()\n",
    "model.predict([\"What is the best weed herbicide?\"],None)"
   ]
  }
 ],
 "metadata": {
  "celltoolbar": "Tags",
  "experiment_id": "e8cb4d06-3165-44d5-8cbc-7b9be0b9ef6d",
  "kernelspec": {
   "display_name": "Python 3",
   "language": "python",
   "name": "python3"
  },
  "language_info": {
   "codemirror_mode": {
    "name": "ipython",
    "version": 3
   },
   "file_extension": ".py",
   "mimetype": "text/x-python",
   "name": "python",
   "nbconvert_exporter": "python",
   "pygments_lexer": "ipython3",
   "version": "3.7.10"
  },
  "operator_id": "a6a2f8f7-c4eb-4dbe-aede-eaf75d45efb1",
  "task_id": "ed8fef7d-5469-45c3-9361-9edf001e6301"
 },
 "nbformat": 4,
 "nbformat_minor": 4
}
